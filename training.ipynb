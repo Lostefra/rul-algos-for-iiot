{
 "cells": [
  {
   "cell_type": "markdown",
   "id": "0d267c5c",
   "metadata": {},
   "source": [
    "# Training"
   ]
  },
  {
   "cell_type": "code",
   "execution_count": 1,
   "id": "893fb328",
   "metadata": {},
   "outputs": [],
   "source": [
    "# Prediction margin: the only parameter to set. Recommended: margin in {5, 10, 15, 20} (aka 0.5, 1, 1.5, 2 seconds)\n",
    "margin = 5"
   ]
  },
  {
   "cell_type": "markdown",
   "id": "3df02c22",
   "metadata": {},
   "source": [
    "## Import libraries and define utility functions"
   ]
  },
  {
   "cell_type": "code",
   "execution_count": 2,
   "id": "d3375203",
   "metadata": {},
   "outputs": [],
   "source": [
    "import pandas as pd\n",
    "import numpy as np\n",
    "import sys\n",
    "import random\n",
    "import pickle\n",
    "import matplotlib.pyplot as plt\n",
    "from sklearn.preprocessing import StandardScaler\n",
    "from math import floor\n",
    "from tensorflow import keras\n",
    "from tensorflow.keras import layers, callbacks\n",
    "import tensorflow as tf"
   ]
  },
  {
   "cell_type": "code",
   "execution_count": 3,
   "id": "6134da76",
   "metadata": {},
   "outputs": [
    {
     "name": "stdout",
     "output_type": "stream",
     "text": [
      "Num GPUs Available: 2\n"
     ]
    }
   ],
   "source": [
    "# If you have more than one GPU in your system, the GPU with the lowest ID will be selected by default.\n",
    "# https://www.tensorflow.org/guide/gpu#using_a_single_gpu_on_a_multi-gpu_system\n",
    "print(\"Num GPUs Available:\", len(tf.config.list_physical_devices('GPU')))"
   ]
  },
  {
   "cell_type": "code",
   "execution_count": 4,
   "id": "c34a05dd",
   "metadata": {},
   "outputs": [],
   "source": [
    "mean = lambda l: sum(l) / len(l)"
   ]
  },
  {
   "cell_type": "code",
   "execution_count": 5,
   "id": "7bf3b3b8",
   "metadata": {},
   "outputs": [],
   "source": [
    "def serialize_perf(model_name, seed, columns_name, training_columns, params, params_idx, \n",
    "                   history, best_cost, best_thr, all_cost, all_thr, perf):\n",
    "    f_path = results_path + model_name + \"-\" + columns_name + \"-s\" + str(seed) + \"-p\" + str(params_idx)\n",
    "    to_serialize = (training_columns, params, history, best_cost, best_thr, all_cost, all_thr, perf)\n",
    "    with open(f_path, \"wb\") as file:\n",
    "        pickle.dump(to_serialize, file)"
   ]
  },
  {
   "cell_type": "markdown",
   "id": "a5b3b931",
   "metadata": {},
   "source": [
    "#### Set up global variables"
   ]
  },
  {
   "cell_type": "code",
   "execution_count": 6,
   "id": "e0d48c12",
   "metadata": {},
   "outputs": [],
   "source": [
    "pd.set_option('display.float_format', lambda x: '%.4f' % x)"
   ]
  },
  {
   "cell_type": "code",
   "execution_count": 7,
   "id": "19b1f7e7",
   "metadata": {},
   "outputs": [],
   "source": [
    "results_path = \"results_\" + str(margin) + \"/\"\n",
    "models_path = \"models_\" + str(margin) + \"/\"\n",
    "seeds = [100, 200, 300]\n",
    "\n",
    "def set_determinism(seed):\n",
    "    tf.keras.utils.set_random_seed(seed)\n",
    "    tf.config.experimental.enable_op_determinism()"
   ]
  },
  {
   "cell_type": "code",
   "execution_count": 8,
   "id": "c472a1f8",
   "metadata": {},
   "outputs": [],
   "source": [
    "patience = 100\n",
    "epochs = 1500\n",
    "batch_size = 32\n",
    "learning_rate = 0.0001\n",
    "validation_split = 0.2"
   ]
  },
  {
   "cell_type": "code",
   "execution_count": 9,
   "id": "2945999a",
   "metadata": {},
   "outputs": [],
   "source": [
    "w5_features_no_diff = [\n",
    " 'Gz_mean_w5',\n",
    " 'Ax_mean_w5',\n",
    " 'Ay_mean_w5',\n",
    " 'Gz_std_w5',\n",
    " 'Ax_std_w5',\n",
    " 'Ay_std_w5',\n",
    " 'Gz_min_w5',\n",
    " 'Ax_min_w5',\n",
    " 'Ay_min_w5',\n",
    " 'Gz_max_w5',\n",
    " 'Ax_max_w5',\n",
    " 'Ay_max_w5'\n",
    "]\n",
    "\n",
    "w5_features_diff = [\n",
    " 'differencing_Gz_mean_w5',\n",
    " 'differencing_Ax_mean_w5',\n",
    " 'differencing_Ay_mean_w5',\n",
    " 'differencing_Gz_std_w5',\n",
    " 'differencing_Ax_std_w5',\n",
    " 'differencing_Ay_std_w5',\n",
    " 'differencing_Gz_min_w5',\n",
    " 'differencing_Ax_min_w5',\n",
    " 'differencing_Ay_min_w5',\n",
    " 'differencing_Gz_max_w5',\n",
    " 'differencing_Ax_max_w5',\n",
    " 'differencing_Ay_max_w5',\n",
    "]\n",
    "\n",
    "w10_features_no_diff = [\n",
    " 'Gz_mean_w10',\n",
    " 'Ax_mean_w10',\n",
    " 'Ay_mean_w10',\n",
    " 'Gz_std_w10',\n",
    " 'Ax_std_w10',\n",
    " 'Ay_std_w10',\n",
    " 'Gz_min_w10',\n",
    " 'Ax_min_w10',\n",
    " 'Ay_min_w10',\n",
    " 'Gz_max_w10',\n",
    " 'Ax_max_w10',\n",
    " 'Ay_max_w10'\n",
    "]\n",
    "\n",
    "w10_features_diff = [\n",
    " 'differencing_Gz_mean_w10',\n",
    " 'differencing_Ax_mean_w10',\n",
    " 'differencing_Ay_mean_w10',\n",
    " 'differencing_Gz_std_w10',\n",
    " 'differencing_Ax_std_w10',\n",
    " 'differencing_Ay_std_w10',\n",
    " 'differencing_Gz_min_w10',\n",
    " 'differencing_Ax_min_w10',\n",
    " 'differencing_Ay_min_w10',\n",
    " 'differencing_Gz_max_w10',\n",
    " 'differencing_Ax_max_w10',\n",
    " 'differencing_Ay_max_w10'\n",
    "]\n",
    "\n",
    "w15_features_no_diff = [\n",
    " 'Gz_mean_w15',\n",
    " 'Ax_mean_w15',\n",
    " 'Ay_mean_w15',\n",
    " 'Gz_std_w15',\n",
    " 'Ax_std_w15',\n",
    " 'Ay_std_w15',\n",
    " 'Gz_min_w15',\n",
    " 'Ax_min_w15',\n",
    " 'Ay_min_w15',\n",
    " 'Gz_max_w15',\n",
    " 'Ax_max_w15',\n",
    " 'Ay_max_w15'\n",
    "]\n",
    "\n",
    "w15_features_diff = [\n",
    " 'differencing_Gz_mean_w15',\n",
    " 'differencing_Ax_mean_w15',\n",
    " 'differencing_Ay_mean_w15',\n",
    " 'differencing_Gz_std_w15',\n",
    " 'differencing_Ax_std_w15',\n",
    " 'differencing_Ay_std_w15',\n",
    " 'differencing_Gz_min_w15',\n",
    " 'differencing_Ax_min_w15',\n",
    " 'differencing_Ay_min_w15',\n",
    " 'differencing_Gz_max_w15',\n",
    " 'differencing_Ax_max_w15',\n",
    " 'differencing_Ay_max_w15'\n",
    "]\n",
    "\n",
    "w20_features_no_diff = [\n",
    " 'Gz_mean_w20',\n",
    " 'Ax_mean_w20',\n",
    " 'Ay_mean_w20',\n",
    " 'Gz_std_w20',\n",
    " 'Ax_std_w20',\n",
    " 'Ay_std_w20',\n",
    " 'Gz_min_w20',\n",
    " 'Ax_min_w20',\n",
    " 'Ay_min_w20',\n",
    " 'Gz_max_w20',\n",
    " 'Ax_max_w20',\n",
    " 'Ay_max_w20'\n",
    "]\n",
    "\n",
    "w20_features_diff = [\n",
    " 'differencing_Gz_mean_w20',\n",
    " 'differencing_Ax_mean_w20',\n",
    " 'differencing_Ay_mean_w20',\n",
    " 'differencing_Gz_std_w20',\n",
    " 'differencing_Ax_std_w20',\n",
    " 'differencing_Ay_std_w20',\n",
    " 'differencing_Gz_min_w20',\n",
    " 'differencing_Ax_min_w20',\n",
    " 'differencing_Ay_min_w20',\n",
    " 'differencing_Gz_max_w20',\n",
    " 'differencing_Ax_max_w20',\n",
    " 'differencing_Ay_max_w20',\n",
    "]\n",
    "\n",
    "features = {\n",
    "    \"all_features\": w5_features_no_diff + w10_features_no_diff + w15_features_no_diff + w20_features_no_diff + w5_features_diff + w10_features_diff + w15_features_diff + w20_features_diff + ['label'], \n",
    "    \"w5_features\": w5_features_no_diff + w5_features_diff + ['label'], \n",
    "    \"w10_features\": w10_features_no_diff + w10_features_diff + ['label'], \n",
    "    \"w15_features\": w15_features_no_diff + w15_features_diff + ['label'], \n",
    "    \"w20_features\": w20_features_no_diff + w20_features_diff + ['label'], \n",
    "    \"no_diff_features\": w5_features_no_diff + w10_features_no_diff + w15_features_no_diff + w20_features_no_diff + ['label'], \n",
    "    \"diff_features\": w5_features_diff + w10_features_diff + w15_features_diff + w20_features_diff + ['label']\n",
    "}"
   ]
  },
  {
   "cell_type": "markdown",
   "id": "c2be90c9",
   "metadata": {},
   "source": [
    "#### Data import"
   ]
  },
  {
   "cell_type": "code",
   "execution_count": 10,
   "id": "8bdea77b",
   "metadata": {},
   "outputs": [],
   "source": [
    "df = pd.read_csv(\"data/train/training_\" + str(margin) + \".csv\", index_col=[0])"
   ]
  },
  {
   "cell_type": "code",
   "execution_count": 11,
   "id": "967ad76e",
   "metadata": {},
   "outputs": [
    {
     "name": "stdout",
     "output_type": "stream",
     "text": [
      "33330 rows in the dataset\n",
      "Index(['Gz', 'Ax', 'Ay', 'Gz_diff', 'Ax_diff', 'Ay_diff', 'Gz_mean_w5',\n",
      "       'Ax_mean_w5', 'Ay_mean_w5', 'Gz_std_w5',\n",
      "       ...\n",
      "       'differencing_Ay_std_w20', 'differencing_Gz_min_w20',\n",
      "       'differencing_Ax_min_w20', 'differencing_Ay_min_w20',\n",
      "       'differencing_Gz_max_w20', 'differencing_Ax_max_w20',\n",
      "       'differencing_Ay_max_w20', 'orient_discr', 'POSy_discr', 'label'],\n",
      "      dtype='object', length=114)\n"
     ]
    },
    {
     "data": {
      "text/html": [
       "<div>\n",
       "<style scoped>\n",
       "    .dataframe tbody tr th:only-of-type {\n",
       "        vertical-align: middle;\n",
       "    }\n",
       "\n",
       "    .dataframe tbody tr th {\n",
       "        vertical-align: top;\n",
       "    }\n",
       "\n",
       "    .dataframe thead th {\n",
       "        text-align: right;\n",
       "    }\n",
       "</style>\n",
       "<table border=\"1\" class=\"dataframe\">\n",
       "  <thead>\n",
       "    <tr style=\"text-align: right;\">\n",
       "      <th></th>\n",
       "      <th>Gz</th>\n",
       "      <th>Ax</th>\n",
       "      <th>Ay</th>\n",
       "      <th>Gz_diff</th>\n",
       "      <th>Ax_diff</th>\n",
       "      <th>Ay_diff</th>\n",
       "      <th>Gz_mean_w5</th>\n",
       "      <th>Ax_mean_w5</th>\n",
       "      <th>Ay_mean_w5</th>\n",
       "      <th>Gz_std_w5</th>\n",
       "      <th>...</th>\n",
       "      <th>differencing_Ay_std_w20</th>\n",
       "      <th>differencing_Gz_min_w20</th>\n",
       "      <th>differencing_Ax_min_w20</th>\n",
       "      <th>differencing_Ay_min_w20</th>\n",
       "      <th>differencing_Gz_max_w20</th>\n",
       "      <th>differencing_Ax_max_w20</th>\n",
       "      <th>differencing_Ay_max_w20</th>\n",
       "      <th>orient_discr</th>\n",
       "      <th>POSy_discr</th>\n",
       "      <th>label</th>\n",
       "    </tr>\n",
       "  </thead>\n",
       "  <tbody>\n",
       "    <tr>\n",
       "      <th>count</th>\n",
       "      <td>33330.0000</td>\n",
       "      <td>33330.0000</td>\n",
       "      <td>33330.0000</td>\n",
       "      <td>33330.0000</td>\n",
       "      <td>33330.0000</td>\n",
       "      <td>33330.0000</td>\n",
       "      <td>33330.0000</td>\n",
       "      <td>33330.0000</td>\n",
       "      <td>33330.0000</td>\n",
       "      <td>33330.0000</td>\n",
       "      <td>...</td>\n",
       "      <td>33330.0000</td>\n",
       "      <td>33330.0000</td>\n",
       "      <td>33330.0000</td>\n",
       "      <td>33330.0000</td>\n",
       "      <td>33330.0000</td>\n",
       "      <td>33330.0000</td>\n",
       "      <td>33330.0000</td>\n",
       "      <td>33330.0000</td>\n",
       "      <td>33330.0000</td>\n",
       "      <td>33330.0000</td>\n",
       "    </tr>\n",
       "    <tr>\n",
       "      <th>mean</th>\n",
       "      <td>-0.0000</td>\n",
       "      <td>-0.0000</td>\n",
       "      <td>0.0000</td>\n",
       "      <td>-0.0000</td>\n",
       "      <td>-0.0000</td>\n",
       "      <td>-0.0000</td>\n",
       "      <td>-0.0000</td>\n",
       "      <td>0.0000</td>\n",
       "      <td>-0.0000</td>\n",
       "      <td>-0.0000</td>\n",
       "      <td>...</td>\n",
       "      <td>0.0000</td>\n",
       "      <td>0.0000</td>\n",
       "      <td>0.0000</td>\n",
       "      <td>-0.0000</td>\n",
       "      <td>-0.0000</td>\n",
       "      <td>0.0000</td>\n",
       "      <td>-0.0000</td>\n",
       "      <td>-0.0071</td>\n",
       "      <td>25.0268</td>\n",
       "      <td>693.7214</td>\n",
       "    </tr>\n",
       "    <tr>\n",
       "      <th>std</th>\n",
       "      <td>1.0000</td>\n",
       "      <td>1.0000</td>\n",
       "      <td>1.0000</td>\n",
       "      <td>1.0000</td>\n",
       "      <td>1.0000</td>\n",
       "      <td>1.0000</td>\n",
       "      <td>1.0000</td>\n",
       "      <td>1.0000</td>\n",
       "      <td>1.0000</td>\n",
       "      <td>1.0000</td>\n",
       "      <td>...</td>\n",
       "      <td>1.0000</td>\n",
       "      <td>1.0000</td>\n",
       "      <td>1.0000</td>\n",
       "      <td>1.0000</td>\n",
       "      <td>1.0000</td>\n",
       "      <td>1.0000</td>\n",
       "      <td>1.0000</td>\n",
       "      <td>0.9003</td>\n",
       "      <td>3.6446</td>\n",
       "      <td>486.4557</td>\n",
       "    </tr>\n",
       "    <tr>\n",
       "      <th>min</th>\n",
       "      <td>-3.5910</td>\n",
       "      <td>-9.4163</td>\n",
       "      <td>-6.6125</td>\n",
       "      <td>-8.9902</td>\n",
       "      <td>-8.4056</td>\n",
       "      <td>-6.2725</td>\n",
       "      <td>-3.1130</td>\n",
       "      <td>-8.1356</td>\n",
       "      <td>-4.8702</td>\n",
       "      <td>-0.9338</td>\n",
       "      <td>...</td>\n",
       "      <td>-4.0650</td>\n",
       "      <td>-3.9135</td>\n",
       "      <td>-11.6564</td>\n",
       "      <td>-7.0140</td>\n",
       "      <td>-5.2250</td>\n",
       "      <td>-3.2843</td>\n",
       "      <td>-3.8547</td>\n",
       "      <td>-1.0000</td>\n",
       "      <td>20.1000</td>\n",
       "      <td>0.0000</td>\n",
       "    </tr>\n",
       "    <tr>\n",
       "      <th>25%</th>\n",
       "      <td>-0.5174</td>\n",
       "      <td>-0.3436</td>\n",
       "      <td>-0.5260</td>\n",
       "      <td>-0.2134</td>\n",
       "      <td>-0.4330</td>\n",
       "      <td>-0.4971</td>\n",
       "      <td>-0.5244</td>\n",
       "      <td>-0.3965</td>\n",
       "      <td>-0.6088</td>\n",
       "      <td>-0.6870</td>\n",
       "      <td>...</td>\n",
       "      <td>-0.5792</td>\n",
       "      <td>-0.4764</td>\n",
       "      <td>-0.4117</td>\n",
       "      <td>-0.5304</td>\n",
       "      <td>-0.3900</td>\n",
       "      <td>-0.6150</td>\n",
       "      <td>-0.6252</td>\n",
       "      <td>-1.0000</td>\n",
       "      <td>21.1000</td>\n",
       "      <td>297.0000</td>\n",
       "    </tr>\n",
       "    <tr>\n",
       "      <th>50%</th>\n",
       "      <td>-0.2785</td>\n",
       "      <td>0.0458</td>\n",
       "      <td>-0.0226</td>\n",
       "      <td>0.0175</td>\n",
       "      <td>0.0045</td>\n",
       "      <td>0.0034</td>\n",
       "      <td>-0.2717</td>\n",
       "      <td>0.0523</td>\n",
       "      <td>-0.0462</td>\n",
       "      <td>-0.4343</td>\n",
       "      <td>...</td>\n",
       "      <td>-0.0641</td>\n",
       "      <td>0.0808</td>\n",
       "      <td>0.0600</td>\n",
       "      <td>0.0726</td>\n",
       "      <td>0.0148</td>\n",
       "      <td>-0.1864</td>\n",
       "      <td>-0.1131</td>\n",
       "      <td>0.0000</td>\n",
       "      <td>25.6000</td>\n",
       "      <td>603.5000</td>\n",
       "    </tr>\n",
       "    <tr>\n",
       "      <th>75%</th>\n",
       "      <td>0.6446</td>\n",
       "      <td>0.5491</td>\n",
       "      <td>0.5568</td>\n",
       "      <td>0.2488</td>\n",
       "      <td>0.4305</td>\n",
       "      <td>0.4885</td>\n",
       "      <td>0.6691</td>\n",
       "      <td>0.6927</td>\n",
       "      <td>0.5950</td>\n",
       "      <td>0.3711</td>\n",
       "      <td>...</td>\n",
       "      <td>0.5184</td>\n",
       "      <td>0.3879</td>\n",
       "      <td>0.4545</td>\n",
       "      <td>0.6099</td>\n",
       "      <td>0.5372</td>\n",
       "      <td>0.4121</td>\n",
       "      <td>0.5416</td>\n",
       "      <td>1.0000</td>\n",
       "      <td>28.9000</td>\n",
       "      <td>1003.0000</td>\n",
       "    </tr>\n",
       "    <tr>\n",
       "      <th>max</th>\n",
       "      <td>2.6170</td>\n",
       "      <td>4.2651</td>\n",
       "      <td>6.0183</td>\n",
       "      <td>9.0084</td>\n",
       "      <td>8.7169</td>\n",
       "      <td>7.9005</td>\n",
       "      <td>2.0682</td>\n",
       "      <td>2.3163</td>\n",
       "      <td>4.9736</td>\n",
       "      <td>7.5768</td>\n",
       "      <td>...</td>\n",
       "      <td>5.6213</td>\n",
       "      <td>4.0389</td>\n",
       "      <td>4.2209</td>\n",
       "      <td>3.8696</td>\n",
       "      <td>3.9312</td>\n",
       "      <td>5.3200</td>\n",
       "      <td>6.0086</td>\n",
       "      <td>1.0000</td>\n",
       "      <td>29.2000</td>\n",
       "      <td>2079.0000</td>\n",
       "    </tr>\n",
       "  </tbody>\n",
       "</table>\n",
       "<p>8 rows × 114 columns</p>\n",
       "</div>"
      ],
      "text/plain": [
       "              Gz         Ax         Ay    Gz_diff    Ax_diff    Ay_diff  \\\n",
       "count 33330.0000 33330.0000 33330.0000 33330.0000 33330.0000 33330.0000   \n",
       "mean     -0.0000    -0.0000     0.0000    -0.0000    -0.0000    -0.0000   \n",
       "std       1.0000     1.0000     1.0000     1.0000     1.0000     1.0000   \n",
       "min      -3.5910    -9.4163    -6.6125    -8.9902    -8.4056    -6.2725   \n",
       "25%      -0.5174    -0.3436    -0.5260    -0.2134    -0.4330    -0.4971   \n",
       "50%      -0.2785     0.0458    -0.0226     0.0175     0.0045     0.0034   \n",
       "75%       0.6446     0.5491     0.5568     0.2488     0.4305     0.4885   \n",
       "max       2.6170     4.2651     6.0183     9.0084     8.7169     7.9005   \n",
       "\n",
       "       Gz_mean_w5  Ax_mean_w5  Ay_mean_w5  Gz_std_w5  ...  \\\n",
       "count  33330.0000  33330.0000  33330.0000 33330.0000  ...   \n",
       "mean      -0.0000      0.0000     -0.0000    -0.0000  ...   \n",
       "std        1.0000      1.0000      1.0000     1.0000  ...   \n",
       "min       -3.1130     -8.1356     -4.8702    -0.9338  ...   \n",
       "25%       -0.5244     -0.3965     -0.6088    -0.6870  ...   \n",
       "50%       -0.2717      0.0523     -0.0462    -0.4343  ...   \n",
       "75%        0.6691      0.6927      0.5950     0.3711  ...   \n",
       "max        2.0682      2.3163      4.9736     7.5768  ...   \n",
       "\n",
       "       differencing_Ay_std_w20  differencing_Gz_min_w20  \\\n",
       "count               33330.0000               33330.0000   \n",
       "mean                    0.0000                   0.0000   \n",
       "std                     1.0000                   1.0000   \n",
       "min                    -4.0650                  -3.9135   \n",
       "25%                    -0.5792                  -0.4764   \n",
       "50%                    -0.0641                   0.0808   \n",
       "75%                     0.5184                   0.3879   \n",
       "max                     5.6213                   4.0389   \n",
       "\n",
       "       differencing_Ax_min_w20  differencing_Ay_min_w20  \\\n",
       "count               33330.0000               33330.0000   \n",
       "mean                    0.0000                  -0.0000   \n",
       "std                     1.0000                   1.0000   \n",
       "min                   -11.6564                  -7.0140   \n",
       "25%                    -0.4117                  -0.5304   \n",
       "50%                     0.0600                   0.0726   \n",
       "75%                     0.4545                   0.6099   \n",
       "max                     4.2209                   3.8696   \n",
       "\n",
       "       differencing_Gz_max_w20  differencing_Ax_max_w20  \\\n",
       "count               33330.0000               33330.0000   \n",
       "mean                   -0.0000                   0.0000   \n",
       "std                     1.0000                   1.0000   \n",
       "min                    -5.2250                  -3.2843   \n",
       "25%                    -0.3900                  -0.6150   \n",
       "50%                     0.0148                  -0.1864   \n",
       "75%                     0.5372                   0.4121   \n",
       "max                     3.9312                   5.3200   \n",
       "\n",
       "       differencing_Ay_max_w20  orient_discr  POSy_discr      label  \n",
       "count               33330.0000    33330.0000  33330.0000 33330.0000  \n",
       "mean                   -0.0000       -0.0071     25.0268   693.7214  \n",
       "std                     1.0000        0.9003      3.6446   486.4557  \n",
       "min                    -3.8547       -1.0000     20.1000     0.0000  \n",
       "25%                    -0.6252       -1.0000     21.1000   297.0000  \n",
       "50%                    -0.1131        0.0000     25.6000   603.5000  \n",
       "75%                     0.5416        1.0000     28.9000  1003.0000  \n",
       "max                     6.0086        1.0000     29.2000  2079.0000  \n",
       "\n",
       "[8 rows x 114 columns]"
      ]
     },
     "execution_count": 11,
     "metadata": {},
     "output_type": "execute_result"
    }
   ],
   "source": [
    "print(len(df), \"rows in the dataset\")\n",
    "print(df.columns)\n",
    "df.describe()"
   ]
  },
  {
   "cell_type": "markdown",
   "id": "e5765f47",
   "metadata": {},
   "source": [
    "# Machine learning: training phase"
   ]
  },
  {
   "cell_type": "markdown",
   "id": "d279553f",
   "metadata": {},
   "source": [
    "## Dataset preprocessing for machine learning models\n",
    "\n",
    "In this section, RUL labels are converted to binary labels (`0/1`, namely `not_fault/fault`) in order to perform classification instead of regression.\n",
    "\n",
    "For the `AutoEncoder` model, the dataset is partitioned such that the training set does not contain faults or samples which anticipate a fault. In other words, each sample must be compliant with the `good_samples_thr` threshold.\n",
    "\n",
    "We basically need an entire section of dataset where faults are not present."
   ]
  },
  {
   "cell_type": "code",
   "execution_count": 12,
   "id": "d19cf5c1",
   "metadata": {},
   "outputs": [],
   "source": [
    "def build_dataset_for_ml_model(df, training_columns, split_size=0.75, as_list=False, ae=False):\n",
    "    dfs = []\n",
    "    df_main = df[training_columns]\n",
    "    fault_indexes = df_main.index[df_main[\"label\"] == 0].tolist() # list of indexes representing faults\n",
    "    good_samples_thr = margin * 2\n",
    "    \n",
    "    previous = 0\n",
    "    for fi in fault_indexes:\n",
    "        dfs.append(df_main.iloc[previous:fi+1, :])\n",
    "        previous = fi + 1\n",
    "    \n",
    "    rnd_list = list(range(len(dfs)))\n",
    "    \n",
    "    # If split_size is 1, there will be no val/test set\n",
    "    train_size = floor(len(dfs) * split_size)\n",
    "    train_index = rnd_list[:train_size]\n",
    "    test_index = rnd_list[train_size:]\n",
    "    train_rul = []\n",
    "    test_rul = []\n",
    "    \n",
    "    if not as_list:\n",
    "        first = True\n",
    "        for ti in train_index:\n",
    "            if not ae:\n",
    "                to_concat = dfs[ti].copy()\n",
    "            else:\n",
    "                to_concat = dfs[ti][dfs[ti][\"label\"] >= good_samples_thr].copy()\n",
    "            if first:\n",
    "                training_set = to_concat\n",
    "                first = False\n",
    "            else:\n",
    "                training_set = pd.concat([training_set, to_concat])\n",
    "\n",
    "        first = True\n",
    "        for ti in test_index:\n",
    "            to_concat = dfs[ti].copy()\n",
    "            if first:\n",
    "                test_set = to_concat\n",
    "                first = False\n",
    "            else:\n",
    "                test_set = pd.concat([test_set, to_concat])\n",
    "        \n",
    "        train_rul = training_set['label'].tolist()\n",
    "        if split_size < 1:\n",
    "            test_rul = test_set['label'].tolist()\n",
    "        \n",
    "        training_set['label'] = (training_set['label'] >= margin).map({True: 1, False: 0})\n",
    "        if split_size < 1:\n",
    "            test_set['label'] = (test_set['label'] >= margin).map({True: 1, False: 0})\n",
    "\n",
    "        training_set = training_set.to_numpy()\n",
    "        if split_size < 1:\n",
    "            test_set = test_set.to_numpy()\n",
    "        \n",
    "    else:\n",
    "        first = True\n",
    "        for ti in train_index:\n",
    "            if not ae:\n",
    "                to_concat = dfs[ti].copy()\n",
    "            else:\n",
    "                to_concat = dfs[ti][dfs[ti][\"label\"] >= good_samples_thr].copy()\n",
    "            if first:\n",
    "                training_set = [to_concat]\n",
    "                first = False\n",
    "            else:\n",
    "                training_set.append(to_concat)\n",
    "                \n",
    "        first = True\n",
    "        for ti in test_index:\n",
    "            to_concat = dfs[ti].copy()\n",
    "            if first:\n",
    "                test_set = [to_concat]\n",
    "                first = False\n",
    "            else:\n",
    "                test_set.append(to_concat)\n",
    "        \n",
    "        for t in training_set:\n",
    "            train_rul = train_rul + t['label'].tolist()\n",
    "            t['label'] = (t['label'] >= margin).map({True: 1, False: 0})\n",
    "        if split_size < 1:\n",
    "            for t in test_set:\n",
    "                test_rul = test_rul + t['label'].tolist()\n",
    "                t['label'] = (t['label'] >= margin).map({True: 1, False: 0})\n",
    "    if split_size < 1:\n",
    "        return training_set, test_set\n",
    "    return training_set"
   ]
  },
  {
   "cell_type": "markdown",
   "id": "0c131072",
   "metadata": {},
   "source": [
    "## Cost model for threshold optimization and performance evaluation"
   ]
  },
  {
   "cell_type": "code",
   "execution_count": 13,
   "id": "d58986c8",
   "metadata": {},
   "outputs": [],
   "source": [
    "all_perf = []"
   ]
  },
  {
   "cell_type": "code",
   "execution_count": 14,
   "id": "f7551194",
   "metadata": {},
   "outputs": [],
   "source": [
    "BASE_FP = 0.2\n",
    "BASE_FN = 1\n",
    "\n",
    "def false_positive_cost(i, is_fault, fault_found):\n",
    "    return BASE_FP\n",
    "\n",
    "def false_negative_cost(i, is_fault, fault_found):\n",
    "    if not fault_found:\n",
    "        for j in range(1, margin + 1):\n",
    "            if i + j < is_fault.shape[0] and not is_fault[i + j] or i + j >= is_fault.shape[0]:\n",
    "                return (margin + 1 - j) * BASE_FN\n",
    "    else:\n",
    "        return 0"
   ]
  },
  {
   "cell_type": "code",
   "execution_count": 15,
   "id": "c1359dec",
   "metadata": {},
   "outputs": [],
   "source": [
    "def threshold_optimization(signal, rul, start, end, n_steps):\n",
    "    best_cost = sys.maxsize\n",
    "    best_thr = -1\n",
    "    all_cost = []\n",
    "    all_thr = []\n",
    "    is_fault = (rul == 0)\n",
    "    \n",
    "    for thr in np.linspace(start, end, n_steps):\n",
    "        tmp_cost = 0\n",
    "        fault_found = False\n",
    "        for i in range(signal.shape[0]):\n",
    "            if is_fault[i] and signal[i] >= thr:\n",
    "                fault_found = True\n",
    "            if not is_fault[i]:\n",
    "                fault_found = False\n",
    "            if not is_fault[i] and signal[i] >= thr:\n",
    "                tmp_cost += false_positive_cost(i, is_fault, fault_found)\n",
    "            elif is_fault[i] and signal[i] <= thr:\n",
    "                tmp_cost += false_negative_cost(i, is_fault, fault_found)\n",
    "        if tmp_cost < best_cost:\n",
    "            best_thr = thr\n",
    "            best_cost = tmp_cost\n",
    "        all_cost.append(tmp_cost)\n",
    "        all_thr.append(thr)\n",
    "\n",
    "    return best_cost, best_thr, all_cost, all_thr"
   ]
  },
  {
   "cell_type": "code",
   "execution_count": 16,
   "id": "5eacfd9a",
   "metadata": {},
   "outputs": [],
   "source": [
    "def plot_threshold(signal, thr, rul):\n",
    "\n",
    "    plt.plot(signal, alpha=0.5)\n",
    "    plt.plot(range(len(signal)), [thr] * len(signal))\n",
    "\n",
    "    ranges = []\n",
    "    signal_values = []\n",
    "    for i in range(len(rul)):\n",
    "        if rul[i] == 0:\n",
    "            ranges.append(i)\n",
    "            signal_values.append(signal[i])\n",
    "\n",
    "    plt.scatter(ranges, signal_values, color=\"red\", s=10)\n",
    "    \n",
    "    plt.ylabel('Alarm signal intensity')\n",
    "    plt.xlabel('Time')\n",
    "    plt.legend(['Alarm signal', \"Threshold\", 'Anomalies'], loc='upper right')\n",
    "    plt.show()\n",
    "    plt.show()"
   ]
  },
  {
   "cell_type": "code",
   "execution_count": 17,
   "id": "14a8cce1",
   "metadata": {},
   "outputs": [],
   "source": [
    "def performance_evaluation(signal, thr, rul):\n",
    "    fp, fn, tp, tot_p = 0, 0, 0, 0\n",
    "    cost = 0\n",
    "    alarm = (signal >= thr)\n",
    "    anticipation = []\n",
    "    is_fault = (rul == 0)\n",
    "    \n",
    "    fault_found = False\n",
    "    for i in range(len(rul)):\n",
    "        if i > 0 and is_fault[i] and not is_fault[i - 1]:\n",
    "            tot_p += 1\n",
    "            start = i\n",
    "        if is_fault[i] and not fault_found and alarm[i]:\n",
    "            tp += 1\n",
    "            fault_found = True\n",
    "            anticipation.append((margin - 1) - (i - start))\n",
    "        if (i < len(rul) - 1 and is_fault[i] and not is_fault[i + 1] and not fault_found) or (i == len(rul) - 1 and not fault_found):\n",
    "            fn += 1 \n",
    "        if is_fault[i] and signal[i] <= thr:\n",
    "            cost += false_negative_cost(i, is_fault, fault_found)\n",
    "        if not is_fault[i]:\n",
    "            fault_found = False\n",
    "            if alarm[i]:\n",
    "                fp += 1\n",
    "                cost += false_positive_cost(i, is_fault, fault_found)\n",
    "        \n",
    "    tot_a = sum(anticipation) / 10\n",
    "    if sum(anticipation) > 0:\n",
    "        mean_a = mean(anticipation) / 10\n",
    "    else:\n",
    "        mean_a = 0\n",
    "    \n",
    "    return [cost, mean_a, tp, fn, fp]"
   ]
  },
  {
   "cell_type": "markdown",
   "id": "89ec634d",
   "metadata": {},
   "source": [
    "## Baseline: raw signal pre-anomaly detection"
   ]
  },
  {
   "cell_type": "code",
   "execution_count": 18,
   "id": "94a954fe",
   "metadata": {},
   "outputs": [],
   "source": [
    "features_raw = [\n",
    " 'Ax',\n",
    " 'Ax_diff',\n",
    " 'Ax_mean_w5',\n",
    " 'Ax_std_w5',\n",
    " 'Ax_min_w5',\n",
    " 'Ax_max_w5',\n",
    " 'Ax_mean_w10',\n",
    " 'Ax_std_w10',\n",
    " 'Ax_min_w10',\n",
    " 'Ax_max_w10',\n",
    " 'Ax_mean_w15',\n",
    " 'Ax_std_w15',\n",
    " 'Ax_min_w15',\n",
    " 'Ax_max_w15',\n",
    " 'Ax_mean_w20',\n",
    " 'Ax_std_w20',\n",
    " 'Ax_min_w20',\n",
    " 'Ax_max_w20',\n",
    " 'differencing_Ax',\n",
    " 'differencing_Ax_diff',\n",
    " 'differencing_Ax_mean_w5',\n",
    " 'differencing_Ax_std_w5',\n",
    " 'differencing_Ax_min_w5',\n",
    " 'differencing_Ax_max_w5',\n",
    " 'differencing_Ax_mean_w10',\n",
    " 'differencing_Ax_std_w10',\n",
    " 'differencing_Ax_min_w10',\n",
    " 'differencing_Ax_max_w10',\n",
    " 'differencing_Ax_mean_w15',\n",
    " 'differencing_Ax_std_w15',\n",
    " 'differencing_Ax_min_w15',\n",
    " 'differencing_Ax_max_w15',\n",
    " 'differencing_Ax_mean_w20',\n",
    " 'differencing_Ax_std_w20',\n",
    " 'differencing_Ax_min_w20',\n",
    " 'differencing_Ax_max_w20',\n",
    "]\n",
    "\n",
    "for seed in seeds:\n",
    "    for feature in features_raw:\n",
    "        \n",
    "        set_determinism(seed)\n",
    "        \n",
    "        training_columns = [feature, \"label\"]\n",
    "        _, validation_set_raw = build_dataset_for_ml_model(df, training_columns=training_columns)\n",
    "        \n",
    "        val_raw_signal, val_raw_rul = -validation_set_raw[:, 0], validation_set_raw[:, -1]\n",
    "        \n",
    "        best_cost_raw, best_thr_raw, all_cost_raw, all_thr_raw = threshold_optimization(val_raw_signal, val_raw_rul, start=0, end=val_raw_signal.max(), n_steps=200)\n",
    "        perf_raw = performance_evaluation(val_raw_signal, best_thr_raw, val_raw_rul)\n",
    "        all_perf.append([\"raw_signal\", seed, feature, {}] + perf_raw)\n",
    "        \n",
    "        serialize_perf(\"raw_signal\", seed=seed, columns_name=feature, training_columns=training_columns, \n",
    "                       params={}, params_idx=0, history=None, best_cost=best_cost_raw, best_thr=best_thr_raw, \n",
    "                       all_cost=all_cost_raw, all_thr=all_thr_raw, perf=perf_raw)\n",
    "        \n",
    "        # No model saving here: there is just the threshold"
   ]
  },
  {
   "cell_type": "markdown",
   "id": "691254d9",
   "metadata": {},
   "source": [
    "## Pre-anomaly detection with AutoEncoders"
   ]
  },
  {
   "cell_type": "code",
   "execution_count": 19,
   "id": "20a0a58f",
   "metadata": {},
   "outputs": [],
   "source": [
    "def build_autoencoder(input_size, hidden):\n",
    "    input_shape = (input_size, )\n",
    "    ae_x = keras.Input(shape=input_shape, dtype='float32')\n",
    "    x = ae_x\n",
    "    for h in hidden:\n",
    "        x = layers.Dense(h, activation='relu')(x)\n",
    "    ae_y = layers.Dense(input_size, activation='linear')(x)\n",
    "    ae = keras.Model(ae_x, ae_y)   \n",
    "    \n",
    "    return ae"
   ]
  },
  {
   "cell_type": "code",
   "execution_count": 20,
   "id": "fc59e918",
   "metadata": {},
   "outputs": [],
   "source": [
    "params_ae = [{\"hidden_ae\": [16, 8, 2, 8, 16]}, \n",
    "             {\"hidden_ae\": [64, 24, 9, 24, 64]}, \n",
    "             {\"hidden_ae\": [128, 56, 18, 56, 128]}]"
   ]
  },
  {
   "cell_type": "code",
   "execution_count": 21,
   "id": "1138942f",
   "metadata": {},
   "outputs": [
    {
     "name": "stdout",
     "output_type": "stream",
     "text": [
      "221/221 [==============================] - 0s 566us/step\n",
      "INFO:tensorflow:Assets written to: ram://31e490ef-fa26-48f4-8acf-57e7bfdcf9de/assets\n",
      "INFO:tensorflow:Assets written to: models/autoencoder-all_features-s100-p0/assets\n",
      "221/221 [==============================] - 0s 559us/step\n",
      "INFO:tensorflow:Assets written to: ram://3c09deab-20f5-493e-91d3-3cac7d05887f/assets\n",
      "INFO:tensorflow:Assets written to: models/autoencoder-all_features-s100-p1/assets\n",
      "221/221 [==============================] - 0s 613us/step\n",
      "INFO:tensorflow:Assets written to: ram://73b9fdbe-6f42-4751-9c48-e59c2d8f330c/assets\n",
      "INFO:tensorflow:Assets written to: models/autoencoder-all_features-s100-p2/assets\n",
      "221/221 [==============================] - 0s 580us/step\n",
      "INFO:tensorflow:Assets written to: ram://fabcc5b2-2721-4317-8746-37882e428242/assets\n",
      "INFO:tensorflow:Assets written to: models/autoencoder-w5_features-s100-p0/assets\n",
      "221/221 [==============================] - 0s 577us/step\n",
      "INFO:tensorflow:Assets written to: ram://a3b3f52d-d7d0-42ae-a844-b643cc758e94/assets\n",
      "INFO:tensorflow:Assets written to: models/autoencoder-w5_features-s100-p1/assets\n",
      "221/221 [==============================] - 0s 561us/step\n",
      "INFO:tensorflow:Assets written to: ram://8154a3b7-f4a4-400d-9ff5-7b10579777cc/assets\n",
      "INFO:tensorflow:Assets written to: models/autoencoder-w5_features-s100-p2/assets\n",
      "221/221 [==============================] - 0s 563us/step\n",
      "INFO:tensorflow:Assets written to: ram://2c583a70-3c23-4e9e-aae8-69153a99696b/assets\n",
      "INFO:tensorflow:Assets written to: models/autoencoder-w10_features-s100-p0/assets\n",
      "221/221 [==============================] - 0s 546us/step\n",
      "INFO:tensorflow:Assets written to: ram://17197445-d46b-4685-8f78-ff91248c7f8e/assets\n",
      "INFO:tensorflow:Assets written to: models/autoencoder-w10_features-s100-p1/assets\n",
      "221/221 [==============================] - 0s 576us/step\n",
      "INFO:tensorflow:Assets written to: ram://799ba4f1-f09f-401f-aea7-df638ae452b6/assets\n",
      "INFO:tensorflow:Assets written to: models/autoencoder-w10_features-s100-p2/assets\n",
      "221/221 [==============================] - 0s 562us/step\n",
      "INFO:tensorflow:Assets written to: ram://c29af74f-421e-42a7-bbd2-3a7eb00bd8ac/assets\n",
      "INFO:tensorflow:Assets written to: models/autoencoder-w15_features-s100-p0/assets\n",
      "221/221 [==============================] - 0s 557us/step\n",
      "INFO:tensorflow:Assets written to: ram://98b38082-453e-421a-b32e-a53632113e62/assets\n",
      "INFO:tensorflow:Assets written to: models/autoencoder-w15_features-s100-p1/assets\n",
      "221/221 [==============================] - 0s 546us/step\n",
      "INFO:tensorflow:Assets written to: ram://2003f932-718e-423c-92a0-b636860c937a/assets\n",
      "INFO:tensorflow:Assets written to: models/autoencoder-w15_features-s100-p2/assets\n",
      "221/221 [==============================] - 0s 523us/step\n",
      "INFO:tensorflow:Assets written to: ram://03b8a766-1ab1-4c46-ac95-4aaf61e6bf5c/assets\n",
      "INFO:tensorflow:Assets written to: models/autoencoder-w20_features-s100-p0/assets\n",
      "221/221 [==============================] - 0s 566us/step\n",
      "INFO:tensorflow:Assets written to: ram://501d54de-f1e2-423e-825c-4a52722ddddc/assets\n",
      "INFO:tensorflow:Assets written to: models/autoencoder-w20_features-s100-p1/assets\n",
      "221/221 [==============================] - 0s 576us/step\n",
      "INFO:tensorflow:Assets written to: ram://7cbc621b-d96a-46bd-b50a-a630d0c05274/assets\n",
      "INFO:tensorflow:Assets written to: models/autoencoder-w20_features-s100-p2/assets\n",
      "221/221 [==============================] - 0s 558us/step\n",
      "INFO:tensorflow:Assets written to: ram://7f487313-9978-4f70-a4ea-be2199100a90/assets\n",
      "INFO:tensorflow:Assets written to: models/autoencoder-no_diff_features-s100-p0/assets\n",
      "221/221 [==============================] - 0s 574us/step\n",
      "INFO:tensorflow:Assets written to: ram://b80378ec-d288-4093-9064-e9ab5022f2fc/assets\n",
      "INFO:tensorflow:Assets written to: models/autoencoder-no_diff_features-s100-p1/assets\n",
      "221/221 [==============================] - 0s 557us/step\n",
      "INFO:tensorflow:Assets written to: ram://add2b4e1-ea2f-4b1a-9763-89729c5e4966/assets\n",
      "INFO:tensorflow:Assets written to: models/autoencoder-no_diff_features-s100-p2/assets\n",
      "221/221 [==============================] - 0s 529us/step\n",
      "INFO:tensorflow:Assets written to: ram://8b4de38a-48c5-4405-81ba-e9e95d84ea9d/assets\n",
      "INFO:tensorflow:Assets written to: models/autoencoder-diff_features-s100-p0/assets\n",
      "221/221 [==============================] - 0s 559us/step\n",
      "INFO:tensorflow:Assets written to: ram://63c9ea65-0359-4b31-8ee4-814d16f1d537/assets\n",
      "INFO:tensorflow:Assets written to: models/autoencoder-diff_features-s100-p1/assets\n",
      "221/221 [==============================] - 0s 562us/step\n",
      "INFO:tensorflow:Assets written to: ram://21aa4e65-c4b4-4b61-97e1-f01202c80e43/assets\n",
      "INFO:tensorflow:Assets written to: models/autoencoder-diff_features-s100-p2/assets\n",
      "221/221 [==============================] - 0s 552us/step\n",
      "INFO:tensorflow:Assets written to: ram://781c9104-6ffd-4af1-a04f-b4fbc6d70d17/assets\n",
      "INFO:tensorflow:Assets written to: models/autoencoder-all_features-s200-p0/assets\n",
      "221/221 [==============================] - 0s 564us/step\n",
      "INFO:tensorflow:Assets written to: ram://90476a3a-b23b-442a-8936-29d72470021c/assets\n",
      "INFO:tensorflow:Assets written to: models/autoencoder-all_features-s200-p1/assets\n",
      "221/221 [==============================] - 0s 562us/step\n",
      "INFO:tensorflow:Assets written to: ram://0c55d994-9730-4250-b32d-49bb73bad149/assets\n",
      "INFO:tensorflow:Assets written to: models/autoencoder-all_features-s200-p2/assets\n",
      "221/221 [==============================] - 0s 556us/step\n",
      "INFO:tensorflow:Assets written to: ram://40488c83-bc7a-4346-8e08-7ddd64136438/assets\n",
      "INFO:tensorflow:Assets written to: models/autoencoder-w5_features-s200-p0/assets\n",
      "221/221 [==============================] - 0s 543us/step\n",
      "INFO:tensorflow:Assets written to: ram://e12031a5-12c3-4a2a-a5fb-ada95374c02e/assets\n",
      "INFO:tensorflow:Assets written to: models/autoencoder-w5_features-s200-p1/assets\n",
      "221/221 [==============================] - 0s 562us/step\n",
      "INFO:tensorflow:Assets written to: ram://9496f276-bd7f-4da4-8a53-7ec508aff6f8/assets\n",
      "INFO:tensorflow:Assets written to: models/autoencoder-w5_features-s200-p2/assets\n",
      "221/221 [==============================] - 0s 553us/step\n",
      "INFO:tensorflow:Assets written to: ram://02b5eaba-d207-426d-915b-de3ff1731e0c/assets\n",
      "INFO:tensorflow:Assets written to: models/autoencoder-w10_features-s200-p0/assets\n",
      "221/221 [==============================] - 0s 616us/step\n",
      "INFO:tensorflow:Assets written to: ram://907a0383-4335-44b0-963c-ee81e7cdb650/assets\n",
      "INFO:tensorflow:Assets written to: models/autoencoder-w10_features-s200-p1/assets\n",
      "221/221 [==============================] - 0s 591us/step\n",
      "INFO:tensorflow:Assets written to: ram://b533fef2-ab78-4ed4-842e-ca77cfe35430/assets\n",
      "INFO:tensorflow:Assets written to: models/autoencoder-w10_features-s200-p2/assets\n",
      "221/221 [==============================] - 0s 540us/step\n",
      "INFO:tensorflow:Assets written to: ram://ba77c47b-b79a-4bc5-8e92-53d8bc52d01c/assets\n",
      "INFO:tensorflow:Assets written to: models/autoencoder-w15_features-s200-p0/assets\n",
      "221/221 [==============================] - 0s 564us/step\n",
      "INFO:tensorflow:Assets written to: ram://6a1ed676-c146-472f-b9fd-bccac499bae8/assets\n",
      "INFO:tensorflow:Assets written to: models/autoencoder-w15_features-s200-p1/assets\n",
      "221/221 [==============================] - 0s 605us/step\n",
      "INFO:tensorflow:Assets written to: ram://c6d6c498-a316-49d8-9b85-2eb8d8fd5a70/assets\n",
      "INFO:tensorflow:Assets written to: models/autoencoder-w15_features-s200-p2/assets\n",
      "221/221 [==============================] - 0s 572us/step\n",
      "INFO:tensorflow:Assets written to: ram://576cb2b7-7bfb-44e0-829d-096ac5ae8ccc/assets\n",
      "INFO:tensorflow:Assets written to: models/autoencoder-w20_features-s200-p0/assets\n",
      "221/221 [==============================] - 0s 566us/step\n",
      "INFO:tensorflow:Assets written to: ram://e65bef3c-4cd7-4d24-acde-ebc25e827d82/assets\n",
      "INFO:tensorflow:Assets written to: models/autoencoder-w20_features-s200-p1/assets\n",
      "221/221 [==============================] - 0s 537us/step\n",
      "INFO:tensorflow:Assets written to: ram://a8bf1539-c003-418a-b5b4-463aa2bd8e91/assets\n",
      "INFO:tensorflow:Assets written to: models/autoencoder-w20_features-s200-p2/assets\n",
      "221/221 [==============================] - 0s 569us/step\n",
      "INFO:tensorflow:Assets written to: ram://01f03d26-fa33-43ae-8a42-328d5c699e59/assets\n"
     ]
    },
    {
     "name": "stdout",
     "output_type": "stream",
     "text": [
      "INFO:tensorflow:Assets written to: models/autoencoder-no_diff_features-s200-p0/assets\n",
      "221/221 [==============================] - 0s 519us/step\n",
      "INFO:tensorflow:Assets written to: ram://6eb147be-da24-4d35-8017-4b9f9689fc80/assets\n",
      "INFO:tensorflow:Assets written to: models/autoencoder-no_diff_features-s200-p1/assets\n",
      "221/221 [==============================] - 0s 545us/step\n",
      "INFO:tensorflow:Assets written to: ram://4d56810a-6d5f-49ca-9db7-50de6ba9af3a/assets\n",
      "INFO:tensorflow:Assets written to: models/autoencoder-no_diff_features-s200-p2/assets\n",
      "221/221 [==============================] - 0s 568us/step\n",
      "INFO:tensorflow:Assets written to: ram://6c00a5a6-8d5c-4e6c-8ce7-017fb6aa0aee/assets\n",
      "INFO:tensorflow:Assets written to: models/autoencoder-diff_features-s200-p0/assets\n",
      "221/221 [==============================] - 0s 591us/step\n",
      "INFO:tensorflow:Assets written to: ram://03ae1f61-edac-4766-86d1-c1381b2210aa/assets\n",
      "INFO:tensorflow:Assets written to: models/autoencoder-diff_features-s200-p1/assets\n",
      "221/221 [==============================] - 0s 553us/step\n",
      "INFO:tensorflow:Assets written to: ram://9e9a7ce6-0dac-4e1f-a493-9f062318081c/assets\n",
      "INFO:tensorflow:Assets written to: models/autoencoder-diff_features-s200-p2/assets\n",
      "221/221 [==============================] - 0s 534us/step\n",
      "INFO:tensorflow:Assets written to: ram://bb1526ad-a095-464f-a35d-f503e6c67a38/assets\n",
      "INFO:tensorflow:Assets written to: models/autoencoder-all_features-s300-p0/assets\n",
      "221/221 [==============================] - 0s 562us/step\n",
      "INFO:tensorflow:Assets written to: ram://57514937-1db7-405c-9f22-234001a53a8b/assets\n",
      "INFO:tensorflow:Assets written to: models/autoencoder-all_features-s300-p1/assets\n",
      "221/221 [==============================] - 0s 537us/step\n",
      "INFO:tensorflow:Assets written to: ram://86136fec-5bce-471c-aac9-d2c8d657fe9e/assets\n",
      "INFO:tensorflow:Assets written to: models/autoencoder-all_features-s300-p2/assets\n",
      "221/221 [==============================] - 0s 554us/step\n",
      "INFO:tensorflow:Assets written to: ram://c6c67fe4-ed8d-43c2-b362-82520cfc9224/assets\n",
      "INFO:tensorflow:Assets written to: models/autoencoder-w5_features-s300-p0/assets\n",
      "221/221 [==============================] - 0s 561us/step\n",
      "INFO:tensorflow:Assets written to: ram://6b5f13e5-254f-43bf-a619-fc7b0f01d55a/assets\n",
      "INFO:tensorflow:Assets written to: models/autoencoder-w5_features-s300-p1/assets\n",
      "221/221 [==============================] - 0s 604us/step\n",
      "INFO:tensorflow:Assets written to: ram://3c95175d-9823-4e7e-b3dd-9fc91816cca2/assets\n",
      "INFO:tensorflow:Assets written to: models/autoencoder-w5_features-s300-p2/assets\n",
      "221/221 [==============================] - 0s 560us/step\n",
      "INFO:tensorflow:Assets written to: ram://08604d75-3424-45ea-b6dc-6c8354b58836/assets\n",
      "INFO:tensorflow:Assets written to: models/autoencoder-w10_features-s300-p0/assets\n",
      "221/221 [==============================] - 0s 555us/step\n",
      "INFO:tensorflow:Assets written to: ram://9d32f7ce-e6ca-453d-813a-a680ec8122f8/assets\n",
      "INFO:tensorflow:Assets written to: models/autoencoder-w10_features-s300-p1/assets\n",
      "221/221 [==============================] - 0s 557us/step\n",
      "INFO:tensorflow:Assets written to: ram://4daf87ee-6296-4afc-b9e4-4112dcbfced3/assets\n",
      "INFO:tensorflow:Assets written to: models/autoencoder-w10_features-s300-p2/assets\n",
      "221/221 [==============================] - 0s 570us/step\n",
      "INFO:tensorflow:Assets written to: ram://38fefd22-84fe-416a-afbe-5f6bb8ca7927/assets\n",
      "INFO:tensorflow:Assets written to: models/autoencoder-w15_features-s300-p0/assets\n",
      "221/221 [==============================] - 0s 543us/step\n",
      "INFO:tensorflow:Assets written to: ram://551b8c13-3993-4f51-b5a8-d2974e441a5c/assets\n",
      "INFO:tensorflow:Assets written to: models/autoencoder-w15_features-s300-p1/assets\n",
      "221/221 [==============================] - 0s 566us/step\n",
      "INFO:tensorflow:Assets written to: ram://9ed2c75b-fd1f-41f5-bca5-bba22248b54f/assets\n",
      "INFO:tensorflow:Assets written to: models/autoencoder-w15_features-s300-p2/assets\n",
      "221/221 [==============================] - 0s 581us/step\n",
      "INFO:tensorflow:Assets written to: ram://0b20d3ac-1385-4263-a36d-3460bcd71a26/assets\n",
      "INFO:tensorflow:Assets written to: models/autoencoder-w20_features-s300-p0/assets\n",
      "221/221 [==============================] - 0s 585us/step\n",
      "INFO:tensorflow:Assets written to: ram://32bbbb8e-d296-4f35-964e-a5ba7b2ec865/assets\n",
      "INFO:tensorflow:Assets written to: models/autoencoder-w20_features-s300-p1/assets\n",
      "221/221 [==============================] - 0s 548us/step\n",
      "INFO:tensorflow:Assets written to: ram://c46ffea3-b318-485d-a237-e1e0d4f45c00/assets\n",
      "INFO:tensorflow:Assets written to: models/autoencoder-w20_features-s300-p2/assets\n",
      "221/221 [==============================] - 0s 588us/step\n",
      "INFO:tensorflow:Assets written to: ram://d68c1e08-36d4-49f8-bc65-69c1fd78d778/assets\n",
      "INFO:tensorflow:Assets written to: models/autoencoder-no_diff_features-s300-p0/assets\n",
      "221/221 [==============================] - 0s 554us/step\n",
      "INFO:tensorflow:Assets written to: ram://0f15304b-aed6-4b00-81a9-d874d43e4409/assets\n",
      "INFO:tensorflow:Assets written to: models/autoencoder-no_diff_features-s300-p1/assets\n",
      "221/221 [==============================] - 0s 555us/step\n",
      "INFO:tensorflow:Assets written to: ram://b8223c66-76a7-4616-a464-98eaee756711/assets\n",
      "INFO:tensorflow:Assets written to: models/autoencoder-no_diff_features-s300-p2/assets\n",
      "221/221 [==============================] - 0s 612us/step\n",
      "INFO:tensorflow:Assets written to: ram://7b3e0ff2-72aa-4eea-ab10-7a16b5b80129/assets\n",
      "INFO:tensorflow:Assets written to: models/autoencoder-diff_features-s300-p0/assets\n",
      "221/221 [==============================] - 0s 570us/step\n",
      "INFO:tensorflow:Assets written to: ram://edde9471-385a-4db5-a31d-71edbbd9613c/assets\n",
      "INFO:tensorflow:Assets written to: models/autoencoder-diff_features-s300-p1/assets\n",
      "221/221 [==============================] - 0s 549us/step\n",
      "INFO:tensorflow:Assets written to: ram://56373cff-accf-4d7e-b0c7-8e9e6401be30/assets\n",
      "INFO:tensorflow:Assets written to: models/autoencoder-diff_features-s300-p2/assets\n"
     ]
    }
   ],
   "source": [
    "for seed in seeds:\n",
    "    for columns in features:\n",
    "        for params_idx, params in enumerate(params_ae):\n",
    "\n",
    "            set_determinism(seed)\n",
    "\n",
    "            training_set_ae, validation_set_ae = build_dataset_for_ml_model(df, training_columns=features[columns], ae=True)\n",
    "\n",
    "            train_cols_ae = training_set_ae.shape[1] - 1\n",
    "            ae = build_autoencoder(input_size=train_cols_ae, hidden=params[\"hidden_ae\"])\n",
    "            ae.compile(optimizer=keras.optimizers.Adam(learning_rate=learning_rate), \n",
    "                       loss='mse')\n",
    "            cb_ae = [callbacks.EarlyStopping(patience=patience, restore_best_weights=True)]\n",
    "            history_ae = ae.fit(training_set_ae[:, :-1], training_set_ae[:, :-1], validation_split=validation_split,\n",
    "                                callbacks=cb_ae, batch_size=batch_size, epochs=epochs, verbose=0)\n",
    "            \n",
    "            preds_ae = ae.predict(validation_set_ae[:, :-1])\n",
    "            \n",
    "            signal_ae = pd.Series(data=np.sum(np.square(preds_ae - validation_set_ae[:, :-1]), axis=1))\n",
    "            rul_ae = validation_set_ae[:, -1]\n",
    "\n",
    "            best_cost_ae, best_thr_ae, all_cost_ae, all_thr_ae = threshold_optimization(signal_ae, rul_ae, start=0, end=signal_ae.max(), n_steps=200)\n",
    "            \n",
    "            perf_ae = performance_evaluation(signal_ae, best_thr_ae, rul_ae)\n",
    "            all_perf.append([\"autoencoder\", seed, columns, params] + perf_ae)\n",
    "            \n",
    "            serialize_perf(\"autoencoder\", seed=seed, columns_name=columns, training_columns=features[columns], \n",
    "                           params=params, params_idx=params_idx, history=history_ae, best_cost=best_cost_ae, best_thr=best_thr_ae, \n",
    "                           all_cost=all_cost_ae, all_thr=all_thr_ae, perf=perf_ae)\n",
    "            \n",
    "            ae.save(models_path + \"autoencoder\" + \"-\" + columns + \"-s\" + str(seed) + \"-p\" + str(params_idx))"
   ]
  },
  {
   "cell_type": "markdown",
   "id": "d123add4",
   "metadata": {},
   "source": [
    "## RUL estimation with Dense Neural Networks"
   ]
  },
  {
   "cell_type": "code",
   "execution_count": 22,
   "id": "5a98d1b9",
   "metadata": {},
   "outputs": [],
   "source": [
    "def build_classifier(input_size, hidden):\n",
    "    input_shape = (input_size,)\n",
    "    model_in = keras.Input(shape=input_shape, dtype='float32')\n",
    "    x = model_in\n",
    "    for h in hidden:\n",
    "        x = layers.Dense(h, activation='relu')(x)\n",
    "    model_out = layers.Dense(1, activation='sigmoid')(x)\n",
    "    model = keras.Model(model_in, model_out)\n",
    "    return model"
   ]
  },
  {
   "cell_type": "code",
   "execution_count": 23,
   "id": "3f39e2f9",
   "metadata": {},
   "outputs": [],
   "source": [
    "params_mlp = [{\"hidden_mlp\": []},\n",
    "              {\"hidden_mlp\": [32]},\n",
    "              {\"hidden_mlp\": [64, 32]}, \n",
    "              {\"hidden_mlp\": [128, 64, 32]}]"
   ]
  },
  {
   "cell_type": "markdown",
   "id": "99ad43d6",
   "metadata": {},
   "source": [
    "**Class weights** are useful when you have an **unbalanced dataset** and you want to improve single-label classification results. With class weights, you can weight more the samples belonging to the rarest class."
   ]
  },
  {
   "cell_type": "code",
   "execution_count": 24,
   "id": "202e0e4f",
   "metadata": {},
   "outputs": [
    {
     "name": "stdout",
     "output_type": "stream",
     "text": [
      "221/221 [==============================] - 0s 462us/step\n",
      "INFO:tensorflow:Assets written to: ram://7c1f2538-f9a2-45a2-af11-008956144e35/assets\n",
      "INFO:tensorflow:Assets written to: models/mlp-all_features-s100-p0/assets\n",
      "221/221 [==============================] - 0s 524us/step\n",
      "INFO:tensorflow:Assets written to: ram://bf39976c-0d59-48cf-b77b-6d490e120f06/assets\n",
      "INFO:tensorflow:Assets written to: models/mlp-all_features-s100-p1/assets\n",
      "221/221 [==============================] - 0s 481us/step\n",
      "INFO:tensorflow:Assets written to: ram://d30d593b-a219-4e76-a6b4-f901e7589299/assets\n",
      "INFO:tensorflow:Assets written to: models/mlp-all_features-s100-p2/assets\n",
      "221/221 [==============================] - 0s 527us/step\n",
      "INFO:tensorflow:Assets written to: ram://163a17ae-e81e-433c-97fc-1d1bf883960b/assets\n",
      "INFO:tensorflow:Assets written to: models/mlp-all_features-s100-p3/assets\n",
      "221/221 [==============================] - 0s 464us/step\n",
      "INFO:tensorflow:Assets written to: ram://41875fec-05d8-4de9-88d2-1d7c054485b7/assets\n",
      "INFO:tensorflow:Assets written to: models/mlp-w5_features-s100-p0/assets\n",
      "221/221 [==============================] - 0s 503us/step\n",
      "INFO:tensorflow:Assets written to: ram://a2c5350d-7ff5-400b-946c-4111885a7d7c/assets\n",
      "INFO:tensorflow:Assets written to: models/mlp-w5_features-s100-p1/assets\n",
      "221/221 [==============================] - 0s 530us/step\n",
      "INFO:tensorflow:Assets written to: ram://b78886da-7da7-4abc-80f7-897f791291ad/assets\n",
      "INFO:tensorflow:Assets written to: models/mlp-w5_features-s100-p2/assets\n",
      "221/221 [==============================] - 0s 521us/step\n",
      "INFO:tensorflow:Assets written to: ram://917cd367-35c3-45f7-be29-569c46b5a5dc/assets\n",
      "INFO:tensorflow:Assets written to: models/mlp-w5_features-s100-p3/assets\n",
      "221/221 [==============================] - 0s 466us/step\n",
      "INFO:tensorflow:Assets written to: ram://c28c4a3f-291e-4dbe-8a92-b105dc42c1fd/assets\n",
      "INFO:tensorflow:Assets written to: models/mlp-w10_features-s100-p0/assets\n",
      "221/221 [==============================] - 0s 501us/step\n",
      "INFO:tensorflow:Assets written to: ram://a44a6266-c9d0-4411-b1b9-2bb1823d9668/assets\n",
      "INFO:tensorflow:Assets written to: models/mlp-w10_features-s100-p1/assets\n",
      "221/221 [==============================] - 0s 479us/step\n",
      "INFO:tensorflow:Assets written to: ram://6b51486c-0bed-4718-b035-ccf4c141eed6/assets\n",
      "INFO:tensorflow:Assets written to: models/mlp-w10_features-s100-p2/assets\n",
      "221/221 [==============================] - 0s 549us/step\n",
      "INFO:tensorflow:Assets written to: ram://5e1598a5-e974-4a60-9330-17f5a964fdda/assets\n",
      "INFO:tensorflow:Assets written to: models/mlp-w10_features-s100-p3/assets\n",
      "221/221 [==============================] - 0s 492us/step\n",
      "INFO:tensorflow:Assets written to: ram://dc19eb72-bc62-4bc4-92d9-06fe84ad7b04/assets\n",
      "INFO:tensorflow:Assets written to: models/mlp-w15_features-s100-p0/assets\n",
      "221/221 [==============================] - 0s 506us/step\n",
      "INFO:tensorflow:Assets written to: ram://457bf903-90d8-40bb-963d-03f8dc4f214f/assets\n",
      "INFO:tensorflow:Assets written to: models/mlp-w15_features-s100-p1/assets\n",
      "221/221 [==============================] - 0s 516us/step\n",
      "INFO:tensorflow:Assets written to: ram://46a44bb5-5ca1-4dfd-b5cb-9f7c886a414e/assets\n",
      "INFO:tensorflow:Assets written to: models/mlp-w15_features-s100-p2/assets\n",
      "221/221 [==============================] - 0s 509us/step\n",
      "INFO:tensorflow:Assets written to: ram://851d443e-721c-4e74-9aba-7e0401b07296/assets\n",
      "INFO:tensorflow:Assets written to: models/mlp-w15_features-s100-p3/assets\n",
      "221/221 [==============================] - 0s 464us/step\n",
      "INFO:tensorflow:Assets written to: ram://ba3e786c-36c7-44db-9767-12953474fc77/assets\n",
      "INFO:tensorflow:Assets written to: models/mlp-w20_features-s100-p0/assets\n",
      "221/221 [==============================] - 0s 518us/step\n",
      "INFO:tensorflow:Assets written to: ram://cee0f4d0-ebbb-472c-977e-7f50e0cfe92f/assets\n",
      "INFO:tensorflow:Assets written to: models/mlp-w20_features-s100-p1/assets\n",
      "221/221 [==============================] - 0s 483us/step\n",
      "INFO:tensorflow:Assets written to: ram://a226471e-7fcf-4188-abe1-cd56a422fed9/assets\n",
      "INFO:tensorflow:Assets written to: models/mlp-w20_features-s100-p2/assets\n",
      "221/221 [==============================] - 0s 540us/step\n",
      "INFO:tensorflow:Assets written to: ram://3eddfefc-3ebe-404a-bc40-ed4cf8bbe1d1/assets\n",
      "INFO:tensorflow:Assets written to: models/mlp-w20_features-s100-p3/assets\n",
      "221/221 [==============================] - 0s 484us/step\n",
      "INFO:tensorflow:Assets written to: ram://3ecaf86a-a8da-4180-905a-5377e4a3125a/assets\n",
      "INFO:tensorflow:Assets written to: models/mlp-no_diff_features-s100-p0/assets\n",
      "221/221 [==============================] - 0s 470us/step\n",
      "INFO:tensorflow:Assets written to: ram://04c00f12-435a-4cc1-a916-7cba68e650c0/assets\n",
      "INFO:tensorflow:Assets written to: models/mlp-no_diff_features-s100-p1/assets\n",
      "221/221 [==============================] - 0s 475us/step\n",
      "INFO:tensorflow:Assets written to: ram://ce1e18a3-b27f-4c04-8d4d-3aa5c9ba5597/assets\n",
      "INFO:tensorflow:Assets written to: models/mlp-no_diff_features-s100-p2/assets\n",
      "221/221 [==============================] - 0s 559us/step\n",
      "INFO:tensorflow:Assets written to: ram://e5ed74aa-9278-4982-b608-fcfe99b5ab6f/assets\n",
      "INFO:tensorflow:Assets written to: models/mlp-no_diff_features-s100-p3/assets\n",
      "221/221 [==============================] - 0s 456us/step\n",
      "INFO:tensorflow:Assets written to: ram://83f5bb62-839e-45ad-a1d1-18d259350c5c/assets\n",
      "INFO:tensorflow:Assets written to: models/mlp-diff_features-s100-p0/assets\n",
      "221/221 [==============================] - 0s 513us/step\n",
      "INFO:tensorflow:Assets written to: ram://d42606cc-de5c-46b6-a3fc-6d399f50b07a/assets\n",
      "INFO:tensorflow:Assets written to: models/mlp-diff_features-s100-p1/assets\n",
      "221/221 [==============================] - 0s 524us/step\n",
      "INFO:tensorflow:Assets written to: ram://04ba0727-3f8c-4554-80ee-b818cc427c85/assets\n",
      "INFO:tensorflow:Assets written to: models/mlp-diff_features-s100-p2/assets\n",
      "221/221 [==============================] - 0s 533us/step\n",
      "INFO:tensorflow:Assets written to: ram://09f57f57-78c5-4620-98ef-ef8792e7dec3/assets\n",
      "INFO:tensorflow:Assets written to: models/mlp-diff_features-s100-p3/assets\n",
      "221/221 [==============================] - 0s 470us/step\n",
      "INFO:tensorflow:Assets written to: ram://48b849a7-256d-47d7-ab49-c5d1e06d1d8d/assets\n",
      "INFO:tensorflow:Assets written to: models/mlp-all_features-s200-p0/assets\n",
      "221/221 [==============================] - 0s 470us/step\n",
      "INFO:tensorflow:Assets written to: ram://379d2357-6a49-4e1e-ac2b-d5155c866487/assets\n",
      "INFO:tensorflow:Assets written to: models/mlp-all_features-s200-p1/assets\n",
      "221/221 [==============================] - 0s 538us/step\n",
      "INFO:tensorflow:Assets written to: ram://a63f25f0-9615-4772-962b-4044322ae275/assets\n",
      "INFO:tensorflow:Assets written to: models/mlp-all_features-s200-p2/assets\n",
      "221/221 [==============================] - 0s 530us/step\n",
      "INFO:tensorflow:Assets written to: ram://21c28d4a-3765-46cf-b5c5-8df4779adbcc/assets\n",
      "INFO:tensorflow:Assets written to: models/mlp-all_features-s200-p3/assets\n",
      "221/221 [==============================] - 0s 478us/step\n",
      "INFO:tensorflow:Assets written to: ram://6b531799-7799-436f-a583-3851cda6e560/assets\n",
      "INFO:tensorflow:Assets written to: models/mlp-w5_features-s200-p0/assets\n",
      "221/221 [==============================] - 0s 508us/step\n",
      "INFO:tensorflow:Assets written to: ram://fc4d2201-1218-4c7d-a35d-757ee52efc6e/assets\n",
      "INFO:tensorflow:Assets written to: models/mlp-w5_features-s200-p1/assets\n",
      "221/221 [==============================] - 0s 513us/step\n",
      "INFO:tensorflow:Assets written to: ram://378ea2af-9142-4e71-aacc-218ca40de0b1/assets\n",
      "INFO:tensorflow:Assets written to: models/mlp-w5_features-s200-p2/assets\n",
      "221/221 [==============================] - 0s 533us/step\n",
      "INFO:tensorflow:Assets written to: ram://6315041c-48d1-4c5e-bf72-4d6782c502b6/assets\n",
      "INFO:tensorflow:Assets written to: models/mlp-w5_features-s200-p3/assets\n",
      "221/221 [==============================] - 0s 489us/step\n",
      "INFO:tensorflow:Assets written to: ram://1cf629df-1d5d-4f11-b842-6e0aa9e71ad0/assets\n",
      "INFO:tensorflow:Assets written to: models/mlp-w10_features-s200-p0/assets\n",
      "221/221 [==============================] - 0s 500us/step\n",
      "INFO:tensorflow:Assets written to: ram://653a58ce-8a79-4551-9974-d61914e62f68/assets\n",
      "INFO:tensorflow:Assets written to: models/mlp-w10_features-s200-p1/assets\n"
     ]
    },
    {
     "name": "stdout",
     "output_type": "stream",
     "text": [
      "221/221 [==============================] - 0s 529us/step\n",
      "INFO:tensorflow:Assets written to: ram://27a99f1e-2471-4440-9a61-efa76ed88050/assets\n",
      "INFO:tensorflow:Assets written to: models/mlp-w10_features-s200-p2/assets\n",
      "221/221 [==============================] - 0s 537us/step\n",
      "INFO:tensorflow:Assets written to: ram://92498615-ecd4-4d19-9ebc-83631c87dee3/assets\n",
      "INFO:tensorflow:Assets written to: models/mlp-w10_features-s200-p3/assets\n",
      "221/221 [==============================] - 0s 447us/step\n",
      "INFO:tensorflow:Assets written to: ram://098f097a-ef4a-4e4b-82e6-b438259293fd/assets\n",
      "INFO:tensorflow:Assets written to: models/mlp-w15_features-s200-p0/assets\n",
      "221/221 [==============================] - 0s 507us/step\n",
      "INFO:tensorflow:Assets written to: ram://fdf738a2-ea76-4c44-980b-88bd8518995e/assets\n",
      "INFO:tensorflow:Assets written to: models/mlp-w15_features-s200-p1/assets\n",
      "221/221 [==============================] - 0s 506us/step\n",
      "INFO:tensorflow:Assets written to: ram://3f8f8392-5627-47fc-aefb-4e584af41e46/assets\n",
      "INFO:tensorflow:Assets written to: models/mlp-w15_features-s200-p2/assets\n",
      "221/221 [==============================] - 0s 523us/step\n",
      "INFO:tensorflow:Assets written to: ram://cebd19ba-f21b-49e8-9afd-01aa409fde35/assets\n",
      "INFO:tensorflow:Assets written to: models/mlp-w15_features-s200-p3/assets\n",
      "221/221 [==============================] - 0s 488us/step\n",
      "INFO:tensorflow:Assets written to: ram://0acc25be-734a-4041-9d95-232eb4e6b6f9/assets\n",
      "INFO:tensorflow:Assets written to: models/mlp-w20_features-s200-p0/assets\n",
      "221/221 [==============================] - 0s 510us/step\n",
      "INFO:tensorflow:Assets written to: ram://a7b18ff6-2db5-49a5-8400-71170a8f9244/assets\n",
      "INFO:tensorflow:Assets written to: models/mlp-w20_features-s200-p1/assets\n",
      "221/221 [==============================] - 0s 507us/step\n",
      "INFO:tensorflow:Assets written to: ram://52e2312b-e3ed-43c9-865e-1755daf50df9/assets\n",
      "INFO:tensorflow:Assets written to: models/mlp-w20_features-s200-p2/assets\n",
      "221/221 [==============================] - 0s 551us/step\n",
      "INFO:tensorflow:Assets written to: ram://50b95080-9f2e-43e7-93a3-c8d0272143a1/assets\n",
      "INFO:tensorflow:Assets written to: models/mlp-w20_features-s200-p3/assets\n",
      "221/221 [==============================] - 0s 485us/step\n",
      "INFO:tensorflow:Assets written to: ram://9bf2492f-949b-48fa-a6ff-09bfa1525bd5/assets\n",
      "INFO:tensorflow:Assets written to: models/mlp-no_diff_features-s200-p0/assets\n",
      "221/221 [==============================] - 0s 472us/step\n",
      "INFO:tensorflow:Assets written to: ram://70a437bd-fc1a-41dd-8e12-dbe5240f7caf/assets\n",
      "INFO:tensorflow:Assets written to: models/mlp-no_diff_features-s200-p1/assets\n",
      "221/221 [==============================] - 0s 479us/step\n",
      "INFO:tensorflow:Assets written to: ram://8af6567e-1ff6-4644-8cfc-d7518badcdd4/assets\n",
      "INFO:tensorflow:Assets written to: models/mlp-no_diff_features-s200-p2/assets\n",
      "221/221 [==============================] - 0s 507us/step\n",
      "INFO:tensorflow:Assets written to: ram://5fae5c0f-03dd-4b2d-942b-70f56f09aa55/assets\n",
      "INFO:tensorflow:Assets written to: models/mlp-no_diff_features-s200-p3/assets\n",
      "221/221 [==============================] - 0s 470us/step\n",
      "INFO:tensorflow:Assets written to: ram://7d07db08-8bf6-4950-89fd-3eac5b178676/assets\n",
      "INFO:tensorflow:Assets written to: models/mlp-diff_features-s200-p0/assets\n",
      "221/221 [==============================] - 0s 473us/step\n",
      "INFO:tensorflow:Assets written to: ram://960332aa-050a-4c58-b079-ce722a5d56bd/assets\n",
      "INFO:tensorflow:Assets written to: models/mlp-diff_features-s200-p1/assets\n",
      "221/221 [==============================] - 0s 526us/step\n",
      "INFO:tensorflow:Assets written to: ram://f5591bd7-1d71-41b8-9b28-5cf2d719abe9/assets\n",
      "INFO:tensorflow:Assets written to: models/mlp-diff_features-s200-p2/assets\n",
      "221/221 [==============================] - 0s 577us/step\n",
      "INFO:tensorflow:Assets written to: ram://42b62cbc-43a5-4dc2-bbab-6fc4848ead36/assets\n",
      "INFO:tensorflow:Assets written to: models/mlp-diff_features-s200-p3/assets\n",
      "221/221 [==============================] - 0s 458us/step\n",
      "INFO:tensorflow:Assets written to: ram://d4c17f0a-b5b6-46ef-a447-86460867e539/assets\n",
      "INFO:tensorflow:Assets written to: models/mlp-all_features-s300-p0/assets\n",
      "221/221 [==============================] - 0s 477us/step\n",
      "INFO:tensorflow:Assets written to: ram://1e75d22f-876c-486e-926f-950c7686dea2/assets\n",
      "INFO:tensorflow:Assets written to: models/mlp-all_features-s300-p1/assets\n",
      "221/221 [==============================] - 0s 505us/step\n",
      "INFO:tensorflow:Assets written to: ram://aa97d713-216c-4035-aed8-4432c693c0b2/assets\n",
      "INFO:tensorflow:Assets written to: models/mlp-all_features-s300-p2/assets\n",
      "221/221 [==============================] - 0s 520us/step\n",
      "INFO:tensorflow:Assets written to: ram://85bd3404-a062-4acb-ba94-90be9d49d50e/assets\n",
      "INFO:tensorflow:Assets written to: models/mlp-all_features-s300-p3/assets\n",
      "221/221 [==============================] - 0s 470us/step\n",
      "INFO:tensorflow:Assets written to: ram://8edf725b-cadd-4e60-9c48-7271ab83c130/assets\n",
      "INFO:tensorflow:Assets written to: models/mlp-w5_features-s300-p0/assets\n",
      "221/221 [==============================] - 0s 497us/step\n",
      "INFO:tensorflow:Assets written to: ram://52601ac2-ec98-4700-a6ef-86eb5955f4f9/assets\n",
      "INFO:tensorflow:Assets written to: models/mlp-w5_features-s300-p1/assets\n",
      "221/221 [==============================] - 0s 500us/step\n",
      "INFO:tensorflow:Assets written to: ram://53a27ba3-aaaa-4d00-9325-5ee4d430f319/assets\n",
      "INFO:tensorflow:Assets written to: models/mlp-w5_features-s300-p2/assets\n",
      "221/221 [==============================] - 0s 581us/step\n",
      "INFO:tensorflow:Assets written to: ram://f08d46e0-7d35-421d-ac84-4a386e820d35/assets\n",
      "INFO:tensorflow:Assets written to: models/mlp-w5_features-s300-p3/assets\n",
      "221/221 [==============================] - 0s 467us/step\n",
      "INFO:tensorflow:Assets written to: ram://7fde7066-80c8-4b59-b047-c530b6691a92/assets\n",
      "INFO:tensorflow:Assets written to: models/mlp-w10_features-s300-p0/assets\n",
      "221/221 [==============================] - 0s 461us/step\n",
      "INFO:tensorflow:Assets written to: ram://6b4000f0-2c08-4057-8efd-7a343fe4edbd/assets\n",
      "INFO:tensorflow:Assets written to: models/mlp-w10_features-s300-p1/assets\n",
      "221/221 [==============================] - 0s 505us/step\n",
      "INFO:tensorflow:Assets written to: ram://378bd36f-70a5-4595-bc71-434a93e21698/assets\n",
      "INFO:tensorflow:Assets written to: models/mlp-w10_features-s300-p2/assets\n",
      "221/221 [==============================] - 0s 525us/step\n",
      "INFO:tensorflow:Assets written to: ram://2a3971af-5baa-4770-9c8d-3c2797a026ca/assets\n",
      "INFO:tensorflow:Assets written to: models/mlp-w10_features-s300-p3/assets\n",
      "221/221 [==============================] - 0s 476us/step\n",
      "INFO:tensorflow:Assets written to: ram://28626423-97b2-4bb6-b0e4-92a078244cc0/assets\n",
      "INFO:tensorflow:Assets written to: models/mlp-w15_features-s300-p0/assets\n",
      "221/221 [==============================] - 0s 480us/step\n",
      "INFO:tensorflow:Assets written to: ram://bab39736-a202-43f0-b056-dc60c38657e6/assets\n",
      "INFO:tensorflow:Assets written to: models/mlp-w15_features-s300-p1/assets\n",
      "221/221 [==============================] - 0s 485us/step\n",
      "INFO:tensorflow:Assets written to: ram://8c52c13c-9b26-4fd8-9b10-ec52120b89d7/assets\n",
      "INFO:tensorflow:Assets written to: models/mlp-w15_features-s300-p2/assets\n",
      "221/221 [==============================] - 0s 495us/step\n",
      "INFO:tensorflow:Assets written to: ram://9620a588-76fe-476f-89e2-d242842ad4d3/assets\n",
      "INFO:tensorflow:Assets written to: models/mlp-w15_features-s300-p3/assets\n",
      "221/221 [==============================] - 0s 453us/step\n",
      "INFO:tensorflow:Assets written to: ram://bf9d8a1f-d7d3-4aba-8ece-4c35e8f55651/assets\n",
      "INFO:tensorflow:Assets written to: models/mlp-w20_features-s300-p0/assets\n",
      "221/221 [==============================] - 0s 505us/step\n",
      "INFO:tensorflow:Assets written to: ram://3f246a0a-ace1-424d-8b8a-8b2bf0a49f9a/assets\n",
      "INFO:tensorflow:Assets written to: models/mlp-w20_features-s300-p1/assets\n",
      "221/221 [==============================] - 0s 503us/step\n",
      "INFO:tensorflow:Assets written to: ram://d09d6ccb-04c3-4c5d-9322-6e0528158e14/assets\n",
      "INFO:tensorflow:Assets written to: models/mlp-w20_features-s300-p2/assets\n",
      "221/221 [==============================] - 0s 540us/step\n",
      "INFO:tensorflow:Assets written to: ram://bc4defd2-93ac-456f-80b8-f0cf2a3b56ac/assets\n",
      "INFO:tensorflow:Assets written to: models/mlp-w20_features-s300-p3/assets\n"
     ]
    },
    {
     "name": "stdout",
     "output_type": "stream",
     "text": [
      "221/221 [==============================] - 0s 479us/step\n",
      "INFO:tensorflow:Assets written to: ram://eacb48b0-8783-4d55-a6c4-a85350d8fc78/assets\n",
      "INFO:tensorflow:Assets written to: models/mlp-no_diff_features-s300-p0/assets\n",
      "221/221 [==============================] - 0s 474us/step\n",
      "INFO:tensorflow:Assets written to: ram://ee2d1979-f8fb-4af4-b172-4474414e7e98/assets\n",
      "INFO:tensorflow:Assets written to: models/mlp-no_diff_features-s300-p1/assets\n",
      "221/221 [==============================] - 0s 501us/step\n",
      "INFO:tensorflow:Assets written to: ram://54f8c9f8-7caf-4b95-9b9f-675b62bfa545/assets\n",
      "INFO:tensorflow:Assets written to: models/mlp-no_diff_features-s300-p2/assets\n",
      "221/221 [==============================] - 0s 527us/step\n",
      "INFO:tensorflow:Assets written to: ram://94fc0fb9-d9a2-4ea4-9b4f-55cae1b2c17d/assets\n",
      "INFO:tensorflow:Assets written to: models/mlp-no_diff_features-s300-p3/assets\n",
      "221/221 [==============================] - 0s 448us/step\n",
      "INFO:tensorflow:Assets written to: ram://a2371bb5-9547-4b4f-868c-6b61277384e1/assets\n",
      "INFO:tensorflow:Assets written to: models/mlp-diff_features-s300-p0/assets\n",
      "221/221 [==============================] - 0s 510us/step\n",
      "INFO:tensorflow:Assets written to: ram://92b93dce-52bd-45d2-b243-73692cfbd08f/assets\n",
      "INFO:tensorflow:Assets written to: models/mlp-diff_features-s300-p1/assets\n",
      "221/221 [==============================] - 0s 520us/step\n",
      "INFO:tensorflow:Assets written to: ram://51c066c9-3922-4f36-8fdd-71e78f05c2d7/assets\n",
      "INFO:tensorflow:Assets written to: models/mlp-diff_features-s300-p2/assets\n",
      "221/221 [==============================] - 0s 521us/step\n",
      "INFO:tensorflow:Assets written to: ram://9802fcb0-4086-4f33-a956-11dc6b8745de/assets\n",
      "INFO:tensorflow:Assets written to: models/mlp-diff_features-s300-p3/assets\n"
     ]
    }
   ],
   "source": [
    "for seed in seeds:\n",
    "    for columns in features:\n",
    "        for params_idx, params in enumerate(params_mlp):\n",
    "\n",
    "            set_determinism(seed)\n",
    "            \n",
    "            training_set_mlp, validation_set_mlp = build_dataset_for_ml_model(df, training_columns=features[columns])\n",
    "            counts_mlp = pd.Series(training_set_mlp[:, -1]).value_counts(normalize=True)\n",
    "            class_weight_mlp = {0: 1/counts_mlp[0], 1: 1/counts_mlp[1]}\n",
    "            \n",
    "            input_size_mlp = training_set_mlp.shape[1] - 1\n",
    "            mlp = build_classifier(input_size=input_size_mlp, hidden=params[\"hidden_mlp\"])\n",
    "            mlp.compile(optimizer=keras.optimizers.Adam(learning_rate=learning_rate), loss='binary_crossentropy')\n",
    "            cb_mlp = [callbacks.EarlyStopping(patience=patience, restore_best_weights=True)]\n",
    "            history_mlp = mlp.fit(training_set_mlp[:, :-1], training_set_mlp[:, -1], validation_split=validation_split,\n",
    "                                  callbacks=cb_mlp, class_weight=class_weight_mlp,\n",
    "                                  batch_size=batch_size, epochs=epochs, verbose=0)\n",
    "            \n",
    "            preds_mlp = mlp.predict(validation_set_mlp[:, :-1]).ravel()\n",
    "            \n",
    "            signal_mlp = pd.Series(data=(1 - preds_mlp))\n",
    "            rul_mlp = validation_set_mlp[:, -1]\n",
    "\n",
    "            best_cost_mlp, best_thr_mlp, all_cost_mlp, all_thr_mlp = threshold_optimization(signal_mlp, rul_mlp, start=0, end=signal_mlp.max(), n_steps=200)\n",
    "            \n",
    "            perf_mlp = performance_evaluation(signal_mlp, best_thr_mlp, rul_mlp)\n",
    "            all_perf.append([\"mlp\", seed, columns, params] + perf_mlp)\n",
    "            \n",
    "            serialize_perf(\"mlp\", seed=seed, columns_name=columns, training_columns=features[columns], \n",
    "                           params=params, params_idx=params_idx, history=history_mlp, best_cost=best_cost_mlp, best_thr=best_thr_mlp, \n",
    "                           all_cost=all_cost_mlp, all_thr=all_thr_mlp, perf=perf_mlp)\n",
    "            \n",
    "            mlp.save(models_path + \"mlp\" + \"-\" + columns + \"-s\" + str(seed) + \"-p\" + str(params_idx))"
   ]
  },
  {
   "cell_type": "markdown",
   "id": "fed1a1bb",
   "metadata": {},
   "source": [
    "## RUL estimation with Convolutional Neural Networks"
   ]
  },
  {
   "cell_type": "code",
   "execution_count": 25,
   "id": "2cd3879f",
   "metadata": {},
   "outputs": [],
   "source": [
    "def sliding_window_2D(data, w_len, stride=1):\n",
    "    # Get shifted tables\n",
    "    m = len(data)\n",
    "    lt = [data.iloc[i:m-w_len+i+1:stride, :].values for i in range(w_len)]\n",
    "    # Reshape to add a new axis\n",
    "    s = lt[0].shape\n",
    "    for i in range(w_len):\n",
    "        lt[i] = lt[i].reshape(s[0], 1, s[1])\n",
    "    # Concatenate\n",
    "    wdata = np.concatenate(lt, axis=1)\n",
    "    return wdata\n",
    "\n",
    "\n",
    "def sliding_window_by_fault(data, cols, w_len, stride=1):\n",
    "    l_w, l_r = [], []\n",
    "    for gdata in data:\n",
    "        # Apply a sliding window\n",
    "        tmp_w = sliding_window_2D(gdata[cols], w_len, stride)\n",
    "        # Build the RUL vector\n",
    "        tmp_r = gdata['label'].iloc[w_len-1::stride]\n",
    "        # Store everything\n",
    "        l_w.append(tmp_w)\n",
    "        l_r.append(tmp_r)\n",
    "    res_w = np.concatenate(l_w)\n",
    "    res_r = np.concatenate(l_r)\n",
    "    return res_w, res_r"
   ]
  },
  {
   "cell_type": "code",
   "execution_count": 26,
   "id": "7b19381b",
   "metadata": {},
   "outputs": [],
   "source": [
    "def build_cnn_regressor(input_size, filters, kernel_size, hidden, w_len):\n",
    "    input_shape = (w_len, input_size)\n",
    "    model_in = keras.Input(shape=input_shape, dtype='float32')\n",
    "    model_out = layers.Conv1D(filters, kernel_size=kernel_size, \n",
    "                              activation='relu')(model_in)\n",
    "    model_out = layers.Flatten()(model_out)\n",
    "    for h in hidden:\n",
    "        model_out = layers.Dense(h, activation='relu')(model_out)\n",
    "    model_out = layers.Dense(1, activation='sigmoid')(model_out)\n",
    "    model = keras.Model(model_in, model_out)\n",
    "    return model"
   ]
  },
  {
   "cell_type": "code",
   "execution_count": 27,
   "id": "3b75ef45",
   "metadata": {},
   "outputs": [],
   "source": [
    "params_cnn = [{\"filters\": 1, \"kernel_size\": 3, \"hidden\": [32], \"w_len\": 5},\n",
    "              {\"filters\": 4, \"kernel_size\": 3, \"hidden\": [32], \"w_len\": 5},\n",
    "              {\"filters\": 1, \"kernel_size\": 5, \"hidden\": [32], \"w_len\": 5},\n",
    "              {\"filters\": 4, \"kernel_size\": 5, \"hidden\": [32], \"w_len\": 5},\n",
    "              {\"filters\": 4, \"kernel_size\": 5, \"hidden\": [64, 32], \"w_len\": 5},\n",
    "              {\"filters\": 1, \"kernel_size\": 3, \"hidden\": [32], \"w_len\": 10},\n",
    "              {\"filters\": 4, \"kernel_size\": 3, \"hidden\": [32], \"w_len\": 10},\n",
    "              {\"filters\": 1, \"kernel_size\": 5, \"hidden\": [32], \"w_len\": 10},\n",
    "              {\"filters\": 4, \"kernel_size\": 5, \"hidden\": [32], \"w_len\": 10},\n",
    "              {\"filters\": 4, \"kernel_size\": 5, \"hidden\": [64, 32], \"w_len\": 10},\n",
    "              {\"filters\": 4, \"kernel_size\": 7, \"hidden\": [128, 64, 32], \"w_len\": 10}]"
   ]
  },
  {
   "cell_type": "code",
   "execution_count": 28,
   "id": "8535c7aa",
   "metadata": {
    "scrolled": true
   },
   "outputs": [
    {
     "name": "stdout",
     "output_type": "stream",
     "text": [
      "220/220 [==============================] - 0s 647us/step\n"
     ]
    },
    {
     "name": "stderr",
     "output_type": "stream",
     "text": [
      "WARNING:absl:Found untraced functions such as _jit_compiled_convolution_op while saving (showing 1 of 1). These functions will not be directly callable after loading.\n"
     ]
    },
    {
     "name": "stdout",
     "output_type": "stream",
     "text": [
      "INFO:tensorflow:Assets written to: ram://edd4b914-42a3-4160-a31f-344e4787f793/assets\n"
     ]
    },
    {
     "name": "stderr",
     "output_type": "stream",
     "text": [
      "INFO:tensorflow:Assets written to: ram://edd4b914-42a3-4160-a31f-344e4787f793/assets\n",
      "WARNING:absl:Found untraced functions such as _jit_compiled_convolution_op while saving (showing 1 of 1). These functions will not be directly callable after loading.\n"
     ]
    },
    {
     "name": "stdout",
     "output_type": "stream",
     "text": [
      "INFO:tensorflow:Assets written to: models/conv_nn-all_features-s100-p0/assets\n"
     ]
    },
    {
     "name": "stderr",
     "output_type": "stream",
     "text": [
      "INFO:tensorflow:Assets written to: models/conv_nn-all_features-s100-p0/assets\n"
     ]
    },
    {
     "name": "stdout",
     "output_type": "stream",
     "text": [
      "220/220 [==============================] - 0s 653us/step\n"
     ]
    },
    {
     "name": "stderr",
     "output_type": "stream",
     "text": [
      "WARNING:absl:Found untraced functions such as _jit_compiled_convolution_op while saving (showing 1 of 1). These functions will not be directly callable after loading.\n"
     ]
    },
    {
     "name": "stdout",
     "output_type": "stream",
     "text": [
      "INFO:tensorflow:Assets written to: ram://641fde94-a04c-47c9-8657-61282abc243e/assets\n"
     ]
    },
    {
     "name": "stderr",
     "output_type": "stream",
     "text": [
      "INFO:tensorflow:Assets written to: ram://641fde94-a04c-47c9-8657-61282abc243e/assets\n",
      "WARNING:absl:Found untraced functions such as _jit_compiled_convolution_op while saving (showing 1 of 1). These functions will not be directly callable after loading.\n"
     ]
    },
    {
     "name": "stdout",
     "output_type": "stream",
     "text": [
      "INFO:tensorflow:Assets written to: models/conv_nn-all_features-s100-p1/assets\n"
     ]
    },
    {
     "name": "stderr",
     "output_type": "stream",
     "text": [
      "INFO:tensorflow:Assets written to: models/conv_nn-all_features-s100-p1/assets\n"
     ]
    },
    {
     "name": "stdout",
     "output_type": "stream",
     "text": [
      "220/220 [==============================] - 0s 576us/step\n"
     ]
    },
    {
     "name": "stderr",
     "output_type": "stream",
     "text": [
      "WARNING:absl:Found untraced functions such as _jit_compiled_convolution_op while saving (showing 1 of 1). These functions will not be directly callable after loading.\n"
     ]
    },
    {
     "name": "stdout",
     "output_type": "stream",
     "text": [
      "INFO:tensorflow:Assets written to: ram://8d9f730a-8483-43e1-bcd7-c13f21ad13ad/assets\n"
     ]
    },
    {
     "name": "stderr",
     "output_type": "stream",
     "text": [
      "INFO:tensorflow:Assets written to: ram://8d9f730a-8483-43e1-bcd7-c13f21ad13ad/assets\n",
      "WARNING:absl:Found untraced functions such as _jit_compiled_convolution_op while saving (showing 1 of 1). These functions will not be directly callable after loading.\n"
     ]
    },
    {
     "name": "stdout",
     "output_type": "stream",
     "text": [
      "INFO:tensorflow:Assets written to: models/conv_nn-all_features-s100-p2/assets\n"
     ]
    },
    {
     "name": "stderr",
     "output_type": "stream",
     "text": [
      "INFO:tensorflow:Assets written to: models/conv_nn-all_features-s100-p2/assets\n"
     ]
    },
    {
     "name": "stdout",
     "output_type": "stream",
     "text": [
      "220/220 [==============================] - 0s 597us/step\n"
     ]
    },
    {
     "name": "stderr",
     "output_type": "stream",
     "text": [
      "WARNING:absl:Found untraced functions such as _jit_compiled_convolution_op while saving (showing 1 of 1). These functions will not be directly callable after loading.\n"
     ]
    },
    {
     "name": "stdout",
     "output_type": "stream",
     "text": [
      "INFO:tensorflow:Assets written to: ram://849e03ae-4160-4d1d-8cdc-371823034d0f/assets\n"
     ]
    },
    {
     "name": "stderr",
     "output_type": "stream",
     "text": [
      "INFO:tensorflow:Assets written to: ram://849e03ae-4160-4d1d-8cdc-371823034d0f/assets\n",
      "WARNING:absl:Found untraced functions such as _jit_compiled_convolution_op while saving (showing 1 of 1). These functions will not be directly callable after loading.\n"
     ]
    },
    {
     "name": "stdout",
     "output_type": "stream",
     "text": [
      "INFO:tensorflow:Assets written to: models/conv_nn-all_features-s100-p3/assets\n"
     ]
    },
    {
     "name": "stderr",
     "output_type": "stream",
     "text": [
      "INFO:tensorflow:Assets written to: models/conv_nn-all_features-s100-p3/assets\n"
     ]
    },
    {
     "name": "stdout",
     "output_type": "stream",
     "text": [
      "220/220 [==============================] - 0s 597us/step\n"
     ]
    },
    {
     "name": "stderr",
     "output_type": "stream",
     "text": [
      "WARNING:absl:Found untraced functions such as _jit_compiled_convolution_op while saving (showing 1 of 1). These functions will not be directly callable after loading.\n"
     ]
    },
    {
     "name": "stdout",
     "output_type": "stream",
     "text": [
      "INFO:tensorflow:Assets written to: ram://c1a041d1-49b8-4c02-9dde-b73d9085daa6/assets\n"
     ]
    },
    {
     "name": "stderr",
     "output_type": "stream",
     "text": [
      "INFO:tensorflow:Assets written to: ram://c1a041d1-49b8-4c02-9dde-b73d9085daa6/assets\n",
      "WARNING:absl:Found untraced functions such as _jit_compiled_convolution_op while saving (showing 1 of 1). These functions will not be directly callable after loading.\n"
     ]
    },
    {
     "name": "stdout",
     "output_type": "stream",
     "text": [
      "INFO:tensorflow:Assets written to: models/conv_nn-all_features-s100-p4/assets\n"
     ]
    },
    {
     "name": "stderr",
     "output_type": "stream",
     "text": [
      "INFO:tensorflow:Assets written to: models/conv_nn-all_features-s100-p4/assets\n"
     ]
    },
    {
     "name": "stdout",
     "output_type": "stream",
     "text": [
      "219/219 [==============================] - 0s 620us/step\n"
     ]
    },
    {
     "name": "stderr",
     "output_type": "stream",
     "text": [
      "WARNING:absl:Found untraced functions such as _jit_compiled_convolution_op while saving (showing 1 of 1). These functions will not be directly callable after loading.\n"
     ]
    },
    {
     "name": "stdout",
     "output_type": "stream",
     "text": [
      "INFO:tensorflow:Assets written to: ram://3e041f41-591d-479e-bc6b-7e4b6276448d/assets\n"
     ]
    },
    {
     "name": "stderr",
     "output_type": "stream",
     "text": [
      "INFO:tensorflow:Assets written to: ram://3e041f41-591d-479e-bc6b-7e4b6276448d/assets\n",
      "WARNING:absl:Found untraced functions such as _jit_compiled_convolution_op while saving (showing 1 of 1). These functions will not be directly callable after loading.\n"
     ]
    },
    {
     "name": "stdout",
     "output_type": "stream",
     "text": [
      "INFO:tensorflow:Assets written to: models/conv_nn-all_features-s100-p5/assets\n"
     ]
    },
    {
     "name": "stderr",
     "output_type": "stream",
     "text": [
      "INFO:tensorflow:Assets written to: models/conv_nn-all_features-s100-p5/assets\n"
     ]
    },
    {
     "name": "stdout",
     "output_type": "stream",
     "text": [
      "219/219 [==============================] - 0s 682us/step\n"
     ]
    },
    {
     "name": "stderr",
     "output_type": "stream",
     "text": [
      "WARNING:absl:Found untraced functions such as _jit_compiled_convolution_op while saving (showing 1 of 1). These functions will not be directly callable after loading.\n"
     ]
    },
    {
     "name": "stdout",
     "output_type": "stream",
     "text": [
      "INFO:tensorflow:Assets written to: ram://3610b408-f2cd-48f5-a00a-7a70f8798792/assets\n"
     ]
    },
    {
     "name": "stderr",
     "output_type": "stream",
     "text": [
      "INFO:tensorflow:Assets written to: ram://3610b408-f2cd-48f5-a00a-7a70f8798792/assets\n",
      "WARNING:absl:Found untraced functions such as _jit_compiled_convolution_op while saving (showing 1 of 1). These functions will not be directly callable after loading.\n"
     ]
    },
    {
     "name": "stdout",
     "output_type": "stream",
     "text": [
      "INFO:tensorflow:Assets written to: models/conv_nn-all_features-s100-p6/assets\n"
     ]
    },
    {
     "name": "stderr",
     "output_type": "stream",
     "text": [
      "INFO:tensorflow:Assets written to: models/conv_nn-all_features-s100-p6/assets\n"
     ]
    },
    {
     "name": "stdout",
     "output_type": "stream",
     "text": [
      "219/219 [==============================] - 0s 615us/step\n"
     ]
    },
    {
     "name": "stderr",
     "output_type": "stream",
     "text": [
      "WARNING:absl:Found untraced functions such as _jit_compiled_convolution_op while saving (showing 1 of 1). These functions will not be directly callable after loading.\n"
     ]
    },
    {
     "name": "stdout",
     "output_type": "stream",
     "text": [
      "INFO:tensorflow:Assets written to: ram://ab569cd0-05cb-4e21-b70b-64c01fb18f1a/assets\n"
     ]
    },
    {
     "name": "stderr",
     "output_type": "stream",
     "text": [
      "INFO:tensorflow:Assets written to: ram://ab569cd0-05cb-4e21-b70b-64c01fb18f1a/assets\n",
      "WARNING:absl:Found untraced functions such as _jit_compiled_convolution_op while saving (showing 1 of 1). These functions will not be directly callable after loading.\n"
     ]
    },
    {
     "name": "stdout",
     "output_type": "stream",
     "text": [
      "INFO:tensorflow:Assets written to: models/conv_nn-all_features-s100-p7/assets\n"
     ]
    },
    {
     "name": "stderr",
     "output_type": "stream",
     "text": [
      "INFO:tensorflow:Assets written to: models/conv_nn-all_features-s100-p7/assets\n"
     ]
    },
    {
     "name": "stdout",
     "output_type": "stream",
     "text": [
      "219/219 [==============================] - 0s 653us/step\n"
     ]
    },
    {
     "name": "stderr",
     "output_type": "stream",
     "text": [
      "WARNING:absl:Found untraced functions such as _jit_compiled_convolution_op while saving (showing 1 of 1). These functions will not be directly callable after loading.\n"
     ]
    },
    {
     "name": "stdout",
     "output_type": "stream",
     "text": [
      "INFO:tensorflow:Assets written to: ram://695a2cf9-a8f8-482e-872f-cf5715d60dc4/assets\n"
     ]
    },
    {
     "name": "stderr",
     "output_type": "stream",
     "text": [
      "INFO:tensorflow:Assets written to: ram://695a2cf9-a8f8-482e-872f-cf5715d60dc4/assets\n",
      "WARNING:absl:Found untraced functions such as _jit_compiled_convolution_op while saving (showing 1 of 1). These functions will not be directly callable after loading.\n"
     ]
    },
    {
     "name": "stdout",
     "output_type": "stream",
     "text": [
      "INFO:tensorflow:Assets written to: models/conv_nn-all_features-s100-p8/assets\n"
     ]
    },
    {
     "name": "stderr",
     "output_type": "stream",
     "text": [
      "INFO:tensorflow:Assets written to: models/conv_nn-all_features-s100-p8/assets\n"
     ]
    },
    {
     "name": "stdout",
     "output_type": "stream",
     "text": [
      "219/219 [==============================] - 0s 673us/step\n"
     ]
    },
    {
     "name": "stderr",
     "output_type": "stream",
     "text": [
      "WARNING:absl:Found untraced functions such as _jit_compiled_convolution_op while saving (showing 1 of 1). These functions will not be directly callable after loading.\n"
     ]
    },
    {
     "name": "stdout",
     "output_type": "stream",
     "text": [
      "INFO:tensorflow:Assets written to: ram://c54ea708-4d72-48a9-93d8-2b82e455b254/assets\n"
     ]
    },
    {
     "name": "stderr",
     "output_type": "stream",
     "text": [
      "INFO:tensorflow:Assets written to: ram://c54ea708-4d72-48a9-93d8-2b82e455b254/assets\n",
      "WARNING:absl:Found untraced functions such as _jit_compiled_convolution_op while saving (showing 1 of 1). These functions will not be directly callable after loading.\n"
     ]
    },
    {
     "name": "stdout",
     "output_type": "stream",
     "text": [
      "INFO:tensorflow:Assets written to: models/conv_nn-all_features-s100-p9/assets\n"
     ]
    },
    {
     "name": "stderr",
     "output_type": "stream",
     "text": [
      "INFO:tensorflow:Assets written to: models/conv_nn-all_features-s100-p9/assets\n"
     ]
    },
    {
     "name": "stdout",
     "output_type": "stream",
     "text": [
      "219/219 [==============================] - 0s 676us/step\n"
     ]
    },
    {
     "name": "stderr",
     "output_type": "stream",
     "text": [
      "WARNING:absl:Found untraced functions such as _jit_compiled_convolution_op while saving (showing 1 of 1). These functions will not be directly callable after loading.\n"
     ]
    },
    {
     "name": "stdout",
     "output_type": "stream",
     "text": [
      "INFO:tensorflow:Assets written to: ram://40659183-6574-48f3-bce7-55c91ca81d67/assets\n"
     ]
    },
    {
     "name": "stderr",
     "output_type": "stream",
     "text": [
      "INFO:tensorflow:Assets written to: ram://40659183-6574-48f3-bce7-55c91ca81d67/assets\n",
      "WARNING:absl:Found untraced functions such as _jit_compiled_convolution_op while saving (showing 1 of 1). These functions will not be directly callable after loading.\n"
     ]
    },
    {
     "name": "stdout",
     "output_type": "stream",
     "text": [
      "INFO:tensorflow:Assets written to: models/conv_nn-all_features-s100-p10/assets\n"
     ]
    },
    {
     "name": "stderr",
     "output_type": "stream",
     "text": [
      "INFO:tensorflow:Assets written to: models/conv_nn-all_features-s100-p10/assets\n"
     ]
    },
    {
     "name": "stdout",
     "output_type": "stream",
     "text": [
      "220/220 [==============================] - 0s 559us/step\n"
     ]
    },
    {
     "name": "stderr",
     "output_type": "stream",
     "text": [
      "WARNING:absl:Found untraced functions such as _jit_compiled_convolution_op while saving (showing 1 of 1). These functions will not be directly callable after loading.\n"
     ]
    },
    {
     "name": "stdout",
     "output_type": "stream",
     "text": [
      "INFO:tensorflow:Assets written to: ram://be35d3c9-3731-4b7a-8209-4f41f98bc5fe/assets\n"
     ]
    },
    {
     "name": "stderr",
     "output_type": "stream",
     "text": [
      "INFO:tensorflow:Assets written to: ram://be35d3c9-3731-4b7a-8209-4f41f98bc5fe/assets\n",
      "WARNING:absl:Found untraced functions such as _jit_compiled_convolution_op while saving (showing 1 of 1). These functions will not be directly callable after loading.\n"
     ]
    },
    {
     "name": "stdout",
     "output_type": "stream",
     "text": [
      "INFO:tensorflow:Assets written to: models/conv_nn-w5_features-s100-p0/assets\n"
     ]
    },
    {
     "name": "stderr",
     "output_type": "stream",
     "text": [
      "INFO:tensorflow:Assets written to: models/conv_nn-w5_features-s100-p0/assets\n"
     ]
    },
    {
     "name": "stdout",
     "output_type": "stream",
     "text": [
      "220/220 [==============================] - 0s 588us/step\n"
     ]
    },
    {
     "name": "stderr",
     "output_type": "stream",
     "text": [
      "WARNING:absl:Found untraced functions such as _jit_compiled_convolution_op while saving (showing 1 of 1). These functions will not be directly callable after loading.\n"
     ]
    },
    {
     "name": "stdout",
     "output_type": "stream",
     "text": [
      "INFO:tensorflow:Assets written to: ram://3af65520-ced7-450c-8113-52671dfbcd8f/assets\n"
     ]
    },
    {
     "name": "stderr",
     "output_type": "stream",
     "text": [
      "INFO:tensorflow:Assets written to: ram://3af65520-ced7-450c-8113-52671dfbcd8f/assets\n",
      "WARNING:absl:Found untraced functions such as _jit_compiled_convolution_op while saving (showing 1 of 1). These functions will not be directly callable after loading.\n"
     ]
    },
    {
     "name": "stdout",
     "output_type": "stream",
     "text": [
      "INFO:tensorflow:Assets written to: models/conv_nn-w5_features-s100-p1/assets\n"
     ]
    },
    {
     "name": "stderr",
     "output_type": "stream",
     "text": [
      "INFO:tensorflow:Assets written to: models/conv_nn-w5_features-s100-p1/assets\n"
     ]
    },
    {
     "name": "stdout",
     "output_type": "stream",
     "text": [
      "220/220 [==============================] - 0s 532us/step\n"
     ]
    },
    {
     "name": "stderr",
     "output_type": "stream",
     "text": [
      "WARNING:absl:Found untraced functions such as _jit_compiled_convolution_op while saving (showing 1 of 1). These functions will not be directly callable after loading.\n"
     ]
    },
    {
     "name": "stdout",
     "output_type": "stream",
     "text": [
      "INFO:tensorflow:Assets written to: ram://b5bf1ef8-f4bc-4695-818b-4e87e796952f/assets\n"
     ]
    },
    {
     "name": "stderr",
     "output_type": "stream",
     "text": [
      "INFO:tensorflow:Assets written to: ram://b5bf1ef8-f4bc-4695-818b-4e87e796952f/assets\n",
      "WARNING:absl:Found untraced functions such as _jit_compiled_convolution_op while saving (showing 1 of 1). These functions will not be directly callable after loading.\n"
     ]
    },
    {
     "name": "stdout",
     "output_type": "stream",
     "text": [
      "INFO:tensorflow:Assets written to: models/conv_nn-w5_features-s100-p2/assets\n"
     ]
    },
    {
     "name": "stderr",
     "output_type": "stream",
     "text": [
      "INFO:tensorflow:Assets written to: models/conv_nn-w5_features-s100-p2/assets\n"
     ]
    },
    {
     "name": "stdout",
     "output_type": "stream",
     "text": [
      "220/220 [==============================] - 0s 541us/step\n"
     ]
    },
    {
     "name": "stderr",
     "output_type": "stream",
     "text": [
      "WARNING:absl:Found untraced functions such as _jit_compiled_convolution_op while saving (showing 1 of 1). These functions will not be directly callable after loading.\n"
     ]
    },
    {
     "name": "stdout",
     "output_type": "stream",
     "text": [
      "INFO:tensorflow:Assets written to: ram://5ed43222-d18e-41de-8d89-15dba9bca1bb/assets\n"
     ]
    },
    {
     "name": "stderr",
     "output_type": "stream",
     "text": [
      "INFO:tensorflow:Assets written to: ram://5ed43222-d18e-41de-8d89-15dba9bca1bb/assets\n",
      "WARNING:absl:Found untraced functions such as _jit_compiled_convolution_op while saving (showing 1 of 1). These functions will not be directly callable after loading.\n"
     ]
    },
    {
     "name": "stdout",
     "output_type": "stream",
     "text": [
      "INFO:tensorflow:Assets written to: models/conv_nn-w5_features-s100-p3/assets\n"
     ]
    },
    {
     "name": "stderr",
     "output_type": "stream",
     "text": [
      "INFO:tensorflow:Assets written to: models/conv_nn-w5_features-s100-p3/assets\n"
     ]
    },
    {
     "name": "stdout",
     "output_type": "stream",
     "text": [
      "220/220 [==============================] - 0s 546us/step\n"
     ]
    },
    {
     "name": "stderr",
     "output_type": "stream",
     "text": [
      "WARNING:absl:Found untraced functions such as _jit_compiled_convolution_op while saving (showing 1 of 1). These functions will not be directly callable after loading.\n"
     ]
    },
    {
     "name": "stdout",
     "output_type": "stream",
     "text": [
      "INFO:tensorflow:Assets written to: ram://4607df74-97b4-4e96-818e-697757372e61/assets\n"
     ]
    },
    {
     "name": "stderr",
     "output_type": "stream",
     "text": [
      "INFO:tensorflow:Assets written to: ram://4607df74-97b4-4e96-818e-697757372e61/assets\n",
      "WARNING:absl:Found untraced functions such as _jit_compiled_convolution_op while saving (showing 1 of 1). These functions will not be directly callable after loading.\n"
     ]
    },
    {
     "name": "stdout",
     "output_type": "stream",
     "text": [
      "INFO:tensorflow:Assets written to: models/conv_nn-w5_features-s100-p4/assets\n"
     ]
    },
    {
     "name": "stderr",
     "output_type": "stream",
     "text": [
      "INFO:tensorflow:Assets written to: models/conv_nn-w5_features-s100-p4/assets\n"
     ]
    },
    {
     "name": "stdout",
     "output_type": "stream",
     "text": [
      "219/219 [==============================] - 0s 623us/step\n"
     ]
    },
    {
     "name": "stderr",
     "output_type": "stream",
     "text": [
      "WARNING:absl:Found untraced functions such as _jit_compiled_convolution_op while saving (showing 1 of 1). These functions will not be directly callable after loading.\n"
     ]
    },
    {
     "name": "stdout",
     "output_type": "stream",
     "text": [
      "INFO:tensorflow:Assets written to: ram://9d23d072-0310-4ab3-a72b-efaffd25cb57/assets\n"
     ]
    },
    {
     "name": "stderr",
     "output_type": "stream",
     "text": [
      "INFO:tensorflow:Assets written to: ram://9d23d072-0310-4ab3-a72b-efaffd25cb57/assets\n",
      "WARNING:absl:Found untraced functions such as _jit_compiled_convolution_op while saving (showing 1 of 1). These functions will not be directly callable after loading.\n"
     ]
    },
    {
     "name": "stdout",
     "output_type": "stream",
     "text": [
      "INFO:tensorflow:Assets written to: models/conv_nn-w5_features-s100-p5/assets\n"
     ]
    },
    {
     "name": "stderr",
     "output_type": "stream",
     "text": [
      "INFO:tensorflow:Assets written to: models/conv_nn-w5_features-s100-p5/assets\n"
     ]
    },
    {
     "name": "stdout",
     "output_type": "stream",
     "text": [
      "219/219 [==============================] - 0s 598us/step\n"
     ]
    },
    {
     "name": "stderr",
     "output_type": "stream",
     "text": [
      "WARNING:absl:Found untraced functions such as _jit_compiled_convolution_op while saving (showing 1 of 1). These functions will not be directly callable after loading.\n"
     ]
    },
    {
     "name": "stdout",
     "output_type": "stream",
     "text": [
      "INFO:tensorflow:Assets written to: ram://52348421-0008-4e3b-83ae-0394b046cda2/assets\n"
     ]
    },
    {
     "name": "stderr",
     "output_type": "stream",
     "text": [
      "INFO:tensorflow:Assets written to: ram://52348421-0008-4e3b-83ae-0394b046cda2/assets\n",
      "WARNING:absl:Found untraced functions such as _jit_compiled_convolution_op while saving (showing 1 of 1). These functions will not be directly callable after loading.\n"
     ]
    },
    {
     "name": "stdout",
     "output_type": "stream",
     "text": [
      "INFO:tensorflow:Assets written to: models/conv_nn-w5_features-s100-p6/assets\n"
     ]
    },
    {
     "name": "stderr",
     "output_type": "stream",
     "text": [
      "INFO:tensorflow:Assets written to: models/conv_nn-w5_features-s100-p6/assets\n"
     ]
    },
    {
     "name": "stdout",
     "output_type": "stream",
     "text": [
      "219/219 [==============================] - 0s 567us/step\n"
     ]
    },
    {
     "name": "stderr",
     "output_type": "stream",
     "text": [
      "WARNING:absl:Found untraced functions such as _jit_compiled_convolution_op while saving (showing 1 of 1). These functions will not be directly callable after loading.\n"
     ]
    },
    {
     "name": "stdout",
     "output_type": "stream",
     "text": [
      "INFO:tensorflow:Assets written to: ram://1fbc176d-e3cd-4e54-9f61-187fb17213e1/assets\n"
     ]
    },
    {
     "name": "stderr",
     "output_type": "stream",
     "text": [
      "INFO:tensorflow:Assets written to: ram://1fbc176d-e3cd-4e54-9f61-187fb17213e1/assets\n",
      "WARNING:absl:Found untraced functions such as _jit_compiled_convolution_op while saving (showing 1 of 1). These functions will not be directly callable after loading.\n"
     ]
    },
    {
     "name": "stdout",
     "output_type": "stream",
     "text": [
      "INFO:tensorflow:Assets written to: models/conv_nn-w5_features-s100-p7/assets\n"
     ]
    },
    {
     "name": "stderr",
     "output_type": "stream",
     "text": [
      "INFO:tensorflow:Assets written to: models/conv_nn-w5_features-s100-p7/assets\n"
     ]
    },
    {
     "name": "stdout",
     "output_type": "stream",
     "text": [
      "219/219 [==============================] - 0s 594us/step\n"
     ]
    },
    {
     "name": "stderr",
     "output_type": "stream",
     "text": [
      "WARNING:absl:Found untraced functions such as _jit_compiled_convolution_op while saving (showing 1 of 1). These functions will not be directly callable after loading.\n"
     ]
    },
    {
     "name": "stdout",
     "output_type": "stream",
     "text": [
      "INFO:tensorflow:Assets written to: ram://34f40fb8-2c99-4e19-b775-8cce427e528c/assets\n"
     ]
    },
    {
     "name": "stderr",
     "output_type": "stream",
     "text": [
      "INFO:tensorflow:Assets written to: ram://34f40fb8-2c99-4e19-b775-8cce427e528c/assets\n",
      "WARNING:absl:Found untraced functions such as _jit_compiled_convolution_op while saving (showing 1 of 1). These functions will not be directly callable after loading.\n"
     ]
    },
    {
     "name": "stdout",
     "output_type": "stream",
     "text": [
      "INFO:tensorflow:Assets written to: models/conv_nn-w5_features-s100-p8/assets\n"
     ]
    },
    {
     "name": "stderr",
     "output_type": "stream",
     "text": [
      "INFO:tensorflow:Assets written to: models/conv_nn-w5_features-s100-p8/assets\n"
     ]
    },
    {
     "name": "stdout",
     "output_type": "stream",
     "text": [
      "219/219 [==============================] - 0s 586us/step\n"
     ]
    },
    {
     "name": "stderr",
     "output_type": "stream",
     "text": [
      "WARNING:absl:Found untraced functions such as _jit_compiled_convolution_op while saving (showing 1 of 1). These functions will not be directly callable after loading.\n"
     ]
    },
    {
     "name": "stdout",
     "output_type": "stream",
     "text": [
      "INFO:tensorflow:Assets written to: ram://a9c1991a-904c-4674-b2f3-af0c4f493ebb/assets\n"
     ]
    },
    {
     "name": "stderr",
     "output_type": "stream",
     "text": [
      "INFO:tensorflow:Assets written to: ram://a9c1991a-904c-4674-b2f3-af0c4f493ebb/assets\n",
      "WARNING:absl:Found untraced functions such as _jit_compiled_convolution_op while saving (showing 1 of 1). These functions will not be directly callable after loading.\n"
     ]
    },
    {
     "name": "stdout",
     "output_type": "stream",
     "text": [
      "INFO:tensorflow:Assets written to: models/conv_nn-w5_features-s100-p9/assets\n"
     ]
    },
    {
     "name": "stderr",
     "output_type": "stream",
     "text": [
      "INFO:tensorflow:Assets written to: models/conv_nn-w5_features-s100-p9/assets\n"
     ]
    },
    {
     "name": "stdout",
     "output_type": "stream",
     "text": [
      "219/219 [==============================] - 0s 621us/step\n"
     ]
    },
    {
     "name": "stderr",
     "output_type": "stream",
     "text": [
      "WARNING:absl:Found untraced functions such as _jit_compiled_convolution_op while saving (showing 1 of 1). These functions will not be directly callable after loading.\n"
     ]
    },
    {
     "name": "stdout",
     "output_type": "stream",
     "text": [
      "INFO:tensorflow:Assets written to: ram://16e2773c-c15f-46f6-aac8-55ab0f484297/assets\n"
     ]
    },
    {
     "name": "stderr",
     "output_type": "stream",
     "text": [
      "INFO:tensorflow:Assets written to: ram://16e2773c-c15f-46f6-aac8-55ab0f484297/assets\n",
      "WARNING:absl:Found untraced functions such as _jit_compiled_convolution_op while saving (showing 1 of 1). These functions will not be directly callable after loading.\n"
     ]
    },
    {
     "name": "stdout",
     "output_type": "stream",
     "text": [
      "INFO:tensorflow:Assets written to: models/conv_nn-w5_features-s100-p10/assets\n"
     ]
    },
    {
     "name": "stderr",
     "output_type": "stream",
     "text": [
      "INFO:tensorflow:Assets written to: models/conv_nn-w5_features-s100-p10/assets\n"
     ]
    },
    {
     "name": "stdout",
     "output_type": "stream",
     "text": [
      "220/220 [==============================] - 0s 610us/step\n"
     ]
    },
    {
     "name": "stderr",
     "output_type": "stream",
     "text": [
      "WARNING:absl:Found untraced functions such as _jit_compiled_convolution_op while saving (showing 1 of 1). These functions will not be directly callable after loading.\n"
     ]
    },
    {
     "name": "stdout",
     "output_type": "stream",
     "text": [
      "INFO:tensorflow:Assets written to: ram://f55e0144-30fd-4a20-804a-59dd96380189/assets\n"
     ]
    },
    {
     "name": "stderr",
     "output_type": "stream",
     "text": [
      "INFO:tensorflow:Assets written to: ram://f55e0144-30fd-4a20-804a-59dd96380189/assets\n",
      "WARNING:absl:Found untraced functions such as _jit_compiled_convolution_op while saving (showing 1 of 1). These functions will not be directly callable after loading.\n"
     ]
    },
    {
     "name": "stdout",
     "output_type": "stream",
     "text": [
      "INFO:tensorflow:Assets written to: models/conv_nn-w10_features-s100-p0/assets\n"
     ]
    },
    {
     "name": "stderr",
     "output_type": "stream",
     "text": [
      "INFO:tensorflow:Assets written to: models/conv_nn-w10_features-s100-p0/assets\n"
     ]
    },
    {
     "name": "stdout",
     "output_type": "stream",
     "text": [
      "220/220 [==============================] - 0s 534us/step\n"
     ]
    },
    {
     "name": "stderr",
     "output_type": "stream",
     "text": [
      "WARNING:absl:Found untraced functions such as _jit_compiled_convolution_op while saving (showing 1 of 1). These functions will not be directly callable after loading.\n"
     ]
    },
    {
     "name": "stdout",
     "output_type": "stream",
     "text": [
      "INFO:tensorflow:Assets written to: ram://743ba34a-eaac-4f40-9d34-437cea3f11fa/assets\n"
     ]
    },
    {
     "name": "stderr",
     "output_type": "stream",
     "text": [
      "INFO:tensorflow:Assets written to: ram://743ba34a-eaac-4f40-9d34-437cea3f11fa/assets\n",
      "WARNING:absl:Found untraced functions such as _jit_compiled_convolution_op while saving (showing 1 of 1). These functions will not be directly callable after loading.\n"
     ]
    },
    {
     "name": "stdout",
     "output_type": "stream",
     "text": [
      "INFO:tensorflow:Assets written to: models/conv_nn-w10_features-s100-p1/assets\n"
     ]
    },
    {
     "name": "stderr",
     "output_type": "stream",
     "text": [
      "INFO:tensorflow:Assets written to: models/conv_nn-w10_features-s100-p1/assets\n"
     ]
    },
    {
     "name": "stdout",
     "output_type": "stream",
     "text": [
      "220/220 [==============================] - 0s 551us/step\n"
     ]
    },
    {
     "name": "stderr",
     "output_type": "stream",
     "text": [
      "WARNING:absl:Found untraced functions such as _jit_compiled_convolution_op while saving (showing 1 of 1). These functions will not be directly callable after loading.\n"
     ]
    },
    {
     "name": "stdout",
     "output_type": "stream",
     "text": [
      "INFO:tensorflow:Assets written to: ram://df79f0ab-7784-4b8e-b1fe-534dfebe6e40/assets\n"
     ]
    },
    {
     "name": "stderr",
     "output_type": "stream",
     "text": [
      "INFO:tensorflow:Assets written to: ram://df79f0ab-7784-4b8e-b1fe-534dfebe6e40/assets\n",
      "WARNING:absl:Found untraced functions such as _jit_compiled_convolution_op while saving (showing 1 of 1). These functions will not be directly callable after loading.\n"
     ]
    },
    {
     "name": "stdout",
     "output_type": "stream",
     "text": [
      "INFO:tensorflow:Assets written to: models/conv_nn-w10_features-s100-p2/assets\n"
     ]
    },
    {
     "name": "stderr",
     "output_type": "stream",
     "text": [
      "INFO:tensorflow:Assets written to: models/conv_nn-w10_features-s100-p2/assets\n"
     ]
    },
    {
     "name": "stdout",
     "output_type": "stream",
     "text": [
      "220/220 [==============================] - 0s 533us/step\n"
     ]
    },
    {
     "name": "stderr",
     "output_type": "stream",
     "text": [
      "WARNING:absl:Found untraced functions such as _jit_compiled_convolution_op while saving (showing 1 of 1). These functions will not be directly callable after loading.\n"
     ]
    },
    {
     "name": "stdout",
     "output_type": "stream",
     "text": [
      "INFO:tensorflow:Assets written to: ram://41459fdd-bc0d-495e-abf9-f1c197f6e136/assets\n"
     ]
    },
    {
     "name": "stderr",
     "output_type": "stream",
     "text": [
      "INFO:tensorflow:Assets written to: ram://41459fdd-bc0d-495e-abf9-f1c197f6e136/assets\n",
      "WARNING:absl:Found untraced functions such as _jit_compiled_convolution_op while saving (showing 1 of 1). These functions will not be directly callable after loading.\n"
     ]
    },
    {
     "name": "stdout",
     "output_type": "stream",
     "text": [
      "INFO:tensorflow:Assets written to: models/conv_nn-w10_features-s100-p3/assets\n"
     ]
    },
    {
     "name": "stderr",
     "output_type": "stream",
     "text": [
      "INFO:tensorflow:Assets written to: models/conv_nn-w10_features-s100-p3/assets\n"
     ]
    },
    {
     "name": "stdout",
     "output_type": "stream",
     "text": [
      "220/220 [==============================] - 0s 515us/step\n"
     ]
    },
    {
     "name": "stderr",
     "output_type": "stream",
     "text": [
      "WARNING:absl:Found untraced functions such as _jit_compiled_convolution_op while saving (showing 1 of 1). These functions will not be directly callable after loading.\n"
     ]
    },
    {
     "name": "stdout",
     "output_type": "stream",
     "text": [
      "INFO:tensorflow:Assets written to: ram://8e02ed3b-3ba1-450f-9dda-50c55e958d46/assets\n"
     ]
    },
    {
     "name": "stderr",
     "output_type": "stream",
     "text": [
      "INFO:tensorflow:Assets written to: ram://8e02ed3b-3ba1-450f-9dda-50c55e958d46/assets\n",
      "WARNING:absl:Found untraced functions such as _jit_compiled_convolution_op while saving (showing 1 of 1). These functions will not be directly callable after loading.\n"
     ]
    },
    {
     "name": "stdout",
     "output_type": "stream",
     "text": [
      "INFO:tensorflow:Assets written to: models/conv_nn-w10_features-s100-p4/assets\n"
     ]
    },
    {
     "name": "stderr",
     "output_type": "stream",
     "text": [
      "INFO:tensorflow:Assets written to: models/conv_nn-w10_features-s100-p4/assets\n"
     ]
    },
    {
     "name": "stdout",
     "output_type": "stream",
     "text": [
      "219/219 [==============================] - 0s 547us/step\n"
     ]
    },
    {
     "name": "stderr",
     "output_type": "stream",
     "text": [
      "WARNING:absl:Found untraced functions such as _jit_compiled_convolution_op while saving (showing 1 of 1). These functions will not be directly callable after loading.\n"
     ]
    },
    {
     "name": "stdout",
     "output_type": "stream",
     "text": [
      "INFO:tensorflow:Assets written to: ram://6ccba37d-032f-4578-be42-a8df5f10d332/assets\n"
     ]
    },
    {
     "name": "stderr",
     "output_type": "stream",
     "text": [
      "INFO:tensorflow:Assets written to: ram://6ccba37d-032f-4578-be42-a8df5f10d332/assets\n",
      "WARNING:absl:Found untraced functions such as _jit_compiled_convolution_op while saving (showing 1 of 1). These functions will not be directly callable after loading.\n"
     ]
    },
    {
     "name": "stdout",
     "output_type": "stream",
     "text": [
      "INFO:tensorflow:Assets written to: models/conv_nn-w10_features-s100-p5/assets\n"
     ]
    },
    {
     "name": "stderr",
     "output_type": "stream",
     "text": [
      "INFO:tensorflow:Assets written to: models/conv_nn-w10_features-s100-p5/assets\n"
     ]
    },
    {
     "name": "stdout",
     "output_type": "stream",
     "text": [
      "219/219 [==============================] - 0s 554us/step\n"
     ]
    },
    {
     "name": "stderr",
     "output_type": "stream",
     "text": [
      "WARNING:absl:Found untraced functions such as _jit_compiled_convolution_op while saving (showing 1 of 1). These functions will not be directly callable after loading.\n"
     ]
    },
    {
     "name": "stdout",
     "output_type": "stream",
     "text": [
      "INFO:tensorflow:Assets written to: ram://f1510f96-9f91-465f-b0ce-8d87cf90fe28/assets\n"
     ]
    },
    {
     "name": "stderr",
     "output_type": "stream",
     "text": [
      "INFO:tensorflow:Assets written to: ram://f1510f96-9f91-465f-b0ce-8d87cf90fe28/assets\n",
      "WARNING:absl:Found untraced functions such as _jit_compiled_convolution_op while saving (showing 1 of 1). These functions will not be directly callable after loading.\n"
     ]
    },
    {
     "name": "stdout",
     "output_type": "stream",
     "text": [
      "INFO:tensorflow:Assets written to: models/conv_nn-w10_features-s100-p6/assets\n"
     ]
    },
    {
     "name": "stderr",
     "output_type": "stream",
     "text": [
      "INFO:tensorflow:Assets written to: models/conv_nn-w10_features-s100-p6/assets\n"
     ]
    },
    {
     "name": "stdout",
     "output_type": "stream",
     "text": [
      "219/219 [==============================] - 0s 568us/step\n"
     ]
    },
    {
     "name": "stderr",
     "output_type": "stream",
     "text": [
      "WARNING:absl:Found untraced functions such as _jit_compiled_convolution_op while saving (showing 1 of 1). These functions will not be directly callable after loading.\n"
     ]
    },
    {
     "name": "stdout",
     "output_type": "stream",
     "text": [
      "INFO:tensorflow:Assets written to: ram://8901610f-8b2c-4d88-bdb8-0b04c07212b4/assets\n"
     ]
    },
    {
     "name": "stderr",
     "output_type": "stream",
     "text": [
      "INFO:tensorflow:Assets written to: ram://8901610f-8b2c-4d88-bdb8-0b04c07212b4/assets\n",
      "WARNING:absl:Found untraced functions such as _jit_compiled_convolution_op while saving (showing 1 of 1). These functions will not be directly callable after loading.\n"
     ]
    },
    {
     "name": "stdout",
     "output_type": "stream",
     "text": [
      "INFO:tensorflow:Assets written to: models/conv_nn-w10_features-s100-p7/assets\n"
     ]
    },
    {
     "name": "stderr",
     "output_type": "stream",
     "text": [
      "INFO:tensorflow:Assets written to: models/conv_nn-w10_features-s100-p7/assets\n"
     ]
    },
    {
     "name": "stdout",
     "output_type": "stream",
     "text": [
      "219/219 [==============================] - 0s 568us/step\n"
     ]
    },
    {
     "name": "stderr",
     "output_type": "stream",
     "text": [
      "WARNING:absl:Found untraced functions such as _jit_compiled_convolution_op while saving (showing 1 of 1). These functions will not be directly callable after loading.\n"
     ]
    },
    {
     "name": "stdout",
     "output_type": "stream",
     "text": [
      "INFO:tensorflow:Assets written to: ram://2df8f1e4-96ac-4cc1-beb2-a3285f832792/assets\n"
     ]
    },
    {
     "name": "stderr",
     "output_type": "stream",
     "text": [
      "INFO:tensorflow:Assets written to: ram://2df8f1e4-96ac-4cc1-beb2-a3285f832792/assets\n",
      "WARNING:absl:Found untraced functions such as _jit_compiled_convolution_op while saving (showing 1 of 1). These functions will not be directly callable after loading.\n"
     ]
    },
    {
     "name": "stdout",
     "output_type": "stream",
     "text": [
      "INFO:tensorflow:Assets written to: models/conv_nn-w10_features-s100-p8/assets\n"
     ]
    },
    {
     "name": "stderr",
     "output_type": "stream",
     "text": [
      "INFO:tensorflow:Assets written to: models/conv_nn-w10_features-s100-p8/assets\n"
     ]
    },
    {
     "name": "stdout",
     "output_type": "stream",
     "text": [
      "219/219 [==============================] - 0s 595us/step\n"
     ]
    },
    {
     "name": "stderr",
     "output_type": "stream",
     "text": [
      "WARNING:absl:Found untraced functions such as _jit_compiled_convolution_op while saving (showing 1 of 1). These functions will not be directly callable after loading.\n"
     ]
    },
    {
     "name": "stdout",
     "output_type": "stream",
     "text": [
      "INFO:tensorflow:Assets written to: ram://f0ec4b0b-7fd9-44de-8b58-a2e31207df9b/assets\n"
     ]
    },
    {
     "name": "stderr",
     "output_type": "stream",
     "text": [
      "INFO:tensorflow:Assets written to: ram://f0ec4b0b-7fd9-44de-8b58-a2e31207df9b/assets\n",
      "WARNING:absl:Found untraced functions such as _jit_compiled_convolution_op while saving (showing 1 of 1). These functions will not be directly callable after loading.\n"
     ]
    },
    {
     "name": "stdout",
     "output_type": "stream",
     "text": [
      "INFO:tensorflow:Assets written to: models/conv_nn-w10_features-s100-p9/assets\n"
     ]
    },
    {
     "name": "stderr",
     "output_type": "stream",
     "text": [
      "INFO:tensorflow:Assets written to: models/conv_nn-w10_features-s100-p9/assets\n"
     ]
    },
    {
     "name": "stdout",
     "output_type": "stream",
     "text": [
      "219/219 [==============================] - 0s 623us/step\n"
     ]
    },
    {
     "name": "stderr",
     "output_type": "stream",
     "text": [
      "WARNING:absl:Found untraced functions such as _jit_compiled_convolution_op while saving (showing 1 of 1). These functions will not be directly callable after loading.\n"
     ]
    },
    {
     "name": "stdout",
     "output_type": "stream",
     "text": [
      "INFO:tensorflow:Assets written to: ram://c8c10a05-338d-4b48-ba95-08b4f5efcf8c/assets\n"
     ]
    },
    {
     "name": "stderr",
     "output_type": "stream",
     "text": [
      "INFO:tensorflow:Assets written to: ram://c8c10a05-338d-4b48-ba95-08b4f5efcf8c/assets\n",
      "WARNING:absl:Found untraced functions such as _jit_compiled_convolution_op while saving (showing 1 of 1). These functions will not be directly callable after loading.\n"
     ]
    },
    {
     "name": "stdout",
     "output_type": "stream",
     "text": [
      "INFO:tensorflow:Assets written to: models/conv_nn-w10_features-s100-p10/assets\n"
     ]
    },
    {
     "name": "stderr",
     "output_type": "stream",
     "text": [
      "INFO:tensorflow:Assets written to: models/conv_nn-w10_features-s100-p10/assets\n"
     ]
    },
    {
     "name": "stdout",
     "output_type": "stream",
     "text": [
      "220/220 [==============================] - 0s 540us/step\n"
     ]
    },
    {
     "name": "stderr",
     "output_type": "stream",
     "text": [
      "WARNING:absl:Found untraced functions such as _jit_compiled_convolution_op while saving (showing 1 of 1). These functions will not be directly callable after loading.\n"
     ]
    },
    {
     "name": "stdout",
     "output_type": "stream",
     "text": [
      "INFO:tensorflow:Assets written to: ram://181411b1-c5ef-485c-be5c-e9019138e5e4/assets\n"
     ]
    },
    {
     "name": "stderr",
     "output_type": "stream",
     "text": [
      "INFO:tensorflow:Assets written to: ram://181411b1-c5ef-485c-be5c-e9019138e5e4/assets\n",
      "WARNING:absl:Found untraced functions such as _jit_compiled_convolution_op while saving (showing 1 of 1). These functions will not be directly callable after loading.\n"
     ]
    },
    {
     "name": "stdout",
     "output_type": "stream",
     "text": [
      "INFO:tensorflow:Assets written to: models/conv_nn-w15_features-s100-p0/assets\n"
     ]
    },
    {
     "name": "stderr",
     "output_type": "stream",
     "text": [
      "INFO:tensorflow:Assets written to: models/conv_nn-w15_features-s100-p0/assets\n"
     ]
    },
    {
     "name": "stdout",
     "output_type": "stream",
     "text": [
      "220/220 [==============================] - 0s 561us/step\n"
     ]
    },
    {
     "name": "stderr",
     "output_type": "stream",
     "text": [
      "WARNING:absl:Found untraced functions such as _jit_compiled_convolution_op while saving (showing 1 of 1). These functions will not be directly callable after loading.\n"
     ]
    },
    {
     "name": "stdout",
     "output_type": "stream",
     "text": [
      "INFO:tensorflow:Assets written to: ram://d01591b8-0921-4e56-acd2-a520efa65958/assets\n"
     ]
    },
    {
     "name": "stderr",
     "output_type": "stream",
     "text": [
      "INFO:tensorflow:Assets written to: ram://d01591b8-0921-4e56-acd2-a520efa65958/assets\n",
      "WARNING:absl:Found untraced functions such as _jit_compiled_convolution_op while saving (showing 1 of 1). These functions will not be directly callable after loading.\n"
     ]
    },
    {
     "name": "stdout",
     "output_type": "stream",
     "text": [
      "INFO:tensorflow:Assets written to: models/conv_nn-w15_features-s100-p1/assets\n"
     ]
    },
    {
     "name": "stderr",
     "output_type": "stream",
     "text": [
      "INFO:tensorflow:Assets written to: models/conv_nn-w15_features-s100-p1/assets\n"
     ]
    },
    {
     "name": "stdout",
     "output_type": "stream",
     "text": [
      "220/220 [==============================] - 0s 499us/step\n"
     ]
    },
    {
     "name": "stderr",
     "output_type": "stream",
     "text": [
      "WARNING:absl:Found untraced functions such as _jit_compiled_convolution_op while saving (showing 1 of 1). These functions will not be directly callable after loading.\n"
     ]
    },
    {
     "name": "stdout",
     "output_type": "stream",
     "text": [
      "INFO:tensorflow:Assets written to: ram://b7939d8e-00f0-4278-af6f-d1d993ae15fa/assets\n"
     ]
    },
    {
     "name": "stderr",
     "output_type": "stream",
     "text": [
      "INFO:tensorflow:Assets written to: ram://b7939d8e-00f0-4278-af6f-d1d993ae15fa/assets\n",
      "WARNING:absl:Found untraced functions such as _jit_compiled_convolution_op while saving (showing 1 of 1). These functions will not be directly callable after loading.\n"
     ]
    },
    {
     "name": "stdout",
     "output_type": "stream",
     "text": [
      "INFO:tensorflow:Assets written to: models/conv_nn-w15_features-s100-p2/assets\n"
     ]
    },
    {
     "name": "stderr",
     "output_type": "stream",
     "text": [
      "INFO:tensorflow:Assets written to: models/conv_nn-w15_features-s100-p2/assets\n"
     ]
    },
    {
     "name": "stdout",
     "output_type": "stream",
     "text": [
      "220/220 [==============================] - 0s 574us/step\n"
     ]
    },
    {
     "name": "stderr",
     "output_type": "stream",
     "text": [
      "WARNING:absl:Found untraced functions such as _jit_compiled_convolution_op while saving (showing 1 of 1). These functions will not be directly callable after loading.\n"
     ]
    },
    {
     "name": "stdout",
     "output_type": "stream",
     "text": [
      "INFO:tensorflow:Assets written to: ram://0568b161-4d68-454a-8470-d89e654e2be9/assets\n"
     ]
    },
    {
     "name": "stderr",
     "output_type": "stream",
     "text": [
      "INFO:tensorflow:Assets written to: ram://0568b161-4d68-454a-8470-d89e654e2be9/assets\n",
      "WARNING:absl:Found untraced functions such as _jit_compiled_convolution_op while saving (showing 1 of 1). These functions will not be directly callable after loading.\n"
     ]
    },
    {
     "name": "stdout",
     "output_type": "stream",
     "text": [
      "INFO:tensorflow:Assets written to: models/conv_nn-w15_features-s100-p3/assets\n"
     ]
    },
    {
     "name": "stderr",
     "output_type": "stream",
     "text": [
      "INFO:tensorflow:Assets written to: models/conv_nn-w15_features-s100-p3/assets\n"
     ]
    },
    {
     "name": "stdout",
     "output_type": "stream",
     "text": [
      "220/220 [==============================] - 0s 554us/step\n"
     ]
    },
    {
     "name": "stderr",
     "output_type": "stream",
     "text": [
      "WARNING:absl:Found untraced functions such as _jit_compiled_convolution_op while saving (showing 1 of 1). These functions will not be directly callable after loading.\n"
     ]
    },
    {
     "name": "stdout",
     "output_type": "stream",
     "text": [
      "INFO:tensorflow:Assets written to: ram://1c56ebf4-1bb8-4a6c-98cb-1713c9672bc2/assets\n"
     ]
    },
    {
     "name": "stderr",
     "output_type": "stream",
     "text": [
      "INFO:tensorflow:Assets written to: ram://1c56ebf4-1bb8-4a6c-98cb-1713c9672bc2/assets\n",
      "WARNING:absl:Found untraced functions such as _jit_compiled_convolution_op while saving (showing 1 of 1). These functions will not be directly callable after loading.\n"
     ]
    },
    {
     "name": "stdout",
     "output_type": "stream",
     "text": [
      "INFO:tensorflow:Assets written to: models/conv_nn-w15_features-s100-p4/assets\n"
     ]
    },
    {
     "name": "stderr",
     "output_type": "stream",
     "text": [
      "INFO:tensorflow:Assets written to: models/conv_nn-w15_features-s100-p4/assets\n"
     ]
    },
    {
     "name": "stdout",
     "output_type": "stream",
     "text": [
      "219/219 [==============================] - 0s 564us/step\n"
     ]
    },
    {
     "name": "stderr",
     "output_type": "stream",
     "text": [
      "WARNING:absl:Found untraced functions such as _jit_compiled_convolution_op while saving (showing 1 of 1). These functions will not be directly callable after loading.\n"
     ]
    },
    {
     "name": "stdout",
     "output_type": "stream",
     "text": [
      "INFO:tensorflow:Assets written to: ram://02fad0ce-aad0-43f2-9a71-4aeacc460310/assets\n"
     ]
    },
    {
     "name": "stderr",
     "output_type": "stream",
     "text": [
      "INFO:tensorflow:Assets written to: ram://02fad0ce-aad0-43f2-9a71-4aeacc460310/assets\n",
      "WARNING:absl:Found untraced functions such as _jit_compiled_convolution_op while saving (showing 1 of 1). These functions will not be directly callable after loading.\n"
     ]
    },
    {
     "name": "stdout",
     "output_type": "stream",
     "text": [
      "INFO:tensorflow:Assets written to: models/conv_nn-w15_features-s100-p5/assets\n"
     ]
    },
    {
     "name": "stderr",
     "output_type": "stream",
     "text": [
      "INFO:tensorflow:Assets written to: models/conv_nn-w15_features-s100-p5/assets\n"
     ]
    },
    {
     "name": "stdout",
     "output_type": "stream",
     "text": [
      "219/219 [==============================] - 0s 586us/step\n"
     ]
    },
    {
     "name": "stderr",
     "output_type": "stream",
     "text": [
      "WARNING:absl:Found untraced functions such as _jit_compiled_convolution_op while saving (showing 1 of 1). These functions will not be directly callable after loading.\n"
     ]
    },
    {
     "name": "stdout",
     "output_type": "stream",
     "text": [
      "INFO:tensorflow:Assets written to: ram://5840bdb7-c5df-4be8-8c21-0e5e0bdb344f/assets\n"
     ]
    },
    {
     "name": "stderr",
     "output_type": "stream",
     "text": [
      "INFO:tensorflow:Assets written to: ram://5840bdb7-c5df-4be8-8c21-0e5e0bdb344f/assets\n",
      "WARNING:absl:Found untraced functions such as _jit_compiled_convolution_op while saving (showing 1 of 1). These functions will not be directly callable after loading.\n"
     ]
    },
    {
     "name": "stdout",
     "output_type": "stream",
     "text": [
      "INFO:tensorflow:Assets written to: models/conv_nn-w15_features-s100-p6/assets\n"
     ]
    },
    {
     "name": "stderr",
     "output_type": "stream",
     "text": [
      "INFO:tensorflow:Assets written to: models/conv_nn-w15_features-s100-p6/assets\n"
     ]
    },
    {
     "name": "stdout",
     "output_type": "stream",
     "text": [
      "219/219 [==============================] - 0s 567us/step\n"
     ]
    },
    {
     "name": "stderr",
     "output_type": "stream",
     "text": [
      "WARNING:absl:Found untraced functions such as _jit_compiled_convolution_op while saving (showing 1 of 1). These functions will not be directly callable after loading.\n"
     ]
    },
    {
     "name": "stdout",
     "output_type": "stream",
     "text": [
      "INFO:tensorflow:Assets written to: ram://0861c4ea-5366-42e5-b2ee-e84f0de0a5b1/assets\n"
     ]
    },
    {
     "name": "stderr",
     "output_type": "stream",
     "text": [
      "INFO:tensorflow:Assets written to: ram://0861c4ea-5366-42e5-b2ee-e84f0de0a5b1/assets\n",
      "WARNING:absl:Found untraced functions such as _jit_compiled_convolution_op while saving (showing 1 of 1). These functions will not be directly callable after loading.\n"
     ]
    },
    {
     "name": "stdout",
     "output_type": "stream",
     "text": [
      "INFO:tensorflow:Assets written to: models/conv_nn-w15_features-s100-p7/assets\n"
     ]
    },
    {
     "name": "stderr",
     "output_type": "stream",
     "text": [
      "INFO:tensorflow:Assets written to: models/conv_nn-w15_features-s100-p7/assets\n"
     ]
    },
    {
     "name": "stdout",
     "output_type": "stream",
     "text": [
      "219/219 [==============================] - 0s 642us/step\n"
     ]
    },
    {
     "name": "stderr",
     "output_type": "stream",
     "text": [
      "WARNING:absl:Found untraced functions such as _jit_compiled_convolution_op while saving (showing 1 of 1). These functions will not be directly callable after loading.\n"
     ]
    },
    {
     "name": "stdout",
     "output_type": "stream",
     "text": [
      "INFO:tensorflow:Assets written to: ram://66c4b59e-265e-4663-a07d-966a360e0bab/assets\n"
     ]
    },
    {
     "name": "stderr",
     "output_type": "stream",
     "text": [
      "INFO:tensorflow:Assets written to: ram://66c4b59e-265e-4663-a07d-966a360e0bab/assets\n",
      "WARNING:absl:Found untraced functions such as _jit_compiled_convolution_op while saving (showing 1 of 1). These functions will not be directly callable after loading.\n"
     ]
    },
    {
     "name": "stdout",
     "output_type": "stream",
     "text": [
      "INFO:tensorflow:Assets written to: models/conv_nn-w15_features-s100-p8/assets\n"
     ]
    },
    {
     "name": "stderr",
     "output_type": "stream",
     "text": [
      "INFO:tensorflow:Assets written to: models/conv_nn-w15_features-s100-p8/assets\n"
     ]
    },
    {
     "name": "stdout",
     "output_type": "stream",
     "text": [
      "219/219 [==============================] - 0s 581us/step\n"
     ]
    },
    {
     "name": "stderr",
     "output_type": "stream",
     "text": [
      "WARNING:absl:Found untraced functions such as _jit_compiled_convolution_op while saving (showing 1 of 1). These functions will not be directly callable after loading.\n"
     ]
    },
    {
     "name": "stdout",
     "output_type": "stream",
     "text": [
      "INFO:tensorflow:Assets written to: ram://6c417454-6b7e-47e6-995a-54091a343c7b/assets\n"
     ]
    },
    {
     "name": "stderr",
     "output_type": "stream",
     "text": [
      "INFO:tensorflow:Assets written to: ram://6c417454-6b7e-47e6-995a-54091a343c7b/assets\n",
      "WARNING:absl:Found untraced functions such as _jit_compiled_convolution_op while saving (showing 1 of 1). These functions will not be directly callable after loading.\n"
     ]
    },
    {
     "name": "stdout",
     "output_type": "stream",
     "text": [
      "INFO:tensorflow:Assets written to: models/conv_nn-w15_features-s100-p9/assets\n"
     ]
    },
    {
     "name": "stderr",
     "output_type": "stream",
     "text": [
      "INFO:tensorflow:Assets written to: models/conv_nn-w15_features-s100-p9/assets\n"
     ]
    },
    {
     "name": "stdout",
     "output_type": "stream",
     "text": [
      "219/219 [==============================] - 0s 586us/step\n"
     ]
    },
    {
     "name": "stderr",
     "output_type": "stream",
     "text": [
      "WARNING:absl:Found untraced functions such as _jit_compiled_convolution_op while saving (showing 1 of 1). These functions will not be directly callable after loading.\n"
     ]
    },
    {
     "name": "stdout",
     "output_type": "stream",
     "text": [
      "INFO:tensorflow:Assets written to: ram://d10fab36-dce6-4d4e-8191-a63527265974/assets\n"
     ]
    },
    {
     "name": "stderr",
     "output_type": "stream",
     "text": [
      "INFO:tensorflow:Assets written to: ram://d10fab36-dce6-4d4e-8191-a63527265974/assets\n",
      "WARNING:absl:Found untraced functions such as _jit_compiled_convolution_op while saving (showing 1 of 1). These functions will not be directly callable after loading.\n"
     ]
    },
    {
     "name": "stdout",
     "output_type": "stream",
     "text": [
      "INFO:tensorflow:Assets written to: models/conv_nn-w15_features-s100-p10/assets\n"
     ]
    },
    {
     "name": "stderr",
     "output_type": "stream",
     "text": [
      "INFO:tensorflow:Assets written to: models/conv_nn-w15_features-s100-p10/assets\n"
     ]
    },
    {
     "name": "stdout",
     "output_type": "stream",
     "text": [
      "220/220 [==============================] - 0s 557us/step\n"
     ]
    },
    {
     "name": "stderr",
     "output_type": "stream",
     "text": [
      "WARNING:absl:Found untraced functions such as _jit_compiled_convolution_op while saving (showing 1 of 1). These functions will not be directly callable after loading.\n"
     ]
    },
    {
     "name": "stdout",
     "output_type": "stream",
     "text": [
      "INFO:tensorflow:Assets written to: ram://e2e64b4b-5cf4-4ac8-9126-875e367c45bc/assets\n"
     ]
    },
    {
     "name": "stderr",
     "output_type": "stream",
     "text": [
      "INFO:tensorflow:Assets written to: ram://e2e64b4b-5cf4-4ac8-9126-875e367c45bc/assets\n",
      "WARNING:absl:Found untraced functions such as _jit_compiled_convolution_op while saving (showing 1 of 1). These functions will not be directly callable after loading.\n"
     ]
    },
    {
     "name": "stdout",
     "output_type": "stream",
     "text": [
      "INFO:tensorflow:Assets written to: models/conv_nn-w20_features-s100-p0/assets\n"
     ]
    },
    {
     "name": "stderr",
     "output_type": "stream",
     "text": [
      "INFO:tensorflow:Assets written to: models/conv_nn-w20_features-s100-p0/assets\n"
     ]
    },
    {
     "name": "stdout",
     "output_type": "stream",
     "text": [
      "220/220 [==============================] - 0s 586us/step\n"
     ]
    },
    {
     "name": "stderr",
     "output_type": "stream",
     "text": [
      "WARNING:absl:Found untraced functions such as _jit_compiled_convolution_op while saving (showing 1 of 1). These functions will not be directly callable after loading.\n"
     ]
    },
    {
     "name": "stdout",
     "output_type": "stream",
     "text": [
      "INFO:tensorflow:Assets written to: ram://fa24b6d4-a7d7-4a8f-990d-1279edbcedf3/assets\n"
     ]
    },
    {
     "name": "stderr",
     "output_type": "stream",
     "text": [
      "INFO:tensorflow:Assets written to: ram://fa24b6d4-a7d7-4a8f-990d-1279edbcedf3/assets\n",
      "WARNING:absl:Found untraced functions such as _jit_compiled_convolution_op while saving (showing 1 of 1). These functions will not be directly callable after loading.\n"
     ]
    },
    {
     "name": "stdout",
     "output_type": "stream",
     "text": [
      "INFO:tensorflow:Assets written to: models/conv_nn-w20_features-s100-p1/assets\n"
     ]
    },
    {
     "name": "stderr",
     "output_type": "stream",
     "text": [
      "INFO:tensorflow:Assets written to: models/conv_nn-w20_features-s100-p1/assets\n"
     ]
    },
    {
     "name": "stdout",
     "output_type": "stream",
     "text": [
      "220/220 [==============================] - 0s 527us/step\n"
     ]
    },
    {
     "name": "stderr",
     "output_type": "stream",
     "text": [
      "WARNING:absl:Found untraced functions such as _jit_compiled_convolution_op while saving (showing 1 of 1). These functions will not be directly callable after loading.\n"
     ]
    },
    {
     "name": "stdout",
     "output_type": "stream",
     "text": [
      "INFO:tensorflow:Assets written to: ram://eb9105a6-8eeb-4c9a-9eef-fb18638ad416/assets\n"
     ]
    },
    {
     "name": "stderr",
     "output_type": "stream",
     "text": [
      "INFO:tensorflow:Assets written to: ram://eb9105a6-8eeb-4c9a-9eef-fb18638ad416/assets\n",
      "WARNING:absl:Found untraced functions such as _jit_compiled_convolution_op while saving (showing 1 of 1). These functions will not be directly callable after loading.\n"
     ]
    },
    {
     "name": "stdout",
     "output_type": "stream",
     "text": [
      "INFO:tensorflow:Assets written to: models/conv_nn-w20_features-s100-p2/assets\n"
     ]
    },
    {
     "name": "stderr",
     "output_type": "stream",
     "text": [
      "INFO:tensorflow:Assets written to: models/conv_nn-w20_features-s100-p2/assets\n"
     ]
    },
    {
     "name": "stdout",
     "output_type": "stream",
     "text": [
      "220/220 [==============================] - 0s 514us/step\n"
     ]
    },
    {
     "name": "stderr",
     "output_type": "stream",
     "text": [
      "WARNING:absl:Found untraced functions such as _jit_compiled_convolution_op while saving (showing 1 of 1). These functions will not be directly callable after loading.\n"
     ]
    },
    {
     "name": "stdout",
     "output_type": "stream",
     "text": [
      "INFO:tensorflow:Assets written to: ram://6f066db5-e075-4ff5-a663-a7093801e5de/assets\n"
     ]
    },
    {
     "name": "stderr",
     "output_type": "stream",
     "text": [
      "INFO:tensorflow:Assets written to: ram://6f066db5-e075-4ff5-a663-a7093801e5de/assets\n",
      "WARNING:absl:Found untraced functions such as _jit_compiled_convolution_op while saving (showing 1 of 1). These functions will not be directly callable after loading.\n"
     ]
    },
    {
     "name": "stdout",
     "output_type": "stream",
     "text": [
      "INFO:tensorflow:Assets written to: models/conv_nn-w20_features-s100-p3/assets\n"
     ]
    },
    {
     "name": "stderr",
     "output_type": "stream",
     "text": [
      "INFO:tensorflow:Assets written to: models/conv_nn-w20_features-s100-p3/assets\n"
     ]
    },
    {
     "name": "stdout",
     "output_type": "stream",
     "text": [
      "220/220 [==============================] - 0s 571us/step\n"
     ]
    },
    {
     "name": "stderr",
     "output_type": "stream",
     "text": [
      "WARNING:absl:Found untraced functions such as _jit_compiled_convolution_op while saving (showing 1 of 1). These functions will not be directly callable after loading.\n"
     ]
    },
    {
     "name": "stdout",
     "output_type": "stream",
     "text": [
      "INFO:tensorflow:Assets written to: ram://1c953cac-3fe5-4294-b394-621e2024f110/assets\n"
     ]
    },
    {
     "name": "stderr",
     "output_type": "stream",
     "text": [
      "INFO:tensorflow:Assets written to: ram://1c953cac-3fe5-4294-b394-621e2024f110/assets\n",
      "WARNING:absl:Found untraced functions such as _jit_compiled_convolution_op while saving (showing 1 of 1). These functions will not be directly callable after loading.\n"
     ]
    },
    {
     "name": "stdout",
     "output_type": "stream",
     "text": [
      "INFO:tensorflow:Assets written to: models/conv_nn-w20_features-s100-p4/assets\n"
     ]
    },
    {
     "name": "stderr",
     "output_type": "stream",
     "text": [
      "INFO:tensorflow:Assets written to: models/conv_nn-w20_features-s100-p4/assets\n"
     ]
    },
    {
     "name": "stdout",
     "output_type": "stream",
     "text": [
      "219/219 [==============================] - 0s 587us/step\n"
     ]
    },
    {
     "name": "stderr",
     "output_type": "stream",
     "text": [
      "WARNING:absl:Found untraced functions such as _jit_compiled_convolution_op while saving (showing 1 of 1). These functions will not be directly callable after loading.\n"
     ]
    },
    {
     "name": "stdout",
     "output_type": "stream",
     "text": [
      "INFO:tensorflow:Assets written to: ram://9733312e-bd48-413c-9a88-6ad9de4d82e0/assets\n"
     ]
    },
    {
     "name": "stderr",
     "output_type": "stream",
     "text": [
      "INFO:tensorflow:Assets written to: ram://9733312e-bd48-413c-9a88-6ad9de4d82e0/assets\n",
      "WARNING:absl:Found untraced functions such as _jit_compiled_convolution_op while saving (showing 1 of 1). These functions will not be directly callable after loading.\n"
     ]
    },
    {
     "name": "stdout",
     "output_type": "stream",
     "text": [
      "INFO:tensorflow:Assets written to: models/conv_nn-w20_features-s100-p5/assets\n"
     ]
    },
    {
     "name": "stderr",
     "output_type": "stream",
     "text": [
      "INFO:tensorflow:Assets written to: models/conv_nn-w20_features-s100-p5/assets\n"
     ]
    },
    {
     "name": "stdout",
     "output_type": "stream",
     "text": [
      "219/219 [==============================] - 0s 596us/step\n"
     ]
    },
    {
     "name": "stderr",
     "output_type": "stream",
     "text": [
      "WARNING:absl:Found untraced functions such as _jit_compiled_convolution_op while saving (showing 1 of 1). These functions will not be directly callable after loading.\n"
     ]
    },
    {
     "name": "stdout",
     "output_type": "stream",
     "text": [
      "INFO:tensorflow:Assets written to: ram://7d80cdb4-1f33-486c-b3e1-3fd067b072f1/assets\n"
     ]
    },
    {
     "name": "stderr",
     "output_type": "stream",
     "text": [
      "INFO:tensorflow:Assets written to: ram://7d80cdb4-1f33-486c-b3e1-3fd067b072f1/assets\n",
      "WARNING:absl:Found untraced functions such as _jit_compiled_convolution_op while saving (showing 1 of 1). These functions will not be directly callable after loading.\n"
     ]
    },
    {
     "name": "stdout",
     "output_type": "stream",
     "text": [
      "INFO:tensorflow:Assets written to: models/conv_nn-w20_features-s100-p6/assets\n"
     ]
    },
    {
     "name": "stderr",
     "output_type": "stream",
     "text": [
      "INFO:tensorflow:Assets written to: models/conv_nn-w20_features-s100-p6/assets\n"
     ]
    },
    {
     "name": "stdout",
     "output_type": "stream",
     "text": [
      "219/219 [==============================] - 0s 583us/step\n"
     ]
    },
    {
     "name": "stderr",
     "output_type": "stream",
     "text": [
      "WARNING:absl:Found untraced functions such as _jit_compiled_convolution_op while saving (showing 1 of 1). These functions will not be directly callable after loading.\n"
     ]
    },
    {
     "name": "stdout",
     "output_type": "stream",
     "text": [
      "INFO:tensorflow:Assets written to: ram://caad778f-826c-4730-905d-64d362b69d1d/assets\n"
     ]
    },
    {
     "name": "stderr",
     "output_type": "stream",
     "text": [
      "INFO:tensorflow:Assets written to: ram://caad778f-826c-4730-905d-64d362b69d1d/assets\n",
      "WARNING:absl:Found untraced functions such as _jit_compiled_convolution_op while saving (showing 1 of 1). These functions will not be directly callable after loading.\n"
     ]
    },
    {
     "name": "stdout",
     "output_type": "stream",
     "text": [
      "INFO:tensorflow:Assets written to: models/conv_nn-w20_features-s100-p7/assets\n"
     ]
    },
    {
     "name": "stderr",
     "output_type": "stream",
     "text": [
      "INFO:tensorflow:Assets written to: models/conv_nn-w20_features-s100-p7/assets\n"
     ]
    },
    {
     "name": "stdout",
     "output_type": "stream",
     "text": [
      "219/219 [==============================] - 0s 579us/step\n"
     ]
    },
    {
     "name": "stderr",
     "output_type": "stream",
     "text": [
      "WARNING:absl:Found untraced functions such as _jit_compiled_convolution_op while saving (showing 1 of 1). These functions will not be directly callable after loading.\n"
     ]
    },
    {
     "name": "stdout",
     "output_type": "stream",
     "text": [
      "INFO:tensorflow:Assets written to: ram://3a34927f-d7f6-4939-b5ff-e9fe310caeee/assets\n"
     ]
    },
    {
     "name": "stderr",
     "output_type": "stream",
     "text": [
      "INFO:tensorflow:Assets written to: ram://3a34927f-d7f6-4939-b5ff-e9fe310caeee/assets\n",
      "WARNING:absl:Found untraced functions such as _jit_compiled_convolution_op while saving (showing 1 of 1). These functions will not be directly callable after loading.\n"
     ]
    },
    {
     "name": "stdout",
     "output_type": "stream",
     "text": [
      "INFO:tensorflow:Assets written to: models/conv_nn-w20_features-s100-p8/assets\n"
     ]
    },
    {
     "name": "stderr",
     "output_type": "stream",
     "text": [
      "INFO:tensorflow:Assets written to: models/conv_nn-w20_features-s100-p8/assets\n"
     ]
    },
    {
     "name": "stdout",
     "output_type": "stream",
     "text": [
      "219/219 [==============================] - 0s 590us/step\n"
     ]
    },
    {
     "name": "stderr",
     "output_type": "stream",
     "text": [
      "WARNING:absl:Found untraced functions such as _jit_compiled_convolution_op while saving (showing 1 of 1). These functions will not be directly callable after loading.\n"
     ]
    },
    {
     "name": "stdout",
     "output_type": "stream",
     "text": [
      "INFO:tensorflow:Assets written to: ram://9e668294-a667-4c7a-9d7e-fff9f56df2ab/assets\n"
     ]
    },
    {
     "name": "stderr",
     "output_type": "stream",
     "text": [
      "INFO:tensorflow:Assets written to: ram://9e668294-a667-4c7a-9d7e-fff9f56df2ab/assets\n",
      "WARNING:absl:Found untraced functions such as _jit_compiled_convolution_op while saving (showing 1 of 1). These functions will not be directly callable after loading.\n"
     ]
    },
    {
     "name": "stdout",
     "output_type": "stream",
     "text": [
      "INFO:tensorflow:Assets written to: models/conv_nn-w20_features-s100-p9/assets\n"
     ]
    },
    {
     "name": "stderr",
     "output_type": "stream",
     "text": [
      "INFO:tensorflow:Assets written to: models/conv_nn-w20_features-s100-p9/assets\n"
     ]
    },
    {
     "name": "stdout",
     "output_type": "stream",
     "text": [
      "219/219 [==============================] - 0s 582us/step\n"
     ]
    },
    {
     "name": "stderr",
     "output_type": "stream",
     "text": [
      "WARNING:absl:Found untraced functions such as _jit_compiled_convolution_op while saving (showing 1 of 1). These functions will not be directly callable after loading.\n"
     ]
    },
    {
     "name": "stdout",
     "output_type": "stream",
     "text": [
      "INFO:tensorflow:Assets written to: ram://02b2bca0-abc9-4913-b89d-356e3880b683/assets\n"
     ]
    },
    {
     "name": "stderr",
     "output_type": "stream",
     "text": [
      "INFO:tensorflow:Assets written to: ram://02b2bca0-abc9-4913-b89d-356e3880b683/assets\n",
      "WARNING:absl:Found untraced functions such as _jit_compiled_convolution_op while saving (showing 1 of 1). These functions will not be directly callable after loading.\n"
     ]
    },
    {
     "name": "stdout",
     "output_type": "stream",
     "text": [
      "INFO:tensorflow:Assets written to: models/conv_nn-w20_features-s100-p10/assets\n"
     ]
    },
    {
     "name": "stderr",
     "output_type": "stream",
     "text": [
      "INFO:tensorflow:Assets written to: models/conv_nn-w20_features-s100-p10/assets\n"
     ]
    },
    {
     "name": "stdout",
     "output_type": "stream",
     "text": [
      "220/220 [==============================] - 0s 550us/step\n"
     ]
    },
    {
     "name": "stderr",
     "output_type": "stream",
     "text": [
      "WARNING:absl:Found untraced functions such as _jit_compiled_convolution_op while saving (showing 1 of 1). These functions will not be directly callable after loading.\n"
     ]
    },
    {
     "name": "stdout",
     "output_type": "stream",
     "text": [
      "INFO:tensorflow:Assets written to: ram://0c0c9c1b-22ef-49dc-924d-d4dffcf16118/assets\n"
     ]
    },
    {
     "name": "stderr",
     "output_type": "stream",
     "text": [
      "INFO:tensorflow:Assets written to: ram://0c0c9c1b-22ef-49dc-924d-d4dffcf16118/assets\n",
      "WARNING:absl:Found untraced functions such as _jit_compiled_convolution_op while saving (showing 1 of 1). These functions will not be directly callable after loading.\n"
     ]
    },
    {
     "name": "stdout",
     "output_type": "stream",
     "text": [
      "INFO:tensorflow:Assets written to: models/conv_nn-no_diff_features-s100-p0/assets\n"
     ]
    },
    {
     "name": "stderr",
     "output_type": "stream",
     "text": [
      "INFO:tensorflow:Assets written to: models/conv_nn-no_diff_features-s100-p0/assets\n"
     ]
    },
    {
     "name": "stdout",
     "output_type": "stream",
     "text": [
      "220/220 [==============================] - 0s 574us/step\n"
     ]
    },
    {
     "name": "stderr",
     "output_type": "stream",
     "text": [
      "WARNING:absl:Found untraced functions such as _jit_compiled_convolution_op while saving (showing 1 of 1). These functions will not be directly callable after loading.\n"
     ]
    },
    {
     "name": "stdout",
     "output_type": "stream",
     "text": [
      "INFO:tensorflow:Assets written to: ram://0c81be9e-55bd-4cf5-a4a3-d7ddaeb4e6f7/assets\n"
     ]
    },
    {
     "name": "stderr",
     "output_type": "stream",
     "text": [
      "INFO:tensorflow:Assets written to: ram://0c81be9e-55bd-4cf5-a4a3-d7ddaeb4e6f7/assets\n",
      "WARNING:absl:Found untraced functions such as _jit_compiled_convolution_op while saving (showing 1 of 1). These functions will not be directly callable after loading.\n"
     ]
    },
    {
     "name": "stdout",
     "output_type": "stream",
     "text": [
      "INFO:tensorflow:Assets written to: models/conv_nn-no_diff_features-s100-p1/assets\n"
     ]
    },
    {
     "name": "stderr",
     "output_type": "stream",
     "text": [
      "INFO:tensorflow:Assets written to: models/conv_nn-no_diff_features-s100-p1/assets\n"
     ]
    },
    {
     "name": "stdout",
     "output_type": "stream",
     "text": [
      "220/220 [==============================] - 0s 543us/step\n"
     ]
    },
    {
     "name": "stderr",
     "output_type": "stream",
     "text": [
      "WARNING:absl:Found untraced functions such as _jit_compiled_convolution_op while saving (showing 1 of 1). These functions will not be directly callable after loading.\n"
     ]
    },
    {
     "name": "stdout",
     "output_type": "stream",
     "text": [
      "INFO:tensorflow:Assets written to: ram://81ccab7c-12c0-4e64-b4b0-4cf56ba43869/assets\n"
     ]
    },
    {
     "name": "stderr",
     "output_type": "stream",
     "text": [
      "INFO:tensorflow:Assets written to: ram://81ccab7c-12c0-4e64-b4b0-4cf56ba43869/assets\n",
      "WARNING:absl:Found untraced functions such as _jit_compiled_convolution_op while saving (showing 1 of 1). These functions will not be directly callable after loading.\n"
     ]
    },
    {
     "name": "stdout",
     "output_type": "stream",
     "text": [
      "INFO:tensorflow:Assets written to: models/conv_nn-no_diff_features-s100-p2/assets\n"
     ]
    },
    {
     "name": "stderr",
     "output_type": "stream",
     "text": [
      "INFO:tensorflow:Assets written to: models/conv_nn-no_diff_features-s100-p2/assets\n"
     ]
    },
    {
     "name": "stdout",
     "output_type": "stream",
     "text": [
      "220/220 [==============================] - 0s 544us/step\n"
     ]
    },
    {
     "name": "stderr",
     "output_type": "stream",
     "text": [
      "WARNING:absl:Found untraced functions such as _jit_compiled_convolution_op while saving (showing 1 of 1). These functions will not be directly callable after loading.\n"
     ]
    },
    {
     "name": "stdout",
     "output_type": "stream",
     "text": [
      "INFO:tensorflow:Assets written to: ram://841d4f06-a6cb-4626-bd44-15a00d2ee4c5/assets\n"
     ]
    },
    {
     "name": "stderr",
     "output_type": "stream",
     "text": [
      "INFO:tensorflow:Assets written to: ram://841d4f06-a6cb-4626-bd44-15a00d2ee4c5/assets\n",
      "WARNING:absl:Found untraced functions such as _jit_compiled_convolution_op while saving (showing 1 of 1). These functions will not be directly callable after loading.\n"
     ]
    },
    {
     "name": "stdout",
     "output_type": "stream",
     "text": [
      "INFO:tensorflow:Assets written to: models/conv_nn-no_diff_features-s100-p3/assets\n"
     ]
    },
    {
     "name": "stderr",
     "output_type": "stream",
     "text": [
      "INFO:tensorflow:Assets written to: models/conv_nn-no_diff_features-s100-p3/assets\n"
     ]
    },
    {
     "name": "stdout",
     "output_type": "stream",
     "text": [
      "220/220 [==============================] - 0s 537us/step\n"
     ]
    },
    {
     "name": "stderr",
     "output_type": "stream",
     "text": [
      "WARNING:absl:Found untraced functions such as _jit_compiled_convolution_op while saving (showing 1 of 1). These functions will not be directly callable after loading.\n"
     ]
    },
    {
     "name": "stdout",
     "output_type": "stream",
     "text": [
      "INFO:tensorflow:Assets written to: ram://e92188f8-ef05-4a89-834d-f7bc10185d18/assets\n"
     ]
    },
    {
     "name": "stderr",
     "output_type": "stream",
     "text": [
      "INFO:tensorflow:Assets written to: ram://e92188f8-ef05-4a89-834d-f7bc10185d18/assets\n",
      "WARNING:absl:Found untraced functions such as _jit_compiled_convolution_op while saving (showing 1 of 1). These functions will not be directly callable after loading.\n"
     ]
    },
    {
     "name": "stdout",
     "output_type": "stream",
     "text": [
      "INFO:tensorflow:Assets written to: models/conv_nn-no_diff_features-s100-p4/assets\n"
     ]
    },
    {
     "name": "stderr",
     "output_type": "stream",
     "text": [
      "INFO:tensorflow:Assets written to: models/conv_nn-no_diff_features-s100-p4/assets\n"
     ]
    },
    {
     "name": "stdout",
     "output_type": "stream",
     "text": [
      "219/219 [==============================] - 0s 603us/step\n"
     ]
    },
    {
     "name": "stderr",
     "output_type": "stream",
     "text": [
      "WARNING:absl:Found untraced functions such as _jit_compiled_convolution_op while saving (showing 1 of 1). These functions will not be directly callable after loading.\n"
     ]
    },
    {
     "name": "stdout",
     "output_type": "stream",
     "text": [
      "INFO:tensorflow:Assets written to: ram://575f37e2-b732-416d-bc09-3ec0f69fc8b6/assets\n"
     ]
    },
    {
     "name": "stderr",
     "output_type": "stream",
     "text": [
      "INFO:tensorflow:Assets written to: ram://575f37e2-b732-416d-bc09-3ec0f69fc8b6/assets\n",
      "WARNING:absl:Found untraced functions such as _jit_compiled_convolution_op while saving (showing 1 of 1). These functions will not be directly callable after loading.\n"
     ]
    },
    {
     "name": "stdout",
     "output_type": "stream",
     "text": [
      "INFO:tensorflow:Assets written to: models/conv_nn-no_diff_features-s100-p5/assets\n"
     ]
    },
    {
     "name": "stderr",
     "output_type": "stream",
     "text": [
      "INFO:tensorflow:Assets written to: models/conv_nn-no_diff_features-s100-p5/assets\n"
     ]
    },
    {
     "name": "stdout",
     "output_type": "stream",
     "text": [
      "219/219 [==============================] - 0s 633us/step\n"
     ]
    },
    {
     "name": "stderr",
     "output_type": "stream",
     "text": [
      "WARNING:absl:Found untraced functions such as _jit_compiled_convolution_op while saving (showing 1 of 1). These functions will not be directly callable after loading.\n"
     ]
    },
    {
     "name": "stdout",
     "output_type": "stream",
     "text": [
      "INFO:tensorflow:Assets written to: ram://ced1ceb0-5456-4688-99ec-1ac68de94326/assets\n"
     ]
    },
    {
     "name": "stderr",
     "output_type": "stream",
     "text": [
      "INFO:tensorflow:Assets written to: ram://ced1ceb0-5456-4688-99ec-1ac68de94326/assets\n",
      "WARNING:absl:Found untraced functions such as _jit_compiled_convolution_op while saving (showing 1 of 1). These functions will not be directly callable after loading.\n"
     ]
    },
    {
     "name": "stdout",
     "output_type": "stream",
     "text": [
      "INFO:tensorflow:Assets written to: models/conv_nn-no_diff_features-s100-p6/assets\n"
     ]
    },
    {
     "name": "stderr",
     "output_type": "stream",
     "text": [
      "INFO:tensorflow:Assets written to: models/conv_nn-no_diff_features-s100-p6/assets\n"
     ]
    },
    {
     "name": "stdout",
     "output_type": "stream",
     "text": [
      "219/219 [==============================] - 0s 623us/step\n"
     ]
    },
    {
     "name": "stderr",
     "output_type": "stream",
     "text": [
      "WARNING:absl:Found untraced functions such as _jit_compiled_convolution_op while saving (showing 1 of 1). These functions will not be directly callable after loading.\n"
     ]
    },
    {
     "name": "stdout",
     "output_type": "stream",
     "text": [
      "INFO:tensorflow:Assets written to: ram://94fe6759-f0d6-46cc-8a3e-dc9dd72b7005/assets\n"
     ]
    },
    {
     "name": "stderr",
     "output_type": "stream",
     "text": [
      "INFO:tensorflow:Assets written to: ram://94fe6759-f0d6-46cc-8a3e-dc9dd72b7005/assets\n",
      "WARNING:absl:Found untraced functions such as _jit_compiled_convolution_op while saving (showing 1 of 1). These functions will not be directly callable after loading.\n"
     ]
    },
    {
     "name": "stdout",
     "output_type": "stream",
     "text": [
      "INFO:tensorflow:Assets written to: models/conv_nn-no_diff_features-s100-p7/assets\n"
     ]
    },
    {
     "name": "stderr",
     "output_type": "stream",
     "text": [
      "INFO:tensorflow:Assets written to: models/conv_nn-no_diff_features-s100-p7/assets\n"
     ]
    },
    {
     "name": "stdout",
     "output_type": "stream",
     "text": [
      "219/219 [==============================] - 0s 612us/step\n"
     ]
    },
    {
     "name": "stderr",
     "output_type": "stream",
     "text": [
      "WARNING:absl:Found untraced functions such as _jit_compiled_convolution_op while saving (showing 1 of 1). These functions will not be directly callable after loading.\n"
     ]
    },
    {
     "name": "stdout",
     "output_type": "stream",
     "text": [
      "INFO:tensorflow:Assets written to: ram://d55abb8e-c615-44e3-bc1e-b1868d44fabe/assets\n"
     ]
    },
    {
     "name": "stderr",
     "output_type": "stream",
     "text": [
      "INFO:tensorflow:Assets written to: ram://d55abb8e-c615-44e3-bc1e-b1868d44fabe/assets\n",
      "WARNING:absl:Found untraced functions such as _jit_compiled_convolution_op while saving (showing 1 of 1). These functions will not be directly callable after loading.\n"
     ]
    },
    {
     "name": "stdout",
     "output_type": "stream",
     "text": [
      "INFO:tensorflow:Assets written to: models/conv_nn-no_diff_features-s100-p8/assets\n"
     ]
    },
    {
     "name": "stderr",
     "output_type": "stream",
     "text": [
      "INFO:tensorflow:Assets written to: models/conv_nn-no_diff_features-s100-p8/assets\n"
     ]
    },
    {
     "name": "stdout",
     "output_type": "stream",
     "text": [
      "219/219 [==============================] - 0s 647us/step\n"
     ]
    },
    {
     "name": "stderr",
     "output_type": "stream",
     "text": [
      "WARNING:absl:Found untraced functions such as _jit_compiled_convolution_op while saving (showing 1 of 1). These functions will not be directly callable after loading.\n"
     ]
    },
    {
     "name": "stdout",
     "output_type": "stream",
     "text": [
      "INFO:tensorflow:Assets written to: ram://a0de1775-0bbb-49d4-9628-fa467c7f8a41/assets\n"
     ]
    },
    {
     "name": "stderr",
     "output_type": "stream",
     "text": [
      "INFO:tensorflow:Assets written to: ram://a0de1775-0bbb-49d4-9628-fa467c7f8a41/assets\n",
      "WARNING:absl:Found untraced functions such as _jit_compiled_convolution_op while saving (showing 1 of 1). These functions will not be directly callable after loading.\n"
     ]
    },
    {
     "name": "stdout",
     "output_type": "stream",
     "text": [
      "INFO:tensorflow:Assets written to: models/conv_nn-no_diff_features-s100-p9/assets\n"
     ]
    },
    {
     "name": "stderr",
     "output_type": "stream",
     "text": [
      "INFO:tensorflow:Assets written to: models/conv_nn-no_diff_features-s100-p9/assets\n"
     ]
    },
    {
     "name": "stdout",
     "output_type": "stream",
     "text": [
      "219/219 [==============================] - 0s 655us/step\n"
     ]
    },
    {
     "name": "stderr",
     "output_type": "stream",
     "text": [
      "WARNING:absl:Found untraced functions such as _jit_compiled_convolution_op while saving (showing 1 of 1). These functions will not be directly callable after loading.\n"
     ]
    },
    {
     "name": "stdout",
     "output_type": "stream",
     "text": [
      "INFO:tensorflow:Assets written to: ram://38e61846-9c30-4698-8d05-62ec645b348b/assets\n"
     ]
    },
    {
     "name": "stderr",
     "output_type": "stream",
     "text": [
      "INFO:tensorflow:Assets written to: ram://38e61846-9c30-4698-8d05-62ec645b348b/assets\n",
      "WARNING:absl:Found untraced functions such as _jit_compiled_convolution_op while saving (showing 1 of 1). These functions will not be directly callable after loading.\n"
     ]
    },
    {
     "name": "stdout",
     "output_type": "stream",
     "text": [
      "INFO:tensorflow:Assets written to: models/conv_nn-no_diff_features-s100-p10/assets\n"
     ]
    },
    {
     "name": "stderr",
     "output_type": "stream",
     "text": [
      "INFO:tensorflow:Assets written to: models/conv_nn-no_diff_features-s100-p10/assets\n"
     ]
    },
    {
     "name": "stdout",
     "output_type": "stream",
     "text": [
      "220/220 [==============================] - 0s 680us/step\n"
     ]
    },
    {
     "name": "stderr",
     "output_type": "stream",
     "text": [
      "WARNING:absl:Found untraced functions such as _jit_compiled_convolution_op while saving (showing 1 of 1). These functions will not be directly callable after loading.\n"
     ]
    },
    {
     "name": "stdout",
     "output_type": "stream",
     "text": [
      "INFO:tensorflow:Assets written to: ram://dbe006b3-dcdf-4e1a-b81d-eb43e8335cb4/assets\n"
     ]
    },
    {
     "name": "stderr",
     "output_type": "stream",
     "text": [
      "INFO:tensorflow:Assets written to: ram://dbe006b3-dcdf-4e1a-b81d-eb43e8335cb4/assets\n",
      "WARNING:absl:Found untraced functions such as _jit_compiled_convolution_op while saving (showing 1 of 1). These functions will not be directly callable after loading.\n"
     ]
    },
    {
     "name": "stdout",
     "output_type": "stream",
     "text": [
      "INFO:tensorflow:Assets written to: models/conv_nn-diff_features-s100-p0/assets\n"
     ]
    },
    {
     "name": "stderr",
     "output_type": "stream",
     "text": [
      "INFO:tensorflow:Assets written to: models/conv_nn-diff_features-s100-p0/assets\n"
     ]
    },
    {
     "name": "stdout",
     "output_type": "stream",
     "text": [
      "220/220 [==============================] - 0s 586us/step\n"
     ]
    },
    {
     "name": "stderr",
     "output_type": "stream",
     "text": [
      "WARNING:absl:Found untraced functions such as _jit_compiled_convolution_op while saving (showing 1 of 1). These functions will not be directly callable after loading.\n"
     ]
    },
    {
     "name": "stdout",
     "output_type": "stream",
     "text": [
      "INFO:tensorflow:Assets written to: ram://e7f70bd3-3803-42ac-8f12-db4d7c90883e/assets\n"
     ]
    },
    {
     "name": "stderr",
     "output_type": "stream",
     "text": [
      "INFO:tensorflow:Assets written to: ram://e7f70bd3-3803-42ac-8f12-db4d7c90883e/assets\n",
      "WARNING:absl:Found untraced functions such as _jit_compiled_convolution_op while saving (showing 1 of 1). These functions will not be directly callable after loading.\n"
     ]
    },
    {
     "name": "stdout",
     "output_type": "stream",
     "text": [
      "INFO:tensorflow:Assets written to: models/conv_nn-diff_features-s100-p1/assets\n"
     ]
    },
    {
     "name": "stderr",
     "output_type": "stream",
     "text": [
      "INFO:tensorflow:Assets written to: models/conv_nn-diff_features-s100-p1/assets\n"
     ]
    },
    {
     "name": "stdout",
     "output_type": "stream",
     "text": [
      "220/220 [==============================] - 0s 505us/step\n"
     ]
    },
    {
     "name": "stderr",
     "output_type": "stream",
     "text": [
      "WARNING:absl:Found untraced functions such as _jit_compiled_convolution_op while saving (showing 1 of 1). These functions will not be directly callable after loading.\n"
     ]
    },
    {
     "name": "stdout",
     "output_type": "stream",
     "text": [
      "INFO:tensorflow:Assets written to: ram://3844a3e2-b444-466d-bb72-8ee352c9980c/assets\n"
     ]
    },
    {
     "name": "stderr",
     "output_type": "stream",
     "text": [
      "INFO:tensorflow:Assets written to: ram://3844a3e2-b444-466d-bb72-8ee352c9980c/assets\n",
      "WARNING:absl:Found untraced functions such as _jit_compiled_convolution_op while saving (showing 1 of 1). These functions will not be directly callable after loading.\n"
     ]
    },
    {
     "name": "stdout",
     "output_type": "stream",
     "text": [
      "INFO:tensorflow:Assets written to: models/conv_nn-diff_features-s100-p2/assets\n"
     ]
    },
    {
     "name": "stderr",
     "output_type": "stream",
     "text": [
      "INFO:tensorflow:Assets written to: models/conv_nn-diff_features-s100-p2/assets\n"
     ]
    },
    {
     "name": "stdout",
     "output_type": "stream",
     "text": [
      "220/220 [==============================] - 0s 523us/step\n"
     ]
    },
    {
     "name": "stderr",
     "output_type": "stream",
     "text": [
      "WARNING:absl:Found untraced functions such as _jit_compiled_convolution_op while saving (showing 1 of 1). These functions will not be directly callable after loading.\n"
     ]
    },
    {
     "name": "stdout",
     "output_type": "stream",
     "text": [
      "INFO:tensorflow:Assets written to: ram://e1c89368-2fcc-4335-9cf6-c2572ccbdb8b/assets\n"
     ]
    },
    {
     "name": "stderr",
     "output_type": "stream",
     "text": [
      "INFO:tensorflow:Assets written to: ram://e1c89368-2fcc-4335-9cf6-c2572ccbdb8b/assets\n",
      "WARNING:absl:Found untraced functions such as _jit_compiled_convolution_op while saving (showing 1 of 1). These functions will not be directly callable after loading.\n"
     ]
    },
    {
     "name": "stdout",
     "output_type": "stream",
     "text": [
      "INFO:tensorflow:Assets written to: models/conv_nn-diff_features-s100-p3/assets\n"
     ]
    },
    {
     "name": "stderr",
     "output_type": "stream",
     "text": [
      "INFO:tensorflow:Assets written to: models/conv_nn-diff_features-s100-p3/assets\n"
     ]
    },
    {
     "name": "stdout",
     "output_type": "stream",
     "text": [
      "220/220 [==============================] - 0s 591us/step\n"
     ]
    },
    {
     "name": "stderr",
     "output_type": "stream",
     "text": [
      "WARNING:absl:Found untraced functions such as _jit_compiled_convolution_op while saving (showing 1 of 1). These functions will not be directly callable after loading.\n"
     ]
    },
    {
     "name": "stdout",
     "output_type": "stream",
     "text": [
      "INFO:tensorflow:Assets written to: ram://8ee63019-402b-4fbb-8575-4ded9fa45971/assets\n"
     ]
    },
    {
     "name": "stderr",
     "output_type": "stream",
     "text": [
      "INFO:tensorflow:Assets written to: ram://8ee63019-402b-4fbb-8575-4ded9fa45971/assets\n",
      "WARNING:absl:Found untraced functions such as _jit_compiled_convolution_op while saving (showing 1 of 1). These functions will not be directly callable after loading.\n"
     ]
    },
    {
     "name": "stdout",
     "output_type": "stream",
     "text": [
      "INFO:tensorflow:Assets written to: models/conv_nn-diff_features-s100-p4/assets\n"
     ]
    },
    {
     "name": "stderr",
     "output_type": "stream",
     "text": [
      "INFO:tensorflow:Assets written to: models/conv_nn-diff_features-s100-p4/assets\n"
     ]
    },
    {
     "name": "stdout",
     "output_type": "stream",
     "text": [
      "219/219 [==============================] - 0s 620us/step\n"
     ]
    },
    {
     "name": "stderr",
     "output_type": "stream",
     "text": [
      "WARNING:absl:Found untraced functions such as _jit_compiled_convolution_op while saving (showing 1 of 1). These functions will not be directly callable after loading.\n"
     ]
    },
    {
     "name": "stdout",
     "output_type": "stream",
     "text": [
      "INFO:tensorflow:Assets written to: ram://bd1ca964-7055-43e2-8166-06e9a55b41ae/assets\n"
     ]
    },
    {
     "name": "stderr",
     "output_type": "stream",
     "text": [
      "INFO:tensorflow:Assets written to: ram://bd1ca964-7055-43e2-8166-06e9a55b41ae/assets\n",
      "WARNING:absl:Found untraced functions such as _jit_compiled_convolution_op while saving (showing 1 of 1). These functions will not be directly callable after loading.\n"
     ]
    },
    {
     "name": "stdout",
     "output_type": "stream",
     "text": [
      "INFO:tensorflow:Assets written to: models/conv_nn-diff_features-s100-p5/assets\n"
     ]
    },
    {
     "name": "stderr",
     "output_type": "stream",
     "text": [
      "INFO:tensorflow:Assets written to: models/conv_nn-diff_features-s100-p5/assets\n"
     ]
    },
    {
     "name": "stdout",
     "output_type": "stream",
     "text": [
      "219/219 [==============================] - 0s 662us/step\n"
     ]
    },
    {
     "name": "stderr",
     "output_type": "stream",
     "text": [
      "WARNING:absl:Found untraced functions such as _jit_compiled_convolution_op while saving (showing 1 of 1). These functions will not be directly callable after loading.\n"
     ]
    },
    {
     "name": "stdout",
     "output_type": "stream",
     "text": [
      "INFO:tensorflow:Assets written to: ram://906cbfc6-b90c-4f77-ba75-de78bdd36548/assets\n"
     ]
    },
    {
     "name": "stderr",
     "output_type": "stream",
     "text": [
      "INFO:tensorflow:Assets written to: ram://906cbfc6-b90c-4f77-ba75-de78bdd36548/assets\n",
      "WARNING:absl:Found untraced functions such as _jit_compiled_convolution_op while saving (showing 1 of 1). These functions will not be directly callable after loading.\n"
     ]
    },
    {
     "name": "stdout",
     "output_type": "stream",
     "text": [
      "INFO:tensorflow:Assets written to: models/conv_nn-diff_features-s100-p6/assets\n"
     ]
    },
    {
     "name": "stderr",
     "output_type": "stream",
     "text": [
      "INFO:tensorflow:Assets written to: models/conv_nn-diff_features-s100-p6/assets\n"
     ]
    },
    {
     "name": "stdout",
     "output_type": "stream",
     "text": [
      "219/219 [==============================] - 0s 615us/step\n"
     ]
    },
    {
     "name": "stderr",
     "output_type": "stream",
     "text": [
      "WARNING:absl:Found untraced functions such as _jit_compiled_convolution_op while saving (showing 1 of 1). These functions will not be directly callable after loading.\n"
     ]
    },
    {
     "name": "stdout",
     "output_type": "stream",
     "text": [
      "INFO:tensorflow:Assets written to: ram://2d906304-0987-4e54-8086-5c983ac972fb/assets\n"
     ]
    },
    {
     "name": "stderr",
     "output_type": "stream",
     "text": [
      "INFO:tensorflow:Assets written to: ram://2d906304-0987-4e54-8086-5c983ac972fb/assets\n",
      "WARNING:absl:Found untraced functions such as _jit_compiled_convolution_op while saving (showing 1 of 1). These functions will not be directly callable after loading.\n"
     ]
    },
    {
     "name": "stdout",
     "output_type": "stream",
     "text": [
      "INFO:tensorflow:Assets written to: models/conv_nn-diff_features-s100-p7/assets\n"
     ]
    },
    {
     "name": "stderr",
     "output_type": "stream",
     "text": [
      "INFO:tensorflow:Assets written to: models/conv_nn-diff_features-s100-p7/assets\n"
     ]
    },
    {
     "name": "stdout",
     "output_type": "stream",
     "text": [
      "219/219 [==============================] - 0s 625us/step\n"
     ]
    },
    {
     "name": "stderr",
     "output_type": "stream",
     "text": [
      "WARNING:absl:Found untraced functions such as _jit_compiled_convolution_op while saving (showing 1 of 1). These functions will not be directly callable after loading.\n"
     ]
    },
    {
     "name": "stdout",
     "output_type": "stream",
     "text": [
      "INFO:tensorflow:Assets written to: ram://aa78f1a9-11d6-4ee8-8463-f068b1588cb2/assets\n"
     ]
    },
    {
     "name": "stderr",
     "output_type": "stream",
     "text": [
      "INFO:tensorflow:Assets written to: ram://aa78f1a9-11d6-4ee8-8463-f068b1588cb2/assets\n",
      "WARNING:absl:Found untraced functions such as _jit_compiled_convolution_op while saving (showing 1 of 1). These functions will not be directly callable after loading.\n"
     ]
    },
    {
     "name": "stdout",
     "output_type": "stream",
     "text": [
      "INFO:tensorflow:Assets written to: models/conv_nn-diff_features-s100-p8/assets\n"
     ]
    },
    {
     "name": "stderr",
     "output_type": "stream",
     "text": [
      "INFO:tensorflow:Assets written to: models/conv_nn-diff_features-s100-p8/assets\n"
     ]
    },
    {
     "name": "stdout",
     "output_type": "stream",
     "text": [
      "219/219 [==============================] - 0s 666us/step\n"
     ]
    },
    {
     "name": "stderr",
     "output_type": "stream",
     "text": [
      "WARNING:absl:Found untraced functions such as _jit_compiled_convolution_op while saving (showing 1 of 1). These functions will not be directly callable after loading.\n"
     ]
    },
    {
     "name": "stdout",
     "output_type": "stream",
     "text": [
      "INFO:tensorflow:Assets written to: ram://a3e2c8cf-7abe-4d18-a8e4-574c57593e15/assets\n"
     ]
    },
    {
     "name": "stderr",
     "output_type": "stream",
     "text": [
      "INFO:tensorflow:Assets written to: ram://a3e2c8cf-7abe-4d18-a8e4-574c57593e15/assets\n",
      "WARNING:absl:Found untraced functions such as _jit_compiled_convolution_op while saving (showing 1 of 1). These functions will not be directly callable after loading.\n"
     ]
    },
    {
     "name": "stdout",
     "output_type": "stream",
     "text": [
      "INFO:tensorflow:Assets written to: models/conv_nn-diff_features-s100-p9/assets\n"
     ]
    },
    {
     "name": "stderr",
     "output_type": "stream",
     "text": [
      "INFO:tensorflow:Assets written to: models/conv_nn-diff_features-s100-p9/assets\n"
     ]
    },
    {
     "name": "stdout",
     "output_type": "stream",
     "text": [
      "219/219 [==============================] - 0s 715us/step\n"
     ]
    },
    {
     "name": "stderr",
     "output_type": "stream",
     "text": [
      "WARNING:absl:Found untraced functions such as _jit_compiled_convolution_op while saving (showing 1 of 1). These functions will not be directly callable after loading.\n"
     ]
    },
    {
     "name": "stdout",
     "output_type": "stream",
     "text": [
      "INFO:tensorflow:Assets written to: ram://e52623c3-0aaa-412d-8eb6-f42a58a3948b/assets\n"
     ]
    },
    {
     "name": "stderr",
     "output_type": "stream",
     "text": [
      "INFO:tensorflow:Assets written to: ram://e52623c3-0aaa-412d-8eb6-f42a58a3948b/assets\n",
      "WARNING:absl:Found untraced functions such as _jit_compiled_convolution_op while saving (showing 1 of 1). These functions will not be directly callable after loading.\n"
     ]
    },
    {
     "name": "stdout",
     "output_type": "stream",
     "text": [
      "INFO:tensorflow:Assets written to: models/conv_nn-diff_features-s100-p10/assets\n"
     ]
    },
    {
     "name": "stderr",
     "output_type": "stream",
     "text": [
      "INFO:tensorflow:Assets written to: models/conv_nn-diff_features-s100-p10/assets\n"
     ]
    },
    {
     "name": "stdout",
     "output_type": "stream",
     "text": [
      "220/220 [==============================] - 0s 632us/step\n"
     ]
    },
    {
     "name": "stderr",
     "output_type": "stream",
     "text": [
      "WARNING:absl:Found untraced functions such as _jit_compiled_convolution_op while saving (showing 1 of 1). These functions will not be directly callable after loading.\n"
     ]
    },
    {
     "name": "stdout",
     "output_type": "stream",
     "text": [
      "INFO:tensorflow:Assets written to: ram://3cb74b1f-8af2-4d03-99b6-59406ab3ca65/assets\n"
     ]
    },
    {
     "name": "stderr",
     "output_type": "stream",
     "text": [
      "INFO:tensorflow:Assets written to: ram://3cb74b1f-8af2-4d03-99b6-59406ab3ca65/assets\n",
      "WARNING:absl:Found untraced functions such as _jit_compiled_convolution_op while saving (showing 1 of 1). These functions will not be directly callable after loading.\n"
     ]
    },
    {
     "name": "stdout",
     "output_type": "stream",
     "text": [
      "INFO:tensorflow:Assets written to: models/conv_nn-all_features-s200-p0/assets\n"
     ]
    },
    {
     "name": "stderr",
     "output_type": "stream",
     "text": [
      "INFO:tensorflow:Assets written to: models/conv_nn-all_features-s200-p0/assets\n"
     ]
    },
    {
     "name": "stdout",
     "output_type": "stream",
     "text": [
      "220/220 [==============================] - 0s 601us/step\n"
     ]
    },
    {
     "name": "stderr",
     "output_type": "stream",
     "text": [
      "WARNING:absl:Found untraced functions such as _jit_compiled_convolution_op while saving (showing 1 of 1). These functions will not be directly callable after loading.\n"
     ]
    },
    {
     "name": "stdout",
     "output_type": "stream",
     "text": [
      "INFO:tensorflow:Assets written to: ram://1a8d468e-81e4-49a0-a917-a7e4e179a751/assets\n"
     ]
    },
    {
     "name": "stderr",
     "output_type": "stream",
     "text": [
      "INFO:tensorflow:Assets written to: ram://1a8d468e-81e4-49a0-a917-a7e4e179a751/assets\n",
      "WARNING:absl:Found untraced functions such as _jit_compiled_convolution_op while saving (showing 1 of 1). These functions will not be directly callable after loading.\n"
     ]
    },
    {
     "name": "stdout",
     "output_type": "stream",
     "text": [
      "INFO:tensorflow:Assets written to: models/conv_nn-all_features-s200-p1/assets\n"
     ]
    },
    {
     "name": "stderr",
     "output_type": "stream",
     "text": [
      "INFO:tensorflow:Assets written to: models/conv_nn-all_features-s200-p1/assets\n"
     ]
    },
    {
     "name": "stdout",
     "output_type": "stream",
     "text": [
      "220/220 [==============================] - 0s 547us/step\n"
     ]
    },
    {
     "name": "stderr",
     "output_type": "stream",
     "text": [
      "WARNING:absl:Found untraced functions such as _jit_compiled_convolution_op while saving (showing 1 of 1). These functions will not be directly callable after loading.\n"
     ]
    },
    {
     "name": "stdout",
     "output_type": "stream",
     "text": [
      "INFO:tensorflow:Assets written to: ram://62898304-13d2-42de-8473-9ff7ca5c40b5/assets\n"
     ]
    },
    {
     "name": "stderr",
     "output_type": "stream",
     "text": [
      "INFO:tensorflow:Assets written to: ram://62898304-13d2-42de-8473-9ff7ca5c40b5/assets\n",
      "WARNING:absl:Found untraced functions such as _jit_compiled_convolution_op while saving (showing 1 of 1). These functions will not be directly callable after loading.\n"
     ]
    },
    {
     "name": "stdout",
     "output_type": "stream",
     "text": [
      "INFO:tensorflow:Assets written to: models/conv_nn-all_features-s200-p2/assets\n"
     ]
    },
    {
     "name": "stderr",
     "output_type": "stream",
     "text": [
      "INFO:tensorflow:Assets written to: models/conv_nn-all_features-s200-p2/assets\n"
     ]
    },
    {
     "name": "stdout",
     "output_type": "stream",
     "text": [
      "220/220 [==============================] - 0s 598us/step\n"
     ]
    },
    {
     "name": "stderr",
     "output_type": "stream",
     "text": [
      "WARNING:absl:Found untraced functions such as _jit_compiled_convolution_op while saving (showing 1 of 1). These functions will not be directly callable after loading.\n"
     ]
    },
    {
     "name": "stdout",
     "output_type": "stream",
     "text": [
      "INFO:tensorflow:Assets written to: ram://41ed2bc8-d4e4-4d12-b3df-9c8b21cf08e0/assets\n"
     ]
    },
    {
     "name": "stderr",
     "output_type": "stream",
     "text": [
      "INFO:tensorflow:Assets written to: ram://41ed2bc8-d4e4-4d12-b3df-9c8b21cf08e0/assets\n",
      "WARNING:absl:Found untraced functions such as _jit_compiled_convolution_op while saving (showing 1 of 1). These functions will not be directly callable after loading.\n"
     ]
    },
    {
     "name": "stdout",
     "output_type": "stream",
     "text": [
      "INFO:tensorflow:Assets written to: models/conv_nn-all_features-s200-p3/assets\n"
     ]
    },
    {
     "name": "stderr",
     "output_type": "stream",
     "text": [
      "INFO:tensorflow:Assets written to: models/conv_nn-all_features-s200-p3/assets\n"
     ]
    },
    {
     "name": "stdout",
     "output_type": "stream",
     "text": [
      "220/220 [==============================] - 0s 630us/step\n"
     ]
    },
    {
     "name": "stderr",
     "output_type": "stream",
     "text": [
      "WARNING:absl:Found untraced functions such as _jit_compiled_convolution_op while saving (showing 1 of 1). These functions will not be directly callable after loading.\n"
     ]
    },
    {
     "name": "stdout",
     "output_type": "stream",
     "text": [
      "INFO:tensorflow:Assets written to: ram://99745d03-0572-4010-90a9-0600da274e82/assets\n"
     ]
    },
    {
     "name": "stderr",
     "output_type": "stream",
     "text": [
      "INFO:tensorflow:Assets written to: ram://99745d03-0572-4010-90a9-0600da274e82/assets\n",
      "WARNING:absl:Found untraced functions such as _jit_compiled_convolution_op while saving (showing 1 of 1). These functions will not be directly callable after loading.\n"
     ]
    },
    {
     "name": "stdout",
     "output_type": "stream",
     "text": [
      "INFO:tensorflow:Assets written to: models/conv_nn-all_features-s200-p4/assets\n"
     ]
    },
    {
     "name": "stderr",
     "output_type": "stream",
     "text": [
      "INFO:tensorflow:Assets written to: models/conv_nn-all_features-s200-p4/assets\n"
     ]
    },
    {
     "name": "stdout",
     "output_type": "stream",
     "text": [
      "219/219 [==============================] - 0s 631us/step\n"
     ]
    },
    {
     "name": "stderr",
     "output_type": "stream",
     "text": [
      "WARNING:absl:Found untraced functions such as _jit_compiled_convolution_op while saving (showing 1 of 1). These functions will not be directly callable after loading.\n"
     ]
    },
    {
     "name": "stdout",
     "output_type": "stream",
     "text": [
      "INFO:tensorflow:Assets written to: ram://98989cdd-2a33-4e83-a84a-aff86e7357f5/assets\n"
     ]
    },
    {
     "name": "stderr",
     "output_type": "stream",
     "text": [
      "INFO:tensorflow:Assets written to: ram://98989cdd-2a33-4e83-a84a-aff86e7357f5/assets\n",
      "WARNING:absl:Found untraced functions such as _jit_compiled_convolution_op while saving (showing 1 of 1). These functions will not be directly callable after loading.\n"
     ]
    },
    {
     "name": "stdout",
     "output_type": "stream",
     "text": [
      "INFO:tensorflow:Assets written to: models/conv_nn-all_features-s200-p5/assets\n"
     ]
    },
    {
     "name": "stderr",
     "output_type": "stream",
     "text": [
      "INFO:tensorflow:Assets written to: models/conv_nn-all_features-s200-p5/assets\n"
     ]
    },
    {
     "name": "stdout",
     "output_type": "stream",
     "text": [
      "219/219 [==============================] - 0s 614us/step\n"
     ]
    },
    {
     "name": "stderr",
     "output_type": "stream",
     "text": [
      "WARNING:absl:Found untraced functions such as _jit_compiled_convolution_op while saving (showing 1 of 1). These functions will not be directly callable after loading.\n"
     ]
    },
    {
     "name": "stdout",
     "output_type": "stream",
     "text": [
      "INFO:tensorflow:Assets written to: ram://618a3150-dcf2-4a70-a351-a34f9139c2f4/assets\n"
     ]
    },
    {
     "name": "stderr",
     "output_type": "stream",
     "text": [
      "INFO:tensorflow:Assets written to: ram://618a3150-dcf2-4a70-a351-a34f9139c2f4/assets\n",
      "WARNING:absl:Found untraced functions such as _jit_compiled_convolution_op while saving (showing 1 of 1). These functions will not be directly callable after loading.\n"
     ]
    },
    {
     "name": "stdout",
     "output_type": "stream",
     "text": [
      "INFO:tensorflow:Assets written to: models/conv_nn-all_features-s200-p6/assets\n"
     ]
    },
    {
     "name": "stderr",
     "output_type": "stream",
     "text": [
      "INFO:tensorflow:Assets written to: models/conv_nn-all_features-s200-p6/assets\n"
     ]
    },
    {
     "name": "stdout",
     "output_type": "stream",
     "text": [
      "219/219 [==============================] - 0s 617us/step\n"
     ]
    },
    {
     "name": "stderr",
     "output_type": "stream",
     "text": [
      "WARNING:absl:Found untraced functions such as _jit_compiled_convolution_op while saving (showing 1 of 1). These functions will not be directly callable after loading.\n"
     ]
    },
    {
     "name": "stdout",
     "output_type": "stream",
     "text": [
      "INFO:tensorflow:Assets written to: ram://676d4618-da9c-4f82-af34-36603634de44/assets\n"
     ]
    },
    {
     "name": "stderr",
     "output_type": "stream",
     "text": [
      "INFO:tensorflow:Assets written to: ram://676d4618-da9c-4f82-af34-36603634de44/assets\n",
      "WARNING:absl:Found untraced functions such as _jit_compiled_convolution_op while saving (showing 1 of 1). These functions will not be directly callable after loading.\n"
     ]
    },
    {
     "name": "stdout",
     "output_type": "stream",
     "text": [
      "INFO:tensorflow:Assets written to: models/conv_nn-all_features-s200-p7/assets\n"
     ]
    },
    {
     "name": "stderr",
     "output_type": "stream",
     "text": [
      "INFO:tensorflow:Assets written to: models/conv_nn-all_features-s200-p7/assets\n"
     ]
    },
    {
     "name": "stdout",
     "output_type": "stream",
     "text": [
      "219/219 [==============================] - 0s 654us/step\n"
     ]
    },
    {
     "name": "stderr",
     "output_type": "stream",
     "text": [
      "WARNING:absl:Found untraced functions such as _jit_compiled_convolution_op while saving (showing 1 of 1). These functions will not be directly callable after loading.\n"
     ]
    },
    {
     "name": "stdout",
     "output_type": "stream",
     "text": [
      "INFO:tensorflow:Assets written to: ram://73f393ce-3231-4aed-90e8-23148acac87c/assets\n"
     ]
    },
    {
     "name": "stderr",
     "output_type": "stream",
     "text": [
      "INFO:tensorflow:Assets written to: ram://73f393ce-3231-4aed-90e8-23148acac87c/assets\n",
      "WARNING:absl:Found untraced functions such as _jit_compiled_convolution_op while saving (showing 1 of 1). These functions will not be directly callable after loading.\n"
     ]
    },
    {
     "name": "stdout",
     "output_type": "stream",
     "text": [
      "INFO:tensorflow:Assets written to: models/conv_nn-all_features-s200-p8/assets\n"
     ]
    },
    {
     "name": "stderr",
     "output_type": "stream",
     "text": [
      "INFO:tensorflow:Assets written to: models/conv_nn-all_features-s200-p8/assets\n"
     ]
    },
    {
     "name": "stdout",
     "output_type": "stream",
     "text": [
      "219/219 [==============================] - 0s 768us/step\n"
     ]
    },
    {
     "name": "stderr",
     "output_type": "stream",
     "text": [
      "WARNING:absl:Found untraced functions such as _jit_compiled_convolution_op while saving (showing 1 of 1). These functions will not be directly callable after loading.\n"
     ]
    },
    {
     "name": "stdout",
     "output_type": "stream",
     "text": [
      "INFO:tensorflow:Assets written to: ram://aac61817-da34-4234-af19-05e8b6f7d796/assets\n"
     ]
    },
    {
     "name": "stderr",
     "output_type": "stream",
     "text": [
      "INFO:tensorflow:Assets written to: ram://aac61817-da34-4234-af19-05e8b6f7d796/assets\n",
      "WARNING:absl:Found untraced functions such as _jit_compiled_convolution_op while saving (showing 1 of 1). These functions will not be directly callable after loading.\n"
     ]
    },
    {
     "name": "stdout",
     "output_type": "stream",
     "text": [
      "INFO:tensorflow:Assets written to: models/conv_nn-all_features-s200-p9/assets\n"
     ]
    },
    {
     "name": "stderr",
     "output_type": "stream",
     "text": [
      "INFO:tensorflow:Assets written to: models/conv_nn-all_features-s200-p9/assets\n"
     ]
    },
    {
     "name": "stdout",
     "output_type": "stream",
     "text": [
      "219/219 [==============================] - 0s 659us/step\n"
     ]
    },
    {
     "name": "stderr",
     "output_type": "stream",
     "text": [
      "WARNING:absl:Found untraced functions such as _jit_compiled_convolution_op while saving (showing 1 of 1). These functions will not be directly callable after loading.\n"
     ]
    },
    {
     "name": "stdout",
     "output_type": "stream",
     "text": [
      "INFO:tensorflow:Assets written to: ram://625e3546-f7aa-4174-80d6-a0b14183fc17/assets\n"
     ]
    },
    {
     "name": "stderr",
     "output_type": "stream",
     "text": [
      "INFO:tensorflow:Assets written to: ram://625e3546-f7aa-4174-80d6-a0b14183fc17/assets\n",
      "WARNING:absl:Found untraced functions such as _jit_compiled_convolution_op while saving (showing 1 of 1). These functions will not be directly callable after loading.\n"
     ]
    },
    {
     "name": "stdout",
     "output_type": "stream",
     "text": [
      "INFO:tensorflow:Assets written to: models/conv_nn-all_features-s200-p10/assets\n"
     ]
    },
    {
     "name": "stderr",
     "output_type": "stream",
     "text": [
      "INFO:tensorflow:Assets written to: models/conv_nn-all_features-s200-p10/assets\n"
     ]
    },
    {
     "name": "stdout",
     "output_type": "stream",
     "text": [
      "220/220 [==============================] - 0s 548us/step\n"
     ]
    },
    {
     "name": "stderr",
     "output_type": "stream",
     "text": [
      "WARNING:absl:Found untraced functions such as _jit_compiled_convolution_op while saving (showing 1 of 1). These functions will not be directly callable after loading.\n"
     ]
    },
    {
     "name": "stdout",
     "output_type": "stream",
     "text": [
      "INFO:tensorflow:Assets written to: ram://61118551-bed9-4418-a0f8-7fc98114d530/assets\n"
     ]
    },
    {
     "name": "stderr",
     "output_type": "stream",
     "text": [
      "INFO:tensorflow:Assets written to: ram://61118551-bed9-4418-a0f8-7fc98114d530/assets\n",
      "WARNING:absl:Found untraced functions such as _jit_compiled_convolution_op while saving (showing 1 of 1). These functions will not be directly callable after loading.\n"
     ]
    },
    {
     "name": "stdout",
     "output_type": "stream",
     "text": [
      "INFO:tensorflow:Assets written to: models/conv_nn-w5_features-s200-p0/assets\n"
     ]
    },
    {
     "name": "stderr",
     "output_type": "stream",
     "text": [
      "INFO:tensorflow:Assets written to: models/conv_nn-w5_features-s200-p0/assets\n"
     ]
    },
    {
     "name": "stdout",
     "output_type": "stream",
     "text": [
      "220/220 [==============================] - 0s 562us/step\n"
     ]
    },
    {
     "name": "stderr",
     "output_type": "stream",
     "text": [
      "WARNING:absl:Found untraced functions such as _jit_compiled_convolution_op while saving (showing 1 of 1). These functions will not be directly callable after loading.\n"
     ]
    },
    {
     "name": "stdout",
     "output_type": "stream",
     "text": [
      "INFO:tensorflow:Assets written to: ram://ba40f5a7-c2e2-473a-8fbd-c6cabe4482c4/assets\n"
     ]
    },
    {
     "name": "stderr",
     "output_type": "stream",
     "text": [
      "INFO:tensorflow:Assets written to: ram://ba40f5a7-c2e2-473a-8fbd-c6cabe4482c4/assets\n",
      "WARNING:absl:Found untraced functions such as _jit_compiled_convolution_op while saving (showing 1 of 1). These functions will not be directly callable after loading.\n"
     ]
    },
    {
     "name": "stdout",
     "output_type": "stream",
     "text": [
      "INFO:tensorflow:Assets written to: models/conv_nn-w5_features-s200-p1/assets\n"
     ]
    },
    {
     "name": "stderr",
     "output_type": "stream",
     "text": [
      "INFO:tensorflow:Assets written to: models/conv_nn-w5_features-s200-p1/assets\n"
     ]
    },
    {
     "name": "stdout",
     "output_type": "stream",
     "text": [
      "220/220 [==============================] - 0s 526us/step\n"
     ]
    },
    {
     "name": "stderr",
     "output_type": "stream",
     "text": [
      "WARNING:absl:Found untraced functions such as _jit_compiled_convolution_op while saving (showing 1 of 1). These functions will not be directly callable after loading.\n"
     ]
    },
    {
     "name": "stdout",
     "output_type": "stream",
     "text": [
      "INFO:tensorflow:Assets written to: ram://9806c29d-7842-4456-b745-c5fa90438e28/assets\n"
     ]
    },
    {
     "name": "stderr",
     "output_type": "stream",
     "text": [
      "INFO:tensorflow:Assets written to: ram://9806c29d-7842-4456-b745-c5fa90438e28/assets\n",
      "WARNING:absl:Found untraced functions such as _jit_compiled_convolution_op while saving (showing 1 of 1). These functions will not be directly callable after loading.\n"
     ]
    },
    {
     "name": "stdout",
     "output_type": "stream",
     "text": [
      "INFO:tensorflow:Assets written to: models/conv_nn-w5_features-s200-p2/assets\n"
     ]
    },
    {
     "name": "stderr",
     "output_type": "stream",
     "text": [
      "INFO:tensorflow:Assets written to: models/conv_nn-w5_features-s200-p2/assets\n"
     ]
    },
    {
     "name": "stdout",
     "output_type": "stream",
     "text": [
      "220/220 [==============================] - 0s 541us/step\n"
     ]
    },
    {
     "name": "stderr",
     "output_type": "stream",
     "text": [
      "WARNING:absl:Found untraced functions such as _jit_compiled_convolution_op while saving (showing 1 of 1). These functions will not be directly callable after loading.\n"
     ]
    },
    {
     "name": "stdout",
     "output_type": "stream",
     "text": [
      "INFO:tensorflow:Assets written to: ram://4b6415d4-2a87-4a5a-9ade-05cde23332bc/assets\n"
     ]
    },
    {
     "name": "stderr",
     "output_type": "stream",
     "text": [
      "INFO:tensorflow:Assets written to: ram://4b6415d4-2a87-4a5a-9ade-05cde23332bc/assets\n",
      "WARNING:absl:Found untraced functions such as _jit_compiled_convolution_op while saving (showing 1 of 1). These functions will not be directly callable after loading.\n"
     ]
    },
    {
     "name": "stdout",
     "output_type": "stream",
     "text": [
      "INFO:tensorflow:Assets written to: models/conv_nn-w5_features-s200-p3/assets\n"
     ]
    },
    {
     "name": "stderr",
     "output_type": "stream",
     "text": [
      "INFO:tensorflow:Assets written to: models/conv_nn-w5_features-s200-p3/assets\n"
     ]
    },
    {
     "name": "stdout",
     "output_type": "stream",
     "text": [
      "220/220 [==============================] - 0s 553us/step\n"
     ]
    },
    {
     "name": "stderr",
     "output_type": "stream",
     "text": [
      "WARNING:absl:Found untraced functions such as _jit_compiled_convolution_op while saving (showing 1 of 1). These functions will not be directly callable after loading.\n"
     ]
    },
    {
     "name": "stdout",
     "output_type": "stream",
     "text": [
      "INFO:tensorflow:Assets written to: ram://5b8f37d2-add8-405c-ba48-777d02091699/assets\n"
     ]
    },
    {
     "name": "stderr",
     "output_type": "stream",
     "text": [
      "INFO:tensorflow:Assets written to: ram://5b8f37d2-add8-405c-ba48-777d02091699/assets\n",
      "WARNING:absl:Found untraced functions such as _jit_compiled_convolution_op while saving (showing 1 of 1). These functions will not be directly callable after loading.\n"
     ]
    },
    {
     "name": "stdout",
     "output_type": "stream",
     "text": [
      "INFO:tensorflow:Assets written to: models/conv_nn-w5_features-s200-p4/assets\n"
     ]
    },
    {
     "name": "stderr",
     "output_type": "stream",
     "text": [
      "INFO:tensorflow:Assets written to: models/conv_nn-w5_features-s200-p4/assets\n"
     ]
    },
    {
     "name": "stdout",
     "output_type": "stream",
     "text": [
      "219/219 [==============================] - 0s 571us/step\n"
     ]
    },
    {
     "name": "stderr",
     "output_type": "stream",
     "text": [
      "WARNING:absl:Found untraced functions such as _jit_compiled_convolution_op while saving (showing 1 of 1). These functions will not be directly callable after loading.\n"
     ]
    },
    {
     "name": "stdout",
     "output_type": "stream",
     "text": [
      "INFO:tensorflow:Assets written to: ram://001e7a24-89a0-4331-ad1f-99b5dcdd3e14/assets\n"
     ]
    },
    {
     "name": "stderr",
     "output_type": "stream",
     "text": [
      "INFO:tensorflow:Assets written to: ram://001e7a24-89a0-4331-ad1f-99b5dcdd3e14/assets\n",
      "WARNING:absl:Found untraced functions such as _jit_compiled_convolution_op while saving (showing 1 of 1). These functions will not be directly callable after loading.\n"
     ]
    },
    {
     "name": "stdout",
     "output_type": "stream",
     "text": [
      "INFO:tensorflow:Assets written to: models/conv_nn-w5_features-s200-p5/assets\n"
     ]
    },
    {
     "name": "stderr",
     "output_type": "stream",
     "text": [
      "INFO:tensorflow:Assets written to: models/conv_nn-w5_features-s200-p5/assets\n"
     ]
    },
    {
     "name": "stdout",
     "output_type": "stream",
     "text": [
      "219/219 [==============================] - 0s 550us/step\n"
     ]
    },
    {
     "name": "stderr",
     "output_type": "stream",
     "text": [
      "WARNING:absl:Found untraced functions such as _jit_compiled_convolution_op while saving (showing 1 of 1). These functions will not be directly callable after loading.\n"
     ]
    },
    {
     "name": "stdout",
     "output_type": "stream",
     "text": [
      "INFO:tensorflow:Assets written to: ram://70acbddb-9127-4e2c-aa61-19eea7620eeb/assets\n"
     ]
    },
    {
     "name": "stderr",
     "output_type": "stream",
     "text": [
      "INFO:tensorflow:Assets written to: ram://70acbddb-9127-4e2c-aa61-19eea7620eeb/assets\n",
      "WARNING:absl:Found untraced functions such as _jit_compiled_convolution_op while saving (showing 1 of 1). These functions will not be directly callable after loading.\n"
     ]
    },
    {
     "name": "stdout",
     "output_type": "stream",
     "text": [
      "INFO:tensorflow:Assets written to: models/conv_nn-w5_features-s200-p6/assets\n"
     ]
    },
    {
     "name": "stderr",
     "output_type": "stream",
     "text": [
      "INFO:tensorflow:Assets written to: models/conv_nn-w5_features-s200-p6/assets\n"
     ]
    },
    {
     "name": "stdout",
     "output_type": "stream",
     "text": [
      "219/219 [==============================] - 0s 546us/step\n"
     ]
    },
    {
     "name": "stderr",
     "output_type": "stream",
     "text": [
      "WARNING:absl:Found untraced functions such as _jit_compiled_convolution_op while saving (showing 1 of 1). These functions will not be directly callable after loading.\n"
     ]
    },
    {
     "name": "stdout",
     "output_type": "stream",
     "text": [
      "INFO:tensorflow:Assets written to: ram://e42c6f36-9e9f-4741-abdc-7432f4508c5c/assets\n"
     ]
    },
    {
     "name": "stderr",
     "output_type": "stream",
     "text": [
      "INFO:tensorflow:Assets written to: ram://e42c6f36-9e9f-4741-abdc-7432f4508c5c/assets\n",
      "WARNING:absl:Found untraced functions such as _jit_compiled_convolution_op while saving (showing 1 of 1). These functions will not be directly callable after loading.\n"
     ]
    },
    {
     "name": "stdout",
     "output_type": "stream",
     "text": [
      "INFO:tensorflow:Assets written to: models/conv_nn-w5_features-s200-p7/assets\n"
     ]
    },
    {
     "name": "stderr",
     "output_type": "stream",
     "text": [
      "INFO:tensorflow:Assets written to: models/conv_nn-w5_features-s200-p7/assets\n"
     ]
    },
    {
     "name": "stdout",
     "output_type": "stream",
     "text": [
      "219/219 [==============================] - 0s 579us/step\n"
     ]
    },
    {
     "name": "stderr",
     "output_type": "stream",
     "text": [
      "WARNING:absl:Found untraced functions such as _jit_compiled_convolution_op while saving (showing 1 of 1). These functions will not be directly callable after loading.\n"
     ]
    },
    {
     "name": "stdout",
     "output_type": "stream",
     "text": [
      "INFO:tensorflow:Assets written to: ram://0cc163b7-ad42-4ca3-8252-6172a829b4e7/assets\n"
     ]
    },
    {
     "name": "stderr",
     "output_type": "stream",
     "text": [
      "INFO:tensorflow:Assets written to: ram://0cc163b7-ad42-4ca3-8252-6172a829b4e7/assets\n",
      "WARNING:absl:Found untraced functions such as _jit_compiled_convolution_op while saving (showing 1 of 1). These functions will not be directly callable after loading.\n"
     ]
    },
    {
     "name": "stdout",
     "output_type": "stream",
     "text": [
      "INFO:tensorflow:Assets written to: models/conv_nn-w5_features-s200-p8/assets\n"
     ]
    },
    {
     "name": "stderr",
     "output_type": "stream",
     "text": [
      "INFO:tensorflow:Assets written to: models/conv_nn-w5_features-s200-p8/assets\n"
     ]
    },
    {
     "name": "stdout",
     "output_type": "stream",
     "text": [
      "219/219 [==============================] - 0s 571us/step\n"
     ]
    },
    {
     "name": "stderr",
     "output_type": "stream",
     "text": [
      "WARNING:absl:Found untraced functions such as _jit_compiled_convolution_op while saving (showing 1 of 1). These functions will not be directly callable after loading.\n"
     ]
    },
    {
     "name": "stdout",
     "output_type": "stream",
     "text": [
      "INFO:tensorflow:Assets written to: ram://4ded527a-adf8-408f-9970-b60309c67790/assets\n"
     ]
    },
    {
     "name": "stderr",
     "output_type": "stream",
     "text": [
      "INFO:tensorflow:Assets written to: ram://4ded527a-adf8-408f-9970-b60309c67790/assets\n",
      "WARNING:absl:Found untraced functions such as _jit_compiled_convolution_op while saving (showing 1 of 1). These functions will not be directly callable after loading.\n"
     ]
    },
    {
     "name": "stdout",
     "output_type": "stream",
     "text": [
      "INFO:tensorflow:Assets written to: models/conv_nn-w5_features-s200-p9/assets\n"
     ]
    },
    {
     "name": "stderr",
     "output_type": "stream",
     "text": [
      "INFO:tensorflow:Assets written to: models/conv_nn-w5_features-s200-p9/assets\n"
     ]
    },
    {
     "name": "stdout",
     "output_type": "stream",
     "text": [
      "219/219 [==============================] - 0s 597us/step\n"
     ]
    },
    {
     "name": "stderr",
     "output_type": "stream",
     "text": [
      "WARNING:absl:Found untraced functions such as _jit_compiled_convolution_op while saving (showing 1 of 1). These functions will not be directly callable after loading.\n"
     ]
    },
    {
     "name": "stdout",
     "output_type": "stream",
     "text": [
      "INFO:tensorflow:Assets written to: ram://3eb43886-efef-4b4d-9855-db06f78bd0b0/assets\n"
     ]
    },
    {
     "name": "stderr",
     "output_type": "stream",
     "text": [
      "INFO:tensorflow:Assets written to: ram://3eb43886-efef-4b4d-9855-db06f78bd0b0/assets\n",
      "WARNING:absl:Found untraced functions such as _jit_compiled_convolution_op while saving (showing 1 of 1). These functions will not be directly callable after loading.\n"
     ]
    },
    {
     "name": "stdout",
     "output_type": "stream",
     "text": [
      "INFO:tensorflow:Assets written to: models/conv_nn-w5_features-s200-p10/assets\n"
     ]
    },
    {
     "name": "stderr",
     "output_type": "stream",
     "text": [
      "INFO:tensorflow:Assets written to: models/conv_nn-w5_features-s200-p10/assets\n"
     ]
    },
    {
     "name": "stdout",
     "output_type": "stream",
     "text": [
      "220/220 [==============================] - 0s 548us/step\n"
     ]
    },
    {
     "name": "stderr",
     "output_type": "stream",
     "text": [
      "WARNING:absl:Found untraced functions such as _jit_compiled_convolution_op while saving (showing 1 of 1). These functions will not be directly callable after loading.\n"
     ]
    },
    {
     "name": "stdout",
     "output_type": "stream",
     "text": [
      "INFO:tensorflow:Assets written to: ram://7b5f24ec-707d-4369-9c55-d7fee432ec4d/assets\n"
     ]
    },
    {
     "name": "stderr",
     "output_type": "stream",
     "text": [
      "INFO:tensorflow:Assets written to: ram://7b5f24ec-707d-4369-9c55-d7fee432ec4d/assets\n",
      "WARNING:absl:Found untraced functions such as _jit_compiled_convolution_op while saving (showing 1 of 1). These functions will not be directly callable after loading.\n"
     ]
    },
    {
     "name": "stdout",
     "output_type": "stream",
     "text": [
      "INFO:tensorflow:Assets written to: models/conv_nn-w10_features-s200-p0/assets\n"
     ]
    },
    {
     "name": "stderr",
     "output_type": "stream",
     "text": [
      "INFO:tensorflow:Assets written to: models/conv_nn-w10_features-s200-p0/assets\n"
     ]
    },
    {
     "name": "stdout",
     "output_type": "stream",
     "text": [
      "220/220 [==============================] - 0s 654us/step\n"
     ]
    },
    {
     "name": "stderr",
     "output_type": "stream",
     "text": [
      "WARNING:absl:Found untraced functions such as _jit_compiled_convolution_op while saving (showing 1 of 1). These functions will not be directly callable after loading.\n"
     ]
    },
    {
     "name": "stdout",
     "output_type": "stream",
     "text": [
      "INFO:tensorflow:Assets written to: ram://87329c37-3c7b-4ff1-b430-b933893659a4/assets\n"
     ]
    },
    {
     "name": "stderr",
     "output_type": "stream",
     "text": [
      "INFO:tensorflow:Assets written to: ram://87329c37-3c7b-4ff1-b430-b933893659a4/assets\n",
      "WARNING:absl:Found untraced functions such as _jit_compiled_convolution_op while saving (showing 1 of 1). These functions will not be directly callable after loading.\n"
     ]
    },
    {
     "name": "stdout",
     "output_type": "stream",
     "text": [
      "INFO:tensorflow:Assets written to: models/conv_nn-w10_features-s200-p1/assets\n"
     ]
    },
    {
     "name": "stderr",
     "output_type": "stream",
     "text": [
      "INFO:tensorflow:Assets written to: models/conv_nn-w10_features-s200-p1/assets\n"
     ]
    },
    {
     "name": "stdout",
     "output_type": "stream",
     "text": [
      "220/220 [==============================] - 0s 549us/step\n"
     ]
    },
    {
     "name": "stderr",
     "output_type": "stream",
     "text": [
      "WARNING:absl:Found untraced functions such as _jit_compiled_convolution_op while saving (showing 1 of 1). These functions will not be directly callable after loading.\n"
     ]
    },
    {
     "name": "stdout",
     "output_type": "stream",
     "text": [
      "INFO:tensorflow:Assets written to: ram://b4f5ab96-98f4-4de3-a6c8-0ef69ec5d753/assets\n"
     ]
    },
    {
     "name": "stderr",
     "output_type": "stream",
     "text": [
      "INFO:tensorflow:Assets written to: ram://b4f5ab96-98f4-4de3-a6c8-0ef69ec5d753/assets\n",
      "WARNING:absl:Found untraced functions such as _jit_compiled_convolution_op while saving (showing 1 of 1). These functions will not be directly callable after loading.\n"
     ]
    },
    {
     "name": "stdout",
     "output_type": "stream",
     "text": [
      "INFO:tensorflow:Assets written to: models/conv_nn-w10_features-s200-p2/assets\n"
     ]
    },
    {
     "name": "stderr",
     "output_type": "stream",
     "text": [
      "INFO:tensorflow:Assets written to: models/conv_nn-w10_features-s200-p2/assets\n"
     ]
    },
    {
     "name": "stdout",
     "output_type": "stream",
     "text": [
      "220/220 [==============================] - 0s 531us/step\n"
     ]
    },
    {
     "name": "stderr",
     "output_type": "stream",
     "text": [
      "WARNING:absl:Found untraced functions such as _jit_compiled_convolution_op while saving (showing 1 of 1). These functions will not be directly callable after loading.\n"
     ]
    },
    {
     "name": "stdout",
     "output_type": "stream",
     "text": [
      "INFO:tensorflow:Assets written to: ram://4b182ca9-ff87-4279-87c0-573d8d2111e6/assets\n"
     ]
    },
    {
     "name": "stderr",
     "output_type": "stream",
     "text": [
      "INFO:tensorflow:Assets written to: ram://4b182ca9-ff87-4279-87c0-573d8d2111e6/assets\n",
      "WARNING:absl:Found untraced functions such as _jit_compiled_convolution_op while saving (showing 1 of 1). These functions will not be directly callable after loading.\n"
     ]
    },
    {
     "name": "stdout",
     "output_type": "stream",
     "text": [
      "INFO:tensorflow:Assets written to: models/conv_nn-w10_features-s200-p3/assets\n"
     ]
    },
    {
     "name": "stderr",
     "output_type": "stream",
     "text": [
      "INFO:tensorflow:Assets written to: models/conv_nn-w10_features-s200-p3/assets\n"
     ]
    },
    {
     "name": "stdout",
     "output_type": "stream",
     "text": [
      "220/220 [==============================] - 0s 543us/step\n"
     ]
    },
    {
     "name": "stderr",
     "output_type": "stream",
     "text": [
      "WARNING:absl:Found untraced functions such as _jit_compiled_convolution_op while saving (showing 1 of 1). These functions will not be directly callable after loading.\n"
     ]
    },
    {
     "name": "stdout",
     "output_type": "stream",
     "text": [
      "INFO:tensorflow:Assets written to: ram://b7e12cd0-3c34-4d6c-b003-955911641d60/assets\n"
     ]
    },
    {
     "name": "stderr",
     "output_type": "stream",
     "text": [
      "INFO:tensorflow:Assets written to: ram://b7e12cd0-3c34-4d6c-b003-955911641d60/assets\n",
      "WARNING:absl:Found untraced functions such as _jit_compiled_convolution_op while saving (showing 1 of 1). These functions will not be directly callable after loading.\n"
     ]
    },
    {
     "name": "stdout",
     "output_type": "stream",
     "text": [
      "INFO:tensorflow:Assets written to: models/conv_nn-w10_features-s200-p4/assets\n"
     ]
    },
    {
     "name": "stderr",
     "output_type": "stream",
     "text": [
      "INFO:tensorflow:Assets written to: models/conv_nn-w10_features-s200-p4/assets\n"
     ]
    },
    {
     "name": "stdout",
     "output_type": "stream",
     "text": [
      "219/219 [==============================] - 0s 581us/step\n"
     ]
    },
    {
     "name": "stderr",
     "output_type": "stream",
     "text": [
      "WARNING:absl:Found untraced functions such as _jit_compiled_convolution_op while saving (showing 1 of 1). These functions will not be directly callable after loading.\n"
     ]
    },
    {
     "name": "stdout",
     "output_type": "stream",
     "text": [
      "INFO:tensorflow:Assets written to: ram://6177049c-2465-4122-b358-0bf9cd1c8fca/assets\n"
     ]
    },
    {
     "name": "stderr",
     "output_type": "stream",
     "text": [
      "INFO:tensorflow:Assets written to: ram://6177049c-2465-4122-b358-0bf9cd1c8fca/assets\n",
      "WARNING:absl:Found untraced functions such as _jit_compiled_convolution_op while saving (showing 1 of 1). These functions will not be directly callable after loading.\n"
     ]
    },
    {
     "name": "stdout",
     "output_type": "stream",
     "text": [
      "INFO:tensorflow:Assets written to: models/conv_nn-w10_features-s200-p5/assets\n"
     ]
    },
    {
     "name": "stderr",
     "output_type": "stream",
     "text": [
      "INFO:tensorflow:Assets written to: models/conv_nn-w10_features-s200-p5/assets\n"
     ]
    },
    {
     "name": "stdout",
     "output_type": "stream",
     "text": [
      "219/219 [==============================] - 0s 544us/step\n"
     ]
    },
    {
     "name": "stderr",
     "output_type": "stream",
     "text": [
      "WARNING:absl:Found untraced functions such as _jit_compiled_convolution_op while saving (showing 1 of 1). These functions will not be directly callable after loading.\n"
     ]
    },
    {
     "name": "stdout",
     "output_type": "stream",
     "text": [
      "INFO:tensorflow:Assets written to: ram://2e706239-6875-4026-9055-bbf3fc240af7/assets\n"
     ]
    },
    {
     "name": "stderr",
     "output_type": "stream",
     "text": [
      "INFO:tensorflow:Assets written to: ram://2e706239-6875-4026-9055-bbf3fc240af7/assets\n",
      "WARNING:absl:Found untraced functions such as _jit_compiled_convolution_op while saving (showing 1 of 1). These functions will not be directly callable after loading.\n"
     ]
    },
    {
     "name": "stdout",
     "output_type": "stream",
     "text": [
      "INFO:tensorflow:Assets written to: models/conv_nn-w10_features-s200-p6/assets\n"
     ]
    },
    {
     "name": "stderr",
     "output_type": "stream",
     "text": [
      "INFO:tensorflow:Assets written to: models/conv_nn-w10_features-s200-p6/assets\n"
     ]
    },
    {
     "name": "stdout",
     "output_type": "stream",
     "text": [
      "219/219 [==============================] - 0s 602us/step\n"
     ]
    },
    {
     "name": "stderr",
     "output_type": "stream",
     "text": [
      "WARNING:absl:Found untraced functions such as _jit_compiled_convolution_op while saving (showing 1 of 1). These functions will not be directly callable after loading.\n"
     ]
    },
    {
     "name": "stdout",
     "output_type": "stream",
     "text": [
      "INFO:tensorflow:Assets written to: ram://396341f7-7e9f-47eb-a4fb-9271cc0ec949/assets\n"
     ]
    },
    {
     "name": "stderr",
     "output_type": "stream",
     "text": [
      "INFO:tensorflow:Assets written to: ram://396341f7-7e9f-47eb-a4fb-9271cc0ec949/assets\n",
      "WARNING:absl:Found untraced functions such as _jit_compiled_convolution_op while saving (showing 1 of 1). These functions will not be directly callable after loading.\n"
     ]
    },
    {
     "name": "stdout",
     "output_type": "stream",
     "text": [
      "INFO:tensorflow:Assets written to: models/conv_nn-w10_features-s200-p7/assets\n"
     ]
    },
    {
     "name": "stderr",
     "output_type": "stream",
     "text": [
      "INFO:tensorflow:Assets written to: models/conv_nn-w10_features-s200-p7/assets\n"
     ]
    },
    {
     "name": "stdout",
     "output_type": "stream",
     "text": [
      "219/219 [==============================] - 0s 569us/step\n"
     ]
    },
    {
     "name": "stderr",
     "output_type": "stream",
     "text": [
      "WARNING:absl:Found untraced functions such as _jit_compiled_convolution_op while saving (showing 1 of 1). These functions will not be directly callable after loading.\n"
     ]
    },
    {
     "name": "stdout",
     "output_type": "stream",
     "text": [
      "INFO:tensorflow:Assets written to: ram://dc66456f-2b2a-4ffd-b459-8ec59f8a2bbb/assets\n"
     ]
    },
    {
     "name": "stderr",
     "output_type": "stream",
     "text": [
      "INFO:tensorflow:Assets written to: ram://dc66456f-2b2a-4ffd-b459-8ec59f8a2bbb/assets\n",
      "WARNING:absl:Found untraced functions such as _jit_compiled_convolution_op while saving (showing 1 of 1). These functions will not be directly callable after loading.\n"
     ]
    },
    {
     "name": "stdout",
     "output_type": "stream",
     "text": [
      "INFO:tensorflow:Assets written to: models/conv_nn-w10_features-s200-p8/assets\n"
     ]
    },
    {
     "name": "stderr",
     "output_type": "stream",
     "text": [
      "INFO:tensorflow:Assets written to: models/conv_nn-w10_features-s200-p8/assets\n"
     ]
    },
    {
     "name": "stdout",
     "output_type": "stream",
     "text": [
      "219/219 [==============================] - 0s 591us/step\n"
     ]
    },
    {
     "name": "stderr",
     "output_type": "stream",
     "text": [
      "WARNING:absl:Found untraced functions such as _jit_compiled_convolution_op while saving (showing 1 of 1). These functions will not be directly callable after loading.\n"
     ]
    },
    {
     "name": "stdout",
     "output_type": "stream",
     "text": [
      "INFO:tensorflow:Assets written to: ram://6f5da2cf-f259-435d-8d13-b44a0d3a602d/assets\n"
     ]
    },
    {
     "name": "stderr",
     "output_type": "stream",
     "text": [
      "INFO:tensorflow:Assets written to: ram://6f5da2cf-f259-435d-8d13-b44a0d3a602d/assets\n",
      "WARNING:absl:Found untraced functions such as _jit_compiled_convolution_op while saving (showing 1 of 1). These functions will not be directly callable after loading.\n"
     ]
    },
    {
     "name": "stdout",
     "output_type": "stream",
     "text": [
      "INFO:tensorflow:Assets written to: models/conv_nn-w10_features-s200-p9/assets\n"
     ]
    },
    {
     "name": "stderr",
     "output_type": "stream",
     "text": [
      "INFO:tensorflow:Assets written to: models/conv_nn-w10_features-s200-p9/assets\n"
     ]
    },
    {
     "name": "stdout",
     "output_type": "stream",
     "text": [
      "219/219 [==============================] - 0s 598us/step\n"
     ]
    },
    {
     "name": "stderr",
     "output_type": "stream",
     "text": [
      "WARNING:absl:Found untraced functions such as _jit_compiled_convolution_op while saving (showing 1 of 1). These functions will not be directly callable after loading.\n"
     ]
    },
    {
     "name": "stdout",
     "output_type": "stream",
     "text": [
      "INFO:tensorflow:Assets written to: ram://c19939a7-94e3-42e2-ba00-a835fd221df5/assets\n"
     ]
    },
    {
     "name": "stderr",
     "output_type": "stream",
     "text": [
      "INFO:tensorflow:Assets written to: ram://c19939a7-94e3-42e2-ba00-a835fd221df5/assets\n",
      "WARNING:absl:Found untraced functions such as _jit_compiled_convolution_op while saving (showing 1 of 1). These functions will not be directly callable after loading.\n"
     ]
    },
    {
     "name": "stdout",
     "output_type": "stream",
     "text": [
      "INFO:tensorflow:Assets written to: models/conv_nn-w10_features-s200-p10/assets\n"
     ]
    },
    {
     "name": "stderr",
     "output_type": "stream",
     "text": [
      "INFO:tensorflow:Assets written to: models/conv_nn-w10_features-s200-p10/assets\n"
     ]
    },
    {
     "name": "stdout",
     "output_type": "stream",
     "text": [
      "220/220 [==============================] - 0s 546us/step\n"
     ]
    },
    {
     "name": "stderr",
     "output_type": "stream",
     "text": [
      "WARNING:absl:Found untraced functions such as _jit_compiled_convolution_op while saving (showing 1 of 1). These functions will not be directly callable after loading.\n"
     ]
    },
    {
     "name": "stdout",
     "output_type": "stream",
     "text": [
      "INFO:tensorflow:Assets written to: ram://d0aa4b96-8058-4781-8f58-c63ce3550193/assets\n"
     ]
    },
    {
     "name": "stderr",
     "output_type": "stream",
     "text": [
      "INFO:tensorflow:Assets written to: ram://d0aa4b96-8058-4781-8f58-c63ce3550193/assets\n",
      "WARNING:absl:Found untraced functions such as _jit_compiled_convolution_op while saving (showing 1 of 1). These functions will not be directly callable after loading.\n"
     ]
    },
    {
     "name": "stdout",
     "output_type": "stream",
     "text": [
      "INFO:tensorflow:Assets written to: models/conv_nn-w15_features-s200-p0/assets\n"
     ]
    },
    {
     "name": "stderr",
     "output_type": "stream",
     "text": [
      "INFO:tensorflow:Assets written to: models/conv_nn-w15_features-s200-p0/assets\n"
     ]
    },
    {
     "name": "stdout",
     "output_type": "stream",
     "text": [
      "220/220 [==============================] - 0s 568us/step\n"
     ]
    },
    {
     "name": "stderr",
     "output_type": "stream",
     "text": [
      "WARNING:absl:Found untraced functions such as _jit_compiled_convolution_op while saving (showing 1 of 1). These functions will not be directly callable after loading.\n"
     ]
    },
    {
     "name": "stdout",
     "output_type": "stream",
     "text": [
      "INFO:tensorflow:Assets written to: ram://f68bf512-bc93-4367-8975-5ea8f0515510/assets\n"
     ]
    },
    {
     "name": "stderr",
     "output_type": "stream",
     "text": [
      "INFO:tensorflow:Assets written to: ram://f68bf512-bc93-4367-8975-5ea8f0515510/assets\n",
      "WARNING:absl:Found untraced functions such as _jit_compiled_convolution_op while saving (showing 1 of 1). These functions will not be directly callable after loading.\n"
     ]
    },
    {
     "name": "stdout",
     "output_type": "stream",
     "text": [
      "INFO:tensorflow:Assets written to: models/conv_nn-w15_features-s200-p1/assets\n"
     ]
    },
    {
     "name": "stderr",
     "output_type": "stream",
     "text": [
      "INFO:tensorflow:Assets written to: models/conv_nn-w15_features-s200-p1/assets\n"
     ]
    },
    {
     "name": "stdout",
     "output_type": "stream",
     "text": [
      "220/220 [==============================] - 0s 519us/step\n"
     ]
    },
    {
     "name": "stderr",
     "output_type": "stream",
     "text": [
      "WARNING:absl:Found untraced functions such as _jit_compiled_convolution_op while saving (showing 1 of 1). These functions will not be directly callable after loading.\n"
     ]
    },
    {
     "name": "stdout",
     "output_type": "stream",
     "text": [
      "INFO:tensorflow:Assets written to: ram://e4e89ad5-c5fe-4dc8-a55a-ec0567d7d1c8/assets\n"
     ]
    },
    {
     "name": "stderr",
     "output_type": "stream",
     "text": [
      "INFO:tensorflow:Assets written to: ram://e4e89ad5-c5fe-4dc8-a55a-ec0567d7d1c8/assets\n",
      "WARNING:absl:Found untraced functions such as _jit_compiled_convolution_op while saving (showing 1 of 1). These functions will not be directly callable after loading.\n"
     ]
    },
    {
     "name": "stdout",
     "output_type": "stream",
     "text": [
      "INFO:tensorflow:Assets written to: models/conv_nn-w15_features-s200-p2/assets\n"
     ]
    },
    {
     "name": "stderr",
     "output_type": "stream",
     "text": [
      "INFO:tensorflow:Assets written to: models/conv_nn-w15_features-s200-p2/assets\n"
     ]
    },
    {
     "name": "stdout",
     "output_type": "stream",
     "text": [
      "220/220 [==============================] - 0s 526us/step\n"
     ]
    },
    {
     "name": "stderr",
     "output_type": "stream",
     "text": [
      "WARNING:absl:Found untraced functions such as _jit_compiled_convolution_op while saving (showing 1 of 1). These functions will not be directly callable after loading.\n"
     ]
    },
    {
     "name": "stdout",
     "output_type": "stream",
     "text": [
      "INFO:tensorflow:Assets written to: ram://00df3cf6-008f-4e00-afa0-0fb1594a16b1/assets\n"
     ]
    },
    {
     "name": "stderr",
     "output_type": "stream",
     "text": [
      "INFO:tensorflow:Assets written to: ram://00df3cf6-008f-4e00-afa0-0fb1594a16b1/assets\n",
      "WARNING:absl:Found untraced functions such as _jit_compiled_convolution_op while saving (showing 1 of 1). These functions will not be directly callable after loading.\n"
     ]
    },
    {
     "name": "stdout",
     "output_type": "stream",
     "text": [
      "INFO:tensorflow:Assets written to: models/conv_nn-w15_features-s200-p3/assets\n"
     ]
    },
    {
     "name": "stderr",
     "output_type": "stream",
     "text": [
      "INFO:tensorflow:Assets written to: models/conv_nn-w15_features-s200-p3/assets\n"
     ]
    },
    {
     "name": "stdout",
     "output_type": "stream",
     "text": [
      "220/220 [==============================] - 0s 553us/step\n"
     ]
    },
    {
     "name": "stderr",
     "output_type": "stream",
     "text": [
      "WARNING:absl:Found untraced functions such as _jit_compiled_convolution_op while saving (showing 1 of 1). These functions will not be directly callable after loading.\n"
     ]
    },
    {
     "name": "stdout",
     "output_type": "stream",
     "text": [
      "INFO:tensorflow:Assets written to: ram://64226594-b81e-4fa9-817f-95a703f27452/assets\n"
     ]
    },
    {
     "name": "stderr",
     "output_type": "stream",
     "text": [
      "INFO:tensorflow:Assets written to: ram://64226594-b81e-4fa9-817f-95a703f27452/assets\n",
      "WARNING:absl:Found untraced functions such as _jit_compiled_convolution_op while saving (showing 1 of 1). These functions will not be directly callable after loading.\n"
     ]
    },
    {
     "name": "stdout",
     "output_type": "stream",
     "text": [
      "INFO:tensorflow:Assets written to: models/conv_nn-w15_features-s200-p4/assets\n"
     ]
    },
    {
     "name": "stderr",
     "output_type": "stream",
     "text": [
      "INFO:tensorflow:Assets written to: models/conv_nn-w15_features-s200-p4/assets\n"
     ]
    },
    {
     "name": "stdout",
     "output_type": "stream",
     "text": [
      "219/219 [==============================] - 0s 550us/step\n"
     ]
    },
    {
     "name": "stderr",
     "output_type": "stream",
     "text": [
      "WARNING:absl:Found untraced functions such as _jit_compiled_convolution_op while saving (showing 1 of 1). These functions will not be directly callable after loading.\n"
     ]
    },
    {
     "name": "stdout",
     "output_type": "stream",
     "text": [
      "INFO:tensorflow:Assets written to: ram://e7f1ae36-2887-49c1-bb80-4754c91a117b/assets\n"
     ]
    },
    {
     "name": "stderr",
     "output_type": "stream",
     "text": [
      "INFO:tensorflow:Assets written to: ram://e7f1ae36-2887-49c1-bb80-4754c91a117b/assets\n",
      "WARNING:absl:Found untraced functions such as _jit_compiled_convolution_op while saving (showing 1 of 1). These functions will not be directly callable after loading.\n"
     ]
    },
    {
     "name": "stdout",
     "output_type": "stream",
     "text": [
      "INFO:tensorflow:Assets written to: models/conv_nn-w15_features-s200-p5/assets\n"
     ]
    },
    {
     "name": "stderr",
     "output_type": "stream",
     "text": [
      "INFO:tensorflow:Assets written to: models/conv_nn-w15_features-s200-p5/assets\n"
     ]
    },
    {
     "name": "stdout",
     "output_type": "stream",
     "text": [
      "219/219 [==============================] - 0s 582us/step\n"
     ]
    },
    {
     "name": "stderr",
     "output_type": "stream",
     "text": [
      "WARNING:absl:Found untraced functions such as _jit_compiled_convolution_op while saving (showing 1 of 1). These functions will not be directly callable after loading.\n"
     ]
    },
    {
     "name": "stdout",
     "output_type": "stream",
     "text": [
      "INFO:tensorflow:Assets written to: ram://0e8cd175-48ed-44e3-8d4c-396716193500/assets\n"
     ]
    },
    {
     "name": "stderr",
     "output_type": "stream",
     "text": [
      "INFO:tensorflow:Assets written to: ram://0e8cd175-48ed-44e3-8d4c-396716193500/assets\n",
      "WARNING:absl:Found untraced functions such as _jit_compiled_convolution_op while saving (showing 1 of 1). These functions will not be directly callable after loading.\n"
     ]
    },
    {
     "name": "stdout",
     "output_type": "stream",
     "text": [
      "INFO:tensorflow:Assets written to: models/conv_nn-w15_features-s200-p6/assets\n"
     ]
    },
    {
     "name": "stderr",
     "output_type": "stream",
     "text": [
      "INFO:tensorflow:Assets written to: models/conv_nn-w15_features-s200-p6/assets\n"
     ]
    },
    {
     "name": "stdout",
     "output_type": "stream",
     "text": [
      "219/219 [==============================] - 0s 576us/step\n"
     ]
    },
    {
     "name": "stderr",
     "output_type": "stream",
     "text": [
      "WARNING:absl:Found untraced functions such as _jit_compiled_convolution_op while saving (showing 1 of 1). These functions will not be directly callable after loading.\n"
     ]
    },
    {
     "name": "stdout",
     "output_type": "stream",
     "text": [
      "INFO:tensorflow:Assets written to: ram://f1bc75df-19f4-4e35-8b51-5165eeff9ff1/assets\n"
     ]
    },
    {
     "name": "stderr",
     "output_type": "stream",
     "text": [
      "INFO:tensorflow:Assets written to: ram://f1bc75df-19f4-4e35-8b51-5165eeff9ff1/assets\n",
      "WARNING:absl:Found untraced functions such as _jit_compiled_convolution_op while saving (showing 1 of 1). These functions will not be directly callable after loading.\n"
     ]
    },
    {
     "name": "stdout",
     "output_type": "stream",
     "text": [
      "INFO:tensorflow:Assets written to: models/conv_nn-w15_features-s200-p7/assets\n"
     ]
    },
    {
     "name": "stderr",
     "output_type": "stream",
     "text": [
      "INFO:tensorflow:Assets written to: models/conv_nn-w15_features-s200-p7/assets\n"
     ]
    },
    {
     "name": "stdout",
     "output_type": "stream",
     "text": [
      "219/219 [==============================] - 0s 570us/step\n"
     ]
    },
    {
     "name": "stderr",
     "output_type": "stream",
     "text": [
      "WARNING:absl:Found untraced functions such as _jit_compiled_convolution_op while saving (showing 1 of 1). These functions will not be directly callable after loading.\n"
     ]
    },
    {
     "name": "stdout",
     "output_type": "stream",
     "text": [
      "INFO:tensorflow:Assets written to: ram://f0f2a496-4ef8-4681-83ef-8e8b9f4a2f7a/assets\n"
     ]
    },
    {
     "name": "stderr",
     "output_type": "stream",
     "text": [
      "INFO:tensorflow:Assets written to: ram://f0f2a496-4ef8-4681-83ef-8e8b9f4a2f7a/assets\n",
      "WARNING:absl:Found untraced functions such as _jit_compiled_convolution_op while saving (showing 1 of 1). These functions will not be directly callable after loading.\n"
     ]
    },
    {
     "name": "stdout",
     "output_type": "stream",
     "text": [
      "INFO:tensorflow:Assets written to: models/conv_nn-w15_features-s200-p8/assets\n"
     ]
    },
    {
     "name": "stderr",
     "output_type": "stream",
     "text": [
      "INFO:tensorflow:Assets written to: models/conv_nn-w15_features-s200-p8/assets\n"
     ]
    },
    {
     "name": "stdout",
     "output_type": "stream",
     "text": [
      "219/219 [==============================] - 0s 557us/step\n"
     ]
    },
    {
     "name": "stderr",
     "output_type": "stream",
     "text": [
      "WARNING:absl:Found untraced functions such as _jit_compiled_convolution_op while saving (showing 1 of 1). These functions will not be directly callable after loading.\n"
     ]
    },
    {
     "name": "stdout",
     "output_type": "stream",
     "text": [
      "INFO:tensorflow:Assets written to: ram://ba8d047e-ac65-4653-a32d-9b135207c099/assets\n"
     ]
    },
    {
     "name": "stderr",
     "output_type": "stream",
     "text": [
      "INFO:tensorflow:Assets written to: ram://ba8d047e-ac65-4653-a32d-9b135207c099/assets\n",
      "WARNING:absl:Found untraced functions such as _jit_compiled_convolution_op while saving (showing 1 of 1). These functions will not be directly callable after loading.\n"
     ]
    },
    {
     "name": "stdout",
     "output_type": "stream",
     "text": [
      "INFO:tensorflow:Assets written to: models/conv_nn-w15_features-s200-p9/assets\n"
     ]
    },
    {
     "name": "stderr",
     "output_type": "stream",
     "text": [
      "INFO:tensorflow:Assets written to: models/conv_nn-w15_features-s200-p9/assets\n"
     ]
    },
    {
     "name": "stdout",
     "output_type": "stream",
     "text": [
      "219/219 [==============================] - 0s 572us/step\n"
     ]
    },
    {
     "name": "stderr",
     "output_type": "stream",
     "text": [
      "WARNING:absl:Found untraced functions such as _jit_compiled_convolution_op while saving (showing 1 of 1). These functions will not be directly callable after loading.\n"
     ]
    },
    {
     "name": "stdout",
     "output_type": "stream",
     "text": [
      "INFO:tensorflow:Assets written to: ram://0f18bec5-dd75-48c7-8a1d-5a6c50278d3d/assets\n"
     ]
    },
    {
     "name": "stderr",
     "output_type": "stream",
     "text": [
      "INFO:tensorflow:Assets written to: ram://0f18bec5-dd75-48c7-8a1d-5a6c50278d3d/assets\n",
      "WARNING:absl:Found untraced functions such as _jit_compiled_convolution_op while saving (showing 1 of 1). These functions will not be directly callable after loading.\n"
     ]
    },
    {
     "name": "stdout",
     "output_type": "stream",
     "text": [
      "INFO:tensorflow:Assets written to: models/conv_nn-w15_features-s200-p10/assets\n"
     ]
    },
    {
     "name": "stderr",
     "output_type": "stream",
     "text": [
      "INFO:tensorflow:Assets written to: models/conv_nn-w15_features-s200-p10/assets\n"
     ]
    },
    {
     "name": "stdout",
     "output_type": "stream",
     "text": [
      "220/220 [==============================] - 0s 597us/step\n"
     ]
    },
    {
     "name": "stderr",
     "output_type": "stream",
     "text": [
      "WARNING:absl:Found untraced functions such as _jit_compiled_convolution_op while saving (showing 1 of 1). These functions will not be directly callable after loading.\n"
     ]
    },
    {
     "name": "stdout",
     "output_type": "stream",
     "text": [
      "INFO:tensorflow:Assets written to: ram://890a4aea-88b0-4e71-a6d0-a9ac39b85028/assets\n"
     ]
    },
    {
     "name": "stderr",
     "output_type": "stream",
     "text": [
      "INFO:tensorflow:Assets written to: ram://890a4aea-88b0-4e71-a6d0-a9ac39b85028/assets\n",
      "WARNING:absl:Found untraced functions such as _jit_compiled_convolution_op while saving (showing 1 of 1). These functions will not be directly callable after loading.\n"
     ]
    },
    {
     "name": "stdout",
     "output_type": "stream",
     "text": [
      "INFO:tensorflow:Assets written to: models/conv_nn-w20_features-s200-p0/assets\n"
     ]
    },
    {
     "name": "stderr",
     "output_type": "stream",
     "text": [
      "INFO:tensorflow:Assets written to: models/conv_nn-w20_features-s200-p0/assets\n"
     ]
    },
    {
     "name": "stdout",
     "output_type": "stream",
     "text": [
      "220/220 [==============================] - 0s 555us/step\n"
     ]
    },
    {
     "name": "stderr",
     "output_type": "stream",
     "text": [
      "WARNING:absl:Found untraced functions such as _jit_compiled_convolution_op while saving (showing 1 of 1). These functions will not be directly callable after loading.\n"
     ]
    },
    {
     "name": "stdout",
     "output_type": "stream",
     "text": [
      "INFO:tensorflow:Assets written to: ram://43de761e-e8fd-48da-824a-5b1fbc1f2d74/assets\n"
     ]
    },
    {
     "name": "stderr",
     "output_type": "stream",
     "text": [
      "INFO:tensorflow:Assets written to: ram://43de761e-e8fd-48da-824a-5b1fbc1f2d74/assets\n",
      "WARNING:absl:Found untraced functions such as _jit_compiled_convolution_op while saving (showing 1 of 1). These functions will not be directly callable after loading.\n"
     ]
    },
    {
     "name": "stdout",
     "output_type": "stream",
     "text": [
      "INFO:tensorflow:Assets written to: models/conv_nn-w20_features-s200-p1/assets\n"
     ]
    },
    {
     "name": "stderr",
     "output_type": "stream",
     "text": [
      "INFO:tensorflow:Assets written to: models/conv_nn-w20_features-s200-p1/assets\n"
     ]
    },
    {
     "name": "stdout",
     "output_type": "stream",
     "text": [
      "220/220 [==============================] - 0s 495us/step\n"
     ]
    },
    {
     "name": "stderr",
     "output_type": "stream",
     "text": [
      "WARNING:absl:Found untraced functions such as _jit_compiled_convolution_op while saving (showing 1 of 1). These functions will not be directly callable after loading.\n"
     ]
    },
    {
     "name": "stdout",
     "output_type": "stream",
     "text": [
      "INFO:tensorflow:Assets written to: ram://efc6b52b-e12c-4ef1-8071-94491c231062/assets\n"
     ]
    },
    {
     "name": "stderr",
     "output_type": "stream",
     "text": [
      "INFO:tensorflow:Assets written to: ram://efc6b52b-e12c-4ef1-8071-94491c231062/assets\n",
      "WARNING:absl:Found untraced functions such as _jit_compiled_convolution_op while saving (showing 1 of 1). These functions will not be directly callable after loading.\n"
     ]
    },
    {
     "name": "stdout",
     "output_type": "stream",
     "text": [
      "INFO:tensorflow:Assets written to: models/conv_nn-w20_features-s200-p2/assets\n"
     ]
    },
    {
     "name": "stderr",
     "output_type": "stream",
     "text": [
      "INFO:tensorflow:Assets written to: models/conv_nn-w20_features-s200-p2/assets\n"
     ]
    },
    {
     "name": "stdout",
     "output_type": "stream",
     "text": [
      "220/220 [==============================] - 0s 526us/step\n"
     ]
    },
    {
     "name": "stderr",
     "output_type": "stream",
     "text": [
      "WARNING:absl:Found untraced functions such as _jit_compiled_convolution_op while saving (showing 1 of 1). These functions will not be directly callable after loading.\n"
     ]
    },
    {
     "name": "stdout",
     "output_type": "stream",
     "text": [
      "INFO:tensorflow:Assets written to: ram://0a443920-c028-4137-a66f-243df46fba71/assets\n"
     ]
    },
    {
     "name": "stderr",
     "output_type": "stream",
     "text": [
      "INFO:tensorflow:Assets written to: ram://0a443920-c028-4137-a66f-243df46fba71/assets\n",
      "WARNING:absl:Found untraced functions such as _jit_compiled_convolution_op while saving (showing 1 of 1). These functions will not be directly callable after loading.\n"
     ]
    },
    {
     "name": "stdout",
     "output_type": "stream",
     "text": [
      "INFO:tensorflow:Assets written to: models/conv_nn-w20_features-s200-p3/assets\n"
     ]
    },
    {
     "name": "stderr",
     "output_type": "stream",
     "text": [
      "INFO:tensorflow:Assets written to: models/conv_nn-w20_features-s200-p3/assets\n"
     ]
    },
    {
     "name": "stdout",
     "output_type": "stream",
     "text": [
      "220/220 [==============================] - 0s 539us/step\n"
     ]
    },
    {
     "name": "stderr",
     "output_type": "stream",
     "text": [
      "WARNING:absl:Found untraced functions such as _jit_compiled_convolution_op while saving (showing 1 of 1). These functions will not be directly callable after loading.\n"
     ]
    },
    {
     "name": "stdout",
     "output_type": "stream",
     "text": [
      "INFO:tensorflow:Assets written to: ram://1ca04f2e-1c45-4b29-88c7-ded7b6b1c8a8/assets\n"
     ]
    },
    {
     "name": "stderr",
     "output_type": "stream",
     "text": [
      "INFO:tensorflow:Assets written to: ram://1ca04f2e-1c45-4b29-88c7-ded7b6b1c8a8/assets\n",
      "WARNING:absl:Found untraced functions such as _jit_compiled_convolution_op while saving (showing 1 of 1). These functions will not be directly callable after loading.\n"
     ]
    },
    {
     "name": "stdout",
     "output_type": "stream",
     "text": [
      "INFO:tensorflow:Assets written to: models/conv_nn-w20_features-s200-p4/assets\n"
     ]
    },
    {
     "name": "stderr",
     "output_type": "stream",
     "text": [
      "INFO:tensorflow:Assets written to: models/conv_nn-w20_features-s200-p4/assets\n"
     ]
    },
    {
     "name": "stdout",
     "output_type": "stream",
     "text": [
      "219/219 [==============================] - 0s 577us/step\n"
     ]
    },
    {
     "name": "stderr",
     "output_type": "stream",
     "text": [
      "WARNING:absl:Found untraced functions such as _jit_compiled_convolution_op while saving (showing 1 of 1). These functions will not be directly callable after loading.\n"
     ]
    },
    {
     "name": "stdout",
     "output_type": "stream",
     "text": [
      "INFO:tensorflow:Assets written to: ram://9c16f661-ed62-4941-8f37-95cccc07caef/assets\n"
     ]
    },
    {
     "name": "stderr",
     "output_type": "stream",
     "text": [
      "INFO:tensorflow:Assets written to: ram://9c16f661-ed62-4941-8f37-95cccc07caef/assets\n",
      "WARNING:absl:Found untraced functions such as _jit_compiled_convolution_op while saving (showing 1 of 1). These functions will not be directly callable after loading.\n"
     ]
    },
    {
     "name": "stdout",
     "output_type": "stream",
     "text": [
      "INFO:tensorflow:Assets written to: models/conv_nn-w20_features-s200-p5/assets\n"
     ]
    },
    {
     "name": "stderr",
     "output_type": "stream",
     "text": [
      "INFO:tensorflow:Assets written to: models/conv_nn-w20_features-s200-p5/assets\n"
     ]
    },
    {
     "name": "stdout",
     "output_type": "stream",
     "text": [
      "219/219 [==============================] - 0s 583us/step\n"
     ]
    },
    {
     "name": "stderr",
     "output_type": "stream",
     "text": [
      "WARNING:absl:Found untraced functions such as _jit_compiled_convolution_op while saving (showing 1 of 1). These functions will not be directly callable after loading.\n"
     ]
    },
    {
     "name": "stdout",
     "output_type": "stream",
     "text": [
      "INFO:tensorflow:Assets written to: ram://2d411035-ab32-432c-b098-88f009046d83/assets\n"
     ]
    },
    {
     "name": "stderr",
     "output_type": "stream",
     "text": [
      "INFO:tensorflow:Assets written to: ram://2d411035-ab32-432c-b098-88f009046d83/assets\n",
      "WARNING:absl:Found untraced functions such as _jit_compiled_convolution_op while saving (showing 1 of 1). These functions will not be directly callable after loading.\n"
     ]
    },
    {
     "name": "stdout",
     "output_type": "stream",
     "text": [
      "INFO:tensorflow:Assets written to: models/conv_nn-w20_features-s200-p6/assets\n"
     ]
    },
    {
     "name": "stderr",
     "output_type": "stream",
     "text": [
      "INFO:tensorflow:Assets written to: models/conv_nn-w20_features-s200-p6/assets\n"
     ]
    },
    {
     "name": "stdout",
     "output_type": "stream",
     "text": [
      "219/219 [==============================] - 0s 552us/step\n"
     ]
    },
    {
     "name": "stderr",
     "output_type": "stream",
     "text": [
      "WARNING:absl:Found untraced functions such as _jit_compiled_convolution_op while saving (showing 1 of 1). These functions will not be directly callable after loading.\n"
     ]
    },
    {
     "name": "stdout",
     "output_type": "stream",
     "text": [
      "INFO:tensorflow:Assets written to: ram://4b3d8c3e-403c-444f-9e4b-71be7b6dba1b/assets\n"
     ]
    },
    {
     "name": "stderr",
     "output_type": "stream",
     "text": [
      "INFO:tensorflow:Assets written to: ram://4b3d8c3e-403c-444f-9e4b-71be7b6dba1b/assets\n",
      "WARNING:absl:Found untraced functions such as _jit_compiled_convolution_op while saving (showing 1 of 1). These functions will not be directly callable after loading.\n"
     ]
    },
    {
     "name": "stdout",
     "output_type": "stream",
     "text": [
      "INFO:tensorflow:Assets written to: models/conv_nn-w20_features-s200-p7/assets\n"
     ]
    },
    {
     "name": "stderr",
     "output_type": "stream",
     "text": [
      "INFO:tensorflow:Assets written to: models/conv_nn-w20_features-s200-p7/assets\n"
     ]
    },
    {
     "name": "stdout",
     "output_type": "stream",
     "text": [
      "219/219 [==============================] - 0s 585us/step\n"
     ]
    },
    {
     "name": "stderr",
     "output_type": "stream",
     "text": [
      "WARNING:absl:Found untraced functions such as _jit_compiled_convolution_op while saving (showing 1 of 1). These functions will not be directly callable after loading.\n"
     ]
    },
    {
     "name": "stdout",
     "output_type": "stream",
     "text": [
      "INFO:tensorflow:Assets written to: ram://0cd8c4f2-5985-460c-9a53-97db1f17ee0f/assets\n"
     ]
    },
    {
     "name": "stderr",
     "output_type": "stream",
     "text": [
      "INFO:tensorflow:Assets written to: ram://0cd8c4f2-5985-460c-9a53-97db1f17ee0f/assets\n",
      "WARNING:absl:Found untraced functions such as _jit_compiled_convolution_op while saving (showing 1 of 1). These functions will not be directly callable after loading.\n"
     ]
    },
    {
     "name": "stdout",
     "output_type": "stream",
     "text": [
      "INFO:tensorflow:Assets written to: models/conv_nn-w20_features-s200-p8/assets\n"
     ]
    },
    {
     "name": "stderr",
     "output_type": "stream",
     "text": [
      "INFO:tensorflow:Assets written to: models/conv_nn-w20_features-s200-p8/assets\n"
     ]
    },
    {
     "name": "stdout",
     "output_type": "stream",
     "text": [
      "219/219 [==============================] - 0s 614us/step\n"
     ]
    },
    {
     "name": "stderr",
     "output_type": "stream",
     "text": [
      "WARNING:absl:Found untraced functions such as _jit_compiled_convolution_op while saving (showing 1 of 1). These functions will not be directly callable after loading.\n"
     ]
    },
    {
     "name": "stdout",
     "output_type": "stream",
     "text": [
      "INFO:tensorflow:Assets written to: ram://fabb63e3-d106-42ee-b87d-350839bc4f8f/assets\n"
     ]
    },
    {
     "name": "stderr",
     "output_type": "stream",
     "text": [
      "INFO:tensorflow:Assets written to: ram://fabb63e3-d106-42ee-b87d-350839bc4f8f/assets\n",
      "WARNING:absl:Found untraced functions such as _jit_compiled_convolution_op while saving (showing 1 of 1). These functions will not be directly callable after loading.\n"
     ]
    },
    {
     "name": "stdout",
     "output_type": "stream",
     "text": [
      "INFO:tensorflow:Assets written to: models/conv_nn-w20_features-s200-p9/assets\n"
     ]
    },
    {
     "name": "stderr",
     "output_type": "stream",
     "text": [
      "INFO:tensorflow:Assets written to: models/conv_nn-w20_features-s200-p9/assets\n"
     ]
    },
    {
     "name": "stdout",
     "output_type": "stream",
     "text": [
      "219/219 [==============================] - 0s 606us/step\n"
     ]
    },
    {
     "name": "stderr",
     "output_type": "stream",
     "text": [
      "WARNING:absl:Found untraced functions such as _jit_compiled_convolution_op while saving (showing 1 of 1). These functions will not be directly callable after loading.\n"
     ]
    },
    {
     "name": "stdout",
     "output_type": "stream",
     "text": [
      "INFO:tensorflow:Assets written to: ram://6968a259-d5f1-4e78-871b-a609b934189a/assets\n"
     ]
    },
    {
     "name": "stderr",
     "output_type": "stream",
     "text": [
      "INFO:tensorflow:Assets written to: ram://6968a259-d5f1-4e78-871b-a609b934189a/assets\n",
      "WARNING:absl:Found untraced functions such as _jit_compiled_convolution_op while saving (showing 1 of 1). These functions will not be directly callable after loading.\n"
     ]
    },
    {
     "name": "stdout",
     "output_type": "stream",
     "text": [
      "INFO:tensorflow:Assets written to: models/conv_nn-w20_features-s200-p10/assets\n"
     ]
    },
    {
     "name": "stderr",
     "output_type": "stream",
     "text": [
      "INFO:tensorflow:Assets written to: models/conv_nn-w20_features-s200-p10/assets\n"
     ]
    },
    {
     "name": "stdout",
     "output_type": "stream",
     "text": [
      "220/220 [==============================] - 0s 565us/step\n"
     ]
    },
    {
     "name": "stderr",
     "output_type": "stream",
     "text": [
      "WARNING:absl:Found untraced functions such as _jit_compiled_convolution_op while saving (showing 1 of 1). These functions will not be directly callable after loading.\n"
     ]
    },
    {
     "name": "stdout",
     "output_type": "stream",
     "text": [
      "INFO:tensorflow:Assets written to: ram://fd03f620-30cc-4f97-a783-729cf26d8625/assets\n"
     ]
    },
    {
     "name": "stderr",
     "output_type": "stream",
     "text": [
      "INFO:tensorflow:Assets written to: ram://fd03f620-30cc-4f97-a783-729cf26d8625/assets\n",
      "WARNING:absl:Found untraced functions such as _jit_compiled_convolution_op while saving (showing 1 of 1). These functions will not be directly callable after loading.\n"
     ]
    },
    {
     "name": "stdout",
     "output_type": "stream",
     "text": [
      "INFO:tensorflow:Assets written to: models/conv_nn-no_diff_features-s200-p0/assets\n"
     ]
    },
    {
     "name": "stderr",
     "output_type": "stream",
     "text": [
      "INFO:tensorflow:Assets written to: models/conv_nn-no_diff_features-s200-p0/assets\n"
     ]
    },
    {
     "name": "stdout",
     "output_type": "stream",
     "text": [
      "220/220 [==============================] - 0s 548us/step\n"
     ]
    },
    {
     "name": "stderr",
     "output_type": "stream",
     "text": [
      "WARNING:absl:Found untraced functions such as _jit_compiled_convolution_op while saving (showing 1 of 1). These functions will not be directly callable after loading.\n"
     ]
    },
    {
     "name": "stdout",
     "output_type": "stream",
     "text": [
      "INFO:tensorflow:Assets written to: ram://14619e3e-9cce-486f-b59a-ad999b1f686c/assets\n"
     ]
    },
    {
     "name": "stderr",
     "output_type": "stream",
     "text": [
      "INFO:tensorflow:Assets written to: ram://14619e3e-9cce-486f-b59a-ad999b1f686c/assets\n",
      "WARNING:absl:Found untraced functions such as _jit_compiled_convolution_op while saving (showing 1 of 1). These functions will not be directly callable after loading.\n"
     ]
    },
    {
     "name": "stdout",
     "output_type": "stream",
     "text": [
      "INFO:tensorflow:Assets written to: models/conv_nn-no_diff_features-s200-p1/assets\n"
     ]
    },
    {
     "name": "stderr",
     "output_type": "stream",
     "text": [
      "INFO:tensorflow:Assets written to: models/conv_nn-no_diff_features-s200-p1/assets\n"
     ]
    },
    {
     "name": "stdout",
     "output_type": "stream",
     "text": [
      "220/220 [==============================] - 0s 564us/step\n"
     ]
    },
    {
     "name": "stderr",
     "output_type": "stream",
     "text": [
      "WARNING:absl:Found untraced functions such as _jit_compiled_convolution_op while saving (showing 1 of 1). These functions will not be directly callable after loading.\n"
     ]
    },
    {
     "name": "stdout",
     "output_type": "stream",
     "text": [
      "INFO:tensorflow:Assets written to: ram://2b3608e6-a7bb-4bb3-8d1c-a56a267e5cea/assets\n"
     ]
    },
    {
     "name": "stderr",
     "output_type": "stream",
     "text": [
      "INFO:tensorflow:Assets written to: ram://2b3608e6-a7bb-4bb3-8d1c-a56a267e5cea/assets\n",
      "WARNING:absl:Found untraced functions such as _jit_compiled_convolution_op while saving (showing 1 of 1). These functions will not be directly callable after loading.\n"
     ]
    },
    {
     "name": "stdout",
     "output_type": "stream",
     "text": [
      "INFO:tensorflow:Assets written to: models/conv_nn-no_diff_features-s200-p2/assets\n"
     ]
    },
    {
     "name": "stderr",
     "output_type": "stream",
     "text": [
      "INFO:tensorflow:Assets written to: models/conv_nn-no_diff_features-s200-p2/assets\n"
     ]
    },
    {
     "name": "stdout",
     "output_type": "stream",
     "text": [
      "220/220 [==============================] - 0s 536us/step\n"
     ]
    },
    {
     "name": "stderr",
     "output_type": "stream",
     "text": [
      "WARNING:absl:Found untraced functions such as _jit_compiled_convolution_op while saving (showing 1 of 1). These functions will not be directly callable after loading.\n"
     ]
    },
    {
     "name": "stdout",
     "output_type": "stream",
     "text": [
      "INFO:tensorflow:Assets written to: ram://f395fd0e-ed05-428c-8da1-3d5d6abfb1de/assets\n"
     ]
    },
    {
     "name": "stderr",
     "output_type": "stream",
     "text": [
      "INFO:tensorflow:Assets written to: ram://f395fd0e-ed05-428c-8da1-3d5d6abfb1de/assets\n",
      "WARNING:absl:Found untraced functions such as _jit_compiled_convolution_op while saving (showing 1 of 1). These functions will not be directly callable after loading.\n"
     ]
    },
    {
     "name": "stdout",
     "output_type": "stream",
     "text": [
      "INFO:tensorflow:Assets written to: models/conv_nn-no_diff_features-s200-p3/assets\n"
     ]
    },
    {
     "name": "stderr",
     "output_type": "stream",
     "text": [
      "INFO:tensorflow:Assets written to: models/conv_nn-no_diff_features-s200-p3/assets\n"
     ]
    },
    {
     "name": "stdout",
     "output_type": "stream",
     "text": [
      "220/220 [==============================] - 0s 563us/step\n"
     ]
    },
    {
     "name": "stderr",
     "output_type": "stream",
     "text": [
      "WARNING:absl:Found untraced functions such as _jit_compiled_convolution_op while saving (showing 1 of 1). These functions will not be directly callable after loading.\n"
     ]
    },
    {
     "name": "stdout",
     "output_type": "stream",
     "text": [
      "INFO:tensorflow:Assets written to: ram://4010e1ab-28c3-4834-bbf9-256e84d758ab/assets\n"
     ]
    },
    {
     "name": "stderr",
     "output_type": "stream",
     "text": [
      "INFO:tensorflow:Assets written to: ram://4010e1ab-28c3-4834-bbf9-256e84d758ab/assets\n",
      "WARNING:absl:Found untraced functions such as _jit_compiled_convolution_op while saving (showing 1 of 1). These functions will not be directly callable after loading.\n"
     ]
    },
    {
     "name": "stdout",
     "output_type": "stream",
     "text": [
      "INFO:tensorflow:Assets written to: models/conv_nn-no_diff_features-s200-p4/assets\n"
     ]
    },
    {
     "name": "stderr",
     "output_type": "stream",
     "text": [
      "INFO:tensorflow:Assets written to: models/conv_nn-no_diff_features-s200-p4/assets\n"
     ]
    },
    {
     "name": "stdout",
     "output_type": "stream",
     "text": [
      "219/219 [==============================] - 0s 589us/step\n"
     ]
    },
    {
     "name": "stderr",
     "output_type": "stream",
     "text": [
      "WARNING:absl:Found untraced functions such as _jit_compiled_convolution_op while saving (showing 1 of 1). These functions will not be directly callable after loading.\n"
     ]
    },
    {
     "name": "stdout",
     "output_type": "stream",
     "text": [
      "INFO:tensorflow:Assets written to: ram://20ff313b-7ea7-4eec-b42d-4068ffec4a91/assets\n"
     ]
    },
    {
     "name": "stderr",
     "output_type": "stream",
     "text": [
      "INFO:tensorflow:Assets written to: ram://20ff313b-7ea7-4eec-b42d-4068ffec4a91/assets\n",
      "WARNING:absl:Found untraced functions such as _jit_compiled_convolution_op while saving (showing 1 of 1). These functions will not be directly callable after loading.\n"
     ]
    },
    {
     "name": "stdout",
     "output_type": "stream",
     "text": [
      "INFO:tensorflow:Assets written to: models/conv_nn-no_diff_features-s200-p5/assets\n"
     ]
    },
    {
     "name": "stderr",
     "output_type": "stream",
     "text": [
      "INFO:tensorflow:Assets written to: models/conv_nn-no_diff_features-s200-p5/assets\n"
     ]
    },
    {
     "name": "stdout",
     "output_type": "stream",
     "text": [
      "219/219 [==============================] - 0s 600us/step\n"
     ]
    },
    {
     "name": "stderr",
     "output_type": "stream",
     "text": [
      "WARNING:absl:Found untraced functions such as _jit_compiled_convolution_op while saving (showing 1 of 1). These functions will not be directly callable after loading.\n"
     ]
    },
    {
     "name": "stdout",
     "output_type": "stream",
     "text": [
      "INFO:tensorflow:Assets written to: ram://390bab79-cc17-402e-b724-ae177d361874/assets\n"
     ]
    },
    {
     "name": "stderr",
     "output_type": "stream",
     "text": [
      "INFO:tensorflow:Assets written to: ram://390bab79-cc17-402e-b724-ae177d361874/assets\n",
      "WARNING:absl:Found untraced functions such as _jit_compiled_convolution_op while saving (showing 1 of 1). These functions will not be directly callable after loading.\n"
     ]
    },
    {
     "name": "stdout",
     "output_type": "stream",
     "text": [
      "INFO:tensorflow:Assets written to: models/conv_nn-no_diff_features-s200-p6/assets\n"
     ]
    },
    {
     "name": "stderr",
     "output_type": "stream",
     "text": [
      "INFO:tensorflow:Assets written to: models/conv_nn-no_diff_features-s200-p6/assets\n"
     ]
    },
    {
     "name": "stdout",
     "output_type": "stream",
     "text": [
      "219/219 [==============================] - 0s 625us/step\n"
     ]
    },
    {
     "name": "stderr",
     "output_type": "stream",
     "text": [
      "WARNING:absl:Found untraced functions such as _jit_compiled_convolution_op while saving (showing 1 of 1). These functions will not be directly callable after loading.\n"
     ]
    },
    {
     "name": "stdout",
     "output_type": "stream",
     "text": [
      "INFO:tensorflow:Assets written to: ram://30b98d32-f1a9-4dfc-9d81-40d209e0aa30/assets\n"
     ]
    },
    {
     "name": "stderr",
     "output_type": "stream",
     "text": [
      "INFO:tensorflow:Assets written to: ram://30b98d32-f1a9-4dfc-9d81-40d209e0aa30/assets\n",
      "WARNING:absl:Found untraced functions such as _jit_compiled_convolution_op while saving (showing 1 of 1). These functions will not be directly callable after loading.\n"
     ]
    },
    {
     "name": "stdout",
     "output_type": "stream",
     "text": [
      "INFO:tensorflow:Assets written to: models/conv_nn-no_diff_features-s200-p7/assets\n"
     ]
    },
    {
     "name": "stderr",
     "output_type": "stream",
     "text": [
      "INFO:tensorflow:Assets written to: models/conv_nn-no_diff_features-s200-p7/assets\n"
     ]
    },
    {
     "name": "stdout",
     "output_type": "stream",
     "text": [
      "219/219 [==============================] - 0s 636us/step\n"
     ]
    },
    {
     "name": "stderr",
     "output_type": "stream",
     "text": [
      "WARNING:absl:Found untraced functions such as _jit_compiled_convolution_op while saving (showing 1 of 1). These functions will not be directly callable after loading.\n"
     ]
    },
    {
     "name": "stdout",
     "output_type": "stream",
     "text": [
      "INFO:tensorflow:Assets written to: ram://d752627f-41a9-4b96-ab39-146c48199431/assets\n"
     ]
    },
    {
     "name": "stderr",
     "output_type": "stream",
     "text": [
      "INFO:tensorflow:Assets written to: ram://d752627f-41a9-4b96-ab39-146c48199431/assets\n",
      "WARNING:absl:Found untraced functions such as _jit_compiled_convolution_op while saving (showing 1 of 1). These functions will not be directly callable after loading.\n"
     ]
    },
    {
     "name": "stdout",
     "output_type": "stream",
     "text": [
      "INFO:tensorflow:Assets written to: models/conv_nn-no_diff_features-s200-p8/assets\n"
     ]
    },
    {
     "name": "stderr",
     "output_type": "stream",
     "text": [
      "INFO:tensorflow:Assets written to: models/conv_nn-no_diff_features-s200-p8/assets\n"
     ]
    },
    {
     "name": "stdout",
     "output_type": "stream",
     "text": [
      "219/219 [==============================] - 0s 704us/step\n"
     ]
    },
    {
     "name": "stderr",
     "output_type": "stream",
     "text": [
      "WARNING:absl:Found untraced functions such as _jit_compiled_convolution_op while saving (showing 1 of 1). These functions will not be directly callable after loading.\n"
     ]
    },
    {
     "name": "stdout",
     "output_type": "stream",
     "text": [
      "INFO:tensorflow:Assets written to: ram://6eb7d89d-8f13-4c41-8bbc-3b71d6039910/assets\n"
     ]
    },
    {
     "name": "stderr",
     "output_type": "stream",
     "text": [
      "INFO:tensorflow:Assets written to: ram://6eb7d89d-8f13-4c41-8bbc-3b71d6039910/assets\n",
      "WARNING:absl:Found untraced functions such as _jit_compiled_convolution_op while saving (showing 1 of 1). These functions will not be directly callable after loading.\n"
     ]
    },
    {
     "name": "stdout",
     "output_type": "stream",
     "text": [
      "INFO:tensorflow:Assets written to: models/conv_nn-no_diff_features-s200-p9/assets\n"
     ]
    },
    {
     "name": "stderr",
     "output_type": "stream",
     "text": [
      "INFO:tensorflow:Assets written to: models/conv_nn-no_diff_features-s200-p9/assets\n"
     ]
    },
    {
     "name": "stdout",
     "output_type": "stream",
     "text": [
      "219/219 [==============================] - 0s 606us/step\n"
     ]
    },
    {
     "name": "stderr",
     "output_type": "stream",
     "text": [
      "WARNING:absl:Found untraced functions such as _jit_compiled_convolution_op while saving (showing 1 of 1). These functions will not be directly callable after loading.\n"
     ]
    },
    {
     "name": "stdout",
     "output_type": "stream",
     "text": [
      "INFO:tensorflow:Assets written to: ram://52de5b1c-8f33-4ca7-854c-b6c91b6fda3c/assets\n"
     ]
    },
    {
     "name": "stderr",
     "output_type": "stream",
     "text": [
      "INFO:tensorflow:Assets written to: ram://52de5b1c-8f33-4ca7-854c-b6c91b6fda3c/assets\n",
      "WARNING:absl:Found untraced functions such as _jit_compiled_convolution_op while saving (showing 1 of 1). These functions will not be directly callable after loading.\n"
     ]
    },
    {
     "name": "stdout",
     "output_type": "stream",
     "text": [
      "INFO:tensorflow:Assets written to: models/conv_nn-no_diff_features-s200-p10/assets\n"
     ]
    },
    {
     "name": "stderr",
     "output_type": "stream",
     "text": [
      "INFO:tensorflow:Assets written to: models/conv_nn-no_diff_features-s200-p10/assets\n"
     ]
    },
    {
     "name": "stdout",
     "output_type": "stream",
     "text": [
      "220/220 [==============================] - 0s 554us/step\n"
     ]
    },
    {
     "name": "stderr",
     "output_type": "stream",
     "text": [
      "WARNING:absl:Found untraced functions such as _jit_compiled_convolution_op while saving (showing 1 of 1). These functions will not be directly callable after loading.\n"
     ]
    },
    {
     "name": "stdout",
     "output_type": "stream",
     "text": [
      "INFO:tensorflow:Assets written to: ram://15c2be04-020f-475e-8de7-7218134f50bb/assets\n"
     ]
    },
    {
     "name": "stderr",
     "output_type": "stream",
     "text": [
      "INFO:tensorflow:Assets written to: ram://15c2be04-020f-475e-8de7-7218134f50bb/assets\n",
      "WARNING:absl:Found untraced functions such as _jit_compiled_convolution_op while saving (showing 1 of 1). These functions will not be directly callable after loading.\n"
     ]
    },
    {
     "name": "stdout",
     "output_type": "stream",
     "text": [
      "INFO:tensorflow:Assets written to: models/conv_nn-diff_features-s200-p0/assets\n"
     ]
    },
    {
     "name": "stderr",
     "output_type": "stream",
     "text": [
      "INFO:tensorflow:Assets written to: models/conv_nn-diff_features-s200-p0/assets\n"
     ]
    },
    {
     "name": "stdout",
     "output_type": "stream",
     "text": [
      "220/220 [==============================] - 0s 557us/step\n"
     ]
    },
    {
     "name": "stderr",
     "output_type": "stream",
     "text": [
      "WARNING:absl:Found untraced functions such as _jit_compiled_convolution_op while saving (showing 1 of 1). These functions will not be directly callable after loading.\n"
     ]
    },
    {
     "name": "stdout",
     "output_type": "stream",
     "text": [
      "INFO:tensorflow:Assets written to: ram://7e337ff1-7a10-488e-8c19-d3a4a3bc2f86/assets\n"
     ]
    },
    {
     "name": "stderr",
     "output_type": "stream",
     "text": [
      "INFO:tensorflow:Assets written to: ram://7e337ff1-7a10-488e-8c19-d3a4a3bc2f86/assets\n",
      "WARNING:absl:Found untraced functions such as _jit_compiled_convolution_op while saving (showing 1 of 1). These functions will not be directly callable after loading.\n"
     ]
    },
    {
     "name": "stdout",
     "output_type": "stream",
     "text": [
      "INFO:tensorflow:Assets written to: models/conv_nn-diff_features-s200-p1/assets\n"
     ]
    },
    {
     "name": "stderr",
     "output_type": "stream",
     "text": [
      "INFO:tensorflow:Assets written to: models/conv_nn-diff_features-s200-p1/assets\n"
     ]
    },
    {
     "name": "stdout",
     "output_type": "stream",
     "text": [
      "220/220 [==============================] - 0s 529us/step\n"
     ]
    },
    {
     "name": "stderr",
     "output_type": "stream",
     "text": [
      "WARNING:absl:Found untraced functions such as _jit_compiled_convolution_op while saving (showing 1 of 1). These functions will not be directly callable after loading.\n"
     ]
    },
    {
     "name": "stdout",
     "output_type": "stream",
     "text": [
      "INFO:tensorflow:Assets written to: ram://cc60b159-dc5f-44ed-846b-364ed23dae98/assets\n"
     ]
    },
    {
     "name": "stderr",
     "output_type": "stream",
     "text": [
      "INFO:tensorflow:Assets written to: ram://cc60b159-dc5f-44ed-846b-364ed23dae98/assets\n",
      "WARNING:absl:Found untraced functions such as _jit_compiled_convolution_op while saving (showing 1 of 1). These functions will not be directly callable after loading.\n"
     ]
    },
    {
     "name": "stdout",
     "output_type": "stream",
     "text": [
      "INFO:tensorflow:Assets written to: models/conv_nn-diff_features-s200-p2/assets\n"
     ]
    },
    {
     "name": "stderr",
     "output_type": "stream",
     "text": [
      "INFO:tensorflow:Assets written to: models/conv_nn-diff_features-s200-p2/assets\n"
     ]
    },
    {
     "name": "stdout",
     "output_type": "stream",
     "text": [
      "220/220 [==============================] - 0s 547us/step\n"
     ]
    },
    {
     "name": "stderr",
     "output_type": "stream",
     "text": [
      "WARNING:absl:Found untraced functions such as _jit_compiled_convolution_op while saving (showing 1 of 1). These functions will not be directly callable after loading.\n"
     ]
    },
    {
     "name": "stdout",
     "output_type": "stream",
     "text": [
      "INFO:tensorflow:Assets written to: ram://c25e40ed-ceca-448c-b0bf-b5bc8d0cef37/assets\n"
     ]
    },
    {
     "name": "stderr",
     "output_type": "stream",
     "text": [
      "INFO:tensorflow:Assets written to: ram://c25e40ed-ceca-448c-b0bf-b5bc8d0cef37/assets\n",
      "WARNING:absl:Found untraced functions such as _jit_compiled_convolution_op while saving (showing 1 of 1). These functions will not be directly callable after loading.\n"
     ]
    },
    {
     "name": "stdout",
     "output_type": "stream",
     "text": [
      "INFO:tensorflow:Assets written to: models/conv_nn-diff_features-s200-p3/assets\n"
     ]
    },
    {
     "name": "stderr",
     "output_type": "stream",
     "text": [
      "INFO:tensorflow:Assets written to: models/conv_nn-diff_features-s200-p3/assets\n"
     ]
    },
    {
     "name": "stdout",
     "output_type": "stream",
     "text": [
      "220/220 [==============================] - 0s 595us/step\n"
     ]
    },
    {
     "name": "stderr",
     "output_type": "stream",
     "text": [
      "WARNING:absl:Found untraced functions such as _jit_compiled_convolution_op while saving (showing 1 of 1). These functions will not be directly callable after loading.\n"
     ]
    },
    {
     "name": "stdout",
     "output_type": "stream",
     "text": [
      "INFO:tensorflow:Assets written to: ram://0520bd40-0d32-4e29-85f9-8983292d37f5/assets\n"
     ]
    },
    {
     "name": "stderr",
     "output_type": "stream",
     "text": [
      "INFO:tensorflow:Assets written to: ram://0520bd40-0d32-4e29-85f9-8983292d37f5/assets\n",
      "WARNING:absl:Found untraced functions such as _jit_compiled_convolution_op while saving (showing 1 of 1). These functions will not be directly callable after loading.\n"
     ]
    },
    {
     "name": "stdout",
     "output_type": "stream",
     "text": [
      "INFO:tensorflow:Assets written to: models/conv_nn-diff_features-s200-p4/assets\n"
     ]
    },
    {
     "name": "stderr",
     "output_type": "stream",
     "text": [
      "INFO:tensorflow:Assets written to: models/conv_nn-diff_features-s200-p4/assets\n"
     ]
    },
    {
     "name": "stdout",
     "output_type": "stream",
     "text": [
      "219/219 [==============================] - 0s 611us/step\n"
     ]
    },
    {
     "name": "stderr",
     "output_type": "stream",
     "text": [
      "WARNING:absl:Found untraced functions such as _jit_compiled_convolution_op while saving (showing 1 of 1). These functions will not be directly callable after loading.\n"
     ]
    },
    {
     "name": "stdout",
     "output_type": "stream",
     "text": [
      "INFO:tensorflow:Assets written to: ram://e8be8d3d-3e0d-43f6-a1a1-fcc433dd5776/assets\n"
     ]
    },
    {
     "name": "stderr",
     "output_type": "stream",
     "text": [
      "INFO:tensorflow:Assets written to: ram://e8be8d3d-3e0d-43f6-a1a1-fcc433dd5776/assets\n",
      "WARNING:absl:Found untraced functions such as _jit_compiled_convolution_op while saving (showing 1 of 1). These functions will not be directly callable after loading.\n"
     ]
    },
    {
     "name": "stdout",
     "output_type": "stream",
     "text": [
      "INFO:tensorflow:Assets written to: models/conv_nn-diff_features-s200-p5/assets\n"
     ]
    },
    {
     "name": "stderr",
     "output_type": "stream",
     "text": [
      "INFO:tensorflow:Assets written to: models/conv_nn-diff_features-s200-p5/assets\n"
     ]
    },
    {
     "name": "stdout",
     "output_type": "stream",
     "text": [
      "219/219 [==============================] - 0s 616us/step\n"
     ]
    },
    {
     "name": "stderr",
     "output_type": "stream",
     "text": [
      "WARNING:absl:Found untraced functions such as _jit_compiled_convolution_op while saving (showing 1 of 1). These functions will not be directly callable after loading.\n"
     ]
    },
    {
     "name": "stdout",
     "output_type": "stream",
     "text": [
      "INFO:tensorflow:Assets written to: ram://5aa8c512-9d96-4a25-83c7-828082312472/assets\n"
     ]
    },
    {
     "name": "stderr",
     "output_type": "stream",
     "text": [
      "INFO:tensorflow:Assets written to: ram://5aa8c512-9d96-4a25-83c7-828082312472/assets\n",
      "WARNING:absl:Found untraced functions such as _jit_compiled_convolution_op while saving (showing 1 of 1). These functions will not be directly callable after loading.\n"
     ]
    },
    {
     "name": "stdout",
     "output_type": "stream",
     "text": [
      "INFO:tensorflow:Assets written to: models/conv_nn-diff_features-s200-p6/assets\n"
     ]
    },
    {
     "name": "stderr",
     "output_type": "stream",
     "text": [
      "INFO:tensorflow:Assets written to: models/conv_nn-diff_features-s200-p6/assets\n"
     ]
    },
    {
     "name": "stdout",
     "output_type": "stream",
     "text": [
      "219/219 [==============================] - 0s 621us/step\n"
     ]
    },
    {
     "name": "stderr",
     "output_type": "stream",
     "text": [
      "WARNING:absl:Found untraced functions such as _jit_compiled_convolution_op while saving (showing 1 of 1). These functions will not be directly callable after loading.\n"
     ]
    },
    {
     "name": "stdout",
     "output_type": "stream",
     "text": [
      "INFO:tensorflow:Assets written to: ram://8fea958b-2b56-4933-911b-9ac0cba73e59/assets\n"
     ]
    },
    {
     "name": "stderr",
     "output_type": "stream",
     "text": [
      "INFO:tensorflow:Assets written to: ram://8fea958b-2b56-4933-911b-9ac0cba73e59/assets\n",
      "WARNING:absl:Found untraced functions such as _jit_compiled_convolution_op while saving (showing 1 of 1). These functions will not be directly callable after loading.\n"
     ]
    },
    {
     "name": "stdout",
     "output_type": "stream",
     "text": [
      "INFO:tensorflow:Assets written to: models/conv_nn-diff_features-s200-p7/assets\n"
     ]
    },
    {
     "name": "stderr",
     "output_type": "stream",
     "text": [
      "INFO:tensorflow:Assets written to: models/conv_nn-diff_features-s200-p7/assets\n"
     ]
    },
    {
     "name": "stdout",
     "output_type": "stream",
     "text": [
      "219/219 [==============================] - 0s 626us/step\n"
     ]
    },
    {
     "name": "stderr",
     "output_type": "stream",
     "text": [
      "WARNING:absl:Found untraced functions such as _jit_compiled_convolution_op while saving (showing 1 of 1). These functions will not be directly callable after loading.\n"
     ]
    },
    {
     "name": "stdout",
     "output_type": "stream",
     "text": [
      "INFO:tensorflow:Assets written to: ram://4250c82c-d0e4-466c-83b8-85527d172f69/assets\n"
     ]
    },
    {
     "name": "stderr",
     "output_type": "stream",
     "text": [
      "INFO:tensorflow:Assets written to: ram://4250c82c-d0e4-466c-83b8-85527d172f69/assets\n",
      "WARNING:absl:Found untraced functions such as _jit_compiled_convolution_op while saving (showing 1 of 1). These functions will not be directly callable after loading.\n"
     ]
    },
    {
     "name": "stdout",
     "output_type": "stream",
     "text": [
      "INFO:tensorflow:Assets written to: models/conv_nn-diff_features-s200-p8/assets\n"
     ]
    },
    {
     "name": "stderr",
     "output_type": "stream",
     "text": [
      "INFO:tensorflow:Assets written to: models/conv_nn-diff_features-s200-p8/assets\n"
     ]
    },
    {
     "name": "stdout",
     "output_type": "stream",
     "text": [
      "219/219 [==============================] - 0s 650us/step\n"
     ]
    },
    {
     "name": "stderr",
     "output_type": "stream",
     "text": [
      "WARNING:absl:Found untraced functions such as _jit_compiled_convolution_op while saving (showing 1 of 1). These functions will not be directly callable after loading.\n"
     ]
    },
    {
     "name": "stdout",
     "output_type": "stream",
     "text": [
      "INFO:tensorflow:Assets written to: ram://d7f21b0b-6c48-4245-b19f-9b18b4b3ef4b/assets\n"
     ]
    },
    {
     "name": "stderr",
     "output_type": "stream",
     "text": [
      "INFO:tensorflow:Assets written to: ram://d7f21b0b-6c48-4245-b19f-9b18b4b3ef4b/assets\n",
      "WARNING:absl:Found untraced functions such as _jit_compiled_convolution_op while saving (showing 1 of 1). These functions will not be directly callable after loading.\n"
     ]
    },
    {
     "name": "stdout",
     "output_type": "stream",
     "text": [
      "INFO:tensorflow:Assets written to: models/conv_nn-diff_features-s200-p9/assets\n"
     ]
    },
    {
     "name": "stderr",
     "output_type": "stream",
     "text": [
      "INFO:tensorflow:Assets written to: models/conv_nn-diff_features-s200-p9/assets\n"
     ]
    },
    {
     "name": "stdout",
     "output_type": "stream",
     "text": [
      "219/219 [==============================] - 0s 667us/step\n"
     ]
    },
    {
     "name": "stderr",
     "output_type": "stream",
     "text": [
      "WARNING:absl:Found untraced functions such as _jit_compiled_convolution_op while saving (showing 1 of 1). These functions will not be directly callable after loading.\n"
     ]
    },
    {
     "name": "stdout",
     "output_type": "stream",
     "text": [
      "INFO:tensorflow:Assets written to: ram://28978758-e6c6-494f-8475-2371fda6da22/assets\n"
     ]
    },
    {
     "name": "stderr",
     "output_type": "stream",
     "text": [
      "INFO:tensorflow:Assets written to: ram://28978758-e6c6-494f-8475-2371fda6da22/assets\n",
      "WARNING:absl:Found untraced functions such as _jit_compiled_convolution_op while saving (showing 1 of 1). These functions will not be directly callable after loading.\n"
     ]
    },
    {
     "name": "stdout",
     "output_type": "stream",
     "text": [
      "INFO:tensorflow:Assets written to: models/conv_nn-diff_features-s200-p10/assets\n"
     ]
    },
    {
     "name": "stderr",
     "output_type": "stream",
     "text": [
      "INFO:tensorflow:Assets written to: models/conv_nn-diff_features-s200-p10/assets\n"
     ]
    },
    {
     "name": "stdout",
     "output_type": "stream",
     "text": [
      "220/220 [==============================] - 0s 564us/step\n"
     ]
    },
    {
     "name": "stderr",
     "output_type": "stream",
     "text": [
      "WARNING:absl:Found untraced functions such as _jit_compiled_convolution_op while saving (showing 1 of 1). These functions will not be directly callable after loading.\n"
     ]
    },
    {
     "name": "stdout",
     "output_type": "stream",
     "text": [
      "INFO:tensorflow:Assets written to: ram://8fc667ee-37d3-4165-afc5-70828ecc7a36/assets\n"
     ]
    },
    {
     "name": "stderr",
     "output_type": "stream",
     "text": [
      "INFO:tensorflow:Assets written to: ram://8fc667ee-37d3-4165-afc5-70828ecc7a36/assets\n",
      "WARNING:absl:Found untraced functions such as _jit_compiled_convolution_op while saving (showing 1 of 1). These functions will not be directly callable after loading.\n"
     ]
    },
    {
     "name": "stdout",
     "output_type": "stream",
     "text": [
      "INFO:tensorflow:Assets written to: models/conv_nn-all_features-s300-p0/assets\n"
     ]
    },
    {
     "name": "stderr",
     "output_type": "stream",
     "text": [
      "INFO:tensorflow:Assets written to: models/conv_nn-all_features-s300-p0/assets\n"
     ]
    },
    {
     "name": "stdout",
     "output_type": "stream",
     "text": [
      "220/220 [==============================] - 0s 641us/step\n"
     ]
    },
    {
     "name": "stderr",
     "output_type": "stream",
     "text": [
      "WARNING:absl:Found untraced functions such as _jit_compiled_convolution_op while saving (showing 1 of 1). These functions will not be directly callable after loading.\n"
     ]
    },
    {
     "name": "stdout",
     "output_type": "stream",
     "text": [
      "INFO:tensorflow:Assets written to: ram://c356c593-2e43-4b03-8493-fcc63fb467fe/assets\n"
     ]
    },
    {
     "name": "stderr",
     "output_type": "stream",
     "text": [
      "INFO:tensorflow:Assets written to: ram://c356c593-2e43-4b03-8493-fcc63fb467fe/assets\n",
      "WARNING:absl:Found untraced functions such as _jit_compiled_convolution_op while saving (showing 1 of 1). These functions will not be directly callable after loading.\n"
     ]
    },
    {
     "name": "stdout",
     "output_type": "stream",
     "text": [
      "INFO:tensorflow:Assets written to: models/conv_nn-all_features-s300-p1/assets\n"
     ]
    },
    {
     "name": "stderr",
     "output_type": "stream",
     "text": [
      "INFO:tensorflow:Assets written to: models/conv_nn-all_features-s300-p1/assets\n"
     ]
    },
    {
     "name": "stdout",
     "output_type": "stream",
     "text": [
      "220/220 [==============================] - 0s 551us/step\n"
     ]
    },
    {
     "name": "stderr",
     "output_type": "stream",
     "text": [
      "WARNING:absl:Found untraced functions such as _jit_compiled_convolution_op while saving (showing 1 of 1). These functions will not be directly callable after loading.\n"
     ]
    },
    {
     "name": "stdout",
     "output_type": "stream",
     "text": [
      "INFO:tensorflow:Assets written to: ram://8ef55ba4-7971-428f-a239-0e1166ef5b2c/assets\n"
     ]
    },
    {
     "name": "stderr",
     "output_type": "stream",
     "text": [
      "INFO:tensorflow:Assets written to: ram://8ef55ba4-7971-428f-a239-0e1166ef5b2c/assets\n",
      "WARNING:absl:Found untraced functions such as _jit_compiled_convolution_op while saving (showing 1 of 1). These functions will not be directly callable after loading.\n"
     ]
    },
    {
     "name": "stdout",
     "output_type": "stream",
     "text": [
      "INFO:tensorflow:Assets written to: models/conv_nn-all_features-s300-p2/assets\n"
     ]
    },
    {
     "name": "stderr",
     "output_type": "stream",
     "text": [
      "INFO:tensorflow:Assets written to: models/conv_nn-all_features-s300-p2/assets\n"
     ]
    },
    {
     "name": "stdout",
     "output_type": "stream",
     "text": [
      "220/220 [==============================] - 0s 573us/step\n"
     ]
    },
    {
     "name": "stderr",
     "output_type": "stream",
     "text": [
      "WARNING:absl:Found untraced functions such as _jit_compiled_convolution_op while saving (showing 1 of 1). These functions will not be directly callable after loading.\n"
     ]
    },
    {
     "name": "stdout",
     "output_type": "stream",
     "text": [
      "INFO:tensorflow:Assets written to: ram://120afb9b-22e0-4c8e-8636-b373b13d6cc2/assets\n"
     ]
    },
    {
     "name": "stderr",
     "output_type": "stream",
     "text": [
      "INFO:tensorflow:Assets written to: ram://120afb9b-22e0-4c8e-8636-b373b13d6cc2/assets\n",
      "WARNING:absl:Found untraced functions such as _jit_compiled_convolution_op while saving (showing 1 of 1). These functions will not be directly callable after loading.\n"
     ]
    },
    {
     "name": "stdout",
     "output_type": "stream",
     "text": [
      "INFO:tensorflow:Assets written to: models/conv_nn-all_features-s300-p3/assets\n"
     ]
    },
    {
     "name": "stderr",
     "output_type": "stream",
     "text": [
      "INFO:tensorflow:Assets written to: models/conv_nn-all_features-s300-p3/assets\n"
     ]
    },
    {
     "name": "stdout",
     "output_type": "stream",
     "text": [
      "220/220 [==============================] - 0s 600us/step\n"
     ]
    },
    {
     "name": "stderr",
     "output_type": "stream",
     "text": [
      "WARNING:absl:Found untraced functions such as _jit_compiled_convolution_op while saving (showing 1 of 1). These functions will not be directly callable after loading.\n"
     ]
    },
    {
     "name": "stdout",
     "output_type": "stream",
     "text": [
      "INFO:tensorflow:Assets written to: ram://66ac79d5-779b-4ea4-a402-caa9db790101/assets\n"
     ]
    },
    {
     "name": "stderr",
     "output_type": "stream",
     "text": [
      "INFO:tensorflow:Assets written to: ram://66ac79d5-779b-4ea4-a402-caa9db790101/assets\n",
      "WARNING:absl:Found untraced functions such as _jit_compiled_convolution_op while saving (showing 1 of 1). These functions will not be directly callable after loading.\n"
     ]
    },
    {
     "name": "stdout",
     "output_type": "stream",
     "text": [
      "INFO:tensorflow:Assets written to: models/conv_nn-all_features-s300-p4/assets\n"
     ]
    },
    {
     "name": "stderr",
     "output_type": "stream",
     "text": [
      "INFO:tensorflow:Assets written to: models/conv_nn-all_features-s300-p4/assets\n"
     ]
    },
    {
     "name": "stdout",
     "output_type": "stream",
     "text": [
      "219/219 [==============================] - 0s 656us/step\n"
     ]
    },
    {
     "name": "stderr",
     "output_type": "stream",
     "text": [
      "WARNING:absl:Found untraced functions such as _jit_compiled_convolution_op while saving (showing 1 of 1). These functions will not be directly callable after loading.\n"
     ]
    },
    {
     "name": "stdout",
     "output_type": "stream",
     "text": [
      "INFO:tensorflow:Assets written to: ram://c61c4a09-e2ce-482c-b3fa-de386b0c24a9/assets\n"
     ]
    },
    {
     "name": "stderr",
     "output_type": "stream",
     "text": [
      "INFO:tensorflow:Assets written to: ram://c61c4a09-e2ce-482c-b3fa-de386b0c24a9/assets\n",
      "WARNING:absl:Found untraced functions such as _jit_compiled_convolution_op while saving (showing 1 of 1). These functions will not be directly callable after loading.\n"
     ]
    },
    {
     "name": "stdout",
     "output_type": "stream",
     "text": [
      "INFO:tensorflow:Assets written to: models/conv_nn-all_features-s300-p5/assets\n"
     ]
    },
    {
     "name": "stderr",
     "output_type": "stream",
     "text": [
      "INFO:tensorflow:Assets written to: models/conv_nn-all_features-s300-p5/assets\n"
     ]
    },
    {
     "name": "stdout",
     "output_type": "stream",
     "text": [
      "219/219 [==============================] - 0s 734us/step\n"
     ]
    },
    {
     "name": "stderr",
     "output_type": "stream",
     "text": [
      "WARNING:absl:Found untraced functions such as _jit_compiled_convolution_op while saving (showing 1 of 1). These functions will not be directly callable after loading.\n"
     ]
    },
    {
     "name": "stdout",
     "output_type": "stream",
     "text": [
      "INFO:tensorflow:Assets written to: ram://f23e1887-b55a-495d-9d3d-a7e45006d94b/assets\n"
     ]
    },
    {
     "name": "stderr",
     "output_type": "stream",
     "text": [
      "INFO:tensorflow:Assets written to: ram://f23e1887-b55a-495d-9d3d-a7e45006d94b/assets\n",
      "WARNING:absl:Found untraced functions such as _jit_compiled_convolution_op while saving (showing 1 of 1). These functions will not be directly callable after loading.\n"
     ]
    },
    {
     "name": "stdout",
     "output_type": "stream",
     "text": [
      "INFO:tensorflow:Assets written to: models/conv_nn-all_features-s300-p6/assets\n"
     ]
    },
    {
     "name": "stderr",
     "output_type": "stream",
     "text": [
      "INFO:tensorflow:Assets written to: models/conv_nn-all_features-s300-p6/assets\n"
     ]
    },
    {
     "name": "stdout",
     "output_type": "stream",
     "text": [
      "219/219 [==============================] - 0s 642us/step\n"
     ]
    },
    {
     "name": "stderr",
     "output_type": "stream",
     "text": [
      "WARNING:absl:Found untraced functions such as _jit_compiled_convolution_op while saving (showing 1 of 1). These functions will not be directly callable after loading.\n"
     ]
    },
    {
     "name": "stdout",
     "output_type": "stream",
     "text": [
      "INFO:tensorflow:Assets written to: ram://0559075a-a05e-452c-941a-ec1c2d2bd819/assets\n"
     ]
    },
    {
     "name": "stderr",
     "output_type": "stream",
     "text": [
      "INFO:tensorflow:Assets written to: ram://0559075a-a05e-452c-941a-ec1c2d2bd819/assets\n",
      "WARNING:absl:Found untraced functions such as _jit_compiled_convolution_op while saving (showing 1 of 1). These functions will not be directly callable after loading.\n"
     ]
    },
    {
     "name": "stdout",
     "output_type": "stream",
     "text": [
      "INFO:tensorflow:Assets written to: models/conv_nn-all_features-s300-p7/assets\n"
     ]
    },
    {
     "name": "stderr",
     "output_type": "stream",
     "text": [
      "INFO:tensorflow:Assets written to: models/conv_nn-all_features-s300-p7/assets\n"
     ]
    },
    {
     "name": "stdout",
     "output_type": "stream",
     "text": [
      "219/219 [==============================] - 0s 657us/step\n"
     ]
    },
    {
     "name": "stderr",
     "output_type": "stream",
     "text": [
      "WARNING:absl:Found untraced functions such as _jit_compiled_convolution_op while saving (showing 1 of 1). These functions will not be directly callable after loading.\n"
     ]
    },
    {
     "name": "stdout",
     "output_type": "stream",
     "text": [
      "INFO:tensorflow:Assets written to: ram://cf9da5a5-ea6f-4f34-9256-31f817ec811e/assets\n"
     ]
    },
    {
     "name": "stderr",
     "output_type": "stream",
     "text": [
      "INFO:tensorflow:Assets written to: ram://cf9da5a5-ea6f-4f34-9256-31f817ec811e/assets\n",
      "WARNING:absl:Found untraced functions such as _jit_compiled_convolution_op while saving (showing 1 of 1). These functions will not be directly callable after loading.\n"
     ]
    },
    {
     "name": "stdout",
     "output_type": "stream",
     "text": [
      "INFO:tensorflow:Assets written to: models/conv_nn-all_features-s300-p8/assets\n"
     ]
    },
    {
     "name": "stderr",
     "output_type": "stream",
     "text": [
      "INFO:tensorflow:Assets written to: models/conv_nn-all_features-s300-p8/assets\n"
     ]
    },
    {
     "name": "stdout",
     "output_type": "stream",
     "text": [
      "219/219 [==============================] - 0s 650us/step\n"
     ]
    },
    {
     "name": "stderr",
     "output_type": "stream",
     "text": [
      "WARNING:absl:Found untraced functions such as _jit_compiled_convolution_op while saving (showing 1 of 1). These functions will not be directly callable after loading.\n"
     ]
    },
    {
     "name": "stdout",
     "output_type": "stream",
     "text": [
      "INFO:tensorflow:Assets written to: ram://fca869d5-c226-47fe-a45d-b9fd298c3fc5/assets\n"
     ]
    },
    {
     "name": "stderr",
     "output_type": "stream",
     "text": [
      "INFO:tensorflow:Assets written to: ram://fca869d5-c226-47fe-a45d-b9fd298c3fc5/assets\n",
      "WARNING:absl:Found untraced functions such as _jit_compiled_convolution_op while saving (showing 1 of 1). These functions will not be directly callable after loading.\n"
     ]
    },
    {
     "name": "stdout",
     "output_type": "stream",
     "text": [
      "INFO:tensorflow:Assets written to: models/conv_nn-all_features-s300-p9/assets\n"
     ]
    },
    {
     "name": "stderr",
     "output_type": "stream",
     "text": [
      "INFO:tensorflow:Assets written to: models/conv_nn-all_features-s300-p9/assets\n"
     ]
    },
    {
     "name": "stdout",
     "output_type": "stream",
     "text": [
      "219/219 [==============================] - 0s 662us/step\n"
     ]
    },
    {
     "name": "stderr",
     "output_type": "stream",
     "text": [
      "WARNING:absl:Found untraced functions such as _jit_compiled_convolution_op while saving (showing 1 of 1). These functions will not be directly callable after loading.\n"
     ]
    },
    {
     "name": "stdout",
     "output_type": "stream",
     "text": [
      "INFO:tensorflow:Assets written to: ram://a354e15f-16e0-41fb-af78-2973c0e0a391/assets\n"
     ]
    },
    {
     "name": "stderr",
     "output_type": "stream",
     "text": [
      "INFO:tensorflow:Assets written to: ram://a354e15f-16e0-41fb-af78-2973c0e0a391/assets\n",
      "WARNING:absl:Found untraced functions such as _jit_compiled_convolution_op while saving (showing 1 of 1). These functions will not be directly callable after loading.\n"
     ]
    },
    {
     "name": "stdout",
     "output_type": "stream",
     "text": [
      "INFO:tensorflow:Assets written to: models/conv_nn-all_features-s300-p10/assets\n"
     ]
    },
    {
     "name": "stderr",
     "output_type": "stream",
     "text": [
      "INFO:tensorflow:Assets written to: models/conv_nn-all_features-s300-p10/assets\n"
     ]
    },
    {
     "name": "stdout",
     "output_type": "stream",
     "text": [
      "220/220 [==============================] - 0s 563us/step\n"
     ]
    },
    {
     "name": "stderr",
     "output_type": "stream",
     "text": [
      "WARNING:absl:Found untraced functions such as _jit_compiled_convolution_op while saving (showing 1 of 1). These functions will not be directly callable after loading.\n"
     ]
    },
    {
     "name": "stdout",
     "output_type": "stream",
     "text": [
      "INFO:tensorflow:Assets written to: ram://7b2fed2f-0a57-47e5-ba5f-dcc3acbb2e49/assets\n"
     ]
    },
    {
     "name": "stderr",
     "output_type": "stream",
     "text": [
      "INFO:tensorflow:Assets written to: ram://7b2fed2f-0a57-47e5-ba5f-dcc3acbb2e49/assets\n",
      "WARNING:absl:Found untraced functions such as _jit_compiled_convolution_op while saving (showing 1 of 1). These functions will not be directly callable after loading.\n"
     ]
    },
    {
     "name": "stdout",
     "output_type": "stream",
     "text": [
      "INFO:tensorflow:Assets written to: models/conv_nn-w5_features-s300-p0/assets\n"
     ]
    },
    {
     "name": "stderr",
     "output_type": "stream",
     "text": [
      "INFO:tensorflow:Assets written to: models/conv_nn-w5_features-s300-p0/assets\n"
     ]
    },
    {
     "name": "stdout",
     "output_type": "stream",
     "text": [
      "220/220 [==============================] - 0s 619us/step\n"
     ]
    },
    {
     "name": "stderr",
     "output_type": "stream",
     "text": [
      "WARNING:absl:Found untraced functions such as _jit_compiled_convolution_op while saving (showing 1 of 1). These functions will not be directly callable after loading.\n"
     ]
    },
    {
     "name": "stdout",
     "output_type": "stream",
     "text": [
      "INFO:tensorflow:Assets written to: ram://c18cc5c5-d466-4cbe-b7ed-48943d83e2af/assets\n"
     ]
    },
    {
     "name": "stderr",
     "output_type": "stream",
     "text": [
      "INFO:tensorflow:Assets written to: ram://c18cc5c5-d466-4cbe-b7ed-48943d83e2af/assets\n",
      "WARNING:absl:Found untraced functions such as _jit_compiled_convolution_op while saving (showing 1 of 1). These functions will not be directly callable after loading.\n"
     ]
    },
    {
     "name": "stdout",
     "output_type": "stream",
     "text": [
      "INFO:tensorflow:Assets written to: models/conv_nn-w5_features-s300-p1/assets\n"
     ]
    },
    {
     "name": "stderr",
     "output_type": "stream",
     "text": [
      "INFO:tensorflow:Assets written to: models/conv_nn-w5_features-s300-p1/assets\n"
     ]
    },
    {
     "name": "stdout",
     "output_type": "stream",
     "text": [
      "220/220 [==============================] - 0s 527us/step\n"
     ]
    },
    {
     "name": "stderr",
     "output_type": "stream",
     "text": [
      "WARNING:absl:Found untraced functions such as _jit_compiled_convolution_op while saving (showing 1 of 1). These functions will not be directly callable after loading.\n"
     ]
    },
    {
     "name": "stdout",
     "output_type": "stream",
     "text": [
      "INFO:tensorflow:Assets written to: ram://fad00aa9-9218-4397-a0a7-d855d5ba48e8/assets\n"
     ]
    },
    {
     "name": "stderr",
     "output_type": "stream",
     "text": [
      "INFO:tensorflow:Assets written to: ram://fad00aa9-9218-4397-a0a7-d855d5ba48e8/assets\n",
      "WARNING:absl:Found untraced functions such as _jit_compiled_convolution_op while saving (showing 1 of 1). These functions will not be directly callable after loading.\n"
     ]
    },
    {
     "name": "stdout",
     "output_type": "stream",
     "text": [
      "INFO:tensorflow:Assets written to: models/conv_nn-w5_features-s300-p2/assets\n"
     ]
    },
    {
     "name": "stderr",
     "output_type": "stream",
     "text": [
      "INFO:tensorflow:Assets written to: models/conv_nn-w5_features-s300-p2/assets\n"
     ]
    },
    {
     "name": "stdout",
     "output_type": "stream",
     "text": [
      "220/220 [==============================] - 0s 552us/step\n"
     ]
    },
    {
     "name": "stderr",
     "output_type": "stream",
     "text": [
      "WARNING:absl:Found untraced functions such as _jit_compiled_convolution_op while saving (showing 1 of 1). These functions will not be directly callable after loading.\n"
     ]
    },
    {
     "name": "stdout",
     "output_type": "stream",
     "text": [
      "INFO:tensorflow:Assets written to: ram://7d4b6458-d784-435f-86e0-4d34132edc77/assets\n"
     ]
    },
    {
     "name": "stderr",
     "output_type": "stream",
     "text": [
      "INFO:tensorflow:Assets written to: ram://7d4b6458-d784-435f-86e0-4d34132edc77/assets\n",
      "WARNING:absl:Found untraced functions such as _jit_compiled_convolution_op while saving (showing 1 of 1). These functions will not be directly callable after loading.\n"
     ]
    },
    {
     "name": "stdout",
     "output_type": "stream",
     "text": [
      "INFO:tensorflow:Assets written to: models/conv_nn-w5_features-s300-p3/assets\n"
     ]
    },
    {
     "name": "stderr",
     "output_type": "stream",
     "text": [
      "INFO:tensorflow:Assets written to: models/conv_nn-w5_features-s300-p3/assets\n"
     ]
    },
    {
     "name": "stdout",
     "output_type": "stream",
     "text": [
      "220/220 [==============================] - 0s 546us/step\n"
     ]
    },
    {
     "name": "stderr",
     "output_type": "stream",
     "text": [
      "WARNING:absl:Found untraced functions such as _jit_compiled_convolution_op while saving (showing 1 of 1). These functions will not be directly callable after loading.\n"
     ]
    },
    {
     "name": "stdout",
     "output_type": "stream",
     "text": [
      "INFO:tensorflow:Assets written to: ram://c6004243-17aa-4728-9a1e-44f1887d4afd/assets\n"
     ]
    },
    {
     "name": "stderr",
     "output_type": "stream",
     "text": [
      "INFO:tensorflow:Assets written to: ram://c6004243-17aa-4728-9a1e-44f1887d4afd/assets\n",
      "WARNING:absl:Found untraced functions such as _jit_compiled_convolution_op while saving (showing 1 of 1). These functions will not be directly callable after loading.\n"
     ]
    },
    {
     "name": "stdout",
     "output_type": "stream",
     "text": [
      "INFO:tensorflow:Assets written to: models/conv_nn-w5_features-s300-p4/assets\n"
     ]
    },
    {
     "name": "stderr",
     "output_type": "stream",
     "text": [
      "INFO:tensorflow:Assets written to: models/conv_nn-w5_features-s300-p4/assets\n"
     ]
    },
    {
     "name": "stdout",
     "output_type": "stream",
     "text": [
      "219/219 [==============================] - 0s 571us/step\n"
     ]
    },
    {
     "name": "stderr",
     "output_type": "stream",
     "text": [
      "WARNING:absl:Found untraced functions such as _jit_compiled_convolution_op while saving (showing 1 of 1). These functions will not be directly callable after loading.\n"
     ]
    },
    {
     "name": "stdout",
     "output_type": "stream",
     "text": [
      "INFO:tensorflow:Assets written to: ram://51a125e4-f758-4494-b441-f44a37ca39b4/assets\n"
     ]
    },
    {
     "name": "stderr",
     "output_type": "stream",
     "text": [
      "INFO:tensorflow:Assets written to: ram://51a125e4-f758-4494-b441-f44a37ca39b4/assets\n",
      "WARNING:absl:Found untraced functions such as _jit_compiled_convolution_op while saving (showing 1 of 1). These functions will not be directly callable after loading.\n"
     ]
    },
    {
     "name": "stdout",
     "output_type": "stream",
     "text": [
      "INFO:tensorflow:Assets written to: models/conv_nn-w5_features-s300-p5/assets\n"
     ]
    },
    {
     "name": "stderr",
     "output_type": "stream",
     "text": [
      "INFO:tensorflow:Assets written to: models/conv_nn-w5_features-s300-p5/assets\n"
     ]
    },
    {
     "name": "stdout",
     "output_type": "stream",
     "text": [
      "219/219 [==============================] - 0s 587us/step\n"
     ]
    },
    {
     "name": "stderr",
     "output_type": "stream",
     "text": [
      "WARNING:absl:Found untraced functions such as _jit_compiled_convolution_op while saving (showing 1 of 1). These functions will not be directly callable after loading.\n"
     ]
    },
    {
     "name": "stdout",
     "output_type": "stream",
     "text": [
      "INFO:tensorflow:Assets written to: ram://3a924807-a10e-4414-89bf-ae40282fcd0f/assets\n"
     ]
    },
    {
     "name": "stderr",
     "output_type": "stream",
     "text": [
      "INFO:tensorflow:Assets written to: ram://3a924807-a10e-4414-89bf-ae40282fcd0f/assets\n",
      "WARNING:absl:Found untraced functions such as _jit_compiled_convolution_op while saving (showing 1 of 1). These functions will not be directly callable after loading.\n"
     ]
    },
    {
     "name": "stdout",
     "output_type": "stream",
     "text": [
      "INFO:tensorflow:Assets written to: models/conv_nn-w5_features-s300-p6/assets\n"
     ]
    },
    {
     "name": "stderr",
     "output_type": "stream",
     "text": [
      "INFO:tensorflow:Assets written to: models/conv_nn-w5_features-s300-p6/assets\n"
     ]
    },
    {
     "name": "stdout",
     "output_type": "stream",
     "text": [
      "219/219 [==============================] - 0s 585us/step\n"
     ]
    },
    {
     "name": "stderr",
     "output_type": "stream",
     "text": [
      "WARNING:absl:Found untraced functions such as _jit_compiled_convolution_op while saving (showing 1 of 1). These functions will not be directly callable after loading.\n"
     ]
    },
    {
     "name": "stdout",
     "output_type": "stream",
     "text": [
      "INFO:tensorflow:Assets written to: ram://de84a6b0-eaea-45a3-9bba-0d5a8083e19f/assets\n"
     ]
    },
    {
     "name": "stderr",
     "output_type": "stream",
     "text": [
      "INFO:tensorflow:Assets written to: ram://de84a6b0-eaea-45a3-9bba-0d5a8083e19f/assets\n",
      "WARNING:absl:Found untraced functions such as _jit_compiled_convolution_op while saving (showing 1 of 1). These functions will not be directly callable after loading.\n"
     ]
    },
    {
     "name": "stdout",
     "output_type": "stream",
     "text": [
      "INFO:tensorflow:Assets written to: models/conv_nn-w5_features-s300-p7/assets\n"
     ]
    },
    {
     "name": "stderr",
     "output_type": "stream",
     "text": [
      "INFO:tensorflow:Assets written to: models/conv_nn-w5_features-s300-p7/assets\n"
     ]
    },
    {
     "name": "stdout",
     "output_type": "stream",
     "text": [
      "219/219 [==============================] - 0s 560us/step\n"
     ]
    },
    {
     "name": "stderr",
     "output_type": "stream",
     "text": [
      "WARNING:absl:Found untraced functions such as _jit_compiled_convolution_op while saving (showing 1 of 1). These functions will not be directly callable after loading.\n"
     ]
    },
    {
     "name": "stdout",
     "output_type": "stream",
     "text": [
      "INFO:tensorflow:Assets written to: ram://90c58f6a-462d-4f78-94f7-06c3c523310d/assets\n"
     ]
    },
    {
     "name": "stderr",
     "output_type": "stream",
     "text": [
      "INFO:tensorflow:Assets written to: ram://90c58f6a-462d-4f78-94f7-06c3c523310d/assets\n",
      "WARNING:absl:Found untraced functions such as _jit_compiled_convolution_op while saving (showing 1 of 1). These functions will not be directly callable after loading.\n"
     ]
    },
    {
     "name": "stdout",
     "output_type": "stream",
     "text": [
      "INFO:tensorflow:Assets written to: models/conv_nn-w5_features-s300-p8/assets\n"
     ]
    },
    {
     "name": "stderr",
     "output_type": "stream",
     "text": [
      "INFO:tensorflow:Assets written to: models/conv_nn-w5_features-s300-p8/assets\n"
     ]
    },
    {
     "name": "stdout",
     "output_type": "stream",
     "text": [
      "219/219 [==============================] - 0s 599us/step\n"
     ]
    },
    {
     "name": "stderr",
     "output_type": "stream",
     "text": [
      "WARNING:absl:Found untraced functions such as _jit_compiled_convolution_op while saving (showing 1 of 1). These functions will not be directly callable after loading.\n"
     ]
    },
    {
     "name": "stdout",
     "output_type": "stream",
     "text": [
      "INFO:tensorflow:Assets written to: ram://81246d7f-42b7-4938-bddb-c344ecd2ea14/assets\n"
     ]
    },
    {
     "name": "stderr",
     "output_type": "stream",
     "text": [
      "INFO:tensorflow:Assets written to: ram://81246d7f-42b7-4938-bddb-c344ecd2ea14/assets\n",
      "WARNING:absl:Found untraced functions such as _jit_compiled_convolution_op while saving (showing 1 of 1). These functions will not be directly callable after loading.\n"
     ]
    },
    {
     "name": "stdout",
     "output_type": "stream",
     "text": [
      "INFO:tensorflow:Assets written to: models/conv_nn-w5_features-s300-p9/assets\n"
     ]
    },
    {
     "name": "stderr",
     "output_type": "stream",
     "text": [
      "INFO:tensorflow:Assets written to: models/conv_nn-w5_features-s300-p9/assets\n"
     ]
    },
    {
     "name": "stdout",
     "output_type": "stream",
     "text": [
      "219/219 [==============================] - 0s 586us/step\n"
     ]
    },
    {
     "name": "stderr",
     "output_type": "stream",
     "text": [
      "WARNING:absl:Found untraced functions such as _jit_compiled_convolution_op while saving (showing 1 of 1). These functions will not be directly callable after loading.\n"
     ]
    },
    {
     "name": "stdout",
     "output_type": "stream",
     "text": [
      "INFO:tensorflow:Assets written to: ram://dd1370fd-58cf-4b33-89f7-8975aed8630a/assets\n"
     ]
    },
    {
     "name": "stderr",
     "output_type": "stream",
     "text": [
      "INFO:tensorflow:Assets written to: ram://dd1370fd-58cf-4b33-89f7-8975aed8630a/assets\n",
      "WARNING:absl:Found untraced functions such as _jit_compiled_convolution_op while saving (showing 1 of 1). These functions will not be directly callable after loading.\n"
     ]
    },
    {
     "name": "stdout",
     "output_type": "stream",
     "text": [
      "INFO:tensorflow:Assets written to: models/conv_nn-w5_features-s300-p10/assets\n"
     ]
    },
    {
     "name": "stderr",
     "output_type": "stream",
     "text": [
      "INFO:tensorflow:Assets written to: models/conv_nn-w5_features-s300-p10/assets\n"
     ]
    },
    {
     "name": "stdout",
     "output_type": "stream",
     "text": [
      "220/220 [==============================] - 0s 571us/step\n"
     ]
    },
    {
     "name": "stderr",
     "output_type": "stream",
     "text": [
      "WARNING:absl:Found untraced functions such as _jit_compiled_convolution_op while saving (showing 1 of 1). These functions will not be directly callable after loading.\n"
     ]
    },
    {
     "name": "stdout",
     "output_type": "stream",
     "text": [
      "INFO:tensorflow:Assets written to: ram://32428bca-3b26-4b59-b19d-47e7cc024761/assets\n"
     ]
    },
    {
     "name": "stderr",
     "output_type": "stream",
     "text": [
      "INFO:tensorflow:Assets written to: ram://32428bca-3b26-4b59-b19d-47e7cc024761/assets\n",
      "WARNING:absl:Found untraced functions such as _jit_compiled_convolution_op while saving (showing 1 of 1). These functions will not be directly callable after loading.\n"
     ]
    },
    {
     "name": "stdout",
     "output_type": "stream",
     "text": [
      "INFO:tensorflow:Assets written to: models/conv_nn-w10_features-s300-p0/assets\n"
     ]
    },
    {
     "name": "stderr",
     "output_type": "stream",
     "text": [
      "INFO:tensorflow:Assets written to: models/conv_nn-w10_features-s300-p0/assets\n"
     ]
    },
    {
     "name": "stdout",
     "output_type": "stream",
     "text": [
      "220/220 [==============================] - 0s 533us/step\n"
     ]
    },
    {
     "name": "stderr",
     "output_type": "stream",
     "text": [
      "WARNING:absl:Found untraced functions such as _jit_compiled_convolution_op while saving (showing 1 of 1). These functions will not be directly callable after loading.\n"
     ]
    },
    {
     "name": "stdout",
     "output_type": "stream",
     "text": [
      "INFO:tensorflow:Assets written to: ram://ad4f722d-8959-4953-8500-66f0308268fb/assets\n"
     ]
    },
    {
     "name": "stderr",
     "output_type": "stream",
     "text": [
      "INFO:tensorflow:Assets written to: ram://ad4f722d-8959-4953-8500-66f0308268fb/assets\n",
      "WARNING:absl:Found untraced functions such as _jit_compiled_convolution_op while saving (showing 1 of 1). These functions will not be directly callable after loading.\n"
     ]
    },
    {
     "name": "stdout",
     "output_type": "stream",
     "text": [
      "INFO:tensorflow:Assets written to: models/conv_nn-w10_features-s300-p1/assets\n"
     ]
    },
    {
     "name": "stderr",
     "output_type": "stream",
     "text": [
      "INFO:tensorflow:Assets written to: models/conv_nn-w10_features-s300-p1/assets\n"
     ]
    },
    {
     "name": "stdout",
     "output_type": "stream",
     "text": [
      "220/220 [==============================] - 0s 557us/step\n"
     ]
    },
    {
     "name": "stderr",
     "output_type": "stream",
     "text": [
      "WARNING:absl:Found untraced functions such as _jit_compiled_convolution_op while saving (showing 1 of 1). These functions will not be directly callable after loading.\n"
     ]
    },
    {
     "name": "stdout",
     "output_type": "stream",
     "text": [
      "INFO:tensorflow:Assets written to: ram://1893bab4-77f4-4060-9e7a-bd254cbd07c2/assets\n"
     ]
    },
    {
     "name": "stderr",
     "output_type": "stream",
     "text": [
      "INFO:tensorflow:Assets written to: ram://1893bab4-77f4-4060-9e7a-bd254cbd07c2/assets\n",
      "WARNING:absl:Found untraced functions such as _jit_compiled_convolution_op while saving (showing 1 of 1). These functions will not be directly callable after loading.\n"
     ]
    },
    {
     "name": "stdout",
     "output_type": "stream",
     "text": [
      "INFO:tensorflow:Assets written to: models/conv_nn-w10_features-s300-p2/assets\n"
     ]
    },
    {
     "name": "stderr",
     "output_type": "stream",
     "text": [
      "INFO:tensorflow:Assets written to: models/conv_nn-w10_features-s300-p2/assets\n"
     ]
    },
    {
     "name": "stdout",
     "output_type": "stream",
     "text": [
      "220/220 [==============================] - 0s 539us/step\n"
     ]
    },
    {
     "name": "stderr",
     "output_type": "stream",
     "text": [
      "WARNING:absl:Found untraced functions such as _jit_compiled_convolution_op while saving (showing 1 of 1). These functions will not be directly callable after loading.\n"
     ]
    },
    {
     "name": "stdout",
     "output_type": "stream",
     "text": [
      "INFO:tensorflow:Assets written to: ram://e2c63e9a-2285-416b-87c5-c9315646a541/assets\n"
     ]
    },
    {
     "name": "stderr",
     "output_type": "stream",
     "text": [
      "INFO:tensorflow:Assets written to: ram://e2c63e9a-2285-416b-87c5-c9315646a541/assets\n",
      "WARNING:absl:Found untraced functions such as _jit_compiled_convolution_op while saving (showing 1 of 1). These functions will not be directly callable after loading.\n"
     ]
    },
    {
     "name": "stdout",
     "output_type": "stream",
     "text": [
      "INFO:tensorflow:Assets written to: models/conv_nn-w10_features-s300-p3/assets\n"
     ]
    },
    {
     "name": "stderr",
     "output_type": "stream",
     "text": [
      "INFO:tensorflow:Assets written to: models/conv_nn-w10_features-s300-p3/assets\n"
     ]
    },
    {
     "name": "stdout",
     "output_type": "stream",
     "text": [
      "220/220 [==============================] - 0s 551us/step\n"
     ]
    },
    {
     "name": "stderr",
     "output_type": "stream",
     "text": [
      "WARNING:absl:Found untraced functions such as _jit_compiled_convolution_op while saving (showing 1 of 1). These functions will not be directly callable after loading.\n"
     ]
    },
    {
     "name": "stdout",
     "output_type": "stream",
     "text": [
      "INFO:tensorflow:Assets written to: ram://6de5686d-c2e4-4ed5-9126-37a863fb44dc/assets\n"
     ]
    },
    {
     "name": "stderr",
     "output_type": "stream",
     "text": [
      "INFO:tensorflow:Assets written to: ram://6de5686d-c2e4-4ed5-9126-37a863fb44dc/assets\n",
      "WARNING:absl:Found untraced functions such as _jit_compiled_convolution_op while saving (showing 1 of 1). These functions will not be directly callable after loading.\n"
     ]
    },
    {
     "name": "stdout",
     "output_type": "stream",
     "text": [
      "INFO:tensorflow:Assets written to: models/conv_nn-w10_features-s300-p4/assets\n"
     ]
    },
    {
     "name": "stderr",
     "output_type": "stream",
     "text": [
      "INFO:tensorflow:Assets written to: models/conv_nn-w10_features-s300-p4/assets\n"
     ]
    },
    {
     "name": "stdout",
     "output_type": "stream",
     "text": [
      "219/219 [==============================] - 0s 650us/step\n"
     ]
    },
    {
     "name": "stderr",
     "output_type": "stream",
     "text": [
      "WARNING:absl:Found untraced functions such as _jit_compiled_convolution_op while saving (showing 1 of 1). These functions will not be directly callable after loading.\n"
     ]
    },
    {
     "name": "stdout",
     "output_type": "stream",
     "text": [
      "INFO:tensorflow:Assets written to: ram://1b812b9f-d6d8-451d-8753-56fb90202ec3/assets\n"
     ]
    },
    {
     "name": "stderr",
     "output_type": "stream",
     "text": [
      "INFO:tensorflow:Assets written to: ram://1b812b9f-d6d8-451d-8753-56fb90202ec3/assets\n",
      "WARNING:absl:Found untraced functions such as _jit_compiled_convolution_op while saving (showing 1 of 1). These functions will not be directly callable after loading.\n"
     ]
    },
    {
     "name": "stdout",
     "output_type": "stream",
     "text": [
      "INFO:tensorflow:Assets written to: models/conv_nn-w10_features-s300-p5/assets\n"
     ]
    },
    {
     "name": "stderr",
     "output_type": "stream",
     "text": [
      "INFO:tensorflow:Assets written to: models/conv_nn-w10_features-s300-p5/assets\n"
     ]
    },
    {
     "name": "stdout",
     "output_type": "stream",
     "text": [
      "219/219 [==============================] - 0s 585us/step\n"
     ]
    },
    {
     "name": "stderr",
     "output_type": "stream",
     "text": [
      "WARNING:absl:Found untraced functions such as _jit_compiled_convolution_op while saving (showing 1 of 1). These functions will not be directly callable after loading.\n"
     ]
    },
    {
     "name": "stdout",
     "output_type": "stream",
     "text": [
      "INFO:tensorflow:Assets written to: ram://751e39ff-259e-4188-8bc4-fe41cff38df2/assets\n"
     ]
    },
    {
     "name": "stderr",
     "output_type": "stream",
     "text": [
      "INFO:tensorflow:Assets written to: ram://751e39ff-259e-4188-8bc4-fe41cff38df2/assets\n",
      "WARNING:absl:Found untraced functions such as _jit_compiled_convolution_op while saving (showing 1 of 1). These functions will not be directly callable after loading.\n"
     ]
    },
    {
     "name": "stdout",
     "output_type": "stream",
     "text": [
      "INFO:tensorflow:Assets written to: models/conv_nn-w10_features-s300-p6/assets\n"
     ]
    },
    {
     "name": "stderr",
     "output_type": "stream",
     "text": [
      "INFO:tensorflow:Assets written to: models/conv_nn-w10_features-s300-p6/assets\n"
     ]
    },
    {
     "name": "stdout",
     "output_type": "stream",
     "text": [
      "219/219 [==============================] - 0s 574us/step\n"
     ]
    },
    {
     "name": "stderr",
     "output_type": "stream",
     "text": [
      "WARNING:absl:Found untraced functions such as _jit_compiled_convolution_op while saving (showing 1 of 1). These functions will not be directly callable after loading.\n"
     ]
    },
    {
     "name": "stdout",
     "output_type": "stream",
     "text": [
      "INFO:tensorflow:Assets written to: ram://8e950ebb-b923-4397-84e3-790736aad051/assets\n"
     ]
    },
    {
     "name": "stderr",
     "output_type": "stream",
     "text": [
      "INFO:tensorflow:Assets written to: ram://8e950ebb-b923-4397-84e3-790736aad051/assets\n",
      "WARNING:absl:Found untraced functions such as _jit_compiled_convolution_op while saving (showing 1 of 1). These functions will not be directly callable after loading.\n"
     ]
    },
    {
     "name": "stdout",
     "output_type": "stream",
     "text": [
      "INFO:tensorflow:Assets written to: models/conv_nn-w10_features-s300-p7/assets\n"
     ]
    },
    {
     "name": "stderr",
     "output_type": "stream",
     "text": [
      "INFO:tensorflow:Assets written to: models/conv_nn-w10_features-s300-p7/assets\n"
     ]
    },
    {
     "name": "stdout",
     "output_type": "stream",
     "text": [
      "219/219 [==============================] - 0s 540us/step\n"
     ]
    },
    {
     "name": "stderr",
     "output_type": "stream",
     "text": [
      "WARNING:absl:Found untraced functions such as _jit_compiled_convolution_op while saving (showing 1 of 1). These functions will not be directly callable after loading.\n"
     ]
    },
    {
     "name": "stdout",
     "output_type": "stream",
     "text": [
      "INFO:tensorflow:Assets written to: ram://4323c138-eb4f-45a6-8815-0e9694739a72/assets\n"
     ]
    },
    {
     "name": "stderr",
     "output_type": "stream",
     "text": [
      "INFO:tensorflow:Assets written to: ram://4323c138-eb4f-45a6-8815-0e9694739a72/assets\n",
      "WARNING:absl:Found untraced functions such as _jit_compiled_convolution_op while saving (showing 1 of 1). These functions will not be directly callable after loading.\n"
     ]
    },
    {
     "name": "stdout",
     "output_type": "stream",
     "text": [
      "INFO:tensorflow:Assets written to: models/conv_nn-w10_features-s300-p8/assets\n"
     ]
    },
    {
     "name": "stderr",
     "output_type": "stream",
     "text": [
      "INFO:tensorflow:Assets written to: models/conv_nn-w10_features-s300-p8/assets\n"
     ]
    },
    {
     "name": "stdout",
     "output_type": "stream",
     "text": [
      "219/219 [==============================] - 0s 604us/step\n"
     ]
    },
    {
     "name": "stderr",
     "output_type": "stream",
     "text": [
      "WARNING:absl:Found untraced functions such as _jit_compiled_convolution_op while saving (showing 1 of 1). These functions will not be directly callable after loading.\n"
     ]
    },
    {
     "name": "stdout",
     "output_type": "stream",
     "text": [
      "INFO:tensorflow:Assets written to: ram://5a98b97a-925c-4069-8cab-eaa0e25a01a2/assets\n"
     ]
    },
    {
     "name": "stderr",
     "output_type": "stream",
     "text": [
      "INFO:tensorflow:Assets written to: ram://5a98b97a-925c-4069-8cab-eaa0e25a01a2/assets\n",
      "WARNING:absl:Found untraced functions such as _jit_compiled_convolution_op while saving (showing 1 of 1). These functions will not be directly callable after loading.\n"
     ]
    },
    {
     "name": "stdout",
     "output_type": "stream",
     "text": [
      "INFO:tensorflow:Assets written to: models/conv_nn-w10_features-s300-p9/assets\n"
     ]
    },
    {
     "name": "stderr",
     "output_type": "stream",
     "text": [
      "INFO:tensorflow:Assets written to: models/conv_nn-w10_features-s300-p9/assets\n"
     ]
    },
    {
     "name": "stdout",
     "output_type": "stream",
     "text": [
      "219/219 [==============================] - 0s 597us/step\n"
     ]
    },
    {
     "name": "stderr",
     "output_type": "stream",
     "text": [
      "WARNING:absl:Found untraced functions such as _jit_compiled_convolution_op while saving (showing 1 of 1). These functions will not be directly callable after loading.\n"
     ]
    },
    {
     "name": "stdout",
     "output_type": "stream",
     "text": [
      "INFO:tensorflow:Assets written to: ram://d1b8e456-bab1-494d-9a8f-26ff72d6526b/assets\n"
     ]
    },
    {
     "name": "stderr",
     "output_type": "stream",
     "text": [
      "INFO:tensorflow:Assets written to: ram://d1b8e456-bab1-494d-9a8f-26ff72d6526b/assets\n",
      "WARNING:absl:Found untraced functions such as _jit_compiled_convolution_op while saving (showing 1 of 1). These functions will not be directly callable after loading.\n"
     ]
    },
    {
     "name": "stdout",
     "output_type": "stream",
     "text": [
      "INFO:tensorflow:Assets written to: models/conv_nn-w10_features-s300-p10/assets\n"
     ]
    },
    {
     "name": "stderr",
     "output_type": "stream",
     "text": [
      "INFO:tensorflow:Assets written to: models/conv_nn-w10_features-s300-p10/assets\n"
     ]
    },
    {
     "name": "stdout",
     "output_type": "stream",
     "text": [
      "220/220 [==============================] - 0s 547us/step\n"
     ]
    },
    {
     "name": "stderr",
     "output_type": "stream",
     "text": [
      "WARNING:absl:Found untraced functions such as _jit_compiled_convolution_op while saving (showing 1 of 1). These functions will not be directly callable after loading.\n"
     ]
    },
    {
     "name": "stdout",
     "output_type": "stream",
     "text": [
      "INFO:tensorflow:Assets written to: ram://06ccc015-48c0-45a9-8d7f-6ccdcda0d7ad/assets\n"
     ]
    },
    {
     "name": "stderr",
     "output_type": "stream",
     "text": [
      "INFO:tensorflow:Assets written to: ram://06ccc015-48c0-45a9-8d7f-6ccdcda0d7ad/assets\n",
      "WARNING:absl:Found untraced functions such as _jit_compiled_convolution_op while saving (showing 1 of 1). These functions will not be directly callable after loading.\n"
     ]
    },
    {
     "name": "stdout",
     "output_type": "stream",
     "text": [
      "INFO:tensorflow:Assets written to: models/conv_nn-w15_features-s300-p0/assets\n"
     ]
    },
    {
     "name": "stderr",
     "output_type": "stream",
     "text": [
      "INFO:tensorflow:Assets written to: models/conv_nn-w15_features-s300-p0/assets\n"
     ]
    },
    {
     "name": "stdout",
     "output_type": "stream",
     "text": [
      "220/220 [==============================] - 0s 555us/step\n"
     ]
    },
    {
     "name": "stderr",
     "output_type": "stream",
     "text": [
      "WARNING:absl:Found untraced functions such as _jit_compiled_convolution_op while saving (showing 1 of 1). These functions will not be directly callable after loading.\n"
     ]
    },
    {
     "name": "stdout",
     "output_type": "stream",
     "text": [
      "INFO:tensorflow:Assets written to: ram://7d38c5d0-017a-4524-9002-c0bf26546c57/assets\n"
     ]
    },
    {
     "name": "stderr",
     "output_type": "stream",
     "text": [
      "INFO:tensorflow:Assets written to: ram://7d38c5d0-017a-4524-9002-c0bf26546c57/assets\n",
      "WARNING:absl:Found untraced functions such as _jit_compiled_convolution_op while saving (showing 1 of 1). These functions will not be directly callable after loading.\n"
     ]
    },
    {
     "name": "stdout",
     "output_type": "stream",
     "text": [
      "INFO:tensorflow:Assets written to: models/conv_nn-w15_features-s300-p1/assets\n"
     ]
    },
    {
     "name": "stderr",
     "output_type": "stream",
     "text": [
      "INFO:tensorflow:Assets written to: models/conv_nn-w15_features-s300-p1/assets\n"
     ]
    },
    {
     "name": "stdout",
     "output_type": "stream",
     "text": [
      "220/220 [==============================] - 0s 516us/step\n"
     ]
    },
    {
     "name": "stderr",
     "output_type": "stream",
     "text": [
      "WARNING:absl:Found untraced functions such as _jit_compiled_convolution_op while saving (showing 1 of 1). These functions will not be directly callable after loading.\n"
     ]
    },
    {
     "name": "stdout",
     "output_type": "stream",
     "text": [
      "INFO:tensorflow:Assets written to: ram://e8f0a097-3117-4525-91d6-46cb5e1469ab/assets\n"
     ]
    },
    {
     "name": "stderr",
     "output_type": "stream",
     "text": [
      "INFO:tensorflow:Assets written to: ram://e8f0a097-3117-4525-91d6-46cb5e1469ab/assets\n",
      "WARNING:absl:Found untraced functions such as _jit_compiled_convolution_op while saving (showing 1 of 1). These functions will not be directly callable after loading.\n"
     ]
    },
    {
     "name": "stdout",
     "output_type": "stream",
     "text": [
      "INFO:tensorflow:Assets written to: models/conv_nn-w15_features-s300-p2/assets\n"
     ]
    },
    {
     "name": "stderr",
     "output_type": "stream",
     "text": [
      "INFO:tensorflow:Assets written to: models/conv_nn-w15_features-s300-p2/assets\n"
     ]
    },
    {
     "name": "stdout",
     "output_type": "stream",
     "text": [
      "220/220 [==============================] - 0s 565us/step\n"
     ]
    },
    {
     "name": "stderr",
     "output_type": "stream",
     "text": [
      "WARNING:absl:Found untraced functions such as _jit_compiled_convolution_op while saving (showing 1 of 1). These functions will not be directly callable after loading.\n"
     ]
    },
    {
     "name": "stdout",
     "output_type": "stream",
     "text": [
      "INFO:tensorflow:Assets written to: ram://f9308edd-1380-48ae-9f67-c6fccb45940e/assets\n"
     ]
    },
    {
     "name": "stderr",
     "output_type": "stream",
     "text": [
      "INFO:tensorflow:Assets written to: ram://f9308edd-1380-48ae-9f67-c6fccb45940e/assets\n",
      "WARNING:absl:Found untraced functions such as _jit_compiled_convolution_op while saving (showing 1 of 1). These functions will not be directly callable after loading.\n"
     ]
    },
    {
     "name": "stdout",
     "output_type": "stream",
     "text": [
      "INFO:tensorflow:Assets written to: models/conv_nn-w15_features-s300-p3/assets\n"
     ]
    },
    {
     "name": "stderr",
     "output_type": "stream",
     "text": [
      "INFO:tensorflow:Assets written to: models/conv_nn-w15_features-s300-p3/assets\n"
     ]
    },
    {
     "name": "stdout",
     "output_type": "stream",
     "text": [
      "220/220 [==============================] - 0s 533us/step\n"
     ]
    },
    {
     "name": "stderr",
     "output_type": "stream",
     "text": [
      "WARNING:absl:Found untraced functions such as _jit_compiled_convolution_op while saving (showing 1 of 1). These functions will not be directly callable after loading.\n"
     ]
    },
    {
     "name": "stdout",
     "output_type": "stream",
     "text": [
      "INFO:tensorflow:Assets written to: ram://6e0f4916-b177-4d1e-9c4d-8070db2d416e/assets\n"
     ]
    },
    {
     "name": "stderr",
     "output_type": "stream",
     "text": [
      "INFO:tensorflow:Assets written to: ram://6e0f4916-b177-4d1e-9c4d-8070db2d416e/assets\n",
      "WARNING:absl:Found untraced functions such as _jit_compiled_convolution_op while saving (showing 1 of 1). These functions will not be directly callable after loading.\n"
     ]
    },
    {
     "name": "stdout",
     "output_type": "stream",
     "text": [
      "INFO:tensorflow:Assets written to: models/conv_nn-w15_features-s300-p4/assets\n"
     ]
    },
    {
     "name": "stderr",
     "output_type": "stream",
     "text": [
      "INFO:tensorflow:Assets written to: models/conv_nn-w15_features-s300-p4/assets\n"
     ]
    },
    {
     "name": "stdout",
     "output_type": "stream",
     "text": [
      "219/219 [==============================] - 0s 562us/step\n"
     ]
    },
    {
     "name": "stderr",
     "output_type": "stream",
     "text": [
      "WARNING:absl:Found untraced functions such as _jit_compiled_convolution_op while saving (showing 1 of 1). These functions will not be directly callable after loading.\n"
     ]
    },
    {
     "name": "stdout",
     "output_type": "stream",
     "text": [
      "INFO:tensorflow:Assets written to: ram://a6df140b-77dd-4c15-aec4-624431355b76/assets\n"
     ]
    },
    {
     "name": "stderr",
     "output_type": "stream",
     "text": [
      "INFO:tensorflow:Assets written to: ram://a6df140b-77dd-4c15-aec4-624431355b76/assets\n",
      "WARNING:absl:Found untraced functions such as _jit_compiled_convolution_op while saving (showing 1 of 1). These functions will not be directly callable after loading.\n"
     ]
    },
    {
     "name": "stdout",
     "output_type": "stream",
     "text": [
      "INFO:tensorflow:Assets written to: models/conv_nn-w15_features-s300-p5/assets\n"
     ]
    },
    {
     "name": "stderr",
     "output_type": "stream",
     "text": [
      "INFO:tensorflow:Assets written to: models/conv_nn-w15_features-s300-p5/assets\n"
     ]
    },
    {
     "name": "stdout",
     "output_type": "stream",
     "text": [
      "219/219 [==============================] - 0s 556us/step\n"
     ]
    },
    {
     "name": "stderr",
     "output_type": "stream",
     "text": [
      "WARNING:absl:Found untraced functions such as _jit_compiled_convolution_op while saving (showing 1 of 1). These functions will not be directly callable after loading.\n"
     ]
    },
    {
     "name": "stdout",
     "output_type": "stream",
     "text": [
      "INFO:tensorflow:Assets written to: ram://57f5b767-0ab1-45bd-859d-f2e6dc2c0bf1/assets\n"
     ]
    },
    {
     "name": "stderr",
     "output_type": "stream",
     "text": [
      "INFO:tensorflow:Assets written to: ram://57f5b767-0ab1-45bd-859d-f2e6dc2c0bf1/assets\n",
      "WARNING:absl:Found untraced functions such as _jit_compiled_convolution_op while saving (showing 1 of 1). These functions will not be directly callable after loading.\n"
     ]
    },
    {
     "name": "stdout",
     "output_type": "stream",
     "text": [
      "INFO:tensorflow:Assets written to: models/conv_nn-w15_features-s300-p6/assets\n"
     ]
    },
    {
     "name": "stderr",
     "output_type": "stream",
     "text": [
      "INFO:tensorflow:Assets written to: models/conv_nn-w15_features-s300-p6/assets\n"
     ]
    },
    {
     "name": "stdout",
     "output_type": "stream",
     "text": [
      "219/219 [==============================] - 0s 560us/step\n"
     ]
    },
    {
     "name": "stderr",
     "output_type": "stream",
     "text": [
      "WARNING:absl:Found untraced functions such as _jit_compiled_convolution_op while saving (showing 1 of 1). These functions will not be directly callable after loading.\n"
     ]
    },
    {
     "name": "stdout",
     "output_type": "stream",
     "text": [
      "INFO:tensorflow:Assets written to: ram://ddb86c83-3978-4f20-afef-a48aa4bd351c/assets\n"
     ]
    },
    {
     "name": "stderr",
     "output_type": "stream",
     "text": [
      "INFO:tensorflow:Assets written to: ram://ddb86c83-3978-4f20-afef-a48aa4bd351c/assets\n",
      "WARNING:absl:Found untraced functions such as _jit_compiled_convolution_op while saving (showing 1 of 1). These functions will not be directly callable after loading.\n"
     ]
    },
    {
     "name": "stdout",
     "output_type": "stream",
     "text": [
      "INFO:tensorflow:Assets written to: models/conv_nn-w15_features-s300-p7/assets\n"
     ]
    },
    {
     "name": "stderr",
     "output_type": "stream",
     "text": [
      "INFO:tensorflow:Assets written to: models/conv_nn-w15_features-s300-p7/assets\n"
     ]
    },
    {
     "name": "stdout",
     "output_type": "stream",
     "text": [
      "219/219 [==============================] - 0s 652us/step\n"
     ]
    },
    {
     "name": "stderr",
     "output_type": "stream",
     "text": [
      "WARNING:absl:Found untraced functions such as _jit_compiled_convolution_op while saving (showing 1 of 1). These functions will not be directly callable after loading.\n"
     ]
    },
    {
     "name": "stdout",
     "output_type": "stream",
     "text": [
      "INFO:tensorflow:Assets written to: ram://12f6e4b0-df0b-4b00-856f-8bcf0336bb12/assets\n"
     ]
    },
    {
     "name": "stderr",
     "output_type": "stream",
     "text": [
      "INFO:tensorflow:Assets written to: ram://12f6e4b0-df0b-4b00-856f-8bcf0336bb12/assets\n",
      "WARNING:absl:Found untraced functions such as _jit_compiled_convolution_op while saving (showing 1 of 1). These functions will not be directly callable after loading.\n"
     ]
    },
    {
     "name": "stdout",
     "output_type": "stream",
     "text": [
      "INFO:tensorflow:Assets written to: models/conv_nn-w15_features-s300-p8/assets\n"
     ]
    },
    {
     "name": "stderr",
     "output_type": "stream",
     "text": [
      "INFO:tensorflow:Assets written to: models/conv_nn-w15_features-s300-p8/assets\n"
     ]
    },
    {
     "name": "stdout",
     "output_type": "stream",
     "text": [
      "219/219 [==============================] - 0s 583us/step\n"
     ]
    },
    {
     "name": "stderr",
     "output_type": "stream",
     "text": [
      "WARNING:absl:Found untraced functions such as _jit_compiled_convolution_op while saving (showing 1 of 1). These functions will not be directly callable after loading.\n"
     ]
    },
    {
     "name": "stdout",
     "output_type": "stream",
     "text": [
      "INFO:tensorflow:Assets written to: ram://5ce6488a-03d2-4fb2-9816-b5c3a733dfd7/assets\n"
     ]
    },
    {
     "name": "stderr",
     "output_type": "stream",
     "text": [
      "INFO:tensorflow:Assets written to: ram://5ce6488a-03d2-4fb2-9816-b5c3a733dfd7/assets\n",
      "WARNING:absl:Found untraced functions such as _jit_compiled_convolution_op while saving (showing 1 of 1). These functions will not be directly callable after loading.\n"
     ]
    },
    {
     "name": "stdout",
     "output_type": "stream",
     "text": [
      "INFO:tensorflow:Assets written to: models/conv_nn-w15_features-s300-p9/assets\n"
     ]
    },
    {
     "name": "stderr",
     "output_type": "stream",
     "text": [
      "INFO:tensorflow:Assets written to: models/conv_nn-w15_features-s300-p9/assets\n"
     ]
    },
    {
     "name": "stdout",
     "output_type": "stream",
     "text": [
      "219/219 [==============================] - 0s 571us/step\n"
     ]
    },
    {
     "name": "stderr",
     "output_type": "stream",
     "text": [
      "WARNING:absl:Found untraced functions such as _jit_compiled_convolution_op while saving (showing 1 of 1). These functions will not be directly callable after loading.\n"
     ]
    },
    {
     "name": "stdout",
     "output_type": "stream",
     "text": [
      "INFO:tensorflow:Assets written to: ram://fcc9ca5a-77e6-4f63-94f1-7919574e9240/assets\n"
     ]
    },
    {
     "name": "stderr",
     "output_type": "stream",
     "text": [
      "INFO:tensorflow:Assets written to: ram://fcc9ca5a-77e6-4f63-94f1-7919574e9240/assets\n",
      "WARNING:absl:Found untraced functions such as _jit_compiled_convolution_op while saving (showing 1 of 1). These functions will not be directly callable after loading.\n"
     ]
    },
    {
     "name": "stdout",
     "output_type": "stream",
     "text": [
      "INFO:tensorflow:Assets written to: models/conv_nn-w15_features-s300-p10/assets\n"
     ]
    },
    {
     "name": "stderr",
     "output_type": "stream",
     "text": [
      "INFO:tensorflow:Assets written to: models/conv_nn-w15_features-s300-p10/assets\n"
     ]
    },
    {
     "name": "stdout",
     "output_type": "stream",
     "text": [
      "220/220 [==============================] - 0s 554us/step\n"
     ]
    },
    {
     "name": "stderr",
     "output_type": "stream",
     "text": [
      "WARNING:absl:Found untraced functions such as _jit_compiled_convolution_op while saving (showing 1 of 1). These functions will not be directly callable after loading.\n"
     ]
    },
    {
     "name": "stdout",
     "output_type": "stream",
     "text": [
      "INFO:tensorflow:Assets written to: ram://474c41d0-739a-4274-8d42-2160a37cdd66/assets\n"
     ]
    },
    {
     "name": "stderr",
     "output_type": "stream",
     "text": [
      "INFO:tensorflow:Assets written to: ram://474c41d0-739a-4274-8d42-2160a37cdd66/assets\n",
      "WARNING:absl:Found untraced functions such as _jit_compiled_convolution_op while saving (showing 1 of 1). These functions will not be directly callable after loading.\n"
     ]
    },
    {
     "name": "stdout",
     "output_type": "stream",
     "text": [
      "INFO:tensorflow:Assets written to: models/conv_nn-w20_features-s300-p0/assets\n"
     ]
    },
    {
     "name": "stderr",
     "output_type": "stream",
     "text": [
      "INFO:tensorflow:Assets written to: models/conv_nn-w20_features-s300-p0/assets\n"
     ]
    },
    {
     "name": "stdout",
     "output_type": "stream",
     "text": [
      "220/220 [==============================] - 0s 598us/step\n"
     ]
    },
    {
     "name": "stderr",
     "output_type": "stream",
     "text": [
      "WARNING:absl:Found untraced functions such as _jit_compiled_convolution_op while saving (showing 1 of 1). These functions will not be directly callable after loading.\n"
     ]
    },
    {
     "name": "stdout",
     "output_type": "stream",
     "text": [
      "INFO:tensorflow:Assets written to: ram://ac5da885-665e-4d39-b9f4-8ec178aa854e/assets\n"
     ]
    },
    {
     "name": "stderr",
     "output_type": "stream",
     "text": [
      "INFO:tensorflow:Assets written to: ram://ac5da885-665e-4d39-b9f4-8ec178aa854e/assets\n",
      "WARNING:absl:Found untraced functions such as _jit_compiled_convolution_op while saving (showing 1 of 1). These functions will not be directly callable after loading.\n"
     ]
    },
    {
     "name": "stdout",
     "output_type": "stream",
     "text": [
      "INFO:tensorflow:Assets written to: models/conv_nn-w20_features-s300-p1/assets\n"
     ]
    },
    {
     "name": "stderr",
     "output_type": "stream",
     "text": [
      "INFO:tensorflow:Assets written to: models/conv_nn-w20_features-s300-p1/assets\n"
     ]
    },
    {
     "name": "stdout",
     "output_type": "stream",
     "text": [
      "220/220 [==============================] - 0s 539us/step\n"
     ]
    },
    {
     "name": "stderr",
     "output_type": "stream",
     "text": [
      "WARNING:absl:Found untraced functions such as _jit_compiled_convolution_op while saving (showing 1 of 1). These functions will not be directly callable after loading.\n"
     ]
    },
    {
     "name": "stdout",
     "output_type": "stream",
     "text": [
      "INFO:tensorflow:Assets written to: ram://1975e9b9-6dd1-4e25-b413-267454ac6977/assets\n"
     ]
    },
    {
     "name": "stderr",
     "output_type": "stream",
     "text": [
      "INFO:tensorflow:Assets written to: ram://1975e9b9-6dd1-4e25-b413-267454ac6977/assets\n",
      "WARNING:absl:Found untraced functions such as _jit_compiled_convolution_op while saving (showing 1 of 1). These functions will not be directly callable after loading.\n"
     ]
    },
    {
     "name": "stdout",
     "output_type": "stream",
     "text": [
      "INFO:tensorflow:Assets written to: models/conv_nn-w20_features-s300-p2/assets\n"
     ]
    },
    {
     "name": "stderr",
     "output_type": "stream",
     "text": [
      "INFO:tensorflow:Assets written to: models/conv_nn-w20_features-s300-p2/assets\n"
     ]
    },
    {
     "name": "stdout",
     "output_type": "stream",
     "text": [
      "220/220 [==============================] - 0s 509us/step\n"
     ]
    },
    {
     "name": "stderr",
     "output_type": "stream",
     "text": [
      "WARNING:absl:Found untraced functions such as _jit_compiled_convolution_op while saving (showing 1 of 1). These functions will not be directly callable after loading.\n"
     ]
    },
    {
     "name": "stdout",
     "output_type": "stream",
     "text": [
      "INFO:tensorflow:Assets written to: ram://49ed8d26-5099-495d-8a61-850b1226f023/assets\n"
     ]
    },
    {
     "name": "stderr",
     "output_type": "stream",
     "text": [
      "INFO:tensorflow:Assets written to: ram://49ed8d26-5099-495d-8a61-850b1226f023/assets\n",
      "WARNING:absl:Found untraced functions such as _jit_compiled_convolution_op while saving (showing 1 of 1). These functions will not be directly callable after loading.\n"
     ]
    },
    {
     "name": "stdout",
     "output_type": "stream",
     "text": [
      "INFO:tensorflow:Assets written to: models/conv_nn-w20_features-s300-p3/assets\n"
     ]
    },
    {
     "name": "stderr",
     "output_type": "stream",
     "text": [
      "INFO:tensorflow:Assets written to: models/conv_nn-w20_features-s300-p3/assets\n"
     ]
    },
    {
     "name": "stdout",
     "output_type": "stream",
     "text": [
      "220/220 [==============================] - 0s 556us/step\n"
     ]
    },
    {
     "name": "stderr",
     "output_type": "stream",
     "text": [
      "WARNING:absl:Found untraced functions such as _jit_compiled_convolution_op while saving (showing 1 of 1). These functions will not be directly callable after loading.\n"
     ]
    },
    {
     "name": "stdout",
     "output_type": "stream",
     "text": [
      "INFO:tensorflow:Assets written to: ram://ca05b732-f84c-494c-9bc6-2db5aebecf19/assets\n"
     ]
    },
    {
     "name": "stderr",
     "output_type": "stream",
     "text": [
      "INFO:tensorflow:Assets written to: ram://ca05b732-f84c-494c-9bc6-2db5aebecf19/assets\n",
      "WARNING:absl:Found untraced functions such as _jit_compiled_convolution_op while saving (showing 1 of 1). These functions will not be directly callable after loading.\n"
     ]
    },
    {
     "name": "stdout",
     "output_type": "stream",
     "text": [
      "INFO:tensorflow:Assets written to: models/conv_nn-w20_features-s300-p4/assets\n"
     ]
    },
    {
     "name": "stderr",
     "output_type": "stream",
     "text": [
      "INFO:tensorflow:Assets written to: models/conv_nn-w20_features-s300-p4/assets\n"
     ]
    },
    {
     "name": "stdout",
     "output_type": "stream",
     "text": [
      "219/219 [==============================] - 0s 605us/step\n"
     ]
    },
    {
     "name": "stderr",
     "output_type": "stream",
     "text": [
      "WARNING:absl:Found untraced functions such as _jit_compiled_convolution_op while saving (showing 1 of 1). These functions will not be directly callable after loading.\n"
     ]
    },
    {
     "name": "stdout",
     "output_type": "stream",
     "text": [
      "INFO:tensorflow:Assets written to: ram://06f89dfa-eb61-4956-940b-41847de75858/assets\n"
     ]
    },
    {
     "name": "stderr",
     "output_type": "stream",
     "text": [
      "INFO:tensorflow:Assets written to: ram://06f89dfa-eb61-4956-940b-41847de75858/assets\n",
      "WARNING:absl:Found untraced functions such as _jit_compiled_convolution_op while saving (showing 1 of 1). These functions will not be directly callable after loading.\n"
     ]
    },
    {
     "name": "stdout",
     "output_type": "stream",
     "text": [
      "INFO:tensorflow:Assets written to: models/conv_nn-w20_features-s300-p5/assets\n"
     ]
    },
    {
     "name": "stderr",
     "output_type": "stream",
     "text": [
      "INFO:tensorflow:Assets written to: models/conv_nn-w20_features-s300-p5/assets\n"
     ]
    },
    {
     "name": "stdout",
     "output_type": "stream",
     "text": [
      "219/219 [==============================] - 0s 586us/step\n"
     ]
    },
    {
     "name": "stderr",
     "output_type": "stream",
     "text": [
      "WARNING:absl:Found untraced functions such as _jit_compiled_convolution_op while saving (showing 1 of 1). These functions will not be directly callable after loading.\n"
     ]
    },
    {
     "name": "stdout",
     "output_type": "stream",
     "text": [
      "INFO:tensorflow:Assets written to: ram://e263f2b5-64e0-418f-a06e-1e26dee53f0e/assets\n"
     ]
    },
    {
     "name": "stderr",
     "output_type": "stream",
     "text": [
      "INFO:tensorflow:Assets written to: ram://e263f2b5-64e0-418f-a06e-1e26dee53f0e/assets\n",
      "WARNING:absl:Found untraced functions such as _jit_compiled_convolution_op while saving (showing 1 of 1). These functions will not be directly callable after loading.\n"
     ]
    },
    {
     "name": "stdout",
     "output_type": "stream",
     "text": [
      "INFO:tensorflow:Assets written to: models/conv_nn-w20_features-s300-p6/assets\n"
     ]
    },
    {
     "name": "stderr",
     "output_type": "stream",
     "text": [
      "INFO:tensorflow:Assets written to: models/conv_nn-w20_features-s300-p6/assets\n"
     ]
    },
    {
     "name": "stdout",
     "output_type": "stream",
     "text": [
      "219/219 [==============================] - 0s 582us/step\n"
     ]
    },
    {
     "name": "stderr",
     "output_type": "stream",
     "text": [
      "WARNING:absl:Found untraced functions such as _jit_compiled_convolution_op while saving (showing 1 of 1). These functions will not be directly callable after loading.\n"
     ]
    },
    {
     "name": "stdout",
     "output_type": "stream",
     "text": [
      "INFO:tensorflow:Assets written to: ram://b3ac8879-8dfb-40d7-a155-1860b19d9452/assets\n"
     ]
    },
    {
     "name": "stderr",
     "output_type": "stream",
     "text": [
      "INFO:tensorflow:Assets written to: ram://b3ac8879-8dfb-40d7-a155-1860b19d9452/assets\n",
      "WARNING:absl:Found untraced functions such as _jit_compiled_convolution_op while saving (showing 1 of 1). These functions will not be directly callable after loading.\n"
     ]
    },
    {
     "name": "stdout",
     "output_type": "stream",
     "text": [
      "INFO:tensorflow:Assets written to: models/conv_nn-w20_features-s300-p7/assets\n"
     ]
    },
    {
     "name": "stderr",
     "output_type": "stream",
     "text": [
      "INFO:tensorflow:Assets written to: models/conv_nn-w20_features-s300-p7/assets\n"
     ]
    },
    {
     "name": "stdout",
     "output_type": "stream",
     "text": [
      "219/219 [==============================] - 0s 569us/step\n"
     ]
    },
    {
     "name": "stderr",
     "output_type": "stream",
     "text": [
      "WARNING:absl:Found untraced functions such as _jit_compiled_convolution_op while saving (showing 1 of 1). These functions will not be directly callable after loading.\n"
     ]
    },
    {
     "name": "stdout",
     "output_type": "stream",
     "text": [
      "INFO:tensorflow:Assets written to: ram://3ce5e18f-5503-4da7-9cc1-b89363f01b31/assets\n"
     ]
    },
    {
     "name": "stderr",
     "output_type": "stream",
     "text": [
      "INFO:tensorflow:Assets written to: ram://3ce5e18f-5503-4da7-9cc1-b89363f01b31/assets\n",
      "WARNING:absl:Found untraced functions such as _jit_compiled_convolution_op while saving (showing 1 of 1). These functions will not be directly callable after loading.\n"
     ]
    },
    {
     "name": "stdout",
     "output_type": "stream",
     "text": [
      "INFO:tensorflow:Assets written to: models/conv_nn-w20_features-s300-p8/assets\n"
     ]
    },
    {
     "name": "stderr",
     "output_type": "stream",
     "text": [
      "INFO:tensorflow:Assets written to: models/conv_nn-w20_features-s300-p8/assets\n"
     ]
    },
    {
     "name": "stdout",
     "output_type": "stream",
     "text": [
      "219/219 [==============================] - 0s 581us/step\n"
     ]
    },
    {
     "name": "stderr",
     "output_type": "stream",
     "text": [
      "WARNING:absl:Found untraced functions such as _jit_compiled_convolution_op while saving (showing 1 of 1). These functions will not be directly callable after loading.\n"
     ]
    },
    {
     "name": "stdout",
     "output_type": "stream",
     "text": [
      "INFO:tensorflow:Assets written to: ram://54df1c60-98a8-49de-8655-5f75d52b98e9/assets\n"
     ]
    },
    {
     "name": "stderr",
     "output_type": "stream",
     "text": [
      "INFO:tensorflow:Assets written to: ram://54df1c60-98a8-49de-8655-5f75d52b98e9/assets\n",
      "WARNING:absl:Found untraced functions such as _jit_compiled_convolution_op while saving (showing 1 of 1). These functions will not be directly callable after loading.\n"
     ]
    },
    {
     "name": "stdout",
     "output_type": "stream",
     "text": [
      "INFO:tensorflow:Assets written to: models/conv_nn-w20_features-s300-p9/assets\n"
     ]
    },
    {
     "name": "stderr",
     "output_type": "stream",
     "text": [
      "INFO:tensorflow:Assets written to: models/conv_nn-w20_features-s300-p9/assets\n"
     ]
    },
    {
     "name": "stdout",
     "output_type": "stream",
     "text": [
      "219/219 [==============================] - 0s 586us/step\n"
     ]
    },
    {
     "name": "stderr",
     "output_type": "stream",
     "text": [
      "WARNING:absl:Found untraced functions such as _jit_compiled_convolution_op while saving (showing 1 of 1). These functions will not be directly callable after loading.\n"
     ]
    },
    {
     "name": "stdout",
     "output_type": "stream",
     "text": [
      "INFO:tensorflow:Assets written to: ram://dbb3768e-760e-4c39-b7e3-8ea0d890b54a/assets\n"
     ]
    },
    {
     "name": "stderr",
     "output_type": "stream",
     "text": [
      "INFO:tensorflow:Assets written to: ram://dbb3768e-760e-4c39-b7e3-8ea0d890b54a/assets\n",
      "WARNING:absl:Found untraced functions such as _jit_compiled_convolution_op while saving (showing 1 of 1). These functions will not be directly callable after loading.\n"
     ]
    },
    {
     "name": "stdout",
     "output_type": "stream",
     "text": [
      "INFO:tensorflow:Assets written to: models/conv_nn-w20_features-s300-p10/assets\n"
     ]
    },
    {
     "name": "stderr",
     "output_type": "stream",
     "text": [
      "INFO:tensorflow:Assets written to: models/conv_nn-w20_features-s300-p10/assets\n"
     ]
    },
    {
     "name": "stdout",
     "output_type": "stream",
     "text": [
      "220/220 [==============================] - 0s 595us/step\n"
     ]
    },
    {
     "name": "stderr",
     "output_type": "stream",
     "text": [
      "WARNING:absl:Found untraced functions such as _jit_compiled_convolution_op while saving (showing 1 of 1). These functions will not be directly callable after loading.\n"
     ]
    },
    {
     "name": "stdout",
     "output_type": "stream",
     "text": [
      "INFO:tensorflow:Assets written to: ram://8db98e91-1c83-44eb-93fc-fdc04add9b7e/assets\n"
     ]
    },
    {
     "name": "stderr",
     "output_type": "stream",
     "text": [
      "INFO:tensorflow:Assets written to: ram://8db98e91-1c83-44eb-93fc-fdc04add9b7e/assets\n",
      "WARNING:absl:Found untraced functions such as _jit_compiled_convolution_op while saving (showing 1 of 1). These functions will not be directly callable after loading.\n"
     ]
    },
    {
     "name": "stdout",
     "output_type": "stream",
     "text": [
      "INFO:tensorflow:Assets written to: models/conv_nn-no_diff_features-s300-p0/assets\n"
     ]
    },
    {
     "name": "stderr",
     "output_type": "stream",
     "text": [
      "INFO:tensorflow:Assets written to: models/conv_nn-no_diff_features-s300-p0/assets\n"
     ]
    },
    {
     "name": "stdout",
     "output_type": "stream",
     "text": [
      "220/220 [==============================] - 0s 555us/step\n"
     ]
    },
    {
     "name": "stderr",
     "output_type": "stream",
     "text": [
      "WARNING:absl:Found untraced functions such as _jit_compiled_convolution_op while saving (showing 1 of 1). These functions will not be directly callable after loading.\n"
     ]
    },
    {
     "name": "stdout",
     "output_type": "stream",
     "text": [
      "INFO:tensorflow:Assets written to: ram://6fe52ba2-b5ca-4e59-ad7d-ea24bf25bdbf/assets\n"
     ]
    },
    {
     "name": "stderr",
     "output_type": "stream",
     "text": [
      "INFO:tensorflow:Assets written to: ram://6fe52ba2-b5ca-4e59-ad7d-ea24bf25bdbf/assets\n",
      "WARNING:absl:Found untraced functions such as _jit_compiled_convolution_op while saving (showing 1 of 1). These functions will not be directly callable after loading.\n"
     ]
    },
    {
     "name": "stdout",
     "output_type": "stream",
     "text": [
      "INFO:tensorflow:Assets written to: models/conv_nn-no_diff_features-s300-p1/assets\n"
     ]
    },
    {
     "name": "stderr",
     "output_type": "stream",
     "text": [
      "INFO:tensorflow:Assets written to: models/conv_nn-no_diff_features-s300-p1/assets\n"
     ]
    },
    {
     "name": "stdout",
     "output_type": "stream",
     "text": [
      "220/220 [==============================] - 0s 544us/step\n"
     ]
    },
    {
     "name": "stderr",
     "output_type": "stream",
     "text": [
      "WARNING:absl:Found untraced functions such as _jit_compiled_convolution_op while saving (showing 1 of 1). These functions will not be directly callable after loading.\n"
     ]
    },
    {
     "name": "stdout",
     "output_type": "stream",
     "text": [
      "INFO:tensorflow:Assets written to: ram://04b035d9-0865-4a69-8768-5e10c6149c45/assets\n"
     ]
    },
    {
     "name": "stderr",
     "output_type": "stream",
     "text": [
      "INFO:tensorflow:Assets written to: ram://04b035d9-0865-4a69-8768-5e10c6149c45/assets\n",
      "WARNING:absl:Found untraced functions such as _jit_compiled_convolution_op while saving (showing 1 of 1). These functions will not be directly callable after loading.\n"
     ]
    },
    {
     "name": "stdout",
     "output_type": "stream",
     "text": [
      "INFO:tensorflow:Assets written to: models/conv_nn-no_diff_features-s300-p2/assets\n"
     ]
    },
    {
     "name": "stderr",
     "output_type": "stream",
     "text": [
      "INFO:tensorflow:Assets written to: models/conv_nn-no_diff_features-s300-p2/assets\n"
     ]
    },
    {
     "name": "stdout",
     "output_type": "stream",
     "text": [
      "220/220 [==============================] - 0s 542us/step\n"
     ]
    },
    {
     "name": "stderr",
     "output_type": "stream",
     "text": [
      "WARNING:absl:Found untraced functions such as _jit_compiled_convolution_op while saving (showing 1 of 1). These functions will not be directly callable after loading.\n"
     ]
    },
    {
     "name": "stdout",
     "output_type": "stream",
     "text": [
      "INFO:tensorflow:Assets written to: ram://d31c7b83-bfa6-4614-9941-de552a2fdd6d/assets\n"
     ]
    },
    {
     "name": "stderr",
     "output_type": "stream",
     "text": [
      "INFO:tensorflow:Assets written to: ram://d31c7b83-bfa6-4614-9941-de552a2fdd6d/assets\n",
      "WARNING:absl:Found untraced functions such as _jit_compiled_convolution_op while saving (showing 1 of 1). These functions will not be directly callable after loading.\n"
     ]
    },
    {
     "name": "stdout",
     "output_type": "stream",
     "text": [
      "INFO:tensorflow:Assets written to: models/conv_nn-no_diff_features-s300-p3/assets\n"
     ]
    },
    {
     "name": "stderr",
     "output_type": "stream",
     "text": [
      "INFO:tensorflow:Assets written to: models/conv_nn-no_diff_features-s300-p3/assets\n"
     ]
    },
    {
     "name": "stdout",
     "output_type": "stream",
     "text": [
      "220/220 [==============================] - 0s 573us/step\n"
     ]
    },
    {
     "name": "stderr",
     "output_type": "stream",
     "text": [
      "WARNING:absl:Found untraced functions such as _jit_compiled_convolution_op while saving (showing 1 of 1). These functions will not be directly callable after loading.\n"
     ]
    },
    {
     "name": "stdout",
     "output_type": "stream",
     "text": [
      "INFO:tensorflow:Assets written to: ram://6535fb01-66cb-4451-a056-c5463c641c43/assets\n"
     ]
    },
    {
     "name": "stderr",
     "output_type": "stream",
     "text": [
      "INFO:tensorflow:Assets written to: ram://6535fb01-66cb-4451-a056-c5463c641c43/assets\n",
      "WARNING:absl:Found untraced functions such as _jit_compiled_convolution_op while saving (showing 1 of 1). These functions will not be directly callable after loading.\n"
     ]
    },
    {
     "name": "stdout",
     "output_type": "stream",
     "text": [
      "INFO:tensorflow:Assets written to: models/conv_nn-no_diff_features-s300-p4/assets\n"
     ]
    },
    {
     "name": "stderr",
     "output_type": "stream",
     "text": [
      "INFO:tensorflow:Assets written to: models/conv_nn-no_diff_features-s300-p4/assets\n"
     ]
    },
    {
     "name": "stdout",
     "output_type": "stream",
     "text": [
      "219/219 [==============================] - 0s 599us/step\n"
     ]
    },
    {
     "name": "stderr",
     "output_type": "stream",
     "text": [
      "WARNING:absl:Found untraced functions such as _jit_compiled_convolution_op while saving (showing 1 of 1). These functions will not be directly callable after loading.\n"
     ]
    },
    {
     "name": "stdout",
     "output_type": "stream",
     "text": [
      "INFO:tensorflow:Assets written to: ram://984f0360-486a-4fad-816e-c9b8cbfa03de/assets\n"
     ]
    },
    {
     "name": "stderr",
     "output_type": "stream",
     "text": [
      "INFO:tensorflow:Assets written to: ram://984f0360-486a-4fad-816e-c9b8cbfa03de/assets\n",
      "WARNING:absl:Found untraced functions such as _jit_compiled_convolution_op while saving (showing 1 of 1). These functions will not be directly callable after loading.\n"
     ]
    },
    {
     "name": "stdout",
     "output_type": "stream",
     "text": [
      "INFO:tensorflow:Assets written to: models/conv_nn-no_diff_features-s300-p5/assets\n"
     ]
    },
    {
     "name": "stderr",
     "output_type": "stream",
     "text": [
      "INFO:tensorflow:Assets written to: models/conv_nn-no_diff_features-s300-p5/assets\n"
     ]
    },
    {
     "name": "stdout",
     "output_type": "stream",
     "text": [
      "219/219 [==============================] - 0s 636us/step\n"
     ]
    },
    {
     "name": "stderr",
     "output_type": "stream",
     "text": [
      "WARNING:absl:Found untraced functions such as _jit_compiled_convolution_op while saving (showing 1 of 1). These functions will not be directly callable after loading.\n"
     ]
    },
    {
     "name": "stdout",
     "output_type": "stream",
     "text": [
      "INFO:tensorflow:Assets written to: ram://8a339410-abee-4511-94c2-bbb51c37c70f/assets\n"
     ]
    },
    {
     "name": "stderr",
     "output_type": "stream",
     "text": [
      "INFO:tensorflow:Assets written to: ram://8a339410-abee-4511-94c2-bbb51c37c70f/assets\n",
      "WARNING:absl:Found untraced functions such as _jit_compiled_convolution_op while saving (showing 1 of 1). These functions will not be directly callable after loading.\n"
     ]
    },
    {
     "name": "stdout",
     "output_type": "stream",
     "text": [
      "INFO:tensorflow:Assets written to: models/conv_nn-no_diff_features-s300-p6/assets\n"
     ]
    },
    {
     "name": "stderr",
     "output_type": "stream",
     "text": [
      "INFO:tensorflow:Assets written to: models/conv_nn-no_diff_features-s300-p6/assets\n"
     ]
    },
    {
     "name": "stdout",
     "output_type": "stream",
     "text": [
      "219/219 [==============================] - 0s 668us/step\n"
     ]
    },
    {
     "name": "stderr",
     "output_type": "stream",
     "text": [
      "WARNING:absl:Found untraced functions such as _jit_compiled_convolution_op while saving (showing 1 of 1). These functions will not be directly callable after loading.\n"
     ]
    },
    {
     "name": "stdout",
     "output_type": "stream",
     "text": [
      "INFO:tensorflow:Assets written to: ram://2208f34a-d362-468c-a81a-8f89f93ed5cc/assets\n"
     ]
    },
    {
     "name": "stderr",
     "output_type": "stream",
     "text": [
      "INFO:tensorflow:Assets written to: ram://2208f34a-d362-468c-a81a-8f89f93ed5cc/assets\n",
      "WARNING:absl:Found untraced functions such as _jit_compiled_convolution_op while saving (showing 1 of 1). These functions will not be directly callable after loading.\n"
     ]
    },
    {
     "name": "stdout",
     "output_type": "stream",
     "text": [
      "INFO:tensorflow:Assets written to: models/conv_nn-no_diff_features-s300-p7/assets\n"
     ]
    },
    {
     "name": "stderr",
     "output_type": "stream",
     "text": [
      "INFO:tensorflow:Assets written to: models/conv_nn-no_diff_features-s300-p7/assets\n"
     ]
    },
    {
     "name": "stdout",
     "output_type": "stream",
     "text": [
      "219/219 [==============================] - 0s 599us/step\n"
     ]
    },
    {
     "name": "stderr",
     "output_type": "stream",
     "text": [
      "WARNING:absl:Found untraced functions such as _jit_compiled_convolution_op while saving (showing 1 of 1). These functions will not be directly callable after loading.\n"
     ]
    },
    {
     "name": "stdout",
     "output_type": "stream",
     "text": [
      "INFO:tensorflow:Assets written to: ram://051a6189-89b4-40ba-8335-6554ad55860c/assets\n"
     ]
    },
    {
     "name": "stderr",
     "output_type": "stream",
     "text": [
      "INFO:tensorflow:Assets written to: ram://051a6189-89b4-40ba-8335-6554ad55860c/assets\n",
      "WARNING:absl:Found untraced functions such as _jit_compiled_convolution_op while saving (showing 1 of 1). These functions will not be directly callable after loading.\n"
     ]
    },
    {
     "name": "stdout",
     "output_type": "stream",
     "text": [
      "INFO:tensorflow:Assets written to: models/conv_nn-no_diff_features-s300-p8/assets\n"
     ]
    },
    {
     "name": "stderr",
     "output_type": "stream",
     "text": [
      "INFO:tensorflow:Assets written to: models/conv_nn-no_diff_features-s300-p8/assets\n"
     ]
    },
    {
     "name": "stdout",
     "output_type": "stream",
     "text": [
      "219/219 [==============================] - 0s 650us/step\n"
     ]
    },
    {
     "name": "stderr",
     "output_type": "stream",
     "text": [
      "WARNING:absl:Found untraced functions such as _jit_compiled_convolution_op while saving (showing 1 of 1). These functions will not be directly callable after loading.\n"
     ]
    },
    {
     "name": "stdout",
     "output_type": "stream",
     "text": [
      "INFO:tensorflow:Assets written to: ram://559dc521-2648-41e0-bdae-6663d70be4c8/assets\n"
     ]
    },
    {
     "name": "stderr",
     "output_type": "stream",
     "text": [
      "INFO:tensorflow:Assets written to: ram://559dc521-2648-41e0-bdae-6663d70be4c8/assets\n",
      "WARNING:absl:Found untraced functions such as _jit_compiled_convolution_op while saving (showing 1 of 1). These functions will not be directly callable after loading.\n"
     ]
    },
    {
     "name": "stdout",
     "output_type": "stream",
     "text": [
      "INFO:tensorflow:Assets written to: models/conv_nn-no_diff_features-s300-p9/assets\n"
     ]
    },
    {
     "name": "stderr",
     "output_type": "stream",
     "text": [
      "INFO:tensorflow:Assets written to: models/conv_nn-no_diff_features-s300-p9/assets\n"
     ]
    },
    {
     "name": "stdout",
     "output_type": "stream",
     "text": [
      "219/219 [==============================] - 0s 664us/step\n"
     ]
    },
    {
     "name": "stderr",
     "output_type": "stream",
     "text": [
      "WARNING:absl:Found untraced functions such as _jit_compiled_convolution_op while saving (showing 1 of 1). These functions will not be directly callable after loading.\n"
     ]
    },
    {
     "name": "stdout",
     "output_type": "stream",
     "text": [
      "INFO:tensorflow:Assets written to: ram://b2367696-1c6a-451b-aa93-66663e627c7e/assets\n"
     ]
    },
    {
     "name": "stderr",
     "output_type": "stream",
     "text": [
      "INFO:tensorflow:Assets written to: ram://b2367696-1c6a-451b-aa93-66663e627c7e/assets\n",
      "WARNING:absl:Found untraced functions such as _jit_compiled_convolution_op while saving (showing 1 of 1). These functions will not be directly callable after loading.\n"
     ]
    },
    {
     "name": "stdout",
     "output_type": "stream",
     "text": [
      "INFO:tensorflow:Assets written to: models/conv_nn-no_diff_features-s300-p10/assets\n"
     ]
    },
    {
     "name": "stderr",
     "output_type": "stream",
     "text": [
      "INFO:tensorflow:Assets written to: models/conv_nn-no_diff_features-s300-p10/assets\n"
     ]
    },
    {
     "name": "stdout",
     "output_type": "stream",
     "text": [
      "220/220 [==============================] - 0s 606us/step\n"
     ]
    },
    {
     "name": "stderr",
     "output_type": "stream",
     "text": [
      "WARNING:absl:Found untraced functions such as _jit_compiled_convolution_op while saving (showing 1 of 1). These functions will not be directly callable after loading.\n"
     ]
    },
    {
     "name": "stdout",
     "output_type": "stream",
     "text": [
      "INFO:tensorflow:Assets written to: ram://698f3dae-6dc8-4cef-bb59-b520ec0b788c/assets\n"
     ]
    },
    {
     "name": "stderr",
     "output_type": "stream",
     "text": [
      "INFO:tensorflow:Assets written to: ram://698f3dae-6dc8-4cef-bb59-b520ec0b788c/assets\n",
      "WARNING:absl:Found untraced functions such as _jit_compiled_convolution_op while saving (showing 1 of 1). These functions will not be directly callable after loading.\n"
     ]
    },
    {
     "name": "stdout",
     "output_type": "stream",
     "text": [
      "INFO:tensorflow:Assets written to: models/conv_nn-diff_features-s300-p0/assets\n"
     ]
    },
    {
     "name": "stderr",
     "output_type": "stream",
     "text": [
      "INFO:tensorflow:Assets written to: models/conv_nn-diff_features-s300-p0/assets\n"
     ]
    },
    {
     "name": "stdout",
     "output_type": "stream",
     "text": [
      "220/220 [==============================] - 0s 549us/step\n"
     ]
    },
    {
     "name": "stderr",
     "output_type": "stream",
     "text": [
      "WARNING:absl:Found untraced functions such as _jit_compiled_convolution_op while saving (showing 1 of 1). These functions will not be directly callable after loading.\n"
     ]
    },
    {
     "name": "stdout",
     "output_type": "stream",
     "text": [
      "INFO:tensorflow:Assets written to: ram://256ef11e-c4b1-411a-9fbe-94e6c2dbb021/assets\n"
     ]
    },
    {
     "name": "stderr",
     "output_type": "stream",
     "text": [
      "INFO:tensorflow:Assets written to: ram://256ef11e-c4b1-411a-9fbe-94e6c2dbb021/assets\n",
      "WARNING:absl:Found untraced functions such as _jit_compiled_convolution_op while saving (showing 1 of 1). These functions will not be directly callable after loading.\n"
     ]
    },
    {
     "name": "stdout",
     "output_type": "stream",
     "text": [
      "INFO:tensorflow:Assets written to: models/conv_nn-diff_features-s300-p1/assets\n"
     ]
    },
    {
     "name": "stderr",
     "output_type": "stream",
     "text": [
      "INFO:tensorflow:Assets written to: models/conv_nn-diff_features-s300-p1/assets\n"
     ]
    },
    {
     "name": "stdout",
     "output_type": "stream",
     "text": [
      "220/220 [==============================] - 0s 529us/step\n"
     ]
    },
    {
     "name": "stderr",
     "output_type": "stream",
     "text": [
      "WARNING:absl:Found untraced functions such as _jit_compiled_convolution_op while saving (showing 1 of 1). These functions will not be directly callable after loading.\n"
     ]
    },
    {
     "name": "stdout",
     "output_type": "stream",
     "text": [
      "INFO:tensorflow:Assets written to: ram://4477575b-4cf5-45e5-9fd2-eb2fb3e7723a/assets\n"
     ]
    },
    {
     "name": "stderr",
     "output_type": "stream",
     "text": [
      "INFO:tensorflow:Assets written to: ram://4477575b-4cf5-45e5-9fd2-eb2fb3e7723a/assets\n",
      "WARNING:absl:Found untraced functions such as _jit_compiled_convolution_op while saving (showing 1 of 1). These functions will not be directly callable after loading.\n"
     ]
    },
    {
     "name": "stdout",
     "output_type": "stream",
     "text": [
      "INFO:tensorflow:Assets written to: models/conv_nn-diff_features-s300-p2/assets\n"
     ]
    },
    {
     "name": "stderr",
     "output_type": "stream",
     "text": [
      "INFO:tensorflow:Assets written to: models/conv_nn-diff_features-s300-p2/assets\n"
     ]
    },
    {
     "name": "stdout",
     "output_type": "stream",
     "text": [
      "220/220 [==============================] - 0s 562us/step\n"
     ]
    },
    {
     "name": "stderr",
     "output_type": "stream",
     "text": [
      "WARNING:absl:Found untraced functions such as _jit_compiled_convolution_op while saving (showing 1 of 1). These functions will not be directly callable after loading.\n"
     ]
    },
    {
     "name": "stdout",
     "output_type": "stream",
     "text": [
      "INFO:tensorflow:Assets written to: ram://93315c97-2277-4e53-b187-c4d264498b8f/assets\n"
     ]
    },
    {
     "name": "stderr",
     "output_type": "stream",
     "text": [
      "INFO:tensorflow:Assets written to: ram://93315c97-2277-4e53-b187-c4d264498b8f/assets\n",
      "WARNING:absl:Found untraced functions such as _jit_compiled_convolution_op while saving (showing 1 of 1). These functions will not be directly callable after loading.\n"
     ]
    },
    {
     "name": "stdout",
     "output_type": "stream",
     "text": [
      "INFO:tensorflow:Assets written to: models/conv_nn-diff_features-s300-p3/assets\n"
     ]
    },
    {
     "name": "stderr",
     "output_type": "stream",
     "text": [
      "INFO:tensorflow:Assets written to: models/conv_nn-diff_features-s300-p3/assets\n"
     ]
    },
    {
     "name": "stdout",
     "output_type": "stream",
     "text": [
      "220/220 [==============================] - 0s 555us/step\n"
     ]
    },
    {
     "name": "stderr",
     "output_type": "stream",
     "text": [
      "WARNING:absl:Found untraced functions such as _jit_compiled_convolution_op while saving (showing 1 of 1). These functions will not be directly callable after loading.\n"
     ]
    },
    {
     "name": "stdout",
     "output_type": "stream",
     "text": [
      "INFO:tensorflow:Assets written to: ram://94b28579-b884-416c-8182-fa09f9209c03/assets\n"
     ]
    },
    {
     "name": "stderr",
     "output_type": "stream",
     "text": [
      "INFO:tensorflow:Assets written to: ram://94b28579-b884-416c-8182-fa09f9209c03/assets\n",
      "WARNING:absl:Found untraced functions such as _jit_compiled_convolution_op while saving (showing 1 of 1). These functions will not be directly callable after loading.\n"
     ]
    },
    {
     "name": "stdout",
     "output_type": "stream",
     "text": [
      "INFO:tensorflow:Assets written to: models/conv_nn-diff_features-s300-p4/assets\n"
     ]
    },
    {
     "name": "stderr",
     "output_type": "stream",
     "text": [
      "INFO:tensorflow:Assets written to: models/conv_nn-diff_features-s300-p4/assets\n"
     ]
    },
    {
     "name": "stdout",
     "output_type": "stream",
     "text": [
      "219/219 [==============================] - 0s 620us/step\n"
     ]
    },
    {
     "name": "stderr",
     "output_type": "stream",
     "text": [
      "WARNING:absl:Found untraced functions such as _jit_compiled_convolution_op while saving (showing 1 of 1). These functions will not be directly callable after loading.\n"
     ]
    },
    {
     "name": "stdout",
     "output_type": "stream",
     "text": [
      "INFO:tensorflow:Assets written to: ram://6cbfc48b-305a-47f0-8cc4-6add8d3ef292/assets\n"
     ]
    },
    {
     "name": "stderr",
     "output_type": "stream",
     "text": [
      "INFO:tensorflow:Assets written to: ram://6cbfc48b-305a-47f0-8cc4-6add8d3ef292/assets\n",
      "WARNING:absl:Found untraced functions such as _jit_compiled_convolution_op while saving (showing 1 of 1). These functions will not be directly callable after loading.\n"
     ]
    },
    {
     "name": "stdout",
     "output_type": "stream",
     "text": [
      "INFO:tensorflow:Assets written to: models/conv_nn-diff_features-s300-p5/assets\n"
     ]
    },
    {
     "name": "stderr",
     "output_type": "stream",
     "text": [
      "INFO:tensorflow:Assets written to: models/conv_nn-diff_features-s300-p5/assets\n"
     ]
    },
    {
     "name": "stdout",
     "output_type": "stream",
     "text": [
      "219/219 [==============================] - 0s 650us/step\n"
     ]
    },
    {
     "name": "stderr",
     "output_type": "stream",
     "text": [
      "WARNING:absl:Found untraced functions such as _jit_compiled_convolution_op while saving (showing 1 of 1). These functions will not be directly callable after loading.\n"
     ]
    },
    {
     "name": "stdout",
     "output_type": "stream",
     "text": [
      "INFO:tensorflow:Assets written to: ram://639f93c9-a4bb-486b-bb43-6a6f7ac0884d/assets\n"
     ]
    },
    {
     "name": "stderr",
     "output_type": "stream",
     "text": [
      "INFO:tensorflow:Assets written to: ram://639f93c9-a4bb-486b-bb43-6a6f7ac0884d/assets\n",
      "WARNING:absl:Found untraced functions such as _jit_compiled_convolution_op while saving (showing 1 of 1). These functions will not be directly callable after loading.\n"
     ]
    },
    {
     "name": "stdout",
     "output_type": "stream",
     "text": [
      "INFO:tensorflow:Assets written to: models/conv_nn-diff_features-s300-p6/assets\n"
     ]
    },
    {
     "name": "stderr",
     "output_type": "stream",
     "text": [
      "INFO:tensorflow:Assets written to: models/conv_nn-diff_features-s300-p6/assets\n"
     ]
    },
    {
     "name": "stdout",
     "output_type": "stream",
     "text": [
      "219/219 [==============================] - 0s 667us/step\n"
     ]
    },
    {
     "name": "stderr",
     "output_type": "stream",
     "text": [
      "WARNING:absl:Found untraced functions such as _jit_compiled_convolution_op while saving (showing 1 of 1). These functions will not be directly callable after loading.\n"
     ]
    },
    {
     "name": "stdout",
     "output_type": "stream",
     "text": [
      "INFO:tensorflow:Assets written to: ram://ab802958-e51a-4947-a9be-addcb95396a3/assets\n"
     ]
    },
    {
     "name": "stderr",
     "output_type": "stream",
     "text": [
      "INFO:tensorflow:Assets written to: ram://ab802958-e51a-4947-a9be-addcb95396a3/assets\n",
      "WARNING:absl:Found untraced functions such as _jit_compiled_convolution_op while saving (showing 1 of 1). These functions will not be directly callable after loading.\n"
     ]
    },
    {
     "name": "stdout",
     "output_type": "stream",
     "text": [
      "INFO:tensorflow:Assets written to: models/conv_nn-diff_features-s300-p7/assets\n"
     ]
    },
    {
     "name": "stderr",
     "output_type": "stream",
     "text": [
      "INFO:tensorflow:Assets written to: models/conv_nn-diff_features-s300-p7/assets\n"
     ]
    },
    {
     "name": "stdout",
     "output_type": "stream",
     "text": [
      "219/219 [==============================] - 0s 583us/step\n"
     ]
    },
    {
     "name": "stderr",
     "output_type": "stream",
     "text": [
      "WARNING:absl:Found untraced functions such as _jit_compiled_convolution_op while saving (showing 1 of 1). These functions will not be directly callable after loading.\n"
     ]
    },
    {
     "name": "stdout",
     "output_type": "stream",
     "text": [
      "INFO:tensorflow:Assets written to: ram://c4d3d628-7b86-4cfd-b3fc-6ce32579274f/assets\n"
     ]
    },
    {
     "name": "stderr",
     "output_type": "stream",
     "text": [
      "INFO:tensorflow:Assets written to: ram://c4d3d628-7b86-4cfd-b3fc-6ce32579274f/assets\n",
      "WARNING:absl:Found untraced functions such as _jit_compiled_convolution_op while saving (showing 1 of 1). These functions will not be directly callable after loading.\n"
     ]
    },
    {
     "name": "stdout",
     "output_type": "stream",
     "text": [
      "INFO:tensorflow:Assets written to: models/conv_nn-diff_features-s300-p8/assets\n"
     ]
    },
    {
     "name": "stderr",
     "output_type": "stream",
     "text": [
      "INFO:tensorflow:Assets written to: models/conv_nn-diff_features-s300-p8/assets\n"
     ]
    },
    {
     "name": "stdout",
     "output_type": "stream",
     "text": [
      "219/219 [==============================] - 0s 636us/step\n"
     ]
    },
    {
     "name": "stderr",
     "output_type": "stream",
     "text": [
      "WARNING:absl:Found untraced functions such as _jit_compiled_convolution_op while saving (showing 1 of 1). These functions will not be directly callable after loading.\n"
     ]
    },
    {
     "name": "stdout",
     "output_type": "stream",
     "text": [
      "INFO:tensorflow:Assets written to: ram://3f944655-afa3-4583-b8bd-02823950a217/assets\n"
     ]
    },
    {
     "name": "stderr",
     "output_type": "stream",
     "text": [
      "INFO:tensorflow:Assets written to: ram://3f944655-afa3-4583-b8bd-02823950a217/assets\n",
      "WARNING:absl:Found untraced functions such as _jit_compiled_convolution_op while saving (showing 1 of 1). These functions will not be directly callable after loading.\n"
     ]
    },
    {
     "name": "stdout",
     "output_type": "stream",
     "text": [
      "INFO:tensorflow:Assets written to: models/conv_nn-diff_features-s300-p9/assets\n"
     ]
    },
    {
     "name": "stderr",
     "output_type": "stream",
     "text": [
      "INFO:tensorflow:Assets written to: models/conv_nn-diff_features-s300-p9/assets\n"
     ]
    },
    {
     "name": "stdout",
     "output_type": "stream",
     "text": [
      "219/219 [==============================] - 0s 653us/step\n"
     ]
    },
    {
     "name": "stderr",
     "output_type": "stream",
     "text": [
      "WARNING:absl:Found untraced functions such as _jit_compiled_convolution_op while saving (showing 1 of 1). These functions will not be directly callable after loading.\n"
     ]
    },
    {
     "name": "stdout",
     "output_type": "stream",
     "text": [
      "INFO:tensorflow:Assets written to: ram://5062f2fd-19a4-4ada-aa66-68edbba63cec/assets\n"
     ]
    },
    {
     "name": "stderr",
     "output_type": "stream",
     "text": [
      "INFO:tensorflow:Assets written to: ram://5062f2fd-19a4-4ada-aa66-68edbba63cec/assets\n",
      "WARNING:absl:Found untraced functions such as _jit_compiled_convolution_op while saving (showing 1 of 1). These functions will not be directly callable after loading.\n"
     ]
    },
    {
     "name": "stdout",
     "output_type": "stream",
     "text": [
      "INFO:tensorflow:Assets written to: models/conv_nn-diff_features-s300-p10/assets\n"
     ]
    },
    {
     "name": "stderr",
     "output_type": "stream",
     "text": [
      "INFO:tensorflow:Assets written to: models/conv_nn-diff_features-s300-p10/assets\n"
     ]
    }
   ],
   "source": [
    "for seed in seeds:\n",
    "    for columns in features:\n",
    "        for params_idx, params in enumerate(params_cnn):\n",
    "            \n",
    "            set_determinism(seed)\n",
    "            \n",
    "            traning_set_cnn, validation_set_cnn = build_dataset_for_ml_model(df, training_columns=features[columns], as_list=True)\n",
    "            tr_sw, tr_sw_r = sliding_window_by_fault(traning_set_cnn, features[columns], params[\"w_len\"])\n",
    "            val_sw, val_sw_r = sliding_window_by_fault(validation_set_cnn, features[columns], params[\"w_len\"])\n",
    "            counts_cnn = pd.Series(tr_sw_r).value_counts(normalize=True)\n",
    "            class_weight_cnn = {0: 1/counts_cnn[0], 1: 1/counts_cnn[1]}\n",
    "\n",
    "            input_size_cnn = tr_sw[0].shape[1]\n",
    "            cnn = build_cnn_regressor(input_size=input_size_cnn, filters=params[\"filters\"],\n",
    "                                      kernel_size=params[\"kernel_size\"], hidden=params[\"hidden\"], w_len=params[\"w_len\"])\n",
    "            cnn.compile(optimizer=keras.optimizers.Adam(learning_rate=learning_rate), \n",
    "                        loss='binary_crossentropy')\n",
    "            cb_cnn = [callbacks.EarlyStopping(patience=patience, restore_best_weights=True)]\n",
    "            history_cnn = cnn.fit(tr_sw, tr_sw_r, validation_split=validation_split,\n",
    "                                  callbacks=cb_cnn,\n",
    "                                  class_weight=class_weight_cnn,\n",
    "                                  batch_size=batch_size, epochs=epochs, verbose=0)\n",
    "            \n",
    "            preds_cnn = cnn.predict(val_sw).ravel()\n",
    "            \n",
    "            signal_cnn = pd.Series(data=(1 - preds_cnn))\n",
    "            rul_cnn = val_sw_r\n",
    "\n",
    "            best_cost_cnn, best_thr_cnn, all_cost_cnn, all_thr_cnn = threshold_optimization(signal_cnn, rul_cnn, start=0, end=signal_cnn.max(), n_steps=200)\n",
    "            \n",
    "            perf_cnn = performance_evaluation(signal_cnn, best_thr_cnn, rul_cnn)\n",
    "            all_perf.append([\"conv_nn\", seed, columns, params] + perf_cnn)\n",
    "            \n",
    "            serialize_perf(\"conv_nn\", seed=seed, columns_name=columns, training_columns=features[columns], \n",
    "                           params=params, params_idx=params_idx, history=history_cnn, best_cost=best_cost_cnn, best_thr=best_thr_cnn, \n",
    "                           all_cost=all_cost_cnn, all_thr=all_thr_cnn, perf=perf_cnn)\n",
    "            \n",
    "            cnn.save(models_path + \"conv_nn\" + \"-\" + columns + \"-s\" + str(seed) + \"-p\" + str(params_idx))"
   ]
  },
  {
   "cell_type": "markdown",
   "id": "94a9cffd",
   "metadata": {},
   "source": [
    "## RUL estimation with Recurrent Neural Networks (LSTM and GRU)"
   ]
  },
  {
   "cell_type": "code",
   "execution_count": 29,
   "id": "346264c9",
   "metadata": {},
   "outputs": [],
   "source": [
    "def create_dataset_3D(X, y, time_steps):\n",
    "    Xs, ys = [], []\n",
    "    for i in range(len(X)-time_steps):\n",
    "        v = X[i:i+time_steps, :]\n",
    "        Xs.append(v)\n",
    "        ys.append(y[i+time_steps])\n",
    "    return np.array(Xs), np.array(ys).reshape(-1, 1)"
   ]
  },
  {
   "cell_type": "code",
   "execution_count": 30,
   "id": "c76c2161",
   "metadata": {},
   "outputs": [],
   "source": [
    "def create_model_cl(units, m, X_train, lr):\n",
    "    model = keras.Sequential()\n",
    "    model.add(m(units=units, return_sequences=True,\n",
    "                input_shape=[X_train.shape[1], X_train.shape[2]]))\n",
    "    model.add(m(units=units))\n",
    "    model.add(keras.layers.Dense(units=1, activation=\"sigmoid\"))\n",
    "    model.compile(loss='binary_crossentropy', \n",
    "                  optimizer=keras.optimizers.Adam(learning_rate=lr))\n",
    "    return model"
   ]
  },
  {
   "cell_type": "code",
   "execution_count": 31,
   "id": "74bbcf5a",
   "metadata": {},
   "outputs": [],
   "source": [
    "params_rnn = [{\"time_steps\": 5, \"units\": 64},\n",
    "              {\"time_steps\": 5, \"units\": 128},\n",
    "              {\"time_steps\": 10, \"units\": 64},\n",
    "              {\"time_steps\": 10, \"units\": 128}]"
   ]
  },
  {
   "cell_type": "code",
   "execution_count": 32,
   "id": "040e5782",
   "metadata": {},
   "outputs": [
    {
     "name": "stdout",
     "output_type": "stream",
     "text": [
      "Epoch 1/3\n",
      "657/657 [==============================] - 4s 3ms/step - loss: 0.9000 - val_loss: 0.7056\n",
      "Epoch 2/3\n",
      "657/657 [==============================] - 1s 2ms/step - loss: 0.6320 - val_loss: 0.5254\n",
      "Epoch 3/3\n",
      "657/657 [==============================] - 1s 2ms/step - loss: 0.4608 - val_loss: 0.3561\n",
      "221/221 [==============================] - 1s 970us/step\n",
      "221/221 [==============================] - 1s 931us/step\n"
     ]
    },
    {
     "name": "stderr",
     "output_type": "stream",
     "text": [
      "WARNING:absl:Found untraced functions such as lstm_cell_layer_call_fn, lstm_cell_layer_call_and_return_conditional_losses, lstm_cell_1_layer_call_fn, lstm_cell_1_layer_call_and_return_conditional_losses while saving (showing 4 of 4). These functions will not be directly callable after loading.\n"
     ]
    },
    {
     "name": "stdout",
     "output_type": "stream",
     "text": [
      "INFO:tensorflow:Assets written to: ram://7377962c-17aa-4e06-b68f-f3fbbad5a4e5/assets\n"
     ]
    },
    {
     "name": "stderr",
     "output_type": "stream",
     "text": [
      "INFO:tensorflow:Assets written to: ram://7377962c-17aa-4e06-b68f-f3fbbad5a4e5/assets\n",
      "WARNING:absl:Found untraced functions such as lstm_cell_layer_call_fn, lstm_cell_layer_call_and_return_conditional_losses, lstm_cell_1_layer_call_fn, lstm_cell_1_layer_call_and_return_conditional_losses while saving (showing 4 of 4). These functions will not be directly callable after loading.\n"
     ]
    },
    {
     "name": "stdout",
     "output_type": "stream",
     "text": [
      "INFO:tensorflow:Assets written to: models/lstm-all_features-s100-p0/assets\n"
     ]
    },
    {
     "name": "stderr",
     "output_type": "stream",
     "text": [
      "INFO:tensorflow:Assets written to: models/lstm-all_features-s100-p0/assets\n",
      "WARNING:absl:Found untraced functions such as gru_cell_layer_call_fn, gru_cell_layer_call_and_return_conditional_losses, gru_cell_1_layer_call_fn, gru_cell_1_layer_call_and_return_conditional_losses while saving (showing 4 of 4). These functions will not be directly callable after loading.\n"
     ]
    },
    {
     "name": "stdout",
     "output_type": "stream",
     "text": [
      "INFO:tensorflow:Assets written to: ram://5bf05e3b-f2f3-482b-820e-063d6eb225d6/assets\n"
     ]
    },
    {
     "name": "stderr",
     "output_type": "stream",
     "text": [
      "INFO:tensorflow:Assets written to: ram://5bf05e3b-f2f3-482b-820e-063d6eb225d6/assets\n",
      "WARNING:absl:Found untraced functions such as gru_cell_layer_call_fn, gru_cell_layer_call_and_return_conditional_losses, gru_cell_1_layer_call_fn, gru_cell_1_layer_call_and_return_conditional_losses while saving (showing 4 of 4). These functions will not be directly callable after loading.\n"
     ]
    },
    {
     "name": "stdout",
     "output_type": "stream",
     "text": [
      "INFO:tensorflow:Assets written to: models/gru-all_features-s100-p0/assets\n"
     ]
    },
    {
     "name": "stderr",
     "output_type": "stream",
     "text": [
      "INFO:tensorflow:Assets written to: models/gru-all_features-s100-p0/assets\n"
     ]
    },
    {
     "name": "stdout",
     "output_type": "stream",
     "text": [
      "Epoch 1/3\n",
      "657/657 [==============================] - 3s 3ms/step - loss: 0.8509 - val_loss: 0.6316\n",
      "Epoch 2/3\n",
      "657/657 [==============================] - 1s 2ms/step - loss: 0.5135 - val_loss: 0.3940\n",
      "Epoch 3/3\n",
      "657/657 [==============================] - 1s 2ms/step - loss: 0.3243 - val_loss: 0.2366\n",
      "221/221 [==============================] - 1s 1ms/step\n",
      "221/221 [==============================] - 1s 940us/step\n"
     ]
    },
    {
     "name": "stderr",
     "output_type": "stream",
     "text": [
      "WARNING:absl:Found untraced functions such as lstm_cell_2_layer_call_fn, lstm_cell_2_layer_call_and_return_conditional_losses, lstm_cell_3_layer_call_fn, lstm_cell_3_layer_call_and_return_conditional_losses while saving (showing 4 of 4). These functions will not be directly callable after loading.\n"
     ]
    },
    {
     "name": "stdout",
     "output_type": "stream",
     "text": [
      "INFO:tensorflow:Assets written to: ram://ead6ce48-87da-4415-9cd2-141c32412587/assets\n"
     ]
    },
    {
     "name": "stderr",
     "output_type": "stream",
     "text": [
      "INFO:tensorflow:Assets written to: ram://ead6ce48-87da-4415-9cd2-141c32412587/assets\n",
      "WARNING:absl:Found untraced functions such as lstm_cell_2_layer_call_fn, lstm_cell_2_layer_call_and_return_conditional_losses, lstm_cell_3_layer_call_fn, lstm_cell_3_layer_call_and_return_conditional_losses while saving (showing 4 of 4). These functions will not be directly callable after loading.\n"
     ]
    },
    {
     "name": "stdout",
     "output_type": "stream",
     "text": [
      "INFO:tensorflow:Assets written to: models/lstm-all_features-s100-p1/assets\n"
     ]
    },
    {
     "name": "stderr",
     "output_type": "stream",
     "text": [
      "INFO:tensorflow:Assets written to: models/lstm-all_features-s100-p1/assets\n",
      "WARNING:absl:Found untraced functions such as gru_cell_2_layer_call_fn, gru_cell_2_layer_call_and_return_conditional_losses, gru_cell_3_layer_call_fn, gru_cell_3_layer_call_and_return_conditional_losses while saving (showing 4 of 4). These functions will not be directly callable after loading.\n"
     ]
    },
    {
     "name": "stdout",
     "output_type": "stream",
     "text": [
      "INFO:tensorflow:Assets written to: ram://82e300a8-04ee-4824-84c8-80f4a701ae2c/assets\n"
     ]
    },
    {
     "name": "stderr",
     "output_type": "stream",
     "text": [
      "INFO:tensorflow:Assets written to: ram://82e300a8-04ee-4824-84c8-80f4a701ae2c/assets\n",
      "WARNING:absl:Found untraced functions such as gru_cell_2_layer_call_fn, gru_cell_2_layer_call_and_return_conditional_losses, gru_cell_3_layer_call_fn, gru_cell_3_layer_call_and_return_conditional_losses while saving (showing 4 of 4). These functions will not be directly callable after loading.\n"
     ]
    },
    {
     "name": "stdout",
     "output_type": "stream",
     "text": [
      "INFO:tensorflow:Assets written to: models/gru-all_features-s100-p1/assets\n"
     ]
    },
    {
     "name": "stderr",
     "output_type": "stream",
     "text": [
      "INFO:tensorflow:Assets written to: models/gru-all_features-s100-p1/assets\n"
     ]
    },
    {
     "name": "stdout",
     "output_type": "stream",
     "text": [
      "Epoch 1/3\n",
      "657/657 [==============================] - 3s 3ms/step - loss: 0.9074 - val_loss: 0.7303\n",
      "Epoch 2/3\n",
      "657/657 [==============================] - 2s 2ms/step - loss: 0.6214 - val_loss: 0.5244\n",
      "Epoch 3/3\n",
      "657/657 [==============================] - 2s 2ms/step - loss: 0.4207 - val_loss: 0.3221\n",
      "221/221 [==============================] - 1s 1ms/step\n",
      "221/221 [==============================] - 1s 1ms/step\n"
     ]
    },
    {
     "name": "stderr",
     "output_type": "stream",
     "text": [
      "WARNING:absl:Found untraced functions such as lstm_cell_4_layer_call_fn, lstm_cell_4_layer_call_and_return_conditional_losses, lstm_cell_5_layer_call_fn, lstm_cell_5_layer_call_and_return_conditional_losses while saving (showing 4 of 4). These functions will not be directly callable after loading.\n"
     ]
    },
    {
     "name": "stdout",
     "output_type": "stream",
     "text": [
      "INFO:tensorflow:Assets written to: ram://230d4e8a-48c9-4365-8b32-1419fd0fd489/assets\n"
     ]
    },
    {
     "name": "stderr",
     "output_type": "stream",
     "text": [
      "INFO:tensorflow:Assets written to: ram://230d4e8a-48c9-4365-8b32-1419fd0fd489/assets\n",
      "WARNING:absl:Found untraced functions such as lstm_cell_4_layer_call_fn, lstm_cell_4_layer_call_and_return_conditional_losses, lstm_cell_5_layer_call_fn, lstm_cell_5_layer_call_and_return_conditional_losses while saving (showing 4 of 4). These functions will not be directly callable after loading.\n"
     ]
    },
    {
     "name": "stdout",
     "output_type": "stream",
     "text": [
      "INFO:tensorflow:Assets written to: models/lstm-all_features-s100-p2/assets\n"
     ]
    },
    {
     "name": "stderr",
     "output_type": "stream",
     "text": [
      "INFO:tensorflow:Assets written to: models/lstm-all_features-s100-p2/assets\n",
      "WARNING:absl:Found untraced functions such as gru_cell_4_layer_call_fn, gru_cell_4_layer_call_and_return_conditional_losses, gru_cell_5_layer_call_fn, gru_cell_5_layer_call_and_return_conditional_losses while saving (showing 4 of 4). These functions will not be directly callable after loading.\n"
     ]
    },
    {
     "name": "stdout",
     "output_type": "stream",
     "text": [
      "INFO:tensorflow:Assets written to: ram://1ffb0848-1f3e-4ef5-be38-5aba89e57774/assets\n"
     ]
    },
    {
     "name": "stderr",
     "output_type": "stream",
     "text": [
      "INFO:tensorflow:Assets written to: ram://1ffb0848-1f3e-4ef5-be38-5aba89e57774/assets\n",
      "WARNING:absl:Found untraced functions such as gru_cell_4_layer_call_fn, gru_cell_4_layer_call_and_return_conditional_losses, gru_cell_5_layer_call_fn, gru_cell_5_layer_call_and_return_conditional_losses while saving (showing 4 of 4). These functions will not be directly callable after loading.\n"
     ]
    },
    {
     "name": "stdout",
     "output_type": "stream",
     "text": [
      "INFO:tensorflow:Assets written to: models/gru-all_features-s100-p2/assets\n"
     ]
    },
    {
     "name": "stderr",
     "output_type": "stream",
     "text": [
      "INFO:tensorflow:Assets written to: models/gru-all_features-s100-p2/assets\n"
     ]
    },
    {
     "name": "stdout",
     "output_type": "stream",
     "text": [
      "Epoch 1/3\n",
      "657/657 [==============================] - 3s 3ms/step - loss: 0.8548 - val_loss: 0.6308\n",
      "Epoch 2/3\n",
      "657/657 [==============================] - 2s 2ms/step - loss: 0.4801 - val_loss: 0.3468\n",
      "Epoch 3/3\n",
      "657/657 [==============================] - 2s 2ms/step - loss: 0.2554 - val_loss: 0.1744\n",
      "221/221 [==============================] - 1s 1ms/step\n",
      "221/221 [==============================] - 1s 1ms/step\n"
     ]
    },
    {
     "name": "stderr",
     "output_type": "stream",
     "text": [
      "WARNING:absl:Found untraced functions such as lstm_cell_6_layer_call_fn, lstm_cell_6_layer_call_and_return_conditional_losses, lstm_cell_7_layer_call_fn, lstm_cell_7_layer_call_and_return_conditional_losses while saving (showing 4 of 4). These functions will not be directly callable after loading.\n"
     ]
    },
    {
     "name": "stdout",
     "output_type": "stream",
     "text": [
      "INFO:tensorflow:Assets written to: ram://e315b7dc-04de-46c0-b382-d8c257cbce8b/assets\n"
     ]
    },
    {
     "name": "stderr",
     "output_type": "stream",
     "text": [
      "INFO:tensorflow:Assets written to: ram://e315b7dc-04de-46c0-b382-d8c257cbce8b/assets\n",
      "WARNING:absl:Found untraced functions such as lstm_cell_6_layer_call_fn, lstm_cell_6_layer_call_and_return_conditional_losses, lstm_cell_7_layer_call_fn, lstm_cell_7_layer_call_and_return_conditional_losses while saving (showing 4 of 4). These functions will not be directly callable after loading.\n"
     ]
    },
    {
     "name": "stdout",
     "output_type": "stream",
     "text": [
      "INFO:tensorflow:Assets written to: models/lstm-all_features-s100-p3/assets\n"
     ]
    },
    {
     "name": "stderr",
     "output_type": "stream",
     "text": [
      "INFO:tensorflow:Assets written to: models/lstm-all_features-s100-p3/assets\n",
      "WARNING:absl:Found untraced functions such as gru_cell_6_layer_call_fn, gru_cell_6_layer_call_and_return_conditional_losses, gru_cell_7_layer_call_fn, gru_cell_7_layer_call_and_return_conditional_losses while saving (showing 4 of 4). These functions will not be directly callable after loading.\n"
     ]
    },
    {
     "name": "stdout",
     "output_type": "stream",
     "text": [
      "INFO:tensorflow:Assets written to: ram://7a833ac3-782e-401d-b416-86d986153002/assets\n"
     ]
    },
    {
     "name": "stderr",
     "output_type": "stream",
     "text": [
      "INFO:tensorflow:Assets written to: ram://7a833ac3-782e-401d-b416-86d986153002/assets\n",
      "WARNING:absl:Found untraced functions such as gru_cell_6_layer_call_fn, gru_cell_6_layer_call_and_return_conditional_losses, gru_cell_7_layer_call_fn, gru_cell_7_layer_call_and_return_conditional_losses while saving (showing 4 of 4). These functions will not be directly callable after loading.\n"
     ]
    },
    {
     "name": "stdout",
     "output_type": "stream",
     "text": [
      "INFO:tensorflow:Assets written to: models/gru-all_features-s100-p3/assets\n"
     ]
    },
    {
     "name": "stderr",
     "output_type": "stream",
     "text": [
      "INFO:tensorflow:Assets written to: models/gru-all_features-s100-p3/assets\n"
     ]
    },
    {
     "name": "stdout",
     "output_type": "stream",
     "text": [
      "Epoch 1/3\n",
      "657/657 [==============================] - 3s 3ms/step - loss: 1.0504 - val_loss: 0.6828\n",
      "Epoch 2/3\n",
      "657/657 [==============================] - 1s 2ms/step - loss: 0.7589 - val_loss: 0.5731\n",
      "Epoch 3/3\n",
      "657/657 [==============================] - 1s 2ms/step - loss: 0.6021 - val_loss: 0.4256\n",
      "221/221 [==============================] - 1s 910us/step\n",
      "221/221 [==============================] - 1s 870us/step\n"
     ]
    },
    {
     "name": "stderr",
     "output_type": "stream",
     "text": [
      "WARNING:absl:Found untraced functions such as lstm_cell_8_layer_call_fn, lstm_cell_8_layer_call_and_return_conditional_losses, lstm_cell_9_layer_call_fn, lstm_cell_9_layer_call_and_return_conditional_losses while saving (showing 4 of 4). These functions will not be directly callable after loading.\n"
     ]
    },
    {
     "name": "stdout",
     "output_type": "stream",
     "text": [
      "INFO:tensorflow:Assets written to: ram://b130d229-0733-42ca-b970-19addda83db5/assets\n"
     ]
    },
    {
     "name": "stderr",
     "output_type": "stream",
     "text": [
      "INFO:tensorflow:Assets written to: ram://b130d229-0733-42ca-b970-19addda83db5/assets\n",
      "WARNING:absl:Found untraced functions such as lstm_cell_8_layer_call_fn, lstm_cell_8_layer_call_and_return_conditional_losses, lstm_cell_9_layer_call_fn, lstm_cell_9_layer_call_and_return_conditional_losses while saving (showing 4 of 4). These functions will not be directly callable after loading.\n"
     ]
    },
    {
     "name": "stdout",
     "output_type": "stream",
     "text": [
      "INFO:tensorflow:Assets written to: models/lstm-w5_features-s100-p0/assets\n"
     ]
    },
    {
     "name": "stderr",
     "output_type": "stream",
     "text": [
      "INFO:tensorflow:Assets written to: models/lstm-w5_features-s100-p0/assets\n",
      "WARNING:absl:Found untraced functions such as gru_cell_8_layer_call_fn, gru_cell_8_layer_call_and_return_conditional_losses, gru_cell_9_layer_call_fn, gru_cell_9_layer_call_and_return_conditional_losses while saving (showing 4 of 4). These functions will not be directly callable after loading.\n"
     ]
    },
    {
     "name": "stdout",
     "output_type": "stream",
     "text": [
      "INFO:tensorflow:Assets written to: ram://f7d04853-8b6f-449b-bbd3-ad38dd006270/assets\n"
     ]
    },
    {
     "name": "stderr",
     "output_type": "stream",
     "text": [
      "INFO:tensorflow:Assets written to: ram://f7d04853-8b6f-449b-bbd3-ad38dd006270/assets\n",
      "WARNING:absl:Found untraced functions such as gru_cell_8_layer_call_fn, gru_cell_8_layer_call_and_return_conditional_losses, gru_cell_9_layer_call_fn, gru_cell_9_layer_call_and_return_conditional_losses while saving (showing 4 of 4). These functions will not be directly callable after loading.\n"
     ]
    },
    {
     "name": "stdout",
     "output_type": "stream",
     "text": [
      "INFO:tensorflow:Assets written to: models/gru-w5_features-s100-p0/assets\n"
     ]
    },
    {
     "name": "stderr",
     "output_type": "stream",
     "text": [
      "INFO:tensorflow:Assets written to: models/gru-w5_features-s100-p0/assets\n"
     ]
    },
    {
     "name": "stdout",
     "output_type": "stream",
     "text": [
      "Epoch 1/3\n",
      "657/657 [==============================] - 3s 3ms/step - loss: 0.9856 - val_loss: 0.7016\n",
      "Epoch 2/3\n",
      "657/657 [==============================] - 2s 2ms/step - loss: 0.6547 - val_loss: 0.5012\n",
      "Epoch 3/3\n",
      "657/657 [==============================] - 2s 2ms/step - loss: 0.4721 - val_loss: 0.3201\n",
      "221/221 [==============================] - 1s 995us/step\n",
      "221/221 [==============================] - 1s 912us/step\n"
     ]
    },
    {
     "name": "stderr",
     "output_type": "stream",
     "text": [
      "WARNING:absl:Found untraced functions such as lstm_cell_10_layer_call_fn, lstm_cell_10_layer_call_and_return_conditional_losses, lstm_cell_11_layer_call_fn, lstm_cell_11_layer_call_and_return_conditional_losses while saving (showing 4 of 4). These functions will not be directly callable after loading.\n"
     ]
    },
    {
     "name": "stdout",
     "output_type": "stream",
     "text": [
      "INFO:tensorflow:Assets written to: ram://e85a1027-2aa6-4d62-956e-ffcda9b1f913/assets\n"
     ]
    },
    {
     "name": "stderr",
     "output_type": "stream",
     "text": [
      "INFO:tensorflow:Assets written to: ram://e85a1027-2aa6-4d62-956e-ffcda9b1f913/assets\n",
      "WARNING:absl:Found untraced functions such as lstm_cell_10_layer_call_fn, lstm_cell_10_layer_call_and_return_conditional_losses, lstm_cell_11_layer_call_fn, lstm_cell_11_layer_call_and_return_conditional_losses while saving (showing 4 of 4). These functions will not be directly callable after loading.\n"
     ]
    },
    {
     "name": "stdout",
     "output_type": "stream",
     "text": [
      "INFO:tensorflow:Assets written to: models/lstm-w5_features-s100-p1/assets\n"
     ]
    },
    {
     "name": "stderr",
     "output_type": "stream",
     "text": [
      "INFO:tensorflow:Assets written to: models/lstm-w5_features-s100-p1/assets\n",
      "WARNING:absl:Found untraced functions such as gru_cell_10_layer_call_fn, gru_cell_10_layer_call_and_return_conditional_losses, gru_cell_11_layer_call_fn, gru_cell_11_layer_call_and_return_conditional_losses while saving (showing 4 of 4). These functions will not be directly callable after loading.\n"
     ]
    },
    {
     "name": "stdout",
     "output_type": "stream",
     "text": [
      "INFO:tensorflow:Assets written to: ram://d4e28c37-61cf-41b2-9b3d-c2206f851129/assets\n"
     ]
    },
    {
     "name": "stderr",
     "output_type": "stream",
     "text": [
      "INFO:tensorflow:Assets written to: ram://d4e28c37-61cf-41b2-9b3d-c2206f851129/assets\n",
      "WARNING:absl:Found untraced functions such as gru_cell_10_layer_call_fn, gru_cell_10_layer_call_and_return_conditional_losses, gru_cell_11_layer_call_fn, gru_cell_11_layer_call_and_return_conditional_losses while saving (showing 4 of 4). These functions will not be directly callable after loading.\n"
     ]
    },
    {
     "name": "stdout",
     "output_type": "stream",
     "text": [
      "INFO:tensorflow:Assets written to: models/gru-w5_features-s100-p1/assets\n"
     ]
    },
    {
     "name": "stderr",
     "output_type": "stream",
     "text": [
      "INFO:tensorflow:Assets written to: models/gru-w5_features-s100-p1/assets\n"
     ]
    },
    {
     "name": "stdout",
     "output_type": "stream",
     "text": [
      "Epoch 1/3\n",
      "657/657 [==============================] - 3s 3ms/step - loss: 1.0571 - val_loss: 0.7073\n",
      "Epoch 2/3\n",
      "657/657 [==============================] - 2s 2ms/step - loss: 0.7415 - val_loss: 0.5628\n",
      "Epoch 3/3\n",
      "657/657 [==============================] - 2s 2ms/step - loss: 0.5487 - val_loss: 0.3660\n",
      "221/221 [==============================] - 1s 1ms/step\n",
      "221/221 [==============================] - 1s 1ms/step\n"
     ]
    },
    {
     "name": "stderr",
     "output_type": "stream",
     "text": [
      "WARNING:absl:Found untraced functions such as lstm_cell_12_layer_call_fn, lstm_cell_12_layer_call_and_return_conditional_losses, lstm_cell_13_layer_call_fn, lstm_cell_13_layer_call_and_return_conditional_losses while saving (showing 4 of 4). These functions will not be directly callable after loading.\n"
     ]
    },
    {
     "name": "stdout",
     "output_type": "stream",
     "text": [
      "INFO:tensorflow:Assets written to: ram://0a474403-5169-4751-97ec-7e23fd4c4181/assets\n"
     ]
    },
    {
     "name": "stderr",
     "output_type": "stream",
     "text": [
      "INFO:tensorflow:Assets written to: ram://0a474403-5169-4751-97ec-7e23fd4c4181/assets\n",
      "WARNING:absl:Found untraced functions such as lstm_cell_12_layer_call_fn, lstm_cell_12_layer_call_and_return_conditional_losses, lstm_cell_13_layer_call_fn, lstm_cell_13_layer_call_and_return_conditional_losses while saving (showing 4 of 4). These functions will not be directly callable after loading.\n"
     ]
    },
    {
     "name": "stdout",
     "output_type": "stream",
     "text": [
      "INFO:tensorflow:Assets written to: models/lstm-w5_features-s100-p2/assets\n"
     ]
    },
    {
     "name": "stderr",
     "output_type": "stream",
     "text": [
      "INFO:tensorflow:Assets written to: models/lstm-w5_features-s100-p2/assets\n",
      "WARNING:absl:Found untraced functions such as gru_cell_12_layer_call_fn, gru_cell_12_layer_call_and_return_conditional_losses, gru_cell_13_layer_call_fn, gru_cell_13_layer_call_and_return_conditional_losses while saving (showing 4 of 4). These functions will not be directly callable after loading.\n"
     ]
    },
    {
     "name": "stdout",
     "output_type": "stream",
     "text": [
      "INFO:tensorflow:Assets written to: ram://cbee1bf1-7850-4989-b643-7c09fd6fab63/assets\n"
     ]
    },
    {
     "name": "stderr",
     "output_type": "stream",
     "text": [
      "INFO:tensorflow:Assets written to: ram://cbee1bf1-7850-4989-b643-7c09fd6fab63/assets\n",
      "WARNING:absl:Found untraced functions such as gru_cell_12_layer_call_fn, gru_cell_12_layer_call_and_return_conditional_losses, gru_cell_13_layer_call_fn, gru_cell_13_layer_call_and_return_conditional_losses while saving (showing 4 of 4). These functions will not be directly callable after loading.\n"
     ]
    },
    {
     "name": "stdout",
     "output_type": "stream",
     "text": [
      "INFO:tensorflow:Assets written to: models/gru-w5_features-s100-p2/assets\n"
     ]
    },
    {
     "name": "stderr",
     "output_type": "stream",
     "text": [
      "INFO:tensorflow:Assets written to: models/gru-w5_features-s100-p2/assets\n"
     ]
    },
    {
     "name": "stdout",
     "output_type": "stream",
     "text": [
      "Epoch 1/3\n",
      "657/657 [==============================] - 3s 3ms/step - loss: 0.9966 - val_loss: 0.7059\n",
      "Epoch 2/3\n",
      "657/657 [==============================] - 2s 2ms/step - loss: 0.6345 - val_loss: 0.4591\n",
      "Epoch 3/3\n",
      "657/657 [==============================] - 2s 3ms/step - loss: 0.4341 - val_loss: 0.2673\n",
      "221/221 [==============================] - 1s 1ms/step\n",
      "221/221 [==============================] - 1s 1ms/step\n"
     ]
    },
    {
     "name": "stderr",
     "output_type": "stream",
     "text": [
      "WARNING:absl:Found untraced functions such as lstm_cell_14_layer_call_fn, lstm_cell_14_layer_call_and_return_conditional_losses, lstm_cell_15_layer_call_fn, lstm_cell_15_layer_call_and_return_conditional_losses while saving (showing 4 of 4). These functions will not be directly callable after loading.\n"
     ]
    },
    {
     "name": "stdout",
     "output_type": "stream",
     "text": [
      "INFO:tensorflow:Assets written to: ram://65127ec6-09b5-4200-9ddc-2e09852d4a2c/assets\n"
     ]
    },
    {
     "name": "stderr",
     "output_type": "stream",
     "text": [
      "INFO:tensorflow:Assets written to: ram://65127ec6-09b5-4200-9ddc-2e09852d4a2c/assets\n",
      "WARNING:absl:Found untraced functions such as lstm_cell_14_layer_call_fn, lstm_cell_14_layer_call_and_return_conditional_losses, lstm_cell_15_layer_call_fn, lstm_cell_15_layer_call_and_return_conditional_losses while saving (showing 4 of 4). These functions will not be directly callable after loading.\n"
     ]
    },
    {
     "name": "stdout",
     "output_type": "stream",
     "text": [
      "INFO:tensorflow:Assets written to: models/lstm-w5_features-s100-p3/assets\n"
     ]
    },
    {
     "name": "stderr",
     "output_type": "stream",
     "text": [
      "INFO:tensorflow:Assets written to: models/lstm-w5_features-s100-p3/assets\n",
      "WARNING:absl:Found untraced functions such as gru_cell_14_layer_call_fn, gru_cell_14_layer_call_and_return_conditional_losses, gru_cell_15_layer_call_fn, gru_cell_15_layer_call_and_return_conditional_losses while saving (showing 4 of 4). These functions will not be directly callable after loading.\n"
     ]
    },
    {
     "name": "stdout",
     "output_type": "stream",
     "text": [
      "INFO:tensorflow:Assets written to: ram://078337a2-4e62-4b77-89bd-5fe60f144a04/assets\n"
     ]
    },
    {
     "name": "stderr",
     "output_type": "stream",
     "text": [
      "INFO:tensorflow:Assets written to: ram://078337a2-4e62-4b77-89bd-5fe60f144a04/assets\n",
      "WARNING:absl:Found untraced functions such as gru_cell_14_layer_call_fn, gru_cell_14_layer_call_and_return_conditional_losses, gru_cell_15_layer_call_fn, gru_cell_15_layer_call_and_return_conditional_losses while saving (showing 4 of 4). These functions will not be directly callable after loading.\n"
     ]
    },
    {
     "name": "stdout",
     "output_type": "stream",
     "text": [
      "INFO:tensorflow:Assets written to: models/gru-w5_features-s100-p3/assets\n"
     ]
    },
    {
     "name": "stderr",
     "output_type": "stream",
     "text": [
      "INFO:tensorflow:Assets written to: models/gru-w5_features-s100-p3/assets\n"
     ]
    },
    {
     "name": "stdout",
     "output_type": "stream",
     "text": [
      "Epoch 1/3\n",
      "657/657 [==============================] - 3s 3ms/step - loss: 1.0832 - val_loss: 0.7218\n",
      "Epoch 2/3\n",
      "657/657 [==============================] - 1s 2ms/step - loss: 0.7862 - val_loss: 0.6179\n",
      "Epoch 3/3\n",
      "657/657 [==============================] - 1s 2ms/step - loss: 0.6202 - val_loss: 0.4560\n",
      "221/221 [==============================] - 1s 915us/step\n",
      "221/221 [==============================] - 1s 873us/step\n"
     ]
    },
    {
     "name": "stderr",
     "output_type": "stream",
     "text": [
      "WARNING:absl:Found untraced functions such as lstm_cell_16_layer_call_fn, lstm_cell_16_layer_call_and_return_conditional_losses, lstm_cell_17_layer_call_fn, lstm_cell_17_layer_call_and_return_conditional_losses while saving (showing 4 of 4). These functions will not be directly callable after loading.\n"
     ]
    },
    {
     "name": "stdout",
     "output_type": "stream",
     "text": [
      "INFO:tensorflow:Assets written to: ram://6f60acf2-cf16-4e8c-b98c-782c4c653be6/assets\n"
     ]
    },
    {
     "name": "stderr",
     "output_type": "stream",
     "text": [
      "INFO:tensorflow:Assets written to: ram://6f60acf2-cf16-4e8c-b98c-782c4c653be6/assets\n",
      "WARNING:absl:Found untraced functions such as lstm_cell_16_layer_call_fn, lstm_cell_16_layer_call_and_return_conditional_losses, lstm_cell_17_layer_call_fn, lstm_cell_17_layer_call_and_return_conditional_losses while saving (showing 4 of 4). These functions will not be directly callable after loading.\n"
     ]
    },
    {
     "name": "stdout",
     "output_type": "stream",
     "text": [
      "INFO:tensorflow:Assets written to: models/lstm-w10_features-s100-p0/assets\n"
     ]
    },
    {
     "name": "stderr",
     "output_type": "stream",
     "text": [
      "INFO:tensorflow:Assets written to: models/lstm-w10_features-s100-p0/assets\n",
      "WARNING:absl:Found untraced functions such as gru_cell_16_layer_call_fn, gru_cell_16_layer_call_and_return_conditional_losses, gru_cell_17_layer_call_fn, gru_cell_17_layer_call_and_return_conditional_losses while saving (showing 4 of 4). These functions will not be directly callable after loading.\n"
     ]
    },
    {
     "name": "stdout",
     "output_type": "stream",
     "text": [
      "INFO:tensorflow:Assets written to: ram://2994c3be-7e51-4f3b-b200-0b0279fae7c5/assets\n"
     ]
    },
    {
     "name": "stderr",
     "output_type": "stream",
     "text": [
      "INFO:tensorflow:Assets written to: ram://2994c3be-7e51-4f3b-b200-0b0279fae7c5/assets\n",
      "WARNING:absl:Found untraced functions such as gru_cell_16_layer_call_fn, gru_cell_16_layer_call_and_return_conditional_losses, gru_cell_17_layer_call_fn, gru_cell_17_layer_call_and_return_conditional_losses while saving (showing 4 of 4). These functions will not be directly callable after loading.\n"
     ]
    },
    {
     "name": "stdout",
     "output_type": "stream",
     "text": [
      "INFO:tensorflow:Assets written to: models/gru-w10_features-s100-p0/assets\n"
     ]
    },
    {
     "name": "stderr",
     "output_type": "stream",
     "text": [
      "INFO:tensorflow:Assets written to: models/gru-w10_features-s100-p0/assets\n"
     ]
    },
    {
     "name": "stdout",
     "output_type": "stream",
     "text": [
      "Epoch 1/3\n",
      "657/657 [==============================] - 3s 3ms/step - loss: 1.0039 - val_loss: 0.7484\n",
      "Epoch 2/3\n",
      "657/657 [==============================] - 2s 2ms/step - loss: 0.6761 - val_loss: 0.5133\n",
      "Epoch 3/3\n",
      "657/657 [==============================] - 2s 2ms/step - loss: 0.4903 - val_loss: 0.3106\n",
      "221/221 [==============================] - 1s 1ms/step\n",
      "221/221 [==============================] - 1s 904us/step\n"
     ]
    },
    {
     "name": "stderr",
     "output_type": "stream",
     "text": [
      "WARNING:absl:Found untraced functions such as lstm_cell_18_layer_call_fn, lstm_cell_18_layer_call_and_return_conditional_losses, lstm_cell_19_layer_call_fn, lstm_cell_19_layer_call_and_return_conditional_losses while saving (showing 4 of 4). These functions will not be directly callable after loading.\n"
     ]
    },
    {
     "name": "stdout",
     "output_type": "stream",
     "text": [
      "INFO:tensorflow:Assets written to: ram://538ea49e-7663-4876-878d-6bbf8988bcc9/assets\n"
     ]
    },
    {
     "name": "stderr",
     "output_type": "stream",
     "text": [
      "INFO:tensorflow:Assets written to: ram://538ea49e-7663-4876-878d-6bbf8988bcc9/assets\n",
      "WARNING:absl:Found untraced functions such as lstm_cell_18_layer_call_fn, lstm_cell_18_layer_call_and_return_conditional_losses, lstm_cell_19_layer_call_fn, lstm_cell_19_layer_call_and_return_conditional_losses while saving (showing 4 of 4). These functions will not be directly callable after loading.\n"
     ]
    },
    {
     "name": "stdout",
     "output_type": "stream",
     "text": [
      "INFO:tensorflow:Assets written to: models/lstm-w10_features-s100-p1/assets\n"
     ]
    },
    {
     "name": "stderr",
     "output_type": "stream",
     "text": [
      "INFO:tensorflow:Assets written to: models/lstm-w10_features-s100-p1/assets\n",
      "WARNING:absl:Found untraced functions such as gru_cell_18_layer_call_fn, gru_cell_18_layer_call_and_return_conditional_losses, gru_cell_19_layer_call_fn, gru_cell_19_layer_call_and_return_conditional_losses while saving (showing 4 of 4). These functions will not be directly callable after loading.\n"
     ]
    },
    {
     "name": "stdout",
     "output_type": "stream",
     "text": [
      "INFO:tensorflow:Assets written to: ram://9795aed9-3127-413e-a090-9209060aa19d/assets\n"
     ]
    },
    {
     "name": "stderr",
     "output_type": "stream",
     "text": [
      "INFO:tensorflow:Assets written to: ram://9795aed9-3127-413e-a090-9209060aa19d/assets\n",
      "WARNING:absl:Found untraced functions such as gru_cell_18_layer_call_fn, gru_cell_18_layer_call_and_return_conditional_losses, gru_cell_19_layer_call_fn, gru_cell_19_layer_call_and_return_conditional_losses while saving (showing 4 of 4). These functions will not be directly callable after loading.\n"
     ]
    },
    {
     "name": "stdout",
     "output_type": "stream",
     "text": [
      "INFO:tensorflow:Assets written to: models/gru-w10_features-s100-p1/assets\n"
     ]
    },
    {
     "name": "stderr",
     "output_type": "stream",
     "text": [
      "INFO:tensorflow:Assets written to: models/gru-w10_features-s100-p1/assets\n"
     ]
    },
    {
     "name": "stdout",
     "output_type": "stream",
     "text": [
      "Epoch 1/3\n",
      "657/657 [==============================] - 3s 3ms/step - loss: 1.0721 - val_loss: 0.7525\n",
      "Epoch 2/3\n",
      "657/657 [==============================] - 2s 2ms/step - loss: 0.7526 - val_loss: 0.6065\n",
      "Epoch 3/3\n",
      "657/657 [==============================] - 2s 2ms/step - loss: 0.5507 - val_loss: 0.4039\n",
      "221/221 [==============================] - 1s 1ms/step\n",
      "221/221 [==============================] - 1s 972us/step\n"
     ]
    },
    {
     "name": "stderr",
     "output_type": "stream",
     "text": [
      "WARNING:absl:Found untraced functions such as lstm_cell_20_layer_call_fn, lstm_cell_20_layer_call_and_return_conditional_losses, lstm_cell_21_layer_call_fn, lstm_cell_21_layer_call_and_return_conditional_losses while saving (showing 4 of 4). These functions will not be directly callable after loading.\n"
     ]
    },
    {
     "name": "stdout",
     "output_type": "stream",
     "text": [
      "INFO:tensorflow:Assets written to: ram://4cb915e7-d483-44d4-a1a2-7e49582f8018/assets\n"
     ]
    },
    {
     "name": "stderr",
     "output_type": "stream",
     "text": [
      "INFO:tensorflow:Assets written to: ram://4cb915e7-d483-44d4-a1a2-7e49582f8018/assets\n",
      "WARNING:absl:Found untraced functions such as lstm_cell_20_layer_call_fn, lstm_cell_20_layer_call_and_return_conditional_losses, lstm_cell_21_layer_call_fn, lstm_cell_21_layer_call_and_return_conditional_losses while saving (showing 4 of 4). These functions will not be directly callable after loading.\n"
     ]
    },
    {
     "name": "stdout",
     "output_type": "stream",
     "text": [
      "INFO:tensorflow:Assets written to: models/lstm-w10_features-s100-p2/assets\n"
     ]
    },
    {
     "name": "stderr",
     "output_type": "stream",
     "text": [
      "INFO:tensorflow:Assets written to: models/lstm-w10_features-s100-p2/assets\n",
      "WARNING:absl:Found untraced functions such as gru_cell_20_layer_call_fn, gru_cell_20_layer_call_and_return_conditional_losses, gru_cell_21_layer_call_fn, gru_cell_21_layer_call_and_return_conditional_losses while saving (showing 4 of 4). These functions will not be directly callable after loading.\n"
     ]
    },
    {
     "name": "stdout",
     "output_type": "stream",
     "text": [
      "INFO:tensorflow:Assets written to: ram://c0497284-93f9-4465-a710-407fb23e13d6/assets\n"
     ]
    },
    {
     "name": "stderr",
     "output_type": "stream",
     "text": [
      "INFO:tensorflow:Assets written to: ram://c0497284-93f9-4465-a710-407fb23e13d6/assets\n",
      "WARNING:absl:Found untraced functions such as gru_cell_20_layer_call_fn, gru_cell_20_layer_call_and_return_conditional_losses, gru_cell_21_layer_call_fn, gru_cell_21_layer_call_and_return_conditional_losses while saving (showing 4 of 4). These functions will not be directly callable after loading.\n"
     ]
    },
    {
     "name": "stdout",
     "output_type": "stream",
     "text": [
      "INFO:tensorflow:Assets written to: models/gru-w10_features-s100-p2/assets\n"
     ]
    },
    {
     "name": "stderr",
     "output_type": "stream",
     "text": [
      "INFO:tensorflow:Assets written to: models/gru-w10_features-s100-p2/assets\n"
     ]
    },
    {
     "name": "stdout",
     "output_type": "stream",
     "text": [
      "Epoch 1/3\n",
      "657/657 [==============================] - 3s 3ms/step - loss: 1.0114 - val_loss: 0.7522\n",
      "Epoch 2/3\n",
      "657/657 [==============================] - 2s 2ms/step - loss: 0.6523 - val_loss: 0.4693\n",
      "Epoch 3/3\n",
      "657/657 [==============================] - 2s 2ms/step - loss: 0.4403 - val_loss: 0.2686\n",
      "221/221 [==============================] - 1s 1ms/step\n",
      "221/221 [==============================] - 1s 977us/step\n"
     ]
    },
    {
     "name": "stderr",
     "output_type": "stream",
     "text": [
      "WARNING:absl:Found untraced functions such as lstm_cell_22_layer_call_fn, lstm_cell_22_layer_call_and_return_conditional_losses, lstm_cell_23_layer_call_fn, lstm_cell_23_layer_call_and_return_conditional_losses while saving (showing 4 of 4). These functions will not be directly callable after loading.\n"
     ]
    },
    {
     "name": "stdout",
     "output_type": "stream",
     "text": [
      "INFO:tensorflow:Assets written to: ram://8646e10a-87f3-498d-ab3d-dc8e3eec146f/assets\n"
     ]
    },
    {
     "name": "stderr",
     "output_type": "stream",
     "text": [
      "INFO:tensorflow:Assets written to: ram://8646e10a-87f3-498d-ab3d-dc8e3eec146f/assets\n",
      "WARNING:absl:Found untraced functions such as lstm_cell_22_layer_call_fn, lstm_cell_22_layer_call_and_return_conditional_losses, lstm_cell_23_layer_call_fn, lstm_cell_23_layer_call_and_return_conditional_losses while saving (showing 4 of 4). These functions will not be directly callable after loading.\n"
     ]
    },
    {
     "name": "stdout",
     "output_type": "stream",
     "text": [
      "INFO:tensorflow:Assets written to: models/lstm-w10_features-s100-p3/assets\n"
     ]
    },
    {
     "name": "stderr",
     "output_type": "stream",
     "text": [
      "INFO:tensorflow:Assets written to: models/lstm-w10_features-s100-p3/assets\n",
      "WARNING:absl:Found untraced functions such as gru_cell_22_layer_call_fn, gru_cell_22_layer_call_and_return_conditional_losses, gru_cell_23_layer_call_fn, gru_cell_23_layer_call_and_return_conditional_losses while saving (showing 4 of 4). These functions will not be directly callable after loading.\n"
     ]
    },
    {
     "name": "stdout",
     "output_type": "stream",
     "text": [
      "INFO:tensorflow:Assets written to: ram://e38d427c-262a-4321-8219-7c414f75a60e/assets\n"
     ]
    },
    {
     "name": "stderr",
     "output_type": "stream",
     "text": [
      "INFO:tensorflow:Assets written to: ram://e38d427c-262a-4321-8219-7c414f75a60e/assets\n",
      "WARNING:absl:Found untraced functions such as gru_cell_22_layer_call_fn, gru_cell_22_layer_call_and_return_conditional_losses, gru_cell_23_layer_call_fn, gru_cell_23_layer_call_and_return_conditional_losses while saving (showing 4 of 4). These functions will not be directly callable after loading.\n"
     ]
    },
    {
     "name": "stdout",
     "output_type": "stream",
     "text": [
      "INFO:tensorflow:Assets written to: models/gru-w10_features-s100-p3/assets\n"
     ]
    },
    {
     "name": "stderr",
     "output_type": "stream",
     "text": [
      "INFO:tensorflow:Assets written to: models/gru-w10_features-s100-p3/assets\n"
     ]
    },
    {
     "name": "stdout",
     "output_type": "stream",
     "text": [
      "Epoch 1/3\n",
      "657/657 [==============================] - 3s 3ms/step - loss: 1.0852 - val_loss: 0.7505\n",
      "Epoch 2/3\n",
      "657/657 [==============================] - 1s 2ms/step - loss: 0.7850 - val_loss: 0.6602\n",
      "Epoch 3/3\n",
      "657/657 [==============================] - 1s 2ms/step - loss: 0.6215 - val_loss: 0.5063\n",
      "221/221 [==============================] - 1s 965us/step\n",
      "221/221 [==============================] - 1s 988us/step\n"
     ]
    },
    {
     "name": "stderr",
     "output_type": "stream",
     "text": [
      "WARNING:absl:Found untraced functions such as lstm_cell_24_layer_call_fn, lstm_cell_24_layer_call_and_return_conditional_losses, lstm_cell_25_layer_call_fn, lstm_cell_25_layer_call_and_return_conditional_losses while saving (showing 4 of 4). These functions will not be directly callable after loading.\n"
     ]
    },
    {
     "name": "stdout",
     "output_type": "stream",
     "text": [
      "INFO:tensorflow:Assets written to: ram://454b11d6-40af-4be8-bf72-b4815df35c8f/assets\n"
     ]
    },
    {
     "name": "stderr",
     "output_type": "stream",
     "text": [
      "INFO:tensorflow:Assets written to: ram://454b11d6-40af-4be8-bf72-b4815df35c8f/assets\n",
      "WARNING:absl:Found untraced functions such as lstm_cell_24_layer_call_fn, lstm_cell_24_layer_call_and_return_conditional_losses, lstm_cell_25_layer_call_fn, lstm_cell_25_layer_call_and_return_conditional_losses while saving (showing 4 of 4). These functions will not be directly callable after loading.\n"
     ]
    },
    {
     "name": "stdout",
     "output_type": "stream",
     "text": [
      "INFO:tensorflow:Assets written to: models/lstm-w15_features-s100-p0/assets\n"
     ]
    },
    {
     "name": "stderr",
     "output_type": "stream",
     "text": [
      "INFO:tensorflow:Assets written to: models/lstm-w15_features-s100-p0/assets\n",
      "WARNING:absl:Found untraced functions such as gru_cell_24_layer_call_fn, gru_cell_24_layer_call_and_return_conditional_losses, gru_cell_25_layer_call_fn, gru_cell_25_layer_call_and_return_conditional_losses while saving (showing 4 of 4). These functions will not be directly callable after loading.\n"
     ]
    },
    {
     "name": "stdout",
     "output_type": "stream",
     "text": [
      "INFO:tensorflow:Assets written to: ram://e342ea9e-f282-49cc-a7fb-a61842a4a968/assets\n"
     ]
    },
    {
     "name": "stderr",
     "output_type": "stream",
     "text": [
      "INFO:tensorflow:Assets written to: ram://e342ea9e-f282-49cc-a7fb-a61842a4a968/assets\n",
      "WARNING:absl:Found untraced functions such as gru_cell_24_layer_call_fn, gru_cell_24_layer_call_and_return_conditional_losses, gru_cell_25_layer_call_fn, gru_cell_25_layer_call_and_return_conditional_losses while saving (showing 4 of 4). These functions will not be directly callable after loading.\n"
     ]
    },
    {
     "name": "stdout",
     "output_type": "stream",
     "text": [
      "INFO:tensorflow:Assets written to: models/gru-w15_features-s100-p0/assets\n"
     ]
    },
    {
     "name": "stderr",
     "output_type": "stream",
     "text": [
      "INFO:tensorflow:Assets written to: models/gru-w15_features-s100-p0/assets\n"
     ]
    },
    {
     "name": "stdout",
     "output_type": "stream",
     "text": [
      "Epoch 1/3\n",
      "657/657 [==============================] - 3s 3ms/step - loss: 1.0001 - val_loss: 0.7758\n",
      "Epoch 2/3\n",
      "657/657 [==============================] - 2s 2ms/step - loss: 0.6739 - val_loss: 0.5417\n",
      "Epoch 3/3\n",
      "657/657 [==============================] - 2s 2ms/step - loss: 0.4842 - val_loss: 0.3394\n",
      "221/221 [==============================] - 1s 977us/step\n",
      "221/221 [==============================] - 1s 1ms/step\n"
     ]
    },
    {
     "name": "stderr",
     "output_type": "stream",
     "text": [
      "WARNING:absl:Found untraced functions such as lstm_cell_26_layer_call_fn, lstm_cell_26_layer_call_and_return_conditional_losses, lstm_cell_27_layer_call_fn, lstm_cell_27_layer_call_and_return_conditional_losses while saving (showing 4 of 4). These functions will not be directly callable after loading.\n"
     ]
    },
    {
     "name": "stdout",
     "output_type": "stream",
     "text": [
      "INFO:tensorflow:Assets written to: ram://8b2b74b1-f380-449d-a2df-8b744ffe818a/assets\n"
     ]
    },
    {
     "name": "stderr",
     "output_type": "stream",
     "text": [
      "INFO:tensorflow:Assets written to: ram://8b2b74b1-f380-449d-a2df-8b744ffe818a/assets\n",
      "WARNING:absl:Found untraced functions such as lstm_cell_26_layer_call_fn, lstm_cell_26_layer_call_and_return_conditional_losses, lstm_cell_27_layer_call_fn, lstm_cell_27_layer_call_and_return_conditional_losses while saving (showing 4 of 4). These functions will not be directly callable after loading.\n"
     ]
    },
    {
     "name": "stdout",
     "output_type": "stream",
     "text": [
      "INFO:tensorflow:Assets written to: models/lstm-w15_features-s100-p1/assets\n"
     ]
    },
    {
     "name": "stderr",
     "output_type": "stream",
     "text": [
      "INFO:tensorflow:Assets written to: models/lstm-w15_features-s100-p1/assets\n",
      "WARNING:absl:Found untraced functions such as gru_cell_26_layer_call_fn, gru_cell_26_layer_call_and_return_conditional_losses, gru_cell_27_layer_call_fn, gru_cell_27_layer_call_and_return_conditional_losses while saving (showing 4 of 4). These functions will not be directly callable after loading.\n"
     ]
    },
    {
     "name": "stdout",
     "output_type": "stream",
     "text": [
      "INFO:tensorflow:Assets written to: ram://cb66c4fe-64d0-414b-9a04-33027b831c75/assets\n"
     ]
    },
    {
     "name": "stderr",
     "output_type": "stream",
     "text": [
      "INFO:tensorflow:Assets written to: ram://cb66c4fe-64d0-414b-9a04-33027b831c75/assets\n",
      "WARNING:absl:Found untraced functions such as gru_cell_26_layer_call_fn, gru_cell_26_layer_call_and_return_conditional_losses, gru_cell_27_layer_call_fn, gru_cell_27_layer_call_and_return_conditional_losses while saving (showing 4 of 4). These functions will not be directly callable after loading.\n"
     ]
    },
    {
     "name": "stdout",
     "output_type": "stream",
     "text": [
      "INFO:tensorflow:Assets written to: models/gru-w15_features-s100-p1/assets\n"
     ]
    },
    {
     "name": "stderr",
     "output_type": "stream",
     "text": [
      "INFO:tensorflow:Assets written to: models/gru-w15_features-s100-p1/assets\n"
     ]
    },
    {
     "name": "stdout",
     "output_type": "stream",
     "text": [
      "Epoch 1/3\n",
      "657/657 [==============================] - 4s 3ms/step - loss: 1.0800 - val_loss: 0.7833\n",
      "Epoch 2/3\n",
      "657/657 [==============================] - 2s 3ms/step - loss: 0.7642 - val_loss: 0.6655\n",
      "Epoch 3/3\n",
      "657/657 [==============================] - 2s 3ms/step - loss: 0.5747 - val_loss: 0.4878\n",
      "221/221 [==============================] - 1s 989us/step\n",
      "221/221 [==============================] - 1s 1ms/step\n"
     ]
    },
    {
     "name": "stderr",
     "output_type": "stream",
     "text": [
      "WARNING:absl:Found untraced functions such as lstm_cell_28_layer_call_fn, lstm_cell_28_layer_call_and_return_conditional_losses, lstm_cell_29_layer_call_fn, lstm_cell_29_layer_call_and_return_conditional_losses while saving (showing 4 of 4). These functions will not be directly callable after loading.\n"
     ]
    },
    {
     "name": "stdout",
     "output_type": "stream",
     "text": [
      "INFO:tensorflow:Assets written to: ram://5e2e7b1d-e3d5-4e27-905a-3afa3cc200ab/assets\n"
     ]
    },
    {
     "name": "stderr",
     "output_type": "stream",
     "text": [
      "INFO:tensorflow:Assets written to: ram://5e2e7b1d-e3d5-4e27-905a-3afa3cc200ab/assets\n",
      "WARNING:absl:Found untraced functions such as lstm_cell_28_layer_call_fn, lstm_cell_28_layer_call_and_return_conditional_losses, lstm_cell_29_layer_call_fn, lstm_cell_29_layer_call_and_return_conditional_losses while saving (showing 4 of 4). These functions will not be directly callable after loading.\n"
     ]
    },
    {
     "name": "stdout",
     "output_type": "stream",
     "text": [
      "INFO:tensorflow:Assets written to: models/lstm-w15_features-s100-p2/assets\n"
     ]
    },
    {
     "name": "stderr",
     "output_type": "stream",
     "text": [
      "INFO:tensorflow:Assets written to: models/lstm-w15_features-s100-p2/assets\n",
      "WARNING:absl:Found untraced functions such as gru_cell_28_layer_call_fn, gru_cell_28_layer_call_and_return_conditional_losses, gru_cell_29_layer_call_fn, gru_cell_29_layer_call_and_return_conditional_losses while saving (showing 4 of 4). These functions will not be directly callable after loading.\n"
     ]
    },
    {
     "name": "stdout",
     "output_type": "stream",
     "text": [
      "INFO:tensorflow:Assets written to: ram://491701cd-37b9-4864-8dd5-61b6e6e7f281/assets\n"
     ]
    },
    {
     "name": "stderr",
     "output_type": "stream",
     "text": [
      "INFO:tensorflow:Assets written to: ram://491701cd-37b9-4864-8dd5-61b6e6e7f281/assets\n",
      "WARNING:absl:Found untraced functions such as gru_cell_28_layer_call_fn, gru_cell_28_layer_call_and_return_conditional_losses, gru_cell_29_layer_call_fn, gru_cell_29_layer_call_and_return_conditional_losses while saving (showing 4 of 4). These functions will not be directly callable after loading.\n"
     ]
    },
    {
     "name": "stdout",
     "output_type": "stream",
     "text": [
      "INFO:tensorflow:Assets written to: models/gru-w15_features-s100-p2/assets\n"
     ]
    },
    {
     "name": "stderr",
     "output_type": "stream",
     "text": [
      "INFO:tensorflow:Assets written to: models/gru-w15_features-s100-p2/assets\n"
     ]
    },
    {
     "name": "stdout",
     "output_type": "stream",
     "text": [
      "Epoch 1/3\n",
      "657/657 [==============================] - 4s 3ms/step - loss: 1.0121 - val_loss: 0.7830\n",
      "Epoch 2/3\n",
      "657/657 [==============================] - 2s 3ms/step - loss: 0.6535 - val_loss: 0.5180\n",
      "Epoch 3/3\n",
      "657/657 [==============================] - 2s 3ms/step - loss: 0.4487 - val_loss: 0.3547\n",
      "221/221 [==============================] - 1s 1ms/step\n",
      "221/221 [==============================] - 1s 984us/step\n"
     ]
    },
    {
     "name": "stderr",
     "output_type": "stream",
     "text": [
      "WARNING:absl:Found untraced functions such as lstm_cell_30_layer_call_fn, lstm_cell_30_layer_call_and_return_conditional_losses, lstm_cell_31_layer_call_fn, lstm_cell_31_layer_call_and_return_conditional_losses while saving (showing 4 of 4). These functions will not be directly callable after loading.\n"
     ]
    },
    {
     "name": "stdout",
     "output_type": "stream",
     "text": [
      "INFO:tensorflow:Assets written to: ram://fc4e3646-d110-476c-9755-1a2507b2534f/assets\n"
     ]
    },
    {
     "name": "stderr",
     "output_type": "stream",
     "text": [
      "INFO:tensorflow:Assets written to: ram://fc4e3646-d110-476c-9755-1a2507b2534f/assets\n",
      "WARNING:absl:Found untraced functions such as lstm_cell_30_layer_call_fn, lstm_cell_30_layer_call_and_return_conditional_losses, lstm_cell_31_layer_call_fn, lstm_cell_31_layer_call_and_return_conditional_losses while saving (showing 4 of 4). These functions will not be directly callable after loading.\n"
     ]
    },
    {
     "name": "stdout",
     "output_type": "stream",
     "text": [
      "INFO:tensorflow:Assets written to: models/lstm-w15_features-s100-p3/assets\n"
     ]
    },
    {
     "name": "stderr",
     "output_type": "stream",
     "text": [
      "INFO:tensorflow:Assets written to: models/lstm-w15_features-s100-p3/assets\n",
      "WARNING:absl:Found untraced functions such as gru_cell_30_layer_call_fn, gru_cell_30_layer_call_and_return_conditional_losses, gru_cell_31_layer_call_fn, gru_cell_31_layer_call_and_return_conditional_losses while saving (showing 4 of 4). These functions will not be directly callable after loading.\n"
     ]
    },
    {
     "name": "stdout",
     "output_type": "stream",
     "text": [
      "INFO:tensorflow:Assets written to: ram://c9aed5e4-b73d-4440-97e3-512dca46cb84/assets\n"
     ]
    },
    {
     "name": "stderr",
     "output_type": "stream",
     "text": [
      "INFO:tensorflow:Assets written to: ram://c9aed5e4-b73d-4440-97e3-512dca46cb84/assets\n",
      "WARNING:absl:Found untraced functions such as gru_cell_30_layer_call_fn, gru_cell_30_layer_call_and_return_conditional_losses, gru_cell_31_layer_call_fn, gru_cell_31_layer_call_and_return_conditional_losses while saving (showing 4 of 4). These functions will not be directly callable after loading.\n"
     ]
    },
    {
     "name": "stdout",
     "output_type": "stream",
     "text": [
      "INFO:tensorflow:Assets written to: models/gru-w15_features-s100-p3/assets\n"
     ]
    },
    {
     "name": "stderr",
     "output_type": "stream",
     "text": [
      "INFO:tensorflow:Assets written to: models/gru-w15_features-s100-p3/assets\n"
     ]
    },
    {
     "name": "stdout",
     "output_type": "stream",
     "text": [
      "Epoch 1/3\n",
      "657/657 [==============================] - 3s 3ms/step - loss: 1.1262 - val_loss: 0.7555\n",
      "Epoch 2/3\n",
      "657/657 [==============================] - 2s 2ms/step - loss: 0.8172 - val_loss: 0.7001\n",
      "Epoch 3/3\n",
      "657/657 [==============================] - 2s 2ms/step - loss: 0.6533 - val_loss: 0.5755\n",
      "221/221 [==============================] - 1s 905us/step\n",
      "221/221 [==============================] - 1s 907us/step\n"
     ]
    },
    {
     "name": "stderr",
     "output_type": "stream",
     "text": [
      "WARNING:absl:Found untraced functions such as lstm_cell_32_layer_call_fn, lstm_cell_32_layer_call_and_return_conditional_losses, lstm_cell_33_layer_call_fn, lstm_cell_33_layer_call_and_return_conditional_losses while saving (showing 4 of 4). These functions will not be directly callable after loading.\n"
     ]
    },
    {
     "name": "stdout",
     "output_type": "stream",
     "text": [
      "INFO:tensorflow:Assets written to: ram://99b30137-8864-46d3-ae6a-120f1283dd8c/assets\n"
     ]
    },
    {
     "name": "stderr",
     "output_type": "stream",
     "text": [
      "INFO:tensorflow:Assets written to: ram://99b30137-8864-46d3-ae6a-120f1283dd8c/assets\n",
      "WARNING:absl:Found untraced functions such as lstm_cell_32_layer_call_fn, lstm_cell_32_layer_call_and_return_conditional_losses, lstm_cell_33_layer_call_fn, lstm_cell_33_layer_call_and_return_conditional_losses while saving (showing 4 of 4). These functions will not be directly callable after loading.\n"
     ]
    },
    {
     "name": "stdout",
     "output_type": "stream",
     "text": [
      "INFO:tensorflow:Assets written to: models/lstm-w20_features-s100-p0/assets\n"
     ]
    },
    {
     "name": "stderr",
     "output_type": "stream",
     "text": [
      "INFO:tensorflow:Assets written to: models/lstm-w20_features-s100-p0/assets\n",
      "WARNING:absl:Found untraced functions such as gru_cell_32_layer_call_fn, gru_cell_32_layer_call_and_return_conditional_losses, gru_cell_33_layer_call_fn, gru_cell_33_layer_call_and_return_conditional_losses while saving (showing 4 of 4). These functions will not be directly callable after loading.\n"
     ]
    },
    {
     "name": "stdout",
     "output_type": "stream",
     "text": [
      "INFO:tensorflow:Assets written to: ram://e3962cff-08ea-44f2-83ad-a9450b72fa26/assets\n"
     ]
    },
    {
     "name": "stderr",
     "output_type": "stream",
     "text": [
      "INFO:tensorflow:Assets written to: ram://e3962cff-08ea-44f2-83ad-a9450b72fa26/assets\n",
      "WARNING:absl:Found untraced functions such as gru_cell_32_layer_call_fn, gru_cell_32_layer_call_and_return_conditional_losses, gru_cell_33_layer_call_fn, gru_cell_33_layer_call_and_return_conditional_losses while saving (showing 4 of 4). These functions will not be directly callable after loading.\n"
     ]
    },
    {
     "name": "stdout",
     "output_type": "stream",
     "text": [
      "INFO:tensorflow:Assets written to: models/gru-w20_features-s100-p0/assets\n"
     ]
    },
    {
     "name": "stderr",
     "output_type": "stream",
     "text": [
      "INFO:tensorflow:Assets written to: models/gru-w20_features-s100-p0/assets\n"
     ]
    },
    {
     "name": "stdout",
     "output_type": "stream",
     "text": [
      "Epoch 1/3\n",
      "657/657 [==============================] - 4s 3ms/step - loss: 1.0319 - val_loss: 0.8116\n",
      "Epoch 2/3\n",
      "657/657 [==============================] - 2s 2ms/step - loss: 0.6836 - val_loss: 0.5975\n",
      "Epoch 3/3\n",
      "657/657 [==============================] - 2s 2ms/step - loss: 0.4911 - val_loss: 0.4108\n",
      "221/221 [==============================] - 1s 1ms/step\n",
      "221/221 [==============================] - 1s 905us/step\n"
     ]
    },
    {
     "name": "stderr",
     "output_type": "stream",
     "text": [
      "WARNING:absl:Found untraced functions such as lstm_cell_34_layer_call_fn, lstm_cell_34_layer_call_and_return_conditional_losses, lstm_cell_35_layer_call_fn, lstm_cell_35_layer_call_and_return_conditional_losses while saving (showing 4 of 4). These functions will not be directly callable after loading.\n"
     ]
    },
    {
     "name": "stdout",
     "output_type": "stream",
     "text": [
      "INFO:tensorflow:Assets written to: ram://bf661957-9331-4044-9854-afacebd0b746/assets\n"
     ]
    },
    {
     "name": "stderr",
     "output_type": "stream",
     "text": [
      "INFO:tensorflow:Assets written to: ram://bf661957-9331-4044-9854-afacebd0b746/assets\n",
      "WARNING:absl:Found untraced functions such as lstm_cell_34_layer_call_fn, lstm_cell_34_layer_call_and_return_conditional_losses, lstm_cell_35_layer_call_fn, lstm_cell_35_layer_call_and_return_conditional_losses while saving (showing 4 of 4). These functions will not be directly callable after loading.\n"
     ]
    },
    {
     "name": "stdout",
     "output_type": "stream",
     "text": [
      "INFO:tensorflow:Assets written to: models/lstm-w20_features-s100-p1/assets\n"
     ]
    },
    {
     "name": "stderr",
     "output_type": "stream",
     "text": [
      "INFO:tensorflow:Assets written to: models/lstm-w20_features-s100-p1/assets\n",
      "WARNING:absl:Found untraced functions such as gru_cell_34_layer_call_fn, gru_cell_34_layer_call_and_return_conditional_losses, gru_cell_35_layer_call_fn, gru_cell_35_layer_call_and_return_conditional_losses while saving (showing 4 of 4). These functions will not be directly callable after loading.\n"
     ]
    },
    {
     "name": "stdout",
     "output_type": "stream",
     "text": [
      "INFO:tensorflow:Assets written to: ram://24265925-a4da-4ebd-b88e-0099aa2a3f19/assets\n"
     ]
    },
    {
     "name": "stderr",
     "output_type": "stream",
     "text": [
      "INFO:tensorflow:Assets written to: ram://24265925-a4da-4ebd-b88e-0099aa2a3f19/assets\n",
      "WARNING:absl:Found untraced functions such as gru_cell_34_layer_call_fn, gru_cell_34_layer_call_and_return_conditional_losses, gru_cell_35_layer_call_fn, gru_cell_35_layer_call_and_return_conditional_losses while saving (showing 4 of 4). These functions will not be directly callable after loading.\n"
     ]
    },
    {
     "name": "stdout",
     "output_type": "stream",
     "text": [
      "INFO:tensorflow:Assets written to: models/gru-w20_features-s100-p1/assets\n"
     ]
    },
    {
     "name": "stderr",
     "output_type": "stream",
     "text": [
      "INFO:tensorflow:Assets written to: models/gru-w20_features-s100-p1/assets\n"
     ]
    },
    {
     "name": "stdout",
     "output_type": "stream",
     "text": [
      "Epoch 1/3\n",
      "657/657 [==============================] - 4s 3ms/step - loss: 1.1200 - val_loss: 0.7957\n",
      "Epoch 2/3\n",
      "657/657 [==============================] - 2s 3ms/step - loss: 0.7985 - val_loss: 0.7187\n",
      "Epoch 3/3\n",
      "657/657 [==============================] - 2s 2ms/step - loss: 0.6162 - val_loss: 0.5663\n",
      "221/221 [==============================] - 1s 1ms/step\n",
      "221/221 [==============================] - 1s 990us/step\n"
     ]
    },
    {
     "name": "stderr",
     "output_type": "stream",
     "text": [
      "WARNING:absl:Found untraced functions such as lstm_cell_36_layer_call_fn, lstm_cell_36_layer_call_and_return_conditional_losses, lstm_cell_37_layer_call_fn, lstm_cell_37_layer_call_and_return_conditional_losses while saving (showing 4 of 4). These functions will not be directly callable after loading.\n"
     ]
    },
    {
     "name": "stdout",
     "output_type": "stream",
     "text": [
      "INFO:tensorflow:Assets written to: ram://1a787cb3-34dd-456b-b8f1-da1a2070fea5/assets\n"
     ]
    },
    {
     "name": "stderr",
     "output_type": "stream",
     "text": [
      "INFO:tensorflow:Assets written to: ram://1a787cb3-34dd-456b-b8f1-da1a2070fea5/assets\n",
      "WARNING:absl:Found untraced functions such as lstm_cell_36_layer_call_fn, lstm_cell_36_layer_call_and_return_conditional_losses, lstm_cell_37_layer_call_fn, lstm_cell_37_layer_call_and_return_conditional_losses while saving (showing 4 of 4). These functions will not be directly callable after loading.\n"
     ]
    },
    {
     "name": "stdout",
     "output_type": "stream",
     "text": [
      "INFO:tensorflow:Assets written to: models/lstm-w20_features-s100-p2/assets\n"
     ]
    },
    {
     "name": "stderr",
     "output_type": "stream",
     "text": [
      "INFO:tensorflow:Assets written to: models/lstm-w20_features-s100-p2/assets\n",
      "WARNING:absl:Found untraced functions such as gru_cell_36_layer_call_fn, gru_cell_36_layer_call_and_return_conditional_losses, gru_cell_37_layer_call_fn, gru_cell_37_layer_call_and_return_conditional_losses while saving (showing 4 of 4). These functions will not be directly callable after loading.\n"
     ]
    },
    {
     "name": "stdout",
     "output_type": "stream",
     "text": [
      "INFO:tensorflow:Assets written to: ram://5bcbb037-fcca-4850-bcaf-da78c9b4ed4f/assets\n"
     ]
    },
    {
     "name": "stderr",
     "output_type": "stream",
     "text": [
      "INFO:tensorflow:Assets written to: ram://5bcbb037-fcca-4850-bcaf-da78c9b4ed4f/assets\n",
      "WARNING:absl:Found untraced functions such as gru_cell_36_layer_call_fn, gru_cell_36_layer_call_and_return_conditional_losses, gru_cell_37_layer_call_fn, gru_cell_37_layer_call_and_return_conditional_losses while saving (showing 4 of 4). These functions will not be directly callable after loading.\n"
     ]
    },
    {
     "name": "stdout",
     "output_type": "stream",
     "text": [
      "INFO:tensorflow:Assets written to: models/gru-w20_features-s100-p2/assets\n"
     ]
    },
    {
     "name": "stderr",
     "output_type": "stream",
     "text": [
      "INFO:tensorflow:Assets written to: models/gru-w20_features-s100-p2/assets\n"
     ]
    },
    {
     "name": "stdout",
     "output_type": "stream",
     "text": [
      "Epoch 1/3\n",
      "657/657 [==============================] - 4s 3ms/step - loss: 1.0453 - val_loss: 0.8215\n",
      "Epoch 2/3\n",
      "657/657 [==============================] - 2s 3ms/step - loss: 0.6629 - val_loss: 0.5712\n",
      "Epoch 3/3\n",
      "657/657 [==============================] - 2s 3ms/step - loss: 0.4471 - val_loss: 0.3788\n",
      "221/221 [==============================] - 1s 1ms/step\n",
      "221/221 [==============================] - 1s 1ms/step\n"
     ]
    },
    {
     "name": "stderr",
     "output_type": "stream",
     "text": [
      "WARNING:absl:Found untraced functions such as lstm_cell_38_layer_call_fn, lstm_cell_38_layer_call_and_return_conditional_losses, lstm_cell_39_layer_call_fn, lstm_cell_39_layer_call_and_return_conditional_losses while saving (showing 4 of 4). These functions will not be directly callable after loading.\n"
     ]
    },
    {
     "name": "stdout",
     "output_type": "stream",
     "text": [
      "INFO:tensorflow:Assets written to: ram://189b13f5-ee54-4102-a549-dbb44c6ef23a/assets\n"
     ]
    },
    {
     "name": "stderr",
     "output_type": "stream",
     "text": [
      "INFO:tensorflow:Assets written to: ram://189b13f5-ee54-4102-a549-dbb44c6ef23a/assets\n",
      "WARNING:absl:Found untraced functions such as lstm_cell_38_layer_call_fn, lstm_cell_38_layer_call_and_return_conditional_losses, lstm_cell_39_layer_call_fn, lstm_cell_39_layer_call_and_return_conditional_losses while saving (showing 4 of 4). These functions will not be directly callable after loading.\n"
     ]
    },
    {
     "name": "stdout",
     "output_type": "stream",
     "text": [
      "INFO:tensorflow:Assets written to: models/lstm-w20_features-s100-p3/assets\n"
     ]
    },
    {
     "name": "stderr",
     "output_type": "stream",
     "text": [
      "INFO:tensorflow:Assets written to: models/lstm-w20_features-s100-p3/assets\n",
      "WARNING:absl:Found untraced functions such as gru_cell_38_layer_call_fn, gru_cell_38_layer_call_and_return_conditional_losses, gru_cell_39_layer_call_fn, gru_cell_39_layer_call_and_return_conditional_losses while saving (showing 4 of 4). These functions will not be directly callable after loading.\n"
     ]
    },
    {
     "name": "stdout",
     "output_type": "stream",
     "text": [
      "INFO:tensorflow:Assets written to: ram://3c3cf73e-df4a-4e56-835f-113d30981f64/assets\n"
     ]
    },
    {
     "name": "stderr",
     "output_type": "stream",
     "text": [
      "INFO:tensorflow:Assets written to: ram://3c3cf73e-df4a-4e56-835f-113d30981f64/assets\n",
      "WARNING:absl:Found untraced functions such as gru_cell_38_layer_call_fn, gru_cell_38_layer_call_and_return_conditional_losses, gru_cell_39_layer_call_fn, gru_cell_39_layer_call_and_return_conditional_losses while saving (showing 4 of 4). These functions will not be directly callable after loading.\n"
     ]
    },
    {
     "name": "stdout",
     "output_type": "stream",
     "text": [
      "INFO:tensorflow:Assets written to: models/gru-w20_features-s100-p3/assets\n"
     ]
    },
    {
     "name": "stderr",
     "output_type": "stream",
     "text": [
      "INFO:tensorflow:Assets written to: models/gru-w20_features-s100-p3/assets\n"
     ]
    },
    {
     "name": "stdout",
     "output_type": "stream",
     "text": [
      "Epoch 1/3\n",
      "657/657 [==============================] - 3s 3ms/step - loss: 0.9868 - val_loss: 0.7649\n",
      "Epoch 2/3\n",
      "657/657 [==============================] - 2s 2ms/step - loss: 0.7298 - val_loss: 0.6298\n",
      "Epoch 3/3\n",
      "657/657 [==============================] - 2s 2ms/step - loss: 0.5605 - val_loss: 0.4719\n",
      "221/221 [==============================] - 1s 946us/step\n",
      "221/221 [==============================] - 1s 972us/step\n"
     ]
    },
    {
     "name": "stderr",
     "output_type": "stream",
     "text": [
      "WARNING:absl:Found untraced functions such as lstm_cell_40_layer_call_fn, lstm_cell_40_layer_call_and_return_conditional_losses, lstm_cell_41_layer_call_fn, lstm_cell_41_layer_call_and_return_conditional_losses while saving (showing 4 of 4). These functions will not be directly callable after loading.\n"
     ]
    },
    {
     "name": "stdout",
     "output_type": "stream",
     "text": [
      "INFO:tensorflow:Assets written to: ram://09e1e5be-a651-49d7-bae4-969e29671d9d/assets\n"
     ]
    },
    {
     "name": "stderr",
     "output_type": "stream",
     "text": [
      "INFO:tensorflow:Assets written to: ram://09e1e5be-a651-49d7-bae4-969e29671d9d/assets\n",
      "WARNING:absl:Found untraced functions such as lstm_cell_40_layer_call_fn, lstm_cell_40_layer_call_and_return_conditional_losses, lstm_cell_41_layer_call_fn, lstm_cell_41_layer_call_and_return_conditional_losses while saving (showing 4 of 4). These functions will not be directly callable after loading.\n"
     ]
    },
    {
     "name": "stdout",
     "output_type": "stream",
     "text": [
      "INFO:tensorflow:Assets written to: models/lstm-no_diff_features-s100-p0/assets\n"
     ]
    },
    {
     "name": "stderr",
     "output_type": "stream",
     "text": [
      "INFO:tensorflow:Assets written to: models/lstm-no_diff_features-s100-p0/assets\n",
      "WARNING:absl:Found untraced functions such as gru_cell_40_layer_call_fn, gru_cell_40_layer_call_and_return_conditional_losses, gru_cell_41_layer_call_fn, gru_cell_41_layer_call_and_return_conditional_losses while saving (showing 4 of 4). These functions will not be directly callable after loading.\n"
     ]
    },
    {
     "name": "stdout",
     "output_type": "stream",
     "text": [
      "INFO:tensorflow:Assets written to: ram://588088f6-7728-4b70-932a-3a9161946986/assets\n"
     ]
    },
    {
     "name": "stderr",
     "output_type": "stream",
     "text": [
      "INFO:tensorflow:Assets written to: ram://588088f6-7728-4b70-932a-3a9161946986/assets\n",
      "WARNING:absl:Found untraced functions such as gru_cell_40_layer_call_fn, gru_cell_40_layer_call_and_return_conditional_losses, gru_cell_41_layer_call_fn, gru_cell_41_layer_call_and_return_conditional_losses while saving (showing 4 of 4). These functions will not be directly callable after loading.\n"
     ]
    },
    {
     "name": "stdout",
     "output_type": "stream",
     "text": [
      "INFO:tensorflow:Assets written to: models/gru-no_diff_features-s100-p0/assets\n"
     ]
    },
    {
     "name": "stderr",
     "output_type": "stream",
     "text": [
      "INFO:tensorflow:Assets written to: models/gru-no_diff_features-s100-p0/assets\n"
     ]
    },
    {
     "name": "stdout",
     "output_type": "stream",
     "text": [
      "Epoch 1/3\n",
      "657/657 [==============================] - 4s 3ms/step - loss: 0.9487 - val_loss: 0.7181\n",
      "Epoch 2/3\n",
      "657/657 [==============================] - 2s 2ms/step - loss: 0.6223 - val_loss: 0.4648\n",
      "Epoch 3/3\n",
      "657/657 [==============================] - 2s 2ms/step - loss: 0.4243 - val_loss: 0.3058\n",
      "221/221 [==============================] - 1s 993us/step\n",
      "221/221 [==============================] - 1s 950us/step\n"
     ]
    },
    {
     "name": "stderr",
     "output_type": "stream",
     "text": [
      "WARNING:absl:Found untraced functions such as lstm_cell_42_layer_call_fn, lstm_cell_42_layer_call_and_return_conditional_losses, lstm_cell_43_layer_call_fn, lstm_cell_43_layer_call_and_return_conditional_losses while saving (showing 4 of 4). These functions will not be directly callable after loading.\n"
     ]
    },
    {
     "name": "stdout",
     "output_type": "stream",
     "text": [
      "INFO:tensorflow:Assets written to: ram://1696e283-a464-489b-878e-b7f23ffa4362/assets\n"
     ]
    },
    {
     "name": "stderr",
     "output_type": "stream",
     "text": [
      "INFO:tensorflow:Assets written to: ram://1696e283-a464-489b-878e-b7f23ffa4362/assets\n",
      "WARNING:absl:Found untraced functions such as lstm_cell_42_layer_call_fn, lstm_cell_42_layer_call_and_return_conditional_losses, lstm_cell_43_layer_call_fn, lstm_cell_43_layer_call_and_return_conditional_losses while saving (showing 4 of 4). These functions will not be directly callable after loading.\n"
     ]
    },
    {
     "name": "stdout",
     "output_type": "stream",
     "text": [
      "INFO:tensorflow:Assets written to: models/lstm-no_diff_features-s100-p1/assets\n"
     ]
    },
    {
     "name": "stderr",
     "output_type": "stream",
     "text": [
      "INFO:tensorflow:Assets written to: models/lstm-no_diff_features-s100-p1/assets\n",
      "WARNING:absl:Found untraced functions such as gru_cell_42_layer_call_fn, gru_cell_42_layer_call_and_return_conditional_losses, gru_cell_43_layer_call_fn, gru_cell_43_layer_call_and_return_conditional_losses while saving (showing 4 of 4). These functions will not be directly callable after loading.\n"
     ]
    },
    {
     "name": "stdout",
     "output_type": "stream",
     "text": [
      "INFO:tensorflow:Assets written to: ram://a1908a09-6cb9-4c1e-b640-3e4545774488/assets\n"
     ]
    },
    {
     "name": "stderr",
     "output_type": "stream",
     "text": [
      "INFO:tensorflow:Assets written to: ram://a1908a09-6cb9-4c1e-b640-3e4545774488/assets\n",
      "WARNING:absl:Found untraced functions such as gru_cell_42_layer_call_fn, gru_cell_42_layer_call_and_return_conditional_losses, gru_cell_43_layer_call_fn, gru_cell_43_layer_call_and_return_conditional_losses while saving (showing 4 of 4). These functions will not be directly callable after loading.\n"
     ]
    },
    {
     "name": "stdout",
     "output_type": "stream",
     "text": [
      "INFO:tensorflow:Assets written to: models/gru-no_diff_features-s100-p1/assets\n"
     ]
    },
    {
     "name": "stderr",
     "output_type": "stream",
     "text": [
      "INFO:tensorflow:Assets written to: models/gru-no_diff_features-s100-p1/assets\n"
     ]
    },
    {
     "name": "stdout",
     "output_type": "stream",
     "text": [
      "Epoch 1/3\n",
      "657/657 [==============================] - 4s 3ms/step - loss: 0.9860 - val_loss: 0.7889\n",
      "Epoch 2/3\n",
      "657/657 [==============================] - 2s 3ms/step - loss: 0.7110 - val_loss: 0.6155\n",
      "Epoch 3/3\n",
      "657/657 [==============================] - 2s 2ms/step - loss: 0.5061 - val_loss: 0.4249\n",
      "221/221 [==============================] - 1s 1ms/step\n",
      "221/221 [==============================] - 1s 1ms/step\n"
     ]
    },
    {
     "name": "stderr",
     "output_type": "stream",
     "text": [
      "WARNING:absl:Found untraced functions such as lstm_cell_44_layer_call_fn, lstm_cell_44_layer_call_and_return_conditional_losses, lstm_cell_45_layer_call_fn, lstm_cell_45_layer_call_and_return_conditional_losses while saving (showing 4 of 4). These functions will not be directly callable after loading.\n"
     ]
    },
    {
     "name": "stdout",
     "output_type": "stream",
     "text": [
      "INFO:tensorflow:Assets written to: ram://5b9dcac0-7285-421f-82fc-36c7a0437dbf/assets\n"
     ]
    },
    {
     "name": "stderr",
     "output_type": "stream",
     "text": [
      "INFO:tensorflow:Assets written to: ram://5b9dcac0-7285-421f-82fc-36c7a0437dbf/assets\n",
      "WARNING:absl:Found untraced functions such as lstm_cell_44_layer_call_fn, lstm_cell_44_layer_call_and_return_conditional_losses, lstm_cell_45_layer_call_fn, lstm_cell_45_layer_call_and_return_conditional_losses while saving (showing 4 of 4). These functions will not be directly callable after loading.\n"
     ]
    },
    {
     "name": "stdout",
     "output_type": "stream",
     "text": [
      "INFO:tensorflow:Assets written to: models/lstm-no_diff_features-s100-p2/assets\n"
     ]
    },
    {
     "name": "stderr",
     "output_type": "stream",
     "text": [
      "INFO:tensorflow:Assets written to: models/lstm-no_diff_features-s100-p2/assets\n",
      "WARNING:absl:Found untraced functions such as gru_cell_44_layer_call_fn, gru_cell_44_layer_call_and_return_conditional_losses, gru_cell_45_layer_call_fn, gru_cell_45_layer_call_and_return_conditional_losses while saving (showing 4 of 4). These functions will not be directly callable after loading.\n"
     ]
    },
    {
     "name": "stdout",
     "output_type": "stream",
     "text": [
      "INFO:tensorflow:Assets written to: ram://525cb081-8a45-4eda-896b-dff93b082415/assets\n"
     ]
    },
    {
     "name": "stderr",
     "output_type": "stream",
     "text": [
      "INFO:tensorflow:Assets written to: ram://525cb081-8a45-4eda-896b-dff93b082415/assets\n",
      "WARNING:absl:Found untraced functions such as gru_cell_44_layer_call_fn, gru_cell_44_layer_call_and_return_conditional_losses, gru_cell_45_layer_call_fn, gru_cell_45_layer_call_and_return_conditional_losses while saving (showing 4 of 4). These functions will not be directly callable after loading.\n"
     ]
    },
    {
     "name": "stdout",
     "output_type": "stream",
     "text": [
      "INFO:tensorflow:Assets written to: models/gru-no_diff_features-s100-p2/assets\n"
     ]
    },
    {
     "name": "stderr",
     "output_type": "stream",
     "text": [
      "INFO:tensorflow:Assets written to: models/gru-no_diff_features-s100-p2/assets\n"
     ]
    },
    {
     "name": "stdout",
     "output_type": "stream",
     "text": [
      "Epoch 1/3\n",
      "657/657 [==============================] - 4s 3ms/step - loss: 0.9461 - val_loss: 0.7041\n",
      "Epoch 2/3\n",
      "657/657 [==============================] - 2s 3ms/step - loss: 0.5838 - val_loss: 0.4082\n",
      "Epoch 3/3\n",
      "657/657 [==============================] - 2s 2ms/step - loss: 0.3559 - val_loss: 0.2413\n",
      "221/221 [==============================] - 1s 1ms/step\n",
      "221/221 [==============================] - 1s 1ms/step\n"
     ]
    },
    {
     "name": "stderr",
     "output_type": "stream",
     "text": [
      "WARNING:absl:Found untraced functions such as lstm_cell_46_layer_call_fn, lstm_cell_46_layer_call_and_return_conditional_losses, lstm_cell_47_layer_call_fn, lstm_cell_47_layer_call_and_return_conditional_losses while saving (showing 4 of 4). These functions will not be directly callable after loading.\n"
     ]
    },
    {
     "name": "stdout",
     "output_type": "stream",
     "text": [
      "INFO:tensorflow:Assets written to: ram://03e53996-a363-4ebb-aed2-c67473296433/assets\n"
     ]
    },
    {
     "name": "stderr",
     "output_type": "stream",
     "text": [
      "INFO:tensorflow:Assets written to: ram://03e53996-a363-4ebb-aed2-c67473296433/assets\n",
      "WARNING:absl:Found untraced functions such as lstm_cell_46_layer_call_fn, lstm_cell_46_layer_call_and_return_conditional_losses, lstm_cell_47_layer_call_fn, lstm_cell_47_layer_call_and_return_conditional_losses while saving (showing 4 of 4). These functions will not be directly callable after loading.\n"
     ]
    },
    {
     "name": "stdout",
     "output_type": "stream",
     "text": [
      "INFO:tensorflow:Assets written to: models/lstm-no_diff_features-s100-p3/assets\n"
     ]
    },
    {
     "name": "stderr",
     "output_type": "stream",
     "text": [
      "INFO:tensorflow:Assets written to: models/lstm-no_diff_features-s100-p3/assets\n",
      "WARNING:absl:Found untraced functions such as gru_cell_46_layer_call_fn, gru_cell_46_layer_call_and_return_conditional_losses, gru_cell_47_layer_call_fn, gru_cell_47_layer_call_and_return_conditional_losses while saving (showing 4 of 4). These functions will not be directly callable after loading.\n"
     ]
    },
    {
     "name": "stdout",
     "output_type": "stream",
     "text": [
      "INFO:tensorflow:Assets written to: ram://c9525c4d-06a4-4e31-ac42-b50b12306000/assets\n"
     ]
    },
    {
     "name": "stderr",
     "output_type": "stream",
     "text": [
      "INFO:tensorflow:Assets written to: ram://c9525c4d-06a4-4e31-ac42-b50b12306000/assets\n",
      "WARNING:absl:Found untraced functions such as gru_cell_46_layer_call_fn, gru_cell_46_layer_call_and_return_conditional_losses, gru_cell_47_layer_call_fn, gru_cell_47_layer_call_and_return_conditional_losses while saving (showing 4 of 4). These functions will not be directly callable after loading.\n"
     ]
    },
    {
     "name": "stdout",
     "output_type": "stream",
     "text": [
      "INFO:tensorflow:Assets written to: models/gru-no_diff_features-s100-p3/assets\n"
     ]
    },
    {
     "name": "stderr",
     "output_type": "stream",
     "text": [
      "INFO:tensorflow:Assets written to: models/gru-no_diff_features-s100-p3/assets\n"
     ]
    },
    {
     "name": "stdout",
     "output_type": "stream",
     "text": [
      "Epoch 1/3\n",
      "657/657 [==============================] - 3s 3ms/step - loss: 1.0768 - val_loss: 0.7155\n",
      "Epoch 2/3\n",
      "657/657 [==============================] - 1s 2ms/step - loss: 0.7924 - val_loss: 0.6107\n",
      "Epoch 3/3\n",
      "657/657 [==============================] - 2s 2ms/step - loss: 0.6511 - val_loss: 0.4915\n",
      "221/221 [==============================] - 1s 969us/step\n",
      "221/221 [==============================] - 1s 874us/step\n"
     ]
    },
    {
     "name": "stderr",
     "output_type": "stream",
     "text": [
      "WARNING:absl:Found untraced functions such as lstm_cell_48_layer_call_fn, lstm_cell_48_layer_call_and_return_conditional_losses, lstm_cell_49_layer_call_fn, lstm_cell_49_layer_call_and_return_conditional_losses while saving (showing 4 of 4). These functions will not be directly callable after loading.\n"
     ]
    },
    {
     "name": "stdout",
     "output_type": "stream",
     "text": [
      "INFO:tensorflow:Assets written to: ram://c9b43e91-988a-42b0-beb8-748b9b85ffbd/assets\n"
     ]
    },
    {
     "name": "stderr",
     "output_type": "stream",
     "text": [
      "INFO:tensorflow:Assets written to: ram://c9b43e91-988a-42b0-beb8-748b9b85ffbd/assets\n",
      "WARNING:absl:Found untraced functions such as lstm_cell_48_layer_call_fn, lstm_cell_48_layer_call_and_return_conditional_losses, lstm_cell_49_layer_call_fn, lstm_cell_49_layer_call_and_return_conditional_losses while saving (showing 4 of 4). These functions will not be directly callable after loading.\n"
     ]
    },
    {
     "name": "stdout",
     "output_type": "stream",
     "text": [
      "INFO:tensorflow:Assets written to: models/lstm-diff_features-s100-p0/assets\n"
     ]
    },
    {
     "name": "stderr",
     "output_type": "stream",
     "text": [
      "INFO:tensorflow:Assets written to: models/lstm-diff_features-s100-p0/assets\n",
      "WARNING:absl:Found untraced functions such as gru_cell_48_layer_call_fn, gru_cell_48_layer_call_and_return_conditional_losses, gru_cell_49_layer_call_fn, gru_cell_49_layer_call_and_return_conditional_losses while saving (showing 4 of 4). These functions will not be directly callable after loading.\n"
     ]
    },
    {
     "name": "stdout",
     "output_type": "stream",
     "text": [
      "INFO:tensorflow:Assets written to: ram://3e5cfd9b-861d-4fc4-8d94-ad8e8a7f3784/assets\n"
     ]
    },
    {
     "name": "stderr",
     "output_type": "stream",
     "text": [
      "INFO:tensorflow:Assets written to: ram://3e5cfd9b-861d-4fc4-8d94-ad8e8a7f3784/assets\n",
      "WARNING:absl:Found untraced functions such as gru_cell_48_layer_call_fn, gru_cell_48_layer_call_and_return_conditional_losses, gru_cell_49_layer_call_fn, gru_cell_49_layer_call_and_return_conditional_losses while saving (showing 4 of 4). These functions will not be directly callable after loading.\n"
     ]
    },
    {
     "name": "stdout",
     "output_type": "stream",
     "text": [
      "INFO:tensorflow:Assets written to: models/gru-diff_features-s100-p0/assets\n"
     ]
    },
    {
     "name": "stderr",
     "output_type": "stream",
     "text": [
      "INFO:tensorflow:Assets written to: models/gru-diff_features-s100-p0/assets\n"
     ]
    },
    {
     "name": "stdout",
     "output_type": "stream",
     "text": [
      "Epoch 1/3\n",
      "657/657 [==============================] - 3s 3ms/step - loss: 1.0570 - val_loss: 0.7248\n",
      "Epoch 2/3\n",
      "657/657 [==============================] - 2s 2ms/step - loss: 0.6952 - val_loss: 0.5455\n",
      "Epoch 3/3\n",
      "657/657 [==============================] - 2s 2ms/step - loss: 0.5415 - val_loss: 0.3924\n",
      "221/221 [==============================] - 1s 1ms/step\n",
      "221/221 [==============================] - 1s 960us/step\n"
     ]
    },
    {
     "name": "stderr",
     "output_type": "stream",
     "text": [
      "WARNING:absl:Found untraced functions such as lstm_cell_50_layer_call_fn, lstm_cell_50_layer_call_and_return_conditional_losses, lstm_cell_51_layer_call_fn, lstm_cell_51_layer_call_and_return_conditional_losses while saving (showing 4 of 4). These functions will not be directly callable after loading.\n"
     ]
    },
    {
     "name": "stdout",
     "output_type": "stream",
     "text": [
      "INFO:tensorflow:Assets written to: ram://3b46296b-b7ba-4cf1-aa77-11e650cd0cb5/assets\n"
     ]
    },
    {
     "name": "stderr",
     "output_type": "stream",
     "text": [
      "INFO:tensorflow:Assets written to: ram://3b46296b-b7ba-4cf1-aa77-11e650cd0cb5/assets\n",
      "WARNING:absl:Found untraced functions such as lstm_cell_50_layer_call_fn, lstm_cell_50_layer_call_and_return_conditional_losses, lstm_cell_51_layer_call_fn, lstm_cell_51_layer_call_and_return_conditional_losses while saving (showing 4 of 4). These functions will not be directly callable after loading.\n"
     ]
    },
    {
     "name": "stdout",
     "output_type": "stream",
     "text": [
      "INFO:tensorflow:Assets written to: models/lstm-diff_features-s100-p1/assets\n"
     ]
    },
    {
     "name": "stderr",
     "output_type": "stream",
     "text": [
      "INFO:tensorflow:Assets written to: models/lstm-diff_features-s100-p1/assets\n",
      "WARNING:absl:Found untraced functions such as gru_cell_50_layer_call_fn, gru_cell_50_layer_call_and_return_conditional_losses, gru_cell_51_layer_call_fn, gru_cell_51_layer_call_and_return_conditional_losses while saving (showing 4 of 4). These functions will not be directly callable after loading.\n"
     ]
    },
    {
     "name": "stdout",
     "output_type": "stream",
     "text": [
      "INFO:tensorflow:Assets written to: ram://86052778-cfb7-46b0-850e-8a6a414528f7/assets\n"
     ]
    },
    {
     "name": "stderr",
     "output_type": "stream",
     "text": [
      "INFO:tensorflow:Assets written to: ram://86052778-cfb7-46b0-850e-8a6a414528f7/assets\n",
      "WARNING:absl:Found untraced functions such as gru_cell_50_layer_call_fn, gru_cell_50_layer_call_and_return_conditional_losses, gru_cell_51_layer_call_fn, gru_cell_51_layer_call_and_return_conditional_losses while saving (showing 4 of 4). These functions will not be directly callable after loading.\n"
     ]
    },
    {
     "name": "stdout",
     "output_type": "stream",
     "text": [
      "INFO:tensorflow:Assets written to: models/gru-diff_features-s100-p1/assets\n"
     ]
    },
    {
     "name": "stderr",
     "output_type": "stream",
     "text": [
      "INFO:tensorflow:Assets written to: models/gru-diff_features-s100-p1/assets\n"
     ]
    },
    {
     "name": "stdout",
     "output_type": "stream",
     "text": [
      "Epoch 1/3\n",
      "657/657 [==============================] - 4s 3ms/step - loss: 1.1079 - val_loss: 0.7533\n",
      "Epoch 2/3\n",
      "657/657 [==============================] - 2s 2ms/step - loss: 0.8044 - val_loss: 0.6539\n",
      "Epoch 3/3\n",
      "657/657 [==============================] - 2s 2ms/step - loss: 0.6511 - val_loss: 0.5268\n",
      "221/221 [==============================] - 1s 1ms/step\n",
      "221/221 [==============================] - 1s 959us/step\n"
     ]
    },
    {
     "name": "stderr",
     "output_type": "stream",
     "text": [
      "WARNING:absl:Found untraced functions such as lstm_cell_52_layer_call_fn, lstm_cell_52_layer_call_and_return_conditional_losses, lstm_cell_53_layer_call_fn, lstm_cell_53_layer_call_and_return_conditional_losses while saving (showing 4 of 4). These functions will not be directly callable after loading.\n"
     ]
    },
    {
     "name": "stdout",
     "output_type": "stream",
     "text": [
      "INFO:tensorflow:Assets written to: ram://2c4be079-57b2-4ace-aac3-99638ebbabf5/assets\n"
     ]
    },
    {
     "name": "stderr",
     "output_type": "stream",
     "text": [
      "INFO:tensorflow:Assets written to: ram://2c4be079-57b2-4ace-aac3-99638ebbabf5/assets\n",
      "WARNING:absl:Found untraced functions such as lstm_cell_52_layer_call_fn, lstm_cell_52_layer_call_and_return_conditional_losses, lstm_cell_53_layer_call_fn, lstm_cell_53_layer_call_and_return_conditional_losses while saving (showing 4 of 4). These functions will not be directly callable after loading.\n"
     ]
    },
    {
     "name": "stdout",
     "output_type": "stream",
     "text": [
      "INFO:tensorflow:Assets written to: models/lstm-diff_features-s100-p2/assets\n"
     ]
    },
    {
     "name": "stderr",
     "output_type": "stream",
     "text": [
      "INFO:tensorflow:Assets written to: models/lstm-diff_features-s100-p2/assets\n",
      "WARNING:absl:Found untraced functions such as gru_cell_52_layer_call_fn, gru_cell_52_layer_call_and_return_conditional_losses, gru_cell_53_layer_call_fn, gru_cell_53_layer_call_and_return_conditional_losses while saving (showing 4 of 4). These functions will not be directly callable after loading.\n"
     ]
    },
    {
     "name": "stdout",
     "output_type": "stream",
     "text": [
      "INFO:tensorflow:Assets written to: ram://fe223382-8783-44d6-9145-14feabb35c43/assets\n"
     ]
    },
    {
     "name": "stderr",
     "output_type": "stream",
     "text": [
      "INFO:tensorflow:Assets written to: ram://fe223382-8783-44d6-9145-14feabb35c43/assets\n",
      "WARNING:absl:Found untraced functions such as gru_cell_52_layer_call_fn, gru_cell_52_layer_call_and_return_conditional_losses, gru_cell_53_layer_call_fn, gru_cell_53_layer_call_and_return_conditional_losses while saving (showing 4 of 4). These functions will not be directly callable after loading.\n"
     ]
    },
    {
     "name": "stdout",
     "output_type": "stream",
     "text": [
      "INFO:tensorflow:Assets written to: models/gru-diff_features-s100-p2/assets\n"
     ]
    },
    {
     "name": "stderr",
     "output_type": "stream",
     "text": [
      "INFO:tensorflow:Assets written to: models/gru-diff_features-s100-p2/assets\n"
     ]
    },
    {
     "name": "stdout",
     "output_type": "stream",
     "text": [
      "Epoch 1/3\n",
      "657/657 [==============================] - 4s 3ms/step - loss: 1.0893 - val_loss: 0.7467\n",
      "Epoch 2/3\n",
      "657/657 [==============================] - 2s 2ms/step - loss: 0.6882 - val_loss: 0.5479\n",
      "Epoch 3/3\n",
      "657/657 [==============================] - 2s 3ms/step - loss: 0.5151 - val_loss: 0.3796\n",
      "221/221 [==============================] - 1s 1ms/step\n",
      "221/221 [==============================] - 1s 1ms/step\n"
     ]
    },
    {
     "name": "stderr",
     "output_type": "stream",
     "text": [
      "WARNING:absl:Found untraced functions such as lstm_cell_54_layer_call_fn, lstm_cell_54_layer_call_and_return_conditional_losses, lstm_cell_55_layer_call_fn, lstm_cell_55_layer_call_and_return_conditional_losses while saving (showing 4 of 4). These functions will not be directly callable after loading.\n"
     ]
    },
    {
     "name": "stdout",
     "output_type": "stream",
     "text": [
      "INFO:tensorflow:Assets written to: ram://a84987ff-683f-4d13-91cb-c4ca164cadcc/assets\n"
     ]
    },
    {
     "name": "stderr",
     "output_type": "stream",
     "text": [
      "INFO:tensorflow:Assets written to: ram://a84987ff-683f-4d13-91cb-c4ca164cadcc/assets\n",
      "WARNING:absl:Found untraced functions such as lstm_cell_54_layer_call_fn, lstm_cell_54_layer_call_and_return_conditional_losses, lstm_cell_55_layer_call_fn, lstm_cell_55_layer_call_and_return_conditional_losses while saving (showing 4 of 4). These functions will not be directly callable after loading.\n"
     ]
    },
    {
     "name": "stdout",
     "output_type": "stream",
     "text": [
      "INFO:tensorflow:Assets written to: models/lstm-diff_features-s100-p3/assets\n"
     ]
    },
    {
     "name": "stderr",
     "output_type": "stream",
     "text": [
      "INFO:tensorflow:Assets written to: models/lstm-diff_features-s100-p3/assets\n",
      "WARNING:absl:Found untraced functions such as gru_cell_54_layer_call_fn, gru_cell_54_layer_call_and_return_conditional_losses, gru_cell_55_layer_call_fn, gru_cell_55_layer_call_and_return_conditional_losses while saving (showing 4 of 4). These functions will not be directly callable after loading.\n"
     ]
    },
    {
     "name": "stdout",
     "output_type": "stream",
     "text": [
      "INFO:tensorflow:Assets written to: ram://3e2d2ff0-21be-4153-aa84-34138d85e6c3/assets\n"
     ]
    },
    {
     "name": "stderr",
     "output_type": "stream",
     "text": [
      "INFO:tensorflow:Assets written to: ram://3e2d2ff0-21be-4153-aa84-34138d85e6c3/assets\n",
      "WARNING:absl:Found untraced functions such as gru_cell_54_layer_call_fn, gru_cell_54_layer_call_and_return_conditional_losses, gru_cell_55_layer_call_fn, gru_cell_55_layer_call_and_return_conditional_losses while saving (showing 4 of 4). These functions will not be directly callable after loading.\n"
     ]
    },
    {
     "name": "stdout",
     "output_type": "stream",
     "text": [
      "INFO:tensorflow:Assets written to: models/gru-diff_features-s100-p3/assets\n"
     ]
    },
    {
     "name": "stderr",
     "output_type": "stream",
     "text": [
      "INFO:tensorflow:Assets written to: models/gru-diff_features-s100-p3/assets\n"
     ]
    },
    {
     "name": "stdout",
     "output_type": "stream",
     "text": [
      "Epoch 1/3\n",
      "657/657 [==============================] - 3s 3ms/step - loss: 0.9743 - val_loss: 0.8079\n",
      "Epoch 2/3\n",
      "657/657 [==============================] - 1s 2ms/step - loss: 0.6631 - val_loss: 0.5999\n",
      "Epoch 3/3\n",
      "657/657 [==============================] - 2s 2ms/step - loss: 0.4887 - val_loss: 0.4189\n",
      "221/221 [==============================] - 1s 1ms/step\n",
      "221/221 [==============================] - 1s 932us/step\n"
     ]
    },
    {
     "name": "stderr",
     "output_type": "stream",
     "text": [
      "WARNING:absl:Found untraced functions such as lstm_cell_56_layer_call_fn, lstm_cell_56_layer_call_and_return_conditional_losses, lstm_cell_57_layer_call_fn, lstm_cell_57_layer_call_and_return_conditional_losses while saving (showing 4 of 4). These functions will not be directly callable after loading.\n"
     ]
    },
    {
     "name": "stdout",
     "output_type": "stream",
     "text": [
      "INFO:tensorflow:Assets written to: ram://58f45615-5d06-4a0f-afd2-366770052ca4/assets\n"
     ]
    },
    {
     "name": "stderr",
     "output_type": "stream",
     "text": [
      "INFO:tensorflow:Assets written to: ram://58f45615-5d06-4a0f-afd2-366770052ca4/assets\n",
      "WARNING:absl:Found untraced functions such as lstm_cell_56_layer_call_fn, lstm_cell_56_layer_call_and_return_conditional_losses, lstm_cell_57_layer_call_fn, lstm_cell_57_layer_call_and_return_conditional_losses while saving (showing 4 of 4). These functions will not be directly callable after loading.\n"
     ]
    },
    {
     "name": "stdout",
     "output_type": "stream",
     "text": [
      "INFO:tensorflow:Assets written to: models/lstm-all_features-s200-p0/assets\n"
     ]
    },
    {
     "name": "stderr",
     "output_type": "stream",
     "text": [
      "INFO:tensorflow:Assets written to: models/lstm-all_features-s200-p0/assets\n",
      "WARNING:absl:Found untraced functions such as gru_cell_56_layer_call_fn, gru_cell_56_layer_call_and_return_conditional_losses, gru_cell_57_layer_call_fn, gru_cell_57_layer_call_and_return_conditional_losses while saving (showing 4 of 4). These functions will not be directly callable after loading.\n"
     ]
    },
    {
     "name": "stdout",
     "output_type": "stream",
     "text": [
      "INFO:tensorflow:Assets written to: ram://53d94613-99e5-48cd-8dbd-5c8c0d5b2139/assets\n"
     ]
    },
    {
     "name": "stderr",
     "output_type": "stream",
     "text": [
      "INFO:tensorflow:Assets written to: ram://53d94613-99e5-48cd-8dbd-5c8c0d5b2139/assets\n",
      "WARNING:absl:Found untraced functions such as gru_cell_56_layer_call_fn, gru_cell_56_layer_call_and_return_conditional_losses, gru_cell_57_layer_call_fn, gru_cell_57_layer_call_and_return_conditional_losses while saving (showing 4 of 4). These functions will not be directly callable after loading.\n"
     ]
    },
    {
     "name": "stdout",
     "output_type": "stream",
     "text": [
      "INFO:tensorflow:Assets written to: models/gru-all_features-s200-p0/assets\n"
     ]
    },
    {
     "name": "stderr",
     "output_type": "stream",
     "text": [
      "INFO:tensorflow:Assets written to: models/gru-all_features-s200-p0/assets\n"
     ]
    },
    {
     "name": "stdout",
     "output_type": "stream",
     "text": [
      "Epoch 1/3\n",
      "657/657 [==============================] - 3s 3ms/step - loss: 0.8560 - val_loss: 0.6510\n",
      "Epoch 2/3\n",
      "657/657 [==============================] - 2s 2ms/step - loss: 0.5110 - val_loss: 0.3992\n",
      "Epoch 3/3\n",
      "657/657 [==============================] - 2s 2ms/step - loss: 0.3155 - val_loss: 0.2260\n",
      "221/221 [==============================] - 1s 1ms/step\n",
      "221/221 [==============================] - 1s 1ms/step\n"
     ]
    },
    {
     "name": "stderr",
     "output_type": "stream",
     "text": [
      "WARNING:absl:Found untraced functions such as lstm_cell_58_layer_call_fn, lstm_cell_58_layer_call_and_return_conditional_losses, lstm_cell_59_layer_call_fn, lstm_cell_59_layer_call_and_return_conditional_losses while saving (showing 4 of 4). These functions will not be directly callable after loading.\n"
     ]
    },
    {
     "name": "stdout",
     "output_type": "stream",
     "text": [
      "INFO:tensorflow:Assets written to: ram://5863a582-20d2-4fba-b3fd-4502eed3e332/assets\n"
     ]
    },
    {
     "name": "stderr",
     "output_type": "stream",
     "text": [
      "INFO:tensorflow:Assets written to: ram://5863a582-20d2-4fba-b3fd-4502eed3e332/assets\n",
      "WARNING:absl:Found untraced functions such as lstm_cell_58_layer_call_fn, lstm_cell_58_layer_call_and_return_conditional_losses, lstm_cell_59_layer_call_fn, lstm_cell_59_layer_call_and_return_conditional_losses while saving (showing 4 of 4). These functions will not be directly callable after loading.\n"
     ]
    },
    {
     "name": "stdout",
     "output_type": "stream",
     "text": [
      "INFO:tensorflow:Assets written to: models/lstm-all_features-s200-p1/assets\n"
     ]
    },
    {
     "name": "stderr",
     "output_type": "stream",
     "text": [
      "INFO:tensorflow:Assets written to: models/lstm-all_features-s200-p1/assets\n",
      "WARNING:absl:Found untraced functions such as gru_cell_58_layer_call_fn, gru_cell_58_layer_call_and_return_conditional_losses, gru_cell_59_layer_call_fn, gru_cell_59_layer_call_and_return_conditional_losses while saving (showing 4 of 4). These functions will not be directly callable after loading.\n"
     ]
    },
    {
     "name": "stdout",
     "output_type": "stream",
     "text": [
      "INFO:tensorflow:Assets written to: ram://ae0d788a-1f95-4d02-ba03-5c842252330d/assets\n"
     ]
    },
    {
     "name": "stderr",
     "output_type": "stream",
     "text": [
      "INFO:tensorflow:Assets written to: ram://ae0d788a-1f95-4d02-ba03-5c842252330d/assets\n",
      "WARNING:absl:Found untraced functions such as gru_cell_58_layer_call_fn, gru_cell_58_layer_call_and_return_conditional_losses, gru_cell_59_layer_call_fn, gru_cell_59_layer_call_and_return_conditional_losses while saving (showing 4 of 4). These functions will not be directly callable after loading.\n"
     ]
    },
    {
     "name": "stdout",
     "output_type": "stream",
     "text": [
      "INFO:tensorflow:Assets written to: models/gru-all_features-s200-p1/assets\n"
     ]
    },
    {
     "name": "stderr",
     "output_type": "stream",
     "text": [
      "INFO:tensorflow:Assets written to: models/gru-all_features-s200-p1/assets\n"
     ]
    },
    {
     "name": "stdout",
     "output_type": "stream",
     "text": [
      "Epoch 1/3\n",
      "657/657 [==============================] - 4s 3ms/step - loss: 0.9698 - val_loss: 0.8245\n",
      "Epoch 2/3\n",
      "657/657 [==============================] - 2s 2ms/step - loss: 0.6530 - val_loss: 0.5950\n",
      "Epoch 3/3\n",
      "657/657 [==============================] - 2s 3ms/step - loss: 0.4582 - val_loss: 0.3943\n",
      "221/221 [==============================] - 1s 1ms/step\n",
      "221/221 [==============================] - 1s 1ms/step\n"
     ]
    },
    {
     "name": "stderr",
     "output_type": "stream",
     "text": [
      "WARNING:absl:Found untraced functions such as lstm_cell_60_layer_call_fn, lstm_cell_60_layer_call_and_return_conditional_losses, lstm_cell_61_layer_call_fn, lstm_cell_61_layer_call_and_return_conditional_losses while saving (showing 4 of 4). These functions will not be directly callable after loading.\n"
     ]
    },
    {
     "name": "stdout",
     "output_type": "stream",
     "text": [
      "INFO:tensorflow:Assets written to: ram://28abe04c-47cd-4565-bbf2-8542eb550861/assets\n"
     ]
    },
    {
     "name": "stderr",
     "output_type": "stream",
     "text": [
      "INFO:tensorflow:Assets written to: ram://28abe04c-47cd-4565-bbf2-8542eb550861/assets\n",
      "WARNING:absl:Found untraced functions such as lstm_cell_60_layer_call_fn, lstm_cell_60_layer_call_and_return_conditional_losses, lstm_cell_61_layer_call_fn, lstm_cell_61_layer_call_and_return_conditional_losses while saving (showing 4 of 4). These functions will not be directly callable after loading.\n"
     ]
    },
    {
     "name": "stdout",
     "output_type": "stream",
     "text": [
      "INFO:tensorflow:Assets written to: models/lstm-all_features-s200-p2/assets\n"
     ]
    },
    {
     "name": "stderr",
     "output_type": "stream",
     "text": [
      "INFO:tensorflow:Assets written to: models/lstm-all_features-s200-p2/assets\n",
      "WARNING:absl:Found untraced functions such as gru_cell_60_layer_call_fn, gru_cell_60_layer_call_and_return_conditional_losses, gru_cell_61_layer_call_fn, gru_cell_61_layer_call_and_return_conditional_losses while saving (showing 4 of 4). These functions will not be directly callable after loading.\n"
     ]
    },
    {
     "name": "stdout",
     "output_type": "stream",
     "text": [
      "INFO:tensorflow:Assets written to: ram://c17dcccf-6d92-416e-ba08-c05709c92af9/assets\n"
     ]
    },
    {
     "name": "stderr",
     "output_type": "stream",
     "text": [
      "INFO:tensorflow:Assets written to: ram://c17dcccf-6d92-416e-ba08-c05709c92af9/assets\n",
      "WARNING:absl:Found untraced functions such as gru_cell_60_layer_call_fn, gru_cell_60_layer_call_and_return_conditional_losses, gru_cell_61_layer_call_fn, gru_cell_61_layer_call_and_return_conditional_losses while saving (showing 4 of 4). These functions will not be directly callable after loading.\n"
     ]
    },
    {
     "name": "stdout",
     "output_type": "stream",
     "text": [
      "INFO:tensorflow:Assets written to: models/gru-all_features-s200-p2/assets\n"
     ]
    },
    {
     "name": "stderr",
     "output_type": "stream",
     "text": [
      "INFO:tensorflow:Assets written to: models/gru-all_features-s200-p2/assets\n"
     ]
    },
    {
     "name": "stdout",
     "output_type": "stream",
     "text": [
      "Epoch 1/3\n",
      "657/657 [==============================] - 4s 3ms/step - loss: 0.8628 - val_loss: 0.6561\n",
      "Epoch 2/3\n",
      "657/657 [==============================] - 2s 3ms/step - loss: 0.4773 - val_loss: 0.3585\n",
      "Epoch 3/3\n",
      "657/657 [==============================] - 2s 3ms/step - loss: 0.2543 - val_loss: 0.1792\n",
      "221/221 [==============================] - 1s 1ms/step\n",
      "221/221 [==============================] - 1s 1ms/step\n"
     ]
    },
    {
     "name": "stderr",
     "output_type": "stream",
     "text": [
      "WARNING:absl:Found untraced functions such as lstm_cell_62_layer_call_fn, lstm_cell_62_layer_call_and_return_conditional_losses, lstm_cell_63_layer_call_fn, lstm_cell_63_layer_call_and_return_conditional_losses while saving (showing 4 of 4). These functions will not be directly callable after loading.\n"
     ]
    },
    {
     "name": "stdout",
     "output_type": "stream",
     "text": [
      "INFO:tensorflow:Assets written to: ram://2e3b2d5f-55ff-45db-9410-d5be7cde2465/assets\n"
     ]
    },
    {
     "name": "stderr",
     "output_type": "stream",
     "text": [
      "INFO:tensorflow:Assets written to: ram://2e3b2d5f-55ff-45db-9410-d5be7cde2465/assets\n",
      "WARNING:absl:Found untraced functions such as lstm_cell_62_layer_call_fn, lstm_cell_62_layer_call_and_return_conditional_losses, lstm_cell_63_layer_call_fn, lstm_cell_63_layer_call_and_return_conditional_losses while saving (showing 4 of 4). These functions will not be directly callable after loading.\n"
     ]
    },
    {
     "name": "stdout",
     "output_type": "stream",
     "text": [
      "INFO:tensorflow:Assets written to: models/lstm-all_features-s200-p3/assets\n"
     ]
    },
    {
     "name": "stderr",
     "output_type": "stream",
     "text": [
      "INFO:tensorflow:Assets written to: models/lstm-all_features-s200-p3/assets\n",
      "WARNING:absl:Found untraced functions such as gru_cell_62_layer_call_fn, gru_cell_62_layer_call_and_return_conditional_losses, gru_cell_63_layer_call_fn, gru_cell_63_layer_call_and_return_conditional_losses while saving (showing 4 of 4). These functions will not be directly callable after loading.\n"
     ]
    },
    {
     "name": "stdout",
     "output_type": "stream",
     "text": [
      "INFO:tensorflow:Assets written to: ram://f35696f3-86db-4e80-a8fc-3f132ce65211/assets\n"
     ]
    },
    {
     "name": "stderr",
     "output_type": "stream",
     "text": [
      "INFO:tensorflow:Assets written to: ram://f35696f3-86db-4e80-a8fc-3f132ce65211/assets\n",
      "WARNING:absl:Found untraced functions such as gru_cell_62_layer_call_fn, gru_cell_62_layer_call_and_return_conditional_losses, gru_cell_63_layer_call_fn, gru_cell_63_layer_call_and_return_conditional_losses while saving (showing 4 of 4). These functions will not be directly callable after loading.\n"
     ]
    },
    {
     "name": "stdout",
     "output_type": "stream",
     "text": [
      "INFO:tensorflow:Assets written to: models/gru-all_features-s200-p3/assets\n"
     ]
    },
    {
     "name": "stderr",
     "output_type": "stream",
     "text": [
      "INFO:tensorflow:Assets written to: models/gru-all_features-s200-p3/assets\n"
     ]
    },
    {
     "name": "stdout",
     "output_type": "stream",
     "text": [
      "Epoch 1/3\n",
      "657/657 [==============================] - 3s 3ms/step - loss: 1.1072 - val_loss: 0.7355\n",
      "Epoch 2/3\n",
      "657/657 [==============================] - 1s 2ms/step - loss: 0.7775 - val_loss: 0.6260\n",
      "Epoch 3/3\n",
      "657/657 [==============================] - 1s 2ms/step - loss: 0.6242 - val_loss: 0.4706\n",
      "221/221 [==============================] - 1s 930us/step\n",
      "221/221 [==============================] - 1s 883us/step\n"
     ]
    },
    {
     "name": "stderr",
     "output_type": "stream",
     "text": [
      "WARNING:absl:Found untraced functions such as lstm_cell_64_layer_call_fn, lstm_cell_64_layer_call_and_return_conditional_losses, lstm_cell_65_layer_call_fn, lstm_cell_65_layer_call_and_return_conditional_losses while saving (showing 4 of 4). These functions will not be directly callable after loading.\n"
     ]
    },
    {
     "name": "stdout",
     "output_type": "stream",
     "text": [
      "INFO:tensorflow:Assets written to: ram://1452bb7e-3e49-459e-b96f-b8ff543199a6/assets\n"
     ]
    },
    {
     "name": "stderr",
     "output_type": "stream",
     "text": [
      "INFO:tensorflow:Assets written to: ram://1452bb7e-3e49-459e-b96f-b8ff543199a6/assets\n",
      "WARNING:absl:Found untraced functions such as lstm_cell_64_layer_call_fn, lstm_cell_64_layer_call_and_return_conditional_losses, lstm_cell_65_layer_call_fn, lstm_cell_65_layer_call_and_return_conditional_losses while saving (showing 4 of 4). These functions will not be directly callable after loading.\n"
     ]
    },
    {
     "name": "stdout",
     "output_type": "stream",
     "text": [
      "INFO:tensorflow:Assets written to: models/lstm-w5_features-s200-p0/assets\n"
     ]
    },
    {
     "name": "stderr",
     "output_type": "stream",
     "text": [
      "INFO:tensorflow:Assets written to: models/lstm-w5_features-s200-p0/assets\n",
      "WARNING:absl:Found untraced functions such as gru_cell_64_layer_call_fn, gru_cell_64_layer_call_and_return_conditional_losses, gru_cell_65_layer_call_fn, gru_cell_65_layer_call_and_return_conditional_losses while saving (showing 4 of 4). These functions will not be directly callable after loading.\n"
     ]
    },
    {
     "name": "stdout",
     "output_type": "stream",
     "text": [
      "INFO:tensorflow:Assets written to: ram://e18cf376-3778-438a-9875-6d672c244769/assets\n"
     ]
    },
    {
     "name": "stderr",
     "output_type": "stream",
     "text": [
      "INFO:tensorflow:Assets written to: ram://e18cf376-3778-438a-9875-6d672c244769/assets\n",
      "WARNING:absl:Found untraced functions such as gru_cell_64_layer_call_fn, gru_cell_64_layer_call_and_return_conditional_losses, gru_cell_65_layer_call_fn, gru_cell_65_layer_call_and_return_conditional_losses while saving (showing 4 of 4). These functions will not be directly callable after loading.\n"
     ]
    },
    {
     "name": "stdout",
     "output_type": "stream",
     "text": [
      "INFO:tensorflow:Assets written to: models/gru-w5_features-s200-p0/assets\n"
     ]
    },
    {
     "name": "stderr",
     "output_type": "stream",
     "text": [
      "INFO:tensorflow:Assets written to: models/gru-w5_features-s200-p0/assets\n"
     ]
    },
    {
     "name": "stdout",
     "output_type": "stream",
     "text": [
      "Epoch 1/3\n",
      "657/657 [==============================] - 4s 3ms/step - loss: 0.9050 - val_loss: 0.6854\n",
      "Epoch 2/3\n",
      "657/657 [==============================] - 2s 2ms/step - loss: 0.6193 - val_loss: 0.4563\n",
      "Epoch 3/3\n",
      "657/657 [==============================] - 2s 2ms/step - loss: 0.4404 - val_loss: 0.2827\n",
      "221/221 [==============================] - 1s 985us/step\n",
      "221/221 [==============================] - 1s 955us/step\n"
     ]
    },
    {
     "name": "stderr",
     "output_type": "stream",
     "text": [
      "WARNING:absl:Found untraced functions such as lstm_cell_66_layer_call_fn, lstm_cell_66_layer_call_and_return_conditional_losses, lstm_cell_67_layer_call_fn, lstm_cell_67_layer_call_and_return_conditional_losses while saving (showing 4 of 4). These functions will not be directly callable after loading.\n"
     ]
    },
    {
     "name": "stdout",
     "output_type": "stream",
     "text": [
      "INFO:tensorflow:Assets written to: ram://cf0b0239-aa73-4e8c-b28c-79c1d9e6de9c/assets\n"
     ]
    },
    {
     "name": "stderr",
     "output_type": "stream",
     "text": [
      "INFO:tensorflow:Assets written to: ram://cf0b0239-aa73-4e8c-b28c-79c1d9e6de9c/assets\n",
      "WARNING:absl:Found untraced functions such as lstm_cell_66_layer_call_fn, lstm_cell_66_layer_call_and_return_conditional_losses, lstm_cell_67_layer_call_fn, lstm_cell_67_layer_call_and_return_conditional_losses while saving (showing 4 of 4). These functions will not be directly callable after loading.\n"
     ]
    },
    {
     "name": "stdout",
     "output_type": "stream",
     "text": [
      "INFO:tensorflow:Assets written to: models/lstm-w5_features-s200-p1/assets\n"
     ]
    },
    {
     "name": "stderr",
     "output_type": "stream",
     "text": [
      "INFO:tensorflow:Assets written to: models/lstm-w5_features-s200-p1/assets\n",
      "WARNING:absl:Found untraced functions such as gru_cell_66_layer_call_fn, gru_cell_66_layer_call_and_return_conditional_losses, gru_cell_67_layer_call_fn, gru_cell_67_layer_call_and_return_conditional_losses while saving (showing 4 of 4). These functions will not be directly callable after loading.\n"
     ]
    },
    {
     "name": "stdout",
     "output_type": "stream",
     "text": [
      "INFO:tensorflow:Assets written to: ram://b43f8127-4f90-49cf-ab00-3055d7a6f5c4/assets\n"
     ]
    },
    {
     "name": "stderr",
     "output_type": "stream",
     "text": [
      "INFO:tensorflow:Assets written to: ram://b43f8127-4f90-49cf-ab00-3055d7a6f5c4/assets\n",
      "WARNING:absl:Found untraced functions such as gru_cell_66_layer_call_fn, gru_cell_66_layer_call_and_return_conditional_losses, gru_cell_67_layer_call_fn, gru_cell_67_layer_call_and_return_conditional_losses while saving (showing 4 of 4). These functions will not be directly callable after loading.\n"
     ]
    },
    {
     "name": "stdout",
     "output_type": "stream",
     "text": [
      "INFO:tensorflow:Assets written to: models/gru-w5_features-s200-p1/assets\n"
     ]
    },
    {
     "name": "stderr",
     "output_type": "stream",
     "text": [
      "INFO:tensorflow:Assets written to: models/gru-w5_features-s200-p1/assets\n"
     ]
    },
    {
     "name": "stdout",
     "output_type": "stream",
     "text": [
      "Epoch 1/3\n",
      "657/657 [==============================] - 4s 3ms/step - loss: 1.1041 - val_loss: 0.7519\n",
      "Epoch 2/3\n",
      "657/657 [==============================] - 2s 2ms/step - loss: 0.7604 - val_loss: 0.6139\n",
      "Epoch 3/3\n",
      "657/657 [==============================] - 2s 2ms/step - loss: 0.5864 - val_loss: 0.4259\n",
      "221/221 [==============================] - 1s 990us/step\n",
      "221/221 [==============================] - 1s 950us/step\n"
     ]
    },
    {
     "name": "stderr",
     "output_type": "stream",
     "text": [
      "WARNING:absl:Found untraced functions such as lstm_cell_68_layer_call_fn, lstm_cell_68_layer_call_and_return_conditional_losses, lstm_cell_69_layer_call_fn, lstm_cell_69_layer_call_and_return_conditional_losses while saving (showing 4 of 4). These functions will not be directly callable after loading.\n"
     ]
    },
    {
     "name": "stdout",
     "output_type": "stream",
     "text": [
      "INFO:tensorflow:Assets written to: ram://8bfe6c4f-6011-4f3f-8f8f-ed267d88acd2/assets\n"
     ]
    },
    {
     "name": "stderr",
     "output_type": "stream",
     "text": [
      "INFO:tensorflow:Assets written to: ram://8bfe6c4f-6011-4f3f-8f8f-ed267d88acd2/assets\n",
      "WARNING:absl:Found untraced functions such as lstm_cell_68_layer_call_fn, lstm_cell_68_layer_call_and_return_conditional_losses, lstm_cell_69_layer_call_fn, lstm_cell_69_layer_call_and_return_conditional_losses while saving (showing 4 of 4). These functions will not be directly callable after loading.\n"
     ]
    },
    {
     "name": "stdout",
     "output_type": "stream",
     "text": [
      "INFO:tensorflow:Assets written to: models/lstm-w5_features-s200-p2/assets\n"
     ]
    },
    {
     "name": "stderr",
     "output_type": "stream",
     "text": [
      "INFO:tensorflow:Assets written to: models/lstm-w5_features-s200-p2/assets\n",
      "WARNING:absl:Found untraced functions such as gru_cell_68_layer_call_fn, gru_cell_68_layer_call_and_return_conditional_losses, gru_cell_69_layer_call_fn, gru_cell_69_layer_call_and_return_conditional_losses while saving (showing 4 of 4). These functions will not be directly callable after loading.\n"
     ]
    },
    {
     "name": "stdout",
     "output_type": "stream",
     "text": [
      "INFO:tensorflow:Assets written to: ram://9d095fa6-e095-4441-8eb5-09fac331ebe5/assets\n"
     ]
    },
    {
     "name": "stderr",
     "output_type": "stream",
     "text": [
      "INFO:tensorflow:Assets written to: ram://9d095fa6-e095-4441-8eb5-09fac331ebe5/assets\n",
      "WARNING:absl:Found untraced functions such as gru_cell_68_layer_call_fn, gru_cell_68_layer_call_and_return_conditional_losses, gru_cell_69_layer_call_fn, gru_cell_69_layer_call_and_return_conditional_losses while saving (showing 4 of 4). These functions will not be directly callable after loading.\n"
     ]
    },
    {
     "name": "stdout",
     "output_type": "stream",
     "text": [
      "INFO:tensorflow:Assets written to: models/gru-w5_features-s200-p2/assets\n"
     ]
    },
    {
     "name": "stderr",
     "output_type": "stream",
     "text": [
      "INFO:tensorflow:Assets written to: models/gru-w5_features-s200-p2/assets\n"
     ]
    },
    {
     "name": "stdout",
     "output_type": "stream",
     "text": [
      "Epoch 1/3\n",
      "657/657 [==============================] - 4s 3ms/step - loss: 0.9200 - val_loss: 0.6788\n",
      "Epoch 2/3\n",
      "657/657 [==============================] - 2s 2ms/step - loss: 0.5857 - val_loss: 0.3883\n",
      "Epoch 3/3\n",
      "657/657 [==============================] - 2s 3ms/step - loss: 0.3937 - val_loss: 0.2262\n",
      "221/221 [==============================] - 1s 1ms/step\n",
      "221/221 [==============================] - 1s 1ms/step\n"
     ]
    },
    {
     "name": "stderr",
     "output_type": "stream",
     "text": [
      "WARNING:absl:Found untraced functions such as lstm_cell_70_layer_call_fn, lstm_cell_70_layer_call_and_return_conditional_losses, lstm_cell_71_layer_call_fn, lstm_cell_71_layer_call_and_return_conditional_losses while saving (showing 4 of 4). These functions will not be directly callable after loading.\n"
     ]
    },
    {
     "name": "stdout",
     "output_type": "stream",
     "text": [
      "INFO:tensorflow:Assets written to: ram://6225a26c-b768-41ce-b4de-3a609bb2ce86/assets\n"
     ]
    },
    {
     "name": "stderr",
     "output_type": "stream",
     "text": [
      "INFO:tensorflow:Assets written to: ram://6225a26c-b768-41ce-b4de-3a609bb2ce86/assets\n",
      "WARNING:absl:Found untraced functions such as lstm_cell_70_layer_call_fn, lstm_cell_70_layer_call_and_return_conditional_losses, lstm_cell_71_layer_call_fn, lstm_cell_71_layer_call_and_return_conditional_losses while saving (showing 4 of 4). These functions will not be directly callable after loading.\n"
     ]
    },
    {
     "name": "stdout",
     "output_type": "stream",
     "text": [
      "INFO:tensorflow:Assets written to: models/lstm-w5_features-s200-p3/assets\n"
     ]
    },
    {
     "name": "stderr",
     "output_type": "stream",
     "text": [
      "INFO:tensorflow:Assets written to: models/lstm-w5_features-s200-p3/assets\n",
      "WARNING:absl:Found untraced functions such as gru_cell_70_layer_call_fn, gru_cell_70_layer_call_and_return_conditional_losses, gru_cell_71_layer_call_fn, gru_cell_71_layer_call_and_return_conditional_losses while saving (showing 4 of 4). These functions will not be directly callable after loading.\n"
     ]
    },
    {
     "name": "stdout",
     "output_type": "stream",
     "text": [
      "INFO:tensorflow:Assets written to: ram://eac9519c-7ae1-4222-943b-6aba0160766d/assets\n"
     ]
    },
    {
     "name": "stderr",
     "output_type": "stream",
     "text": [
      "INFO:tensorflow:Assets written to: ram://eac9519c-7ae1-4222-943b-6aba0160766d/assets\n",
      "WARNING:absl:Found untraced functions such as gru_cell_70_layer_call_fn, gru_cell_70_layer_call_and_return_conditional_losses, gru_cell_71_layer_call_fn, gru_cell_71_layer_call_and_return_conditional_losses while saving (showing 4 of 4). These functions will not be directly callable after loading.\n"
     ]
    },
    {
     "name": "stdout",
     "output_type": "stream",
     "text": [
      "INFO:tensorflow:Assets written to: models/gru-w5_features-s200-p3/assets\n"
     ]
    },
    {
     "name": "stderr",
     "output_type": "stream",
     "text": [
      "INFO:tensorflow:Assets written to: models/gru-w5_features-s200-p3/assets\n"
     ]
    },
    {
     "name": "stdout",
     "output_type": "stream",
     "text": [
      "Epoch 1/3\n",
      "657/657 [==============================] - 3s 3ms/step - loss: 1.1661 - val_loss: 0.7742\n",
      "Epoch 2/3\n",
      "657/657 [==============================] - 1s 2ms/step - loss: 0.8276 - val_loss: 0.6923\n",
      "Epoch 3/3\n",
      "657/657 [==============================] - 1s 2ms/step - loss: 0.6675 - val_loss: 0.5391\n",
      "221/221 [==============================] - 1s 950us/step\n",
      "221/221 [==============================] - 1s 877us/step\n"
     ]
    },
    {
     "name": "stderr",
     "output_type": "stream",
     "text": [
      "WARNING:absl:Found untraced functions such as lstm_cell_72_layer_call_fn, lstm_cell_72_layer_call_and_return_conditional_losses, lstm_cell_73_layer_call_fn, lstm_cell_73_layer_call_and_return_conditional_losses while saving (showing 4 of 4). These functions will not be directly callable after loading.\n"
     ]
    },
    {
     "name": "stdout",
     "output_type": "stream",
     "text": [
      "INFO:tensorflow:Assets written to: ram://d7f03f53-05da-4d7e-a3f6-06252c7e6e03/assets\n"
     ]
    },
    {
     "name": "stderr",
     "output_type": "stream",
     "text": [
      "INFO:tensorflow:Assets written to: ram://d7f03f53-05da-4d7e-a3f6-06252c7e6e03/assets\n",
      "WARNING:absl:Found untraced functions such as lstm_cell_72_layer_call_fn, lstm_cell_72_layer_call_and_return_conditional_losses, lstm_cell_73_layer_call_fn, lstm_cell_73_layer_call_and_return_conditional_losses while saving (showing 4 of 4). These functions will not be directly callable after loading.\n"
     ]
    },
    {
     "name": "stdout",
     "output_type": "stream",
     "text": [
      "INFO:tensorflow:Assets written to: models/lstm-w10_features-s200-p0/assets\n"
     ]
    },
    {
     "name": "stderr",
     "output_type": "stream",
     "text": [
      "INFO:tensorflow:Assets written to: models/lstm-w10_features-s200-p0/assets\n",
      "WARNING:absl:Found untraced functions such as gru_cell_72_layer_call_fn, gru_cell_72_layer_call_and_return_conditional_losses, gru_cell_73_layer_call_fn, gru_cell_73_layer_call_and_return_conditional_losses while saving (showing 4 of 4). These functions will not be directly callable after loading.\n"
     ]
    },
    {
     "name": "stdout",
     "output_type": "stream",
     "text": [
      "INFO:tensorflow:Assets written to: ram://77c9f950-391c-4021-a831-67693b5b543d/assets\n"
     ]
    },
    {
     "name": "stderr",
     "output_type": "stream",
     "text": [
      "INFO:tensorflow:Assets written to: ram://77c9f950-391c-4021-a831-67693b5b543d/assets\n",
      "WARNING:absl:Found untraced functions such as gru_cell_72_layer_call_fn, gru_cell_72_layer_call_and_return_conditional_losses, gru_cell_73_layer_call_fn, gru_cell_73_layer_call_and_return_conditional_losses while saving (showing 4 of 4). These functions will not be directly callable after loading.\n"
     ]
    },
    {
     "name": "stdout",
     "output_type": "stream",
     "text": [
      "INFO:tensorflow:Assets written to: models/gru-w10_features-s200-p0/assets\n"
     ]
    },
    {
     "name": "stderr",
     "output_type": "stream",
     "text": [
      "INFO:tensorflow:Assets written to: models/gru-w10_features-s200-p0/assets\n"
     ]
    },
    {
     "name": "stdout",
     "output_type": "stream",
     "text": [
      "Epoch 1/3\n",
      "657/657 [==============================] - 3s 3ms/step - loss: 0.9480 - val_loss: 0.7441\n",
      "Epoch 2/3\n",
      "657/657 [==============================] - 2s 2ms/step - loss: 0.6528 - val_loss: 0.4783\n",
      "Epoch 3/3\n",
      "657/657 [==============================] - 2s 2ms/step - loss: 0.4665 - val_loss: 0.2827\n",
      "221/221 [==============================] - 1s 989us/step\n",
      "221/221 [==============================] - 1s 869us/step\n"
     ]
    },
    {
     "name": "stderr",
     "output_type": "stream",
     "text": [
      "WARNING:absl:Found untraced functions such as lstm_cell_74_layer_call_fn, lstm_cell_74_layer_call_and_return_conditional_losses, lstm_cell_75_layer_call_fn, lstm_cell_75_layer_call_and_return_conditional_losses while saving (showing 4 of 4). These functions will not be directly callable after loading.\n"
     ]
    },
    {
     "name": "stdout",
     "output_type": "stream",
     "text": [
      "INFO:tensorflow:Assets written to: ram://35f50bdd-f9e6-46b8-9e72-de5763051eb0/assets\n"
     ]
    },
    {
     "name": "stderr",
     "output_type": "stream",
     "text": [
      "INFO:tensorflow:Assets written to: ram://35f50bdd-f9e6-46b8-9e72-de5763051eb0/assets\n",
      "WARNING:absl:Found untraced functions such as lstm_cell_74_layer_call_fn, lstm_cell_74_layer_call_and_return_conditional_losses, lstm_cell_75_layer_call_fn, lstm_cell_75_layer_call_and_return_conditional_losses while saving (showing 4 of 4). These functions will not be directly callable after loading.\n"
     ]
    },
    {
     "name": "stdout",
     "output_type": "stream",
     "text": [
      "INFO:tensorflow:Assets written to: models/lstm-w10_features-s200-p1/assets\n"
     ]
    },
    {
     "name": "stderr",
     "output_type": "stream",
     "text": [
      "INFO:tensorflow:Assets written to: models/lstm-w10_features-s200-p1/assets\n",
      "WARNING:absl:Found untraced functions such as gru_cell_74_layer_call_fn, gru_cell_74_layer_call_and_return_conditional_losses, gru_cell_75_layer_call_fn, gru_cell_75_layer_call_and_return_conditional_losses while saving (showing 4 of 4). These functions will not be directly callable after loading.\n"
     ]
    },
    {
     "name": "stdout",
     "output_type": "stream",
     "text": [
      "INFO:tensorflow:Assets written to: ram://6278d173-4b2d-4d74-a8c1-e1099c52fb70/assets\n"
     ]
    },
    {
     "name": "stderr",
     "output_type": "stream",
     "text": [
      "INFO:tensorflow:Assets written to: ram://6278d173-4b2d-4d74-a8c1-e1099c52fb70/assets\n",
      "WARNING:absl:Found untraced functions such as gru_cell_74_layer_call_fn, gru_cell_74_layer_call_and_return_conditional_losses, gru_cell_75_layer_call_fn, gru_cell_75_layer_call_and_return_conditional_losses while saving (showing 4 of 4). These functions will not be directly callable after loading.\n"
     ]
    },
    {
     "name": "stdout",
     "output_type": "stream",
     "text": [
      "INFO:tensorflow:Assets written to: models/gru-w10_features-s200-p1/assets\n"
     ]
    },
    {
     "name": "stderr",
     "output_type": "stream",
     "text": [
      "INFO:tensorflow:Assets written to: models/gru-w10_features-s200-p1/assets\n"
     ]
    },
    {
     "name": "stdout",
     "output_type": "stream",
     "text": [
      "Epoch 1/3\n",
      "657/657 [==============================] - 4s 3ms/step - loss: 1.1581 - val_loss: 0.8018\n",
      "Epoch 2/3\n",
      "657/657 [==============================] - 2s 2ms/step - loss: 0.8084 - val_loss: 0.6974\n",
      "Epoch 3/3\n",
      "657/657 [==============================] - 2s 2ms/step - loss: 0.6296 - val_loss: 0.5093\n",
      "221/221 [==============================] - 1s 1ms/step\n",
      "221/221 [==============================] - 1s 989us/step\n"
     ]
    },
    {
     "name": "stderr",
     "output_type": "stream",
     "text": [
      "WARNING:absl:Found untraced functions such as lstm_cell_76_layer_call_fn, lstm_cell_76_layer_call_and_return_conditional_losses, lstm_cell_77_layer_call_fn, lstm_cell_77_layer_call_and_return_conditional_losses while saving (showing 4 of 4). These functions will not be directly callable after loading.\n"
     ]
    },
    {
     "name": "stdout",
     "output_type": "stream",
     "text": [
      "INFO:tensorflow:Assets written to: ram://30808202-0900-4787-a2fb-971da5fd0995/assets\n"
     ]
    },
    {
     "name": "stderr",
     "output_type": "stream",
     "text": [
      "INFO:tensorflow:Assets written to: ram://30808202-0900-4787-a2fb-971da5fd0995/assets\n",
      "WARNING:absl:Found untraced functions such as lstm_cell_76_layer_call_fn, lstm_cell_76_layer_call_and_return_conditional_losses, lstm_cell_77_layer_call_fn, lstm_cell_77_layer_call_and_return_conditional_losses while saving (showing 4 of 4). These functions will not be directly callable after loading.\n"
     ]
    },
    {
     "name": "stdout",
     "output_type": "stream",
     "text": [
      "INFO:tensorflow:Assets written to: models/lstm-w10_features-s200-p2/assets\n"
     ]
    },
    {
     "name": "stderr",
     "output_type": "stream",
     "text": [
      "INFO:tensorflow:Assets written to: models/lstm-w10_features-s200-p2/assets\n",
      "WARNING:absl:Found untraced functions such as gru_cell_76_layer_call_fn, gru_cell_76_layer_call_and_return_conditional_losses, gru_cell_77_layer_call_fn, gru_cell_77_layer_call_and_return_conditional_losses while saving (showing 4 of 4). These functions will not be directly callable after loading.\n"
     ]
    },
    {
     "name": "stdout",
     "output_type": "stream",
     "text": [
      "INFO:tensorflow:Assets written to: ram://b6f96749-de94-4349-a8df-5df2cd82997a/assets\n"
     ]
    },
    {
     "name": "stderr",
     "output_type": "stream",
     "text": [
      "INFO:tensorflow:Assets written to: ram://b6f96749-de94-4349-a8df-5df2cd82997a/assets\n",
      "WARNING:absl:Found untraced functions such as gru_cell_76_layer_call_fn, gru_cell_76_layer_call_and_return_conditional_losses, gru_cell_77_layer_call_fn, gru_cell_77_layer_call_and_return_conditional_losses while saving (showing 4 of 4). These functions will not be directly callable after loading.\n"
     ]
    },
    {
     "name": "stdout",
     "output_type": "stream",
     "text": [
      "INFO:tensorflow:Assets written to: models/gru-w10_features-s200-p2/assets\n"
     ]
    },
    {
     "name": "stderr",
     "output_type": "stream",
     "text": [
      "INFO:tensorflow:Assets written to: models/gru-w10_features-s200-p2/assets\n"
     ]
    },
    {
     "name": "stdout",
     "output_type": "stream",
     "text": [
      "Epoch 1/3\n",
      "657/657 [==============================] - 4s 3ms/step - loss: 0.9475 - val_loss: 0.7352\n",
      "Epoch 2/3\n",
      "657/657 [==============================] - 2s 3ms/step - loss: 0.6189 - val_loss: 0.4173\n",
      "Epoch 3/3\n",
      "657/657 [==============================] - 2s 2ms/step - loss: 0.4070 - val_loss: 0.2283\n",
      "221/221 [==============================] - 1s 1ms/step\n",
      "221/221 [==============================] - 1s 956us/step\n"
     ]
    },
    {
     "name": "stderr",
     "output_type": "stream",
     "text": [
      "WARNING:absl:Found untraced functions such as lstm_cell_78_layer_call_fn, lstm_cell_78_layer_call_and_return_conditional_losses, lstm_cell_79_layer_call_fn, lstm_cell_79_layer_call_and_return_conditional_losses while saving (showing 4 of 4). These functions will not be directly callable after loading.\n"
     ]
    },
    {
     "name": "stdout",
     "output_type": "stream",
     "text": [
      "INFO:tensorflow:Assets written to: ram://8ed5115d-1087-475b-844d-89a30c1d4573/assets\n"
     ]
    },
    {
     "name": "stderr",
     "output_type": "stream",
     "text": [
      "INFO:tensorflow:Assets written to: ram://8ed5115d-1087-475b-844d-89a30c1d4573/assets\n",
      "WARNING:absl:Found untraced functions such as lstm_cell_78_layer_call_fn, lstm_cell_78_layer_call_and_return_conditional_losses, lstm_cell_79_layer_call_fn, lstm_cell_79_layer_call_and_return_conditional_losses while saving (showing 4 of 4). These functions will not be directly callable after loading.\n"
     ]
    },
    {
     "name": "stdout",
     "output_type": "stream",
     "text": [
      "INFO:tensorflow:Assets written to: models/lstm-w10_features-s200-p3/assets\n"
     ]
    },
    {
     "name": "stderr",
     "output_type": "stream",
     "text": [
      "INFO:tensorflow:Assets written to: models/lstm-w10_features-s200-p3/assets\n",
      "WARNING:absl:Found untraced functions such as gru_cell_78_layer_call_fn, gru_cell_78_layer_call_and_return_conditional_losses, gru_cell_79_layer_call_fn, gru_cell_79_layer_call_and_return_conditional_losses while saving (showing 4 of 4). These functions will not be directly callable after loading.\n"
     ]
    },
    {
     "name": "stdout",
     "output_type": "stream",
     "text": [
      "INFO:tensorflow:Assets written to: ram://29427d1d-2726-42ee-ac29-1c9f137f8ba8/assets\n"
     ]
    },
    {
     "name": "stderr",
     "output_type": "stream",
     "text": [
      "INFO:tensorflow:Assets written to: ram://29427d1d-2726-42ee-ac29-1c9f137f8ba8/assets\n",
      "WARNING:absl:Found untraced functions such as gru_cell_78_layer_call_fn, gru_cell_78_layer_call_and_return_conditional_losses, gru_cell_79_layer_call_fn, gru_cell_79_layer_call_and_return_conditional_losses while saving (showing 4 of 4). These functions will not be directly callable after loading.\n"
     ]
    },
    {
     "name": "stdout",
     "output_type": "stream",
     "text": [
      "INFO:tensorflow:Assets written to: models/gru-w10_features-s200-p3/assets\n"
     ]
    },
    {
     "name": "stderr",
     "output_type": "stream",
     "text": [
      "INFO:tensorflow:Assets written to: models/gru-w10_features-s200-p3/assets\n"
     ]
    },
    {
     "name": "stdout",
     "output_type": "stream",
     "text": [
      "Epoch 1/3\n",
      "657/657 [==============================] - 3s 3ms/step - loss: 1.1906 - val_loss: 0.8032\n",
      "Epoch 2/3\n",
      "657/657 [==============================] - 2s 2ms/step - loss: 0.8402 - val_loss: 0.7403\n",
      "Epoch 3/3\n",
      "657/657 [==============================] - 1s 2ms/step - loss: 0.6763 - val_loss: 0.5914\n",
      "221/221 [==============================] - 1s 945us/step\n",
      "221/221 [==============================] - 1s 894us/step\n"
     ]
    },
    {
     "name": "stderr",
     "output_type": "stream",
     "text": [
      "WARNING:absl:Found untraced functions such as lstm_cell_80_layer_call_fn, lstm_cell_80_layer_call_and_return_conditional_losses, lstm_cell_81_layer_call_fn, lstm_cell_81_layer_call_and_return_conditional_losses while saving (showing 4 of 4). These functions will not be directly callable after loading.\n"
     ]
    },
    {
     "name": "stdout",
     "output_type": "stream",
     "text": [
      "INFO:tensorflow:Assets written to: ram://9ef7773b-e7d3-4aab-aa37-98ee22d65918/assets\n"
     ]
    },
    {
     "name": "stderr",
     "output_type": "stream",
     "text": [
      "INFO:tensorflow:Assets written to: ram://9ef7773b-e7d3-4aab-aa37-98ee22d65918/assets\n",
      "WARNING:absl:Found untraced functions such as lstm_cell_80_layer_call_fn, lstm_cell_80_layer_call_and_return_conditional_losses, lstm_cell_81_layer_call_fn, lstm_cell_81_layer_call_and_return_conditional_losses while saving (showing 4 of 4). These functions will not be directly callable after loading.\n"
     ]
    },
    {
     "name": "stdout",
     "output_type": "stream",
     "text": [
      "INFO:tensorflow:Assets written to: models/lstm-w15_features-s200-p0/assets\n"
     ]
    },
    {
     "name": "stderr",
     "output_type": "stream",
     "text": [
      "INFO:tensorflow:Assets written to: models/lstm-w15_features-s200-p0/assets\n",
      "WARNING:absl:Found untraced functions such as gru_cell_80_layer_call_fn, gru_cell_80_layer_call_and_return_conditional_losses, gru_cell_81_layer_call_fn, gru_cell_81_layer_call_and_return_conditional_losses while saving (showing 4 of 4). These functions will not be directly callable after loading.\n"
     ]
    },
    {
     "name": "stdout",
     "output_type": "stream",
     "text": [
      "INFO:tensorflow:Assets written to: ram://3d02d76f-78d2-40c7-81d4-f6ade2f887e3/assets\n"
     ]
    },
    {
     "name": "stderr",
     "output_type": "stream",
     "text": [
      "INFO:tensorflow:Assets written to: ram://3d02d76f-78d2-40c7-81d4-f6ade2f887e3/assets\n",
      "WARNING:absl:Found untraced functions such as gru_cell_80_layer_call_fn, gru_cell_80_layer_call_and_return_conditional_losses, gru_cell_81_layer_call_fn, gru_cell_81_layer_call_and_return_conditional_losses while saving (showing 4 of 4). These functions will not be directly callable after loading.\n"
     ]
    },
    {
     "name": "stdout",
     "output_type": "stream",
     "text": [
      "INFO:tensorflow:Assets written to: models/gru-w15_features-s200-p0/assets\n"
     ]
    },
    {
     "name": "stderr",
     "output_type": "stream",
     "text": [
      "INFO:tensorflow:Assets written to: models/gru-w15_features-s200-p0/assets\n"
     ]
    },
    {
     "name": "stdout",
     "output_type": "stream",
     "text": [
      "Epoch 1/3\n",
      "657/657 [==============================] - 3s 3ms/step - loss: 0.9488 - val_loss: 0.7779\n",
      "Epoch 2/3\n",
      "657/657 [==============================] - 1s 2ms/step - loss: 0.6523 - val_loss: 0.5136\n",
      "Epoch 3/3\n",
      "657/657 [==============================] - 2s 2ms/step - loss: 0.4609 - val_loss: 0.3080\n",
      "221/221 [==============================] - 1s 1ms/step\n",
      "221/221 [==============================] - 1s 921us/step\n"
     ]
    },
    {
     "name": "stderr",
     "output_type": "stream",
     "text": [
      "WARNING:absl:Found untraced functions such as lstm_cell_82_layer_call_fn, lstm_cell_82_layer_call_and_return_conditional_losses, lstm_cell_83_layer_call_fn, lstm_cell_83_layer_call_and_return_conditional_losses while saving (showing 4 of 4). These functions will not be directly callable after loading.\n"
     ]
    },
    {
     "name": "stdout",
     "output_type": "stream",
     "text": [
      "INFO:tensorflow:Assets written to: ram://01fd0774-cfc6-4051-992f-eb66a4616499/assets\n"
     ]
    },
    {
     "name": "stderr",
     "output_type": "stream",
     "text": [
      "INFO:tensorflow:Assets written to: ram://01fd0774-cfc6-4051-992f-eb66a4616499/assets\n",
      "WARNING:absl:Found untraced functions such as lstm_cell_82_layer_call_fn, lstm_cell_82_layer_call_and_return_conditional_losses, lstm_cell_83_layer_call_fn, lstm_cell_83_layer_call_and_return_conditional_losses while saving (showing 4 of 4). These functions will not be directly callable after loading.\n"
     ]
    },
    {
     "name": "stdout",
     "output_type": "stream",
     "text": [
      "INFO:tensorflow:Assets written to: models/lstm-w15_features-s200-p1/assets\n"
     ]
    },
    {
     "name": "stderr",
     "output_type": "stream",
     "text": [
      "INFO:tensorflow:Assets written to: models/lstm-w15_features-s200-p1/assets\n",
      "WARNING:absl:Found untraced functions such as gru_cell_82_layer_call_fn, gru_cell_82_layer_call_and_return_conditional_losses, gru_cell_83_layer_call_fn, gru_cell_83_layer_call_and_return_conditional_losses while saving (showing 4 of 4). These functions will not be directly callable after loading.\n"
     ]
    },
    {
     "name": "stdout",
     "output_type": "stream",
     "text": [
      "INFO:tensorflow:Assets written to: ram://e0136ee7-a53f-47a9-98e4-acf9e02a48ed/assets\n"
     ]
    },
    {
     "name": "stderr",
     "output_type": "stream",
     "text": [
      "INFO:tensorflow:Assets written to: ram://e0136ee7-a53f-47a9-98e4-acf9e02a48ed/assets\n",
      "WARNING:absl:Found untraced functions such as gru_cell_82_layer_call_fn, gru_cell_82_layer_call_and_return_conditional_losses, gru_cell_83_layer_call_fn, gru_cell_83_layer_call_and_return_conditional_losses while saving (showing 4 of 4). These functions will not be directly callable after loading.\n"
     ]
    },
    {
     "name": "stdout",
     "output_type": "stream",
     "text": [
      "INFO:tensorflow:Assets written to: models/gru-w15_features-s200-p1/assets\n"
     ]
    },
    {
     "name": "stderr",
     "output_type": "stream",
     "text": [
      "INFO:tensorflow:Assets written to: models/gru-w15_features-s200-p1/assets\n"
     ]
    },
    {
     "name": "stdout",
     "output_type": "stream",
     "text": [
      "Epoch 1/3\n",
      "657/657 [==============================] - 4s 3ms/step - loss: 1.1841 - val_loss: 0.8388\n",
      "Epoch 2/3\n",
      "657/657 [==============================] - 2s 2ms/step - loss: 0.8252 - val_loss: 0.7594\n",
      "Epoch 3/3\n",
      "657/657 [==============================] - 2s 2ms/step - loss: 0.6468 - val_loss: 0.5835\n",
      "221/221 [==============================] - 1s 1ms/step\n",
      "221/221 [==============================] - 1s 923us/step\n"
     ]
    },
    {
     "name": "stderr",
     "output_type": "stream",
     "text": [
      "WARNING:absl:Found untraced functions such as lstm_cell_84_layer_call_fn, lstm_cell_84_layer_call_and_return_conditional_losses, lstm_cell_85_layer_call_fn, lstm_cell_85_layer_call_and_return_conditional_losses while saving (showing 4 of 4). These functions will not be directly callable after loading.\n"
     ]
    },
    {
     "name": "stdout",
     "output_type": "stream",
     "text": [
      "INFO:tensorflow:Assets written to: ram://cb054085-1c2e-4ee6-bbd3-fe25e593ca40/assets\n"
     ]
    },
    {
     "name": "stderr",
     "output_type": "stream",
     "text": [
      "INFO:tensorflow:Assets written to: ram://cb054085-1c2e-4ee6-bbd3-fe25e593ca40/assets\n",
      "WARNING:absl:Found untraced functions such as lstm_cell_84_layer_call_fn, lstm_cell_84_layer_call_and_return_conditional_losses, lstm_cell_85_layer_call_fn, lstm_cell_85_layer_call_and_return_conditional_losses while saving (showing 4 of 4). These functions will not be directly callable after loading.\n"
     ]
    },
    {
     "name": "stdout",
     "output_type": "stream",
     "text": [
      "INFO:tensorflow:Assets written to: models/lstm-w15_features-s200-p2/assets\n"
     ]
    },
    {
     "name": "stderr",
     "output_type": "stream",
     "text": [
      "INFO:tensorflow:Assets written to: models/lstm-w15_features-s200-p2/assets\n",
      "WARNING:absl:Found untraced functions such as gru_cell_84_layer_call_fn, gru_cell_84_layer_call_and_return_conditional_losses, gru_cell_85_layer_call_fn, gru_cell_85_layer_call_and_return_conditional_losses while saving (showing 4 of 4). These functions will not be directly callable after loading.\n"
     ]
    },
    {
     "name": "stdout",
     "output_type": "stream",
     "text": [
      "INFO:tensorflow:Assets written to: ram://e3b14dd3-60ec-4f9e-8796-080ce74996e4/assets\n"
     ]
    },
    {
     "name": "stderr",
     "output_type": "stream",
     "text": [
      "INFO:tensorflow:Assets written to: ram://e3b14dd3-60ec-4f9e-8796-080ce74996e4/assets\n",
      "WARNING:absl:Found untraced functions such as gru_cell_84_layer_call_fn, gru_cell_84_layer_call_and_return_conditional_losses, gru_cell_85_layer_call_fn, gru_cell_85_layer_call_and_return_conditional_losses while saving (showing 4 of 4). These functions will not be directly callable after loading.\n"
     ]
    },
    {
     "name": "stdout",
     "output_type": "stream",
     "text": [
      "INFO:tensorflow:Assets written to: models/gru-w15_features-s200-p2/assets\n"
     ]
    },
    {
     "name": "stderr",
     "output_type": "stream",
     "text": [
      "INFO:tensorflow:Assets written to: models/gru-w15_features-s200-p2/assets\n"
     ]
    },
    {
     "name": "stdout",
     "output_type": "stream",
     "text": [
      "Epoch 1/3\n",
      "657/657 [==============================] - 4s 3ms/step - loss: 0.9648 - val_loss: 0.7788\n",
      "Epoch 2/3\n",
      "657/657 [==============================] - 2s 2ms/step - loss: 0.6323 - val_loss: 0.4788\n",
      "Epoch 3/3\n",
      "657/657 [==============================] - 2s 2ms/step - loss: 0.4166 - val_loss: 0.3240\n",
      "221/221 [==============================] - 1s 1ms/step\n",
      "221/221 [==============================] - 1s 1ms/step\n"
     ]
    },
    {
     "name": "stderr",
     "output_type": "stream",
     "text": [
      "WARNING:absl:Found untraced functions such as lstm_cell_86_layer_call_fn, lstm_cell_86_layer_call_and_return_conditional_losses, lstm_cell_87_layer_call_fn, lstm_cell_87_layer_call_and_return_conditional_losses while saving (showing 4 of 4). These functions will not be directly callable after loading.\n"
     ]
    },
    {
     "name": "stdout",
     "output_type": "stream",
     "text": [
      "INFO:tensorflow:Assets written to: ram://35e863c0-af2b-4227-9363-131bf13bf83e/assets\n"
     ]
    },
    {
     "name": "stderr",
     "output_type": "stream",
     "text": [
      "INFO:tensorflow:Assets written to: ram://35e863c0-af2b-4227-9363-131bf13bf83e/assets\n",
      "WARNING:absl:Found untraced functions such as lstm_cell_86_layer_call_fn, lstm_cell_86_layer_call_and_return_conditional_losses, lstm_cell_87_layer_call_fn, lstm_cell_87_layer_call_and_return_conditional_losses while saving (showing 4 of 4). These functions will not be directly callable after loading.\n"
     ]
    },
    {
     "name": "stdout",
     "output_type": "stream",
     "text": [
      "INFO:tensorflow:Assets written to: models/lstm-w15_features-s200-p3/assets\n"
     ]
    },
    {
     "name": "stderr",
     "output_type": "stream",
     "text": [
      "INFO:tensorflow:Assets written to: models/lstm-w15_features-s200-p3/assets\n",
      "WARNING:absl:Found untraced functions such as gru_cell_86_layer_call_fn, gru_cell_86_layer_call_and_return_conditional_losses, gru_cell_87_layer_call_fn, gru_cell_87_layer_call_and_return_conditional_losses while saving (showing 4 of 4). These functions will not be directly callable after loading.\n"
     ]
    },
    {
     "name": "stdout",
     "output_type": "stream",
     "text": [
      "INFO:tensorflow:Assets written to: ram://cf18ac8f-777d-452b-ac7d-475b594f2b1c/assets\n"
     ]
    },
    {
     "name": "stderr",
     "output_type": "stream",
     "text": [
      "INFO:tensorflow:Assets written to: ram://cf18ac8f-777d-452b-ac7d-475b594f2b1c/assets\n",
      "WARNING:absl:Found untraced functions such as gru_cell_86_layer_call_fn, gru_cell_86_layer_call_and_return_conditional_losses, gru_cell_87_layer_call_fn, gru_cell_87_layer_call_and_return_conditional_losses while saving (showing 4 of 4). These functions will not be directly callable after loading.\n"
     ]
    },
    {
     "name": "stdout",
     "output_type": "stream",
     "text": [
      "INFO:tensorflow:Assets written to: models/gru-w15_features-s200-p3/assets\n"
     ]
    },
    {
     "name": "stderr",
     "output_type": "stream",
     "text": [
      "INFO:tensorflow:Assets written to: models/gru-w15_features-s200-p3/assets\n"
     ]
    },
    {
     "name": "stdout",
     "output_type": "stream",
     "text": [
      "Epoch 1/3\n",
      "657/657 [==============================] - 4s 3ms/step - loss: 1.2272 - val_loss: 0.8186\n",
      "Epoch 2/3\n",
      "657/657 [==============================] - 1s 2ms/step - loss: 0.8634 - val_loss: 0.7798\n",
      "Epoch 3/3\n",
      "657/657 [==============================] - 1s 2ms/step - loss: 0.6952 - val_loss: 0.6523\n",
      "221/221 [==============================] - 1s 950us/step\n",
      "221/221 [==============================] - 1s 904us/step\n"
     ]
    },
    {
     "name": "stderr",
     "output_type": "stream",
     "text": [
      "WARNING:absl:Found untraced functions such as lstm_cell_88_layer_call_fn, lstm_cell_88_layer_call_and_return_conditional_losses, lstm_cell_89_layer_call_fn, lstm_cell_89_layer_call_and_return_conditional_losses while saving (showing 4 of 4). These functions will not be directly callable after loading.\n"
     ]
    },
    {
     "name": "stdout",
     "output_type": "stream",
     "text": [
      "INFO:tensorflow:Assets written to: ram://ef57cc59-5889-404f-8342-77785c8d8676/assets\n"
     ]
    },
    {
     "name": "stderr",
     "output_type": "stream",
     "text": [
      "INFO:tensorflow:Assets written to: ram://ef57cc59-5889-404f-8342-77785c8d8676/assets\n",
      "WARNING:absl:Found untraced functions such as lstm_cell_88_layer_call_fn, lstm_cell_88_layer_call_and_return_conditional_losses, lstm_cell_89_layer_call_fn, lstm_cell_89_layer_call_and_return_conditional_losses while saving (showing 4 of 4). These functions will not be directly callable after loading.\n"
     ]
    },
    {
     "name": "stdout",
     "output_type": "stream",
     "text": [
      "INFO:tensorflow:Assets written to: models/lstm-w20_features-s200-p0/assets\n"
     ]
    },
    {
     "name": "stderr",
     "output_type": "stream",
     "text": [
      "INFO:tensorflow:Assets written to: models/lstm-w20_features-s200-p0/assets\n",
      "WARNING:absl:Found untraced functions such as gru_cell_88_layer_call_fn, gru_cell_88_layer_call_and_return_conditional_losses, gru_cell_89_layer_call_fn, gru_cell_89_layer_call_and_return_conditional_losses while saving (showing 4 of 4). These functions will not be directly callable after loading.\n"
     ]
    },
    {
     "name": "stdout",
     "output_type": "stream",
     "text": [
      "INFO:tensorflow:Assets written to: ram://fe60c198-e8e3-4df4-acd8-6d8d7dd57573/assets\n"
     ]
    },
    {
     "name": "stderr",
     "output_type": "stream",
     "text": [
      "INFO:tensorflow:Assets written to: ram://fe60c198-e8e3-4df4-acd8-6d8d7dd57573/assets\n",
      "WARNING:absl:Found untraced functions such as gru_cell_88_layer_call_fn, gru_cell_88_layer_call_and_return_conditional_losses, gru_cell_89_layer_call_fn, gru_cell_89_layer_call_and_return_conditional_losses while saving (showing 4 of 4). These functions will not be directly callable after loading.\n"
     ]
    },
    {
     "name": "stdout",
     "output_type": "stream",
     "text": [
      "INFO:tensorflow:Assets written to: models/gru-w20_features-s200-p0/assets\n"
     ]
    },
    {
     "name": "stderr",
     "output_type": "stream",
     "text": [
      "INFO:tensorflow:Assets written to: models/gru-w20_features-s200-p0/assets\n"
     ]
    },
    {
     "name": "stdout",
     "output_type": "stream",
     "text": [
      "Epoch 1/3\n",
      "657/657 [==============================] - 3s 3ms/step - loss: 0.9938 - val_loss: 0.8186\n",
      "Epoch 2/3\n",
      "657/657 [==============================] - 2s 2ms/step - loss: 0.6681 - val_loss: 0.5769\n",
      "Epoch 3/3\n",
      "657/657 [==============================] - 2s 2ms/step - loss: 0.4742 - val_loss: 0.3836\n",
      "221/221 [==============================] - 1s 994us/step\n",
      "221/221 [==============================] - 1s 982us/step\n"
     ]
    },
    {
     "name": "stderr",
     "output_type": "stream",
     "text": [
      "WARNING:absl:Found untraced functions such as lstm_cell_90_layer_call_fn, lstm_cell_90_layer_call_and_return_conditional_losses, lstm_cell_91_layer_call_fn, lstm_cell_91_layer_call_and_return_conditional_losses while saving (showing 4 of 4). These functions will not be directly callable after loading.\n"
     ]
    },
    {
     "name": "stdout",
     "output_type": "stream",
     "text": [
      "INFO:tensorflow:Assets written to: ram://dc31a884-abdc-4c38-974e-ebb419ad6ed4/assets\n"
     ]
    },
    {
     "name": "stderr",
     "output_type": "stream",
     "text": [
      "INFO:tensorflow:Assets written to: ram://dc31a884-abdc-4c38-974e-ebb419ad6ed4/assets\n",
      "WARNING:absl:Found untraced functions such as lstm_cell_90_layer_call_fn, lstm_cell_90_layer_call_and_return_conditional_losses, lstm_cell_91_layer_call_fn, lstm_cell_91_layer_call_and_return_conditional_losses while saving (showing 4 of 4). These functions will not be directly callable after loading.\n"
     ]
    },
    {
     "name": "stdout",
     "output_type": "stream",
     "text": [
      "INFO:tensorflow:Assets written to: models/lstm-w20_features-s200-p1/assets\n"
     ]
    },
    {
     "name": "stderr",
     "output_type": "stream",
     "text": [
      "INFO:tensorflow:Assets written to: models/lstm-w20_features-s200-p1/assets\n",
      "WARNING:absl:Found untraced functions such as gru_cell_90_layer_call_fn, gru_cell_90_layer_call_and_return_conditional_losses, gru_cell_91_layer_call_fn, gru_cell_91_layer_call_and_return_conditional_losses while saving (showing 4 of 4). These functions will not be directly callable after loading.\n"
     ]
    },
    {
     "name": "stdout",
     "output_type": "stream",
     "text": [
      "INFO:tensorflow:Assets written to: ram://ec842594-1fc4-423c-bb79-962d80f06739/assets\n"
     ]
    },
    {
     "name": "stderr",
     "output_type": "stream",
     "text": [
      "INFO:tensorflow:Assets written to: ram://ec842594-1fc4-423c-bb79-962d80f06739/assets\n",
      "WARNING:absl:Found untraced functions such as gru_cell_90_layer_call_fn, gru_cell_90_layer_call_and_return_conditional_losses, gru_cell_91_layer_call_fn, gru_cell_91_layer_call_and_return_conditional_losses while saving (showing 4 of 4). These functions will not be directly callable after loading.\n"
     ]
    },
    {
     "name": "stdout",
     "output_type": "stream",
     "text": [
      "INFO:tensorflow:Assets written to: models/gru-w20_features-s200-p1/assets\n"
     ]
    },
    {
     "name": "stderr",
     "output_type": "stream",
     "text": [
      "INFO:tensorflow:Assets written to: models/gru-w20_features-s200-p1/assets\n"
     ]
    },
    {
     "name": "stdout",
     "output_type": "stream",
     "text": [
      "Epoch 1/3\n",
      "657/657 [==============================] - 5s 3ms/step - loss: 1.2210 - val_loss: 0.8586\n",
      "Epoch 2/3\n",
      "657/657 [==============================] - 2s 2ms/step - loss: 0.8474 - val_loss: 0.8078\n",
      "Epoch 3/3\n",
      "657/657 [==============================] - 2s 2ms/step - loss: 0.6703 - val_loss: 0.6569\n",
      "221/221 [==============================] - 1s 977us/step\n",
      "221/221 [==============================] - 1s 957us/step\n"
     ]
    },
    {
     "name": "stderr",
     "output_type": "stream",
     "text": [
      "WARNING:absl:Found untraced functions such as lstm_cell_92_layer_call_fn, lstm_cell_92_layer_call_and_return_conditional_losses, lstm_cell_93_layer_call_fn, lstm_cell_93_layer_call_and_return_conditional_losses while saving (showing 4 of 4). These functions will not be directly callable after loading.\n"
     ]
    },
    {
     "name": "stdout",
     "output_type": "stream",
     "text": [
      "INFO:tensorflow:Assets written to: ram://b4c71ea7-ce98-4722-b75f-515942381146/assets\n"
     ]
    },
    {
     "name": "stderr",
     "output_type": "stream",
     "text": [
      "INFO:tensorflow:Assets written to: ram://b4c71ea7-ce98-4722-b75f-515942381146/assets\n",
      "WARNING:absl:Found untraced functions such as lstm_cell_92_layer_call_fn, lstm_cell_92_layer_call_and_return_conditional_losses, lstm_cell_93_layer_call_fn, lstm_cell_93_layer_call_and_return_conditional_losses while saving (showing 4 of 4). These functions will not be directly callable after loading.\n"
     ]
    },
    {
     "name": "stdout",
     "output_type": "stream",
     "text": [
      "INFO:tensorflow:Assets written to: models/lstm-w20_features-s200-p2/assets\n"
     ]
    },
    {
     "name": "stderr",
     "output_type": "stream",
     "text": [
      "INFO:tensorflow:Assets written to: models/lstm-w20_features-s200-p2/assets\n",
      "WARNING:absl:Found untraced functions such as gru_cell_92_layer_call_fn, gru_cell_92_layer_call_and_return_conditional_losses, gru_cell_93_layer_call_fn, gru_cell_93_layer_call_and_return_conditional_losses while saving (showing 4 of 4). These functions will not be directly callable after loading.\n"
     ]
    },
    {
     "name": "stdout",
     "output_type": "stream",
     "text": [
      "INFO:tensorflow:Assets written to: ram://7eefffb6-5428-48a9-b556-bb3c68fdeee4/assets\n"
     ]
    },
    {
     "name": "stderr",
     "output_type": "stream",
     "text": [
      "INFO:tensorflow:Assets written to: ram://7eefffb6-5428-48a9-b556-bb3c68fdeee4/assets\n",
      "WARNING:absl:Found untraced functions such as gru_cell_92_layer_call_fn, gru_cell_92_layer_call_and_return_conditional_losses, gru_cell_93_layer_call_fn, gru_cell_93_layer_call_and_return_conditional_losses while saving (showing 4 of 4). These functions will not be directly callable after loading.\n"
     ]
    },
    {
     "name": "stdout",
     "output_type": "stream",
     "text": [
      "INFO:tensorflow:Assets written to: models/gru-w20_features-s200-p2/assets\n"
     ]
    },
    {
     "name": "stderr",
     "output_type": "stream",
     "text": [
      "INFO:tensorflow:Assets written to: models/gru-w20_features-s200-p2/assets\n"
     ]
    },
    {
     "name": "stdout",
     "output_type": "stream",
     "text": [
      "Epoch 1/3\n",
      "657/657 [==============================] - 5s 3ms/step - loss: 1.0209 - val_loss: 0.8278\n",
      "Epoch 2/3\n",
      "657/657 [==============================] - 2s 3ms/step - loss: 0.6567 - val_loss: 0.5494\n",
      "Epoch 3/3\n",
      "657/657 [==============================] - 2s 2ms/step - loss: 0.4322 - val_loss: 0.3515\n",
      "221/221 [==============================] - 1s 1ms/step\n",
      "221/221 [==============================] - 1s 985us/step\n"
     ]
    },
    {
     "name": "stderr",
     "output_type": "stream",
     "text": [
      "WARNING:absl:Found untraced functions such as lstm_cell_94_layer_call_fn, lstm_cell_94_layer_call_and_return_conditional_losses, lstm_cell_95_layer_call_fn, lstm_cell_95_layer_call_and_return_conditional_losses while saving (showing 4 of 4). These functions will not be directly callable after loading.\n"
     ]
    },
    {
     "name": "stdout",
     "output_type": "stream",
     "text": [
      "INFO:tensorflow:Assets written to: ram://099dc57e-8a5d-47e3-97e5-3b099aab2a91/assets\n"
     ]
    },
    {
     "name": "stderr",
     "output_type": "stream",
     "text": [
      "INFO:tensorflow:Assets written to: ram://099dc57e-8a5d-47e3-97e5-3b099aab2a91/assets\n",
      "WARNING:absl:Found untraced functions such as lstm_cell_94_layer_call_fn, lstm_cell_94_layer_call_and_return_conditional_losses, lstm_cell_95_layer_call_fn, lstm_cell_95_layer_call_and_return_conditional_losses while saving (showing 4 of 4). These functions will not be directly callable after loading.\n"
     ]
    },
    {
     "name": "stdout",
     "output_type": "stream",
     "text": [
      "INFO:tensorflow:Assets written to: models/lstm-w20_features-s200-p3/assets\n"
     ]
    },
    {
     "name": "stderr",
     "output_type": "stream",
     "text": [
      "INFO:tensorflow:Assets written to: models/lstm-w20_features-s200-p3/assets\n",
      "WARNING:absl:Found untraced functions such as gru_cell_94_layer_call_fn, gru_cell_94_layer_call_and_return_conditional_losses, gru_cell_95_layer_call_fn, gru_cell_95_layer_call_and_return_conditional_losses while saving (showing 4 of 4). These functions will not be directly callable after loading.\n"
     ]
    },
    {
     "name": "stdout",
     "output_type": "stream",
     "text": [
      "INFO:tensorflow:Assets written to: ram://36fde6eb-0688-4a7c-bb21-c5a0a7359dee/assets\n"
     ]
    },
    {
     "name": "stderr",
     "output_type": "stream",
     "text": [
      "INFO:tensorflow:Assets written to: ram://36fde6eb-0688-4a7c-bb21-c5a0a7359dee/assets\n",
      "WARNING:absl:Found untraced functions such as gru_cell_94_layer_call_fn, gru_cell_94_layer_call_and_return_conditional_losses, gru_cell_95_layer_call_fn, gru_cell_95_layer_call_and_return_conditional_losses while saving (showing 4 of 4). These functions will not be directly callable after loading.\n"
     ]
    },
    {
     "name": "stdout",
     "output_type": "stream",
     "text": [
      "INFO:tensorflow:Assets written to: models/gru-w20_features-s200-p3/assets\n"
     ]
    },
    {
     "name": "stderr",
     "output_type": "stream",
     "text": [
      "INFO:tensorflow:Assets written to: models/gru-w20_features-s200-p3/assets\n"
     ]
    },
    {
     "name": "stdout",
     "output_type": "stream",
     "text": [
      "Epoch 1/3\n",
      "657/657 [==============================] - 5s 3ms/step - loss: 0.9797 - val_loss: 0.8359\n",
      "Epoch 2/3\n",
      "657/657 [==============================] - 1s 2ms/step - loss: 0.7313 - val_loss: 0.6702\n",
      "Epoch 3/3\n",
      "657/657 [==============================] - 2s 2ms/step - loss: 0.5681 - val_loss: 0.4915\n",
      "221/221 [==============================] - 1s 931us/step\n",
      "221/221 [==============================] - 1s 879us/step\n"
     ]
    },
    {
     "name": "stderr",
     "output_type": "stream",
     "text": [
      "WARNING:absl:Found untraced functions such as lstm_cell_96_layer_call_fn, lstm_cell_96_layer_call_and_return_conditional_losses, lstm_cell_97_layer_call_fn, lstm_cell_97_layer_call_and_return_conditional_losses while saving (showing 4 of 4). These functions will not be directly callable after loading.\n"
     ]
    },
    {
     "name": "stdout",
     "output_type": "stream",
     "text": [
      "INFO:tensorflow:Assets written to: ram://fa515372-ded2-4519-b35d-4e37b2ca4dfd/assets\n"
     ]
    },
    {
     "name": "stderr",
     "output_type": "stream",
     "text": [
      "INFO:tensorflow:Assets written to: ram://fa515372-ded2-4519-b35d-4e37b2ca4dfd/assets\n",
      "WARNING:absl:Found untraced functions such as lstm_cell_96_layer_call_fn, lstm_cell_96_layer_call_and_return_conditional_losses, lstm_cell_97_layer_call_fn, lstm_cell_97_layer_call_and_return_conditional_losses while saving (showing 4 of 4). These functions will not be directly callable after loading.\n"
     ]
    },
    {
     "name": "stdout",
     "output_type": "stream",
     "text": [
      "INFO:tensorflow:Assets written to: models/lstm-no_diff_features-s200-p0/assets\n"
     ]
    },
    {
     "name": "stderr",
     "output_type": "stream",
     "text": [
      "INFO:tensorflow:Assets written to: models/lstm-no_diff_features-s200-p0/assets\n",
      "WARNING:absl:Found untraced functions such as gru_cell_96_layer_call_fn, gru_cell_96_layer_call_and_return_conditional_losses, gru_cell_97_layer_call_fn, gru_cell_97_layer_call_and_return_conditional_losses while saving (showing 4 of 4). These functions will not be directly callable after loading.\n"
     ]
    },
    {
     "name": "stdout",
     "output_type": "stream",
     "text": [
      "INFO:tensorflow:Assets written to: ram://2ee3e47e-3f16-4861-8b07-7543e9324a34/assets\n"
     ]
    },
    {
     "name": "stderr",
     "output_type": "stream",
     "text": [
      "INFO:tensorflow:Assets written to: ram://2ee3e47e-3f16-4861-8b07-7543e9324a34/assets\n",
      "WARNING:absl:Found untraced functions such as gru_cell_96_layer_call_fn, gru_cell_96_layer_call_and_return_conditional_losses, gru_cell_97_layer_call_fn, gru_cell_97_layer_call_and_return_conditional_losses while saving (showing 4 of 4). These functions will not be directly callable after loading.\n"
     ]
    },
    {
     "name": "stdout",
     "output_type": "stream",
     "text": [
      "INFO:tensorflow:Assets written to: models/gru-no_diff_features-s200-p0/assets\n"
     ]
    },
    {
     "name": "stderr",
     "output_type": "stream",
     "text": [
      "INFO:tensorflow:Assets written to: models/gru-no_diff_features-s200-p0/assets\n"
     ]
    },
    {
     "name": "stdout",
     "output_type": "stream",
     "text": [
      "Epoch 1/3\n",
      "657/657 [==============================] - 4s 3ms/step - loss: 0.9055 - val_loss: 0.7100\n",
      "Epoch 2/3\n",
      "657/657 [==============================] - 2s 2ms/step - loss: 0.5907 - val_loss: 0.4449\n",
      "Epoch 3/3\n",
      "657/657 [==============================] - 2s 2ms/step - loss: 0.3859 - val_loss: 0.2904\n",
      "221/221 [==============================] - 1s 1ms/step\n",
      "221/221 [==============================] - 1s 967us/step\n"
     ]
    },
    {
     "name": "stderr",
     "output_type": "stream",
     "text": [
      "WARNING:absl:Found untraced functions such as lstm_cell_98_layer_call_fn, lstm_cell_98_layer_call_and_return_conditional_losses, lstm_cell_99_layer_call_fn, lstm_cell_99_layer_call_and_return_conditional_losses while saving (showing 4 of 4). These functions will not be directly callable after loading.\n"
     ]
    },
    {
     "name": "stdout",
     "output_type": "stream",
     "text": [
      "INFO:tensorflow:Assets written to: ram://e6a6e4a0-cddb-4a16-bc27-5425991b1c65/assets\n"
     ]
    },
    {
     "name": "stderr",
     "output_type": "stream",
     "text": [
      "INFO:tensorflow:Assets written to: ram://e6a6e4a0-cddb-4a16-bc27-5425991b1c65/assets\n",
      "WARNING:absl:Found untraced functions such as lstm_cell_98_layer_call_fn, lstm_cell_98_layer_call_and_return_conditional_losses, lstm_cell_99_layer_call_fn, lstm_cell_99_layer_call_and_return_conditional_losses while saving (showing 4 of 4). These functions will not be directly callable after loading.\n"
     ]
    },
    {
     "name": "stdout",
     "output_type": "stream",
     "text": [
      "INFO:tensorflow:Assets written to: models/lstm-no_diff_features-s200-p1/assets\n"
     ]
    },
    {
     "name": "stderr",
     "output_type": "stream",
     "text": [
      "INFO:tensorflow:Assets written to: models/lstm-no_diff_features-s200-p1/assets\n",
      "WARNING:absl:Found untraced functions such as gru_cell_98_layer_call_fn, gru_cell_98_layer_call_and_return_conditional_losses, gru_cell_99_layer_call_fn, gru_cell_99_layer_call_and_return_conditional_losses while saving (showing 4 of 4). These functions will not be directly callable after loading.\n"
     ]
    },
    {
     "name": "stdout",
     "output_type": "stream",
     "text": [
      "INFO:tensorflow:Assets written to: ram://cb287d01-f36f-4f78-9c64-243dc1aa3b9b/assets\n"
     ]
    },
    {
     "name": "stderr",
     "output_type": "stream",
     "text": [
      "INFO:tensorflow:Assets written to: ram://cb287d01-f36f-4f78-9c64-243dc1aa3b9b/assets\n",
      "WARNING:absl:Found untraced functions such as gru_cell_98_layer_call_fn, gru_cell_98_layer_call_and_return_conditional_losses, gru_cell_99_layer_call_fn, gru_cell_99_layer_call_and_return_conditional_losses while saving (showing 4 of 4). These functions will not be directly callable after loading.\n"
     ]
    },
    {
     "name": "stdout",
     "output_type": "stream",
     "text": [
      "INFO:tensorflow:Assets written to: models/gru-no_diff_features-s200-p1/assets\n"
     ]
    },
    {
     "name": "stderr",
     "output_type": "stream",
     "text": [
      "INFO:tensorflow:Assets written to: models/gru-no_diff_features-s200-p1/assets\n"
     ]
    },
    {
     "name": "stdout",
     "output_type": "stream",
     "text": [
      "Epoch 1/3\n",
      "657/657 [==============================] - 4s 4ms/step - loss: 0.9795 - val_loss: 0.8497\n",
      "Epoch 2/3\n",
      "657/657 [==============================] - 2s 3ms/step - loss: 0.7149 - val_loss: 0.6427\n",
      "Epoch 3/3\n",
      "657/657 [==============================] - 2s 3ms/step - loss: 0.5172 - val_loss: 0.4237\n",
      "221/221 [==============================] - 1s 959us/step\n",
      "221/221 [==============================] - 1s 967us/step\n"
     ]
    },
    {
     "name": "stderr",
     "output_type": "stream",
     "text": [
      "WARNING:absl:Found untraced functions such as lstm_cell_100_layer_call_fn, lstm_cell_100_layer_call_and_return_conditional_losses, lstm_cell_101_layer_call_fn, lstm_cell_101_layer_call_and_return_conditional_losses while saving (showing 4 of 4). These functions will not be directly callable after loading.\n"
     ]
    },
    {
     "name": "stdout",
     "output_type": "stream",
     "text": [
      "INFO:tensorflow:Assets written to: ram://c764c492-6775-49a8-899c-8f831756ff14/assets\n"
     ]
    },
    {
     "name": "stderr",
     "output_type": "stream",
     "text": [
      "INFO:tensorflow:Assets written to: ram://c764c492-6775-49a8-899c-8f831756ff14/assets\n",
      "WARNING:absl:Found untraced functions such as lstm_cell_100_layer_call_fn, lstm_cell_100_layer_call_and_return_conditional_losses, lstm_cell_101_layer_call_fn, lstm_cell_101_layer_call_and_return_conditional_losses while saving (showing 4 of 4). These functions will not be directly callable after loading.\n"
     ]
    },
    {
     "name": "stdout",
     "output_type": "stream",
     "text": [
      "INFO:tensorflow:Assets written to: models/lstm-no_diff_features-s200-p2/assets\n"
     ]
    },
    {
     "name": "stderr",
     "output_type": "stream",
     "text": [
      "INFO:tensorflow:Assets written to: models/lstm-no_diff_features-s200-p2/assets\n",
      "WARNING:absl:Found untraced functions such as gru_cell_100_layer_call_fn, gru_cell_100_layer_call_and_return_conditional_losses, gru_cell_101_layer_call_fn, gru_cell_101_layer_call_and_return_conditional_losses while saving (showing 4 of 4). These functions will not be directly callable after loading.\n"
     ]
    },
    {
     "name": "stdout",
     "output_type": "stream",
     "text": [
      "INFO:tensorflow:Assets written to: ram://9564899d-dd86-49c7-a9c9-db175cbecdaa/assets\n"
     ]
    },
    {
     "name": "stderr",
     "output_type": "stream",
     "text": [
      "INFO:tensorflow:Assets written to: ram://9564899d-dd86-49c7-a9c9-db175cbecdaa/assets\n",
      "WARNING:absl:Found untraced functions such as gru_cell_100_layer_call_fn, gru_cell_100_layer_call_and_return_conditional_losses, gru_cell_101_layer_call_fn, gru_cell_101_layer_call_and_return_conditional_losses while saving (showing 4 of 4). These functions will not be directly callable after loading.\n"
     ]
    },
    {
     "name": "stdout",
     "output_type": "stream",
     "text": [
      "INFO:tensorflow:Assets written to: models/gru-no_diff_features-s200-p2/assets\n"
     ]
    },
    {
     "name": "stderr",
     "output_type": "stream",
     "text": [
      "INFO:tensorflow:Assets written to: models/gru-no_diff_features-s200-p2/assets\n"
     ]
    },
    {
     "name": "stdout",
     "output_type": "stream",
     "text": [
      "Epoch 1/3\n",
      "657/657 [==============================] - 4s 3ms/step - loss: 0.8958 - val_loss: 0.6730\n",
      "Epoch 2/3\n",
      "657/657 [==============================] - 2s 3ms/step - loss: 0.5237 - val_loss: 0.3613\n",
      "Epoch 3/3\n",
      "657/657 [==============================] - 2s 2ms/step - loss: 0.3049 - val_loss: 0.2376\n",
      "221/221 [==============================] - 1s 1ms/step\n",
      "221/221 [==============================] - 1s 1ms/step\n"
     ]
    },
    {
     "name": "stderr",
     "output_type": "stream",
     "text": [
      "WARNING:absl:Found untraced functions such as lstm_cell_102_layer_call_fn, lstm_cell_102_layer_call_and_return_conditional_losses, lstm_cell_103_layer_call_fn, lstm_cell_103_layer_call_and_return_conditional_losses while saving (showing 4 of 4). These functions will not be directly callable after loading.\n"
     ]
    },
    {
     "name": "stdout",
     "output_type": "stream",
     "text": [
      "INFO:tensorflow:Assets written to: ram://f077a2f2-a56b-460d-9513-c616bd7e0fb1/assets\n"
     ]
    },
    {
     "name": "stderr",
     "output_type": "stream",
     "text": [
      "INFO:tensorflow:Assets written to: ram://f077a2f2-a56b-460d-9513-c616bd7e0fb1/assets\n",
      "WARNING:absl:Found untraced functions such as lstm_cell_102_layer_call_fn, lstm_cell_102_layer_call_and_return_conditional_losses, lstm_cell_103_layer_call_fn, lstm_cell_103_layer_call_and_return_conditional_losses while saving (showing 4 of 4). These functions will not be directly callable after loading.\n"
     ]
    },
    {
     "name": "stdout",
     "output_type": "stream",
     "text": [
      "INFO:tensorflow:Assets written to: models/lstm-no_diff_features-s200-p3/assets\n"
     ]
    },
    {
     "name": "stderr",
     "output_type": "stream",
     "text": [
      "INFO:tensorflow:Assets written to: models/lstm-no_diff_features-s200-p3/assets\n",
      "WARNING:absl:Found untraced functions such as gru_cell_102_layer_call_fn, gru_cell_102_layer_call_and_return_conditional_losses, gru_cell_103_layer_call_fn, gru_cell_103_layer_call_and_return_conditional_losses while saving (showing 4 of 4). These functions will not be directly callable after loading.\n"
     ]
    },
    {
     "name": "stdout",
     "output_type": "stream",
     "text": [
      "INFO:tensorflow:Assets written to: ram://246fccb9-09e1-4254-ace8-11fd1fad0c35/assets\n"
     ]
    },
    {
     "name": "stderr",
     "output_type": "stream",
     "text": [
      "INFO:tensorflow:Assets written to: ram://246fccb9-09e1-4254-ace8-11fd1fad0c35/assets\n",
      "WARNING:absl:Found untraced functions such as gru_cell_102_layer_call_fn, gru_cell_102_layer_call_and_return_conditional_losses, gru_cell_103_layer_call_fn, gru_cell_103_layer_call_and_return_conditional_losses while saving (showing 4 of 4). These functions will not be directly callable after loading.\n"
     ]
    },
    {
     "name": "stdout",
     "output_type": "stream",
     "text": [
      "INFO:tensorflow:Assets written to: models/gru-no_diff_features-s200-p3/assets\n"
     ]
    },
    {
     "name": "stderr",
     "output_type": "stream",
     "text": [
      "INFO:tensorflow:Assets written to: models/gru-no_diff_features-s200-p3/assets\n"
     ]
    },
    {
     "name": "stdout",
     "output_type": "stream",
     "text": [
      "Epoch 1/3\n",
      "657/657 [==============================] - 3s 3ms/step - loss: 1.1000 - val_loss: 0.8174\n",
      "Epoch 2/3\n",
      "657/657 [==============================] - 1s 2ms/step - loss: 0.7904 - val_loss: 0.6862\n",
      "Epoch 3/3\n",
      "657/657 [==============================] - 1s 2ms/step - loss: 0.6475 - val_loss: 0.5429\n",
      "221/221 [==============================] - 1s 979us/step\n",
      "221/221 [==============================] - 1s 929us/step\n"
     ]
    },
    {
     "name": "stderr",
     "output_type": "stream",
     "text": [
      "WARNING:absl:Found untraced functions such as lstm_cell_104_layer_call_fn, lstm_cell_104_layer_call_and_return_conditional_losses, lstm_cell_105_layer_call_fn, lstm_cell_105_layer_call_and_return_conditional_losses while saving (showing 4 of 4). These functions will not be directly callable after loading.\n"
     ]
    },
    {
     "name": "stdout",
     "output_type": "stream",
     "text": [
      "INFO:tensorflow:Assets written to: ram://97a35d5c-1adc-4268-8931-de3661a6dc88/assets\n"
     ]
    },
    {
     "name": "stderr",
     "output_type": "stream",
     "text": [
      "INFO:tensorflow:Assets written to: ram://97a35d5c-1adc-4268-8931-de3661a6dc88/assets\n",
      "WARNING:absl:Found untraced functions such as lstm_cell_104_layer_call_fn, lstm_cell_104_layer_call_and_return_conditional_losses, lstm_cell_105_layer_call_fn, lstm_cell_105_layer_call_and_return_conditional_losses while saving (showing 4 of 4). These functions will not be directly callable after loading.\n"
     ]
    },
    {
     "name": "stdout",
     "output_type": "stream",
     "text": [
      "INFO:tensorflow:Assets written to: models/lstm-diff_features-s200-p0/assets\n"
     ]
    },
    {
     "name": "stderr",
     "output_type": "stream",
     "text": [
      "INFO:tensorflow:Assets written to: models/lstm-diff_features-s200-p0/assets\n",
      "WARNING:absl:Found untraced functions such as gru_cell_104_layer_call_fn, gru_cell_104_layer_call_and_return_conditional_losses, gru_cell_105_layer_call_fn, gru_cell_105_layer_call_and_return_conditional_losses while saving (showing 4 of 4). These functions will not be directly callable after loading.\n"
     ]
    },
    {
     "name": "stdout",
     "output_type": "stream",
     "text": [
      "INFO:tensorflow:Assets written to: ram://e18905b2-96b5-4ae6-8d0c-23c6f054117a/assets\n"
     ]
    },
    {
     "name": "stderr",
     "output_type": "stream",
     "text": [
      "INFO:tensorflow:Assets written to: ram://e18905b2-96b5-4ae6-8d0c-23c6f054117a/assets\n",
      "WARNING:absl:Found untraced functions such as gru_cell_104_layer_call_fn, gru_cell_104_layer_call_and_return_conditional_losses, gru_cell_105_layer_call_fn, gru_cell_105_layer_call_and_return_conditional_losses while saving (showing 4 of 4). These functions will not be directly callable after loading.\n"
     ]
    },
    {
     "name": "stdout",
     "output_type": "stream",
     "text": [
      "INFO:tensorflow:Assets written to: models/gru-diff_features-s200-p0/assets\n"
     ]
    },
    {
     "name": "stderr",
     "output_type": "stream",
     "text": [
      "INFO:tensorflow:Assets written to: models/gru-diff_features-s200-p0/assets\n"
     ]
    },
    {
     "name": "stdout",
     "output_type": "stream",
     "text": [
      "Epoch 1/3\n",
      "657/657 [==============================] - 3s 3ms/step - loss: 0.9793 - val_loss: 0.7251\n",
      "Epoch 2/3\n",
      "657/657 [==============================] - 2s 2ms/step - loss: 0.6758 - val_loss: 0.5374\n",
      "Epoch 3/3\n",
      "657/657 [==============================] - 2s 2ms/step - loss: 0.5302 - val_loss: 0.3962\n",
      "221/221 [==============================] - 1s 980us/step\n",
      "221/221 [==============================] - 1s 904us/step\n"
     ]
    },
    {
     "name": "stderr",
     "output_type": "stream",
     "text": [
      "WARNING:absl:Found untraced functions such as lstm_cell_106_layer_call_fn, lstm_cell_106_layer_call_and_return_conditional_losses, lstm_cell_107_layer_call_fn, lstm_cell_107_layer_call_and_return_conditional_losses while saving (showing 4 of 4). These functions will not be directly callable after loading.\n"
     ]
    },
    {
     "name": "stdout",
     "output_type": "stream",
     "text": [
      "INFO:tensorflow:Assets written to: ram://80501c80-c0ca-4d44-a6e1-6d0796cb0ebd/assets\n"
     ]
    },
    {
     "name": "stderr",
     "output_type": "stream",
     "text": [
      "INFO:tensorflow:Assets written to: ram://80501c80-c0ca-4d44-a6e1-6d0796cb0ebd/assets\n",
      "WARNING:absl:Found untraced functions such as lstm_cell_106_layer_call_fn, lstm_cell_106_layer_call_and_return_conditional_losses, lstm_cell_107_layer_call_fn, lstm_cell_107_layer_call_and_return_conditional_losses while saving (showing 4 of 4). These functions will not be directly callable after loading.\n"
     ]
    },
    {
     "name": "stdout",
     "output_type": "stream",
     "text": [
      "INFO:tensorflow:Assets written to: models/lstm-diff_features-s200-p1/assets\n"
     ]
    },
    {
     "name": "stderr",
     "output_type": "stream",
     "text": [
      "INFO:tensorflow:Assets written to: models/lstm-diff_features-s200-p1/assets\n",
      "WARNING:absl:Found untraced functions such as gru_cell_106_layer_call_fn, gru_cell_106_layer_call_and_return_conditional_losses, gru_cell_107_layer_call_fn, gru_cell_107_layer_call_and_return_conditional_losses while saving (showing 4 of 4). These functions will not be directly callable after loading.\n"
     ]
    },
    {
     "name": "stdout",
     "output_type": "stream",
     "text": [
      "INFO:tensorflow:Assets written to: ram://a6996bfc-a09d-4e7a-b802-5e919e0ec034/assets\n"
     ]
    },
    {
     "name": "stderr",
     "output_type": "stream",
     "text": [
      "INFO:tensorflow:Assets written to: ram://a6996bfc-a09d-4e7a-b802-5e919e0ec034/assets\n",
      "WARNING:absl:Found untraced functions such as gru_cell_106_layer_call_fn, gru_cell_106_layer_call_and_return_conditional_losses, gru_cell_107_layer_call_fn, gru_cell_107_layer_call_and_return_conditional_losses while saving (showing 4 of 4). These functions will not be directly callable after loading.\n"
     ]
    },
    {
     "name": "stdout",
     "output_type": "stream",
     "text": [
      "INFO:tensorflow:Assets written to: models/gru-diff_features-s200-p1/assets\n"
     ]
    },
    {
     "name": "stderr",
     "output_type": "stream",
     "text": [
      "INFO:tensorflow:Assets written to: models/gru-diff_features-s200-p1/assets\n"
     ]
    },
    {
     "name": "stdout",
     "output_type": "stream",
     "text": [
      "Epoch 1/3\n",
      "657/657 [==============================] - 4s 3ms/step - loss: 1.1341 - val_loss: 0.8472\n",
      "Epoch 2/3\n",
      "657/657 [==============================] - 2s 3ms/step - loss: 0.7996 - val_loss: 0.7157\n",
      "Epoch 3/3\n",
      "657/657 [==============================] - 2s 2ms/step - loss: 0.6462 - val_loss: 0.5699\n",
      "221/221 [==============================] - 1s 1ms/step\n",
      "221/221 [==============================] - 1s 1ms/step\n"
     ]
    },
    {
     "name": "stderr",
     "output_type": "stream",
     "text": [
      "WARNING:absl:Found untraced functions such as lstm_cell_108_layer_call_fn, lstm_cell_108_layer_call_and_return_conditional_losses, lstm_cell_109_layer_call_fn, lstm_cell_109_layer_call_and_return_conditional_losses while saving (showing 4 of 4). These functions will not be directly callable after loading.\n"
     ]
    },
    {
     "name": "stdout",
     "output_type": "stream",
     "text": [
      "INFO:tensorflow:Assets written to: ram://09acee3e-443e-40bb-8a44-cf6c79e46d36/assets\n"
     ]
    },
    {
     "name": "stderr",
     "output_type": "stream",
     "text": [
      "INFO:tensorflow:Assets written to: ram://09acee3e-443e-40bb-8a44-cf6c79e46d36/assets\n",
      "WARNING:absl:Found untraced functions such as lstm_cell_108_layer_call_fn, lstm_cell_108_layer_call_and_return_conditional_losses, lstm_cell_109_layer_call_fn, lstm_cell_109_layer_call_and_return_conditional_losses while saving (showing 4 of 4). These functions will not be directly callable after loading.\n"
     ]
    },
    {
     "name": "stdout",
     "output_type": "stream",
     "text": [
      "INFO:tensorflow:Assets written to: models/lstm-diff_features-s200-p2/assets\n"
     ]
    },
    {
     "name": "stderr",
     "output_type": "stream",
     "text": [
      "INFO:tensorflow:Assets written to: models/lstm-diff_features-s200-p2/assets\n",
      "WARNING:absl:Found untraced functions such as gru_cell_108_layer_call_fn, gru_cell_108_layer_call_and_return_conditional_losses, gru_cell_109_layer_call_fn, gru_cell_109_layer_call_and_return_conditional_losses while saving (showing 4 of 4). These functions will not be directly callable after loading.\n"
     ]
    },
    {
     "name": "stdout",
     "output_type": "stream",
     "text": [
      "INFO:tensorflow:Assets written to: ram://d009ae4c-e1eb-4183-89bf-510f0c49ec7a/assets\n"
     ]
    },
    {
     "name": "stderr",
     "output_type": "stream",
     "text": [
      "INFO:tensorflow:Assets written to: ram://d009ae4c-e1eb-4183-89bf-510f0c49ec7a/assets\n",
      "WARNING:absl:Found untraced functions such as gru_cell_108_layer_call_fn, gru_cell_108_layer_call_and_return_conditional_losses, gru_cell_109_layer_call_fn, gru_cell_109_layer_call_and_return_conditional_losses while saving (showing 4 of 4). These functions will not be directly callable after loading.\n"
     ]
    },
    {
     "name": "stdout",
     "output_type": "stream",
     "text": [
      "INFO:tensorflow:Assets written to: models/gru-diff_features-s200-p2/assets\n"
     ]
    },
    {
     "name": "stderr",
     "output_type": "stream",
     "text": [
      "INFO:tensorflow:Assets written to: models/gru-diff_features-s200-p2/assets\n"
     ]
    },
    {
     "name": "stdout",
     "output_type": "stream",
     "text": [
      "Epoch 1/3\n",
      "657/657 [==============================] - 4s 3ms/step - loss: 1.0101 - val_loss: 0.7485\n",
      "Epoch 2/3\n",
      "657/657 [==============================] - 2s 2ms/step - loss: 0.6700 - val_loss: 0.5429\n",
      "Epoch 3/3\n",
      "657/657 [==============================] - 2s 3ms/step - loss: 0.5093 - val_loss: 0.3907\n",
      "221/221 [==============================] - 1s 1ms/step\n",
      "221/221 [==============================] - 1s 1ms/step\n"
     ]
    },
    {
     "name": "stderr",
     "output_type": "stream",
     "text": [
      "WARNING:absl:Found untraced functions such as lstm_cell_110_layer_call_fn, lstm_cell_110_layer_call_and_return_conditional_losses, lstm_cell_111_layer_call_fn, lstm_cell_111_layer_call_and_return_conditional_losses while saving (showing 4 of 4). These functions will not be directly callable after loading.\n"
     ]
    },
    {
     "name": "stdout",
     "output_type": "stream",
     "text": [
      "INFO:tensorflow:Assets written to: ram://5859cc17-65aa-4a11-bff8-31dde5512352/assets\n"
     ]
    },
    {
     "name": "stderr",
     "output_type": "stream",
     "text": [
      "INFO:tensorflow:Assets written to: ram://5859cc17-65aa-4a11-bff8-31dde5512352/assets\n",
      "WARNING:absl:Found untraced functions such as lstm_cell_110_layer_call_fn, lstm_cell_110_layer_call_and_return_conditional_losses, lstm_cell_111_layer_call_fn, lstm_cell_111_layer_call_and_return_conditional_losses while saving (showing 4 of 4). These functions will not be directly callable after loading.\n"
     ]
    },
    {
     "name": "stdout",
     "output_type": "stream",
     "text": [
      "INFO:tensorflow:Assets written to: models/lstm-diff_features-s200-p3/assets\n"
     ]
    },
    {
     "name": "stderr",
     "output_type": "stream",
     "text": [
      "INFO:tensorflow:Assets written to: models/lstm-diff_features-s200-p3/assets\n",
      "WARNING:absl:Found untraced functions such as gru_cell_110_layer_call_fn, gru_cell_110_layer_call_and_return_conditional_losses, gru_cell_111_layer_call_fn, gru_cell_111_layer_call_and_return_conditional_losses while saving (showing 4 of 4). These functions will not be directly callable after loading.\n"
     ]
    },
    {
     "name": "stdout",
     "output_type": "stream",
     "text": [
      "INFO:tensorflow:Assets written to: ram://efa97daa-2902-4e68-9246-f60515486491/assets\n"
     ]
    },
    {
     "name": "stderr",
     "output_type": "stream",
     "text": [
      "INFO:tensorflow:Assets written to: ram://efa97daa-2902-4e68-9246-f60515486491/assets\n",
      "WARNING:absl:Found untraced functions such as gru_cell_110_layer_call_fn, gru_cell_110_layer_call_and_return_conditional_losses, gru_cell_111_layer_call_fn, gru_cell_111_layer_call_and_return_conditional_losses while saving (showing 4 of 4). These functions will not be directly callable after loading.\n"
     ]
    },
    {
     "name": "stdout",
     "output_type": "stream",
     "text": [
      "INFO:tensorflow:Assets written to: models/gru-diff_features-s200-p3/assets\n"
     ]
    },
    {
     "name": "stderr",
     "output_type": "stream",
     "text": [
      "INFO:tensorflow:Assets written to: models/gru-diff_features-s200-p3/assets\n"
     ]
    },
    {
     "name": "stdout",
     "output_type": "stream",
     "text": [
      "Epoch 1/3\n",
      "657/657 [==============================] - 4s 3ms/step - loss: 0.9025 - val_loss: 0.7414\n",
      "Epoch 2/3\n",
      "657/657 [==============================] - 2s 2ms/step - loss: 0.6374 - val_loss: 0.5480\n",
      "Epoch 3/3\n",
      "657/657 [==============================] - 2s 2ms/step - loss: 0.4801 - val_loss: 0.3825\n",
      "221/221 [==============================] - 1s 949us/step\n",
      "221/221 [==============================] - 1s 900us/step\n"
     ]
    },
    {
     "name": "stderr",
     "output_type": "stream",
     "text": [
      "WARNING:absl:Found untraced functions such as lstm_cell_112_layer_call_fn, lstm_cell_112_layer_call_and_return_conditional_losses, lstm_cell_113_layer_call_fn, lstm_cell_113_layer_call_and_return_conditional_losses while saving (showing 4 of 4). These functions will not be directly callable after loading.\n"
     ]
    },
    {
     "name": "stdout",
     "output_type": "stream",
     "text": [
      "INFO:tensorflow:Assets written to: ram://474d2312-15df-40ce-b842-a4098457e8ff/assets\n"
     ]
    },
    {
     "name": "stderr",
     "output_type": "stream",
     "text": [
      "INFO:tensorflow:Assets written to: ram://474d2312-15df-40ce-b842-a4098457e8ff/assets\n",
      "WARNING:absl:Found untraced functions such as lstm_cell_112_layer_call_fn, lstm_cell_112_layer_call_and_return_conditional_losses, lstm_cell_113_layer_call_fn, lstm_cell_113_layer_call_and_return_conditional_losses while saving (showing 4 of 4). These functions will not be directly callable after loading.\n"
     ]
    },
    {
     "name": "stdout",
     "output_type": "stream",
     "text": [
      "INFO:tensorflow:Assets written to: models/lstm-all_features-s300-p0/assets\n"
     ]
    },
    {
     "name": "stderr",
     "output_type": "stream",
     "text": [
      "INFO:tensorflow:Assets written to: models/lstm-all_features-s300-p0/assets\n",
      "WARNING:absl:Found untraced functions such as gru_cell_112_layer_call_fn, gru_cell_112_layer_call_and_return_conditional_losses, gru_cell_113_layer_call_fn, gru_cell_113_layer_call_and_return_conditional_losses while saving (showing 4 of 4). These functions will not be directly callable after loading.\n"
     ]
    },
    {
     "name": "stdout",
     "output_type": "stream",
     "text": [
      "INFO:tensorflow:Assets written to: ram://bd52a2d7-927f-4da5-bbb8-2a874cc9293a/assets\n"
     ]
    },
    {
     "name": "stderr",
     "output_type": "stream",
     "text": [
      "INFO:tensorflow:Assets written to: ram://bd52a2d7-927f-4da5-bbb8-2a874cc9293a/assets\n",
      "WARNING:absl:Found untraced functions such as gru_cell_112_layer_call_fn, gru_cell_112_layer_call_and_return_conditional_losses, gru_cell_113_layer_call_fn, gru_cell_113_layer_call_and_return_conditional_losses while saving (showing 4 of 4). These functions will not be directly callable after loading.\n"
     ]
    },
    {
     "name": "stdout",
     "output_type": "stream",
     "text": [
      "INFO:tensorflow:Assets written to: models/gru-all_features-s300-p0/assets\n"
     ]
    },
    {
     "name": "stderr",
     "output_type": "stream",
     "text": [
      "INFO:tensorflow:Assets written to: models/gru-all_features-s300-p0/assets\n"
     ]
    },
    {
     "name": "stdout",
     "output_type": "stream",
     "text": [
      "Epoch 1/3\n",
      "657/657 [==============================] - 4s 3ms/step - loss: 0.8922 - val_loss: 0.6860\n",
      "Epoch 2/3\n",
      "657/657 [==============================] - 2s 2ms/step - loss: 0.5467 - val_loss: 0.4187\n",
      "Epoch 3/3\n",
      "657/657 [==============================] - 2s 2ms/step - loss: 0.3490 - val_loss: 0.2383\n",
      "221/221 [==============================] - 1s 1ms/step\n",
      "221/221 [==============================] - 1s 920us/step\n"
     ]
    },
    {
     "name": "stderr",
     "output_type": "stream",
     "text": [
      "WARNING:absl:Found untraced functions such as lstm_cell_114_layer_call_fn, lstm_cell_114_layer_call_and_return_conditional_losses, lstm_cell_115_layer_call_fn, lstm_cell_115_layer_call_and_return_conditional_losses while saving (showing 4 of 4). These functions will not be directly callable after loading.\n"
     ]
    },
    {
     "name": "stdout",
     "output_type": "stream",
     "text": [
      "INFO:tensorflow:Assets written to: ram://dd2f8475-ef44-4fce-bedb-2b40e5fdcf29/assets\n"
     ]
    },
    {
     "name": "stderr",
     "output_type": "stream",
     "text": [
      "INFO:tensorflow:Assets written to: ram://dd2f8475-ef44-4fce-bedb-2b40e5fdcf29/assets\n",
      "WARNING:absl:Found untraced functions such as lstm_cell_114_layer_call_fn, lstm_cell_114_layer_call_and_return_conditional_losses, lstm_cell_115_layer_call_fn, lstm_cell_115_layer_call_and_return_conditional_losses while saving (showing 4 of 4). These functions will not be directly callable after loading.\n"
     ]
    },
    {
     "name": "stdout",
     "output_type": "stream",
     "text": [
      "INFO:tensorflow:Assets written to: models/lstm-all_features-s300-p1/assets\n"
     ]
    },
    {
     "name": "stderr",
     "output_type": "stream",
     "text": [
      "INFO:tensorflow:Assets written to: models/lstm-all_features-s300-p1/assets\n",
      "WARNING:absl:Found untraced functions such as gru_cell_114_layer_call_fn, gru_cell_114_layer_call_and_return_conditional_losses, gru_cell_115_layer_call_fn, gru_cell_115_layer_call_and_return_conditional_losses while saving (showing 4 of 4). These functions will not be directly callable after loading.\n"
     ]
    },
    {
     "name": "stdout",
     "output_type": "stream",
     "text": [
      "INFO:tensorflow:Assets written to: ram://08282a99-2b76-4e47-9673-ab6eb6e53e79/assets\n"
     ]
    },
    {
     "name": "stderr",
     "output_type": "stream",
     "text": [
      "INFO:tensorflow:Assets written to: ram://08282a99-2b76-4e47-9673-ab6eb6e53e79/assets\n",
      "WARNING:absl:Found untraced functions such as gru_cell_114_layer_call_fn, gru_cell_114_layer_call_and_return_conditional_losses, gru_cell_115_layer_call_fn, gru_cell_115_layer_call_and_return_conditional_losses while saving (showing 4 of 4). These functions will not be directly callable after loading.\n"
     ]
    },
    {
     "name": "stdout",
     "output_type": "stream",
     "text": [
      "INFO:tensorflow:Assets written to: models/gru-all_features-s300-p1/assets\n"
     ]
    },
    {
     "name": "stderr",
     "output_type": "stream",
     "text": [
      "INFO:tensorflow:Assets written to: models/gru-all_features-s300-p1/assets\n"
     ]
    },
    {
     "name": "stdout",
     "output_type": "stream",
     "text": [
      "Epoch 1/3\n",
      "657/657 [==============================] - 4s 3ms/step - loss: 0.9150 - val_loss: 0.7734\n",
      "Epoch 2/3\n",
      "657/657 [==============================] - 2s 3ms/step - loss: 0.6349 - val_loss: 0.5621\n",
      "Epoch 3/3\n",
      "657/657 [==============================] - 2s 3ms/step - loss: 0.4612 - val_loss: 0.3816\n",
      "221/221 [==============================] - 1s 1ms/step\n",
      "221/221 [==============================] - 1s 1ms/step\n"
     ]
    },
    {
     "name": "stderr",
     "output_type": "stream",
     "text": [
      "WARNING:absl:Found untraced functions such as lstm_cell_116_layer_call_fn, lstm_cell_116_layer_call_and_return_conditional_losses, lstm_cell_117_layer_call_fn, lstm_cell_117_layer_call_and_return_conditional_losses while saving (showing 4 of 4). These functions will not be directly callable after loading.\n"
     ]
    },
    {
     "name": "stdout",
     "output_type": "stream",
     "text": [
      "INFO:tensorflow:Assets written to: ram://91ec0da7-cc8e-4a10-a855-779e805c6986/assets\n"
     ]
    },
    {
     "name": "stderr",
     "output_type": "stream",
     "text": [
      "INFO:tensorflow:Assets written to: ram://91ec0da7-cc8e-4a10-a855-779e805c6986/assets\n",
      "WARNING:absl:Found untraced functions such as lstm_cell_116_layer_call_fn, lstm_cell_116_layer_call_and_return_conditional_losses, lstm_cell_117_layer_call_fn, lstm_cell_117_layer_call_and_return_conditional_losses while saving (showing 4 of 4). These functions will not be directly callable after loading.\n"
     ]
    },
    {
     "name": "stdout",
     "output_type": "stream",
     "text": [
      "INFO:tensorflow:Assets written to: models/lstm-all_features-s300-p2/assets\n"
     ]
    },
    {
     "name": "stderr",
     "output_type": "stream",
     "text": [
      "INFO:tensorflow:Assets written to: models/lstm-all_features-s300-p2/assets\n",
      "WARNING:absl:Found untraced functions such as gru_cell_116_layer_call_fn, gru_cell_116_layer_call_and_return_conditional_losses, gru_cell_117_layer_call_fn, gru_cell_117_layer_call_and_return_conditional_losses while saving (showing 4 of 4). These functions will not be directly callable after loading.\n"
     ]
    },
    {
     "name": "stdout",
     "output_type": "stream",
     "text": [
      "INFO:tensorflow:Assets written to: ram://d008c0fc-83d8-4ce4-9cac-4084bfd989af/assets\n"
     ]
    },
    {
     "name": "stderr",
     "output_type": "stream",
     "text": [
      "INFO:tensorflow:Assets written to: ram://d008c0fc-83d8-4ce4-9cac-4084bfd989af/assets\n",
      "WARNING:absl:Found untraced functions such as gru_cell_116_layer_call_fn, gru_cell_116_layer_call_and_return_conditional_losses, gru_cell_117_layer_call_fn, gru_cell_117_layer_call_and_return_conditional_losses while saving (showing 4 of 4). These functions will not be directly callable after loading.\n"
     ]
    },
    {
     "name": "stdout",
     "output_type": "stream",
     "text": [
      "INFO:tensorflow:Assets written to: models/gru-all_features-s300-p2/assets\n"
     ]
    },
    {
     "name": "stderr",
     "output_type": "stream",
     "text": [
      "INFO:tensorflow:Assets written to: models/gru-all_features-s300-p2/assets\n"
     ]
    },
    {
     "name": "stdout",
     "output_type": "stream",
     "text": [
      "Epoch 1/3\n",
      "657/657 [==============================] - 5s 3ms/step - loss: 0.8991 - val_loss: 0.6865\n",
      "Epoch 2/3\n",
      "657/657 [==============================] - 2s 3ms/step - loss: 0.5212 - val_loss: 0.3821\n",
      "Epoch 3/3\n",
      "657/657 [==============================] - 2s 3ms/step - loss: 0.2973 - val_loss: 0.1954\n",
      "221/221 [==============================] - 1s 1ms/step\n",
      "221/221 [==============================] - 1s 1ms/step\n"
     ]
    },
    {
     "name": "stderr",
     "output_type": "stream",
     "text": [
      "WARNING:absl:Found untraced functions such as lstm_cell_118_layer_call_fn, lstm_cell_118_layer_call_and_return_conditional_losses, lstm_cell_119_layer_call_fn, lstm_cell_119_layer_call_and_return_conditional_losses while saving (showing 4 of 4). These functions will not be directly callable after loading.\n"
     ]
    },
    {
     "name": "stdout",
     "output_type": "stream",
     "text": [
      "INFO:tensorflow:Assets written to: ram://89d78fef-fd97-49a7-8c09-4bb0ddab652d/assets\n"
     ]
    },
    {
     "name": "stderr",
     "output_type": "stream",
     "text": [
      "INFO:tensorflow:Assets written to: ram://89d78fef-fd97-49a7-8c09-4bb0ddab652d/assets\n",
      "WARNING:absl:Found untraced functions such as lstm_cell_118_layer_call_fn, lstm_cell_118_layer_call_and_return_conditional_losses, lstm_cell_119_layer_call_fn, lstm_cell_119_layer_call_and_return_conditional_losses while saving (showing 4 of 4). These functions will not be directly callable after loading.\n"
     ]
    },
    {
     "name": "stdout",
     "output_type": "stream",
     "text": [
      "INFO:tensorflow:Assets written to: models/lstm-all_features-s300-p3/assets\n"
     ]
    },
    {
     "name": "stderr",
     "output_type": "stream",
     "text": [
      "INFO:tensorflow:Assets written to: models/lstm-all_features-s300-p3/assets\n",
      "WARNING:absl:Found untraced functions such as gru_cell_118_layer_call_fn, gru_cell_118_layer_call_and_return_conditional_losses, gru_cell_119_layer_call_fn, gru_cell_119_layer_call_and_return_conditional_losses while saving (showing 4 of 4). These functions will not be directly callable after loading.\n"
     ]
    },
    {
     "name": "stdout",
     "output_type": "stream",
     "text": [
      "INFO:tensorflow:Assets written to: ram://0decfdf2-ec76-4d1e-8428-3b2112846eff/assets\n"
     ]
    },
    {
     "name": "stderr",
     "output_type": "stream",
     "text": [
      "INFO:tensorflow:Assets written to: ram://0decfdf2-ec76-4d1e-8428-3b2112846eff/assets\n",
      "WARNING:absl:Found untraced functions such as gru_cell_118_layer_call_fn, gru_cell_118_layer_call_and_return_conditional_losses, gru_cell_119_layer_call_fn, gru_cell_119_layer_call_and_return_conditional_losses while saving (showing 4 of 4). These functions will not be directly callable after loading.\n"
     ]
    },
    {
     "name": "stdout",
     "output_type": "stream",
     "text": [
      "INFO:tensorflow:Assets written to: models/gru-all_features-s300-p3/assets\n"
     ]
    },
    {
     "name": "stderr",
     "output_type": "stream",
     "text": [
      "INFO:tensorflow:Assets written to: models/gru-all_features-s300-p3/assets\n"
     ]
    },
    {
     "name": "stdout",
     "output_type": "stream",
     "text": [
      "Epoch 1/3\n",
      "657/657 [==============================] - 4s 3ms/step - loss: 1.0312 - val_loss: 0.7144\n",
      "Epoch 2/3\n",
      "657/657 [==============================] - 2s 2ms/step - loss: 0.7471 - val_loss: 0.5944\n",
      "Epoch 3/3\n",
      "657/657 [==============================] - 1s 2ms/step - loss: 0.5984 - val_loss: 0.4395\n",
      "221/221 [==============================] - 1s 942us/step\n",
      "221/221 [==============================] - 1s 883us/step\n"
     ]
    },
    {
     "name": "stderr",
     "output_type": "stream",
     "text": [
      "WARNING:absl:Found untraced functions such as lstm_cell_120_layer_call_fn, lstm_cell_120_layer_call_and_return_conditional_losses, lstm_cell_121_layer_call_fn, lstm_cell_121_layer_call_and_return_conditional_losses while saving (showing 4 of 4). These functions will not be directly callable after loading.\n"
     ]
    },
    {
     "name": "stdout",
     "output_type": "stream",
     "text": [
      "INFO:tensorflow:Assets written to: ram://b4f98f94-5809-4157-a857-20b24ae19eea/assets\n"
     ]
    },
    {
     "name": "stderr",
     "output_type": "stream",
     "text": [
      "INFO:tensorflow:Assets written to: ram://b4f98f94-5809-4157-a857-20b24ae19eea/assets\n",
      "WARNING:absl:Found untraced functions such as lstm_cell_120_layer_call_fn, lstm_cell_120_layer_call_and_return_conditional_losses, lstm_cell_121_layer_call_fn, lstm_cell_121_layer_call_and_return_conditional_losses while saving (showing 4 of 4). These functions will not be directly callable after loading.\n"
     ]
    },
    {
     "name": "stdout",
     "output_type": "stream",
     "text": [
      "INFO:tensorflow:Assets written to: models/lstm-w5_features-s300-p0/assets\n"
     ]
    },
    {
     "name": "stderr",
     "output_type": "stream",
     "text": [
      "INFO:tensorflow:Assets written to: models/lstm-w5_features-s300-p0/assets\n",
      "WARNING:absl:Found untraced functions such as gru_cell_120_layer_call_fn, gru_cell_120_layer_call_and_return_conditional_losses, gru_cell_121_layer_call_fn, gru_cell_121_layer_call_and_return_conditional_losses while saving (showing 4 of 4). These functions will not be directly callable after loading.\n"
     ]
    },
    {
     "name": "stdout",
     "output_type": "stream",
     "text": [
      "INFO:tensorflow:Assets written to: ram://8afd97ac-7efa-4440-b6a1-fb6e56ec6bec/assets\n"
     ]
    },
    {
     "name": "stderr",
     "output_type": "stream",
     "text": [
      "INFO:tensorflow:Assets written to: ram://8afd97ac-7efa-4440-b6a1-fb6e56ec6bec/assets\n",
      "WARNING:absl:Found untraced functions such as gru_cell_120_layer_call_fn, gru_cell_120_layer_call_and_return_conditional_losses, gru_cell_121_layer_call_fn, gru_cell_121_layer_call_and_return_conditional_losses while saving (showing 4 of 4). These functions will not be directly callable after loading.\n"
     ]
    },
    {
     "name": "stdout",
     "output_type": "stream",
     "text": [
      "INFO:tensorflow:Assets written to: models/gru-w5_features-s300-p0/assets\n"
     ]
    },
    {
     "name": "stderr",
     "output_type": "stream",
     "text": [
      "INFO:tensorflow:Assets written to: models/gru-w5_features-s300-p0/assets\n"
     ]
    },
    {
     "name": "stdout",
     "output_type": "stream",
     "text": [
      "Epoch 1/3\n",
      "657/657 [==============================] - 4s 3ms/step - loss: 0.8350 - val_loss: 0.6185\n",
      "Epoch 2/3\n",
      "657/657 [==============================] - 2s 2ms/step - loss: 0.5630 - val_loss: 0.3944\n",
      "Epoch 3/3\n",
      "657/657 [==============================] - 2s 2ms/step - loss: 0.3889 - val_loss: 0.2536\n",
      "221/221 [==============================] - 1s 1ms/step\n",
      "221/221 [==============================] - 1s 877us/step\n"
     ]
    },
    {
     "name": "stderr",
     "output_type": "stream",
     "text": [
      "WARNING:absl:Found untraced functions such as lstm_cell_122_layer_call_fn, lstm_cell_122_layer_call_and_return_conditional_losses, lstm_cell_123_layer_call_fn, lstm_cell_123_layer_call_and_return_conditional_losses while saving (showing 4 of 4). These functions will not be directly callable after loading.\n"
     ]
    },
    {
     "name": "stdout",
     "output_type": "stream",
     "text": [
      "INFO:tensorflow:Assets written to: ram://2c6ee0bd-47c9-4e01-a2a6-548b2a06f97c/assets\n"
     ]
    },
    {
     "name": "stderr",
     "output_type": "stream",
     "text": [
      "INFO:tensorflow:Assets written to: ram://2c6ee0bd-47c9-4e01-a2a6-548b2a06f97c/assets\n",
      "WARNING:absl:Found untraced functions such as lstm_cell_122_layer_call_fn, lstm_cell_122_layer_call_and_return_conditional_losses, lstm_cell_123_layer_call_fn, lstm_cell_123_layer_call_and_return_conditional_losses while saving (showing 4 of 4). These functions will not be directly callable after loading.\n"
     ]
    },
    {
     "name": "stdout",
     "output_type": "stream",
     "text": [
      "INFO:tensorflow:Assets written to: models/lstm-w5_features-s300-p1/assets\n"
     ]
    },
    {
     "name": "stderr",
     "output_type": "stream",
     "text": [
      "INFO:tensorflow:Assets written to: models/lstm-w5_features-s300-p1/assets\n",
      "WARNING:absl:Found untraced functions such as gru_cell_122_layer_call_fn, gru_cell_122_layer_call_and_return_conditional_losses, gru_cell_123_layer_call_fn, gru_cell_123_layer_call_and_return_conditional_losses while saving (showing 4 of 4). These functions will not be directly callable after loading.\n"
     ]
    },
    {
     "name": "stdout",
     "output_type": "stream",
     "text": [
      "INFO:tensorflow:Assets written to: ram://c37bd56e-a752-4236-a75d-bdfb9bfe4a8e/assets\n"
     ]
    },
    {
     "name": "stderr",
     "output_type": "stream",
     "text": [
      "INFO:tensorflow:Assets written to: ram://c37bd56e-a752-4236-a75d-bdfb9bfe4a8e/assets\n",
      "WARNING:absl:Found untraced functions such as gru_cell_122_layer_call_fn, gru_cell_122_layer_call_and_return_conditional_losses, gru_cell_123_layer_call_fn, gru_cell_123_layer_call_and_return_conditional_losses while saving (showing 4 of 4). These functions will not be directly callable after loading.\n"
     ]
    },
    {
     "name": "stdout",
     "output_type": "stream",
     "text": [
      "INFO:tensorflow:Assets written to: models/gru-w5_features-s300-p1/assets\n"
     ]
    },
    {
     "name": "stderr",
     "output_type": "stream",
     "text": [
      "INFO:tensorflow:Assets written to: models/gru-w5_features-s300-p1/assets\n"
     ]
    },
    {
     "name": "stdout",
     "output_type": "stream",
     "text": [
      "Epoch 1/3\n",
      "657/657 [==============================] - 4s 3ms/step - loss: 1.0372 - val_loss: 0.7277\n",
      "Epoch 2/3\n",
      "657/657 [==============================] - 2s 2ms/step - loss: 0.7387 - val_loss: 0.5823\n",
      "Epoch 3/3\n",
      "657/657 [==============================] - 2s 3ms/step - loss: 0.5730 - val_loss: 0.4029\n",
      "221/221 [==============================] - 1s 964us/step\n",
      "221/221 [==============================] - 1s 992us/step\n"
     ]
    },
    {
     "name": "stderr",
     "output_type": "stream",
     "text": [
      "WARNING:absl:Found untraced functions such as lstm_cell_124_layer_call_fn, lstm_cell_124_layer_call_and_return_conditional_losses, lstm_cell_125_layer_call_fn, lstm_cell_125_layer_call_and_return_conditional_losses while saving (showing 4 of 4). These functions will not be directly callable after loading.\n"
     ]
    },
    {
     "name": "stdout",
     "output_type": "stream",
     "text": [
      "INFO:tensorflow:Assets written to: ram://1ba975b3-a2e4-404d-bd05-660ee0d2f6e8/assets\n"
     ]
    },
    {
     "name": "stderr",
     "output_type": "stream",
     "text": [
      "INFO:tensorflow:Assets written to: ram://1ba975b3-a2e4-404d-bd05-660ee0d2f6e8/assets\n",
      "WARNING:absl:Found untraced functions such as lstm_cell_124_layer_call_fn, lstm_cell_124_layer_call_and_return_conditional_losses, lstm_cell_125_layer_call_fn, lstm_cell_125_layer_call_and_return_conditional_losses while saving (showing 4 of 4). These functions will not be directly callable after loading.\n"
     ]
    },
    {
     "name": "stdout",
     "output_type": "stream",
     "text": [
      "INFO:tensorflow:Assets written to: models/lstm-w5_features-s300-p2/assets\n"
     ]
    },
    {
     "name": "stderr",
     "output_type": "stream",
     "text": [
      "INFO:tensorflow:Assets written to: models/lstm-w5_features-s300-p2/assets\n",
      "WARNING:absl:Found untraced functions such as gru_cell_124_layer_call_fn, gru_cell_124_layer_call_and_return_conditional_losses, gru_cell_125_layer_call_fn, gru_cell_125_layer_call_and_return_conditional_losses while saving (showing 4 of 4). These functions will not be directly callable after loading.\n"
     ]
    },
    {
     "name": "stdout",
     "output_type": "stream",
     "text": [
      "INFO:tensorflow:Assets written to: ram://75489204-71b3-4244-ba32-842617889cda/assets\n"
     ]
    },
    {
     "name": "stderr",
     "output_type": "stream",
     "text": [
      "INFO:tensorflow:Assets written to: ram://75489204-71b3-4244-ba32-842617889cda/assets\n",
      "WARNING:absl:Found untraced functions such as gru_cell_124_layer_call_fn, gru_cell_124_layer_call_and_return_conditional_losses, gru_cell_125_layer_call_fn, gru_cell_125_layer_call_and_return_conditional_losses while saving (showing 4 of 4). These functions will not be directly callable after loading.\n"
     ]
    },
    {
     "name": "stdout",
     "output_type": "stream",
     "text": [
      "INFO:tensorflow:Assets written to: models/gru-w5_features-s300-p2/assets\n"
     ]
    },
    {
     "name": "stderr",
     "output_type": "stream",
     "text": [
      "INFO:tensorflow:Assets written to: models/gru-w5_features-s300-p2/assets\n"
     ]
    },
    {
     "name": "stdout",
     "output_type": "stream",
     "text": [
      "Epoch 1/3\n",
      "657/657 [==============================] - 5s 3ms/step - loss: 0.8447 - val_loss: 0.6189\n",
      "Epoch 2/3\n",
      "657/657 [==============================] - 2s 3ms/step - loss: 0.5325 - val_loss: 0.3526\n",
      "Epoch 3/3\n",
      "657/657 [==============================] - 2s 2ms/step - loss: 0.3622 - val_loss: 0.2329\n",
      "221/221 [==============================] - 1s 1ms/step\n",
      "221/221 [==============================] - 1s 1ms/step\n"
     ]
    },
    {
     "name": "stderr",
     "output_type": "stream",
     "text": [
      "WARNING:absl:Found untraced functions such as lstm_cell_126_layer_call_fn, lstm_cell_126_layer_call_and_return_conditional_losses, lstm_cell_127_layer_call_fn, lstm_cell_127_layer_call_and_return_conditional_losses while saving (showing 4 of 4). These functions will not be directly callable after loading.\n"
     ]
    },
    {
     "name": "stdout",
     "output_type": "stream",
     "text": [
      "INFO:tensorflow:Assets written to: ram://63fbcd8a-23bf-4f52-8041-5c9b8d7b51e4/assets\n"
     ]
    },
    {
     "name": "stderr",
     "output_type": "stream",
     "text": [
      "INFO:tensorflow:Assets written to: ram://63fbcd8a-23bf-4f52-8041-5c9b8d7b51e4/assets\n",
      "WARNING:absl:Found untraced functions such as lstm_cell_126_layer_call_fn, lstm_cell_126_layer_call_and_return_conditional_losses, lstm_cell_127_layer_call_fn, lstm_cell_127_layer_call_and_return_conditional_losses while saving (showing 4 of 4). These functions will not be directly callable after loading.\n"
     ]
    },
    {
     "name": "stdout",
     "output_type": "stream",
     "text": [
      "INFO:tensorflow:Assets written to: models/lstm-w5_features-s300-p3/assets\n"
     ]
    },
    {
     "name": "stderr",
     "output_type": "stream",
     "text": [
      "INFO:tensorflow:Assets written to: models/lstm-w5_features-s300-p3/assets\n",
      "WARNING:absl:Found untraced functions such as gru_cell_126_layer_call_fn, gru_cell_126_layer_call_and_return_conditional_losses, gru_cell_127_layer_call_fn, gru_cell_127_layer_call_and_return_conditional_losses while saving (showing 4 of 4). These functions will not be directly callable after loading.\n"
     ]
    },
    {
     "name": "stdout",
     "output_type": "stream",
     "text": [
      "INFO:tensorflow:Assets written to: ram://04c8123d-b053-4948-8542-5bcb18ab13ca/assets\n"
     ]
    },
    {
     "name": "stderr",
     "output_type": "stream",
     "text": [
      "INFO:tensorflow:Assets written to: ram://04c8123d-b053-4948-8542-5bcb18ab13ca/assets\n",
      "WARNING:absl:Found untraced functions such as gru_cell_126_layer_call_fn, gru_cell_126_layer_call_and_return_conditional_losses, gru_cell_127_layer_call_fn, gru_cell_127_layer_call_and_return_conditional_losses while saving (showing 4 of 4). These functions will not be directly callable after loading.\n"
     ]
    },
    {
     "name": "stdout",
     "output_type": "stream",
     "text": [
      "INFO:tensorflow:Assets written to: models/gru-w5_features-s300-p3/assets\n"
     ]
    },
    {
     "name": "stderr",
     "output_type": "stream",
     "text": [
      "INFO:tensorflow:Assets written to: models/gru-w5_features-s300-p3/assets\n"
     ]
    },
    {
     "name": "stdout",
     "output_type": "stream",
     "text": [
      "Epoch 1/3\n",
      "657/657 [==============================] - 5s 3ms/step - loss: 1.0653 - val_loss: 0.7602\n",
      "Epoch 2/3\n",
      "657/657 [==============================] - 2s 2ms/step - loss: 0.7803 - val_loss: 0.6549\n",
      "Epoch 3/3\n",
      "657/657 [==============================] - 2s 2ms/step - loss: 0.6323 - val_loss: 0.4933\n",
      "221/221 [==============================] - 1s 954us/step\n",
      "221/221 [==============================] - 1s 1ms/step\n"
     ]
    },
    {
     "name": "stderr",
     "output_type": "stream",
     "text": [
      "WARNING:absl:Found untraced functions such as lstm_cell_128_layer_call_fn, lstm_cell_128_layer_call_and_return_conditional_losses, lstm_cell_129_layer_call_fn, lstm_cell_129_layer_call_and_return_conditional_losses while saving (showing 4 of 4). These functions will not be directly callable after loading.\n"
     ]
    },
    {
     "name": "stdout",
     "output_type": "stream",
     "text": [
      "INFO:tensorflow:Assets written to: ram://f6b5ab01-248d-4dba-b139-afecd489bd7e/assets\n"
     ]
    },
    {
     "name": "stderr",
     "output_type": "stream",
     "text": [
      "INFO:tensorflow:Assets written to: ram://f6b5ab01-248d-4dba-b139-afecd489bd7e/assets\n",
      "WARNING:absl:Found untraced functions such as lstm_cell_128_layer_call_fn, lstm_cell_128_layer_call_and_return_conditional_losses, lstm_cell_129_layer_call_fn, lstm_cell_129_layer_call_and_return_conditional_losses while saving (showing 4 of 4). These functions will not be directly callable after loading.\n"
     ]
    },
    {
     "name": "stdout",
     "output_type": "stream",
     "text": [
      "INFO:tensorflow:Assets written to: models/lstm-w10_features-s300-p0/assets\n"
     ]
    },
    {
     "name": "stderr",
     "output_type": "stream",
     "text": [
      "INFO:tensorflow:Assets written to: models/lstm-w10_features-s300-p0/assets\n",
      "WARNING:absl:Found untraced functions such as gru_cell_128_layer_call_fn, gru_cell_128_layer_call_and_return_conditional_losses, gru_cell_129_layer_call_fn, gru_cell_129_layer_call_and_return_conditional_losses while saving (showing 4 of 4). These functions will not be directly callable after loading.\n"
     ]
    },
    {
     "name": "stdout",
     "output_type": "stream",
     "text": [
      "INFO:tensorflow:Assets written to: ram://580aa6a4-19db-4539-bf90-3b0d59abfbc7/assets\n"
     ]
    },
    {
     "name": "stderr",
     "output_type": "stream",
     "text": [
      "INFO:tensorflow:Assets written to: ram://580aa6a4-19db-4539-bf90-3b0d59abfbc7/assets\n",
      "WARNING:absl:Found untraced functions such as gru_cell_128_layer_call_fn, gru_cell_128_layer_call_and_return_conditional_losses, gru_cell_129_layer_call_fn, gru_cell_129_layer_call_and_return_conditional_losses while saving (showing 4 of 4). These functions will not be directly callable after loading.\n"
     ]
    },
    {
     "name": "stdout",
     "output_type": "stream",
     "text": [
      "INFO:tensorflow:Assets written to: models/gru-w10_features-s300-p0/assets\n"
     ]
    },
    {
     "name": "stderr",
     "output_type": "stream",
     "text": [
      "INFO:tensorflow:Assets written to: models/gru-w10_features-s300-p0/assets\n"
     ]
    },
    {
     "name": "stdout",
     "output_type": "stream",
     "text": [
      "Epoch 1/3\n",
      "657/657 [==============================] - 5s 3ms/step - loss: 0.8759 - val_loss: 0.6694\n",
      "Epoch 2/3\n",
      "657/657 [==============================] - 2s 2ms/step - loss: 0.5958 - val_loss: 0.4147\n",
      "Epoch 3/3\n",
      "657/657 [==============================] - 2s 2ms/step - loss: 0.4163 - val_loss: 0.2581\n",
      "221/221 [==============================] - 1s 1ms/step\n",
      "221/221 [==============================] - 1s 1ms/step\n"
     ]
    },
    {
     "name": "stderr",
     "output_type": "stream",
     "text": [
      "WARNING:absl:Found untraced functions such as lstm_cell_130_layer_call_fn, lstm_cell_130_layer_call_and_return_conditional_losses, lstm_cell_131_layer_call_fn, lstm_cell_131_layer_call_and_return_conditional_losses while saving (showing 4 of 4). These functions will not be directly callable after loading.\n"
     ]
    },
    {
     "name": "stdout",
     "output_type": "stream",
     "text": [
      "INFO:tensorflow:Assets written to: ram://bf0560cf-19f2-4d1e-8518-05269797f8dc/assets\n"
     ]
    },
    {
     "name": "stderr",
     "output_type": "stream",
     "text": [
      "INFO:tensorflow:Assets written to: ram://bf0560cf-19f2-4d1e-8518-05269797f8dc/assets\n",
      "WARNING:absl:Found untraced functions such as lstm_cell_130_layer_call_fn, lstm_cell_130_layer_call_and_return_conditional_losses, lstm_cell_131_layer_call_fn, lstm_cell_131_layer_call_and_return_conditional_losses while saving (showing 4 of 4). These functions will not be directly callable after loading.\n"
     ]
    },
    {
     "name": "stdout",
     "output_type": "stream",
     "text": [
      "INFO:tensorflow:Assets written to: models/lstm-w10_features-s300-p1/assets\n"
     ]
    },
    {
     "name": "stderr",
     "output_type": "stream",
     "text": [
      "INFO:tensorflow:Assets written to: models/lstm-w10_features-s300-p1/assets\n",
      "WARNING:absl:Found untraced functions such as gru_cell_130_layer_call_fn, gru_cell_130_layer_call_and_return_conditional_losses, gru_cell_131_layer_call_fn, gru_cell_131_layer_call_and_return_conditional_losses while saving (showing 4 of 4). These functions will not be directly callable after loading.\n"
     ]
    },
    {
     "name": "stdout",
     "output_type": "stream",
     "text": [
      "INFO:tensorflow:Assets written to: ram://6327b12c-f847-45b1-a61f-b56693ea9c67/assets\n"
     ]
    },
    {
     "name": "stderr",
     "output_type": "stream",
     "text": [
      "INFO:tensorflow:Assets written to: ram://6327b12c-f847-45b1-a61f-b56693ea9c67/assets\n",
      "WARNING:absl:Found untraced functions such as gru_cell_130_layer_call_fn, gru_cell_130_layer_call_and_return_conditional_losses, gru_cell_131_layer_call_fn, gru_cell_131_layer_call_and_return_conditional_losses while saving (showing 4 of 4). These functions will not be directly callable after loading.\n"
     ]
    },
    {
     "name": "stdout",
     "output_type": "stream",
     "text": [
      "INFO:tensorflow:Assets written to: models/gru-w10_features-s300-p1/assets\n"
     ]
    },
    {
     "name": "stderr",
     "output_type": "stream",
     "text": [
      "INFO:tensorflow:Assets written to: models/gru-w10_features-s300-p1/assets\n"
     ]
    },
    {
     "name": "stdout",
     "output_type": "stream",
     "text": [
      "Epoch 1/3\n",
      "657/657 [==============================] - 4s 4ms/step - loss: 1.0675 - val_loss: 0.7779\n",
      "Epoch 2/3\n",
      "657/657 [==============================] - 2s 2ms/step - loss: 0.7719 - val_loss: 0.6488\n",
      "Epoch 3/3\n",
      "657/657 [==============================] - 2s 2ms/step - loss: 0.6108 - val_loss: 0.4673\n",
      "221/221 [==============================] - 1s 1ms/step\n",
      "221/221 [==============================] - 1s 958us/step\n"
     ]
    },
    {
     "name": "stderr",
     "output_type": "stream",
     "text": [
      "WARNING:absl:Found untraced functions such as lstm_cell_132_layer_call_fn, lstm_cell_132_layer_call_and_return_conditional_losses, lstm_cell_133_layer_call_fn, lstm_cell_133_layer_call_and_return_conditional_losses while saving (showing 4 of 4). These functions will not be directly callable after loading.\n"
     ]
    },
    {
     "name": "stdout",
     "output_type": "stream",
     "text": [
      "INFO:tensorflow:Assets written to: ram://66c66913-fb69-498e-bbb2-d227f98d5d0a/assets\n"
     ]
    },
    {
     "name": "stderr",
     "output_type": "stream",
     "text": [
      "INFO:tensorflow:Assets written to: ram://66c66913-fb69-498e-bbb2-d227f98d5d0a/assets\n",
      "WARNING:absl:Found untraced functions such as lstm_cell_132_layer_call_fn, lstm_cell_132_layer_call_and_return_conditional_losses, lstm_cell_133_layer_call_fn, lstm_cell_133_layer_call_and_return_conditional_losses while saving (showing 4 of 4). These functions will not be directly callable after loading.\n"
     ]
    },
    {
     "name": "stdout",
     "output_type": "stream",
     "text": [
      "INFO:tensorflow:Assets written to: models/lstm-w10_features-s300-p2/assets\n"
     ]
    },
    {
     "name": "stderr",
     "output_type": "stream",
     "text": [
      "INFO:tensorflow:Assets written to: models/lstm-w10_features-s300-p2/assets\n",
      "WARNING:absl:Found untraced functions such as gru_cell_132_layer_call_fn, gru_cell_132_layer_call_and_return_conditional_losses, gru_cell_133_layer_call_fn, gru_cell_133_layer_call_and_return_conditional_losses while saving (showing 4 of 4). These functions will not be directly callable after loading.\n"
     ]
    },
    {
     "name": "stdout",
     "output_type": "stream",
     "text": [
      "INFO:tensorflow:Assets written to: ram://085f0d52-9216-44cc-a551-523ca39ba565/assets\n"
     ]
    },
    {
     "name": "stderr",
     "output_type": "stream",
     "text": [
      "INFO:tensorflow:Assets written to: ram://085f0d52-9216-44cc-a551-523ca39ba565/assets\n",
      "WARNING:absl:Found untraced functions such as gru_cell_132_layer_call_fn, gru_cell_132_layer_call_and_return_conditional_losses, gru_cell_133_layer_call_fn, gru_cell_133_layer_call_and_return_conditional_losses while saving (showing 4 of 4). These functions will not be directly callable after loading.\n"
     ]
    },
    {
     "name": "stdout",
     "output_type": "stream",
     "text": [
      "INFO:tensorflow:Assets written to: models/gru-w10_features-s300-p2/assets\n"
     ]
    },
    {
     "name": "stderr",
     "output_type": "stream",
     "text": [
      "INFO:tensorflow:Assets written to: models/gru-w10_features-s300-p2/assets\n"
     ]
    },
    {
     "name": "stdout",
     "output_type": "stream",
     "text": [
      "Epoch 1/3\n",
      "657/657 [==============================] - 4s 3ms/step - loss: 0.8753 - val_loss: 0.6606\n",
      "Epoch 2/3\n",
      "657/657 [==============================] - 2s 3ms/step - loss: 0.5526 - val_loss: 0.3623\n",
      "Epoch 3/3\n",
      "657/657 [==============================] - 2s 2ms/step - loss: 0.3449 - val_loss: 0.2076\n",
      "221/221 [==============================] - 1s 1ms/step\n",
      "221/221 [==============================] - 1s 1ms/step\n"
     ]
    },
    {
     "name": "stderr",
     "output_type": "stream",
     "text": [
      "WARNING:absl:Found untraced functions such as lstm_cell_134_layer_call_fn, lstm_cell_134_layer_call_and_return_conditional_losses, lstm_cell_135_layer_call_fn, lstm_cell_135_layer_call_and_return_conditional_losses while saving (showing 4 of 4). These functions will not be directly callable after loading.\n"
     ]
    },
    {
     "name": "stdout",
     "output_type": "stream",
     "text": [
      "INFO:tensorflow:Assets written to: ram://80fe5094-c789-4186-add9-5ebe57e8fae6/assets\n"
     ]
    },
    {
     "name": "stderr",
     "output_type": "stream",
     "text": [
      "INFO:tensorflow:Assets written to: ram://80fe5094-c789-4186-add9-5ebe57e8fae6/assets\n",
      "WARNING:absl:Found untraced functions such as lstm_cell_134_layer_call_fn, lstm_cell_134_layer_call_and_return_conditional_losses, lstm_cell_135_layer_call_fn, lstm_cell_135_layer_call_and_return_conditional_losses while saving (showing 4 of 4). These functions will not be directly callable after loading.\n"
     ]
    },
    {
     "name": "stdout",
     "output_type": "stream",
     "text": [
      "INFO:tensorflow:Assets written to: models/lstm-w10_features-s300-p3/assets\n"
     ]
    },
    {
     "name": "stderr",
     "output_type": "stream",
     "text": [
      "INFO:tensorflow:Assets written to: models/lstm-w10_features-s300-p3/assets\n",
      "WARNING:absl:Found untraced functions such as gru_cell_134_layer_call_fn, gru_cell_134_layer_call_and_return_conditional_losses, gru_cell_135_layer_call_fn, gru_cell_135_layer_call_and_return_conditional_losses while saving (showing 4 of 4). These functions will not be directly callable after loading.\n"
     ]
    },
    {
     "name": "stdout",
     "output_type": "stream",
     "text": [
      "INFO:tensorflow:Assets written to: ram://bd2894d7-62f9-4878-8601-e407c411ea7b/assets\n"
     ]
    },
    {
     "name": "stderr",
     "output_type": "stream",
     "text": [
      "INFO:tensorflow:Assets written to: ram://bd2894d7-62f9-4878-8601-e407c411ea7b/assets\n",
      "WARNING:absl:Found untraced functions such as gru_cell_134_layer_call_fn, gru_cell_134_layer_call_and_return_conditional_losses, gru_cell_135_layer_call_fn, gru_cell_135_layer_call_and_return_conditional_losses while saving (showing 4 of 4). These functions will not be directly callable after loading.\n"
     ]
    },
    {
     "name": "stdout",
     "output_type": "stream",
     "text": [
      "INFO:tensorflow:Assets written to: models/gru-w10_features-s300-p3/assets\n"
     ]
    },
    {
     "name": "stderr",
     "output_type": "stream",
     "text": [
      "INFO:tensorflow:Assets written to: models/gru-w10_features-s300-p3/assets\n"
     ]
    },
    {
     "name": "stdout",
     "output_type": "stream",
     "text": [
      "Epoch 1/3\n",
      "657/657 [==============================] - 3s 3ms/step - loss: 1.0675 - val_loss: 0.7868\n",
      "Epoch 2/3\n",
      "657/657 [==============================] - 2s 2ms/step - loss: 0.7822 - val_loss: 0.6946\n",
      "Epoch 3/3\n",
      "657/657 [==============================] - 2s 2ms/step - loss: 0.6352 - val_loss: 0.5392\n",
      "221/221 [==============================] - 1s 964us/step\n",
      "221/221 [==============================] - 1s 858us/step\n"
     ]
    },
    {
     "name": "stderr",
     "output_type": "stream",
     "text": [
      "WARNING:absl:Found untraced functions such as lstm_cell_136_layer_call_fn, lstm_cell_136_layer_call_and_return_conditional_losses, lstm_cell_137_layer_call_fn, lstm_cell_137_layer_call_and_return_conditional_losses while saving (showing 4 of 4). These functions will not be directly callable after loading.\n"
     ]
    },
    {
     "name": "stdout",
     "output_type": "stream",
     "text": [
      "INFO:tensorflow:Assets written to: ram://5734f8ca-8061-491f-8813-eec739e79ef9/assets\n"
     ]
    },
    {
     "name": "stderr",
     "output_type": "stream",
     "text": [
      "INFO:tensorflow:Assets written to: ram://5734f8ca-8061-491f-8813-eec739e79ef9/assets\n",
      "WARNING:absl:Found untraced functions such as lstm_cell_136_layer_call_fn, lstm_cell_136_layer_call_and_return_conditional_losses, lstm_cell_137_layer_call_fn, lstm_cell_137_layer_call_and_return_conditional_losses while saving (showing 4 of 4). These functions will not be directly callable after loading.\n"
     ]
    },
    {
     "name": "stdout",
     "output_type": "stream",
     "text": [
      "INFO:tensorflow:Assets written to: models/lstm-w15_features-s300-p0/assets\n"
     ]
    },
    {
     "name": "stderr",
     "output_type": "stream",
     "text": [
      "INFO:tensorflow:Assets written to: models/lstm-w15_features-s300-p0/assets\n",
      "WARNING:absl:Found untraced functions such as gru_cell_136_layer_call_fn, gru_cell_136_layer_call_and_return_conditional_losses, gru_cell_137_layer_call_fn, gru_cell_137_layer_call_and_return_conditional_losses while saving (showing 4 of 4). These functions will not be directly callable after loading.\n"
     ]
    },
    {
     "name": "stdout",
     "output_type": "stream",
     "text": [
      "INFO:tensorflow:Assets written to: ram://c3d87f7e-f9b9-44d6-a93e-043dd8e0866a/assets\n"
     ]
    },
    {
     "name": "stderr",
     "output_type": "stream",
     "text": [
      "INFO:tensorflow:Assets written to: ram://c3d87f7e-f9b9-44d6-a93e-043dd8e0866a/assets\n",
      "WARNING:absl:Found untraced functions such as gru_cell_136_layer_call_fn, gru_cell_136_layer_call_and_return_conditional_losses, gru_cell_137_layer_call_fn, gru_cell_137_layer_call_and_return_conditional_losses while saving (showing 4 of 4). These functions will not be directly callable after loading.\n"
     ]
    },
    {
     "name": "stdout",
     "output_type": "stream",
     "text": [
      "INFO:tensorflow:Assets written to: models/gru-w15_features-s300-p0/assets\n"
     ]
    },
    {
     "name": "stderr",
     "output_type": "stream",
     "text": [
      "INFO:tensorflow:Assets written to: models/gru-w15_features-s300-p0/assets\n"
     ]
    },
    {
     "name": "stdout",
     "output_type": "stream",
     "text": [
      "Epoch 1/3\n",
      "657/657 [==============================] - 4s 3ms/step - loss: 0.8983 - val_loss: 0.7129\n",
      "Epoch 2/3\n",
      "657/657 [==============================] - 2s 2ms/step - loss: 0.6123 - val_loss: 0.4593\n",
      "Epoch 3/3\n",
      "657/657 [==============================] - 2s 2ms/step - loss: 0.4227 - val_loss: 0.2849\n",
      "221/221 [==============================] - 1s 1ms/step\n",
      "221/221 [==============================] - 1s 936us/step\n"
     ]
    },
    {
     "name": "stderr",
     "output_type": "stream",
     "text": [
      "WARNING:absl:Found untraced functions such as lstm_cell_138_layer_call_fn, lstm_cell_138_layer_call_and_return_conditional_losses, lstm_cell_139_layer_call_fn, lstm_cell_139_layer_call_and_return_conditional_losses while saving (showing 4 of 4). These functions will not be directly callable after loading.\n"
     ]
    },
    {
     "name": "stdout",
     "output_type": "stream",
     "text": [
      "INFO:tensorflow:Assets written to: ram://380b01e7-39a8-4279-8f89-bf6fe1e5f410/assets\n"
     ]
    },
    {
     "name": "stderr",
     "output_type": "stream",
     "text": [
      "INFO:tensorflow:Assets written to: ram://380b01e7-39a8-4279-8f89-bf6fe1e5f410/assets\n",
      "WARNING:absl:Found untraced functions such as lstm_cell_138_layer_call_fn, lstm_cell_138_layer_call_and_return_conditional_losses, lstm_cell_139_layer_call_fn, lstm_cell_139_layer_call_and_return_conditional_losses while saving (showing 4 of 4). These functions will not be directly callable after loading.\n"
     ]
    },
    {
     "name": "stdout",
     "output_type": "stream",
     "text": [
      "INFO:tensorflow:Assets written to: models/lstm-w15_features-s300-p1/assets\n"
     ]
    },
    {
     "name": "stderr",
     "output_type": "stream",
     "text": [
      "INFO:tensorflow:Assets written to: models/lstm-w15_features-s300-p1/assets\n",
      "WARNING:absl:Found untraced functions such as gru_cell_138_layer_call_fn, gru_cell_138_layer_call_and_return_conditional_losses, gru_cell_139_layer_call_fn, gru_cell_139_layer_call_and_return_conditional_losses while saving (showing 4 of 4). These functions will not be directly callable after loading.\n"
     ]
    },
    {
     "name": "stdout",
     "output_type": "stream",
     "text": [
      "INFO:tensorflow:Assets written to: ram://ec884400-e5ce-4b69-b058-680938418645/assets\n"
     ]
    },
    {
     "name": "stderr",
     "output_type": "stream",
     "text": [
      "INFO:tensorflow:Assets written to: ram://ec884400-e5ce-4b69-b058-680938418645/assets\n",
      "WARNING:absl:Found untraced functions such as gru_cell_138_layer_call_fn, gru_cell_138_layer_call_and_return_conditional_losses, gru_cell_139_layer_call_fn, gru_cell_139_layer_call_and_return_conditional_losses while saving (showing 4 of 4). These functions will not be directly callable after loading.\n"
     ]
    },
    {
     "name": "stdout",
     "output_type": "stream",
     "text": [
      "INFO:tensorflow:Assets written to: models/gru-w15_features-s300-p1/assets\n"
     ]
    },
    {
     "name": "stderr",
     "output_type": "stream",
     "text": [
      "INFO:tensorflow:Assets written to: models/gru-w15_features-s300-p1/assets\n"
     ]
    },
    {
     "name": "stdout",
     "output_type": "stream",
     "text": [
      "Epoch 1/3\n",
      "657/657 [==============================] - 4s 3ms/step - loss: 1.0764 - val_loss: 0.8037\n",
      "Epoch 2/3\n",
      "657/657 [==============================] - 2s 2ms/step - loss: 0.7788 - val_loss: 0.6969\n",
      "Epoch 3/3\n",
      "657/657 [==============================] - 2s 3ms/step - loss: 0.6163 - val_loss: 0.5239\n",
      "221/221 [==============================] - 1s 1ms/step\n",
      "221/221 [==============================] - 1s 924us/step\n"
     ]
    },
    {
     "name": "stderr",
     "output_type": "stream",
     "text": [
      "WARNING:absl:Found untraced functions such as lstm_cell_140_layer_call_fn, lstm_cell_140_layer_call_and_return_conditional_losses, lstm_cell_141_layer_call_fn, lstm_cell_141_layer_call_and_return_conditional_losses while saving (showing 4 of 4). These functions will not be directly callable after loading.\n"
     ]
    },
    {
     "name": "stdout",
     "output_type": "stream",
     "text": [
      "INFO:tensorflow:Assets written to: ram://e00902d3-c6b4-4db3-9df0-f4bcb0a01070/assets\n"
     ]
    },
    {
     "name": "stderr",
     "output_type": "stream",
     "text": [
      "INFO:tensorflow:Assets written to: ram://e00902d3-c6b4-4db3-9df0-f4bcb0a01070/assets\n",
      "WARNING:absl:Found untraced functions such as lstm_cell_140_layer_call_fn, lstm_cell_140_layer_call_and_return_conditional_losses, lstm_cell_141_layer_call_fn, lstm_cell_141_layer_call_and_return_conditional_losses while saving (showing 4 of 4). These functions will not be directly callable after loading.\n"
     ]
    },
    {
     "name": "stdout",
     "output_type": "stream",
     "text": [
      "INFO:tensorflow:Assets written to: models/lstm-w15_features-s300-p2/assets\n"
     ]
    },
    {
     "name": "stderr",
     "output_type": "stream",
     "text": [
      "INFO:tensorflow:Assets written to: models/lstm-w15_features-s300-p2/assets\n",
      "WARNING:absl:Found untraced functions such as gru_cell_140_layer_call_fn, gru_cell_140_layer_call_and_return_conditional_losses, gru_cell_141_layer_call_fn, gru_cell_141_layer_call_and_return_conditional_losses while saving (showing 4 of 4). These functions will not be directly callable after loading.\n"
     ]
    },
    {
     "name": "stdout",
     "output_type": "stream",
     "text": [
      "INFO:tensorflow:Assets written to: ram://241c3938-1137-425c-acb4-1b17eeccdf98/assets\n"
     ]
    },
    {
     "name": "stderr",
     "output_type": "stream",
     "text": [
      "INFO:tensorflow:Assets written to: ram://241c3938-1137-425c-acb4-1b17eeccdf98/assets\n",
      "WARNING:absl:Found untraced functions such as gru_cell_140_layer_call_fn, gru_cell_140_layer_call_and_return_conditional_losses, gru_cell_141_layer_call_fn, gru_cell_141_layer_call_and_return_conditional_losses while saving (showing 4 of 4). These functions will not be directly callable after loading.\n"
     ]
    },
    {
     "name": "stdout",
     "output_type": "stream",
     "text": [
      "INFO:tensorflow:Assets written to: models/gru-w15_features-s300-p2/assets\n"
     ]
    },
    {
     "name": "stderr",
     "output_type": "stream",
     "text": [
      "INFO:tensorflow:Assets written to: models/gru-w15_features-s300-p2/assets\n"
     ]
    },
    {
     "name": "stdout",
     "output_type": "stream",
     "text": [
      "Epoch 1/3\n",
      "657/657 [==============================] - 4s 3ms/step - loss: 0.9061 - val_loss: 0.7180\n",
      "Epoch 2/3\n",
      "657/657 [==============================] - 2s 3ms/step - loss: 0.5859 - val_loss: 0.4363\n",
      "Epoch 3/3\n",
      "657/657 [==============================] - 2s 2ms/step - loss: 0.3735 - val_loss: 0.2791\n",
      "221/221 [==============================] - 1s 1ms/step\n",
      "221/221 [==============================] - 1s 940us/step\n"
     ]
    },
    {
     "name": "stderr",
     "output_type": "stream",
     "text": [
      "WARNING:absl:Found untraced functions such as lstm_cell_142_layer_call_fn, lstm_cell_142_layer_call_and_return_conditional_losses, lstm_cell_143_layer_call_fn, lstm_cell_143_layer_call_and_return_conditional_losses while saving (showing 4 of 4). These functions will not be directly callable after loading.\n"
     ]
    },
    {
     "name": "stdout",
     "output_type": "stream",
     "text": [
      "INFO:tensorflow:Assets written to: ram://c438c58d-2da4-4f75-8d86-ec7e1494c61c/assets\n"
     ]
    },
    {
     "name": "stderr",
     "output_type": "stream",
     "text": [
      "INFO:tensorflow:Assets written to: ram://c438c58d-2da4-4f75-8d86-ec7e1494c61c/assets\n",
      "WARNING:absl:Found untraced functions such as lstm_cell_142_layer_call_fn, lstm_cell_142_layer_call_and_return_conditional_losses, lstm_cell_143_layer_call_fn, lstm_cell_143_layer_call_and_return_conditional_losses while saving (showing 4 of 4). These functions will not be directly callable after loading.\n"
     ]
    },
    {
     "name": "stdout",
     "output_type": "stream",
     "text": [
      "INFO:tensorflow:Assets written to: models/lstm-w15_features-s300-p3/assets\n"
     ]
    },
    {
     "name": "stderr",
     "output_type": "stream",
     "text": [
      "INFO:tensorflow:Assets written to: models/lstm-w15_features-s300-p3/assets\n",
      "WARNING:absl:Found untraced functions such as gru_cell_142_layer_call_fn, gru_cell_142_layer_call_and_return_conditional_losses, gru_cell_143_layer_call_fn, gru_cell_143_layer_call_and_return_conditional_losses while saving (showing 4 of 4). These functions will not be directly callable after loading.\n"
     ]
    },
    {
     "name": "stdout",
     "output_type": "stream",
     "text": [
      "INFO:tensorflow:Assets written to: ram://56d75e64-223d-4023-b57a-875e4ea284a1/assets\n"
     ]
    },
    {
     "name": "stderr",
     "output_type": "stream",
     "text": [
      "INFO:tensorflow:Assets written to: ram://56d75e64-223d-4023-b57a-875e4ea284a1/assets\n",
      "WARNING:absl:Found untraced functions such as gru_cell_142_layer_call_fn, gru_cell_142_layer_call_and_return_conditional_losses, gru_cell_143_layer_call_fn, gru_cell_143_layer_call_and_return_conditional_losses while saving (showing 4 of 4). These functions will not be directly callable after loading.\n"
     ]
    },
    {
     "name": "stdout",
     "output_type": "stream",
     "text": [
      "INFO:tensorflow:Assets written to: models/gru-w15_features-s300-p3/assets\n"
     ]
    },
    {
     "name": "stderr",
     "output_type": "stream",
     "text": [
      "INFO:tensorflow:Assets written to: models/gru-w15_features-s300-p3/assets\n"
     ]
    },
    {
     "name": "stdout",
     "output_type": "stream",
     "text": [
      "Epoch 1/3\n",
      "657/657 [==============================] - 4s 3ms/step - loss: 1.0968 - val_loss: 0.7984\n",
      "Epoch 2/3\n",
      "657/657 [==============================] - 2s 2ms/step - loss: 0.8014 - val_loss: 0.7264\n",
      "Epoch 3/3\n",
      "657/657 [==============================] - 2s 2ms/step - loss: 0.6464 - val_loss: 0.5781\n",
      "221/221 [==============================] - 1s 934us/step\n",
      "221/221 [==============================] - 1s 858us/step\n"
     ]
    },
    {
     "name": "stderr",
     "output_type": "stream",
     "text": [
      "WARNING:absl:Found untraced functions such as lstm_cell_144_layer_call_fn, lstm_cell_144_layer_call_and_return_conditional_losses, lstm_cell_145_layer_call_fn, lstm_cell_145_layer_call_and_return_conditional_losses while saving (showing 4 of 4). These functions will not be directly callable after loading.\n"
     ]
    },
    {
     "name": "stdout",
     "output_type": "stream",
     "text": [
      "INFO:tensorflow:Assets written to: ram://a0df95ea-5f91-4626-ab58-0d3a0c7eab6b/assets\n"
     ]
    },
    {
     "name": "stderr",
     "output_type": "stream",
     "text": [
      "INFO:tensorflow:Assets written to: ram://a0df95ea-5f91-4626-ab58-0d3a0c7eab6b/assets\n",
      "WARNING:absl:Found untraced functions such as lstm_cell_144_layer_call_fn, lstm_cell_144_layer_call_and_return_conditional_losses, lstm_cell_145_layer_call_fn, lstm_cell_145_layer_call_and_return_conditional_losses while saving (showing 4 of 4). These functions will not be directly callable after loading.\n"
     ]
    },
    {
     "name": "stdout",
     "output_type": "stream",
     "text": [
      "INFO:tensorflow:Assets written to: models/lstm-w20_features-s300-p0/assets\n"
     ]
    },
    {
     "name": "stderr",
     "output_type": "stream",
     "text": [
      "INFO:tensorflow:Assets written to: models/lstm-w20_features-s300-p0/assets\n",
      "WARNING:absl:Found untraced functions such as gru_cell_144_layer_call_fn, gru_cell_144_layer_call_and_return_conditional_losses, gru_cell_145_layer_call_fn, gru_cell_145_layer_call_and_return_conditional_losses while saving (showing 4 of 4). These functions will not be directly callable after loading.\n"
     ]
    },
    {
     "name": "stdout",
     "output_type": "stream",
     "text": [
      "INFO:tensorflow:Assets written to: ram://b1c3790b-273c-46d5-b402-4fbcafedd65f/assets\n"
     ]
    },
    {
     "name": "stderr",
     "output_type": "stream",
     "text": [
      "INFO:tensorflow:Assets written to: ram://b1c3790b-273c-46d5-b402-4fbcafedd65f/assets\n",
      "WARNING:absl:Found untraced functions such as gru_cell_144_layer_call_fn, gru_cell_144_layer_call_and_return_conditional_losses, gru_cell_145_layer_call_fn, gru_cell_145_layer_call_and_return_conditional_losses while saving (showing 4 of 4). These functions will not be directly callable after loading.\n"
     ]
    },
    {
     "name": "stdout",
     "output_type": "stream",
     "text": [
      "INFO:tensorflow:Assets written to: models/gru-w20_features-s300-p0/assets\n"
     ]
    },
    {
     "name": "stderr",
     "output_type": "stream",
     "text": [
      "INFO:tensorflow:Assets written to: models/gru-w20_features-s300-p0/assets\n"
     ]
    },
    {
     "name": "stdout",
     "output_type": "stream",
     "text": [
      "Epoch 1/3\n",
      "657/657 [==============================] - 4s 3ms/step - loss: 0.9405 - val_loss: 0.7583\n",
      "Epoch 2/3\n",
      "657/657 [==============================] - 1s 2ms/step - loss: 0.6393 - val_loss: 0.5222\n",
      "Epoch 3/3\n",
      "657/657 [==============================] - 2s 2ms/step - loss: 0.4429 - val_loss: 0.3408\n",
      "221/221 [==============================] - 1s 985us/step\n",
      "221/221 [==============================] - 1s 959us/step\n"
     ]
    },
    {
     "name": "stderr",
     "output_type": "stream",
     "text": [
      "WARNING:absl:Found untraced functions such as lstm_cell_146_layer_call_fn, lstm_cell_146_layer_call_and_return_conditional_losses, lstm_cell_147_layer_call_fn, lstm_cell_147_layer_call_and_return_conditional_losses while saving (showing 4 of 4). These functions will not be directly callable after loading.\n"
     ]
    },
    {
     "name": "stdout",
     "output_type": "stream",
     "text": [
      "INFO:tensorflow:Assets written to: ram://923f2f40-01f5-4246-807f-f6be7d062455/assets\n"
     ]
    },
    {
     "name": "stderr",
     "output_type": "stream",
     "text": [
      "INFO:tensorflow:Assets written to: ram://923f2f40-01f5-4246-807f-f6be7d062455/assets\n",
      "WARNING:absl:Found untraced functions such as lstm_cell_146_layer_call_fn, lstm_cell_146_layer_call_and_return_conditional_losses, lstm_cell_147_layer_call_fn, lstm_cell_147_layer_call_and_return_conditional_losses while saving (showing 4 of 4). These functions will not be directly callable after loading.\n"
     ]
    },
    {
     "name": "stdout",
     "output_type": "stream",
     "text": [
      "INFO:tensorflow:Assets written to: models/lstm-w20_features-s300-p1/assets\n"
     ]
    },
    {
     "name": "stderr",
     "output_type": "stream",
     "text": [
      "INFO:tensorflow:Assets written to: models/lstm-w20_features-s300-p1/assets\n",
      "WARNING:absl:Found untraced functions such as gru_cell_146_layer_call_fn, gru_cell_146_layer_call_and_return_conditional_losses, gru_cell_147_layer_call_fn, gru_cell_147_layer_call_and_return_conditional_losses while saving (showing 4 of 4). These functions will not be directly callable after loading.\n"
     ]
    },
    {
     "name": "stdout",
     "output_type": "stream",
     "text": [
      "INFO:tensorflow:Assets written to: ram://c60e93ef-ff8c-49e6-beb9-32e1283f77f9/assets\n"
     ]
    },
    {
     "name": "stderr",
     "output_type": "stream",
     "text": [
      "INFO:tensorflow:Assets written to: ram://c60e93ef-ff8c-49e6-beb9-32e1283f77f9/assets\n",
      "WARNING:absl:Found untraced functions such as gru_cell_146_layer_call_fn, gru_cell_146_layer_call_and_return_conditional_losses, gru_cell_147_layer_call_fn, gru_cell_147_layer_call_and_return_conditional_losses while saving (showing 4 of 4). These functions will not be directly callable after loading.\n"
     ]
    },
    {
     "name": "stdout",
     "output_type": "stream",
     "text": [
      "INFO:tensorflow:Assets written to: models/gru-w20_features-s300-p1/assets\n"
     ]
    },
    {
     "name": "stderr",
     "output_type": "stream",
     "text": [
      "INFO:tensorflow:Assets written to: models/gru-w20_features-s300-p1/assets\n"
     ]
    },
    {
     "name": "stdout",
     "output_type": "stream",
     "text": [
      "Epoch 1/3\n",
      "657/657 [==============================] - 4s 3ms/step - loss: 1.1036 - val_loss: 0.8172\n",
      "Epoch 2/3\n",
      "657/657 [==============================] - 2s 2ms/step - loss: 0.7942 - val_loss: 0.7327\n",
      "Epoch 3/3\n",
      "657/657 [==============================] - 2s 2ms/step - loss: 0.6252 - val_loss: 0.5655\n",
      "221/221 [==============================] - 1s 1ms/step\n",
      "221/221 [==============================] - 1s 968us/step\n"
     ]
    },
    {
     "name": "stderr",
     "output_type": "stream",
     "text": [
      "WARNING:absl:Found untraced functions such as lstm_cell_148_layer_call_fn, lstm_cell_148_layer_call_and_return_conditional_losses, lstm_cell_149_layer_call_fn, lstm_cell_149_layer_call_and_return_conditional_losses while saving (showing 4 of 4). These functions will not be directly callable after loading.\n"
     ]
    },
    {
     "name": "stdout",
     "output_type": "stream",
     "text": [
      "INFO:tensorflow:Assets written to: ram://43bc0837-9e0e-40cf-84bb-6cd266fb9680/assets\n"
     ]
    },
    {
     "name": "stderr",
     "output_type": "stream",
     "text": [
      "INFO:tensorflow:Assets written to: ram://43bc0837-9e0e-40cf-84bb-6cd266fb9680/assets\n",
      "WARNING:absl:Found untraced functions such as lstm_cell_148_layer_call_fn, lstm_cell_148_layer_call_and_return_conditional_losses, lstm_cell_149_layer_call_fn, lstm_cell_149_layer_call_and_return_conditional_losses while saving (showing 4 of 4). These functions will not be directly callable after loading.\n"
     ]
    },
    {
     "name": "stdout",
     "output_type": "stream",
     "text": [
      "INFO:tensorflow:Assets written to: models/lstm-w20_features-s300-p2/assets\n"
     ]
    },
    {
     "name": "stderr",
     "output_type": "stream",
     "text": [
      "INFO:tensorflow:Assets written to: models/lstm-w20_features-s300-p2/assets\n",
      "WARNING:absl:Found untraced functions such as gru_cell_148_layer_call_fn, gru_cell_148_layer_call_and_return_conditional_losses, gru_cell_149_layer_call_fn, gru_cell_149_layer_call_and_return_conditional_losses while saving (showing 4 of 4). These functions will not be directly callable after loading.\n"
     ]
    },
    {
     "name": "stdout",
     "output_type": "stream",
     "text": [
      "INFO:tensorflow:Assets written to: ram://6fa512f1-e483-40f9-9226-229aa548d39a/assets\n"
     ]
    },
    {
     "name": "stderr",
     "output_type": "stream",
     "text": [
      "INFO:tensorflow:Assets written to: ram://6fa512f1-e483-40f9-9226-229aa548d39a/assets\n",
      "WARNING:absl:Found untraced functions such as gru_cell_148_layer_call_fn, gru_cell_148_layer_call_and_return_conditional_losses, gru_cell_149_layer_call_fn, gru_cell_149_layer_call_and_return_conditional_losses while saving (showing 4 of 4). These functions will not be directly callable after loading.\n"
     ]
    },
    {
     "name": "stdout",
     "output_type": "stream",
     "text": [
      "INFO:tensorflow:Assets written to: models/gru-w20_features-s300-p2/assets\n"
     ]
    },
    {
     "name": "stderr",
     "output_type": "stream",
     "text": [
      "INFO:tensorflow:Assets written to: models/gru-w20_features-s300-p2/assets\n"
     ]
    },
    {
     "name": "stdout",
     "output_type": "stream",
     "text": [
      "Epoch 1/3\n",
      "657/657 [==============================] - 4s 3ms/step - loss: 0.9499 - val_loss: 0.7660\n",
      "Epoch 2/3\n",
      "657/657 [==============================] - 2s 2ms/step - loss: 0.6110 - val_loss: 0.4899\n",
      "Epoch 3/3\n",
      "657/657 [==============================] - 2s 2ms/step - loss: 0.3844 - val_loss: 0.2993\n",
      "221/221 [==============================] - 1s 1ms/step\n",
      "221/221 [==============================] - 1s 978us/step\n"
     ]
    },
    {
     "name": "stderr",
     "output_type": "stream",
     "text": [
      "WARNING:absl:Found untraced functions such as lstm_cell_150_layer_call_fn, lstm_cell_150_layer_call_and_return_conditional_losses, lstm_cell_151_layer_call_fn, lstm_cell_151_layer_call_and_return_conditional_losses while saving (showing 4 of 4). These functions will not be directly callable after loading.\n"
     ]
    },
    {
     "name": "stdout",
     "output_type": "stream",
     "text": [
      "INFO:tensorflow:Assets written to: ram://6417d2b9-d894-4886-a8f0-7a44f57f588d/assets\n"
     ]
    },
    {
     "name": "stderr",
     "output_type": "stream",
     "text": [
      "INFO:tensorflow:Assets written to: ram://6417d2b9-d894-4886-a8f0-7a44f57f588d/assets\n",
      "WARNING:absl:Found untraced functions such as lstm_cell_150_layer_call_fn, lstm_cell_150_layer_call_and_return_conditional_losses, lstm_cell_151_layer_call_fn, lstm_cell_151_layer_call_and_return_conditional_losses while saving (showing 4 of 4). These functions will not be directly callable after loading.\n"
     ]
    },
    {
     "name": "stdout",
     "output_type": "stream",
     "text": [
      "INFO:tensorflow:Assets written to: models/lstm-w20_features-s300-p3/assets\n"
     ]
    },
    {
     "name": "stderr",
     "output_type": "stream",
     "text": [
      "INFO:tensorflow:Assets written to: models/lstm-w20_features-s300-p3/assets\n",
      "WARNING:absl:Found untraced functions such as gru_cell_150_layer_call_fn, gru_cell_150_layer_call_and_return_conditional_losses, gru_cell_151_layer_call_fn, gru_cell_151_layer_call_and_return_conditional_losses while saving (showing 4 of 4). These functions will not be directly callable after loading.\n"
     ]
    },
    {
     "name": "stdout",
     "output_type": "stream",
     "text": [
      "INFO:tensorflow:Assets written to: ram://671ea94f-6bc7-473a-865d-5eb6f287b1f3/assets\n"
     ]
    },
    {
     "name": "stderr",
     "output_type": "stream",
     "text": [
      "INFO:tensorflow:Assets written to: ram://671ea94f-6bc7-473a-865d-5eb6f287b1f3/assets\n",
      "WARNING:absl:Found untraced functions such as gru_cell_150_layer_call_fn, gru_cell_150_layer_call_and_return_conditional_losses, gru_cell_151_layer_call_fn, gru_cell_151_layer_call_and_return_conditional_losses while saving (showing 4 of 4). These functions will not be directly callable after loading.\n"
     ]
    },
    {
     "name": "stdout",
     "output_type": "stream",
     "text": [
      "INFO:tensorflow:Assets written to: models/gru-w20_features-s300-p3/assets\n"
     ]
    },
    {
     "name": "stderr",
     "output_type": "stream",
     "text": [
      "INFO:tensorflow:Assets written to: models/gru-w20_features-s300-p3/assets\n"
     ]
    },
    {
     "name": "stdout",
     "output_type": "stream",
     "text": [
      "Epoch 1/3\n",
      "657/657 [==============================] - 4s 3ms/step - loss: 1.0215 - val_loss: 0.8360\n",
      "Epoch 2/3\n",
      "657/657 [==============================] - 1s 2ms/step - loss: 0.7616 - val_loss: 0.6988\n",
      "Epoch 3/3\n",
      "657/657 [==============================] - 1s 2ms/step - loss: 0.6088 - val_loss: 0.5271\n",
      "221/221 [==============================] - 1s 947us/step\n",
      "221/221 [==============================] - 1s 934us/step\n"
     ]
    },
    {
     "name": "stderr",
     "output_type": "stream",
     "text": [
      "WARNING:absl:Found untraced functions such as lstm_cell_152_layer_call_fn, lstm_cell_152_layer_call_and_return_conditional_losses, lstm_cell_153_layer_call_fn, lstm_cell_153_layer_call_and_return_conditional_losses while saving (showing 4 of 4). These functions will not be directly callable after loading.\n"
     ]
    },
    {
     "name": "stdout",
     "output_type": "stream",
     "text": [
      "INFO:tensorflow:Assets written to: ram://6e89bf22-7791-4e10-9a19-3dbcf13f0d8e/assets\n"
     ]
    },
    {
     "name": "stderr",
     "output_type": "stream",
     "text": [
      "INFO:tensorflow:Assets written to: ram://6e89bf22-7791-4e10-9a19-3dbcf13f0d8e/assets\n",
      "WARNING:absl:Found untraced functions such as lstm_cell_152_layer_call_fn, lstm_cell_152_layer_call_and_return_conditional_losses, lstm_cell_153_layer_call_fn, lstm_cell_153_layer_call_and_return_conditional_losses while saving (showing 4 of 4). These functions will not be directly callable after loading.\n"
     ]
    },
    {
     "name": "stdout",
     "output_type": "stream",
     "text": [
      "INFO:tensorflow:Assets written to: models/lstm-no_diff_features-s300-p0/assets\n"
     ]
    },
    {
     "name": "stderr",
     "output_type": "stream",
     "text": [
      "INFO:tensorflow:Assets written to: models/lstm-no_diff_features-s300-p0/assets\n",
      "WARNING:absl:Found untraced functions such as gru_cell_152_layer_call_fn, gru_cell_152_layer_call_and_return_conditional_losses, gru_cell_153_layer_call_fn, gru_cell_153_layer_call_and_return_conditional_losses while saving (showing 4 of 4). These functions will not be directly callable after loading.\n"
     ]
    },
    {
     "name": "stdout",
     "output_type": "stream",
     "text": [
      "INFO:tensorflow:Assets written to: ram://334bfc0a-3078-4f57-994c-686332b8b928/assets\n"
     ]
    },
    {
     "name": "stderr",
     "output_type": "stream",
     "text": [
      "INFO:tensorflow:Assets written to: ram://334bfc0a-3078-4f57-994c-686332b8b928/assets\n",
      "WARNING:absl:Found untraced functions such as gru_cell_152_layer_call_fn, gru_cell_152_layer_call_and_return_conditional_losses, gru_cell_153_layer_call_fn, gru_cell_153_layer_call_and_return_conditional_losses while saving (showing 4 of 4). These functions will not be directly callable after loading.\n"
     ]
    },
    {
     "name": "stdout",
     "output_type": "stream",
     "text": [
      "INFO:tensorflow:Assets written to: models/gru-no_diff_features-s300-p0/assets\n"
     ]
    },
    {
     "name": "stderr",
     "output_type": "stream",
     "text": [
      "INFO:tensorflow:Assets written to: models/gru-no_diff_features-s300-p0/assets\n"
     ]
    },
    {
     "name": "stdout",
     "output_type": "stream",
     "text": [
      "Epoch 1/3\n",
      "657/657 [==============================] - 3s 3ms/step - loss: 0.8636 - val_loss: 0.6979\n",
      "Epoch 2/3\n",
      "657/657 [==============================] - 1s 2ms/step - loss: 0.5560 - val_loss: 0.4333\n",
      "Epoch 3/3\n",
      "657/657 [==============================] - 1s 2ms/step - loss: 0.3707 - val_loss: 0.2895\n",
      "221/221 [==============================] - 1s 1ms/step\n",
      "221/221 [==============================] - 1s 1ms/step\n"
     ]
    },
    {
     "name": "stderr",
     "output_type": "stream",
     "text": [
      "WARNING:absl:Found untraced functions such as lstm_cell_154_layer_call_fn, lstm_cell_154_layer_call_and_return_conditional_losses, lstm_cell_155_layer_call_fn, lstm_cell_155_layer_call_and_return_conditional_losses while saving (showing 4 of 4). These functions will not be directly callable after loading.\n"
     ]
    },
    {
     "name": "stdout",
     "output_type": "stream",
     "text": [
      "INFO:tensorflow:Assets written to: ram://fb24251e-b375-4d2d-823f-4bea32e68473/assets\n"
     ]
    },
    {
     "name": "stderr",
     "output_type": "stream",
     "text": [
      "INFO:tensorflow:Assets written to: ram://fb24251e-b375-4d2d-823f-4bea32e68473/assets\n",
      "WARNING:absl:Found untraced functions such as lstm_cell_154_layer_call_fn, lstm_cell_154_layer_call_and_return_conditional_losses, lstm_cell_155_layer_call_fn, lstm_cell_155_layer_call_and_return_conditional_losses while saving (showing 4 of 4). These functions will not be directly callable after loading.\n"
     ]
    },
    {
     "name": "stdout",
     "output_type": "stream",
     "text": [
      "INFO:tensorflow:Assets written to: models/lstm-no_diff_features-s300-p1/assets\n"
     ]
    },
    {
     "name": "stderr",
     "output_type": "stream",
     "text": [
      "INFO:tensorflow:Assets written to: models/lstm-no_diff_features-s300-p1/assets\n",
      "WARNING:absl:Found untraced functions such as gru_cell_154_layer_call_fn, gru_cell_154_layer_call_and_return_conditional_losses, gru_cell_155_layer_call_fn, gru_cell_155_layer_call_and_return_conditional_losses while saving (showing 4 of 4). These functions will not be directly callable after loading.\n"
     ]
    },
    {
     "name": "stdout",
     "output_type": "stream",
     "text": [
      "INFO:tensorflow:Assets written to: ram://32003811-4718-4689-916e-ee495bdfc944/assets\n"
     ]
    },
    {
     "name": "stderr",
     "output_type": "stream",
     "text": [
      "INFO:tensorflow:Assets written to: ram://32003811-4718-4689-916e-ee495bdfc944/assets\n",
      "WARNING:absl:Found untraced functions such as gru_cell_154_layer_call_fn, gru_cell_154_layer_call_and_return_conditional_losses, gru_cell_155_layer_call_fn, gru_cell_155_layer_call_and_return_conditional_losses while saving (showing 4 of 4). These functions will not be directly callable after loading.\n"
     ]
    },
    {
     "name": "stdout",
     "output_type": "stream",
     "text": [
      "INFO:tensorflow:Assets written to: models/gru-no_diff_features-s300-p1/assets\n"
     ]
    },
    {
     "name": "stderr",
     "output_type": "stream",
     "text": [
      "INFO:tensorflow:Assets written to: models/gru-no_diff_features-s300-p1/assets\n"
     ]
    },
    {
     "name": "stdout",
     "output_type": "stream",
     "text": [
      "Epoch 1/3\n",
      "657/657 [==============================] - 3s 3ms/step - loss: 1.0208 - val_loss: 0.8545\n",
      "Epoch 2/3\n",
      "657/657 [==============================] - 2s 2ms/step - loss: 0.7550 - val_loss: 0.6895\n",
      "Epoch 3/3\n",
      "657/657 [==============================] - 2s 2ms/step - loss: 0.5812 - val_loss: 0.4940\n",
      "221/221 [==============================] - 1s 1ms/step\n",
      "221/221 [==============================] - 1s 1ms/step\n"
     ]
    },
    {
     "name": "stderr",
     "output_type": "stream",
     "text": [
      "WARNING:absl:Found untraced functions such as lstm_cell_156_layer_call_fn, lstm_cell_156_layer_call_and_return_conditional_losses, lstm_cell_157_layer_call_fn, lstm_cell_157_layer_call_and_return_conditional_losses while saving (showing 4 of 4). These functions will not be directly callable after loading.\n"
     ]
    },
    {
     "name": "stdout",
     "output_type": "stream",
     "text": [
      "INFO:tensorflow:Assets written to: ram://8d6eaf63-3404-4600-b8da-0f4881cdacb4/assets\n"
     ]
    },
    {
     "name": "stderr",
     "output_type": "stream",
     "text": [
      "INFO:tensorflow:Assets written to: ram://8d6eaf63-3404-4600-b8da-0f4881cdacb4/assets\n",
      "WARNING:absl:Found untraced functions such as lstm_cell_156_layer_call_fn, lstm_cell_156_layer_call_and_return_conditional_losses, lstm_cell_157_layer_call_fn, lstm_cell_157_layer_call_and_return_conditional_losses while saving (showing 4 of 4). These functions will not be directly callable after loading.\n"
     ]
    },
    {
     "name": "stdout",
     "output_type": "stream",
     "text": [
      "INFO:tensorflow:Assets written to: models/lstm-no_diff_features-s300-p2/assets\n"
     ]
    },
    {
     "name": "stderr",
     "output_type": "stream",
     "text": [
      "INFO:tensorflow:Assets written to: models/lstm-no_diff_features-s300-p2/assets\n",
      "WARNING:absl:Found untraced functions such as gru_cell_156_layer_call_fn, gru_cell_156_layer_call_and_return_conditional_losses, gru_cell_157_layer_call_fn, gru_cell_157_layer_call_and_return_conditional_losses while saving (showing 4 of 4). These functions will not be directly callable after loading.\n"
     ]
    },
    {
     "name": "stdout",
     "output_type": "stream",
     "text": [
      "INFO:tensorflow:Assets written to: ram://dacc94c6-b338-4c66-9699-439c00bfc046/assets\n"
     ]
    },
    {
     "name": "stderr",
     "output_type": "stream",
     "text": [
      "INFO:tensorflow:Assets written to: ram://dacc94c6-b338-4c66-9699-439c00bfc046/assets\n",
      "WARNING:absl:Found untraced functions such as gru_cell_156_layer_call_fn, gru_cell_156_layer_call_and_return_conditional_losses, gru_cell_157_layer_call_fn, gru_cell_157_layer_call_and_return_conditional_losses while saving (showing 4 of 4). These functions will not be directly callable after loading.\n"
     ]
    },
    {
     "name": "stdout",
     "output_type": "stream",
     "text": [
      "INFO:tensorflow:Assets written to: models/gru-no_diff_features-s300-p2/assets\n"
     ]
    },
    {
     "name": "stderr",
     "output_type": "stream",
     "text": [
      "INFO:tensorflow:Assets written to: models/gru-no_diff_features-s300-p2/assets\n"
     ]
    },
    {
     "name": "stdout",
     "output_type": "stream",
     "text": [
      "Epoch 1/3\n",
      "657/657 [==============================] - 4s 3ms/step - loss: 0.8541 - val_loss: 0.6626\n",
      "Epoch 2/3\n",
      "657/657 [==============================] - 2s 2ms/step - loss: 0.5245 - val_loss: 0.3858\n",
      "Epoch 3/3\n",
      "657/657 [==============================] - 2s 2ms/step - loss: 0.3271 - val_loss: 0.2547\n",
      "221/221 [==============================] - 1s 1ms/step\n",
      "221/221 [==============================] - 1s 1ms/step\n"
     ]
    },
    {
     "name": "stderr",
     "output_type": "stream",
     "text": [
      "WARNING:absl:Found untraced functions such as lstm_cell_158_layer_call_fn, lstm_cell_158_layer_call_and_return_conditional_losses, lstm_cell_159_layer_call_fn, lstm_cell_159_layer_call_and_return_conditional_losses while saving (showing 4 of 4). These functions will not be directly callable after loading.\n"
     ]
    },
    {
     "name": "stdout",
     "output_type": "stream",
     "text": [
      "INFO:tensorflow:Assets written to: ram://aaf8511d-76d8-4bce-865c-79484d14f567/assets\n"
     ]
    },
    {
     "name": "stderr",
     "output_type": "stream",
     "text": [
      "INFO:tensorflow:Assets written to: ram://aaf8511d-76d8-4bce-865c-79484d14f567/assets\n",
      "WARNING:absl:Found untraced functions such as lstm_cell_158_layer_call_fn, lstm_cell_158_layer_call_and_return_conditional_losses, lstm_cell_159_layer_call_fn, lstm_cell_159_layer_call_and_return_conditional_losses while saving (showing 4 of 4). These functions will not be directly callable after loading.\n"
     ]
    },
    {
     "name": "stdout",
     "output_type": "stream",
     "text": [
      "INFO:tensorflow:Assets written to: models/lstm-no_diff_features-s300-p3/assets\n"
     ]
    },
    {
     "name": "stderr",
     "output_type": "stream",
     "text": [
      "INFO:tensorflow:Assets written to: models/lstm-no_diff_features-s300-p3/assets\n",
      "WARNING:absl:Found untraced functions such as gru_cell_158_layer_call_fn, gru_cell_158_layer_call_and_return_conditional_losses, gru_cell_159_layer_call_fn, gru_cell_159_layer_call_and_return_conditional_losses while saving (showing 4 of 4). These functions will not be directly callable after loading.\n"
     ]
    },
    {
     "name": "stdout",
     "output_type": "stream",
     "text": [
      "INFO:tensorflow:Assets written to: ram://35533a89-e110-45d0-afbe-7b5af366abb1/assets\n"
     ]
    },
    {
     "name": "stderr",
     "output_type": "stream",
     "text": [
      "INFO:tensorflow:Assets written to: ram://35533a89-e110-45d0-afbe-7b5af366abb1/assets\n",
      "WARNING:absl:Found untraced functions such as gru_cell_158_layer_call_fn, gru_cell_158_layer_call_and_return_conditional_losses, gru_cell_159_layer_call_fn, gru_cell_159_layer_call_and_return_conditional_losses while saving (showing 4 of 4). These functions will not be directly callable after loading.\n"
     ]
    },
    {
     "name": "stdout",
     "output_type": "stream",
     "text": [
      "INFO:tensorflow:Assets written to: models/gru-no_diff_features-s300-p3/assets\n"
     ]
    },
    {
     "name": "stderr",
     "output_type": "stream",
     "text": [
      "INFO:tensorflow:Assets written to: models/gru-no_diff_features-s300-p3/assets\n"
     ]
    },
    {
     "name": "stdout",
     "output_type": "stream",
     "text": [
      "Epoch 1/3\n",
      "657/657 [==============================] - 4s 3ms/step - loss: 1.0990 - val_loss: 0.8070\n",
      "Epoch 2/3\n",
      "657/657 [==============================] - 1s 2ms/step - loss: 0.8104 - val_loss: 0.7082\n",
      "Epoch 3/3\n",
      "657/657 [==============================] - 1s 2ms/step - loss: 0.6741 - val_loss: 0.5761\n",
      "221/221 [==============================] - 1s 954us/step\n",
      "221/221 [==============================] - 1s 905us/step\n"
     ]
    },
    {
     "name": "stderr",
     "output_type": "stream",
     "text": [
      "WARNING:absl:Found untraced functions such as lstm_cell_160_layer_call_fn, lstm_cell_160_layer_call_and_return_conditional_losses, lstm_cell_161_layer_call_fn, lstm_cell_161_layer_call_and_return_conditional_losses while saving (showing 4 of 4). These functions will not be directly callable after loading.\n"
     ]
    },
    {
     "name": "stdout",
     "output_type": "stream",
     "text": [
      "INFO:tensorflow:Assets written to: ram://73229860-988a-42b7-b469-352a2ae4489d/assets\n"
     ]
    },
    {
     "name": "stderr",
     "output_type": "stream",
     "text": [
      "INFO:tensorflow:Assets written to: ram://73229860-988a-42b7-b469-352a2ae4489d/assets\n",
      "WARNING:absl:Found untraced functions such as lstm_cell_160_layer_call_fn, lstm_cell_160_layer_call_and_return_conditional_losses, lstm_cell_161_layer_call_fn, lstm_cell_161_layer_call_and_return_conditional_losses while saving (showing 4 of 4). These functions will not be directly callable after loading.\n"
     ]
    },
    {
     "name": "stdout",
     "output_type": "stream",
     "text": [
      "INFO:tensorflow:Assets written to: models/lstm-diff_features-s300-p0/assets\n"
     ]
    },
    {
     "name": "stderr",
     "output_type": "stream",
     "text": [
      "INFO:tensorflow:Assets written to: models/lstm-diff_features-s300-p0/assets\n",
      "WARNING:absl:Found untraced functions such as gru_cell_160_layer_call_fn, gru_cell_160_layer_call_and_return_conditional_losses, gru_cell_161_layer_call_fn, gru_cell_161_layer_call_and_return_conditional_losses while saving (showing 4 of 4). These functions will not be directly callable after loading.\n"
     ]
    },
    {
     "name": "stdout",
     "output_type": "stream",
     "text": [
      "INFO:tensorflow:Assets written to: ram://d989a104-994e-4595-8f6f-0d4c5368a71a/assets\n"
     ]
    },
    {
     "name": "stderr",
     "output_type": "stream",
     "text": [
      "INFO:tensorflow:Assets written to: ram://d989a104-994e-4595-8f6f-0d4c5368a71a/assets\n",
      "WARNING:absl:Found untraced functions such as gru_cell_160_layer_call_fn, gru_cell_160_layer_call_and_return_conditional_losses, gru_cell_161_layer_call_fn, gru_cell_161_layer_call_and_return_conditional_losses while saving (showing 4 of 4). These functions will not be directly callable after loading.\n"
     ]
    },
    {
     "name": "stdout",
     "output_type": "stream",
     "text": [
      "INFO:tensorflow:Assets written to: models/gru-diff_features-s300-p0/assets\n"
     ]
    },
    {
     "name": "stderr",
     "output_type": "stream",
     "text": [
      "INFO:tensorflow:Assets written to: models/gru-diff_features-s300-p0/assets\n"
     ]
    },
    {
     "name": "stdout",
     "output_type": "stream",
     "text": [
      "Epoch 1/3\n",
      "657/657 [==============================] - 4s 3ms/step - loss: 0.9446 - val_loss: 0.7015\n",
      "Epoch 2/3\n",
      "657/657 [==============================] - 2s 3ms/step - loss: 0.6531 - val_loss: 0.5094\n",
      "Epoch 3/3\n",
      "657/657 [==============================] - 2s 3ms/step - loss: 0.5065 - val_loss: 0.3593\n",
      "221/221 [==============================] - 1s 1ms/step\n",
      "221/221 [==============================] - 1s 965us/step\n"
     ]
    },
    {
     "name": "stderr",
     "output_type": "stream",
     "text": [
      "WARNING:absl:Found untraced functions such as lstm_cell_162_layer_call_fn, lstm_cell_162_layer_call_and_return_conditional_losses, lstm_cell_163_layer_call_fn, lstm_cell_163_layer_call_and_return_conditional_losses while saving (showing 4 of 4). These functions will not be directly callable after loading.\n"
     ]
    },
    {
     "name": "stdout",
     "output_type": "stream",
     "text": [
      "INFO:tensorflow:Assets written to: ram://7f2ad995-264b-4080-a89f-b88c018bc3d2/assets\n"
     ]
    },
    {
     "name": "stderr",
     "output_type": "stream",
     "text": [
      "INFO:tensorflow:Assets written to: ram://7f2ad995-264b-4080-a89f-b88c018bc3d2/assets\n",
      "WARNING:absl:Found untraced functions such as lstm_cell_162_layer_call_fn, lstm_cell_162_layer_call_and_return_conditional_losses, lstm_cell_163_layer_call_fn, lstm_cell_163_layer_call_and_return_conditional_losses while saving (showing 4 of 4). These functions will not be directly callable after loading.\n"
     ]
    },
    {
     "name": "stdout",
     "output_type": "stream",
     "text": [
      "INFO:tensorflow:Assets written to: models/lstm-diff_features-s300-p1/assets\n"
     ]
    },
    {
     "name": "stderr",
     "output_type": "stream",
     "text": [
      "INFO:tensorflow:Assets written to: models/lstm-diff_features-s300-p1/assets\n",
      "WARNING:absl:Found untraced functions such as gru_cell_162_layer_call_fn, gru_cell_162_layer_call_and_return_conditional_losses, gru_cell_163_layer_call_fn, gru_cell_163_layer_call_and_return_conditional_losses while saving (showing 4 of 4). These functions will not be directly callable after loading.\n"
     ]
    },
    {
     "name": "stdout",
     "output_type": "stream",
     "text": [
      "INFO:tensorflow:Assets written to: ram://eb7978b7-b702-44f1-9eb6-084691e54247/assets\n"
     ]
    },
    {
     "name": "stderr",
     "output_type": "stream",
     "text": [
      "INFO:tensorflow:Assets written to: ram://eb7978b7-b702-44f1-9eb6-084691e54247/assets\n",
      "WARNING:absl:Found untraced functions such as gru_cell_162_layer_call_fn, gru_cell_162_layer_call_and_return_conditional_losses, gru_cell_163_layer_call_fn, gru_cell_163_layer_call_and_return_conditional_losses while saving (showing 4 of 4). These functions will not be directly callable after loading.\n"
     ]
    },
    {
     "name": "stdout",
     "output_type": "stream",
     "text": [
      "INFO:tensorflow:Assets written to: models/gru-diff_features-s300-p1/assets\n"
     ]
    },
    {
     "name": "stderr",
     "output_type": "stream",
     "text": [
      "INFO:tensorflow:Assets written to: models/gru-diff_features-s300-p1/assets\n"
     ]
    },
    {
     "name": "stdout",
     "output_type": "stream",
     "text": [
      "Epoch 1/3\n",
      "657/657 [==============================] - 4s 3ms/step - loss: 1.1135 - val_loss: 0.8300\n",
      "Epoch 2/3\n",
      "657/657 [==============================] - 2s 3ms/step - loss: 0.8127 - val_loss: 0.7332\n",
      "Epoch 3/3\n",
      "657/657 [==============================] - 2s 3ms/step - loss: 0.6692 - val_loss: 0.5960\n",
      "221/221 [==============================] - 1s 1ms/step\n",
      "221/221 [==============================] - 1s 1ms/step\n"
     ]
    },
    {
     "name": "stderr",
     "output_type": "stream",
     "text": [
      "WARNING:absl:Found untraced functions such as lstm_cell_164_layer_call_fn, lstm_cell_164_layer_call_and_return_conditional_losses, lstm_cell_165_layer_call_fn, lstm_cell_165_layer_call_and_return_conditional_losses while saving (showing 4 of 4). These functions will not be directly callable after loading.\n"
     ]
    },
    {
     "name": "stdout",
     "output_type": "stream",
     "text": [
      "INFO:tensorflow:Assets written to: ram://c92da1b2-db4d-48b1-8866-df71eb9d475e/assets\n"
     ]
    },
    {
     "name": "stderr",
     "output_type": "stream",
     "text": [
      "INFO:tensorflow:Assets written to: ram://c92da1b2-db4d-48b1-8866-df71eb9d475e/assets\n",
      "WARNING:absl:Found untraced functions such as lstm_cell_164_layer_call_fn, lstm_cell_164_layer_call_and_return_conditional_losses, lstm_cell_165_layer_call_fn, lstm_cell_165_layer_call_and_return_conditional_losses while saving (showing 4 of 4). These functions will not be directly callable after loading.\n"
     ]
    },
    {
     "name": "stdout",
     "output_type": "stream",
     "text": [
      "INFO:tensorflow:Assets written to: models/lstm-diff_features-s300-p2/assets\n"
     ]
    },
    {
     "name": "stderr",
     "output_type": "stream",
     "text": [
      "INFO:tensorflow:Assets written to: models/lstm-diff_features-s300-p2/assets\n",
      "WARNING:absl:Found untraced functions such as gru_cell_164_layer_call_fn, gru_cell_164_layer_call_and_return_conditional_losses, gru_cell_165_layer_call_fn, gru_cell_165_layer_call_and_return_conditional_losses while saving (showing 4 of 4). These functions will not be directly callable after loading.\n"
     ]
    },
    {
     "name": "stdout",
     "output_type": "stream",
     "text": [
      "INFO:tensorflow:Assets written to: ram://5aad0b94-8257-40df-8460-d47b9fe316fd/assets\n"
     ]
    },
    {
     "name": "stderr",
     "output_type": "stream",
     "text": [
      "INFO:tensorflow:Assets written to: ram://5aad0b94-8257-40df-8460-d47b9fe316fd/assets\n",
      "WARNING:absl:Found untraced functions such as gru_cell_164_layer_call_fn, gru_cell_164_layer_call_and_return_conditional_losses, gru_cell_165_layer_call_fn, gru_cell_165_layer_call_and_return_conditional_losses while saving (showing 4 of 4). These functions will not be directly callable after loading.\n"
     ]
    },
    {
     "name": "stdout",
     "output_type": "stream",
     "text": [
      "INFO:tensorflow:Assets written to: models/gru-diff_features-s300-p2/assets\n"
     ]
    },
    {
     "name": "stderr",
     "output_type": "stream",
     "text": [
      "INFO:tensorflow:Assets written to: models/gru-diff_features-s300-p2/assets\n"
     ]
    },
    {
     "name": "stdout",
     "output_type": "stream",
     "text": [
      "Epoch 1/3\n",
      "657/657 [==============================] - 4s 3ms/step - loss: 0.9601 - val_loss: 0.7081\n",
      "Epoch 2/3\n",
      "657/657 [==============================] - 2s 3ms/step - loss: 0.6410 - val_loss: 0.4963\n",
      "Epoch 3/3\n",
      "657/657 [==============================] - 2s 3ms/step - loss: 0.4811 - val_loss: 0.3358\n",
      "221/221 [==============================] - 1s 1ms/step\n",
      "221/221 [==============================] - 1s 1ms/step\n"
     ]
    },
    {
     "name": "stderr",
     "output_type": "stream",
     "text": [
      "WARNING:absl:Found untraced functions such as lstm_cell_166_layer_call_fn, lstm_cell_166_layer_call_and_return_conditional_losses, lstm_cell_167_layer_call_fn, lstm_cell_167_layer_call_and_return_conditional_losses while saving (showing 4 of 4). These functions will not be directly callable after loading.\n"
     ]
    },
    {
     "name": "stdout",
     "output_type": "stream",
     "text": [
      "INFO:tensorflow:Assets written to: ram://034aea0e-09a6-4384-a1db-4d5d886444aa/assets\n"
     ]
    },
    {
     "name": "stderr",
     "output_type": "stream",
     "text": [
      "INFO:tensorflow:Assets written to: ram://034aea0e-09a6-4384-a1db-4d5d886444aa/assets\n",
      "WARNING:absl:Found untraced functions such as lstm_cell_166_layer_call_fn, lstm_cell_166_layer_call_and_return_conditional_losses, lstm_cell_167_layer_call_fn, lstm_cell_167_layer_call_and_return_conditional_losses while saving (showing 4 of 4). These functions will not be directly callable after loading.\n"
     ]
    },
    {
     "name": "stdout",
     "output_type": "stream",
     "text": [
      "INFO:tensorflow:Assets written to: models/lstm-diff_features-s300-p3/assets\n"
     ]
    },
    {
     "name": "stderr",
     "output_type": "stream",
     "text": [
      "INFO:tensorflow:Assets written to: models/lstm-diff_features-s300-p3/assets\n",
      "WARNING:absl:Found untraced functions such as gru_cell_166_layer_call_fn, gru_cell_166_layer_call_and_return_conditional_losses, gru_cell_167_layer_call_fn, gru_cell_167_layer_call_and_return_conditional_losses while saving (showing 4 of 4). These functions will not be directly callable after loading.\n"
     ]
    },
    {
     "name": "stdout",
     "output_type": "stream",
     "text": [
      "INFO:tensorflow:Assets written to: ram://1aa2eb7b-8273-422b-b6a6-34931e771a04/assets\n"
     ]
    },
    {
     "name": "stderr",
     "output_type": "stream",
     "text": [
      "INFO:tensorflow:Assets written to: ram://1aa2eb7b-8273-422b-b6a6-34931e771a04/assets\n",
      "WARNING:absl:Found untraced functions such as gru_cell_166_layer_call_fn, gru_cell_166_layer_call_and_return_conditional_losses, gru_cell_167_layer_call_fn, gru_cell_167_layer_call_and_return_conditional_losses while saving (showing 4 of 4). These functions will not be directly callable after loading.\n"
     ]
    },
    {
     "name": "stdout",
     "output_type": "stream",
     "text": [
      "INFO:tensorflow:Assets written to: models/gru-diff_features-s300-p3/assets\n"
     ]
    },
    {
     "name": "stderr",
     "output_type": "stream",
     "text": [
      "INFO:tensorflow:Assets written to: models/gru-diff_features-s300-p3/assets\n"
     ]
    }
   ],
   "source": [
    "for seed in seeds:\n",
    "    for columns in features:\n",
    "        for params_idx, params in enumerate(params_rnn):\n",
    "            \n",
    "            set_determinism(seed)\n",
    "\n",
    "            traning_set_rnn, validation_set_rnn = build_dataset_for_ml_model(df, training_columns=features[columns])\n",
    "            X_train_rnn, y_train_rnn = create_dataset_3D(traning_set_rnn[:, :-1], \n",
    "                                                         traning_set_rnn[:, -1], \n",
    "                                                         params[\"time_steps\"])\n",
    "            X_val_rnn, y_val_rnn = create_dataset_3D(validation_set_rnn[:, :-1], \n",
    "                                                     validation_set_rnn[:, -1],   \n",
    "                                                     params[\"time_steps\"])\n",
    "            counts_rnn = pd.Series(tr_sw_r).value_counts(normalize=True)\n",
    "            class_weight_rnn = {0: 1/counts_rnn[0], 1: 1/counts_rnn[1]}\n",
    "            \n",
    "            model_gru = create_model_cl(params[\"units\"], keras.layers.GRU, X_train_rnn, learning_rate)\n",
    "            early_stop = keras.callbacks.EarlyStopping(monitor='val_loss',\n",
    "                                                       patience=patience)\n",
    "            history_gru = model_gru.fit(X_train_rnn, y_train_rnn, epochs=epochs,\n",
    "                                        class_weight=class_weight_rnn,\n",
    "                                        validation_split=validation_split, batch_size=batch_size,\n",
    "                                        shuffle=False, callbacks=[early_stop])\n",
    "            \n",
    "            model_lstm = create_model_cl(params[\"units\"], keras.layers.LSTM, X_train_rnn, learning_rate)\n",
    "            early_stop = keras.callbacks.EarlyStopping(monitor='val_loss',\n",
    "                                                       patience=patience)\n",
    "            history_lstm = model_lstm.fit(X_train_rnn, y_train_rnn, epochs=epochs,\n",
    "                                          class_weight=class_weight_rnn,\n",
    "                                          validation_split=validation_split, batch_size=batch_size,\n",
    "                                          shuffle=False, callbacks=[early_stop], verbose=0)\n",
    "            \n",
    "            preds_lstm = model_lstm.predict(X_val_rnn).ravel()\n",
    "            preds_gru = model_gru.predict(X_val_rnn).ravel()\n",
    "            \n",
    "            signal_lstm = pd.Series(data=(1 - preds_lstm))\n",
    "            rul_lstm = y_val_rnn\n",
    "            signal_gru = pd.Series(data=(1 - preds_gru))\n",
    "            rul_gru = y_val_rnn\n",
    "            \n",
    "            best_cost_lstm, best_thr_lstm, all_cost_lstm, all_thr_lstm = threshold_optimization(signal_lstm, rul_lstm, start=0, end=signal_lstm.max(), n_steps=200)\n",
    "            best_cost_gru, best_thr_gru, all_cost_gru, all_thr_gru = threshold_optimization(signal_gru, rul_gru, start=0, end=signal_gru.max(), n_steps=200)\n",
    "            \n",
    "            perf_lstm = performance_evaluation(signal_lstm, best_thr_lstm, rul_lstm)\n",
    "            perf_gru = performance_evaluation(signal_gru, best_thr_gru, rul_gru)\n",
    "            all_perf.append([\"lstm\", seed, columns, params] + perf_lstm)  \n",
    "            all_perf.append([\"gru\", seed, columns, params] + perf_gru)\n",
    "            \n",
    "            serialize_perf(\"lstm\", seed=seed, columns_name=columns, training_columns=features[columns], \n",
    "                           params=params, params_idx=params_idx, history=history_lstm, best_cost=best_cost_lstm, best_thr=best_thr_lstm, \n",
    "                           all_cost=all_cost_lstm, all_thr=all_thr_lstm, perf=perf_lstm)\n",
    "            \n",
    "            model_lstm.save(models_path + \"lstm\" + \"-\" + columns + \"-s\" + str(seed) + \"-p\" + str(params_idx))\n",
    "            \n",
    "            serialize_perf(\"gru\", seed=seed, columns_name=columns, training_columns=features[columns], \n",
    "                           params=params, params_idx=params_idx, history=history_gru, best_cost=best_cost_gru, best_thr=best_thr_gru, \n",
    "                           all_cost=all_cost_gru, all_thr=all_thr_gru, perf=perf_gru)\n",
    "            \n",
    "            model_gru.save(models_path + \"gru\" + \"-\" + columns + \"-s\" + str(seed) + \"-p\" + str(params_idx))"
   ]
  },
  {
   "cell_type": "markdown",
   "id": "b435c370",
   "metadata": {},
   "source": [
    "## RUL estimation with Recurrent Neural Networks (BiLSTM)"
   ]
  },
  {
   "cell_type": "code",
   "execution_count": 33,
   "id": "8b128c9e",
   "metadata": {},
   "outputs": [],
   "source": [
    "def create_model_bilstm_cl(units, X_train, lr):\n",
    "    model = keras.Sequential()\n",
    "    model.add(keras.layers.Bidirectional(keras.layers.LSTM(units=units,                             \n",
    "              return_sequences=True),\n",
    "              input_shape=(X_train.shape[1], X_train.shape[2])))\n",
    "    model.add(keras.layers.Bidirectional(keras.layers.LSTM(units=units)))\n",
    "    model.add(keras.layers.Dense(1, activation=\"sigmoid\"))\n",
    "    model.compile(loss='binary_crossentropy', \n",
    "                  optimizer=keras.optimizers.Adam(learning_rate=lr))\n",
    "    return model"
   ]
  },
  {
   "cell_type": "code",
   "execution_count": 34,
   "id": "47b1f9a3",
   "metadata": {},
   "outputs": [],
   "source": [
    "params_bilstm = [{\"time_steps\": 5, \"units\": 64},\n",
    "                 {\"time_steps\": 5, \"units\": 128},\n",
    "                 {\"time_steps\": 10, \"units\": 64},\n",
    "                 {\"time_steps\": 10, \"units\": 128}]"
   ]
  },
  {
   "cell_type": "code",
   "execution_count": 35,
   "id": "dc3bf177",
   "metadata": {},
   "outputs": [
    {
     "name": "stdout",
     "output_type": "stream",
     "text": [
      "221/221 [==============================] - 1s 1ms/step\n"
     ]
    },
    {
     "name": "stderr",
     "output_type": "stream",
     "text": [
      "WARNING:absl:Found untraced functions such as lstm_cell_169_layer_call_fn, lstm_cell_169_layer_call_and_return_conditional_losses, lstm_cell_170_layer_call_fn, lstm_cell_170_layer_call_and_return_conditional_losses, lstm_cell_172_layer_call_fn while saving (showing 5 of 8). These functions will not be directly callable after loading.\n"
     ]
    },
    {
     "name": "stdout",
     "output_type": "stream",
     "text": [
      "INFO:tensorflow:Assets written to: ram://f7d33c2e-8cfe-485e-80cc-8af2a3433b1a/assets\n"
     ]
    },
    {
     "name": "stderr",
     "output_type": "stream",
     "text": [
      "INFO:tensorflow:Assets written to: ram://f7d33c2e-8cfe-485e-80cc-8af2a3433b1a/assets\n",
      "WARNING:absl:Found untraced functions such as lstm_cell_169_layer_call_fn, lstm_cell_169_layer_call_and_return_conditional_losses, lstm_cell_170_layer_call_fn, lstm_cell_170_layer_call_and_return_conditional_losses, lstm_cell_172_layer_call_fn while saving (showing 5 of 8). These functions will not be directly callable after loading.\n"
     ]
    },
    {
     "name": "stdout",
     "output_type": "stream",
     "text": [
      "INFO:tensorflow:Assets written to: models/bilstm-all_features-s100-p0/assets\n"
     ]
    },
    {
     "name": "stderr",
     "output_type": "stream",
     "text": [
      "INFO:tensorflow:Assets written to: models/bilstm-all_features-s100-p0/assets\n"
     ]
    },
    {
     "name": "stdout",
     "output_type": "stream",
     "text": [
      "221/221 [==============================] - 1s 1ms/step\n"
     ]
    },
    {
     "name": "stderr",
     "output_type": "stream",
     "text": [
      "WARNING:absl:Found untraced functions such as lstm_cell_175_layer_call_fn, lstm_cell_175_layer_call_and_return_conditional_losses, lstm_cell_176_layer_call_fn, lstm_cell_176_layer_call_and_return_conditional_losses, lstm_cell_178_layer_call_fn while saving (showing 5 of 8). These functions will not be directly callable after loading.\n"
     ]
    },
    {
     "name": "stdout",
     "output_type": "stream",
     "text": [
      "INFO:tensorflow:Assets written to: ram://f0a4327f-76a2-49d0-a111-49901a427b89/assets\n"
     ]
    },
    {
     "name": "stderr",
     "output_type": "stream",
     "text": [
      "INFO:tensorflow:Assets written to: ram://f0a4327f-76a2-49d0-a111-49901a427b89/assets\n",
      "WARNING:absl:Found untraced functions such as lstm_cell_175_layer_call_fn, lstm_cell_175_layer_call_and_return_conditional_losses, lstm_cell_176_layer_call_fn, lstm_cell_176_layer_call_and_return_conditional_losses, lstm_cell_178_layer_call_fn while saving (showing 5 of 8). These functions will not be directly callable after loading.\n"
     ]
    },
    {
     "name": "stdout",
     "output_type": "stream",
     "text": [
      "INFO:tensorflow:Assets written to: models/bilstm-all_features-s100-p1/assets\n"
     ]
    },
    {
     "name": "stderr",
     "output_type": "stream",
     "text": [
      "INFO:tensorflow:Assets written to: models/bilstm-all_features-s100-p1/assets\n"
     ]
    },
    {
     "name": "stdout",
     "output_type": "stream",
     "text": [
      "221/221 [==============================] - 1s 2ms/step\n"
     ]
    },
    {
     "name": "stderr",
     "output_type": "stream",
     "text": [
      "WARNING:absl:Found untraced functions such as lstm_cell_181_layer_call_fn, lstm_cell_181_layer_call_and_return_conditional_losses, lstm_cell_182_layer_call_fn, lstm_cell_182_layer_call_and_return_conditional_losses, lstm_cell_184_layer_call_fn while saving (showing 5 of 8). These functions will not be directly callable after loading.\n"
     ]
    },
    {
     "name": "stdout",
     "output_type": "stream",
     "text": [
      "INFO:tensorflow:Assets written to: ram://16db5a41-b9ff-47dc-abc5-4ae6c5849320/assets\n"
     ]
    },
    {
     "name": "stderr",
     "output_type": "stream",
     "text": [
      "INFO:tensorflow:Assets written to: ram://16db5a41-b9ff-47dc-abc5-4ae6c5849320/assets\n",
      "WARNING:absl:Found untraced functions such as lstm_cell_181_layer_call_fn, lstm_cell_181_layer_call_and_return_conditional_losses, lstm_cell_182_layer_call_fn, lstm_cell_182_layer_call_and_return_conditional_losses, lstm_cell_184_layer_call_fn while saving (showing 5 of 8). These functions will not be directly callable after loading.\n"
     ]
    },
    {
     "name": "stdout",
     "output_type": "stream",
     "text": [
      "INFO:tensorflow:Assets written to: models/bilstm-all_features-s100-p2/assets\n"
     ]
    },
    {
     "name": "stderr",
     "output_type": "stream",
     "text": [
      "INFO:tensorflow:Assets written to: models/bilstm-all_features-s100-p2/assets\n"
     ]
    },
    {
     "name": "stdout",
     "output_type": "stream",
     "text": [
      "221/221 [==============================] - 1s 2ms/step\n"
     ]
    },
    {
     "name": "stderr",
     "output_type": "stream",
     "text": [
      "WARNING:absl:Found untraced functions such as lstm_cell_187_layer_call_fn, lstm_cell_187_layer_call_and_return_conditional_losses, lstm_cell_188_layer_call_fn, lstm_cell_188_layer_call_and_return_conditional_losses, lstm_cell_190_layer_call_fn while saving (showing 5 of 8). These functions will not be directly callable after loading.\n"
     ]
    },
    {
     "name": "stdout",
     "output_type": "stream",
     "text": [
      "INFO:tensorflow:Assets written to: ram://e4a1cdac-22a1-46c8-8f48-725d5f632e34/assets\n"
     ]
    },
    {
     "name": "stderr",
     "output_type": "stream",
     "text": [
      "INFO:tensorflow:Assets written to: ram://e4a1cdac-22a1-46c8-8f48-725d5f632e34/assets\n",
      "WARNING:absl:Found untraced functions such as lstm_cell_187_layer_call_fn, lstm_cell_187_layer_call_and_return_conditional_losses, lstm_cell_188_layer_call_fn, lstm_cell_188_layer_call_and_return_conditional_losses, lstm_cell_190_layer_call_fn while saving (showing 5 of 8). These functions will not be directly callable after loading.\n"
     ]
    },
    {
     "name": "stdout",
     "output_type": "stream",
     "text": [
      "INFO:tensorflow:Assets written to: models/bilstm-all_features-s100-p3/assets\n"
     ]
    },
    {
     "name": "stderr",
     "output_type": "stream",
     "text": [
      "INFO:tensorflow:Assets written to: models/bilstm-all_features-s100-p3/assets\n"
     ]
    },
    {
     "name": "stdout",
     "output_type": "stream",
     "text": [
      "221/221 [==============================] - 1s 1ms/step\n"
     ]
    },
    {
     "name": "stderr",
     "output_type": "stream",
     "text": [
      "WARNING:absl:Found untraced functions such as lstm_cell_193_layer_call_fn, lstm_cell_193_layer_call_and_return_conditional_losses, lstm_cell_194_layer_call_fn, lstm_cell_194_layer_call_and_return_conditional_losses, lstm_cell_196_layer_call_fn while saving (showing 5 of 8). These functions will not be directly callable after loading.\n"
     ]
    },
    {
     "name": "stdout",
     "output_type": "stream",
     "text": [
      "INFO:tensorflow:Assets written to: ram://88885f49-c9cf-42b3-9592-316346ac8127/assets\n"
     ]
    },
    {
     "name": "stderr",
     "output_type": "stream",
     "text": [
      "INFO:tensorflow:Assets written to: ram://88885f49-c9cf-42b3-9592-316346ac8127/assets\n",
      "WARNING:absl:Found untraced functions such as lstm_cell_193_layer_call_fn, lstm_cell_193_layer_call_and_return_conditional_losses, lstm_cell_194_layer_call_fn, lstm_cell_194_layer_call_and_return_conditional_losses, lstm_cell_196_layer_call_fn while saving (showing 5 of 8). These functions will not be directly callable after loading.\n"
     ]
    },
    {
     "name": "stdout",
     "output_type": "stream",
     "text": [
      "INFO:tensorflow:Assets written to: models/bilstm-w5_features-s100-p0/assets\n"
     ]
    },
    {
     "name": "stderr",
     "output_type": "stream",
     "text": [
      "INFO:tensorflow:Assets written to: models/bilstm-w5_features-s100-p0/assets\n"
     ]
    },
    {
     "name": "stdout",
     "output_type": "stream",
     "text": [
      "221/221 [==============================] - 1s 1ms/step\n"
     ]
    },
    {
     "name": "stderr",
     "output_type": "stream",
     "text": [
      "WARNING:absl:Found untraced functions such as lstm_cell_199_layer_call_fn, lstm_cell_199_layer_call_and_return_conditional_losses, lstm_cell_200_layer_call_fn, lstm_cell_200_layer_call_and_return_conditional_losses, lstm_cell_202_layer_call_fn while saving (showing 5 of 8). These functions will not be directly callable after loading.\n"
     ]
    },
    {
     "name": "stdout",
     "output_type": "stream",
     "text": [
      "INFO:tensorflow:Assets written to: ram://58278732-85d7-49f4-862e-63a84b1892c3/assets\n"
     ]
    },
    {
     "name": "stderr",
     "output_type": "stream",
     "text": [
      "INFO:tensorflow:Assets written to: ram://58278732-85d7-49f4-862e-63a84b1892c3/assets\n",
      "WARNING:absl:Found untraced functions such as lstm_cell_199_layer_call_fn, lstm_cell_199_layer_call_and_return_conditional_losses, lstm_cell_200_layer_call_fn, lstm_cell_200_layer_call_and_return_conditional_losses, lstm_cell_202_layer_call_fn while saving (showing 5 of 8). These functions will not be directly callable after loading.\n"
     ]
    },
    {
     "name": "stdout",
     "output_type": "stream",
     "text": [
      "INFO:tensorflow:Assets written to: models/bilstm-w5_features-s100-p1/assets\n"
     ]
    },
    {
     "name": "stderr",
     "output_type": "stream",
     "text": [
      "INFO:tensorflow:Assets written to: models/bilstm-w5_features-s100-p1/assets\n"
     ]
    },
    {
     "name": "stdout",
     "output_type": "stream",
     "text": [
      "221/221 [==============================] - 1s 2ms/step\n"
     ]
    },
    {
     "name": "stderr",
     "output_type": "stream",
     "text": [
      "WARNING:absl:Found untraced functions such as lstm_cell_205_layer_call_fn, lstm_cell_205_layer_call_and_return_conditional_losses, lstm_cell_206_layer_call_fn, lstm_cell_206_layer_call_and_return_conditional_losses, lstm_cell_208_layer_call_fn while saving (showing 5 of 8). These functions will not be directly callable after loading.\n"
     ]
    },
    {
     "name": "stdout",
     "output_type": "stream",
     "text": [
      "INFO:tensorflow:Assets written to: ram://c89b2c33-2e95-49ec-ba22-ab74bd06aeab/assets\n"
     ]
    },
    {
     "name": "stderr",
     "output_type": "stream",
     "text": [
      "INFO:tensorflow:Assets written to: ram://c89b2c33-2e95-49ec-ba22-ab74bd06aeab/assets\n",
      "WARNING:absl:Found untraced functions such as lstm_cell_205_layer_call_fn, lstm_cell_205_layer_call_and_return_conditional_losses, lstm_cell_206_layer_call_fn, lstm_cell_206_layer_call_and_return_conditional_losses, lstm_cell_208_layer_call_fn while saving (showing 5 of 8). These functions will not be directly callable after loading.\n"
     ]
    },
    {
     "name": "stdout",
     "output_type": "stream",
     "text": [
      "INFO:tensorflow:Assets written to: models/bilstm-w5_features-s100-p2/assets\n"
     ]
    },
    {
     "name": "stderr",
     "output_type": "stream",
     "text": [
      "INFO:tensorflow:Assets written to: models/bilstm-w5_features-s100-p2/assets\n"
     ]
    },
    {
     "name": "stdout",
     "output_type": "stream",
     "text": [
      "221/221 [==============================] - 1s 2ms/step\n"
     ]
    },
    {
     "name": "stderr",
     "output_type": "stream",
     "text": [
      "WARNING:absl:Found untraced functions such as lstm_cell_211_layer_call_fn, lstm_cell_211_layer_call_and_return_conditional_losses, lstm_cell_212_layer_call_fn, lstm_cell_212_layer_call_and_return_conditional_losses, lstm_cell_214_layer_call_fn while saving (showing 5 of 8). These functions will not be directly callable after loading.\n"
     ]
    },
    {
     "name": "stdout",
     "output_type": "stream",
     "text": [
      "INFO:tensorflow:Assets written to: ram://a236d2bd-8d4e-485f-b4fe-c5cfda9b7c1e/assets\n"
     ]
    },
    {
     "name": "stderr",
     "output_type": "stream",
     "text": [
      "INFO:tensorflow:Assets written to: ram://a236d2bd-8d4e-485f-b4fe-c5cfda9b7c1e/assets\n",
      "WARNING:absl:Found untraced functions such as lstm_cell_211_layer_call_fn, lstm_cell_211_layer_call_and_return_conditional_losses, lstm_cell_212_layer_call_fn, lstm_cell_212_layer_call_and_return_conditional_losses, lstm_cell_214_layer_call_fn while saving (showing 5 of 8). These functions will not be directly callable after loading.\n"
     ]
    },
    {
     "name": "stdout",
     "output_type": "stream",
     "text": [
      "INFO:tensorflow:Assets written to: models/bilstm-w5_features-s100-p3/assets\n"
     ]
    },
    {
     "name": "stderr",
     "output_type": "stream",
     "text": [
      "INFO:tensorflow:Assets written to: models/bilstm-w5_features-s100-p3/assets\n"
     ]
    },
    {
     "name": "stdout",
     "output_type": "stream",
     "text": [
      "221/221 [==============================] - 1s 1ms/step\n"
     ]
    },
    {
     "name": "stderr",
     "output_type": "stream",
     "text": [
      "WARNING:absl:Found untraced functions such as lstm_cell_217_layer_call_fn, lstm_cell_217_layer_call_and_return_conditional_losses, lstm_cell_218_layer_call_fn, lstm_cell_218_layer_call_and_return_conditional_losses, lstm_cell_220_layer_call_fn while saving (showing 5 of 8). These functions will not be directly callable after loading.\n"
     ]
    },
    {
     "name": "stdout",
     "output_type": "stream",
     "text": [
      "INFO:tensorflow:Assets written to: ram://d8c28565-de34-49ff-9b46-3f27db649929/assets\n"
     ]
    },
    {
     "name": "stderr",
     "output_type": "stream",
     "text": [
      "INFO:tensorflow:Assets written to: ram://d8c28565-de34-49ff-9b46-3f27db649929/assets\n",
      "WARNING:absl:Found untraced functions such as lstm_cell_217_layer_call_fn, lstm_cell_217_layer_call_and_return_conditional_losses, lstm_cell_218_layer_call_fn, lstm_cell_218_layer_call_and_return_conditional_losses, lstm_cell_220_layer_call_fn while saving (showing 5 of 8). These functions will not be directly callable after loading.\n"
     ]
    },
    {
     "name": "stdout",
     "output_type": "stream",
     "text": [
      "INFO:tensorflow:Assets written to: models/bilstm-w10_features-s100-p0/assets\n"
     ]
    },
    {
     "name": "stderr",
     "output_type": "stream",
     "text": [
      "INFO:tensorflow:Assets written to: models/bilstm-w10_features-s100-p0/assets\n"
     ]
    },
    {
     "name": "stdout",
     "output_type": "stream",
     "text": [
      "221/221 [==============================] - 1s 1ms/step\n"
     ]
    },
    {
     "name": "stderr",
     "output_type": "stream",
     "text": [
      "WARNING:absl:Found untraced functions such as lstm_cell_223_layer_call_fn, lstm_cell_223_layer_call_and_return_conditional_losses, lstm_cell_224_layer_call_fn, lstm_cell_224_layer_call_and_return_conditional_losses, lstm_cell_226_layer_call_fn while saving (showing 5 of 8). These functions will not be directly callable after loading.\n"
     ]
    },
    {
     "name": "stdout",
     "output_type": "stream",
     "text": [
      "INFO:tensorflow:Assets written to: ram://c1ed62bc-ff10-4e41-bb1b-1fadcc149fd8/assets\n"
     ]
    },
    {
     "name": "stderr",
     "output_type": "stream",
     "text": [
      "INFO:tensorflow:Assets written to: ram://c1ed62bc-ff10-4e41-bb1b-1fadcc149fd8/assets\n",
      "WARNING:absl:Found untraced functions such as lstm_cell_223_layer_call_fn, lstm_cell_223_layer_call_and_return_conditional_losses, lstm_cell_224_layer_call_fn, lstm_cell_224_layer_call_and_return_conditional_losses, lstm_cell_226_layer_call_fn while saving (showing 5 of 8). These functions will not be directly callable after loading.\n"
     ]
    },
    {
     "name": "stdout",
     "output_type": "stream",
     "text": [
      "INFO:tensorflow:Assets written to: models/bilstm-w10_features-s100-p1/assets\n"
     ]
    },
    {
     "name": "stderr",
     "output_type": "stream",
     "text": [
      "INFO:tensorflow:Assets written to: models/bilstm-w10_features-s100-p1/assets\n"
     ]
    },
    {
     "name": "stdout",
     "output_type": "stream",
     "text": [
      "221/221 [==============================] - 1s 1ms/step\n"
     ]
    },
    {
     "name": "stderr",
     "output_type": "stream",
     "text": [
      "WARNING:absl:Found untraced functions such as lstm_cell_229_layer_call_fn, lstm_cell_229_layer_call_and_return_conditional_losses, lstm_cell_230_layer_call_fn, lstm_cell_230_layer_call_and_return_conditional_losses, lstm_cell_232_layer_call_fn while saving (showing 5 of 8). These functions will not be directly callable after loading.\n"
     ]
    },
    {
     "name": "stdout",
     "output_type": "stream",
     "text": [
      "INFO:tensorflow:Assets written to: ram://45cd0a8b-6729-4cb9-8717-011a3fdfe07d/assets\n"
     ]
    },
    {
     "name": "stderr",
     "output_type": "stream",
     "text": [
      "INFO:tensorflow:Assets written to: ram://45cd0a8b-6729-4cb9-8717-011a3fdfe07d/assets\n",
      "WARNING:absl:Found untraced functions such as lstm_cell_229_layer_call_fn, lstm_cell_229_layer_call_and_return_conditional_losses, lstm_cell_230_layer_call_fn, lstm_cell_230_layer_call_and_return_conditional_losses, lstm_cell_232_layer_call_fn while saving (showing 5 of 8). These functions will not be directly callable after loading.\n"
     ]
    },
    {
     "name": "stdout",
     "output_type": "stream",
     "text": [
      "INFO:tensorflow:Assets written to: models/bilstm-w10_features-s100-p2/assets\n"
     ]
    },
    {
     "name": "stderr",
     "output_type": "stream",
     "text": [
      "INFO:tensorflow:Assets written to: models/bilstm-w10_features-s100-p2/assets\n"
     ]
    },
    {
     "name": "stdout",
     "output_type": "stream",
     "text": [
      "221/221 [==============================] - 1s 2ms/step\n"
     ]
    },
    {
     "name": "stderr",
     "output_type": "stream",
     "text": [
      "WARNING:absl:Found untraced functions such as lstm_cell_235_layer_call_fn, lstm_cell_235_layer_call_and_return_conditional_losses, lstm_cell_236_layer_call_fn, lstm_cell_236_layer_call_and_return_conditional_losses, lstm_cell_238_layer_call_fn while saving (showing 5 of 8). These functions will not be directly callable after loading.\n"
     ]
    },
    {
     "name": "stdout",
     "output_type": "stream",
     "text": [
      "INFO:tensorflow:Assets written to: ram://87c6d7c5-0509-476e-89c0-11f666b49a08/assets\n"
     ]
    },
    {
     "name": "stderr",
     "output_type": "stream",
     "text": [
      "INFO:tensorflow:Assets written to: ram://87c6d7c5-0509-476e-89c0-11f666b49a08/assets\n",
      "WARNING:absl:Found untraced functions such as lstm_cell_235_layer_call_fn, lstm_cell_235_layer_call_and_return_conditional_losses, lstm_cell_236_layer_call_fn, lstm_cell_236_layer_call_and_return_conditional_losses, lstm_cell_238_layer_call_fn while saving (showing 5 of 8). These functions will not be directly callable after loading.\n"
     ]
    },
    {
     "name": "stdout",
     "output_type": "stream",
     "text": [
      "INFO:tensorflow:Assets written to: models/bilstm-w10_features-s100-p3/assets\n"
     ]
    },
    {
     "name": "stderr",
     "output_type": "stream",
     "text": [
      "INFO:tensorflow:Assets written to: models/bilstm-w10_features-s100-p3/assets\n"
     ]
    },
    {
     "name": "stdout",
     "output_type": "stream",
     "text": [
      "221/221 [==============================] - 1s 1ms/step\n"
     ]
    },
    {
     "name": "stderr",
     "output_type": "stream",
     "text": [
      "WARNING:absl:Found untraced functions such as lstm_cell_241_layer_call_fn, lstm_cell_241_layer_call_and_return_conditional_losses, lstm_cell_242_layer_call_fn, lstm_cell_242_layer_call_and_return_conditional_losses, lstm_cell_244_layer_call_fn while saving (showing 5 of 8). These functions will not be directly callable after loading.\n"
     ]
    },
    {
     "name": "stdout",
     "output_type": "stream",
     "text": [
      "INFO:tensorflow:Assets written to: ram://7bc5398f-b929-42ac-a651-f265bf5168a0/assets\n"
     ]
    },
    {
     "name": "stderr",
     "output_type": "stream",
     "text": [
      "INFO:tensorflow:Assets written to: ram://7bc5398f-b929-42ac-a651-f265bf5168a0/assets\n",
      "WARNING:absl:Found untraced functions such as lstm_cell_241_layer_call_fn, lstm_cell_241_layer_call_and_return_conditional_losses, lstm_cell_242_layer_call_fn, lstm_cell_242_layer_call_and_return_conditional_losses, lstm_cell_244_layer_call_fn while saving (showing 5 of 8). These functions will not be directly callable after loading.\n"
     ]
    },
    {
     "name": "stdout",
     "output_type": "stream",
     "text": [
      "INFO:tensorflow:Assets written to: models/bilstm-w15_features-s100-p0/assets\n"
     ]
    },
    {
     "name": "stderr",
     "output_type": "stream",
     "text": [
      "INFO:tensorflow:Assets written to: models/bilstm-w15_features-s100-p0/assets\n"
     ]
    },
    {
     "name": "stdout",
     "output_type": "stream",
     "text": [
      "221/221 [==============================] - 1s 1ms/step\n"
     ]
    },
    {
     "name": "stderr",
     "output_type": "stream",
     "text": [
      "WARNING:absl:Found untraced functions such as lstm_cell_247_layer_call_fn, lstm_cell_247_layer_call_and_return_conditional_losses, lstm_cell_248_layer_call_fn, lstm_cell_248_layer_call_and_return_conditional_losses, lstm_cell_250_layer_call_fn while saving (showing 5 of 8). These functions will not be directly callable after loading.\n"
     ]
    },
    {
     "name": "stdout",
     "output_type": "stream",
     "text": [
      "INFO:tensorflow:Assets written to: ram://fc9bb1b9-95a0-4b07-8477-08d306a03887/assets\n"
     ]
    },
    {
     "name": "stderr",
     "output_type": "stream",
     "text": [
      "INFO:tensorflow:Assets written to: ram://fc9bb1b9-95a0-4b07-8477-08d306a03887/assets\n",
      "WARNING:absl:Found untraced functions such as lstm_cell_247_layer_call_fn, lstm_cell_247_layer_call_and_return_conditional_losses, lstm_cell_248_layer_call_fn, lstm_cell_248_layer_call_and_return_conditional_losses, lstm_cell_250_layer_call_fn while saving (showing 5 of 8). These functions will not be directly callable after loading.\n"
     ]
    },
    {
     "name": "stdout",
     "output_type": "stream",
     "text": [
      "INFO:tensorflow:Assets written to: models/bilstm-w15_features-s100-p1/assets\n"
     ]
    },
    {
     "name": "stderr",
     "output_type": "stream",
     "text": [
      "INFO:tensorflow:Assets written to: models/bilstm-w15_features-s100-p1/assets\n"
     ]
    },
    {
     "name": "stdout",
     "output_type": "stream",
     "text": [
      "221/221 [==============================] - 1s 1ms/step\n"
     ]
    },
    {
     "name": "stderr",
     "output_type": "stream",
     "text": [
      "WARNING:absl:Found untraced functions such as lstm_cell_253_layer_call_fn, lstm_cell_253_layer_call_and_return_conditional_losses, lstm_cell_254_layer_call_fn, lstm_cell_254_layer_call_and_return_conditional_losses, lstm_cell_256_layer_call_fn while saving (showing 5 of 8). These functions will not be directly callable after loading.\n"
     ]
    },
    {
     "name": "stdout",
     "output_type": "stream",
     "text": [
      "INFO:tensorflow:Assets written to: ram://0cc31c40-5ec7-44c4-8f8e-abe83eb9a4bd/assets\n"
     ]
    },
    {
     "name": "stderr",
     "output_type": "stream",
     "text": [
      "INFO:tensorflow:Assets written to: ram://0cc31c40-5ec7-44c4-8f8e-abe83eb9a4bd/assets\n",
      "WARNING:absl:Found untraced functions such as lstm_cell_253_layer_call_fn, lstm_cell_253_layer_call_and_return_conditional_losses, lstm_cell_254_layer_call_fn, lstm_cell_254_layer_call_and_return_conditional_losses, lstm_cell_256_layer_call_fn while saving (showing 5 of 8). These functions will not be directly callable after loading.\n"
     ]
    },
    {
     "name": "stdout",
     "output_type": "stream",
     "text": [
      "INFO:tensorflow:Assets written to: models/bilstm-w15_features-s100-p2/assets\n"
     ]
    },
    {
     "name": "stderr",
     "output_type": "stream",
     "text": [
      "INFO:tensorflow:Assets written to: models/bilstm-w15_features-s100-p2/assets\n"
     ]
    },
    {
     "name": "stdout",
     "output_type": "stream",
     "text": [
      "221/221 [==============================] - 1s 2ms/step\n"
     ]
    },
    {
     "name": "stderr",
     "output_type": "stream",
     "text": [
      "WARNING:absl:Found untraced functions such as lstm_cell_259_layer_call_fn, lstm_cell_259_layer_call_and_return_conditional_losses, lstm_cell_260_layer_call_fn, lstm_cell_260_layer_call_and_return_conditional_losses, lstm_cell_262_layer_call_fn while saving (showing 5 of 8). These functions will not be directly callable after loading.\n"
     ]
    },
    {
     "name": "stdout",
     "output_type": "stream",
     "text": [
      "INFO:tensorflow:Assets written to: ram://5cac4f60-02ed-457d-8c50-d05ae417dda1/assets\n"
     ]
    },
    {
     "name": "stderr",
     "output_type": "stream",
     "text": [
      "INFO:tensorflow:Assets written to: ram://5cac4f60-02ed-457d-8c50-d05ae417dda1/assets\n",
      "WARNING:absl:Found untraced functions such as lstm_cell_259_layer_call_fn, lstm_cell_259_layer_call_and_return_conditional_losses, lstm_cell_260_layer_call_fn, lstm_cell_260_layer_call_and_return_conditional_losses, lstm_cell_262_layer_call_fn while saving (showing 5 of 8). These functions will not be directly callable after loading.\n"
     ]
    },
    {
     "name": "stdout",
     "output_type": "stream",
     "text": [
      "INFO:tensorflow:Assets written to: models/bilstm-w15_features-s100-p3/assets\n"
     ]
    },
    {
     "name": "stderr",
     "output_type": "stream",
     "text": [
      "INFO:tensorflow:Assets written to: models/bilstm-w15_features-s100-p3/assets\n"
     ]
    },
    {
     "name": "stdout",
     "output_type": "stream",
     "text": [
      "221/221 [==============================] - 1s 1ms/step\n"
     ]
    },
    {
     "name": "stderr",
     "output_type": "stream",
     "text": [
      "WARNING:absl:Found untraced functions such as lstm_cell_265_layer_call_fn, lstm_cell_265_layer_call_and_return_conditional_losses, lstm_cell_266_layer_call_fn, lstm_cell_266_layer_call_and_return_conditional_losses, lstm_cell_268_layer_call_fn while saving (showing 5 of 8). These functions will not be directly callable after loading.\n"
     ]
    },
    {
     "name": "stdout",
     "output_type": "stream",
     "text": [
      "INFO:tensorflow:Assets written to: ram://076bdeb4-4b64-4072-9b1c-8ecb0e342b81/assets\n"
     ]
    },
    {
     "name": "stderr",
     "output_type": "stream",
     "text": [
      "INFO:tensorflow:Assets written to: ram://076bdeb4-4b64-4072-9b1c-8ecb0e342b81/assets\n",
      "WARNING:absl:Found untraced functions such as lstm_cell_265_layer_call_fn, lstm_cell_265_layer_call_and_return_conditional_losses, lstm_cell_266_layer_call_fn, lstm_cell_266_layer_call_and_return_conditional_losses, lstm_cell_268_layer_call_fn while saving (showing 5 of 8). These functions will not be directly callable after loading.\n"
     ]
    },
    {
     "name": "stdout",
     "output_type": "stream",
     "text": [
      "INFO:tensorflow:Assets written to: models/bilstm-w20_features-s100-p0/assets\n"
     ]
    },
    {
     "name": "stderr",
     "output_type": "stream",
     "text": [
      "INFO:tensorflow:Assets written to: models/bilstm-w20_features-s100-p0/assets\n"
     ]
    },
    {
     "name": "stdout",
     "output_type": "stream",
     "text": [
      "221/221 [==============================] - 1s 2ms/step\n"
     ]
    },
    {
     "name": "stderr",
     "output_type": "stream",
     "text": [
      "WARNING:absl:Found untraced functions such as lstm_cell_271_layer_call_fn, lstm_cell_271_layer_call_and_return_conditional_losses, lstm_cell_272_layer_call_fn, lstm_cell_272_layer_call_and_return_conditional_losses, lstm_cell_274_layer_call_fn while saving (showing 5 of 8). These functions will not be directly callable after loading.\n"
     ]
    },
    {
     "name": "stdout",
     "output_type": "stream",
     "text": [
      "INFO:tensorflow:Assets written to: ram://c6a64102-8fc7-4533-86df-72c277ed86b1/assets\n"
     ]
    },
    {
     "name": "stderr",
     "output_type": "stream",
     "text": [
      "INFO:tensorflow:Assets written to: ram://c6a64102-8fc7-4533-86df-72c277ed86b1/assets\n",
      "WARNING:absl:Found untraced functions such as lstm_cell_271_layer_call_fn, lstm_cell_271_layer_call_and_return_conditional_losses, lstm_cell_272_layer_call_fn, lstm_cell_272_layer_call_and_return_conditional_losses, lstm_cell_274_layer_call_fn while saving (showing 5 of 8). These functions will not be directly callable after loading.\n"
     ]
    },
    {
     "name": "stdout",
     "output_type": "stream",
     "text": [
      "INFO:tensorflow:Assets written to: models/bilstm-w20_features-s100-p1/assets\n"
     ]
    },
    {
     "name": "stderr",
     "output_type": "stream",
     "text": [
      "INFO:tensorflow:Assets written to: models/bilstm-w20_features-s100-p1/assets\n"
     ]
    },
    {
     "name": "stdout",
     "output_type": "stream",
     "text": [
      "221/221 [==============================] - 1s 2ms/step\n"
     ]
    },
    {
     "name": "stderr",
     "output_type": "stream",
     "text": [
      "WARNING:absl:Found untraced functions such as lstm_cell_277_layer_call_fn, lstm_cell_277_layer_call_and_return_conditional_losses, lstm_cell_278_layer_call_fn, lstm_cell_278_layer_call_and_return_conditional_losses, lstm_cell_280_layer_call_fn while saving (showing 5 of 8). These functions will not be directly callable after loading.\n"
     ]
    },
    {
     "name": "stdout",
     "output_type": "stream",
     "text": [
      "INFO:tensorflow:Assets written to: ram://475efdfe-dc22-40a4-970e-bcaef13da1b2/assets\n"
     ]
    },
    {
     "name": "stderr",
     "output_type": "stream",
     "text": [
      "INFO:tensorflow:Assets written to: ram://475efdfe-dc22-40a4-970e-bcaef13da1b2/assets\n",
      "WARNING:absl:Found untraced functions such as lstm_cell_277_layer_call_fn, lstm_cell_277_layer_call_and_return_conditional_losses, lstm_cell_278_layer_call_fn, lstm_cell_278_layer_call_and_return_conditional_losses, lstm_cell_280_layer_call_fn while saving (showing 5 of 8). These functions will not be directly callable after loading.\n"
     ]
    },
    {
     "name": "stdout",
     "output_type": "stream",
     "text": [
      "INFO:tensorflow:Assets written to: models/bilstm-w20_features-s100-p2/assets\n"
     ]
    },
    {
     "name": "stderr",
     "output_type": "stream",
     "text": [
      "INFO:tensorflow:Assets written to: models/bilstm-w20_features-s100-p2/assets\n"
     ]
    },
    {
     "name": "stdout",
     "output_type": "stream",
     "text": [
      "221/221 [==============================] - 1s 2ms/step\n"
     ]
    },
    {
     "name": "stderr",
     "output_type": "stream",
     "text": [
      "WARNING:absl:Found untraced functions such as lstm_cell_283_layer_call_fn, lstm_cell_283_layer_call_and_return_conditional_losses, lstm_cell_284_layer_call_fn, lstm_cell_284_layer_call_and_return_conditional_losses, lstm_cell_286_layer_call_fn while saving (showing 5 of 8). These functions will not be directly callable after loading.\n"
     ]
    },
    {
     "name": "stdout",
     "output_type": "stream",
     "text": [
      "INFO:tensorflow:Assets written to: ram://142fd0e9-fe39-4496-a96c-7a7267e6691a/assets\n"
     ]
    },
    {
     "name": "stderr",
     "output_type": "stream",
     "text": [
      "INFO:tensorflow:Assets written to: ram://142fd0e9-fe39-4496-a96c-7a7267e6691a/assets\n",
      "WARNING:absl:Found untraced functions such as lstm_cell_283_layer_call_fn, lstm_cell_283_layer_call_and_return_conditional_losses, lstm_cell_284_layer_call_fn, lstm_cell_284_layer_call_and_return_conditional_losses, lstm_cell_286_layer_call_fn while saving (showing 5 of 8). These functions will not be directly callable after loading.\n"
     ]
    },
    {
     "name": "stdout",
     "output_type": "stream",
     "text": [
      "INFO:tensorflow:Assets written to: models/bilstm-w20_features-s100-p3/assets\n"
     ]
    },
    {
     "name": "stderr",
     "output_type": "stream",
     "text": [
      "INFO:tensorflow:Assets written to: models/bilstm-w20_features-s100-p3/assets\n"
     ]
    },
    {
     "name": "stdout",
     "output_type": "stream",
     "text": [
      "221/221 [==============================] - 1s 1ms/step\n"
     ]
    },
    {
     "name": "stderr",
     "output_type": "stream",
     "text": [
      "WARNING:absl:Found untraced functions such as lstm_cell_289_layer_call_fn, lstm_cell_289_layer_call_and_return_conditional_losses, lstm_cell_290_layer_call_fn, lstm_cell_290_layer_call_and_return_conditional_losses, lstm_cell_292_layer_call_fn while saving (showing 5 of 8). These functions will not be directly callable after loading.\n"
     ]
    },
    {
     "name": "stdout",
     "output_type": "stream",
     "text": [
      "INFO:tensorflow:Assets written to: ram://0d682d9e-1185-4c81-8b7e-2688c0dcc8dd/assets\n"
     ]
    },
    {
     "name": "stderr",
     "output_type": "stream",
     "text": [
      "INFO:tensorflow:Assets written to: ram://0d682d9e-1185-4c81-8b7e-2688c0dcc8dd/assets\n",
      "WARNING:absl:Found untraced functions such as lstm_cell_289_layer_call_fn, lstm_cell_289_layer_call_and_return_conditional_losses, lstm_cell_290_layer_call_fn, lstm_cell_290_layer_call_and_return_conditional_losses, lstm_cell_292_layer_call_fn while saving (showing 5 of 8). These functions will not be directly callable after loading.\n"
     ]
    },
    {
     "name": "stdout",
     "output_type": "stream",
     "text": [
      "INFO:tensorflow:Assets written to: models/bilstm-no_diff_features-s100-p0/assets\n"
     ]
    },
    {
     "name": "stderr",
     "output_type": "stream",
     "text": [
      "INFO:tensorflow:Assets written to: models/bilstm-no_diff_features-s100-p0/assets\n"
     ]
    },
    {
     "name": "stdout",
     "output_type": "stream",
     "text": [
      "221/221 [==============================] - 1s 1ms/step\n"
     ]
    },
    {
     "name": "stderr",
     "output_type": "stream",
     "text": [
      "WARNING:absl:Found untraced functions such as lstm_cell_295_layer_call_fn, lstm_cell_295_layer_call_and_return_conditional_losses, lstm_cell_296_layer_call_fn, lstm_cell_296_layer_call_and_return_conditional_losses, lstm_cell_298_layer_call_fn while saving (showing 5 of 8). These functions will not be directly callable after loading.\n"
     ]
    },
    {
     "name": "stdout",
     "output_type": "stream",
     "text": [
      "INFO:tensorflow:Assets written to: ram://398dbe88-32f5-4f4a-a1a5-a88ea4e05979/assets\n"
     ]
    },
    {
     "name": "stderr",
     "output_type": "stream",
     "text": [
      "INFO:tensorflow:Assets written to: ram://398dbe88-32f5-4f4a-a1a5-a88ea4e05979/assets\n",
      "WARNING:absl:Found untraced functions such as lstm_cell_295_layer_call_fn, lstm_cell_295_layer_call_and_return_conditional_losses, lstm_cell_296_layer_call_fn, lstm_cell_296_layer_call_and_return_conditional_losses, lstm_cell_298_layer_call_fn while saving (showing 5 of 8). These functions will not be directly callable after loading.\n"
     ]
    },
    {
     "name": "stdout",
     "output_type": "stream",
     "text": [
      "INFO:tensorflow:Assets written to: models/bilstm-no_diff_features-s100-p1/assets\n"
     ]
    },
    {
     "name": "stderr",
     "output_type": "stream",
     "text": [
      "INFO:tensorflow:Assets written to: models/bilstm-no_diff_features-s100-p1/assets\n"
     ]
    },
    {
     "name": "stdout",
     "output_type": "stream",
     "text": [
      "221/221 [==============================] - 1s 1ms/step\n"
     ]
    },
    {
     "name": "stderr",
     "output_type": "stream",
     "text": [
      "WARNING:absl:Found untraced functions such as lstm_cell_301_layer_call_fn, lstm_cell_301_layer_call_and_return_conditional_losses, lstm_cell_302_layer_call_fn, lstm_cell_302_layer_call_and_return_conditional_losses, lstm_cell_304_layer_call_fn while saving (showing 5 of 8). These functions will not be directly callable after loading.\n"
     ]
    },
    {
     "name": "stdout",
     "output_type": "stream",
     "text": [
      "INFO:tensorflow:Assets written to: ram://15ce0c22-b1ef-489d-bd66-42059a5d8d71/assets\n"
     ]
    },
    {
     "name": "stderr",
     "output_type": "stream",
     "text": [
      "INFO:tensorflow:Assets written to: ram://15ce0c22-b1ef-489d-bd66-42059a5d8d71/assets\n",
      "WARNING:absl:Found untraced functions such as lstm_cell_301_layer_call_fn, lstm_cell_301_layer_call_and_return_conditional_losses, lstm_cell_302_layer_call_fn, lstm_cell_302_layer_call_and_return_conditional_losses, lstm_cell_304_layer_call_fn while saving (showing 5 of 8). These functions will not be directly callable after loading.\n"
     ]
    },
    {
     "name": "stdout",
     "output_type": "stream",
     "text": [
      "INFO:tensorflow:Assets written to: models/bilstm-no_diff_features-s100-p2/assets\n"
     ]
    },
    {
     "name": "stderr",
     "output_type": "stream",
     "text": [
      "INFO:tensorflow:Assets written to: models/bilstm-no_diff_features-s100-p2/assets\n"
     ]
    },
    {
     "name": "stdout",
     "output_type": "stream",
     "text": [
      "221/221 [==============================] - 1s 2ms/step\n"
     ]
    },
    {
     "name": "stderr",
     "output_type": "stream",
     "text": [
      "WARNING:absl:Found untraced functions such as lstm_cell_307_layer_call_fn, lstm_cell_307_layer_call_and_return_conditional_losses, lstm_cell_308_layer_call_fn, lstm_cell_308_layer_call_and_return_conditional_losses, lstm_cell_310_layer_call_fn while saving (showing 5 of 8). These functions will not be directly callable after loading.\n"
     ]
    },
    {
     "name": "stdout",
     "output_type": "stream",
     "text": [
      "INFO:tensorflow:Assets written to: ram://df5fdc9c-d593-4e18-ae60-d7219dbf632a/assets\n"
     ]
    },
    {
     "name": "stderr",
     "output_type": "stream",
     "text": [
      "INFO:tensorflow:Assets written to: ram://df5fdc9c-d593-4e18-ae60-d7219dbf632a/assets\n",
      "WARNING:absl:Found untraced functions such as lstm_cell_307_layer_call_fn, lstm_cell_307_layer_call_and_return_conditional_losses, lstm_cell_308_layer_call_fn, lstm_cell_308_layer_call_and_return_conditional_losses, lstm_cell_310_layer_call_fn while saving (showing 5 of 8). These functions will not be directly callable after loading.\n"
     ]
    },
    {
     "name": "stdout",
     "output_type": "stream",
     "text": [
      "INFO:tensorflow:Assets written to: models/bilstm-no_diff_features-s100-p3/assets\n"
     ]
    },
    {
     "name": "stderr",
     "output_type": "stream",
     "text": [
      "INFO:tensorflow:Assets written to: models/bilstm-no_diff_features-s100-p3/assets\n"
     ]
    },
    {
     "name": "stdout",
     "output_type": "stream",
     "text": [
      "221/221 [==============================] - 1s 1ms/step\n"
     ]
    },
    {
     "name": "stderr",
     "output_type": "stream",
     "text": [
      "WARNING:absl:Found untraced functions such as lstm_cell_313_layer_call_fn, lstm_cell_313_layer_call_and_return_conditional_losses, lstm_cell_314_layer_call_fn, lstm_cell_314_layer_call_and_return_conditional_losses, lstm_cell_316_layer_call_fn while saving (showing 5 of 8). These functions will not be directly callable after loading.\n"
     ]
    },
    {
     "name": "stdout",
     "output_type": "stream",
     "text": [
      "INFO:tensorflow:Assets written to: ram://5fef108d-7981-4846-aa3f-1e82c3cb72c1/assets\n"
     ]
    },
    {
     "name": "stderr",
     "output_type": "stream",
     "text": [
      "INFO:tensorflow:Assets written to: ram://5fef108d-7981-4846-aa3f-1e82c3cb72c1/assets\n",
      "WARNING:absl:Found untraced functions such as lstm_cell_313_layer_call_fn, lstm_cell_313_layer_call_and_return_conditional_losses, lstm_cell_314_layer_call_fn, lstm_cell_314_layer_call_and_return_conditional_losses, lstm_cell_316_layer_call_fn while saving (showing 5 of 8). These functions will not be directly callable after loading.\n"
     ]
    },
    {
     "name": "stdout",
     "output_type": "stream",
     "text": [
      "INFO:tensorflow:Assets written to: models/bilstm-diff_features-s100-p0/assets\n"
     ]
    },
    {
     "name": "stderr",
     "output_type": "stream",
     "text": [
      "INFO:tensorflow:Assets written to: models/bilstm-diff_features-s100-p0/assets\n"
     ]
    },
    {
     "name": "stdout",
     "output_type": "stream",
     "text": [
      "221/221 [==============================] - 1s 1ms/step\n"
     ]
    },
    {
     "name": "stderr",
     "output_type": "stream",
     "text": [
      "WARNING:absl:Found untraced functions such as lstm_cell_319_layer_call_fn, lstm_cell_319_layer_call_and_return_conditional_losses, lstm_cell_320_layer_call_fn, lstm_cell_320_layer_call_and_return_conditional_losses, lstm_cell_322_layer_call_fn while saving (showing 5 of 8). These functions will not be directly callable after loading.\n"
     ]
    },
    {
     "name": "stdout",
     "output_type": "stream",
     "text": [
      "INFO:tensorflow:Assets written to: ram://86b0fe29-c07e-4b9d-a24f-305e4880e163/assets\n"
     ]
    },
    {
     "name": "stderr",
     "output_type": "stream",
     "text": [
      "INFO:tensorflow:Assets written to: ram://86b0fe29-c07e-4b9d-a24f-305e4880e163/assets\n",
      "WARNING:absl:Found untraced functions such as lstm_cell_319_layer_call_fn, lstm_cell_319_layer_call_and_return_conditional_losses, lstm_cell_320_layer_call_fn, lstm_cell_320_layer_call_and_return_conditional_losses, lstm_cell_322_layer_call_fn while saving (showing 5 of 8). These functions will not be directly callable after loading.\n"
     ]
    },
    {
     "name": "stdout",
     "output_type": "stream",
     "text": [
      "INFO:tensorflow:Assets written to: models/bilstm-diff_features-s100-p1/assets\n"
     ]
    },
    {
     "name": "stderr",
     "output_type": "stream",
     "text": [
      "INFO:tensorflow:Assets written to: models/bilstm-diff_features-s100-p1/assets\n"
     ]
    },
    {
     "name": "stdout",
     "output_type": "stream",
     "text": [
      "221/221 [==============================] - 1s 1ms/step\n"
     ]
    },
    {
     "name": "stderr",
     "output_type": "stream",
     "text": [
      "WARNING:absl:Found untraced functions such as lstm_cell_325_layer_call_fn, lstm_cell_325_layer_call_and_return_conditional_losses, lstm_cell_326_layer_call_fn, lstm_cell_326_layer_call_and_return_conditional_losses, lstm_cell_328_layer_call_fn while saving (showing 5 of 8). These functions will not be directly callable after loading.\n"
     ]
    },
    {
     "name": "stdout",
     "output_type": "stream",
     "text": [
      "INFO:tensorflow:Assets written to: ram://1c7fda46-c365-4cb1-962b-fed7b6c48972/assets\n"
     ]
    },
    {
     "name": "stderr",
     "output_type": "stream",
     "text": [
      "INFO:tensorflow:Assets written to: ram://1c7fda46-c365-4cb1-962b-fed7b6c48972/assets\n",
      "WARNING:absl:Found untraced functions such as lstm_cell_325_layer_call_fn, lstm_cell_325_layer_call_and_return_conditional_losses, lstm_cell_326_layer_call_fn, lstm_cell_326_layer_call_and_return_conditional_losses, lstm_cell_328_layer_call_fn while saving (showing 5 of 8). These functions will not be directly callable after loading.\n"
     ]
    },
    {
     "name": "stdout",
     "output_type": "stream",
     "text": [
      "INFO:tensorflow:Assets written to: models/bilstm-diff_features-s100-p2/assets\n"
     ]
    },
    {
     "name": "stderr",
     "output_type": "stream",
     "text": [
      "INFO:tensorflow:Assets written to: models/bilstm-diff_features-s100-p2/assets\n"
     ]
    },
    {
     "name": "stdout",
     "output_type": "stream",
     "text": [
      "221/221 [==============================] - 1s 2ms/step\n"
     ]
    },
    {
     "name": "stderr",
     "output_type": "stream",
     "text": [
      "WARNING:absl:Found untraced functions such as lstm_cell_331_layer_call_fn, lstm_cell_331_layer_call_and_return_conditional_losses, lstm_cell_332_layer_call_fn, lstm_cell_332_layer_call_and_return_conditional_losses, lstm_cell_334_layer_call_fn while saving (showing 5 of 8). These functions will not be directly callable after loading.\n"
     ]
    },
    {
     "name": "stdout",
     "output_type": "stream",
     "text": [
      "INFO:tensorflow:Assets written to: ram://060ce826-d2ff-459e-b7b3-7063608b9f04/assets\n"
     ]
    },
    {
     "name": "stderr",
     "output_type": "stream",
     "text": [
      "INFO:tensorflow:Assets written to: ram://060ce826-d2ff-459e-b7b3-7063608b9f04/assets\n",
      "WARNING:absl:Found untraced functions such as lstm_cell_331_layer_call_fn, lstm_cell_331_layer_call_and_return_conditional_losses, lstm_cell_332_layer_call_fn, lstm_cell_332_layer_call_and_return_conditional_losses, lstm_cell_334_layer_call_fn while saving (showing 5 of 8). These functions will not be directly callable after loading.\n"
     ]
    },
    {
     "name": "stdout",
     "output_type": "stream",
     "text": [
      "INFO:tensorflow:Assets written to: models/bilstm-diff_features-s100-p3/assets\n"
     ]
    },
    {
     "name": "stderr",
     "output_type": "stream",
     "text": [
      "INFO:tensorflow:Assets written to: models/bilstm-diff_features-s100-p3/assets\n"
     ]
    },
    {
     "name": "stdout",
     "output_type": "stream",
     "text": [
      "221/221 [==============================] - 1s 1ms/step\n"
     ]
    },
    {
     "name": "stderr",
     "output_type": "stream",
     "text": [
      "WARNING:absl:Found untraced functions such as lstm_cell_337_layer_call_fn, lstm_cell_337_layer_call_and_return_conditional_losses, lstm_cell_338_layer_call_fn, lstm_cell_338_layer_call_and_return_conditional_losses, lstm_cell_340_layer_call_fn while saving (showing 5 of 8). These functions will not be directly callable after loading.\n"
     ]
    },
    {
     "name": "stdout",
     "output_type": "stream",
     "text": [
      "INFO:tensorflow:Assets written to: ram://2311cc07-b733-428a-88b9-5a4d04d08740/assets\n"
     ]
    },
    {
     "name": "stderr",
     "output_type": "stream",
     "text": [
      "INFO:tensorflow:Assets written to: ram://2311cc07-b733-428a-88b9-5a4d04d08740/assets\n",
      "WARNING:absl:Found untraced functions such as lstm_cell_337_layer_call_fn, lstm_cell_337_layer_call_and_return_conditional_losses, lstm_cell_338_layer_call_fn, lstm_cell_338_layer_call_and_return_conditional_losses, lstm_cell_340_layer_call_fn while saving (showing 5 of 8). These functions will not be directly callable after loading.\n"
     ]
    },
    {
     "name": "stdout",
     "output_type": "stream",
     "text": [
      "INFO:tensorflow:Assets written to: models/bilstm-all_features-s200-p0/assets\n"
     ]
    },
    {
     "name": "stderr",
     "output_type": "stream",
     "text": [
      "INFO:tensorflow:Assets written to: models/bilstm-all_features-s200-p0/assets\n"
     ]
    },
    {
     "name": "stdout",
     "output_type": "stream",
     "text": [
      "221/221 [==============================] - 1s 2ms/step\n"
     ]
    },
    {
     "name": "stderr",
     "output_type": "stream",
     "text": [
      "WARNING:absl:Found untraced functions such as lstm_cell_343_layer_call_fn, lstm_cell_343_layer_call_and_return_conditional_losses, lstm_cell_344_layer_call_fn, lstm_cell_344_layer_call_and_return_conditional_losses, lstm_cell_346_layer_call_fn while saving (showing 5 of 8). These functions will not be directly callable after loading.\n"
     ]
    },
    {
     "name": "stdout",
     "output_type": "stream",
     "text": [
      "INFO:tensorflow:Assets written to: ram://969a11b6-b973-4177-83fd-53e5698e146d/assets\n"
     ]
    },
    {
     "name": "stderr",
     "output_type": "stream",
     "text": [
      "INFO:tensorflow:Assets written to: ram://969a11b6-b973-4177-83fd-53e5698e146d/assets\n",
      "WARNING:absl:Found untraced functions such as lstm_cell_343_layer_call_fn, lstm_cell_343_layer_call_and_return_conditional_losses, lstm_cell_344_layer_call_fn, lstm_cell_344_layer_call_and_return_conditional_losses, lstm_cell_346_layer_call_fn while saving (showing 5 of 8). These functions will not be directly callable after loading.\n"
     ]
    },
    {
     "name": "stdout",
     "output_type": "stream",
     "text": [
      "INFO:tensorflow:Assets written to: models/bilstm-all_features-s200-p1/assets\n"
     ]
    },
    {
     "name": "stderr",
     "output_type": "stream",
     "text": [
      "INFO:tensorflow:Assets written to: models/bilstm-all_features-s200-p1/assets\n"
     ]
    },
    {
     "name": "stdout",
     "output_type": "stream",
     "text": [
      "221/221 [==============================] - 1s 1ms/step\n"
     ]
    },
    {
     "name": "stderr",
     "output_type": "stream",
     "text": [
      "WARNING:absl:Found untraced functions such as lstm_cell_349_layer_call_fn, lstm_cell_349_layer_call_and_return_conditional_losses, lstm_cell_350_layer_call_fn, lstm_cell_350_layer_call_and_return_conditional_losses, lstm_cell_352_layer_call_fn while saving (showing 5 of 8). These functions will not be directly callable after loading.\n"
     ]
    },
    {
     "name": "stdout",
     "output_type": "stream",
     "text": [
      "INFO:tensorflow:Assets written to: ram://f7412708-288b-46bc-9e6e-f16234a05e48/assets\n"
     ]
    },
    {
     "name": "stderr",
     "output_type": "stream",
     "text": [
      "INFO:tensorflow:Assets written to: ram://f7412708-288b-46bc-9e6e-f16234a05e48/assets\n",
      "WARNING:absl:Found untraced functions such as lstm_cell_349_layer_call_fn, lstm_cell_349_layer_call_and_return_conditional_losses, lstm_cell_350_layer_call_fn, lstm_cell_350_layer_call_and_return_conditional_losses, lstm_cell_352_layer_call_fn while saving (showing 5 of 8). These functions will not be directly callable after loading.\n"
     ]
    },
    {
     "name": "stdout",
     "output_type": "stream",
     "text": [
      "INFO:tensorflow:Assets written to: models/bilstm-all_features-s200-p2/assets\n"
     ]
    },
    {
     "name": "stderr",
     "output_type": "stream",
     "text": [
      "INFO:tensorflow:Assets written to: models/bilstm-all_features-s200-p2/assets\n"
     ]
    },
    {
     "name": "stdout",
     "output_type": "stream",
     "text": [
      "221/221 [==============================] - 1s 2ms/step\n"
     ]
    },
    {
     "name": "stderr",
     "output_type": "stream",
     "text": [
      "WARNING:absl:Found untraced functions such as lstm_cell_355_layer_call_fn, lstm_cell_355_layer_call_and_return_conditional_losses, lstm_cell_356_layer_call_fn, lstm_cell_356_layer_call_and_return_conditional_losses, lstm_cell_358_layer_call_fn while saving (showing 5 of 8). These functions will not be directly callable after loading.\n"
     ]
    },
    {
     "name": "stdout",
     "output_type": "stream",
     "text": [
      "INFO:tensorflow:Assets written to: ram://4acb61cc-023e-4831-8827-d3049e0af023/assets\n"
     ]
    },
    {
     "name": "stderr",
     "output_type": "stream",
     "text": [
      "INFO:tensorflow:Assets written to: ram://4acb61cc-023e-4831-8827-d3049e0af023/assets\n",
      "WARNING:absl:Found untraced functions such as lstm_cell_355_layer_call_fn, lstm_cell_355_layer_call_and_return_conditional_losses, lstm_cell_356_layer_call_fn, lstm_cell_356_layer_call_and_return_conditional_losses, lstm_cell_358_layer_call_fn while saving (showing 5 of 8). These functions will not be directly callable after loading.\n"
     ]
    },
    {
     "name": "stdout",
     "output_type": "stream",
     "text": [
      "INFO:tensorflow:Assets written to: models/bilstm-all_features-s200-p3/assets\n"
     ]
    },
    {
     "name": "stderr",
     "output_type": "stream",
     "text": [
      "INFO:tensorflow:Assets written to: models/bilstm-all_features-s200-p3/assets\n"
     ]
    },
    {
     "name": "stdout",
     "output_type": "stream",
     "text": [
      "221/221 [==============================] - 1s 1ms/step\n"
     ]
    },
    {
     "name": "stderr",
     "output_type": "stream",
     "text": [
      "WARNING:absl:Found untraced functions such as lstm_cell_361_layer_call_fn, lstm_cell_361_layer_call_and_return_conditional_losses, lstm_cell_362_layer_call_fn, lstm_cell_362_layer_call_and_return_conditional_losses, lstm_cell_364_layer_call_fn while saving (showing 5 of 8). These functions will not be directly callable after loading.\n"
     ]
    },
    {
     "name": "stdout",
     "output_type": "stream",
     "text": [
      "INFO:tensorflow:Assets written to: ram://2d3804f7-97da-46cf-99d8-5d24b0339c5e/assets\n"
     ]
    },
    {
     "name": "stderr",
     "output_type": "stream",
     "text": [
      "INFO:tensorflow:Assets written to: ram://2d3804f7-97da-46cf-99d8-5d24b0339c5e/assets\n",
      "WARNING:absl:Found untraced functions such as lstm_cell_361_layer_call_fn, lstm_cell_361_layer_call_and_return_conditional_losses, lstm_cell_362_layer_call_fn, lstm_cell_362_layer_call_and_return_conditional_losses, lstm_cell_364_layer_call_fn while saving (showing 5 of 8). These functions will not be directly callable after loading.\n"
     ]
    },
    {
     "name": "stdout",
     "output_type": "stream",
     "text": [
      "INFO:tensorflow:Assets written to: models/bilstm-w5_features-s200-p0/assets\n"
     ]
    },
    {
     "name": "stderr",
     "output_type": "stream",
     "text": [
      "INFO:tensorflow:Assets written to: models/bilstm-w5_features-s200-p0/assets\n"
     ]
    },
    {
     "name": "stdout",
     "output_type": "stream",
     "text": [
      "221/221 [==============================] - 1s 2ms/step\n"
     ]
    },
    {
     "name": "stderr",
     "output_type": "stream",
     "text": [
      "WARNING:absl:Found untraced functions such as lstm_cell_367_layer_call_fn, lstm_cell_367_layer_call_and_return_conditional_losses, lstm_cell_368_layer_call_fn, lstm_cell_368_layer_call_and_return_conditional_losses, lstm_cell_370_layer_call_fn while saving (showing 5 of 8). These functions will not be directly callable after loading.\n"
     ]
    },
    {
     "name": "stdout",
     "output_type": "stream",
     "text": [
      "INFO:tensorflow:Assets written to: ram://0042a548-0dc0-4360-b253-5c7d6197403d/assets\n"
     ]
    },
    {
     "name": "stderr",
     "output_type": "stream",
     "text": [
      "INFO:tensorflow:Assets written to: ram://0042a548-0dc0-4360-b253-5c7d6197403d/assets\n",
      "WARNING:absl:Found untraced functions such as lstm_cell_367_layer_call_fn, lstm_cell_367_layer_call_and_return_conditional_losses, lstm_cell_368_layer_call_fn, lstm_cell_368_layer_call_and_return_conditional_losses, lstm_cell_370_layer_call_fn while saving (showing 5 of 8). These functions will not be directly callable after loading.\n"
     ]
    },
    {
     "name": "stdout",
     "output_type": "stream",
     "text": [
      "INFO:tensorflow:Assets written to: models/bilstm-w5_features-s200-p1/assets\n"
     ]
    },
    {
     "name": "stderr",
     "output_type": "stream",
     "text": [
      "INFO:tensorflow:Assets written to: models/bilstm-w5_features-s200-p1/assets\n"
     ]
    },
    {
     "name": "stdout",
     "output_type": "stream",
     "text": [
      "221/221 [==============================] - 1s 2ms/step\n"
     ]
    },
    {
     "name": "stderr",
     "output_type": "stream",
     "text": [
      "WARNING:absl:Found untraced functions such as lstm_cell_373_layer_call_fn, lstm_cell_373_layer_call_and_return_conditional_losses, lstm_cell_374_layer_call_fn, lstm_cell_374_layer_call_and_return_conditional_losses, lstm_cell_376_layer_call_fn while saving (showing 5 of 8). These functions will not be directly callable after loading.\n"
     ]
    },
    {
     "name": "stdout",
     "output_type": "stream",
     "text": [
      "INFO:tensorflow:Assets written to: ram://7ca40c31-8738-4a2b-8756-d584ae52e72a/assets\n"
     ]
    },
    {
     "name": "stderr",
     "output_type": "stream",
     "text": [
      "INFO:tensorflow:Assets written to: ram://7ca40c31-8738-4a2b-8756-d584ae52e72a/assets\n",
      "WARNING:absl:Found untraced functions such as lstm_cell_373_layer_call_fn, lstm_cell_373_layer_call_and_return_conditional_losses, lstm_cell_374_layer_call_fn, lstm_cell_374_layer_call_and_return_conditional_losses, lstm_cell_376_layer_call_fn while saving (showing 5 of 8). These functions will not be directly callable after loading.\n"
     ]
    },
    {
     "name": "stdout",
     "output_type": "stream",
     "text": [
      "INFO:tensorflow:Assets written to: models/bilstm-w5_features-s200-p2/assets\n"
     ]
    },
    {
     "name": "stderr",
     "output_type": "stream",
     "text": [
      "INFO:tensorflow:Assets written to: models/bilstm-w5_features-s200-p2/assets\n"
     ]
    },
    {
     "name": "stdout",
     "output_type": "stream",
     "text": [
      "221/221 [==============================] - 1s 2ms/step\n"
     ]
    },
    {
     "name": "stderr",
     "output_type": "stream",
     "text": [
      "WARNING:absl:Found untraced functions such as lstm_cell_379_layer_call_fn, lstm_cell_379_layer_call_and_return_conditional_losses, lstm_cell_380_layer_call_fn, lstm_cell_380_layer_call_and_return_conditional_losses, lstm_cell_382_layer_call_fn while saving (showing 5 of 8). These functions will not be directly callable after loading.\n"
     ]
    },
    {
     "name": "stdout",
     "output_type": "stream",
     "text": [
      "INFO:tensorflow:Assets written to: ram://0aa0a8ac-5b49-41d9-a277-1430d9343ca4/assets\n"
     ]
    },
    {
     "name": "stderr",
     "output_type": "stream",
     "text": [
      "INFO:tensorflow:Assets written to: ram://0aa0a8ac-5b49-41d9-a277-1430d9343ca4/assets\n",
      "WARNING:absl:Found untraced functions such as lstm_cell_379_layer_call_fn, lstm_cell_379_layer_call_and_return_conditional_losses, lstm_cell_380_layer_call_fn, lstm_cell_380_layer_call_and_return_conditional_losses, lstm_cell_382_layer_call_fn while saving (showing 5 of 8). These functions will not be directly callable after loading.\n"
     ]
    },
    {
     "name": "stdout",
     "output_type": "stream",
     "text": [
      "INFO:tensorflow:Assets written to: models/bilstm-w5_features-s200-p3/assets\n"
     ]
    },
    {
     "name": "stderr",
     "output_type": "stream",
     "text": [
      "INFO:tensorflow:Assets written to: models/bilstm-w5_features-s200-p3/assets\n"
     ]
    },
    {
     "name": "stdout",
     "output_type": "stream",
     "text": [
      "221/221 [==============================] - 1s 1ms/step\n"
     ]
    },
    {
     "name": "stderr",
     "output_type": "stream",
     "text": [
      "WARNING:absl:Found untraced functions such as lstm_cell_385_layer_call_fn, lstm_cell_385_layer_call_and_return_conditional_losses, lstm_cell_386_layer_call_fn, lstm_cell_386_layer_call_and_return_conditional_losses, lstm_cell_388_layer_call_fn while saving (showing 5 of 8). These functions will not be directly callable after loading.\n"
     ]
    },
    {
     "name": "stdout",
     "output_type": "stream",
     "text": [
      "INFO:tensorflow:Assets written to: ram://720bab60-09e4-46cf-9d32-9c2337abc949/assets\n"
     ]
    },
    {
     "name": "stderr",
     "output_type": "stream",
     "text": [
      "INFO:tensorflow:Assets written to: ram://720bab60-09e4-46cf-9d32-9c2337abc949/assets\n",
      "WARNING:absl:Found untraced functions such as lstm_cell_385_layer_call_fn, lstm_cell_385_layer_call_and_return_conditional_losses, lstm_cell_386_layer_call_fn, lstm_cell_386_layer_call_and_return_conditional_losses, lstm_cell_388_layer_call_fn while saving (showing 5 of 8). These functions will not be directly callable after loading.\n"
     ]
    },
    {
     "name": "stdout",
     "output_type": "stream",
     "text": [
      "INFO:tensorflow:Assets written to: models/bilstm-w10_features-s200-p0/assets\n"
     ]
    },
    {
     "name": "stderr",
     "output_type": "stream",
     "text": [
      "INFO:tensorflow:Assets written to: models/bilstm-w10_features-s200-p0/assets\n"
     ]
    },
    {
     "name": "stdout",
     "output_type": "stream",
     "text": [
      "221/221 [==============================] - 1s 1ms/step\n"
     ]
    },
    {
     "name": "stderr",
     "output_type": "stream",
     "text": [
      "WARNING:absl:Found untraced functions such as lstm_cell_391_layer_call_fn, lstm_cell_391_layer_call_and_return_conditional_losses, lstm_cell_392_layer_call_fn, lstm_cell_392_layer_call_and_return_conditional_losses, lstm_cell_394_layer_call_fn while saving (showing 5 of 8). These functions will not be directly callable after loading.\n"
     ]
    },
    {
     "name": "stdout",
     "output_type": "stream",
     "text": [
      "INFO:tensorflow:Assets written to: ram://6ab9dd78-862e-41ec-b2b8-f890e8476f24/assets\n"
     ]
    },
    {
     "name": "stderr",
     "output_type": "stream",
     "text": [
      "INFO:tensorflow:Assets written to: ram://6ab9dd78-862e-41ec-b2b8-f890e8476f24/assets\n",
      "WARNING:absl:Found untraced functions such as lstm_cell_391_layer_call_fn, lstm_cell_391_layer_call_and_return_conditional_losses, lstm_cell_392_layer_call_fn, lstm_cell_392_layer_call_and_return_conditional_losses, lstm_cell_394_layer_call_fn while saving (showing 5 of 8). These functions will not be directly callable after loading.\n"
     ]
    },
    {
     "name": "stdout",
     "output_type": "stream",
     "text": [
      "INFO:tensorflow:Assets written to: models/bilstm-w10_features-s200-p1/assets\n"
     ]
    },
    {
     "name": "stderr",
     "output_type": "stream",
     "text": [
      "INFO:tensorflow:Assets written to: models/bilstm-w10_features-s200-p1/assets\n"
     ]
    },
    {
     "name": "stdout",
     "output_type": "stream",
     "text": [
      "221/221 [==============================] - 1s 2ms/step\n"
     ]
    },
    {
     "name": "stderr",
     "output_type": "stream",
     "text": [
      "WARNING:absl:Found untraced functions such as lstm_cell_397_layer_call_fn, lstm_cell_397_layer_call_and_return_conditional_losses, lstm_cell_398_layer_call_fn, lstm_cell_398_layer_call_and_return_conditional_losses, lstm_cell_400_layer_call_fn while saving (showing 5 of 8). These functions will not be directly callable after loading.\n"
     ]
    },
    {
     "name": "stdout",
     "output_type": "stream",
     "text": [
      "INFO:tensorflow:Assets written to: ram://1df8115c-d3fa-4cc4-9e1d-27a845838b13/assets\n"
     ]
    },
    {
     "name": "stderr",
     "output_type": "stream",
     "text": [
      "INFO:tensorflow:Assets written to: ram://1df8115c-d3fa-4cc4-9e1d-27a845838b13/assets\n",
      "WARNING:absl:Found untraced functions such as lstm_cell_397_layer_call_fn, lstm_cell_397_layer_call_and_return_conditional_losses, lstm_cell_398_layer_call_fn, lstm_cell_398_layer_call_and_return_conditional_losses, lstm_cell_400_layer_call_fn while saving (showing 5 of 8). These functions will not be directly callable after loading.\n"
     ]
    },
    {
     "name": "stdout",
     "output_type": "stream",
     "text": [
      "INFO:tensorflow:Assets written to: models/bilstm-w10_features-s200-p2/assets\n"
     ]
    },
    {
     "name": "stderr",
     "output_type": "stream",
     "text": [
      "INFO:tensorflow:Assets written to: models/bilstm-w10_features-s200-p2/assets\n"
     ]
    },
    {
     "name": "stdout",
     "output_type": "stream",
     "text": [
      "221/221 [==============================] - 1s 2ms/step\n"
     ]
    },
    {
     "name": "stderr",
     "output_type": "stream",
     "text": [
      "WARNING:absl:Found untraced functions such as lstm_cell_403_layer_call_fn, lstm_cell_403_layer_call_and_return_conditional_losses, lstm_cell_404_layer_call_fn, lstm_cell_404_layer_call_and_return_conditional_losses, lstm_cell_406_layer_call_fn while saving (showing 5 of 8). These functions will not be directly callable after loading.\n"
     ]
    },
    {
     "name": "stdout",
     "output_type": "stream",
     "text": [
      "INFO:tensorflow:Assets written to: ram://003cc823-e447-4427-84fa-2222e66c412f/assets\n"
     ]
    },
    {
     "name": "stderr",
     "output_type": "stream",
     "text": [
      "INFO:tensorflow:Assets written to: ram://003cc823-e447-4427-84fa-2222e66c412f/assets\n",
      "WARNING:absl:Found untraced functions such as lstm_cell_403_layer_call_fn, lstm_cell_403_layer_call_and_return_conditional_losses, lstm_cell_404_layer_call_fn, lstm_cell_404_layer_call_and_return_conditional_losses, lstm_cell_406_layer_call_fn while saving (showing 5 of 8). These functions will not be directly callable after loading.\n"
     ]
    },
    {
     "name": "stdout",
     "output_type": "stream",
     "text": [
      "INFO:tensorflow:Assets written to: models/bilstm-w10_features-s200-p3/assets\n"
     ]
    },
    {
     "name": "stderr",
     "output_type": "stream",
     "text": [
      "INFO:tensorflow:Assets written to: models/bilstm-w10_features-s200-p3/assets\n"
     ]
    },
    {
     "name": "stdout",
     "output_type": "stream",
     "text": [
      "221/221 [==============================] - 1s 1ms/step\n"
     ]
    },
    {
     "name": "stderr",
     "output_type": "stream",
     "text": [
      "WARNING:absl:Found untraced functions such as lstm_cell_409_layer_call_fn, lstm_cell_409_layer_call_and_return_conditional_losses, lstm_cell_410_layer_call_fn, lstm_cell_410_layer_call_and_return_conditional_losses, lstm_cell_412_layer_call_fn while saving (showing 5 of 8). These functions will not be directly callable after loading.\n"
     ]
    },
    {
     "name": "stdout",
     "output_type": "stream",
     "text": [
      "INFO:tensorflow:Assets written to: ram://8a6c7c60-ac02-444d-bb2a-ab4fc53549c4/assets\n"
     ]
    },
    {
     "name": "stderr",
     "output_type": "stream",
     "text": [
      "INFO:tensorflow:Assets written to: ram://8a6c7c60-ac02-444d-bb2a-ab4fc53549c4/assets\n",
      "WARNING:absl:Found untraced functions such as lstm_cell_409_layer_call_fn, lstm_cell_409_layer_call_and_return_conditional_losses, lstm_cell_410_layer_call_fn, lstm_cell_410_layer_call_and_return_conditional_losses, lstm_cell_412_layer_call_fn while saving (showing 5 of 8). These functions will not be directly callable after loading.\n"
     ]
    },
    {
     "name": "stdout",
     "output_type": "stream",
     "text": [
      "INFO:tensorflow:Assets written to: models/bilstm-w15_features-s200-p0/assets\n"
     ]
    },
    {
     "name": "stderr",
     "output_type": "stream",
     "text": [
      "INFO:tensorflow:Assets written to: models/bilstm-w15_features-s200-p0/assets\n"
     ]
    },
    {
     "name": "stdout",
     "output_type": "stream",
     "text": [
      "221/221 [==============================] - 1s 1ms/step\n"
     ]
    },
    {
     "name": "stderr",
     "output_type": "stream",
     "text": [
      "WARNING:absl:Found untraced functions such as lstm_cell_415_layer_call_fn, lstm_cell_415_layer_call_and_return_conditional_losses, lstm_cell_416_layer_call_fn, lstm_cell_416_layer_call_and_return_conditional_losses, lstm_cell_418_layer_call_fn while saving (showing 5 of 8). These functions will not be directly callable after loading.\n"
     ]
    },
    {
     "name": "stdout",
     "output_type": "stream",
     "text": [
      "INFO:tensorflow:Assets written to: ram://2bcb5bcd-8222-49eb-9a35-c3290b713c5a/assets\n"
     ]
    },
    {
     "name": "stderr",
     "output_type": "stream",
     "text": [
      "INFO:tensorflow:Assets written to: ram://2bcb5bcd-8222-49eb-9a35-c3290b713c5a/assets\n",
      "WARNING:absl:Found untraced functions such as lstm_cell_415_layer_call_fn, lstm_cell_415_layer_call_and_return_conditional_losses, lstm_cell_416_layer_call_fn, lstm_cell_416_layer_call_and_return_conditional_losses, lstm_cell_418_layer_call_fn while saving (showing 5 of 8). These functions will not be directly callable after loading.\n"
     ]
    },
    {
     "name": "stdout",
     "output_type": "stream",
     "text": [
      "INFO:tensorflow:Assets written to: models/bilstm-w15_features-s200-p1/assets\n"
     ]
    },
    {
     "name": "stderr",
     "output_type": "stream",
     "text": [
      "INFO:tensorflow:Assets written to: models/bilstm-w15_features-s200-p1/assets\n"
     ]
    },
    {
     "name": "stdout",
     "output_type": "stream",
     "text": [
      "221/221 [==============================] - 1s 1ms/step\n"
     ]
    },
    {
     "name": "stderr",
     "output_type": "stream",
     "text": [
      "WARNING:absl:Found untraced functions such as lstm_cell_421_layer_call_fn, lstm_cell_421_layer_call_and_return_conditional_losses, lstm_cell_422_layer_call_fn, lstm_cell_422_layer_call_and_return_conditional_losses, lstm_cell_424_layer_call_fn while saving (showing 5 of 8). These functions will not be directly callable after loading.\n"
     ]
    },
    {
     "name": "stdout",
     "output_type": "stream",
     "text": [
      "INFO:tensorflow:Assets written to: ram://aa7ac2b5-7211-4a64-8c1b-81b53b64f7ec/assets\n"
     ]
    },
    {
     "name": "stderr",
     "output_type": "stream",
     "text": [
      "INFO:tensorflow:Assets written to: ram://aa7ac2b5-7211-4a64-8c1b-81b53b64f7ec/assets\n",
      "WARNING:absl:Found untraced functions such as lstm_cell_421_layer_call_fn, lstm_cell_421_layer_call_and_return_conditional_losses, lstm_cell_422_layer_call_fn, lstm_cell_422_layer_call_and_return_conditional_losses, lstm_cell_424_layer_call_fn while saving (showing 5 of 8). These functions will not be directly callable after loading.\n"
     ]
    },
    {
     "name": "stdout",
     "output_type": "stream",
     "text": [
      "INFO:tensorflow:Assets written to: models/bilstm-w15_features-s200-p2/assets\n"
     ]
    },
    {
     "name": "stderr",
     "output_type": "stream",
     "text": [
      "INFO:tensorflow:Assets written to: models/bilstm-w15_features-s200-p2/assets\n"
     ]
    },
    {
     "name": "stdout",
     "output_type": "stream",
     "text": [
      "221/221 [==============================] - 1s 2ms/step\n"
     ]
    },
    {
     "name": "stderr",
     "output_type": "stream",
     "text": [
      "WARNING:absl:Found untraced functions such as lstm_cell_427_layer_call_fn, lstm_cell_427_layer_call_and_return_conditional_losses, lstm_cell_428_layer_call_fn, lstm_cell_428_layer_call_and_return_conditional_losses, lstm_cell_430_layer_call_fn while saving (showing 5 of 8). These functions will not be directly callable after loading.\n"
     ]
    },
    {
     "name": "stdout",
     "output_type": "stream",
     "text": [
      "INFO:tensorflow:Assets written to: ram://d71434f4-ce56-459a-a8b6-44c85ac2d828/assets\n"
     ]
    },
    {
     "name": "stderr",
     "output_type": "stream",
     "text": [
      "INFO:tensorflow:Assets written to: ram://d71434f4-ce56-459a-a8b6-44c85ac2d828/assets\n",
      "WARNING:absl:Found untraced functions such as lstm_cell_427_layer_call_fn, lstm_cell_427_layer_call_and_return_conditional_losses, lstm_cell_428_layer_call_fn, lstm_cell_428_layer_call_and_return_conditional_losses, lstm_cell_430_layer_call_fn while saving (showing 5 of 8). These functions will not be directly callable after loading.\n"
     ]
    },
    {
     "name": "stdout",
     "output_type": "stream",
     "text": [
      "INFO:tensorflow:Assets written to: models/bilstm-w15_features-s200-p3/assets\n"
     ]
    },
    {
     "name": "stderr",
     "output_type": "stream",
     "text": [
      "INFO:tensorflow:Assets written to: models/bilstm-w15_features-s200-p3/assets\n"
     ]
    },
    {
     "name": "stdout",
     "output_type": "stream",
     "text": [
      "221/221 [==============================] - 1s 1ms/step\n"
     ]
    },
    {
     "name": "stderr",
     "output_type": "stream",
     "text": [
      "WARNING:absl:Found untraced functions such as lstm_cell_433_layer_call_fn, lstm_cell_433_layer_call_and_return_conditional_losses, lstm_cell_434_layer_call_fn, lstm_cell_434_layer_call_and_return_conditional_losses, lstm_cell_436_layer_call_fn while saving (showing 5 of 8). These functions will not be directly callable after loading.\n"
     ]
    },
    {
     "name": "stdout",
     "output_type": "stream",
     "text": [
      "INFO:tensorflow:Assets written to: ram://6dd896f3-5874-4479-b37c-22ae7d693ec1/assets\n"
     ]
    },
    {
     "name": "stderr",
     "output_type": "stream",
     "text": [
      "INFO:tensorflow:Assets written to: ram://6dd896f3-5874-4479-b37c-22ae7d693ec1/assets\n",
      "WARNING:absl:Found untraced functions such as lstm_cell_433_layer_call_fn, lstm_cell_433_layer_call_and_return_conditional_losses, lstm_cell_434_layer_call_fn, lstm_cell_434_layer_call_and_return_conditional_losses, lstm_cell_436_layer_call_fn while saving (showing 5 of 8). These functions will not be directly callable after loading.\n"
     ]
    },
    {
     "name": "stdout",
     "output_type": "stream",
     "text": [
      "INFO:tensorflow:Assets written to: models/bilstm-w20_features-s200-p0/assets\n"
     ]
    },
    {
     "name": "stderr",
     "output_type": "stream",
     "text": [
      "INFO:tensorflow:Assets written to: models/bilstm-w20_features-s200-p0/assets\n"
     ]
    },
    {
     "name": "stdout",
     "output_type": "stream",
     "text": [
      "221/221 [==============================] - 1s 1ms/step\n"
     ]
    },
    {
     "name": "stderr",
     "output_type": "stream",
     "text": [
      "WARNING:absl:Found untraced functions such as lstm_cell_439_layer_call_fn, lstm_cell_439_layer_call_and_return_conditional_losses, lstm_cell_440_layer_call_fn, lstm_cell_440_layer_call_and_return_conditional_losses, lstm_cell_442_layer_call_fn while saving (showing 5 of 8). These functions will not be directly callable after loading.\n"
     ]
    },
    {
     "name": "stdout",
     "output_type": "stream",
     "text": [
      "INFO:tensorflow:Assets written to: ram://ca939cd8-5ebf-4b99-a8d7-7380966ea37f/assets\n"
     ]
    },
    {
     "name": "stderr",
     "output_type": "stream",
     "text": [
      "INFO:tensorflow:Assets written to: ram://ca939cd8-5ebf-4b99-a8d7-7380966ea37f/assets\n",
      "WARNING:absl:Found untraced functions such as lstm_cell_439_layer_call_fn, lstm_cell_439_layer_call_and_return_conditional_losses, lstm_cell_440_layer_call_fn, lstm_cell_440_layer_call_and_return_conditional_losses, lstm_cell_442_layer_call_fn while saving (showing 5 of 8). These functions will not be directly callable after loading.\n"
     ]
    },
    {
     "name": "stdout",
     "output_type": "stream",
     "text": [
      "INFO:tensorflow:Assets written to: models/bilstm-w20_features-s200-p1/assets\n"
     ]
    },
    {
     "name": "stderr",
     "output_type": "stream",
     "text": [
      "INFO:tensorflow:Assets written to: models/bilstm-w20_features-s200-p1/assets\n"
     ]
    },
    {
     "name": "stdout",
     "output_type": "stream",
     "text": [
      "221/221 [==============================] - 1s 2ms/step\n"
     ]
    },
    {
     "name": "stderr",
     "output_type": "stream",
     "text": [
      "WARNING:absl:Found untraced functions such as lstm_cell_445_layer_call_fn, lstm_cell_445_layer_call_and_return_conditional_losses, lstm_cell_446_layer_call_fn, lstm_cell_446_layer_call_and_return_conditional_losses, lstm_cell_448_layer_call_fn while saving (showing 5 of 8). These functions will not be directly callable after loading.\n"
     ]
    },
    {
     "name": "stdout",
     "output_type": "stream",
     "text": [
      "INFO:tensorflow:Assets written to: ram://da2f1824-d845-4b47-a3ea-f5debf977c93/assets\n"
     ]
    },
    {
     "name": "stderr",
     "output_type": "stream",
     "text": [
      "INFO:tensorflow:Assets written to: ram://da2f1824-d845-4b47-a3ea-f5debf977c93/assets\n",
      "WARNING:absl:Found untraced functions such as lstm_cell_445_layer_call_fn, lstm_cell_445_layer_call_and_return_conditional_losses, lstm_cell_446_layer_call_fn, lstm_cell_446_layer_call_and_return_conditional_losses, lstm_cell_448_layer_call_fn while saving (showing 5 of 8). These functions will not be directly callable after loading.\n"
     ]
    },
    {
     "name": "stdout",
     "output_type": "stream",
     "text": [
      "INFO:tensorflow:Assets written to: models/bilstm-w20_features-s200-p2/assets\n"
     ]
    },
    {
     "name": "stderr",
     "output_type": "stream",
     "text": [
      "INFO:tensorflow:Assets written to: models/bilstm-w20_features-s200-p2/assets\n"
     ]
    },
    {
     "name": "stdout",
     "output_type": "stream",
     "text": [
      "221/221 [==============================] - 1s 2ms/step\n"
     ]
    },
    {
     "name": "stderr",
     "output_type": "stream",
     "text": [
      "WARNING:absl:Found untraced functions such as lstm_cell_451_layer_call_fn, lstm_cell_451_layer_call_and_return_conditional_losses, lstm_cell_452_layer_call_fn, lstm_cell_452_layer_call_and_return_conditional_losses, lstm_cell_454_layer_call_fn while saving (showing 5 of 8). These functions will not be directly callable after loading.\n"
     ]
    },
    {
     "name": "stdout",
     "output_type": "stream",
     "text": [
      "INFO:tensorflow:Assets written to: ram://1b1882a3-2cbd-4850-9451-073bc7fb0f46/assets\n"
     ]
    },
    {
     "name": "stderr",
     "output_type": "stream",
     "text": [
      "INFO:tensorflow:Assets written to: ram://1b1882a3-2cbd-4850-9451-073bc7fb0f46/assets\n",
      "WARNING:absl:Found untraced functions such as lstm_cell_451_layer_call_fn, lstm_cell_451_layer_call_and_return_conditional_losses, lstm_cell_452_layer_call_fn, lstm_cell_452_layer_call_and_return_conditional_losses, lstm_cell_454_layer_call_fn while saving (showing 5 of 8). These functions will not be directly callable after loading.\n"
     ]
    },
    {
     "name": "stdout",
     "output_type": "stream",
     "text": [
      "INFO:tensorflow:Assets written to: models/bilstm-w20_features-s200-p3/assets\n"
     ]
    },
    {
     "name": "stderr",
     "output_type": "stream",
     "text": [
      "INFO:tensorflow:Assets written to: models/bilstm-w20_features-s200-p3/assets\n"
     ]
    },
    {
     "name": "stdout",
     "output_type": "stream",
     "text": [
      "221/221 [==============================] - 1s 1ms/step\n"
     ]
    },
    {
     "name": "stderr",
     "output_type": "stream",
     "text": [
      "WARNING:absl:Found untraced functions such as lstm_cell_457_layer_call_fn, lstm_cell_457_layer_call_and_return_conditional_losses, lstm_cell_458_layer_call_fn, lstm_cell_458_layer_call_and_return_conditional_losses, lstm_cell_460_layer_call_fn while saving (showing 5 of 8). These functions will not be directly callable after loading.\n"
     ]
    },
    {
     "name": "stdout",
     "output_type": "stream",
     "text": [
      "INFO:tensorflow:Assets written to: ram://226688bf-3cec-4955-82a3-adc9e0b4f18a/assets\n"
     ]
    },
    {
     "name": "stderr",
     "output_type": "stream",
     "text": [
      "INFO:tensorflow:Assets written to: ram://226688bf-3cec-4955-82a3-adc9e0b4f18a/assets\n",
      "WARNING:absl:Found untraced functions such as lstm_cell_457_layer_call_fn, lstm_cell_457_layer_call_and_return_conditional_losses, lstm_cell_458_layer_call_fn, lstm_cell_458_layer_call_and_return_conditional_losses, lstm_cell_460_layer_call_fn while saving (showing 5 of 8). These functions will not be directly callable after loading.\n"
     ]
    },
    {
     "name": "stdout",
     "output_type": "stream",
     "text": [
      "INFO:tensorflow:Assets written to: models/bilstm-no_diff_features-s200-p0/assets\n"
     ]
    },
    {
     "name": "stderr",
     "output_type": "stream",
     "text": [
      "INFO:tensorflow:Assets written to: models/bilstm-no_diff_features-s200-p0/assets\n"
     ]
    },
    {
     "name": "stdout",
     "output_type": "stream",
     "text": [
      "221/221 [==============================] - 1s 2ms/step\n"
     ]
    },
    {
     "name": "stderr",
     "output_type": "stream",
     "text": [
      "WARNING:absl:Found untraced functions such as lstm_cell_463_layer_call_fn, lstm_cell_463_layer_call_and_return_conditional_losses, lstm_cell_464_layer_call_fn, lstm_cell_464_layer_call_and_return_conditional_losses, lstm_cell_466_layer_call_fn while saving (showing 5 of 8). These functions will not be directly callable after loading.\n"
     ]
    },
    {
     "name": "stdout",
     "output_type": "stream",
     "text": [
      "INFO:tensorflow:Assets written to: ram://f17ef68d-361e-4f3b-8ec5-db481b62a67a/assets\n"
     ]
    },
    {
     "name": "stderr",
     "output_type": "stream",
     "text": [
      "INFO:tensorflow:Assets written to: ram://f17ef68d-361e-4f3b-8ec5-db481b62a67a/assets\n",
      "WARNING:absl:Found untraced functions such as lstm_cell_463_layer_call_fn, lstm_cell_463_layer_call_and_return_conditional_losses, lstm_cell_464_layer_call_fn, lstm_cell_464_layer_call_and_return_conditional_losses, lstm_cell_466_layer_call_fn while saving (showing 5 of 8). These functions will not be directly callable after loading.\n"
     ]
    },
    {
     "name": "stdout",
     "output_type": "stream",
     "text": [
      "INFO:tensorflow:Assets written to: models/bilstm-no_diff_features-s200-p1/assets\n"
     ]
    },
    {
     "name": "stderr",
     "output_type": "stream",
     "text": [
      "INFO:tensorflow:Assets written to: models/bilstm-no_diff_features-s200-p1/assets\n"
     ]
    },
    {
     "name": "stdout",
     "output_type": "stream",
     "text": [
      "221/221 [==============================] - 1s 2ms/step\n"
     ]
    },
    {
     "name": "stderr",
     "output_type": "stream",
     "text": [
      "WARNING:absl:Found untraced functions such as lstm_cell_469_layer_call_fn, lstm_cell_469_layer_call_and_return_conditional_losses, lstm_cell_470_layer_call_fn, lstm_cell_470_layer_call_and_return_conditional_losses, lstm_cell_472_layer_call_fn while saving (showing 5 of 8). These functions will not be directly callable after loading.\n"
     ]
    },
    {
     "name": "stdout",
     "output_type": "stream",
     "text": [
      "INFO:tensorflow:Assets written to: ram://74d09514-4b46-4eca-9d6a-5da44c2056e2/assets\n"
     ]
    },
    {
     "name": "stderr",
     "output_type": "stream",
     "text": [
      "INFO:tensorflow:Assets written to: ram://74d09514-4b46-4eca-9d6a-5da44c2056e2/assets\n",
      "WARNING:absl:Found untraced functions such as lstm_cell_469_layer_call_fn, lstm_cell_469_layer_call_and_return_conditional_losses, lstm_cell_470_layer_call_fn, lstm_cell_470_layer_call_and_return_conditional_losses, lstm_cell_472_layer_call_fn while saving (showing 5 of 8). These functions will not be directly callable after loading.\n"
     ]
    },
    {
     "name": "stdout",
     "output_type": "stream",
     "text": [
      "INFO:tensorflow:Assets written to: models/bilstm-no_diff_features-s200-p2/assets\n"
     ]
    },
    {
     "name": "stderr",
     "output_type": "stream",
     "text": [
      "INFO:tensorflow:Assets written to: models/bilstm-no_diff_features-s200-p2/assets\n"
     ]
    },
    {
     "name": "stdout",
     "output_type": "stream",
     "text": [
      "221/221 [==============================] - 1s 2ms/step\n"
     ]
    },
    {
     "name": "stderr",
     "output_type": "stream",
     "text": [
      "WARNING:absl:Found untraced functions such as lstm_cell_475_layer_call_fn, lstm_cell_475_layer_call_and_return_conditional_losses, lstm_cell_476_layer_call_fn, lstm_cell_476_layer_call_and_return_conditional_losses, lstm_cell_478_layer_call_fn while saving (showing 5 of 8). These functions will not be directly callable after loading.\n"
     ]
    },
    {
     "name": "stdout",
     "output_type": "stream",
     "text": [
      "INFO:tensorflow:Assets written to: ram://7bf8eeeb-29e8-4356-98fe-6667d92fcaf1/assets\n"
     ]
    },
    {
     "name": "stderr",
     "output_type": "stream",
     "text": [
      "INFO:tensorflow:Assets written to: ram://7bf8eeeb-29e8-4356-98fe-6667d92fcaf1/assets\n",
      "WARNING:absl:Found untraced functions such as lstm_cell_475_layer_call_fn, lstm_cell_475_layer_call_and_return_conditional_losses, lstm_cell_476_layer_call_fn, lstm_cell_476_layer_call_and_return_conditional_losses, lstm_cell_478_layer_call_fn while saving (showing 5 of 8). These functions will not be directly callable after loading.\n"
     ]
    },
    {
     "name": "stdout",
     "output_type": "stream",
     "text": [
      "INFO:tensorflow:Assets written to: models/bilstm-no_diff_features-s200-p3/assets\n"
     ]
    },
    {
     "name": "stderr",
     "output_type": "stream",
     "text": [
      "INFO:tensorflow:Assets written to: models/bilstm-no_diff_features-s200-p3/assets\n"
     ]
    },
    {
     "name": "stdout",
     "output_type": "stream",
     "text": [
      "221/221 [==============================] - 1s 1ms/step\n"
     ]
    },
    {
     "name": "stderr",
     "output_type": "stream",
     "text": [
      "WARNING:absl:Found untraced functions such as lstm_cell_481_layer_call_fn, lstm_cell_481_layer_call_and_return_conditional_losses, lstm_cell_482_layer_call_fn, lstm_cell_482_layer_call_and_return_conditional_losses, lstm_cell_484_layer_call_fn while saving (showing 5 of 8). These functions will not be directly callable after loading.\n"
     ]
    },
    {
     "name": "stdout",
     "output_type": "stream",
     "text": [
      "INFO:tensorflow:Assets written to: ram://aeba95d7-1757-4a65-a00e-a1112d1a6978/assets\n"
     ]
    },
    {
     "name": "stderr",
     "output_type": "stream",
     "text": [
      "INFO:tensorflow:Assets written to: ram://aeba95d7-1757-4a65-a00e-a1112d1a6978/assets\n",
      "WARNING:absl:Found untraced functions such as lstm_cell_481_layer_call_fn, lstm_cell_481_layer_call_and_return_conditional_losses, lstm_cell_482_layer_call_fn, lstm_cell_482_layer_call_and_return_conditional_losses, lstm_cell_484_layer_call_fn while saving (showing 5 of 8). These functions will not be directly callable after loading.\n"
     ]
    },
    {
     "name": "stdout",
     "output_type": "stream",
     "text": [
      "INFO:tensorflow:Assets written to: models/bilstm-diff_features-s200-p0/assets\n"
     ]
    },
    {
     "name": "stderr",
     "output_type": "stream",
     "text": [
      "INFO:tensorflow:Assets written to: models/bilstm-diff_features-s200-p0/assets\n"
     ]
    },
    {
     "name": "stdout",
     "output_type": "stream",
     "text": [
      "221/221 [==============================] - 1s 1ms/step\n"
     ]
    },
    {
     "name": "stderr",
     "output_type": "stream",
     "text": [
      "WARNING:absl:Found untraced functions such as lstm_cell_487_layer_call_fn, lstm_cell_487_layer_call_and_return_conditional_losses, lstm_cell_488_layer_call_fn, lstm_cell_488_layer_call_and_return_conditional_losses, lstm_cell_490_layer_call_fn while saving (showing 5 of 8). These functions will not be directly callable after loading.\n"
     ]
    },
    {
     "name": "stdout",
     "output_type": "stream",
     "text": [
      "INFO:tensorflow:Assets written to: ram://197e3356-c57a-4b42-a829-535073048776/assets\n"
     ]
    },
    {
     "name": "stderr",
     "output_type": "stream",
     "text": [
      "INFO:tensorflow:Assets written to: ram://197e3356-c57a-4b42-a829-535073048776/assets\n",
      "WARNING:absl:Found untraced functions such as lstm_cell_487_layer_call_fn, lstm_cell_487_layer_call_and_return_conditional_losses, lstm_cell_488_layer_call_fn, lstm_cell_488_layer_call_and_return_conditional_losses, lstm_cell_490_layer_call_fn while saving (showing 5 of 8). These functions will not be directly callable after loading.\n"
     ]
    },
    {
     "name": "stdout",
     "output_type": "stream",
     "text": [
      "INFO:tensorflow:Assets written to: models/bilstm-diff_features-s200-p1/assets\n"
     ]
    },
    {
     "name": "stderr",
     "output_type": "stream",
     "text": [
      "INFO:tensorflow:Assets written to: models/bilstm-diff_features-s200-p1/assets\n"
     ]
    },
    {
     "name": "stdout",
     "output_type": "stream",
     "text": [
      "221/221 [==============================] - 1s 2ms/step\n"
     ]
    },
    {
     "name": "stderr",
     "output_type": "stream",
     "text": [
      "WARNING:absl:Found untraced functions such as lstm_cell_493_layer_call_fn, lstm_cell_493_layer_call_and_return_conditional_losses, lstm_cell_494_layer_call_fn, lstm_cell_494_layer_call_and_return_conditional_losses, lstm_cell_496_layer_call_fn while saving (showing 5 of 8). These functions will not be directly callable after loading.\n"
     ]
    },
    {
     "name": "stdout",
     "output_type": "stream",
     "text": [
      "INFO:tensorflow:Assets written to: ram://0c244453-1fb4-4022-8a4f-ece6fa68bd7e/assets\n"
     ]
    },
    {
     "name": "stderr",
     "output_type": "stream",
     "text": [
      "INFO:tensorflow:Assets written to: ram://0c244453-1fb4-4022-8a4f-ece6fa68bd7e/assets\n",
      "WARNING:absl:Found untraced functions such as lstm_cell_493_layer_call_fn, lstm_cell_493_layer_call_and_return_conditional_losses, lstm_cell_494_layer_call_fn, lstm_cell_494_layer_call_and_return_conditional_losses, lstm_cell_496_layer_call_fn while saving (showing 5 of 8). These functions will not be directly callable after loading.\n"
     ]
    },
    {
     "name": "stdout",
     "output_type": "stream",
     "text": [
      "INFO:tensorflow:Assets written to: models/bilstm-diff_features-s200-p2/assets\n"
     ]
    },
    {
     "name": "stderr",
     "output_type": "stream",
     "text": [
      "INFO:tensorflow:Assets written to: models/bilstm-diff_features-s200-p2/assets\n"
     ]
    },
    {
     "name": "stdout",
     "output_type": "stream",
     "text": [
      "221/221 [==============================] - 1s 2ms/step\n"
     ]
    },
    {
     "name": "stderr",
     "output_type": "stream",
     "text": [
      "WARNING:absl:Found untraced functions such as lstm_cell_499_layer_call_fn, lstm_cell_499_layer_call_and_return_conditional_losses, lstm_cell_500_layer_call_fn, lstm_cell_500_layer_call_and_return_conditional_losses, lstm_cell_502_layer_call_fn while saving (showing 5 of 8). These functions will not be directly callable after loading.\n"
     ]
    },
    {
     "name": "stdout",
     "output_type": "stream",
     "text": [
      "INFO:tensorflow:Assets written to: ram://6856dbee-fd51-41de-aa64-d4f40ed6e0eb/assets\n"
     ]
    },
    {
     "name": "stderr",
     "output_type": "stream",
     "text": [
      "INFO:tensorflow:Assets written to: ram://6856dbee-fd51-41de-aa64-d4f40ed6e0eb/assets\n",
      "WARNING:absl:Found untraced functions such as lstm_cell_499_layer_call_fn, lstm_cell_499_layer_call_and_return_conditional_losses, lstm_cell_500_layer_call_fn, lstm_cell_500_layer_call_and_return_conditional_losses, lstm_cell_502_layer_call_fn while saving (showing 5 of 8). These functions will not be directly callable after loading.\n"
     ]
    },
    {
     "name": "stdout",
     "output_type": "stream",
     "text": [
      "INFO:tensorflow:Assets written to: models/bilstm-diff_features-s200-p3/assets\n"
     ]
    },
    {
     "name": "stderr",
     "output_type": "stream",
     "text": [
      "INFO:tensorflow:Assets written to: models/bilstm-diff_features-s200-p3/assets\n"
     ]
    },
    {
     "name": "stdout",
     "output_type": "stream",
     "text": [
      "221/221 [==============================] - 1s 1ms/step\n"
     ]
    },
    {
     "name": "stderr",
     "output_type": "stream",
     "text": [
      "WARNING:absl:Found untraced functions such as lstm_cell_505_layer_call_fn, lstm_cell_505_layer_call_and_return_conditional_losses, lstm_cell_506_layer_call_fn, lstm_cell_506_layer_call_and_return_conditional_losses, lstm_cell_508_layer_call_fn while saving (showing 5 of 8). These functions will not be directly callable after loading.\n"
     ]
    },
    {
     "name": "stdout",
     "output_type": "stream",
     "text": [
      "INFO:tensorflow:Assets written to: ram://a2e1eed8-3ad2-4cf5-9594-e7742f942a90/assets\n"
     ]
    },
    {
     "name": "stderr",
     "output_type": "stream",
     "text": [
      "INFO:tensorflow:Assets written to: ram://a2e1eed8-3ad2-4cf5-9594-e7742f942a90/assets\n",
      "WARNING:absl:Found untraced functions such as lstm_cell_505_layer_call_fn, lstm_cell_505_layer_call_and_return_conditional_losses, lstm_cell_506_layer_call_fn, lstm_cell_506_layer_call_and_return_conditional_losses, lstm_cell_508_layer_call_fn while saving (showing 5 of 8). These functions will not be directly callable after loading.\n"
     ]
    },
    {
     "name": "stdout",
     "output_type": "stream",
     "text": [
      "INFO:tensorflow:Assets written to: models/bilstm-all_features-s300-p0/assets\n"
     ]
    },
    {
     "name": "stderr",
     "output_type": "stream",
     "text": [
      "INFO:tensorflow:Assets written to: models/bilstm-all_features-s300-p0/assets\n"
     ]
    },
    {
     "name": "stdout",
     "output_type": "stream",
     "text": [
      "221/221 [==============================] - 1s 1ms/step\n"
     ]
    },
    {
     "name": "stderr",
     "output_type": "stream",
     "text": [
      "WARNING:absl:Found untraced functions such as lstm_cell_511_layer_call_fn, lstm_cell_511_layer_call_and_return_conditional_losses, lstm_cell_512_layer_call_fn, lstm_cell_512_layer_call_and_return_conditional_losses, lstm_cell_514_layer_call_fn while saving (showing 5 of 8). These functions will not be directly callable after loading.\n"
     ]
    },
    {
     "name": "stdout",
     "output_type": "stream",
     "text": [
      "INFO:tensorflow:Assets written to: ram://8e3326a0-fe71-486f-9991-e0cb9a1c3ed0/assets\n"
     ]
    },
    {
     "name": "stderr",
     "output_type": "stream",
     "text": [
      "INFO:tensorflow:Assets written to: ram://8e3326a0-fe71-486f-9991-e0cb9a1c3ed0/assets\n",
      "WARNING:absl:Found untraced functions such as lstm_cell_511_layer_call_fn, lstm_cell_511_layer_call_and_return_conditional_losses, lstm_cell_512_layer_call_fn, lstm_cell_512_layer_call_and_return_conditional_losses, lstm_cell_514_layer_call_fn while saving (showing 5 of 8). These functions will not be directly callable after loading.\n"
     ]
    },
    {
     "name": "stdout",
     "output_type": "stream",
     "text": [
      "INFO:tensorflow:Assets written to: models/bilstm-all_features-s300-p1/assets\n"
     ]
    },
    {
     "name": "stderr",
     "output_type": "stream",
     "text": [
      "INFO:tensorflow:Assets written to: models/bilstm-all_features-s300-p1/assets\n"
     ]
    },
    {
     "name": "stdout",
     "output_type": "stream",
     "text": [
      "221/221 [==============================] - 1s 1ms/step\n"
     ]
    },
    {
     "name": "stderr",
     "output_type": "stream",
     "text": [
      "WARNING:absl:Found untraced functions such as lstm_cell_517_layer_call_fn, lstm_cell_517_layer_call_and_return_conditional_losses, lstm_cell_518_layer_call_fn, lstm_cell_518_layer_call_and_return_conditional_losses, lstm_cell_520_layer_call_fn while saving (showing 5 of 8). These functions will not be directly callable after loading.\n"
     ]
    },
    {
     "name": "stdout",
     "output_type": "stream",
     "text": [
      "INFO:tensorflow:Assets written to: ram://82a557a4-5054-4f9f-82c8-56442ae176d6/assets\n"
     ]
    },
    {
     "name": "stderr",
     "output_type": "stream",
     "text": [
      "INFO:tensorflow:Assets written to: ram://82a557a4-5054-4f9f-82c8-56442ae176d6/assets\n",
      "WARNING:absl:Found untraced functions such as lstm_cell_517_layer_call_fn, lstm_cell_517_layer_call_and_return_conditional_losses, lstm_cell_518_layer_call_fn, lstm_cell_518_layer_call_and_return_conditional_losses, lstm_cell_520_layer_call_fn while saving (showing 5 of 8). These functions will not be directly callable after loading.\n"
     ]
    },
    {
     "name": "stdout",
     "output_type": "stream",
     "text": [
      "INFO:tensorflow:Assets written to: models/bilstm-all_features-s300-p2/assets\n"
     ]
    },
    {
     "name": "stderr",
     "output_type": "stream",
     "text": [
      "INFO:tensorflow:Assets written to: models/bilstm-all_features-s300-p2/assets\n"
     ]
    },
    {
     "name": "stdout",
     "output_type": "stream",
     "text": [
      "221/221 [==============================] - 1s 2ms/step\n"
     ]
    },
    {
     "name": "stderr",
     "output_type": "stream",
     "text": [
      "WARNING:absl:Found untraced functions such as lstm_cell_523_layer_call_fn, lstm_cell_523_layer_call_and_return_conditional_losses, lstm_cell_524_layer_call_fn, lstm_cell_524_layer_call_and_return_conditional_losses, lstm_cell_526_layer_call_fn while saving (showing 5 of 8). These functions will not be directly callable after loading.\n"
     ]
    },
    {
     "name": "stdout",
     "output_type": "stream",
     "text": [
      "INFO:tensorflow:Assets written to: ram://a0f4c8df-feaa-4f70-8ce5-b21aafe2ed9b/assets\n"
     ]
    },
    {
     "name": "stderr",
     "output_type": "stream",
     "text": [
      "INFO:tensorflow:Assets written to: ram://a0f4c8df-feaa-4f70-8ce5-b21aafe2ed9b/assets\n",
      "WARNING:absl:Found untraced functions such as lstm_cell_523_layer_call_fn, lstm_cell_523_layer_call_and_return_conditional_losses, lstm_cell_524_layer_call_fn, lstm_cell_524_layer_call_and_return_conditional_losses, lstm_cell_526_layer_call_fn while saving (showing 5 of 8). These functions will not be directly callable after loading.\n"
     ]
    },
    {
     "name": "stdout",
     "output_type": "stream",
     "text": [
      "INFO:tensorflow:Assets written to: models/bilstm-all_features-s300-p3/assets\n"
     ]
    },
    {
     "name": "stderr",
     "output_type": "stream",
     "text": [
      "INFO:tensorflow:Assets written to: models/bilstm-all_features-s300-p3/assets\n"
     ]
    },
    {
     "name": "stdout",
     "output_type": "stream",
     "text": [
      "221/221 [==============================] - 1s 1ms/step\n"
     ]
    },
    {
     "name": "stderr",
     "output_type": "stream",
     "text": [
      "WARNING:absl:Found untraced functions such as lstm_cell_529_layer_call_fn, lstm_cell_529_layer_call_and_return_conditional_losses, lstm_cell_530_layer_call_fn, lstm_cell_530_layer_call_and_return_conditional_losses, lstm_cell_532_layer_call_fn while saving (showing 5 of 8). These functions will not be directly callable after loading.\n"
     ]
    },
    {
     "name": "stdout",
     "output_type": "stream",
     "text": [
      "INFO:tensorflow:Assets written to: ram://09c434bf-86f8-4256-a7b4-a30fd8b6e841/assets\n"
     ]
    },
    {
     "name": "stderr",
     "output_type": "stream",
     "text": [
      "INFO:tensorflow:Assets written to: ram://09c434bf-86f8-4256-a7b4-a30fd8b6e841/assets\n",
      "WARNING:absl:Found untraced functions such as lstm_cell_529_layer_call_fn, lstm_cell_529_layer_call_and_return_conditional_losses, lstm_cell_530_layer_call_fn, lstm_cell_530_layer_call_and_return_conditional_losses, lstm_cell_532_layer_call_fn while saving (showing 5 of 8). These functions will not be directly callable after loading.\n"
     ]
    },
    {
     "name": "stdout",
     "output_type": "stream",
     "text": [
      "INFO:tensorflow:Assets written to: models/bilstm-w5_features-s300-p0/assets\n"
     ]
    },
    {
     "name": "stderr",
     "output_type": "stream",
     "text": [
      "INFO:tensorflow:Assets written to: models/bilstm-w5_features-s300-p0/assets\n"
     ]
    },
    {
     "name": "stdout",
     "output_type": "stream",
     "text": [
      "221/221 [==============================] - 1s 1ms/step\n"
     ]
    },
    {
     "name": "stderr",
     "output_type": "stream",
     "text": [
      "WARNING:absl:Found untraced functions such as lstm_cell_535_layer_call_fn, lstm_cell_535_layer_call_and_return_conditional_losses, lstm_cell_536_layer_call_fn, lstm_cell_536_layer_call_and_return_conditional_losses, lstm_cell_538_layer_call_fn while saving (showing 5 of 8). These functions will not be directly callable after loading.\n"
     ]
    },
    {
     "name": "stdout",
     "output_type": "stream",
     "text": [
      "INFO:tensorflow:Assets written to: ram://1cbe26ee-1777-4bf5-942c-6fc8caa6880f/assets\n"
     ]
    },
    {
     "name": "stderr",
     "output_type": "stream",
     "text": [
      "INFO:tensorflow:Assets written to: ram://1cbe26ee-1777-4bf5-942c-6fc8caa6880f/assets\n",
      "WARNING:absl:Found untraced functions such as lstm_cell_535_layer_call_fn, lstm_cell_535_layer_call_and_return_conditional_losses, lstm_cell_536_layer_call_fn, lstm_cell_536_layer_call_and_return_conditional_losses, lstm_cell_538_layer_call_fn while saving (showing 5 of 8). These functions will not be directly callable after loading.\n"
     ]
    },
    {
     "name": "stdout",
     "output_type": "stream",
     "text": [
      "INFO:tensorflow:Assets written to: models/bilstm-w5_features-s300-p1/assets\n"
     ]
    },
    {
     "name": "stderr",
     "output_type": "stream",
     "text": [
      "INFO:tensorflow:Assets written to: models/bilstm-w5_features-s300-p1/assets\n"
     ]
    },
    {
     "name": "stdout",
     "output_type": "stream",
     "text": [
      "221/221 [==============================] - 1s 1ms/step\n"
     ]
    },
    {
     "name": "stderr",
     "output_type": "stream",
     "text": [
      "WARNING:absl:Found untraced functions such as lstm_cell_541_layer_call_fn, lstm_cell_541_layer_call_and_return_conditional_losses, lstm_cell_542_layer_call_fn, lstm_cell_542_layer_call_and_return_conditional_losses, lstm_cell_544_layer_call_fn while saving (showing 5 of 8). These functions will not be directly callable after loading.\n"
     ]
    },
    {
     "name": "stdout",
     "output_type": "stream",
     "text": [
      "INFO:tensorflow:Assets written to: ram://c077290d-667c-4fd4-8e79-f651595e3559/assets\n"
     ]
    },
    {
     "name": "stderr",
     "output_type": "stream",
     "text": [
      "INFO:tensorflow:Assets written to: ram://c077290d-667c-4fd4-8e79-f651595e3559/assets\n",
      "WARNING:absl:Found untraced functions such as lstm_cell_541_layer_call_fn, lstm_cell_541_layer_call_and_return_conditional_losses, lstm_cell_542_layer_call_fn, lstm_cell_542_layer_call_and_return_conditional_losses, lstm_cell_544_layer_call_fn while saving (showing 5 of 8). These functions will not be directly callable after loading.\n"
     ]
    },
    {
     "name": "stdout",
     "output_type": "stream",
     "text": [
      "INFO:tensorflow:Assets written to: models/bilstm-w5_features-s300-p2/assets\n"
     ]
    },
    {
     "name": "stderr",
     "output_type": "stream",
     "text": [
      "INFO:tensorflow:Assets written to: models/bilstm-w5_features-s300-p2/assets\n"
     ]
    },
    {
     "name": "stdout",
     "output_type": "stream",
     "text": [
      "221/221 [==============================] - 1s 2ms/step\n"
     ]
    },
    {
     "name": "stderr",
     "output_type": "stream",
     "text": [
      "WARNING:absl:Found untraced functions such as lstm_cell_547_layer_call_fn, lstm_cell_547_layer_call_and_return_conditional_losses, lstm_cell_548_layer_call_fn, lstm_cell_548_layer_call_and_return_conditional_losses, lstm_cell_550_layer_call_fn while saving (showing 5 of 8). These functions will not be directly callable after loading.\n"
     ]
    },
    {
     "name": "stdout",
     "output_type": "stream",
     "text": [
      "INFO:tensorflow:Assets written to: ram://e7286f0b-c042-4a80-9f7d-0940a28c3fe9/assets\n"
     ]
    },
    {
     "name": "stderr",
     "output_type": "stream",
     "text": [
      "INFO:tensorflow:Assets written to: ram://e7286f0b-c042-4a80-9f7d-0940a28c3fe9/assets\n",
      "WARNING:absl:Found untraced functions such as lstm_cell_547_layer_call_fn, lstm_cell_547_layer_call_and_return_conditional_losses, lstm_cell_548_layer_call_fn, lstm_cell_548_layer_call_and_return_conditional_losses, lstm_cell_550_layer_call_fn while saving (showing 5 of 8). These functions will not be directly callable after loading.\n"
     ]
    },
    {
     "name": "stdout",
     "output_type": "stream",
     "text": [
      "INFO:tensorflow:Assets written to: models/bilstm-w5_features-s300-p3/assets\n"
     ]
    },
    {
     "name": "stderr",
     "output_type": "stream",
     "text": [
      "INFO:tensorflow:Assets written to: models/bilstm-w5_features-s300-p3/assets\n"
     ]
    },
    {
     "name": "stdout",
     "output_type": "stream",
     "text": [
      "221/221 [==============================] - 1s 1ms/step\n"
     ]
    },
    {
     "name": "stderr",
     "output_type": "stream",
     "text": [
      "WARNING:absl:Found untraced functions such as lstm_cell_553_layer_call_fn, lstm_cell_553_layer_call_and_return_conditional_losses, lstm_cell_554_layer_call_fn, lstm_cell_554_layer_call_and_return_conditional_losses, lstm_cell_556_layer_call_fn while saving (showing 5 of 8). These functions will not be directly callable after loading.\n"
     ]
    },
    {
     "name": "stdout",
     "output_type": "stream",
     "text": [
      "INFO:tensorflow:Assets written to: ram://e1b4f485-eaed-44f2-aa43-b252b807f8fb/assets\n"
     ]
    },
    {
     "name": "stderr",
     "output_type": "stream",
     "text": [
      "INFO:tensorflow:Assets written to: ram://e1b4f485-eaed-44f2-aa43-b252b807f8fb/assets\n",
      "WARNING:absl:Found untraced functions such as lstm_cell_553_layer_call_fn, lstm_cell_553_layer_call_and_return_conditional_losses, lstm_cell_554_layer_call_fn, lstm_cell_554_layer_call_and_return_conditional_losses, lstm_cell_556_layer_call_fn while saving (showing 5 of 8). These functions will not be directly callable after loading.\n"
     ]
    },
    {
     "name": "stdout",
     "output_type": "stream",
     "text": [
      "INFO:tensorflow:Assets written to: models/bilstm-w10_features-s300-p0/assets\n"
     ]
    },
    {
     "name": "stderr",
     "output_type": "stream",
     "text": [
      "INFO:tensorflow:Assets written to: models/bilstm-w10_features-s300-p0/assets\n"
     ]
    },
    {
     "name": "stdout",
     "output_type": "stream",
     "text": [
      "221/221 [==============================] - 1s 1ms/step\n"
     ]
    },
    {
     "name": "stderr",
     "output_type": "stream",
     "text": [
      "WARNING:absl:Found untraced functions such as lstm_cell_559_layer_call_fn, lstm_cell_559_layer_call_and_return_conditional_losses, lstm_cell_560_layer_call_fn, lstm_cell_560_layer_call_and_return_conditional_losses, lstm_cell_562_layer_call_fn while saving (showing 5 of 8). These functions will not be directly callable after loading.\n"
     ]
    },
    {
     "name": "stdout",
     "output_type": "stream",
     "text": [
      "INFO:tensorflow:Assets written to: ram://5488dacf-b74c-4d51-ae32-b733b7ff0fb3/assets\n"
     ]
    },
    {
     "name": "stderr",
     "output_type": "stream",
     "text": [
      "INFO:tensorflow:Assets written to: ram://5488dacf-b74c-4d51-ae32-b733b7ff0fb3/assets\n",
      "WARNING:absl:Found untraced functions such as lstm_cell_559_layer_call_fn, lstm_cell_559_layer_call_and_return_conditional_losses, lstm_cell_560_layer_call_fn, lstm_cell_560_layer_call_and_return_conditional_losses, lstm_cell_562_layer_call_fn while saving (showing 5 of 8). These functions will not be directly callable after loading.\n"
     ]
    },
    {
     "name": "stdout",
     "output_type": "stream",
     "text": [
      "INFO:tensorflow:Assets written to: models/bilstm-w10_features-s300-p1/assets\n"
     ]
    },
    {
     "name": "stderr",
     "output_type": "stream",
     "text": [
      "INFO:tensorflow:Assets written to: models/bilstm-w10_features-s300-p1/assets\n"
     ]
    },
    {
     "name": "stdout",
     "output_type": "stream",
     "text": [
      "221/221 [==============================] - 1s 2ms/step\n"
     ]
    },
    {
     "name": "stderr",
     "output_type": "stream",
     "text": [
      "WARNING:absl:Found untraced functions such as lstm_cell_565_layer_call_fn, lstm_cell_565_layer_call_and_return_conditional_losses, lstm_cell_566_layer_call_fn, lstm_cell_566_layer_call_and_return_conditional_losses, lstm_cell_568_layer_call_fn while saving (showing 5 of 8). These functions will not be directly callable after loading.\n"
     ]
    },
    {
     "name": "stdout",
     "output_type": "stream",
     "text": [
      "INFO:tensorflow:Assets written to: ram://9bc690a7-2927-4eaa-9af8-60b7b385c571/assets\n"
     ]
    },
    {
     "name": "stderr",
     "output_type": "stream",
     "text": [
      "INFO:tensorflow:Assets written to: ram://9bc690a7-2927-4eaa-9af8-60b7b385c571/assets\n",
      "WARNING:absl:Found untraced functions such as lstm_cell_565_layer_call_fn, lstm_cell_565_layer_call_and_return_conditional_losses, lstm_cell_566_layer_call_fn, lstm_cell_566_layer_call_and_return_conditional_losses, lstm_cell_568_layer_call_fn while saving (showing 5 of 8). These functions will not be directly callable after loading.\n"
     ]
    },
    {
     "name": "stdout",
     "output_type": "stream",
     "text": [
      "INFO:tensorflow:Assets written to: models/bilstm-w10_features-s300-p2/assets\n"
     ]
    },
    {
     "name": "stderr",
     "output_type": "stream",
     "text": [
      "INFO:tensorflow:Assets written to: models/bilstm-w10_features-s300-p2/assets\n"
     ]
    },
    {
     "name": "stdout",
     "output_type": "stream",
     "text": [
      "221/221 [==============================] - 1s 2ms/step\n"
     ]
    },
    {
     "name": "stderr",
     "output_type": "stream",
     "text": [
      "WARNING:absl:Found untraced functions such as lstm_cell_571_layer_call_fn, lstm_cell_571_layer_call_and_return_conditional_losses, lstm_cell_572_layer_call_fn, lstm_cell_572_layer_call_and_return_conditional_losses, lstm_cell_574_layer_call_fn while saving (showing 5 of 8). These functions will not be directly callable after loading.\n"
     ]
    },
    {
     "name": "stdout",
     "output_type": "stream",
     "text": [
      "INFO:tensorflow:Assets written to: ram://3d478043-e1e4-4f2d-bfda-bde42099125f/assets\n"
     ]
    },
    {
     "name": "stderr",
     "output_type": "stream",
     "text": [
      "INFO:tensorflow:Assets written to: ram://3d478043-e1e4-4f2d-bfda-bde42099125f/assets\n",
      "WARNING:absl:Found untraced functions such as lstm_cell_571_layer_call_fn, lstm_cell_571_layer_call_and_return_conditional_losses, lstm_cell_572_layer_call_fn, lstm_cell_572_layer_call_and_return_conditional_losses, lstm_cell_574_layer_call_fn while saving (showing 5 of 8). These functions will not be directly callable after loading.\n"
     ]
    },
    {
     "name": "stdout",
     "output_type": "stream",
     "text": [
      "INFO:tensorflow:Assets written to: models/bilstm-w10_features-s300-p3/assets\n"
     ]
    },
    {
     "name": "stderr",
     "output_type": "stream",
     "text": [
      "INFO:tensorflow:Assets written to: models/bilstm-w10_features-s300-p3/assets\n"
     ]
    },
    {
     "name": "stdout",
     "output_type": "stream",
     "text": [
      "221/221 [==============================] - 1s 1ms/step\n"
     ]
    },
    {
     "name": "stderr",
     "output_type": "stream",
     "text": [
      "WARNING:absl:Found untraced functions such as lstm_cell_577_layer_call_fn, lstm_cell_577_layer_call_and_return_conditional_losses, lstm_cell_578_layer_call_fn, lstm_cell_578_layer_call_and_return_conditional_losses, lstm_cell_580_layer_call_fn while saving (showing 5 of 8). These functions will not be directly callable after loading.\n"
     ]
    },
    {
     "name": "stdout",
     "output_type": "stream",
     "text": [
      "INFO:tensorflow:Assets written to: ram://88a69054-32f4-4a67-a898-c68396339bf6/assets\n"
     ]
    },
    {
     "name": "stderr",
     "output_type": "stream",
     "text": [
      "INFO:tensorflow:Assets written to: ram://88a69054-32f4-4a67-a898-c68396339bf6/assets\n",
      "WARNING:absl:Found untraced functions such as lstm_cell_577_layer_call_fn, lstm_cell_577_layer_call_and_return_conditional_losses, lstm_cell_578_layer_call_fn, lstm_cell_578_layer_call_and_return_conditional_losses, lstm_cell_580_layer_call_fn while saving (showing 5 of 8). These functions will not be directly callable after loading.\n"
     ]
    },
    {
     "name": "stdout",
     "output_type": "stream",
     "text": [
      "INFO:tensorflow:Assets written to: models/bilstm-w15_features-s300-p0/assets\n"
     ]
    },
    {
     "name": "stderr",
     "output_type": "stream",
     "text": [
      "INFO:tensorflow:Assets written to: models/bilstm-w15_features-s300-p0/assets\n"
     ]
    },
    {
     "name": "stdout",
     "output_type": "stream",
     "text": [
      "221/221 [==============================] - 1s 1ms/step\n"
     ]
    },
    {
     "name": "stderr",
     "output_type": "stream",
     "text": [
      "WARNING:absl:Found untraced functions such as lstm_cell_583_layer_call_fn, lstm_cell_583_layer_call_and_return_conditional_losses, lstm_cell_584_layer_call_fn, lstm_cell_584_layer_call_and_return_conditional_losses, lstm_cell_586_layer_call_fn while saving (showing 5 of 8). These functions will not be directly callable after loading.\n"
     ]
    },
    {
     "name": "stdout",
     "output_type": "stream",
     "text": [
      "INFO:tensorflow:Assets written to: ram://91f94862-3a4d-4554-8ea1-2d9bce39256a/assets\n"
     ]
    },
    {
     "name": "stderr",
     "output_type": "stream",
     "text": [
      "INFO:tensorflow:Assets written to: ram://91f94862-3a4d-4554-8ea1-2d9bce39256a/assets\n",
      "WARNING:absl:Found untraced functions such as lstm_cell_583_layer_call_fn, lstm_cell_583_layer_call_and_return_conditional_losses, lstm_cell_584_layer_call_fn, lstm_cell_584_layer_call_and_return_conditional_losses, lstm_cell_586_layer_call_fn while saving (showing 5 of 8). These functions will not be directly callable after loading.\n"
     ]
    },
    {
     "name": "stdout",
     "output_type": "stream",
     "text": [
      "INFO:tensorflow:Assets written to: models/bilstm-w15_features-s300-p1/assets\n"
     ]
    },
    {
     "name": "stderr",
     "output_type": "stream",
     "text": [
      "INFO:tensorflow:Assets written to: models/bilstm-w15_features-s300-p1/assets\n"
     ]
    },
    {
     "name": "stdout",
     "output_type": "stream",
     "text": [
      "221/221 [==============================] - 1s 2ms/step\n"
     ]
    },
    {
     "name": "stderr",
     "output_type": "stream",
     "text": [
      "WARNING:absl:Found untraced functions such as lstm_cell_589_layer_call_fn, lstm_cell_589_layer_call_and_return_conditional_losses, lstm_cell_590_layer_call_fn, lstm_cell_590_layer_call_and_return_conditional_losses, lstm_cell_592_layer_call_fn while saving (showing 5 of 8). These functions will not be directly callable after loading.\n"
     ]
    },
    {
     "name": "stdout",
     "output_type": "stream",
     "text": [
      "INFO:tensorflow:Assets written to: ram://7b64a8a1-62c8-43c2-953f-35bba9757241/assets\n"
     ]
    },
    {
     "name": "stderr",
     "output_type": "stream",
     "text": [
      "INFO:tensorflow:Assets written to: ram://7b64a8a1-62c8-43c2-953f-35bba9757241/assets\n",
      "WARNING:absl:Found untraced functions such as lstm_cell_589_layer_call_fn, lstm_cell_589_layer_call_and_return_conditional_losses, lstm_cell_590_layer_call_fn, lstm_cell_590_layer_call_and_return_conditional_losses, lstm_cell_592_layer_call_fn while saving (showing 5 of 8). These functions will not be directly callable after loading.\n"
     ]
    },
    {
     "name": "stdout",
     "output_type": "stream",
     "text": [
      "INFO:tensorflow:Assets written to: models/bilstm-w15_features-s300-p2/assets\n"
     ]
    },
    {
     "name": "stderr",
     "output_type": "stream",
     "text": [
      "INFO:tensorflow:Assets written to: models/bilstm-w15_features-s300-p2/assets\n"
     ]
    },
    {
     "name": "stdout",
     "output_type": "stream",
     "text": [
      "221/221 [==============================] - 1s 2ms/step\n"
     ]
    },
    {
     "name": "stderr",
     "output_type": "stream",
     "text": [
      "WARNING:absl:Found untraced functions such as lstm_cell_595_layer_call_fn, lstm_cell_595_layer_call_and_return_conditional_losses, lstm_cell_596_layer_call_fn, lstm_cell_596_layer_call_and_return_conditional_losses, lstm_cell_598_layer_call_fn while saving (showing 5 of 8). These functions will not be directly callable after loading.\n"
     ]
    },
    {
     "name": "stdout",
     "output_type": "stream",
     "text": [
      "INFO:tensorflow:Assets written to: ram://808597ee-8cd7-4d9e-b4ea-d12fa01c2dc9/assets\n"
     ]
    },
    {
     "name": "stderr",
     "output_type": "stream",
     "text": [
      "INFO:tensorflow:Assets written to: ram://808597ee-8cd7-4d9e-b4ea-d12fa01c2dc9/assets\n",
      "WARNING:absl:Found untraced functions such as lstm_cell_595_layer_call_fn, lstm_cell_595_layer_call_and_return_conditional_losses, lstm_cell_596_layer_call_fn, lstm_cell_596_layer_call_and_return_conditional_losses, lstm_cell_598_layer_call_fn while saving (showing 5 of 8). These functions will not be directly callable after loading.\n"
     ]
    },
    {
     "name": "stdout",
     "output_type": "stream",
     "text": [
      "INFO:tensorflow:Assets written to: models/bilstm-w15_features-s300-p3/assets\n"
     ]
    },
    {
     "name": "stderr",
     "output_type": "stream",
     "text": [
      "INFO:tensorflow:Assets written to: models/bilstm-w15_features-s300-p3/assets\n"
     ]
    },
    {
     "name": "stdout",
     "output_type": "stream",
     "text": [
      "221/221 [==============================] - 1s 1ms/step\n"
     ]
    },
    {
     "name": "stderr",
     "output_type": "stream",
     "text": [
      "WARNING:absl:Found untraced functions such as lstm_cell_601_layer_call_fn, lstm_cell_601_layer_call_and_return_conditional_losses, lstm_cell_602_layer_call_fn, lstm_cell_602_layer_call_and_return_conditional_losses, lstm_cell_604_layer_call_fn while saving (showing 5 of 8). These functions will not be directly callable after loading.\n"
     ]
    },
    {
     "name": "stdout",
     "output_type": "stream",
     "text": [
      "INFO:tensorflow:Assets written to: ram://ca07a1a4-d829-4875-98ee-c0eacefbde93/assets\n"
     ]
    },
    {
     "name": "stderr",
     "output_type": "stream",
     "text": [
      "INFO:tensorflow:Assets written to: ram://ca07a1a4-d829-4875-98ee-c0eacefbde93/assets\n",
      "WARNING:absl:Found untraced functions such as lstm_cell_601_layer_call_fn, lstm_cell_601_layer_call_and_return_conditional_losses, lstm_cell_602_layer_call_fn, lstm_cell_602_layer_call_and_return_conditional_losses, lstm_cell_604_layer_call_fn while saving (showing 5 of 8). These functions will not be directly callable after loading.\n"
     ]
    },
    {
     "name": "stdout",
     "output_type": "stream",
     "text": [
      "INFO:tensorflow:Assets written to: models/bilstm-w20_features-s300-p0/assets\n"
     ]
    },
    {
     "name": "stderr",
     "output_type": "stream",
     "text": [
      "INFO:tensorflow:Assets written to: models/bilstm-w20_features-s300-p0/assets\n"
     ]
    },
    {
     "name": "stdout",
     "output_type": "stream",
     "text": [
      "221/221 [==============================] - 1s 1ms/step\n"
     ]
    },
    {
     "name": "stderr",
     "output_type": "stream",
     "text": [
      "WARNING:absl:Found untraced functions such as lstm_cell_607_layer_call_fn, lstm_cell_607_layer_call_and_return_conditional_losses, lstm_cell_608_layer_call_fn, lstm_cell_608_layer_call_and_return_conditional_losses, lstm_cell_610_layer_call_fn while saving (showing 5 of 8). These functions will not be directly callable after loading.\n"
     ]
    },
    {
     "name": "stdout",
     "output_type": "stream",
     "text": [
      "INFO:tensorflow:Assets written to: ram://18f8ea4e-c2bd-46f3-88f7-dacc8e3aef96/assets\n"
     ]
    },
    {
     "name": "stderr",
     "output_type": "stream",
     "text": [
      "INFO:tensorflow:Assets written to: ram://18f8ea4e-c2bd-46f3-88f7-dacc8e3aef96/assets\n",
      "WARNING:absl:Found untraced functions such as lstm_cell_607_layer_call_fn, lstm_cell_607_layer_call_and_return_conditional_losses, lstm_cell_608_layer_call_fn, lstm_cell_608_layer_call_and_return_conditional_losses, lstm_cell_610_layer_call_fn while saving (showing 5 of 8). These functions will not be directly callable after loading.\n"
     ]
    },
    {
     "name": "stdout",
     "output_type": "stream",
     "text": [
      "INFO:tensorflow:Assets written to: models/bilstm-w20_features-s300-p1/assets\n"
     ]
    },
    {
     "name": "stderr",
     "output_type": "stream",
     "text": [
      "INFO:tensorflow:Assets written to: models/bilstm-w20_features-s300-p1/assets\n"
     ]
    },
    {
     "name": "stdout",
     "output_type": "stream",
     "text": [
      "221/221 [==============================] - 3s 1ms/step\n"
     ]
    },
    {
     "name": "stderr",
     "output_type": "stream",
     "text": [
      "WARNING:absl:Found untraced functions such as lstm_cell_613_layer_call_fn, lstm_cell_613_layer_call_and_return_conditional_losses, lstm_cell_614_layer_call_fn, lstm_cell_614_layer_call_and_return_conditional_losses, lstm_cell_616_layer_call_fn while saving (showing 5 of 8). These functions will not be directly callable after loading.\n"
     ]
    },
    {
     "name": "stdout",
     "output_type": "stream",
     "text": [
      "INFO:tensorflow:Assets written to: ram://699e3349-b2c8-45de-96e2-488d863d9726/assets\n"
     ]
    },
    {
     "name": "stderr",
     "output_type": "stream",
     "text": [
      "INFO:tensorflow:Assets written to: ram://699e3349-b2c8-45de-96e2-488d863d9726/assets\n",
      "WARNING:absl:Found untraced functions such as lstm_cell_613_layer_call_fn, lstm_cell_613_layer_call_and_return_conditional_losses, lstm_cell_614_layer_call_fn, lstm_cell_614_layer_call_and_return_conditional_losses, lstm_cell_616_layer_call_fn while saving (showing 5 of 8). These functions will not be directly callable after loading.\n"
     ]
    },
    {
     "name": "stdout",
     "output_type": "stream",
     "text": [
      "INFO:tensorflow:Assets written to: models/bilstm-w20_features-s300-p2/assets\n"
     ]
    },
    {
     "name": "stderr",
     "output_type": "stream",
     "text": [
      "INFO:tensorflow:Assets written to: models/bilstm-w20_features-s300-p2/assets\n"
     ]
    },
    {
     "name": "stdout",
     "output_type": "stream",
     "text": [
      "221/221 [==============================] - 1s 2ms/step\n"
     ]
    },
    {
     "name": "stderr",
     "output_type": "stream",
     "text": [
      "WARNING:absl:Found untraced functions such as lstm_cell_619_layer_call_fn, lstm_cell_619_layer_call_and_return_conditional_losses, lstm_cell_620_layer_call_fn, lstm_cell_620_layer_call_and_return_conditional_losses, lstm_cell_622_layer_call_fn while saving (showing 5 of 8). These functions will not be directly callable after loading.\n"
     ]
    },
    {
     "name": "stdout",
     "output_type": "stream",
     "text": [
      "INFO:tensorflow:Assets written to: ram://21e24545-37f9-431f-bc3c-42e9255b46e2/assets\n"
     ]
    },
    {
     "name": "stderr",
     "output_type": "stream",
     "text": [
      "INFO:tensorflow:Assets written to: ram://21e24545-37f9-431f-bc3c-42e9255b46e2/assets\n",
      "WARNING:absl:Found untraced functions such as lstm_cell_619_layer_call_fn, lstm_cell_619_layer_call_and_return_conditional_losses, lstm_cell_620_layer_call_fn, lstm_cell_620_layer_call_and_return_conditional_losses, lstm_cell_622_layer_call_fn while saving (showing 5 of 8). These functions will not be directly callable after loading.\n"
     ]
    },
    {
     "name": "stdout",
     "output_type": "stream",
     "text": [
      "INFO:tensorflow:Assets written to: models/bilstm-w20_features-s300-p3/assets\n"
     ]
    },
    {
     "name": "stderr",
     "output_type": "stream",
     "text": [
      "INFO:tensorflow:Assets written to: models/bilstm-w20_features-s300-p3/assets\n"
     ]
    },
    {
     "name": "stdout",
     "output_type": "stream",
     "text": [
      "221/221 [==============================] - 1s 1ms/step\n"
     ]
    },
    {
     "name": "stderr",
     "output_type": "stream",
     "text": [
      "WARNING:absl:Found untraced functions such as lstm_cell_625_layer_call_fn, lstm_cell_625_layer_call_and_return_conditional_losses, lstm_cell_626_layer_call_fn, lstm_cell_626_layer_call_and_return_conditional_losses, lstm_cell_628_layer_call_fn while saving (showing 5 of 8). These functions will not be directly callable after loading.\n"
     ]
    },
    {
     "name": "stdout",
     "output_type": "stream",
     "text": [
      "INFO:tensorflow:Assets written to: ram://cb056e7c-f046-4c1d-9bd5-9d75788d3c40/assets\n"
     ]
    },
    {
     "name": "stderr",
     "output_type": "stream",
     "text": [
      "INFO:tensorflow:Assets written to: ram://cb056e7c-f046-4c1d-9bd5-9d75788d3c40/assets\n",
      "WARNING:absl:Found untraced functions such as lstm_cell_625_layer_call_fn, lstm_cell_625_layer_call_and_return_conditional_losses, lstm_cell_626_layer_call_fn, lstm_cell_626_layer_call_and_return_conditional_losses, lstm_cell_628_layer_call_fn while saving (showing 5 of 8). These functions will not be directly callable after loading.\n"
     ]
    },
    {
     "name": "stdout",
     "output_type": "stream",
     "text": [
      "INFO:tensorflow:Assets written to: models/bilstm-no_diff_features-s300-p0/assets\n"
     ]
    },
    {
     "name": "stderr",
     "output_type": "stream",
     "text": [
      "INFO:tensorflow:Assets written to: models/bilstm-no_diff_features-s300-p0/assets\n"
     ]
    },
    {
     "name": "stdout",
     "output_type": "stream",
     "text": [
      "221/221 [==============================] - 1s 1ms/step\n"
     ]
    },
    {
     "name": "stderr",
     "output_type": "stream",
     "text": [
      "WARNING:absl:Found untraced functions such as lstm_cell_631_layer_call_fn, lstm_cell_631_layer_call_and_return_conditional_losses, lstm_cell_632_layer_call_fn, lstm_cell_632_layer_call_and_return_conditional_losses, lstm_cell_634_layer_call_fn while saving (showing 5 of 8). These functions will not be directly callable after loading.\n"
     ]
    },
    {
     "name": "stdout",
     "output_type": "stream",
     "text": [
      "INFO:tensorflow:Assets written to: ram://89e2ccb8-b25f-4687-a698-a592c540d20d/assets\n"
     ]
    },
    {
     "name": "stderr",
     "output_type": "stream",
     "text": [
      "INFO:tensorflow:Assets written to: ram://89e2ccb8-b25f-4687-a698-a592c540d20d/assets\n",
      "WARNING:absl:Found untraced functions such as lstm_cell_631_layer_call_fn, lstm_cell_631_layer_call_and_return_conditional_losses, lstm_cell_632_layer_call_fn, lstm_cell_632_layer_call_and_return_conditional_losses, lstm_cell_634_layer_call_fn while saving (showing 5 of 8). These functions will not be directly callable after loading.\n"
     ]
    },
    {
     "name": "stdout",
     "output_type": "stream",
     "text": [
      "INFO:tensorflow:Assets written to: models/bilstm-no_diff_features-s300-p1/assets\n"
     ]
    },
    {
     "name": "stderr",
     "output_type": "stream",
     "text": [
      "INFO:tensorflow:Assets written to: models/bilstm-no_diff_features-s300-p1/assets\n"
     ]
    },
    {
     "name": "stdout",
     "output_type": "stream",
     "text": [
      "221/221 [==============================] - 1s 2ms/step\n"
     ]
    },
    {
     "name": "stderr",
     "output_type": "stream",
     "text": [
      "WARNING:absl:Found untraced functions such as lstm_cell_637_layer_call_fn, lstm_cell_637_layer_call_and_return_conditional_losses, lstm_cell_638_layer_call_fn, lstm_cell_638_layer_call_and_return_conditional_losses, lstm_cell_640_layer_call_fn while saving (showing 5 of 8). These functions will not be directly callable after loading.\n"
     ]
    },
    {
     "name": "stdout",
     "output_type": "stream",
     "text": [
      "INFO:tensorflow:Assets written to: ram://abcd98b2-0bfb-4abb-8ec7-e10414bb3d8b/assets\n"
     ]
    },
    {
     "name": "stderr",
     "output_type": "stream",
     "text": [
      "INFO:tensorflow:Assets written to: ram://abcd98b2-0bfb-4abb-8ec7-e10414bb3d8b/assets\n",
      "WARNING:absl:Found untraced functions such as lstm_cell_637_layer_call_fn, lstm_cell_637_layer_call_and_return_conditional_losses, lstm_cell_638_layer_call_fn, lstm_cell_638_layer_call_and_return_conditional_losses, lstm_cell_640_layer_call_fn while saving (showing 5 of 8). These functions will not be directly callable after loading.\n"
     ]
    },
    {
     "name": "stdout",
     "output_type": "stream",
     "text": [
      "INFO:tensorflow:Assets written to: models/bilstm-no_diff_features-s300-p2/assets\n"
     ]
    },
    {
     "name": "stderr",
     "output_type": "stream",
     "text": [
      "INFO:tensorflow:Assets written to: models/bilstm-no_diff_features-s300-p2/assets\n"
     ]
    },
    {
     "name": "stdout",
     "output_type": "stream",
     "text": [
      "221/221 [==============================] - 1s 2ms/step\n"
     ]
    },
    {
     "name": "stderr",
     "output_type": "stream",
     "text": [
      "WARNING:absl:Found untraced functions such as lstm_cell_643_layer_call_fn, lstm_cell_643_layer_call_and_return_conditional_losses, lstm_cell_644_layer_call_fn, lstm_cell_644_layer_call_and_return_conditional_losses, lstm_cell_646_layer_call_fn while saving (showing 5 of 8). These functions will not be directly callable after loading.\n"
     ]
    },
    {
     "name": "stdout",
     "output_type": "stream",
     "text": [
      "INFO:tensorflow:Assets written to: ram://3aadf98c-357f-4616-8376-a25b7f32dd18/assets\n"
     ]
    },
    {
     "name": "stderr",
     "output_type": "stream",
     "text": [
      "INFO:tensorflow:Assets written to: ram://3aadf98c-357f-4616-8376-a25b7f32dd18/assets\n",
      "WARNING:absl:Found untraced functions such as lstm_cell_643_layer_call_fn, lstm_cell_643_layer_call_and_return_conditional_losses, lstm_cell_644_layer_call_fn, lstm_cell_644_layer_call_and_return_conditional_losses, lstm_cell_646_layer_call_fn while saving (showing 5 of 8). These functions will not be directly callable after loading.\n"
     ]
    },
    {
     "name": "stdout",
     "output_type": "stream",
     "text": [
      "INFO:tensorflow:Assets written to: models/bilstm-no_diff_features-s300-p3/assets\n"
     ]
    },
    {
     "name": "stderr",
     "output_type": "stream",
     "text": [
      "INFO:tensorflow:Assets written to: models/bilstm-no_diff_features-s300-p3/assets\n"
     ]
    },
    {
     "name": "stdout",
     "output_type": "stream",
     "text": [
      "221/221 [==============================] - 1s 1ms/step\n"
     ]
    },
    {
     "name": "stderr",
     "output_type": "stream",
     "text": [
      "WARNING:absl:Found untraced functions such as lstm_cell_649_layer_call_fn, lstm_cell_649_layer_call_and_return_conditional_losses, lstm_cell_650_layer_call_fn, lstm_cell_650_layer_call_and_return_conditional_losses, lstm_cell_652_layer_call_fn while saving (showing 5 of 8). These functions will not be directly callable after loading.\n"
     ]
    },
    {
     "name": "stdout",
     "output_type": "stream",
     "text": [
      "INFO:tensorflow:Assets written to: ram://d21ef2ad-ef44-4b60-a476-c2a8f8807890/assets\n"
     ]
    },
    {
     "name": "stderr",
     "output_type": "stream",
     "text": [
      "INFO:tensorflow:Assets written to: ram://d21ef2ad-ef44-4b60-a476-c2a8f8807890/assets\n",
      "WARNING:absl:Found untraced functions such as lstm_cell_649_layer_call_fn, lstm_cell_649_layer_call_and_return_conditional_losses, lstm_cell_650_layer_call_fn, lstm_cell_650_layer_call_and_return_conditional_losses, lstm_cell_652_layer_call_fn while saving (showing 5 of 8). These functions will not be directly callable after loading.\n"
     ]
    },
    {
     "name": "stdout",
     "output_type": "stream",
     "text": [
      "INFO:tensorflow:Assets written to: models/bilstm-diff_features-s300-p0/assets\n"
     ]
    },
    {
     "name": "stderr",
     "output_type": "stream",
     "text": [
      "INFO:tensorflow:Assets written to: models/bilstm-diff_features-s300-p0/assets\n"
     ]
    },
    {
     "name": "stdout",
     "output_type": "stream",
     "text": [
      "221/221 [==============================] - 1s 1ms/step\n"
     ]
    },
    {
     "name": "stderr",
     "output_type": "stream",
     "text": [
      "WARNING:absl:Found untraced functions such as lstm_cell_655_layer_call_fn, lstm_cell_655_layer_call_and_return_conditional_losses, lstm_cell_656_layer_call_fn, lstm_cell_656_layer_call_and_return_conditional_losses, lstm_cell_658_layer_call_fn while saving (showing 5 of 8). These functions will not be directly callable after loading.\n"
     ]
    },
    {
     "name": "stdout",
     "output_type": "stream",
     "text": [
      "INFO:tensorflow:Assets written to: ram://01c64617-9b14-4a5b-9053-8b3ae72423d8/assets\n"
     ]
    },
    {
     "name": "stderr",
     "output_type": "stream",
     "text": [
      "INFO:tensorflow:Assets written to: ram://01c64617-9b14-4a5b-9053-8b3ae72423d8/assets\n",
      "WARNING:absl:Found untraced functions such as lstm_cell_655_layer_call_fn, lstm_cell_655_layer_call_and_return_conditional_losses, lstm_cell_656_layer_call_fn, lstm_cell_656_layer_call_and_return_conditional_losses, lstm_cell_658_layer_call_fn while saving (showing 5 of 8). These functions will not be directly callable after loading.\n"
     ]
    },
    {
     "name": "stdout",
     "output_type": "stream",
     "text": [
      "INFO:tensorflow:Assets written to: models/bilstm-diff_features-s300-p1/assets\n"
     ]
    },
    {
     "name": "stderr",
     "output_type": "stream",
     "text": [
      "INFO:tensorflow:Assets written to: models/bilstm-diff_features-s300-p1/assets\n"
     ]
    },
    {
     "name": "stdout",
     "output_type": "stream",
     "text": [
      "221/221 [==============================] - 1s 2ms/step\n"
     ]
    },
    {
     "name": "stderr",
     "output_type": "stream",
     "text": [
      "WARNING:absl:Found untraced functions such as lstm_cell_661_layer_call_fn, lstm_cell_661_layer_call_and_return_conditional_losses, lstm_cell_662_layer_call_fn, lstm_cell_662_layer_call_and_return_conditional_losses, lstm_cell_664_layer_call_fn while saving (showing 5 of 8). These functions will not be directly callable after loading.\n"
     ]
    },
    {
     "name": "stdout",
     "output_type": "stream",
     "text": [
      "INFO:tensorflow:Assets written to: ram://77719468-932e-4f8c-9bf1-195faaea8d70/assets\n"
     ]
    },
    {
     "name": "stderr",
     "output_type": "stream",
     "text": [
      "INFO:tensorflow:Assets written to: ram://77719468-932e-4f8c-9bf1-195faaea8d70/assets\n",
      "WARNING:absl:Found untraced functions such as lstm_cell_661_layer_call_fn, lstm_cell_661_layer_call_and_return_conditional_losses, lstm_cell_662_layer_call_fn, lstm_cell_662_layer_call_and_return_conditional_losses, lstm_cell_664_layer_call_fn while saving (showing 5 of 8). These functions will not be directly callable after loading.\n"
     ]
    },
    {
     "name": "stdout",
     "output_type": "stream",
     "text": [
      "INFO:tensorflow:Assets written to: models/bilstm-diff_features-s300-p2/assets\n"
     ]
    },
    {
     "name": "stderr",
     "output_type": "stream",
     "text": [
      "INFO:tensorflow:Assets written to: models/bilstm-diff_features-s300-p2/assets\n"
     ]
    },
    {
     "name": "stdout",
     "output_type": "stream",
     "text": [
      "221/221 [==============================] - 1s 2ms/step\n"
     ]
    },
    {
     "name": "stderr",
     "output_type": "stream",
     "text": [
      "WARNING:absl:Found untraced functions such as lstm_cell_667_layer_call_fn, lstm_cell_667_layer_call_and_return_conditional_losses, lstm_cell_668_layer_call_fn, lstm_cell_668_layer_call_and_return_conditional_losses, lstm_cell_670_layer_call_fn while saving (showing 5 of 8). These functions will not be directly callable after loading.\n"
     ]
    },
    {
     "name": "stdout",
     "output_type": "stream",
     "text": [
      "INFO:tensorflow:Assets written to: ram://06814328-5ade-4e47-8224-d6616919bcc7/assets\n"
     ]
    },
    {
     "name": "stderr",
     "output_type": "stream",
     "text": [
      "INFO:tensorflow:Assets written to: ram://06814328-5ade-4e47-8224-d6616919bcc7/assets\n",
      "WARNING:absl:Found untraced functions such as lstm_cell_667_layer_call_fn, lstm_cell_667_layer_call_and_return_conditional_losses, lstm_cell_668_layer_call_fn, lstm_cell_668_layer_call_and_return_conditional_losses, lstm_cell_670_layer_call_fn while saving (showing 5 of 8). These functions will not be directly callable after loading.\n"
     ]
    },
    {
     "name": "stdout",
     "output_type": "stream",
     "text": [
      "INFO:tensorflow:Assets written to: models/bilstm-diff_features-s300-p3/assets\n"
     ]
    },
    {
     "name": "stderr",
     "output_type": "stream",
     "text": [
      "INFO:tensorflow:Assets written to: models/bilstm-diff_features-s300-p3/assets\n"
     ]
    }
   ],
   "source": [
    "for seed in seeds:\n",
    "    for columns in features:\n",
    "        for params_idx, params in enumerate(params_bilstm):\n",
    "            \n",
    "            set_determinism(seed)\n",
    "\n",
    "            traning_set_bilstm, validation_set_bilstm = build_dataset_for_ml_model(df, training_columns=features[columns])\n",
    "            X_train_bilstm, y_train_bilstm = create_dataset_3D(traning_set_bilstm[:, :-1], \n",
    "                                                               traning_set_bilstm[:, -1], \n",
    "                                                               params[\"time_steps\"])\n",
    "            X_val_bilstm, y_val_bilstm = create_dataset_3D(validation_set_bilstm[:, :-1], \n",
    "                                                           validation_set_bilstm[:, -1],   \n",
    "                                                           params[\"time_steps\"])\n",
    "            counts_bilstm = pd.Series(tr_sw_r).value_counts(normalize=True)\n",
    "            class_weight_bilstm = {0: 1/counts_bilstm[0], 1: 1/counts_bilstm[1]}\n",
    "            model_bilstm = create_model_bilstm_cl(params[\"units\"], X_train_bilstm, learning_rate)\n",
    "            early_stop = keras.callbacks.EarlyStopping(monitor='val_loss',\n",
    "                                                       patience=patience)\n",
    "            history_bilstm = model_bilstm.fit(X_train_bilstm, y_train_bilstm, epochs=epochs,\n",
    "                                              class_weight=class_weight_bilstm,\n",
    "                                              validation_split=validation_split, batch_size=batch_size,\n",
    "                                              shuffle=False, callbacks=[early_stop], verbose=0)\n",
    "            \n",
    "            preds_bilstm = model_bilstm.predict(X_val_bilstm).ravel()\n",
    "            \n",
    "            signal_bilstm = pd.Series(data=(1 - preds_bilstm))\n",
    "            rul_bilstm = y_val_bilstm\n",
    "\n",
    "            best_cost_bilstm, best_thr_bilstm, all_cost_bilstm, all_thr_bilstm = threshold_optimization(signal_bilstm, rul_bilstm, start=0, end=signal_bilstm.max(), n_steps=200)\n",
    "            \n",
    "            perf_bilstm = performance_evaluation(signal_bilstm, best_thr_bilstm, rul_bilstm)\n",
    "            all_perf.append([\"bilstm\", seed, columns, params] + perf_bilstm)\n",
    "            \n",
    "            serialize_perf(\"bilstm\", seed=seed, columns_name=columns, training_columns=features[columns], \n",
    "                           params=params, params_idx=params_idx, history=history_bilstm, best_cost=best_cost_bilstm, best_thr=best_thr_bilstm, \n",
    "                           all_cost=all_cost_bilstm, all_thr=all_thr_bilstm, perf=perf_bilstm)\n",
    "            \n",
    "            model_bilstm.save(models_path + \"bilstm\" + \"-\" + columns + \"-s\" + str(seed) + \"-p\" + str(params_idx))"
   ]
  },
  {
   "cell_type": "markdown",
   "id": "58c74558",
   "metadata": {},
   "source": [
    "## Analysis over the validation set"
   ]
  },
  {
   "cell_type": "code",
   "execution_count": 36,
   "id": "1a33c3a2",
   "metadata": {},
   "outputs": [
    {
     "data": {
      "text/html": [
       "<div>\n",
       "<style scoped>\n",
       "    .dataframe tbody tr th:only-of-type {\n",
       "        vertical-align: middle;\n",
       "    }\n",
       "\n",
       "    .dataframe tbody tr th {\n",
       "        vertical-align: top;\n",
       "    }\n",
       "\n",
       "    .dataframe thead th {\n",
       "        text-align: right;\n",
       "    }\n",
       "</style>\n",
       "<table border=\"1\" class=\"dataframe\">\n",
       "  <thead>\n",
       "    <tr style=\"text-align: right;\">\n",
       "      <th></th>\n",
       "      <th>model</th>\n",
       "      <th>seed</th>\n",
       "      <th>columns</th>\n",
       "      <th>params</th>\n",
       "      <th>cost</th>\n",
       "      <th>anticipation</th>\n",
       "      <th>detected_faults</th>\n",
       "      <th>missed_faults</th>\n",
       "      <th>false_alarms</th>\n",
       "    </tr>\n",
       "  </thead>\n",
       "  <tbody>\n",
       "    <tr>\n",
       "      <th>0</th>\n",
       "      <td>raw_signal</td>\n",
       "      <td>100</td>\n",
       "      <td>Ax</td>\n",
       "      <td>{}</td>\n",
       "      <td>32.0000</td>\n",
       "      <td>0.2167</td>\n",
       "      <td>6</td>\n",
       "      <td>1</td>\n",
       "      <td>0</td>\n",
       "    </tr>\n",
       "    <tr>\n",
       "      <th>1</th>\n",
       "      <td>raw_signal</td>\n",
       "      <td>100</td>\n",
       "      <td>Ax_diff</td>\n",
       "      <td>{}</td>\n",
       "      <td>29.8000</td>\n",
       "      <td>0.3167</td>\n",
       "      <td>6</td>\n",
       "      <td>1</td>\n",
       "      <td>34</td>\n",
       "    </tr>\n",
       "    <tr>\n",
       "      <th>2</th>\n",
       "      <td>raw_signal</td>\n",
       "      <td>100</td>\n",
       "      <td>Ax_mean_w5</td>\n",
       "      <td>{}</td>\n",
       "      <td>58.4000</td>\n",
       "      <td>0.0833</td>\n",
       "      <td>6</td>\n",
       "      <td>1</td>\n",
       "      <td>12</td>\n",
       "    </tr>\n",
       "    <tr>\n",
       "      <th>3</th>\n",
       "      <td>raw_signal</td>\n",
       "      <td>100</td>\n",
       "      <td>Ax_std_w5</td>\n",
       "      <td>{}</td>\n",
       "      <td>105.2000</td>\n",
       "      <td>0.0000</td>\n",
       "      <td>0</td>\n",
       "      <td>7</td>\n",
       "      <td>1</td>\n",
       "    </tr>\n",
       "    <tr>\n",
       "      <th>4</th>\n",
       "      <td>raw_signal</td>\n",
       "      <td>100</td>\n",
       "      <td>Ax_min_w5</td>\n",
       "      <td>{}</td>\n",
       "      <td>32.0000</td>\n",
       "      <td>0.2167</td>\n",
       "      <td>6</td>\n",
       "      <td>1</td>\n",
       "      <td>0</td>\n",
       "    </tr>\n",
       "    <tr>\n",
       "      <th>...</th>\n",
       "      <td>...</td>\n",
       "      <td>...</td>\n",
       "      <td>...</td>\n",
       "      <td>...</td>\n",
       "      <td>...</td>\n",
       "      <td>...</td>\n",
       "      <td>...</td>\n",
       "      <td>...</td>\n",
       "      <td>...</td>\n",
       "    </tr>\n",
       "    <tr>\n",
       "      <th>733</th>\n",
       "      <td>bilstm</td>\n",
       "      <td>300</td>\n",
       "      <td>no_diff_features</td>\n",
       "      <td>{'time_steps': 10, 'units': 128}</td>\n",
       "      <td>40.4000</td>\n",
       "      <td>0.2500</td>\n",
       "      <td>6</td>\n",
       "      <td>1</td>\n",
       "      <td>47</td>\n",
       "    </tr>\n",
       "    <tr>\n",
       "      <th>734</th>\n",
       "      <td>bilstm</td>\n",
       "      <td>300</td>\n",
       "      <td>diff_features</td>\n",
       "      <td>{'time_steps': 5, 'units': 64}</td>\n",
       "      <td>54.0000</td>\n",
       "      <td>0.1333</td>\n",
       "      <td>6</td>\n",
       "      <td>1</td>\n",
       "      <td>35</td>\n",
       "    </tr>\n",
       "    <tr>\n",
       "      <th>735</th>\n",
       "      <td>bilstm</td>\n",
       "      <td>300</td>\n",
       "      <td>diff_features</td>\n",
       "      <td>{'time_steps': 5, 'units': 128}</td>\n",
       "      <td>50.0000</td>\n",
       "      <td>0.1667</td>\n",
       "      <td>6</td>\n",
       "      <td>1</td>\n",
       "      <td>40</td>\n",
       "    </tr>\n",
       "    <tr>\n",
       "      <th>736</th>\n",
       "      <td>bilstm</td>\n",
       "      <td>300</td>\n",
       "      <td>diff_features</td>\n",
       "      <td>{'time_steps': 10, 'units': 64}</td>\n",
       "      <td>59.0000</td>\n",
       "      <td>0.1000</td>\n",
       "      <td>6</td>\n",
       "      <td>1</td>\n",
       "      <td>20</td>\n",
       "    </tr>\n",
       "    <tr>\n",
       "      <th>737</th>\n",
       "      <td>bilstm</td>\n",
       "      <td>300</td>\n",
       "      <td>diff_features</td>\n",
       "      <td>{'time_steps': 10, 'units': 128}</td>\n",
       "      <td>54.8000</td>\n",
       "      <td>0.1333</td>\n",
       "      <td>6</td>\n",
       "      <td>1</td>\n",
       "      <td>24</td>\n",
       "    </tr>\n",
       "  </tbody>\n",
       "</table>\n",
       "<p>738 rows × 9 columns</p>\n",
       "</div>"
      ],
      "text/plain": [
       "          model  seed           columns                            params  \\\n",
       "0    raw_signal   100                Ax                                {}   \n",
       "1    raw_signal   100           Ax_diff                                {}   \n",
       "2    raw_signal   100        Ax_mean_w5                                {}   \n",
       "3    raw_signal   100         Ax_std_w5                                {}   \n",
       "4    raw_signal   100         Ax_min_w5                                {}   \n",
       "..          ...   ...               ...                               ...   \n",
       "733      bilstm   300  no_diff_features  {'time_steps': 10, 'units': 128}   \n",
       "734      bilstm   300     diff_features    {'time_steps': 5, 'units': 64}   \n",
       "735      bilstm   300     diff_features   {'time_steps': 5, 'units': 128}   \n",
       "736      bilstm   300     diff_features   {'time_steps': 10, 'units': 64}   \n",
       "737      bilstm   300     diff_features  {'time_steps': 10, 'units': 128}   \n",
       "\n",
       "        cost  anticipation  detected_faults  missed_faults  false_alarms  \n",
       "0    32.0000        0.2167                6              1             0  \n",
       "1    29.8000        0.3167                6              1            34  \n",
       "2    58.4000        0.0833                6              1            12  \n",
       "3   105.2000        0.0000                0              7             1  \n",
       "4    32.0000        0.2167                6              1             0  \n",
       "..       ...           ...              ...            ...           ...  \n",
       "733  40.4000        0.2500                6              1            47  \n",
       "734  54.0000        0.1333                6              1            35  \n",
       "735  50.0000        0.1667                6              1            40  \n",
       "736  59.0000        0.1000                6              1            20  \n",
       "737  54.8000        0.1333                6              1            24  \n",
       "\n",
       "[738 rows x 9 columns]"
      ]
     },
     "execution_count": 36,
     "metadata": {},
     "output_type": "execute_result"
    }
   ],
   "source": [
    "df_res = pd.DataFrame(all_perf, columns=[\"model\", \"seed\", \"columns\", \"params\", \"cost\", \"anticipation\", \"detected_faults\", \"missed_faults\", \"false_alarms\"])\n",
    "df_res.to_csv(\"training_summary_\" + str(margin) + \".csv\")\n",
    "df_res"
   ]
  }
 ],
 "metadata": {
  "kernelspec": {
   "display_name": "Python 3",
   "language": "python",
   "name": "python3"
  },
  "language_info": {
   "codemirror_mode": {
    "name": "ipython",
    "version": 3
   },
   "file_extension": ".py",
   "mimetype": "text/x-python",
   "name": "python",
   "nbconvert_exporter": "python",
   "pygments_lexer": "ipython3",
   "version": "3.8.10"
  }
 },
 "nbformat": 4,
 "nbformat_minor": 5
}
