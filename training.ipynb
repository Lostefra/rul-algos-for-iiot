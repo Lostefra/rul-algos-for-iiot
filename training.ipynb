{
 "cells": [
  {
   "cell_type": "markdown",
   "id": "0d267c5c",
   "metadata": {},
   "source": [
    "# Data analysis and set up"
   ]
  },
  {
   "cell_type": "code",
   "execution_count": 1,
   "id": "893fb328",
   "metadata": {},
   "outputs": [],
   "source": [
    "# Prediction margin: the only paramter to set. Recommended: margin in {5, 10, 15, 20} (aka 0.5, 1, 1.5, 2 seconds)\n",
    "margin = 5"
   ]
  },
  {
   "cell_type": "markdown",
   "id": "3df02c22",
   "metadata": {},
   "source": [
    "## Import libraries and define utility functions"
   ]
  },
  {
   "cell_type": "code",
   "execution_count": 2,
   "id": "d3375203",
   "metadata": {},
   "outputs": [],
   "source": [
    "import pandas as pd\n",
    "import numpy as np\n",
    "import sys\n",
    "import random\n",
    "import pickle\n",
    "import matplotlib.pyplot as plt\n",
    "from sklearn.preprocessing import StandardScaler\n",
    "from math import floor\n",
    "from tensorflow import keras\n",
    "from tensorflow.keras import layers, callbacks\n",
    "import tensorflow as tf"
   ]
  },
  {
   "cell_type": "code",
   "execution_count": 3,
   "id": "6134da76",
   "metadata": {},
   "outputs": [
    {
     "name": "stdout",
     "output_type": "stream",
     "text": [
      "Num GPUs Available: 2\n"
     ]
    }
   ],
   "source": [
    "# If you have more than one GPU in your system, the GPU with the lowest ID will be selected by default.\n",
    "# https://www.tensorflow.org/guide/gpu#using_a_single_gpu_on_a_multi-gpu_system\n",
    "print(\"Num GPUs Available:\", len(tf.config.list_physical_devices('GPU')))"
   ]
  },
  {
   "cell_type": "code",
   "execution_count": 4,
   "id": "c34a05dd",
   "metadata": {},
   "outputs": [],
   "source": [
    "mean = lambda l: sum(l) / len(l)"
   ]
  },
  {
   "cell_type": "code",
   "execution_count": 5,
   "id": "7bf3b3b8",
   "metadata": {},
   "outputs": [],
   "source": [
    "def serialize_perf(model_name, seed, columns_name, training_columns, params, params_idx, \n",
    "                   history, best_cost, best_thr, all_cost, all_thr, perf):\n",
    "    f_path = results_path + model_name + \"_\" + columns_name + \"_s\" + str(seed) + \"_p\" + str(params_idx)\n",
    "    to_serialize = (training_columns, params, history, best_cost, best_thr, all_cost, all_thr, perf)\n",
    "    with open(f_path, \"wb\") as file:\n",
    "        pickle.dump(to_serialize, file)"
   ]
  },
  {
   "cell_type": "markdown",
   "id": "a5b3b931",
   "metadata": {},
   "source": [
    "#### Set up global variables"
   ]
  },
  {
   "cell_type": "code",
   "execution_count": 6,
   "id": "e0d48c12",
   "metadata": {},
   "outputs": [],
   "source": [
    "pd.set_option('display.float_format', lambda x: '%.4f' % x)"
   ]
  },
  {
   "cell_type": "code",
   "execution_count": 7,
   "id": "19b1f7e7",
   "metadata": {},
   "outputs": [],
   "source": [
    "results_path = \"results/\"\n",
    "seeds = [100, 200, 300]\n",
    "\n",
    "def set_determinism(seed):\n",
    "    tf.keras.utils.set_random_seed(seed)\n",
    "    tf.config.experimental.enable_op_determinism()"
   ]
  },
  {
   "cell_type": "code",
   "execution_count": 8,
   "id": "c472a1f8",
   "metadata": {},
   "outputs": [],
   "source": [
    "patience = 100\n",
    "epochs = 3  # 1500\n",
    "batch_size = 32\n",
    "learning_rate = 0.0001\n",
    "validation_split = 0.2"
   ]
  },
  {
   "cell_type": "code",
   "execution_count": 9,
   "id": "2945999a",
   "metadata": {},
   "outputs": [],
   "source": [
    "w5_features_no_diff = [\n",
    " 'Gz_mean_w5',\n",
    " 'Ax_mean_w5',\n",
    " 'Ay_mean_w5',\n",
    " 'Gz_std_w5',\n",
    " 'Ax_std_w5',\n",
    " 'Ay_std_w5',\n",
    " 'Gz_min_w5',\n",
    " 'Ax_min_w5',\n",
    " 'Ay_min_w5',\n",
    " 'Gz_max_w5',\n",
    " 'Ax_max_w5',\n",
    " 'Ay_max_w5'\n",
    "]\n",
    "\n",
    "w5_features_diff = [\n",
    " 'differencing_Gz_mean_w5',\n",
    " 'differencing_Ax_mean_w5',\n",
    " 'differencing_Ay_mean_w5',\n",
    " 'differencing_Gz_std_w5',\n",
    " 'differencing_Ax_std_w5',\n",
    " 'differencing_Ay_std_w5',\n",
    " 'differencing_Gz_min_w5',\n",
    " 'differencing_Ax_min_w5',\n",
    " 'differencing_Ay_min_w5',\n",
    " 'differencing_Gz_max_w5',\n",
    " 'differencing_Ax_max_w5',\n",
    " 'differencing_Ay_max_w5',\n",
    "]\n",
    "\n",
    "w10_features_no_diff = [\n",
    " 'Gz_mean_w10',\n",
    " 'Ax_mean_w10',\n",
    " 'Ay_mean_w10',\n",
    " 'Gz_std_w10',\n",
    " 'Ax_std_w10',\n",
    " 'Ay_std_w10',\n",
    " 'Gz_min_w10',\n",
    " 'Ax_min_w10',\n",
    " 'Ay_min_w10',\n",
    " 'Gz_max_w10',\n",
    " 'Ax_max_w10',\n",
    " 'Ay_max_w10'\n",
    "]\n",
    "\n",
    "w10_features_diff = [\n",
    " 'differencing_Gz_mean_w10',\n",
    " 'differencing_Ax_mean_w10',\n",
    " 'differencing_Ay_mean_w10',\n",
    " 'differencing_Gz_std_w10',\n",
    " 'differencing_Ax_std_w10',\n",
    " 'differencing_Ay_std_w10',\n",
    " 'differencing_Gz_min_w10',\n",
    " 'differencing_Ax_min_w10',\n",
    " 'differencing_Ay_min_w10',\n",
    " 'differencing_Gz_max_w10',\n",
    " 'differencing_Ax_max_w10',\n",
    " 'differencing_Ay_max_w10'\n",
    "]\n",
    "\n",
    "w15_features_no_diff = [\n",
    " 'Gz_mean_w15',\n",
    " 'Ax_mean_w15',\n",
    " 'Ay_mean_w15',\n",
    " 'Gz_std_w15',\n",
    " 'Ax_std_w15',\n",
    " 'Ay_std_w15',\n",
    " 'Gz_min_w15',\n",
    " 'Ax_min_w15',\n",
    " 'Ay_min_w15',\n",
    " 'Gz_max_w15',\n",
    " 'Ax_max_w15',\n",
    " 'Ay_max_w15'\n",
    "]\n",
    "\n",
    "w15_features_diff = [\n",
    " 'differencing_Gz_mean_w15',\n",
    " 'differencing_Ax_mean_w15',\n",
    " 'differencing_Ay_mean_w15',\n",
    " 'differencing_Gz_std_w15',\n",
    " 'differencing_Ax_std_w15',\n",
    " 'differencing_Ay_std_w15',\n",
    " 'differencing_Gz_min_w15',\n",
    " 'differencing_Ax_min_w15',\n",
    " 'differencing_Ay_min_w15',\n",
    " 'differencing_Gz_max_w15',\n",
    " 'differencing_Ax_max_w15',\n",
    " 'differencing_Ay_max_w15'\n",
    "]\n",
    "\n",
    "w20_features_no_diff = [\n",
    " 'Gz_mean_w20',\n",
    " 'Ax_mean_w20',\n",
    " 'Ay_mean_w20',\n",
    " 'Gz_std_w20',\n",
    " 'Ax_std_w20',\n",
    " 'Ay_std_w20',\n",
    " 'Gz_min_w20',\n",
    " 'Ax_min_w20',\n",
    " 'Ay_min_w20',\n",
    " 'Gz_max_w20',\n",
    " 'Ax_max_w20',\n",
    " 'Ay_max_w20'\n",
    "]\n",
    "\n",
    "w20_features_diff = [\n",
    " 'differencing_Gz_mean_w20',\n",
    " 'differencing_Ax_mean_w20',\n",
    " 'differencing_Ay_mean_w20',\n",
    " 'differencing_Gz_std_w20',\n",
    " 'differencing_Ax_std_w20',\n",
    " 'differencing_Ay_std_w20',\n",
    " 'differencing_Gz_min_w20',\n",
    " 'differencing_Ax_min_w20',\n",
    " 'differencing_Ay_min_w20',\n",
    " 'differencing_Gz_max_w20',\n",
    " 'differencing_Ax_max_w20',\n",
    " 'differencing_Ay_max_w20',\n",
    "]\n",
    "\n",
    "features = {\n",
    "    \"all_features\": w5_features_no_diff + w10_features_no_diff + w15_features_no_diff + w20_features_no_diff + w5_features_diff + w10_features_diff + w15_features_diff + w20_features_diff + ['label'], \n",
    "    \"w5_features\": w5_features_no_diff + w5_features_diff + ['label'], \n",
    "    \"w10_features\": w10_features_no_diff + w10_features_diff + ['label'], \n",
    "    \"w15_features\": w15_features_no_diff + w15_features_diff + ['label'], \n",
    "    \"w20_features\": w20_features_no_diff + w20_features_diff + ['label'], \n",
    "    \"no_diff_features\": w5_features_no_diff + w10_features_no_diff + w15_features_no_diff + w20_features_no_diff + ['label'], \n",
    "    \"diff_features\": w5_features_diff + w10_features_diff + w15_features_diff + w20_features_diff + ['label']\n",
    "}"
   ]
  },
  {
   "cell_type": "markdown",
   "id": "c2be90c9",
   "metadata": {},
   "source": [
    "#### Data import"
   ]
  },
  {
   "cell_type": "code",
   "execution_count": 10,
   "id": "8bdea77b",
   "metadata": {},
   "outputs": [],
   "source": [
    "df = pd.read_csv(\"data/train/training_\" + str(margin) + \".csv\", index_col=[0])"
   ]
  },
  {
   "cell_type": "code",
   "execution_count": 11,
   "id": "967ad76e",
   "metadata": {},
   "outputs": [
    {
     "name": "stdout",
     "output_type": "stream",
     "text": [
      "33330 rows in the dataset\n",
      "Index(['Gz', 'Ax', 'Ay', 'Gz_diff', 'Ax_diff', 'Ay_diff', 'Gz_mean_w5',\n",
      "       'Ax_mean_w5', 'Ay_mean_w5', 'Gz_std_w5',\n",
      "       ...\n",
      "       'differencing_Ay_std_w20', 'differencing_Gz_min_w20',\n",
      "       'differencing_Ax_min_w20', 'differencing_Ay_min_w20',\n",
      "       'differencing_Gz_max_w20', 'differencing_Ax_max_w20',\n",
      "       'differencing_Ay_max_w20', 'orient_discr', 'POSy_discr', 'label'],\n",
      "      dtype='object', length=114)\n"
     ]
    },
    {
     "data": {
      "text/html": [
       "<div>\n",
       "<style scoped>\n",
       "    .dataframe tbody tr th:only-of-type {\n",
       "        vertical-align: middle;\n",
       "    }\n",
       "\n",
       "    .dataframe tbody tr th {\n",
       "        vertical-align: top;\n",
       "    }\n",
       "\n",
       "    .dataframe thead th {\n",
       "        text-align: right;\n",
       "    }\n",
       "</style>\n",
       "<table border=\"1\" class=\"dataframe\">\n",
       "  <thead>\n",
       "    <tr style=\"text-align: right;\">\n",
       "      <th></th>\n",
       "      <th>Gz</th>\n",
       "      <th>Ax</th>\n",
       "      <th>Ay</th>\n",
       "      <th>Gz_diff</th>\n",
       "      <th>Ax_diff</th>\n",
       "      <th>Ay_diff</th>\n",
       "      <th>Gz_mean_w5</th>\n",
       "      <th>Ax_mean_w5</th>\n",
       "      <th>Ay_mean_w5</th>\n",
       "      <th>Gz_std_w5</th>\n",
       "      <th>...</th>\n",
       "      <th>differencing_Ay_std_w20</th>\n",
       "      <th>differencing_Gz_min_w20</th>\n",
       "      <th>differencing_Ax_min_w20</th>\n",
       "      <th>differencing_Ay_min_w20</th>\n",
       "      <th>differencing_Gz_max_w20</th>\n",
       "      <th>differencing_Ax_max_w20</th>\n",
       "      <th>differencing_Ay_max_w20</th>\n",
       "      <th>orient_discr</th>\n",
       "      <th>POSy_discr</th>\n",
       "      <th>label</th>\n",
       "    </tr>\n",
       "  </thead>\n",
       "  <tbody>\n",
       "    <tr>\n",
       "      <th>count</th>\n",
       "      <td>33330.0000</td>\n",
       "      <td>33330.0000</td>\n",
       "      <td>33330.0000</td>\n",
       "      <td>33330.0000</td>\n",
       "      <td>33330.0000</td>\n",
       "      <td>33330.0000</td>\n",
       "      <td>33330.0000</td>\n",
       "      <td>33330.0000</td>\n",
       "      <td>33330.0000</td>\n",
       "      <td>33330.0000</td>\n",
       "      <td>...</td>\n",
       "      <td>33330.0000</td>\n",
       "      <td>33330.0000</td>\n",
       "      <td>33330.0000</td>\n",
       "      <td>33330.0000</td>\n",
       "      <td>33330.0000</td>\n",
       "      <td>33330.0000</td>\n",
       "      <td>33330.0000</td>\n",
       "      <td>33330.0000</td>\n",
       "      <td>33330.0000</td>\n",
       "      <td>33330.0000</td>\n",
       "    </tr>\n",
       "    <tr>\n",
       "      <th>mean</th>\n",
       "      <td>-0.0000</td>\n",
       "      <td>-0.0000</td>\n",
       "      <td>0.0000</td>\n",
       "      <td>-0.0000</td>\n",
       "      <td>-0.0000</td>\n",
       "      <td>-0.0000</td>\n",
       "      <td>-0.0000</td>\n",
       "      <td>0.0000</td>\n",
       "      <td>-0.0000</td>\n",
       "      <td>-0.0000</td>\n",
       "      <td>...</td>\n",
       "      <td>0.0000</td>\n",
       "      <td>0.0000</td>\n",
       "      <td>0.0000</td>\n",
       "      <td>-0.0000</td>\n",
       "      <td>-0.0000</td>\n",
       "      <td>0.0000</td>\n",
       "      <td>-0.0000</td>\n",
       "      <td>-0.0071</td>\n",
       "      <td>25.0268</td>\n",
       "      <td>693.7214</td>\n",
       "    </tr>\n",
       "    <tr>\n",
       "      <th>std</th>\n",
       "      <td>1.0000</td>\n",
       "      <td>1.0000</td>\n",
       "      <td>1.0000</td>\n",
       "      <td>1.0000</td>\n",
       "      <td>1.0000</td>\n",
       "      <td>1.0000</td>\n",
       "      <td>1.0000</td>\n",
       "      <td>1.0000</td>\n",
       "      <td>1.0000</td>\n",
       "      <td>1.0000</td>\n",
       "      <td>...</td>\n",
       "      <td>1.0000</td>\n",
       "      <td>1.0000</td>\n",
       "      <td>1.0000</td>\n",
       "      <td>1.0000</td>\n",
       "      <td>1.0000</td>\n",
       "      <td>1.0000</td>\n",
       "      <td>1.0000</td>\n",
       "      <td>0.9003</td>\n",
       "      <td>3.6446</td>\n",
       "      <td>486.4557</td>\n",
       "    </tr>\n",
       "    <tr>\n",
       "      <th>min</th>\n",
       "      <td>-3.5910</td>\n",
       "      <td>-9.4163</td>\n",
       "      <td>-6.6125</td>\n",
       "      <td>-8.9902</td>\n",
       "      <td>-8.4056</td>\n",
       "      <td>-6.2725</td>\n",
       "      <td>-3.1130</td>\n",
       "      <td>-8.1356</td>\n",
       "      <td>-4.8702</td>\n",
       "      <td>-0.9338</td>\n",
       "      <td>...</td>\n",
       "      <td>-4.0650</td>\n",
       "      <td>-3.9135</td>\n",
       "      <td>-11.6564</td>\n",
       "      <td>-7.0140</td>\n",
       "      <td>-5.2250</td>\n",
       "      <td>-3.2843</td>\n",
       "      <td>-3.8547</td>\n",
       "      <td>-1.0000</td>\n",
       "      <td>20.1000</td>\n",
       "      <td>0.0000</td>\n",
       "    </tr>\n",
       "    <tr>\n",
       "      <th>25%</th>\n",
       "      <td>-0.5174</td>\n",
       "      <td>-0.3436</td>\n",
       "      <td>-0.5260</td>\n",
       "      <td>-0.2134</td>\n",
       "      <td>-0.4330</td>\n",
       "      <td>-0.4971</td>\n",
       "      <td>-0.5244</td>\n",
       "      <td>-0.3965</td>\n",
       "      <td>-0.6088</td>\n",
       "      <td>-0.6870</td>\n",
       "      <td>...</td>\n",
       "      <td>-0.5792</td>\n",
       "      <td>-0.4764</td>\n",
       "      <td>-0.4117</td>\n",
       "      <td>-0.5304</td>\n",
       "      <td>-0.3900</td>\n",
       "      <td>-0.6150</td>\n",
       "      <td>-0.6252</td>\n",
       "      <td>-1.0000</td>\n",
       "      <td>21.1000</td>\n",
       "      <td>297.0000</td>\n",
       "    </tr>\n",
       "    <tr>\n",
       "      <th>50%</th>\n",
       "      <td>-0.2785</td>\n",
       "      <td>0.0458</td>\n",
       "      <td>-0.0226</td>\n",
       "      <td>0.0175</td>\n",
       "      <td>0.0045</td>\n",
       "      <td>0.0034</td>\n",
       "      <td>-0.2717</td>\n",
       "      <td>0.0523</td>\n",
       "      <td>-0.0462</td>\n",
       "      <td>-0.4343</td>\n",
       "      <td>...</td>\n",
       "      <td>-0.0641</td>\n",
       "      <td>0.0808</td>\n",
       "      <td>0.0600</td>\n",
       "      <td>0.0726</td>\n",
       "      <td>0.0148</td>\n",
       "      <td>-0.1864</td>\n",
       "      <td>-0.1131</td>\n",
       "      <td>0.0000</td>\n",
       "      <td>25.6000</td>\n",
       "      <td>603.5000</td>\n",
       "    </tr>\n",
       "    <tr>\n",
       "      <th>75%</th>\n",
       "      <td>0.6446</td>\n",
       "      <td>0.5491</td>\n",
       "      <td>0.5568</td>\n",
       "      <td>0.2488</td>\n",
       "      <td>0.4305</td>\n",
       "      <td>0.4885</td>\n",
       "      <td>0.6691</td>\n",
       "      <td>0.6927</td>\n",
       "      <td>0.5950</td>\n",
       "      <td>0.3711</td>\n",
       "      <td>...</td>\n",
       "      <td>0.5184</td>\n",
       "      <td>0.3879</td>\n",
       "      <td>0.4545</td>\n",
       "      <td>0.6099</td>\n",
       "      <td>0.5372</td>\n",
       "      <td>0.4121</td>\n",
       "      <td>0.5416</td>\n",
       "      <td>1.0000</td>\n",
       "      <td>28.9000</td>\n",
       "      <td>1003.0000</td>\n",
       "    </tr>\n",
       "    <tr>\n",
       "      <th>max</th>\n",
       "      <td>2.6170</td>\n",
       "      <td>4.2651</td>\n",
       "      <td>6.0183</td>\n",
       "      <td>9.0084</td>\n",
       "      <td>8.7169</td>\n",
       "      <td>7.9005</td>\n",
       "      <td>2.0682</td>\n",
       "      <td>2.3163</td>\n",
       "      <td>4.9736</td>\n",
       "      <td>7.5768</td>\n",
       "      <td>...</td>\n",
       "      <td>5.6213</td>\n",
       "      <td>4.0389</td>\n",
       "      <td>4.2209</td>\n",
       "      <td>3.8696</td>\n",
       "      <td>3.9312</td>\n",
       "      <td>5.3200</td>\n",
       "      <td>6.0086</td>\n",
       "      <td>1.0000</td>\n",
       "      <td>29.2000</td>\n",
       "      <td>2079.0000</td>\n",
       "    </tr>\n",
       "  </tbody>\n",
       "</table>\n",
       "<p>8 rows × 114 columns</p>\n",
       "</div>"
      ],
      "text/plain": [
       "              Gz         Ax         Ay    Gz_diff    Ax_diff    Ay_diff  \\\n",
       "count 33330.0000 33330.0000 33330.0000 33330.0000 33330.0000 33330.0000   \n",
       "mean     -0.0000    -0.0000     0.0000    -0.0000    -0.0000    -0.0000   \n",
       "std       1.0000     1.0000     1.0000     1.0000     1.0000     1.0000   \n",
       "min      -3.5910    -9.4163    -6.6125    -8.9902    -8.4056    -6.2725   \n",
       "25%      -0.5174    -0.3436    -0.5260    -0.2134    -0.4330    -0.4971   \n",
       "50%      -0.2785     0.0458    -0.0226     0.0175     0.0045     0.0034   \n",
       "75%       0.6446     0.5491     0.5568     0.2488     0.4305     0.4885   \n",
       "max       2.6170     4.2651     6.0183     9.0084     8.7169     7.9005   \n",
       "\n",
       "       Gz_mean_w5  Ax_mean_w5  Ay_mean_w5  Gz_std_w5  ...  \\\n",
       "count  33330.0000  33330.0000  33330.0000 33330.0000  ...   \n",
       "mean      -0.0000      0.0000     -0.0000    -0.0000  ...   \n",
       "std        1.0000      1.0000      1.0000     1.0000  ...   \n",
       "min       -3.1130     -8.1356     -4.8702    -0.9338  ...   \n",
       "25%       -0.5244     -0.3965     -0.6088    -0.6870  ...   \n",
       "50%       -0.2717      0.0523     -0.0462    -0.4343  ...   \n",
       "75%        0.6691      0.6927      0.5950     0.3711  ...   \n",
       "max        2.0682      2.3163      4.9736     7.5768  ...   \n",
       "\n",
       "       differencing_Ay_std_w20  differencing_Gz_min_w20  \\\n",
       "count               33330.0000               33330.0000   \n",
       "mean                    0.0000                   0.0000   \n",
       "std                     1.0000                   1.0000   \n",
       "min                    -4.0650                  -3.9135   \n",
       "25%                    -0.5792                  -0.4764   \n",
       "50%                    -0.0641                   0.0808   \n",
       "75%                     0.5184                   0.3879   \n",
       "max                     5.6213                   4.0389   \n",
       "\n",
       "       differencing_Ax_min_w20  differencing_Ay_min_w20  \\\n",
       "count               33330.0000               33330.0000   \n",
       "mean                    0.0000                  -0.0000   \n",
       "std                     1.0000                   1.0000   \n",
       "min                   -11.6564                  -7.0140   \n",
       "25%                    -0.4117                  -0.5304   \n",
       "50%                     0.0600                   0.0726   \n",
       "75%                     0.4545                   0.6099   \n",
       "max                     4.2209                   3.8696   \n",
       "\n",
       "       differencing_Gz_max_w20  differencing_Ax_max_w20  \\\n",
       "count               33330.0000               33330.0000   \n",
       "mean                   -0.0000                   0.0000   \n",
       "std                     1.0000                   1.0000   \n",
       "min                    -5.2250                  -3.2843   \n",
       "25%                    -0.3900                  -0.6150   \n",
       "50%                     0.0148                  -0.1864   \n",
       "75%                     0.5372                   0.4121   \n",
       "max                     3.9312                   5.3200   \n",
       "\n",
       "       differencing_Ay_max_w20  orient_discr  POSy_discr      label  \n",
       "count               33330.0000    33330.0000  33330.0000 33330.0000  \n",
       "mean                   -0.0000       -0.0071     25.0268   693.7214  \n",
       "std                     1.0000        0.9003      3.6446   486.4557  \n",
       "min                    -3.8547       -1.0000     20.1000     0.0000  \n",
       "25%                    -0.6252       -1.0000     21.1000   297.0000  \n",
       "50%                    -0.1131        0.0000     25.6000   603.5000  \n",
       "75%                     0.5416        1.0000     28.9000  1003.0000  \n",
       "max                     6.0086        1.0000     29.2000  2079.0000  \n",
       "\n",
       "[8 rows x 114 columns]"
      ]
     },
     "execution_count": 11,
     "metadata": {},
     "output_type": "execute_result"
    }
   ],
   "source": [
    "print(len(df), \"rows in the dataset\")\n",
    "print(df.columns)\n",
    "df.describe()"
   ]
  },
  {
   "cell_type": "markdown",
   "id": "e5765f47",
   "metadata": {},
   "source": [
    "# Machine learning: training phase"
   ]
  },
  {
   "cell_type": "markdown",
   "id": "d279553f",
   "metadata": {},
   "source": [
    "## Dataset preprocessing for machine learning models\n",
    "\n",
    "In this section, RUL labels are converted to binary labels (`0/1`, namely `not_fault/fault`) in order to perform classification instead of regression.\n",
    "\n",
    "For the `AutoEncoder` model, the dataset is partitioned such that the training set does not contain faults or samples which anticipate a fault. In other words, each sample must be compliant with the `good_samples_thr` threshold.\n",
    "\n",
    "We basically need an entire section of dataset where faults are not present."
   ]
  },
  {
   "cell_type": "code",
   "execution_count": 12,
   "id": "d19cf5c1",
   "metadata": {},
   "outputs": [],
   "source": [
    "def build_dataset_for_ml_model(df, training_columns, split_size=0.75, as_list=False, ae=False):\n",
    "    dfs = []\n",
    "    df_main = df[training_columns]\n",
    "    fault_indexes = df_main.index[df_main[\"label\"] == 0].tolist() # list of indexes representing faults\n",
    "    good_samples_thr = margin * 2\n",
    "    \n",
    "    previous = 0\n",
    "    for fi in fault_indexes:\n",
    "        dfs.append(df_main.iloc[previous:fi+1, :])\n",
    "        previous = fi + 1\n",
    "    \n",
    "    rnd_list = list(range(len(dfs)))\n",
    "    \n",
    "    # If split_size is 1, there will be no val/test set\n",
    "    train_size = floor(len(dfs) * split_size)\n",
    "    train_index = rnd_list[:train_size]\n",
    "    test_index = rnd_list[train_size:]\n",
    "    train_rul = []\n",
    "    test_rul = []\n",
    "    \n",
    "    if not as_list:\n",
    "        first = True\n",
    "        for ti in train_index:\n",
    "            if not ae:\n",
    "                to_concat = dfs[ti].copy()\n",
    "            else:\n",
    "                to_concat = dfs[ti][dfs[ti][\"label\"] >= good_samples_thr].copy()\n",
    "            if first:\n",
    "                training_set = to_concat\n",
    "                first = False\n",
    "            else:\n",
    "                training_set = pd.concat([training_set, to_concat])\n",
    "\n",
    "        first = True\n",
    "        for ti in test_index:\n",
    "            to_concat = dfs[ti].copy()\n",
    "            if first:\n",
    "                test_set = to_concat\n",
    "                first = False\n",
    "            else:\n",
    "                test_set = pd.concat([test_set, to_concat])\n",
    "        \n",
    "        train_rul = training_set['label'].tolist()\n",
    "        if split_size < 1:\n",
    "            test_rul = test_set['label'].tolist()\n",
    "        \n",
    "        training_set['label'] = (training_set['label'] >= margin).map({True: 1, False: 0})\n",
    "        if split_size < 1:\n",
    "            test_set['label'] = (test_set['label'] >= margin).map({True: 1, False: 0})\n",
    "\n",
    "        training_set = training_set.to_numpy()\n",
    "        if split_size < 1:\n",
    "            test_set = test_set.to_numpy()\n",
    "        \n",
    "    else:\n",
    "        first = True\n",
    "        for ti in train_index:\n",
    "            if not ae:\n",
    "                to_concat = dfs[ti].copy()\n",
    "            else:\n",
    "                to_concat = dfs[ti][dfs[ti][\"label\"] >= good_samples_thr].copy()\n",
    "            if first:\n",
    "                training_set = [to_concat]\n",
    "                first = False\n",
    "            else:\n",
    "                training_set.append(to_concat)\n",
    "                \n",
    "        first = True\n",
    "        for ti in test_index:\n",
    "            to_concat = dfs[ti].copy()\n",
    "            if first:\n",
    "                test_set = [to_concat]\n",
    "                first = False\n",
    "            else:\n",
    "                test_set.append(to_concat)\n",
    "        \n",
    "        for t in training_set:\n",
    "            train_rul = train_rul + t['label'].tolist()\n",
    "            t['label'] = (t['label'] >= margin).map({True: 1, False: 0})\n",
    "        if split_size < 1:\n",
    "            for t in test_set:\n",
    "                test_rul = test_rul + t['label'].tolist()\n",
    "                t['label'] = (t['label'] >= margin).map({True: 1, False: 0})\n",
    "    if split_size < 1:\n",
    "        return training_set, test_set\n",
    "    return training_set"
   ]
  },
  {
   "cell_type": "markdown",
   "id": "0c131072",
   "metadata": {},
   "source": [
    "## Cost model for threshold optimization and performance evaluation"
   ]
  },
  {
   "cell_type": "code",
   "execution_count": 13,
   "id": "d58986c8",
   "metadata": {},
   "outputs": [],
   "source": [
    "all_perf = []"
   ]
  },
  {
   "cell_type": "code",
   "execution_count": 14,
   "id": "f7551194",
   "metadata": {},
   "outputs": [],
   "source": [
    "BASE_FP = 0.2\n",
    "BASE_FN = 1\n",
    "\n",
    "def false_positive_cost(i, is_fault, fault_found):\n",
    "    return BASE_FP\n",
    "\n",
    "def false_negative_cost(i, is_fault, fault_found):\n",
    "    if not fault_found:\n",
    "        for j in range(1, margin + 1):\n",
    "            if i + j < is_fault.shape[0] and not is_fault[i + j] or i + j >= is_fault.shape[0]:\n",
    "                return (margin + 1 - j) * BASE_FN\n",
    "    else:\n",
    "        return 0"
   ]
  },
  {
   "cell_type": "code",
   "execution_count": 15,
   "id": "c1359dec",
   "metadata": {},
   "outputs": [],
   "source": [
    "def threshold_optimization(signal, rul, start, end, n_steps):\n",
    "    best_cost = sys.maxsize\n",
    "    best_thr = -1\n",
    "    all_cost = []\n",
    "    all_thr = []\n",
    "    is_fault = (rul == 0)\n",
    "    \n",
    "    for thr in np.linspace(start, end, n_steps):\n",
    "        tmp_cost = 0\n",
    "        fault_found = False\n",
    "        for i in range(signal.shape[0]):\n",
    "            if is_fault[i] and signal[i] >= thr:\n",
    "                fault_found = True\n",
    "            if not is_fault[i]:\n",
    "                fault_found = False\n",
    "            if not is_fault[i] and signal[i] >= thr:\n",
    "                tmp_cost += false_positive_cost(i, is_fault, fault_found)\n",
    "            elif is_fault[i] and signal[i] <= thr:\n",
    "                tmp_cost += false_negative_cost(i, is_fault, fault_found)\n",
    "        if tmp_cost < best_cost:\n",
    "            best_thr = thr\n",
    "            best_cost = tmp_cost\n",
    "        all_cost.append(tmp_cost)\n",
    "        all_thr.append(thr)\n",
    "\n",
    "    return best_cost, best_thr, all_cost, all_thr"
   ]
  },
  {
   "cell_type": "code",
   "execution_count": 16,
   "id": "5eacfd9a",
   "metadata": {},
   "outputs": [],
   "source": [
    "def plot_threshold(signal, thr, rul):\n",
    "\n",
    "    plt.plot(signal, alpha=0.5)\n",
    "    plt.plot(range(len(signal)), [thr] * len(signal))\n",
    "\n",
    "    ranges = []\n",
    "    signal_values = []\n",
    "    for i in range(len(rul)):\n",
    "        if rul[i] == 0:\n",
    "            ranges.append(i)\n",
    "            signal_values.append(signal[i])\n",
    "\n",
    "    plt.scatter(ranges, signal_values, color=\"red\", s=10)\n",
    "    \n",
    "    plt.ylabel('Alarm signal intensity')\n",
    "    plt.xlabel('Time')\n",
    "    plt.legend(['Alarm signal', \"Threshold\", 'Anomalies'], loc='upper right')\n",
    "    plt.show()\n",
    "    plt.show()"
   ]
  },
  {
   "cell_type": "code",
   "execution_count": 17,
   "id": "14a8cce1",
   "metadata": {},
   "outputs": [],
   "source": [
    "def performance_evaluation(signal, thr, rul):\n",
    "    fp, fn, tp, tot_p = 0, 0, 0, 0\n",
    "    cost = 0\n",
    "    alarm = (signal >= thr)\n",
    "    anticipation = []\n",
    "    is_fault = (rul == 0)\n",
    "    \n",
    "    fault_found = False\n",
    "    for i in range(len(rul)):\n",
    "        if i > 0 and is_fault[i] and not is_fault[i - 1]:\n",
    "            tot_p += 1\n",
    "            start = i\n",
    "        if is_fault[i] and not fault_found and alarm[i]:\n",
    "            tp += 1\n",
    "            fault_found = True\n",
    "            anticipation.append((margin - 1) - (i - start))\n",
    "        if (i < len(rul) - 1 and is_fault[i] and not is_fault[i + 1] and not fault_found) or (i == len(rul) - 1 and not fault_found):\n",
    "            fn += 1 \n",
    "        if is_fault[i] and signal[i] <= thr:\n",
    "            cost += false_negative_cost(i, is_fault, fault_found)\n",
    "        if not is_fault[i]:\n",
    "            fault_found = False\n",
    "            if alarm[i]:\n",
    "                fp += 1\n",
    "                cost += false_positive_cost(i, is_fault, fault_found)\n",
    "        \n",
    "    tot_a = sum(anticipation) / 10\n",
    "    if sum(anticipation) > 0:\n",
    "        mean_a = mean(anticipation) / 10\n",
    "    else:\n",
    "        mean_a = 0\n",
    "    \n",
    "    return [cost, mean_a, tp, fn, fp]"
   ]
  },
  {
   "cell_type": "markdown",
   "id": "89ec634d",
   "metadata": {},
   "source": [
    "## Baseline: raw signal pre-anomaly detection"
   ]
  },
  {
   "cell_type": "code",
   "execution_count": 18,
   "id": "94a954fe",
   "metadata": {},
   "outputs": [],
   "source": [
    "features_raw = [\n",
    " 'Ax',\n",
    " 'Ax_diff',\n",
    " 'Ax_mean_w5',\n",
    " 'Ax_std_w5',\n",
    " 'Ax_min_w5',\n",
    " 'Ax_max_w5',\n",
    " 'Ax_mean_w10',\n",
    " 'Ax_std_w10',\n",
    " 'Ax_min_w10',\n",
    " 'Ax_max_w10',\n",
    " 'Ax_mean_w15',\n",
    " 'Ax_std_w15',\n",
    " 'Ax_min_w15',\n",
    " 'Ax_max_w15',\n",
    " 'Ax_mean_w20',\n",
    " 'Ax_std_w20',\n",
    " 'Ax_min_w20',\n",
    " 'Ax_max_w20',\n",
    " 'differencing_Ax',\n",
    " 'differencing_Ax_diff',\n",
    " 'differencing_Ax_mean_w5',\n",
    " 'differencing_Ax_std_w5',\n",
    " 'differencing_Ax_min_w5',\n",
    " 'differencing_Ax_max_w5',\n",
    " 'differencing_Ax_mean_w10',\n",
    " 'differencing_Ax_std_w10',\n",
    " 'differencing_Ax_min_w10',\n",
    " 'differencing_Ax_max_w10',\n",
    " 'differencing_Ax_mean_w15',\n",
    " 'differencing_Ax_std_w15',\n",
    " 'differencing_Ax_min_w15',\n",
    " 'differencing_Ax_max_w15',\n",
    " 'differencing_Ax_mean_w20',\n",
    " 'differencing_Ax_std_w20',\n",
    " 'differencing_Ax_min_w20',\n",
    " 'differencing_Ax_max_w20',\n",
    "]\n",
    "\n",
    "for seed in seeds:\n",
    "    for feature in features_raw:\n",
    "        \n",
    "        set_determinism(seed)\n",
    "        \n",
    "        training_columns = [feature, \"label\"]\n",
    "        _, validation_set_raw = build_dataset_for_ml_model(df, training_columns=training_columns)\n",
    "        \n",
    "        val_raw_signal, val_raw_rul = -validation_set_raw[:, 0], validation_set_raw[:, -1]\n",
    "        \n",
    "        best_cost_raw, best_thr_raw, all_cost_raw, all_thr_raw = threshold_optimization(val_raw_signal, val_raw_rul, start=0, end=val_raw_signal.max(), n_steps=200)\n",
    "        perf_raw = performance_evaluation(val_raw_signal, best_thr_raw, val_raw_rul)\n",
    "        all_perf.append([\"raw_signal\", seed, feature, {}] + perf_raw)\n",
    "        \n",
    "        serialize_perf(\"raw_signal\", seed=seed, columns_name=feature, training_columns=training_columns, \n",
    "                       params={}, params_idx=0, history=None, best_cost=best_cost_raw, best_thr=best_thr_raw, \n",
    "                       all_cost=all_cost_raw, all_thr=all_thr_raw, perf=perf_raw)"
   ]
  },
  {
   "cell_type": "markdown",
   "id": "691254d9",
   "metadata": {},
   "source": [
    "## Pre-anomaly detection with AutoEncoders"
   ]
  },
  {
   "cell_type": "code",
   "execution_count": 19,
   "id": "20a0a58f",
   "metadata": {},
   "outputs": [],
   "source": [
    "def build_autoencoder(input_size, hidden):\n",
    "    input_shape = (input_size, )\n",
    "    ae_x = keras.Input(shape=input_shape, dtype='float32')\n",
    "    x = ae_x\n",
    "    for h in hidden:\n",
    "        x = layers.Dense(h, activation='relu')(x)\n",
    "    ae_y = layers.Dense(input_size, activation='linear')(x)\n",
    "    ae = keras.Model(ae_x, ae_y)   \n",
    "    \n",
    "    return ae"
   ]
  },
  {
   "cell_type": "code",
   "execution_count": 20,
   "id": "fc59e918",
   "metadata": {},
   "outputs": [],
   "source": [
    "params_ae = [{\"hidden_ae\": [16, 8, 2, 8, 16]}, \n",
    "             {\"hidden_ae\": [64, 24, 9, 24, 64]}, \n",
    "             {\"hidden_ae\": [128, 56, 18, 56, 128]}]"
   ]
  },
  {
   "cell_type": "code",
   "execution_count": 21,
   "id": "1138942f",
   "metadata": {},
   "outputs": [
    {
     "name": "stdout",
     "output_type": "stream",
     "text": [
      "221/221 [==============================] - 0s 581us/step\n",
      "INFO:tensorflow:Assets written to: ram://16542982-4989-4cb8-892f-28d50c5c889f/assets\n",
      "221/221 [==============================] - 0s 649us/step\n",
      "INFO:tensorflow:Assets written to: ram://b16df34c-1872-4182-8001-95ee7d82c84d/assets\n",
      "221/221 [==============================] - 0s 632us/step\n",
      "INFO:tensorflow:Assets written to: ram://6972f79a-991c-4d31-9618-95447783c84b/assets\n",
      "221/221 [==============================] - 0s 603us/step\n",
      "INFO:tensorflow:Assets written to: ram://0dde7f4f-ac27-4ec3-b4f2-786db5583341/assets\n",
      "221/221 [==============================] - 0s 638us/step\n",
      "INFO:tensorflow:Assets written to: ram://7e41f212-9f55-44ac-af96-6376b034196f/assets\n",
      "221/221 [==============================] - 0s 634us/step\n",
      "INFO:tensorflow:Assets written to: ram://a7d0f938-fce1-4c3f-bf40-1d76d77b9bce/assets\n",
      "221/221 [==============================] - 0s 607us/step\n",
      "INFO:tensorflow:Assets written to: ram://fedeb1e3-09d5-46d3-9cd1-aad0755fcba6/assets\n",
      "221/221 [==============================] - 0s 586us/step\n",
      "INFO:tensorflow:Assets written to: ram://d4bcd8b3-de96-4007-977f-36e2dc9b6d6b/assets\n",
      "221/221 [==============================] - 0s 593us/step\n",
      "INFO:tensorflow:Assets written to: ram://9a46d891-0fd8-4c09-b8e4-0660ffde0857/assets\n",
      "221/221 [==============================] - 0s 607us/step\n",
      "INFO:tensorflow:Assets written to: ram://fc4fab34-2531-44d1-9240-e78950d44a20/assets\n",
      "221/221 [==============================] - 0s 608us/step\n",
      "INFO:tensorflow:Assets written to: ram://3fa4fc0e-c179-4415-a8a1-7d6764784868/assets\n",
      "221/221 [==============================] - 0s 608us/step\n",
      "INFO:tensorflow:Assets written to: ram://84f94a21-bae7-4c7d-adf9-f760d0b73283/assets\n",
      "221/221 [==============================] - 0s 627us/step\n",
      "INFO:tensorflow:Assets written to: ram://10a8315c-8f45-4fed-8f6e-550f99ab15d4/assets\n",
      "221/221 [==============================] - 0s 627us/step\n",
      "INFO:tensorflow:Assets written to: ram://555c2319-be24-43df-b0e9-581e9199eb8e/assets\n",
      "221/221 [==============================] - 0s 597us/step\n",
      "INFO:tensorflow:Assets written to: ram://fcecdedc-a5a7-44a2-bcfe-58df8b569eb4/assets\n",
      "221/221 [==============================] - 0s 606us/step\n",
      "INFO:tensorflow:Assets written to: ram://d129d450-c9a6-4e6e-b2eb-535d943a6970/assets\n",
      "221/221 [==============================] - 0s 599us/step\n",
      "INFO:tensorflow:Assets written to: ram://2c262aab-cf7c-4368-9b80-ffcd4228dfc0/assets\n",
      "221/221 [==============================] - 0s 599us/step\n",
      "INFO:tensorflow:Assets written to: ram://b5ba7b7e-6165-4415-9e64-774419cdda57/assets\n",
      "221/221 [==============================] - 0s 592us/step\n",
      "INFO:tensorflow:Assets written to: ram://9eb62666-0a02-46b0-b212-0e4b77318595/assets\n",
      "221/221 [==============================] - 0s 624us/step\n",
      "INFO:tensorflow:Assets written to: ram://4486533b-69c7-4db7-9e4c-38f8f5b67293/assets\n",
      "221/221 [==============================] - 0s 647us/step\n",
      "INFO:tensorflow:Assets written to: ram://5947641e-eca2-413e-91b5-c023c7ba0a42/assets\n",
      "221/221 [==============================] - 0s 590us/step\n",
      "INFO:tensorflow:Assets written to: ram://32cee13b-b6e9-4a09-a784-f582277b7f01/assets\n",
      "221/221 [==============================] - 0s 552us/step\n",
      "INFO:tensorflow:Assets written to: ram://dc2df380-6bcb-4ffb-ac20-f87aa9949874/assets\n",
      "221/221 [==============================] - 0s 675us/step\n",
      "INFO:tensorflow:Assets written to: ram://bd8b9509-3a2d-4350-ab29-97abe1dc1f3c/assets\n",
      "221/221 [==============================] - 0s 612us/step\n",
      "INFO:tensorflow:Assets written to: ram://80b6b3ac-50da-49a7-80d8-fc708047cd19/assets\n",
      "221/221 [==============================] - 0s 595us/step\n",
      "INFO:tensorflow:Assets written to: ram://c75419b2-873a-43c2-961f-6984bdf5a0eb/assets\n",
      "221/221 [==============================] - 0s 612us/step\n",
      "INFO:tensorflow:Assets written to: ram://477cadad-5298-4123-a08b-520b3efd4dd1/assets\n",
      "221/221 [==============================] - 0s 590us/step\n",
      "INFO:tensorflow:Assets written to: ram://323595be-e9c4-4dc7-80fc-2ccc4bbc5c8a/assets\n",
      "221/221 [==============================] - 0s 596us/step\n",
      "INFO:tensorflow:Assets written to: ram://01243beb-8cff-43bb-b89d-795852809feb/assets\n",
      "221/221 [==============================] - 0s 607us/step\n",
      "INFO:tensorflow:Assets written to: ram://0f5d1fbe-89bc-4a53-91dd-49ddec5c43ef/assets\n",
      "221/221 [==============================] - 0s 614us/step\n",
      "INFO:tensorflow:Assets written to: ram://93c819b1-dafb-4d85-a22e-02d37c416082/assets\n",
      "221/221 [==============================] - 0s 558us/step\n",
      "INFO:tensorflow:Assets written to: ram://041b630c-0ad9-4471-b342-8b949823c3ff/assets\n",
      "221/221 [==============================] - 0s 639us/step\n",
      "INFO:tensorflow:Assets written to: ram://d7e166b8-4a6b-4167-b27f-0a9a5a8df7cb/assets\n",
      "221/221 [==============================] - 0s 647us/step\n",
      "INFO:tensorflow:Assets written to: ram://88c824b2-788c-47e9-9db5-8bfed1f6f9c8/assets\n",
      "221/221 [==============================] - 0s 620us/step\n",
      "INFO:tensorflow:Assets written to: ram://7df3d1af-88e6-44d7-a741-580a645dfd81/assets\n",
      "221/221 [==============================] - 0s 541us/step\n",
      "INFO:tensorflow:Assets written to: ram://1afad615-e5ae-4eeb-9796-b0d4cc054f1c/assets\n",
      "221/221 [==============================] - 0s 612us/step\n",
      "INFO:tensorflow:Assets written to: ram://9b447a8c-0702-481a-b44c-701c5add9a6e/assets\n",
      "221/221 [==============================] - 0s 648us/step\n",
      "INFO:tensorflow:Assets written to: ram://58fa9e38-3f38-4086-b9df-78e77d162b25/assets\n",
      "221/221 [==============================] - 0s 608us/step\n",
      "INFO:tensorflow:Assets written to: ram://410815e2-ef0b-4437-822e-61c814519998/assets\n",
      "221/221 [==============================] - 0s 577us/step\n",
      "INFO:tensorflow:Assets written to: ram://f1c5a1d2-4395-47cb-a3ae-acc2d8a96cb2/assets\n",
      "221/221 [==============================] - 0s 657us/step\n",
      "INFO:tensorflow:Assets written to: ram://308eea62-0b36-4a99-9760-150763fef3a5/assets\n",
      "221/221 [==============================] - 0s 621us/step\n",
      "INFO:tensorflow:Assets written to: ram://7ec4bc40-2ed6-4b62-a583-726ff3c3fa12/assets\n",
      "221/221 [==============================] - 0s 604us/step\n",
      "INFO:tensorflow:Assets written to: ram://dc8ff1b3-a017-450a-84c6-cb80c10fae6a/assets\n",
      "221/221 [==============================] - 0s 584us/step\n",
      "INFO:tensorflow:Assets written to: ram://3e45c51d-7c6c-451f-85fe-12563d82c8be/assets\n",
      "221/221 [==============================] - 0s 635us/step\n",
      "INFO:tensorflow:Assets written to: ram://6d6e3789-a1bb-42bd-b48f-6079baa590ee/assets\n",
      "221/221 [==============================] - 0s 631us/step\n",
      "INFO:tensorflow:Assets written to: ram://cef86e18-684e-4fbb-aec7-5b43603a3147/assets\n",
      "221/221 [==============================] - 0s 580us/step\n",
      "INFO:tensorflow:Assets written to: ram://6ba3d5ea-d5ca-4d3b-8ebe-05d94f8e13a2/assets\n",
      "221/221 [==============================] - 0s 615us/step\n",
      "INFO:tensorflow:Assets written to: ram://be878fd6-9076-43ad-998a-75168dbf5d75/assets\n",
      "221/221 [==============================] - 0s 613us/step\n",
      "INFO:tensorflow:Assets written to: ram://35ff289d-7c48-4267-a85e-3ddb1dcac2b9/assets\n",
      "221/221 [==============================] - 0s 606us/step\n",
      "INFO:tensorflow:Assets written to: ram://68b68bdf-58ee-485a-b535-67378854de66/assets\n",
      "221/221 [==============================] - 0s 573us/step\n",
      "INFO:tensorflow:Assets written to: ram://a121f9c9-3923-4dbf-a560-953e4e6940ec/assets\n",
      "221/221 [==============================] - 0s 607us/step\n",
      "INFO:tensorflow:Assets written to: ram://1a1754d1-ed41-4404-be6d-be4f4c75aef6/assets\n",
      "221/221 [==============================] - 0s 629us/step\n",
      "INFO:tensorflow:Assets written to: ram://c34cd09c-cc11-43b0-bd8d-9d3815120e12/assets\n",
      "221/221 [==============================] - 0s 599us/step\n",
      "INFO:tensorflow:Assets written to: ram://538df991-61eb-42ab-974b-aa37f1c17ca1/assets\n",
      "221/221 [==============================] - 0s 557us/step\n",
      "INFO:tensorflow:Assets written to: ram://5a7f327d-1b42-46e3-8eea-aea20e877c03/assets\n",
      "221/221 [==============================] - 0s 594us/step\n",
      "INFO:tensorflow:Assets written to: ram://3fe505d2-040b-43d8-b9d2-cff28be9ed0e/assets\n",
      "221/221 [==============================] - 0s 613us/step\n",
      "INFO:tensorflow:Assets written to: ram://059b6f0a-ef0e-44c5-beef-ea4a5b94342a/assets\n",
      "221/221 [==============================] - 0s 604us/step\n",
      "INFO:tensorflow:Assets written to: ram://c3d25bbc-2872-4d31-a208-1bca4323afc8/assets\n"
     ]
    },
    {
     "name": "stdout",
     "output_type": "stream",
     "text": [
      "221/221 [==============================] - 0s 603us/step\n",
      "INFO:tensorflow:Assets written to: ram://2dd02401-23bd-440d-8d6b-b30ff07258c8/assets\n",
      "221/221 [==============================] - 0s 579us/step\n",
      "INFO:tensorflow:Assets written to: ram://0f580312-a28c-4d16-b938-783f0453d579/assets\n",
      "221/221 [==============================] - 0s 575us/step\n",
      "INFO:tensorflow:Assets written to: ram://a4736197-6d41-4163-865d-2bb1f06b3618/assets\n",
      "221/221 [==============================] - 0s 622us/step\n",
      "INFO:tensorflow:Assets written to: ram://3db9b51d-c4e7-44ae-a123-6d3bc80d2142/assets\n",
      "221/221 [==============================] - 0s 583us/step\n",
      "INFO:tensorflow:Assets written to: ram://f61a7d32-eb61-4550-bc07-c3343af297c1/assets\n"
     ]
    }
   ],
   "source": [
    "for seed in seeds:\n",
    "    for columns in features:\n",
    "        for params_idx, params in enumerate(params_ae):\n",
    "\n",
    "            set_determinism(seed)\n",
    "\n",
    "            training_set_ae, validation_set_ae = build_dataset_for_ml_model(df, training_columns=features[columns], ae=True)\n",
    "\n",
    "            train_cols_ae = training_set_ae.shape[1] - 1\n",
    "            ae = build_autoencoder(input_size=train_cols_ae, hidden=params[\"hidden_ae\"])\n",
    "            ae.compile(optimizer=keras.optimizers.Adam(learning_rate=learning_rate), \n",
    "                       loss='mse')\n",
    "            cb_ae = [callbacks.EarlyStopping(patience=patience, restore_best_weights=True)]\n",
    "            history_ae = ae.fit(training_set_ae[:, :-1], training_set_ae[:, :-1], validation_split=validation_split,\n",
    "                                callbacks=cb_ae, batch_size=batch_size, epochs=epochs, verbose=0)\n",
    "            \n",
    "            preds_ae = ae.predict(validation_set_ae[:, :-1])\n",
    "            \n",
    "            signal_ae = pd.Series(data=np.sum(np.square(preds_ae - validation_set_ae[:, :-1]), axis=1))\n",
    "            rul_ae = validation_set_ae[:, -1]\n",
    "\n",
    "            best_cost_ae, best_thr_ae, all_cost_ae, all_thr_ae = threshold_optimization(signal_ae, rul_ae, start=0, end=signal_ae.max(), n_steps=200)\n",
    "            \n",
    "            perf_ae = performance_evaluation(signal_ae, best_thr_ae, rul_ae)\n",
    "            all_perf.append([\"autoencoder\", seed, columns, params] + perf_ae)\n",
    "            \n",
    "            serialize_perf(\"autoencoder\", seed=seed, columns_name=columns, training_columns=features[columns], \n",
    "                           params=params, params_idx=params_idx, history=history_ae, best_cost=best_cost_ae, best_thr=best_thr_ae, \n",
    "                           all_cost=all_cost_ae, all_thr=all_thr_ae, perf=perf_ae)"
   ]
  },
  {
   "cell_type": "markdown",
   "id": "d123add4",
   "metadata": {},
   "source": [
    "## RUL estimation with Dense Neural Networks"
   ]
  },
  {
   "cell_type": "code",
   "execution_count": 24,
   "id": "5a98d1b9",
   "metadata": {},
   "outputs": [],
   "source": [
    "def build_classifier(input_size, hidden):\n",
    "    input_shape = (input_size,)\n",
    "    model_in = keras.Input(shape=input_shape, dtype='float32')\n",
    "    x = model_in\n",
    "    for h in hidden:\n",
    "        x = layers.Dense(h, activation='relu')(x)\n",
    "    model_out = layers.Dense(1, activation='sigmoid')(x)\n",
    "    model = keras.Model(model_in, model_out)\n",
    "    return model"
   ]
  },
  {
   "cell_type": "code",
   "execution_count": 25,
   "id": "3f39e2f9",
   "metadata": {},
   "outputs": [],
   "source": [
    "params_mlp = [{\"hidden_mlp\": []},\n",
    "              {\"hidden_mlp\": [32]},\n",
    "              {\"hidden_mlp\": [64, 32]}, \n",
    "              {\"hidden_mlp\": [128, 64, 32]}]"
   ]
  },
  {
   "cell_type": "markdown",
   "id": "99ad43d6",
   "metadata": {},
   "source": [
    "**Class weights** are useful when you have an **unbalanced dataset** and you want to improve single-label classification results. With class weights, you can weight more the samples belonging to the rarest class."
   ]
  },
  {
   "cell_type": "code",
   "execution_count": 26,
   "id": "202e0e4f",
   "metadata": {},
   "outputs": [
    {
     "name": "stdout",
     "output_type": "stream",
     "text": [
      "221/221 [==============================] - 0s 542us/step\n",
      "INFO:tensorflow:Assets written to: ram://47f467d3-ccc5-440a-aab9-3e819e691b15/assets\n",
      "221/221 [==============================] - 0s 529us/step\n",
      "INFO:tensorflow:Assets written to: ram://da1deea0-312e-4ffd-b3c4-7574a1e31bcd/assets\n",
      "221/221 [==============================] - 0s 585us/step\n",
      "INFO:tensorflow:Assets written to: ram://d87a1c9a-0a7a-446c-b0cf-de1025795781/assets\n",
      "221/221 [==============================] - 0s 583us/step\n",
      "INFO:tensorflow:Assets written to: ram://e81718c1-81ec-47cc-9df0-b3dab920eccd/assets\n",
      "221/221 [==============================] - 0s 511us/step\n",
      "INFO:tensorflow:Assets written to: ram://b5bbcfdc-48a6-4184-9df7-0a6492aae218/assets\n",
      "221/221 [==============================] - 0s 585us/step\n",
      "INFO:tensorflow:Assets written to: ram://ce6f51c7-a132-4139-bee7-a7b7b15ad625/assets\n",
      "221/221 [==============================] - 0s 555us/step\n",
      "INFO:tensorflow:Assets written to: ram://3d4ae8f0-72be-42c5-b654-b9130966630b/assets\n",
      "221/221 [==============================] - 0s 547us/step\n",
      "INFO:tensorflow:Assets written to: ram://57e86f76-3fb3-478d-a02b-e9ad2b7b0381/assets\n",
      "221/221 [==============================] - 0s 518us/step\n",
      "INFO:tensorflow:Assets written to: ram://a6801dc1-edcb-474a-85ab-7954538bb61a/assets\n",
      "221/221 [==============================] - 0s 526us/step\n",
      "INFO:tensorflow:Assets written to: ram://8e0196b8-f72e-447a-b581-13f753053bae/assets\n",
      "221/221 [==============================] - 0s 560us/step\n",
      "INFO:tensorflow:Assets written to: ram://ac05abdb-d874-4606-8f70-159b39d01d16/assets\n",
      "221/221 [==============================] - 0s 592us/step\n",
      "INFO:tensorflow:Assets written to: ram://d63552f3-b49e-47cd-8b5b-6ce251f1db40/assets\n",
      "221/221 [==============================] - 0s 514us/step\n",
      "INFO:tensorflow:Assets written to: ram://0c1b7b29-61ba-40d0-bc1e-4240d47bfbb0/assets\n",
      "221/221 [==============================] - 0s 565us/step\n",
      "INFO:tensorflow:Assets written to: ram://88e652da-0fb2-4c1c-afdd-f2a8377cd320/assets\n",
      "221/221 [==============================] - 0s 546us/step\n",
      "INFO:tensorflow:Assets written to: ram://b6656630-6319-4a61-ac36-9a3ea6f70ced/assets\n",
      "221/221 [==============================] - 0s 558us/step\n",
      "INFO:tensorflow:Assets written to: ram://f468ff70-e8f2-490b-aaef-d10e3be08a51/assets\n",
      "221/221 [==============================] - 0s 525us/step\n",
      "INFO:tensorflow:Assets written to: ram://2fcfae3c-c17d-48a9-88fe-83a08cc1916e/assets\n",
      "221/221 [==============================] - 0s 528us/step\n",
      "INFO:tensorflow:Assets written to: ram://359f0ca0-c974-4e66-a135-d02e1e78d5c6/assets\n",
      "221/221 [==============================] - 0s 586us/step\n",
      "INFO:tensorflow:Assets written to: ram://7e4fa6ad-7249-4191-bc36-1b4794cf6af7/assets\n",
      "221/221 [==============================] - 0s 577us/step\n",
      "INFO:tensorflow:Assets written to: ram://c26a7a04-431d-4d11-bb42-9079f3d99c46/assets\n",
      "221/221 [==============================] - 0s 519us/step\n",
      "INFO:tensorflow:Assets written to: ram://c247b1f6-f986-4052-ad5d-56f2e957ec5d/assets\n",
      "221/221 [==============================] - 0s 542us/step\n",
      "INFO:tensorflow:Assets written to: ram://296399bf-a6e5-459c-81e3-209b6da18830/assets\n",
      "221/221 [==============================] - 0s 545us/step\n",
      "INFO:tensorflow:Assets written to: ram://fc48b94c-250d-41ae-86f4-aae98900e6b6/assets\n",
      "221/221 [==============================] - 0s 606us/step\n",
      "INFO:tensorflow:Assets written to: ram://1f324a23-2fc4-4353-bd95-f11154e9fa8f/assets\n",
      "221/221 [==============================] - 0s 526us/step\n",
      "INFO:tensorflow:Assets written to: ram://95892491-3b93-4ca3-84bb-5863817e4c44/assets\n",
      "221/221 [==============================] - 0s 529us/step\n",
      "INFO:tensorflow:Assets written to: ram://defd9869-6f5d-4fbc-94f1-f6a81fcf4dc3/assets\n",
      "221/221 [==============================] - 0s 581us/step\n",
      "INFO:tensorflow:Assets written to: ram://7d337298-fac7-431e-af25-887f6ef044f3/assets\n",
      "221/221 [==============================] - 0s 561us/step\n",
      "INFO:tensorflow:Assets written to: ram://bf5dd2f3-8b0f-43fa-9a15-60e3fafcf4c9/assets\n",
      "221/221 [==============================] - 0s 576us/step\n",
      "INFO:tensorflow:Assets written to: ram://cf222c07-6f76-4a4a-84bd-d808272cc4cb/assets\n",
      "221/221 [==============================] - 0s 567us/step\n",
      "INFO:tensorflow:Assets written to: ram://c43a576a-e318-4bdb-9753-26016cf1196b/assets\n",
      "221/221 [==============================] - 0s 531us/step\n",
      "INFO:tensorflow:Assets written to: ram://a1080337-c2da-44f4-86ca-34fb0509eb58/assets\n",
      "221/221 [==============================] - 0s 592us/step\n",
      "INFO:tensorflow:Assets written to: ram://733102b7-c35c-4be6-a753-09b36d792e2b/assets\n",
      "221/221 [==============================] - 0s 534us/step\n",
      "INFO:tensorflow:Assets written to: ram://65c88a28-51e2-4f52-b1bd-4e1420e92bf0/assets\n",
      "221/221 [==============================] - 0s 545us/step\n",
      "INFO:tensorflow:Assets written to: ram://2b5c8b4d-0715-458f-af66-06f0fc4f19ec/assets\n",
      "221/221 [==============================] - 0s 565us/step\n",
      "INFO:tensorflow:Assets written to: ram://4f8f1e94-8c26-4963-befd-6509a2f09990/assets\n",
      "221/221 [==============================] - 0s 529us/step\n",
      "INFO:tensorflow:Assets written to: ram://fa289684-f938-418c-a807-ba8cbaa69012/assets\n",
      "221/221 [==============================] - 0s 537us/step\n",
      "INFO:tensorflow:Assets written to: ram://992a7465-cca0-4c42-8708-727749c2ed5c/assets\n",
      "221/221 [==============================] - 0s 557us/step\n",
      "INFO:tensorflow:Assets written to: ram://ab9248d0-1720-457e-a8a7-b3a9c759db13/assets\n",
      "221/221 [==============================] - 0s 567us/step\n",
      "INFO:tensorflow:Assets written to: ram://d12351f1-5118-408d-b1ba-fc819193116a/assets\n",
      "221/221 [==============================] - 0s 651us/step\n",
      "INFO:tensorflow:Assets written to: ram://d1a0366e-2328-4740-a8f5-424e098408c2/assets\n",
      "221/221 [==============================] - 0s 469us/step\n",
      "INFO:tensorflow:Assets written to: ram://dfe975ae-5cf4-4878-b734-f5cc5111eac6/assets\n",
      "221/221 [==============================] - 0s 574us/step\n",
      "INFO:tensorflow:Assets written to: ram://59fc20e0-4867-4672-8c6f-30ecfccec486/assets\n",
      "221/221 [==============================] - 0s 495us/step\n",
      "INFO:tensorflow:Assets written to: ram://20f87fee-534c-48a3-b112-c9e328ef729d/assets\n",
      "221/221 [==============================] - 0s 558us/step\n",
      "INFO:tensorflow:Assets written to: ram://05e1db5f-52da-443d-8978-3ee54c33a295/assets\n",
      "221/221 [==============================] - 0s 531us/step\n",
      "INFO:tensorflow:Assets written to: ram://8389b298-e11e-4a83-931f-1ce65d973054/assets\n",
      "221/221 [==============================] - 0s 519us/step\n",
      "INFO:tensorflow:Assets written to: ram://ff21010e-1ceb-4c15-b360-41623e1145e2/assets\n",
      "221/221 [==============================] - 0s 602us/step\n",
      "INFO:tensorflow:Assets written to: ram://76b411ee-2dc9-4704-a015-fc3f98459ef2/assets\n",
      "221/221 [==============================] - 0s 575us/step\n",
      "INFO:tensorflow:Assets written to: ram://db919523-663b-4c45-b206-b9cf7d5a6685/assets\n",
      "221/221 [==============================] - 0s 524us/step\n",
      "INFO:tensorflow:Assets written to: ram://e222db44-cb1b-486b-aacd-b2250d4df73c/assets\n",
      "221/221 [==============================] - 0s 524us/step\n",
      "INFO:tensorflow:Assets written to: ram://0397eb52-6320-4561-a5e4-61aa8b66c3b5/assets\n",
      "221/221 [==============================] - 0s 541us/step\n",
      "INFO:tensorflow:Assets written to: ram://cecc2b81-9814-4b78-9c0e-e2d381afaf3f/assets\n",
      "221/221 [==============================] - 0s 577us/step\n",
      "INFO:tensorflow:Assets written to: ram://269c3d4b-07c0-4610-a6df-f2c46817958e/assets\n",
      "221/221 [==============================] - 0s 518us/step\n",
      "INFO:tensorflow:Assets written to: ram://cfacb99f-1f6e-478b-9efa-5b2c99221b2e/assets\n",
      "221/221 [==============================] - 0s 548us/step\n",
      "INFO:tensorflow:Assets written to: ram://ed5bb2be-8cc6-4788-9000-714e7727828b/assets\n",
      "221/221 [==============================] - 0s 568us/step\n",
      "INFO:tensorflow:Assets written to: ram://cbb000da-20d7-4c2f-8f88-b634a4427e86/assets\n",
      "221/221 [==============================] - 0s 576us/step\n",
      "INFO:tensorflow:Assets written to: ram://ad31f789-be96-4699-837c-1be58ff5a51e/assets\n",
      "221/221 [==============================] - 0s 501us/step\n",
      "INFO:tensorflow:Assets written to: ram://eb383080-15f1-45bf-9d2b-25065e23fc7d/assets\n",
      "221/221 [==============================] - 0s 572us/step\n",
      "INFO:tensorflow:Assets written to: ram://28002892-dca6-46ac-9d8c-664a51e66d99/assets\n"
     ]
    },
    {
     "name": "stdout",
     "output_type": "stream",
     "text": [
      "221/221 [==============================] - 0s 546us/step\n",
      "INFO:tensorflow:Assets written to: ram://239ee870-e932-456b-98a2-51f1a548454e/assets\n",
      "221/221 [==============================] - 0s 582us/step\n",
      "INFO:tensorflow:Assets written to: ram://f8493a79-04ce-494d-8185-e086c9883d77/assets\n",
      "221/221 [==============================] - 0s 530us/step\n",
      "INFO:tensorflow:Assets written to: ram://30ad9b2f-428a-40a6-b93a-53599a7bc806/assets\n",
      "221/221 [==============================] - 0s 544us/step\n",
      "INFO:tensorflow:Assets written to: ram://9a2c4cdc-2bf6-40ee-9bf7-9032c10a1069/assets\n",
      "221/221 [==============================] - 0s 546us/step\n",
      "INFO:tensorflow:Assets written to: ram://614426bc-d457-47a7-97f9-3cfad35d9fa3/assets\n",
      "221/221 [==============================] - 0s 589us/step\n",
      "INFO:tensorflow:Assets written to: ram://6e3e2ba2-0f09-4e4e-a62f-bb980fd16ef4/assets\n",
      "221/221 [==============================] - 0s 501us/step\n",
      "INFO:tensorflow:Assets written to: ram://074c635b-f55d-4510-9bc7-50926c3d4230/assets\n",
      "221/221 [==============================] - 0s 580us/step\n",
      "INFO:tensorflow:Assets written to: ram://96eccc2d-ec4c-4629-a0a7-f10fcafa74ea/assets\n",
      "221/221 [==============================] - 0s 562us/step\n",
      "INFO:tensorflow:Assets written to: ram://0b135f05-09d8-4dcf-bd91-4bd262e67dbb/assets\n",
      "221/221 [==============================] - 0s 602us/step\n",
      "INFO:tensorflow:Assets written to: ram://dc72694f-186a-4b4d-991f-e6bcf5bf1ea8/assets\n",
      "221/221 [==============================] - 0s 523us/step\n",
      "INFO:tensorflow:Assets written to: ram://f378157f-b4e8-454b-9efd-cb4a94935719/assets\n",
      "221/221 [==============================] - 0s 514us/step\n",
      "INFO:tensorflow:Assets written to: ram://d6332268-91bf-4aa8-bb77-69a7e1729911/assets\n",
      "221/221 [==============================] - 0s 557us/step\n",
      "INFO:tensorflow:Assets written to: ram://e6c1120f-87f8-40b0-b482-638d106bbe6a/assets\n",
      "221/221 [==============================] - 0s 564us/step\n",
      "INFO:tensorflow:Assets written to: ram://a06ad164-aa4a-41ba-abbd-d182fe8a899b/assets\n",
      "221/221 [==============================] - 0s 496us/step\n",
      "INFO:tensorflow:Assets written to: ram://be4dff77-e610-4ad0-91f5-e192d135d7a3/assets\n",
      "221/221 [==============================] - 0s 566us/step\n",
      "INFO:tensorflow:Assets written to: ram://7f2a7b7f-7fcb-4c96-a021-14979c5314c6/assets\n",
      "221/221 [==============================] - 0s 555us/step\n",
      "INFO:tensorflow:Assets written to: ram://689eef01-1406-4c0d-89be-de7d0bfaabaf/assets\n",
      "221/221 [==============================] - 0s 594us/step\n",
      "INFO:tensorflow:Assets written to: ram://f99e238f-adb7-4adc-be4b-9da0a77173ff/assets\n",
      "221/221 [==============================] - 0s 478us/step\n",
      "INFO:tensorflow:Assets written to: ram://52705c67-cf29-4c27-b14e-c0c0d6f6c4d6/assets\n",
      "221/221 [==============================] - 0s 510us/step\n",
      "INFO:tensorflow:Assets written to: ram://660e3bf0-dad1-4df1-b6cf-d18a0b4c9a7f/assets\n",
      "221/221 [==============================] - 0s 581us/step\n",
      "INFO:tensorflow:Assets written to: ram://6d373f93-a53e-450d-9030-db36e27a4d7c/assets\n",
      "221/221 [==============================] - 0s 602us/step\n",
      "INFO:tensorflow:Assets written to: ram://10d4f3d9-9540-4f7c-ba66-0cb67ecbcc94/assets\n",
      "221/221 [==============================] - 0s 525us/step\n",
      "INFO:tensorflow:Assets written to: ram://5a40f145-fa4c-4272-aec7-d4de2f2d1329/assets\n",
      "221/221 [==============================] - 0s 554us/step\n",
      "INFO:tensorflow:Assets written to: ram://875fe739-71c6-4f5c-b8e3-cb8d68220713/assets\n",
      "221/221 [==============================] - 0s 567us/step\n",
      "INFO:tensorflow:Assets written to: ram://99bf638f-63b4-4434-abaa-9228e7823f04/assets\n",
      "221/221 [==============================] - 0s 702us/step\n",
      "INFO:tensorflow:Assets written to: ram://b9419843-5818-488f-819e-6b55f68a2398/assets\n"
     ]
    }
   ],
   "source": [
    "for seed in seeds:\n",
    "    for columns in features:\n",
    "        for params_idx, params in enumerate(params_mlp):\n",
    "\n",
    "            set_determinism(seed)\n",
    "            \n",
    "            training_set_mlp, validation_set_mlp = build_dataset_for_ml_model(df, training_columns=features[columns])\n",
    "            counts_mlp = pd.Series(training_set_mlp[:, -1]).value_counts(normalize=True)\n",
    "            class_weight_mlp = {0: 1/counts_mlp[0], 1: 1/counts_mlp[1]}\n",
    "            \n",
    "            input_size_mlp = training_set_mlp.shape[1] - 1\n",
    "            mlp = build_classifier(input_size=input_size_mlp, hidden=params[\"hidden_mlp\"])\n",
    "            mlp.compile(optimizer=keras.optimizers.Adam(learning_rate=learning_rate), loss='binary_crossentropy')\n",
    "            cb_mlp = [callbacks.EarlyStopping(patience=patience, restore_best_weights=True)]\n",
    "            history_mlp = mlp.fit(training_set_mlp[:, :-1], training_set_mlp[:, -1], validation_split=validation_split,\n",
    "                                  callbacks=cb_mlp, class_weight=class_weight_mlp,\n",
    "                                  batch_size=batch_size, epochs=epochs, verbose=0)\n",
    "            \n",
    "            preds_mlp = mlp.predict(validation_set_mlp[:, :-1]).ravel()\n",
    "            \n",
    "            signal_mlp = pd.Series(data=(1 - preds_mlp))\n",
    "            rul_mlp = validation_set_mlp[:, -1]\n",
    "\n",
    "            best_cost_mlp, best_thr_mlp, all_cost_mlp, all_thr_mlp = threshold_optimization(signal_mlp, rul_mlp, start=0, end=signal_mlp.max(), n_steps=200)\n",
    "            \n",
    "            perf_mlp = performance_evaluation(signal_mlp, best_thr_mlp, rul_mlp)\n",
    "            all_perf.append([\"mlp\", seed, columns, params] + perf_mlp)\n",
    "            \n",
    "            serialize_perf(\"mlp\", seed=seed, columns_name=columns, training_columns=features[columns], \n",
    "                           params=params, params_idx=params_idx, history=history_mlp, best_cost=best_cost_mlp, best_thr=best_thr_mlp, \n",
    "                           all_cost=all_cost_mlp, all_thr=all_thr_mlp, perf=perf_mlp)"
   ]
  },
  {
   "cell_type": "markdown",
   "id": "fed1a1bb",
   "metadata": {},
   "source": [
    "## RUL estimation with Convolutional Neural Networks"
   ]
  },
  {
   "cell_type": "code",
   "execution_count": 39,
   "id": "2cd3879f",
   "metadata": {},
   "outputs": [],
   "source": [
    "def sliding_window_2D(data, w_len, stride=1):\n",
    "    # Get shifted tables\n",
    "    m = len(data)\n",
    "    lt = [data.iloc[i:m-w_len+i+1:stride, :].values for i in range(w_len)]\n",
    "    # Reshape to add a new axis\n",
    "    s = lt[0].shape\n",
    "    for i in range(w_len):\n",
    "        lt[i] = lt[i].reshape(s[0], 1, s[1])\n",
    "    # Concatenate\n",
    "    wdata = np.concatenate(lt, axis=1)\n",
    "    return wdata\n",
    "\n",
    "\n",
    "def sliding_window_by_fault(data, cols, w_len, stride=1):\n",
    "    l_w, l_r = [], []\n",
    "    for gdata in data:\n",
    "        # Apply a sliding window\n",
    "        tmp_w = sliding_window_2D(gdata[cols], w_len, stride)\n",
    "        # Build the RUL vector\n",
    "        tmp_r = gdata['label'].iloc[w_len-1::stride]\n",
    "        # Store everything\n",
    "        l_w.append(tmp_w)\n",
    "        l_r.append(tmp_r)\n",
    "    res_w = np.concatenate(l_w)\n",
    "    res_r = np.concatenate(l_r)\n",
    "    return res_w, res_r"
   ]
  },
  {
   "cell_type": "code",
   "execution_count": 40,
   "id": "7b19381b",
   "metadata": {},
   "outputs": [],
   "source": [
    "def build_cnn_regressor(input_size, filters, kernel_size, hidden, w_len):\n",
    "    input_shape = (w_len, input_size)\n",
    "    model_in = keras.Input(shape=input_shape, dtype='float32')\n",
    "    model_out = layers.Conv1D(filters, kernel_size=kernel_size, \n",
    "                              activation='relu')(model_in)\n",
    "    model_out = layers.Flatten()(model_out)\n",
    "    for h in hidden:\n",
    "        model_out = layers.Dense(h, activation='relu')(model_out)\n",
    "    model_out = layers.Dense(1, activation='sigmoid')(model_out)\n",
    "    model = keras.Model(model_in, model_out)\n",
    "    return model"
   ]
  },
  {
   "cell_type": "code",
   "execution_count": 41,
   "id": "3b75ef45",
   "metadata": {},
   "outputs": [],
   "source": [
    "params_cnn = [{\"filters\": 1, \"kernel_size\": 3, \"hidden\": [32], \"w_len\": 5},\n",
    "              {\"filters\": 4, \"kernel_size\": 3, \"hidden\": [32], \"w_len\": 5},\n",
    "              {\"filters\": 1, \"kernel_size\": 5, \"hidden\": [32], \"w_len\": 5},\n",
    "              {\"filters\": 4, \"kernel_size\": 5, \"hidden\": [32], \"w_len\": 5},\n",
    "              {\"filters\": 4, \"kernel_size\": 5, \"hidden\": [64, 32], \"w_len\": 5},\n",
    "              {\"filters\": 1, \"kernel_size\": 3, \"hidden\": [32], \"w_len\": 10},\n",
    "              {\"filters\": 4, \"kernel_size\": 3, \"hidden\": [32], \"w_len\": 10},\n",
    "              {\"filters\": 1, \"kernel_size\": 5, \"hidden\": [32], \"w_len\": 10},\n",
    "              {\"filters\": 4, \"kernel_size\": 5, \"hidden\": [32], \"w_len\": 10},\n",
    "              {\"filters\": 4, \"kernel_size\": 5, \"hidden\": [64, 32], \"w_len\": 10},\n",
    "              {\"filters\": 4, \"kernel_size\": 7, \"hidden\": [128, 64, 32], \"w_len\": 10}]"
   ]
  },
  {
   "cell_type": "code",
   "execution_count": 42,
   "id": "8535c7aa",
   "metadata": {
    "scrolled": true
   },
   "outputs": [
    {
     "name": "stdout",
     "output_type": "stream",
     "text": [
      "220/220 [==============================] - 0s 698us/step\n"
     ]
    },
    {
     "name": "stderr",
     "output_type": "stream",
     "text": [
      "WARNING:absl:Found untraced functions such as _jit_compiled_convolution_op while saving (showing 1 of 1). These functions will not be directly callable after loading.\n"
     ]
    },
    {
     "name": "stdout",
     "output_type": "stream",
     "text": [
      "INFO:tensorflow:Assets written to: ram://499cd143-ad19-4bb6-b835-835764cd7021/assets\n"
     ]
    },
    {
     "name": "stderr",
     "output_type": "stream",
     "text": [
      "INFO:tensorflow:Assets written to: ram://499cd143-ad19-4bb6-b835-835764cd7021/assets\n"
     ]
    },
    {
     "name": "stdout",
     "output_type": "stream",
     "text": [
      "220/220 [==============================] - 0s 636us/step\n"
     ]
    },
    {
     "name": "stderr",
     "output_type": "stream",
     "text": [
      "WARNING:absl:Found untraced functions such as _jit_compiled_convolution_op while saving (showing 1 of 1). These functions will not be directly callable after loading.\n"
     ]
    },
    {
     "name": "stdout",
     "output_type": "stream",
     "text": [
      "INFO:tensorflow:Assets written to: ram://62a32bde-3836-4414-9670-e26250b5d050/assets\n"
     ]
    },
    {
     "name": "stderr",
     "output_type": "stream",
     "text": [
      "INFO:tensorflow:Assets written to: ram://62a32bde-3836-4414-9670-e26250b5d050/assets\n"
     ]
    },
    {
     "name": "stdout",
     "output_type": "stream",
     "text": [
      "220/220 [==============================] - 0s 605us/step\n"
     ]
    },
    {
     "name": "stderr",
     "output_type": "stream",
     "text": [
      "WARNING:absl:Found untraced functions such as _jit_compiled_convolution_op while saving (showing 1 of 1). These functions will not be directly callable after loading.\n"
     ]
    },
    {
     "name": "stdout",
     "output_type": "stream",
     "text": [
      "INFO:tensorflow:Assets written to: ram://59d56b65-5336-4eb1-8dde-fdcb7716ff3d/assets\n"
     ]
    },
    {
     "name": "stderr",
     "output_type": "stream",
     "text": [
      "INFO:tensorflow:Assets written to: ram://59d56b65-5336-4eb1-8dde-fdcb7716ff3d/assets\n"
     ]
    },
    {
     "name": "stdout",
     "output_type": "stream",
     "text": [
      "220/220 [==============================] - 0s 559us/step\n"
     ]
    },
    {
     "name": "stderr",
     "output_type": "stream",
     "text": [
      "WARNING:absl:Found untraced functions such as _jit_compiled_convolution_op while saving (showing 1 of 1). These functions will not be directly callable after loading.\n"
     ]
    },
    {
     "name": "stdout",
     "output_type": "stream",
     "text": [
      "INFO:tensorflow:Assets written to: ram://650e48b0-6462-4d23-ad85-3eb4782583e7/assets\n"
     ]
    },
    {
     "name": "stderr",
     "output_type": "stream",
     "text": [
      "INFO:tensorflow:Assets written to: ram://650e48b0-6462-4d23-ad85-3eb4782583e7/assets\n"
     ]
    },
    {
     "name": "stdout",
     "output_type": "stream",
     "text": [
      "220/220 [==============================] - 0s 638us/step\n"
     ]
    },
    {
     "name": "stderr",
     "output_type": "stream",
     "text": [
      "WARNING:absl:Found untraced functions such as _jit_compiled_convolution_op while saving (showing 1 of 1). These functions will not be directly callable after loading.\n"
     ]
    },
    {
     "name": "stdout",
     "output_type": "stream",
     "text": [
      "INFO:tensorflow:Assets written to: ram://fc03af7b-b096-4fbd-ae20-c7cd9c38be1c/assets\n"
     ]
    },
    {
     "name": "stderr",
     "output_type": "stream",
     "text": [
      "INFO:tensorflow:Assets written to: ram://fc03af7b-b096-4fbd-ae20-c7cd9c38be1c/assets\n"
     ]
    },
    {
     "name": "stdout",
     "output_type": "stream",
     "text": [
      "219/219 [==============================] - 0s 643us/step\n"
     ]
    },
    {
     "name": "stderr",
     "output_type": "stream",
     "text": [
      "WARNING:absl:Found untraced functions such as _jit_compiled_convolution_op while saving (showing 1 of 1). These functions will not be directly callable after loading.\n"
     ]
    },
    {
     "name": "stdout",
     "output_type": "stream",
     "text": [
      "INFO:tensorflow:Assets written to: ram://73fc3426-03d2-4f58-9526-d974e058b8aa/assets\n"
     ]
    },
    {
     "name": "stderr",
     "output_type": "stream",
     "text": [
      "INFO:tensorflow:Assets written to: ram://73fc3426-03d2-4f58-9526-d974e058b8aa/assets\n"
     ]
    },
    {
     "name": "stdout",
     "output_type": "stream",
     "text": [
      "219/219 [==============================] - 0s 662us/step\n"
     ]
    },
    {
     "name": "stderr",
     "output_type": "stream",
     "text": [
      "WARNING:absl:Found untraced functions such as _jit_compiled_convolution_op while saving (showing 1 of 1). These functions will not be directly callable after loading.\n"
     ]
    },
    {
     "name": "stdout",
     "output_type": "stream",
     "text": [
      "INFO:tensorflow:Assets written to: ram://c1e65b61-ecb5-495e-aae1-0387b1ad68d8/assets\n"
     ]
    },
    {
     "name": "stderr",
     "output_type": "stream",
     "text": [
      "INFO:tensorflow:Assets written to: ram://c1e65b61-ecb5-495e-aae1-0387b1ad68d8/assets\n"
     ]
    },
    {
     "name": "stdout",
     "output_type": "stream",
     "text": [
      "219/219 [==============================] - 0s 621us/step\n"
     ]
    },
    {
     "name": "stderr",
     "output_type": "stream",
     "text": [
      "WARNING:absl:Found untraced functions such as _jit_compiled_convolution_op while saving (showing 1 of 1). These functions will not be directly callable after loading.\n"
     ]
    },
    {
     "name": "stdout",
     "output_type": "stream",
     "text": [
      "INFO:tensorflow:Assets written to: ram://d235728e-0b85-461e-bf3e-6fb5e39f26c8/assets\n"
     ]
    },
    {
     "name": "stderr",
     "output_type": "stream",
     "text": [
      "INFO:tensorflow:Assets written to: ram://d235728e-0b85-461e-bf3e-6fb5e39f26c8/assets\n"
     ]
    },
    {
     "name": "stdout",
     "output_type": "stream",
     "text": [
      "219/219 [==============================] - 0s 693us/step\n"
     ]
    },
    {
     "name": "stderr",
     "output_type": "stream",
     "text": [
      "WARNING:absl:Found untraced functions such as _jit_compiled_convolution_op while saving (showing 1 of 1). These functions will not be directly callable after loading.\n"
     ]
    },
    {
     "name": "stdout",
     "output_type": "stream",
     "text": [
      "INFO:tensorflow:Assets written to: ram://ba1e0d45-c822-4f69-9088-022479b0feb9/assets\n"
     ]
    },
    {
     "name": "stderr",
     "output_type": "stream",
     "text": [
      "INFO:tensorflow:Assets written to: ram://ba1e0d45-c822-4f69-9088-022479b0feb9/assets\n"
     ]
    },
    {
     "name": "stdout",
     "output_type": "stream",
     "text": [
      "219/219 [==============================] - 0s 653us/step\n"
     ]
    },
    {
     "name": "stderr",
     "output_type": "stream",
     "text": [
      "WARNING:absl:Found untraced functions such as _jit_compiled_convolution_op while saving (showing 1 of 1). These functions will not be directly callable after loading.\n"
     ]
    },
    {
     "name": "stdout",
     "output_type": "stream",
     "text": [
      "INFO:tensorflow:Assets written to: ram://93ca7980-a91e-4058-a905-29d4124e842b/assets\n"
     ]
    },
    {
     "name": "stderr",
     "output_type": "stream",
     "text": [
      "INFO:tensorflow:Assets written to: ram://93ca7980-a91e-4058-a905-29d4124e842b/assets\n"
     ]
    },
    {
     "name": "stdout",
     "output_type": "stream",
     "text": [
      "219/219 [==============================] - 0s 707us/step\n"
     ]
    },
    {
     "name": "stderr",
     "output_type": "stream",
     "text": [
      "WARNING:absl:Found untraced functions such as _jit_compiled_convolution_op while saving (showing 1 of 1). These functions will not be directly callable after loading.\n"
     ]
    },
    {
     "name": "stdout",
     "output_type": "stream",
     "text": [
      "INFO:tensorflow:Assets written to: ram://87f0297f-5dc7-4dca-a019-1ccfd5119e2c/assets\n"
     ]
    },
    {
     "name": "stderr",
     "output_type": "stream",
     "text": [
      "INFO:tensorflow:Assets written to: ram://87f0297f-5dc7-4dca-a019-1ccfd5119e2c/assets\n"
     ]
    },
    {
     "name": "stdout",
     "output_type": "stream",
     "text": [
      "220/220 [==============================] - 0s 641us/step\n"
     ]
    },
    {
     "name": "stderr",
     "output_type": "stream",
     "text": [
      "WARNING:absl:Found untraced functions such as _jit_compiled_convolution_op while saving (showing 1 of 1). These functions will not be directly callable after loading.\n"
     ]
    },
    {
     "name": "stdout",
     "output_type": "stream",
     "text": [
      "INFO:tensorflow:Assets written to: ram://dc2fffc9-12e4-40d7-8735-76dfca6bb0b4/assets\n"
     ]
    },
    {
     "name": "stderr",
     "output_type": "stream",
     "text": [
      "INFO:tensorflow:Assets written to: ram://dc2fffc9-12e4-40d7-8735-76dfca6bb0b4/assets\n"
     ]
    },
    {
     "name": "stdout",
     "output_type": "stream",
     "text": [
      "220/220 [==============================] - 0s 625us/step\n"
     ]
    },
    {
     "name": "stderr",
     "output_type": "stream",
     "text": [
      "WARNING:absl:Found untraced functions such as _jit_compiled_convolution_op while saving (showing 1 of 1). These functions will not be directly callable after loading.\n"
     ]
    },
    {
     "name": "stdout",
     "output_type": "stream",
     "text": [
      "INFO:tensorflow:Assets written to: ram://7d3c2f94-ffe7-48e3-91ba-c23fa5e51eb3/assets\n"
     ]
    },
    {
     "name": "stderr",
     "output_type": "stream",
     "text": [
      "INFO:tensorflow:Assets written to: ram://7d3c2f94-ffe7-48e3-91ba-c23fa5e51eb3/assets\n"
     ]
    },
    {
     "name": "stdout",
     "output_type": "stream",
     "text": [
      "220/220 [==============================] - 0s 544us/step\n"
     ]
    },
    {
     "name": "stderr",
     "output_type": "stream",
     "text": [
      "WARNING:absl:Found untraced functions such as _jit_compiled_convolution_op while saving (showing 1 of 1). These functions will not be directly callable after loading.\n"
     ]
    },
    {
     "name": "stdout",
     "output_type": "stream",
     "text": [
      "INFO:tensorflow:Assets written to: ram://89af805c-0525-4282-a586-c64673c71686/assets\n"
     ]
    },
    {
     "name": "stderr",
     "output_type": "stream",
     "text": [
      "INFO:tensorflow:Assets written to: ram://89af805c-0525-4282-a586-c64673c71686/assets\n"
     ]
    },
    {
     "name": "stdout",
     "output_type": "stream",
     "text": [
      "220/220 [==============================] - 0s 568us/step\n"
     ]
    },
    {
     "name": "stderr",
     "output_type": "stream",
     "text": [
      "WARNING:absl:Found untraced functions such as _jit_compiled_convolution_op while saving (showing 1 of 1). These functions will not be directly callable after loading.\n"
     ]
    },
    {
     "name": "stdout",
     "output_type": "stream",
     "text": [
      "INFO:tensorflow:Assets written to: ram://ff49e01f-d5aa-439e-8ddc-7888b5a15632/assets\n"
     ]
    },
    {
     "name": "stderr",
     "output_type": "stream",
     "text": [
      "INFO:tensorflow:Assets written to: ram://ff49e01f-d5aa-439e-8ddc-7888b5a15632/assets\n"
     ]
    },
    {
     "name": "stdout",
     "output_type": "stream",
     "text": [
      "220/220 [==============================] - 0s 631us/step\n"
     ]
    },
    {
     "name": "stderr",
     "output_type": "stream",
     "text": [
      "WARNING:absl:Found untraced functions such as _jit_compiled_convolution_op while saving (showing 1 of 1). These functions will not be directly callable after loading.\n"
     ]
    },
    {
     "name": "stdout",
     "output_type": "stream",
     "text": [
      "INFO:tensorflow:Assets written to: ram://54097439-aabf-45ff-8348-732875072116/assets\n"
     ]
    },
    {
     "name": "stderr",
     "output_type": "stream",
     "text": [
      "INFO:tensorflow:Assets written to: ram://54097439-aabf-45ff-8348-732875072116/assets\n"
     ]
    },
    {
     "name": "stdout",
     "output_type": "stream",
     "text": [
      "219/219 [==============================] - 0s 620us/step\n"
     ]
    },
    {
     "name": "stderr",
     "output_type": "stream",
     "text": [
      "WARNING:absl:Found untraced functions such as _jit_compiled_convolution_op while saving (showing 1 of 1). These functions will not be directly callable after loading.\n"
     ]
    },
    {
     "name": "stdout",
     "output_type": "stream",
     "text": [
      "INFO:tensorflow:Assets written to: ram://7e5dac26-bc54-4c53-875f-3ca8bb3adbc7/assets\n"
     ]
    },
    {
     "name": "stderr",
     "output_type": "stream",
     "text": [
      "INFO:tensorflow:Assets written to: ram://7e5dac26-bc54-4c53-875f-3ca8bb3adbc7/assets\n"
     ]
    },
    {
     "name": "stdout",
     "output_type": "stream",
     "text": [
      "219/219 [==============================] - 0s 629us/step\n"
     ]
    },
    {
     "name": "stderr",
     "output_type": "stream",
     "text": [
      "WARNING:absl:Found untraced functions such as _jit_compiled_convolution_op while saving (showing 1 of 1). These functions will not be directly callable after loading.\n"
     ]
    },
    {
     "name": "stdout",
     "output_type": "stream",
     "text": [
      "INFO:tensorflow:Assets written to: ram://e2fbce0a-dda3-42c6-baa2-ea0ac033e6e8/assets\n"
     ]
    },
    {
     "name": "stderr",
     "output_type": "stream",
     "text": [
      "INFO:tensorflow:Assets written to: ram://e2fbce0a-dda3-42c6-baa2-ea0ac033e6e8/assets\n"
     ]
    },
    {
     "name": "stdout",
     "output_type": "stream",
     "text": [
      "219/219 [==============================] - 0s 654us/step\n"
     ]
    },
    {
     "name": "stderr",
     "output_type": "stream",
     "text": [
      "WARNING:absl:Found untraced functions such as _jit_compiled_convolution_op while saving (showing 1 of 1). These functions will not be directly callable after loading.\n"
     ]
    },
    {
     "name": "stdout",
     "output_type": "stream",
     "text": [
      "INFO:tensorflow:Assets written to: ram://c4b74b39-506f-45b3-bd1f-ca230fd7fc06/assets\n"
     ]
    },
    {
     "name": "stderr",
     "output_type": "stream",
     "text": [
      "INFO:tensorflow:Assets written to: ram://c4b74b39-506f-45b3-bd1f-ca230fd7fc06/assets\n"
     ]
    },
    {
     "name": "stdout",
     "output_type": "stream",
     "text": [
      "219/219 [==============================] - 0s 611us/step\n"
     ]
    },
    {
     "name": "stderr",
     "output_type": "stream",
     "text": [
      "WARNING:absl:Found untraced functions such as _jit_compiled_convolution_op while saving (showing 1 of 1). These functions will not be directly callable after loading.\n"
     ]
    },
    {
     "name": "stdout",
     "output_type": "stream",
     "text": [
      "INFO:tensorflow:Assets written to: ram://122ce7bf-a9de-4281-b709-b33a0e93195e/assets\n"
     ]
    },
    {
     "name": "stderr",
     "output_type": "stream",
     "text": [
      "INFO:tensorflow:Assets written to: ram://122ce7bf-a9de-4281-b709-b33a0e93195e/assets\n"
     ]
    },
    {
     "name": "stdout",
     "output_type": "stream",
     "text": [
      "219/219 [==============================] - 0s 646us/step\n"
     ]
    },
    {
     "name": "stderr",
     "output_type": "stream",
     "text": [
      "WARNING:absl:Found untraced functions such as _jit_compiled_convolution_op while saving (showing 1 of 1). These functions will not be directly callable after loading.\n"
     ]
    },
    {
     "name": "stdout",
     "output_type": "stream",
     "text": [
      "INFO:tensorflow:Assets written to: ram://59a3d0ba-47c8-4416-8502-9efe3a2e3d1d/assets\n"
     ]
    },
    {
     "name": "stderr",
     "output_type": "stream",
     "text": [
      "INFO:tensorflow:Assets written to: ram://59a3d0ba-47c8-4416-8502-9efe3a2e3d1d/assets\n"
     ]
    },
    {
     "name": "stdout",
     "output_type": "stream",
     "text": [
      "219/219 [==============================] - 0s 669us/step\n"
     ]
    },
    {
     "name": "stderr",
     "output_type": "stream",
     "text": [
      "WARNING:absl:Found untraced functions such as _jit_compiled_convolution_op while saving (showing 1 of 1). These functions will not be directly callable after loading.\n"
     ]
    },
    {
     "name": "stdout",
     "output_type": "stream",
     "text": [
      "INFO:tensorflow:Assets written to: ram://4dc68a82-c4c4-4d73-b89c-3f5d15d0400f/assets\n"
     ]
    },
    {
     "name": "stderr",
     "output_type": "stream",
     "text": [
      "INFO:tensorflow:Assets written to: ram://4dc68a82-c4c4-4d73-b89c-3f5d15d0400f/assets\n"
     ]
    },
    {
     "name": "stdout",
     "output_type": "stream",
     "text": [
      "220/220 [==============================] - 0s 637us/step\n"
     ]
    },
    {
     "name": "stderr",
     "output_type": "stream",
     "text": [
      "WARNING:absl:Found untraced functions such as _jit_compiled_convolution_op while saving (showing 1 of 1). These functions will not be directly callable after loading.\n"
     ]
    },
    {
     "name": "stdout",
     "output_type": "stream",
     "text": [
      "INFO:tensorflow:Assets written to: ram://749f6604-afce-4e58-bd10-297434ea853b/assets\n"
     ]
    },
    {
     "name": "stderr",
     "output_type": "stream",
     "text": [
      "INFO:tensorflow:Assets written to: ram://749f6604-afce-4e58-bd10-297434ea853b/assets\n"
     ]
    },
    {
     "name": "stdout",
     "output_type": "stream",
     "text": [
      "220/220 [==============================] - 0s 592us/step\n"
     ]
    },
    {
     "name": "stderr",
     "output_type": "stream",
     "text": [
      "WARNING:absl:Found untraced functions such as _jit_compiled_convolution_op while saving (showing 1 of 1). These functions will not be directly callable after loading.\n"
     ]
    },
    {
     "name": "stdout",
     "output_type": "stream",
     "text": [
      "INFO:tensorflow:Assets written to: ram://9ffd7403-13a8-4237-88af-482df4437daf/assets\n"
     ]
    },
    {
     "name": "stderr",
     "output_type": "stream",
     "text": [
      "INFO:tensorflow:Assets written to: ram://9ffd7403-13a8-4237-88af-482df4437daf/assets\n"
     ]
    },
    {
     "name": "stdout",
     "output_type": "stream",
     "text": [
      "220/220 [==============================] - 0s 570us/step\n"
     ]
    },
    {
     "name": "stderr",
     "output_type": "stream",
     "text": [
      "WARNING:absl:Found untraced functions such as _jit_compiled_convolution_op while saving (showing 1 of 1). These functions will not be directly callable after loading.\n"
     ]
    },
    {
     "name": "stdout",
     "output_type": "stream",
     "text": [
      "INFO:tensorflow:Assets written to: ram://88c3649e-06e1-4dce-b7a0-15903031b114/assets\n"
     ]
    },
    {
     "name": "stderr",
     "output_type": "stream",
     "text": [
      "INFO:tensorflow:Assets written to: ram://88c3649e-06e1-4dce-b7a0-15903031b114/assets\n"
     ]
    },
    {
     "name": "stdout",
     "output_type": "stream",
     "text": [
      "220/220 [==============================] - 0s 603us/step\n"
     ]
    },
    {
     "name": "stderr",
     "output_type": "stream",
     "text": [
      "WARNING:absl:Found untraced functions such as _jit_compiled_convolution_op while saving (showing 1 of 1). These functions will not be directly callable after loading.\n"
     ]
    },
    {
     "name": "stdout",
     "output_type": "stream",
     "text": [
      "INFO:tensorflow:Assets written to: ram://0b28763b-287c-4e05-b528-a06afb15f545/assets\n"
     ]
    },
    {
     "name": "stderr",
     "output_type": "stream",
     "text": [
      "INFO:tensorflow:Assets written to: ram://0b28763b-287c-4e05-b528-a06afb15f545/assets\n"
     ]
    },
    {
     "name": "stdout",
     "output_type": "stream",
     "text": [
      "220/220 [==============================] - 0s 597us/step\n"
     ]
    },
    {
     "name": "stderr",
     "output_type": "stream",
     "text": [
      "WARNING:absl:Found untraced functions such as _jit_compiled_convolution_op while saving (showing 1 of 1). These functions will not be directly callable after loading.\n"
     ]
    },
    {
     "name": "stdout",
     "output_type": "stream",
     "text": [
      "INFO:tensorflow:Assets written to: ram://76b73213-b15a-45dd-bb4b-676ce273a6b2/assets\n"
     ]
    },
    {
     "name": "stderr",
     "output_type": "stream",
     "text": [
      "INFO:tensorflow:Assets written to: ram://76b73213-b15a-45dd-bb4b-676ce273a6b2/assets\n"
     ]
    },
    {
     "name": "stdout",
     "output_type": "stream",
     "text": [
      "219/219 [==============================] - 0s 601us/step\n"
     ]
    },
    {
     "name": "stderr",
     "output_type": "stream",
     "text": [
      "WARNING:absl:Found untraced functions such as _jit_compiled_convolution_op while saving (showing 1 of 1). These functions will not be directly callable after loading.\n"
     ]
    },
    {
     "name": "stdout",
     "output_type": "stream",
     "text": [
      "INFO:tensorflow:Assets written to: ram://40a7a4d8-9e4b-4642-b1ab-c7349848e9b8/assets\n"
     ]
    },
    {
     "name": "stderr",
     "output_type": "stream",
     "text": [
      "INFO:tensorflow:Assets written to: ram://40a7a4d8-9e4b-4642-b1ab-c7349848e9b8/assets\n"
     ]
    },
    {
     "name": "stdout",
     "output_type": "stream",
     "text": [
      "219/219 [==============================] - 0s 636us/step\n"
     ]
    },
    {
     "name": "stderr",
     "output_type": "stream",
     "text": [
      "WARNING:absl:Found untraced functions such as _jit_compiled_convolution_op while saving (showing 1 of 1). These functions will not be directly callable after loading.\n"
     ]
    },
    {
     "name": "stdout",
     "output_type": "stream",
     "text": [
      "INFO:tensorflow:Assets written to: ram://18a64d7a-452f-4c89-901a-0a3376e741d3/assets\n"
     ]
    },
    {
     "name": "stderr",
     "output_type": "stream",
     "text": [
      "INFO:tensorflow:Assets written to: ram://18a64d7a-452f-4c89-901a-0a3376e741d3/assets\n"
     ]
    },
    {
     "name": "stdout",
     "output_type": "stream",
     "text": [
      "219/219 [==============================] - 0s 624us/step\n"
     ]
    },
    {
     "name": "stderr",
     "output_type": "stream",
     "text": [
      "WARNING:absl:Found untraced functions such as _jit_compiled_convolution_op while saving (showing 1 of 1). These functions will not be directly callable after loading.\n"
     ]
    },
    {
     "name": "stdout",
     "output_type": "stream",
     "text": [
      "INFO:tensorflow:Assets written to: ram://f8cbcc44-81b2-4847-a52a-93591d0e6763/assets\n"
     ]
    },
    {
     "name": "stderr",
     "output_type": "stream",
     "text": [
      "INFO:tensorflow:Assets written to: ram://f8cbcc44-81b2-4847-a52a-93591d0e6763/assets\n"
     ]
    },
    {
     "name": "stdout",
     "output_type": "stream",
     "text": [
      "219/219 [==============================] - 0s 594us/step\n"
     ]
    },
    {
     "name": "stderr",
     "output_type": "stream",
     "text": [
      "WARNING:absl:Found untraced functions such as _jit_compiled_convolution_op while saving (showing 1 of 1). These functions will not be directly callable after loading.\n"
     ]
    },
    {
     "name": "stdout",
     "output_type": "stream",
     "text": [
      "INFO:tensorflow:Assets written to: ram://ad0d8481-5e16-45a8-b6d0-3ec15a144268/assets\n"
     ]
    },
    {
     "name": "stderr",
     "output_type": "stream",
     "text": [
      "INFO:tensorflow:Assets written to: ram://ad0d8481-5e16-45a8-b6d0-3ec15a144268/assets\n"
     ]
    },
    {
     "name": "stdout",
     "output_type": "stream",
     "text": [
      "219/219 [==============================] - 0s 641us/step\n"
     ]
    },
    {
     "name": "stderr",
     "output_type": "stream",
     "text": [
      "WARNING:absl:Found untraced functions such as _jit_compiled_convolution_op while saving (showing 1 of 1). These functions will not be directly callable after loading.\n"
     ]
    },
    {
     "name": "stdout",
     "output_type": "stream",
     "text": [
      "INFO:tensorflow:Assets written to: ram://8b70fdc7-88ee-45fc-af23-dbdb308934ef/assets\n"
     ]
    },
    {
     "name": "stderr",
     "output_type": "stream",
     "text": [
      "INFO:tensorflow:Assets written to: ram://8b70fdc7-88ee-45fc-af23-dbdb308934ef/assets\n"
     ]
    },
    {
     "name": "stdout",
     "output_type": "stream",
     "text": [
      "219/219 [==============================] - 0s 638us/step\n"
     ]
    },
    {
     "name": "stderr",
     "output_type": "stream",
     "text": [
      "WARNING:absl:Found untraced functions such as _jit_compiled_convolution_op while saving (showing 1 of 1). These functions will not be directly callable after loading.\n"
     ]
    },
    {
     "name": "stdout",
     "output_type": "stream",
     "text": [
      "INFO:tensorflow:Assets written to: ram://08017fc4-74a3-4faa-a4a3-92a795f60bd2/assets\n"
     ]
    },
    {
     "name": "stderr",
     "output_type": "stream",
     "text": [
      "INFO:tensorflow:Assets written to: ram://08017fc4-74a3-4faa-a4a3-92a795f60bd2/assets\n"
     ]
    },
    {
     "name": "stdout",
     "output_type": "stream",
     "text": [
      "220/220 [==============================] - 0s 623us/step\n"
     ]
    },
    {
     "name": "stderr",
     "output_type": "stream",
     "text": [
      "WARNING:absl:Found untraced functions such as _jit_compiled_convolution_op while saving (showing 1 of 1). These functions will not be directly callable after loading.\n"
     ]
    },
    {
     "name": "stdout",
     "output_type": "stream",
     "text": [
      "INFO:tensorflow:Assets written to: ram://1b23f86f-89a0-4bb7-984a-c1d532710047/assets\n"
     ]
    },
    {
     "name": "stderr",
     "output_type": "stream",
     "text": [
      "INFO:tensorflow:Assets written to: ram://1b23f86f-89a0-4bb7-984a-c1d532710047/assets\n"
     ]
    },
    {
     "name": "stdout",
     "output_type": "stream",
     "text": [
      "220/220 [==============================] - 0s 631us/step\n"
     ]
    },
    {
     "name": "stderr",
     "output_type": "stream",
     "text": [
      "WARNING:absl:Found untraced functions such as _jit_compiled_convolution_op while saving (showing 1 of 1). These functions will not be directly callable after loading.\n"
     ]
    },
    {
     "name": "stdout",
     "output_type": "stream",
     "text": [
      "INFO:tensorflow:Assets written to: ram://96694842-7299-4306-bb11-b90656f1da81/assets\n"
     ]
    },
    {
     "name": "stderr",
     "output_type": "stream",
     "text": [
      "INFO:tensorflow:Assets written to: ram://96694842-7299-4306-bb11-b90656f1da81/assets\n"
     ]
    },
    {
     "name": "stdout",
     "output_type": "stream",
     "text": [
      "220/220 [==============================] - 0s 607us/step\n"
     ]
    },
    {
     "name": "stderr",
     "output_type": "stream",
     "text": [
      "WARNING:absl:Found untraced functions such as _jit_compiled_convolution_op while saving (showing 1 of 1). These functions will not be directly callable after loading.\n"
     ]
    },
    {
     "name": "stdout",
     "output_type": "stream",
     "text": [
      "INFO:tensorflow:Assets written to: ram://b70692da-b878-4baa-9751-5ef5ef2fa1bb/assets\n"
     ]
    },
    {
     "name": "stderr",
     "output_type": "stream",
     "text": [
      "INFO:tensorflow:Assets written to: ram://b70692da-b878-4baa-9751-5ef5ef2fa1bb/assets\n"
     ]
    },
    {
     "name": "stdout",
     "output_type": "stream",
     "text": [
      "220/220 [==============================] - 0s 579us/step\n"
     ]
    },
    {
     "name": "stderr",
     "output_type": "stream",
     "text": [
      "WARNING:absl:Found untraced functions such as _jit_compiled_convolution_op while saving (showing 1 of 1). These functions will not be directly callable after loading.\n"
     ]
    },
    {
     "name": "stdout",
     "output_type": "stream",
     "text": [
      "INFO:tensorflow:Assets written to: ram://b40c59e6-9713-450a-a320-8c8f787709c9/assets\n"
     ]
    },
    {
     "name": "stderr",
     "output_type": "stream",
     "text": [
      "INFO:tensorflow:Assets written to: ram://b40c59e6-9713-450a-a320-8c8f787709c9/assets\n"
     ]
    },
    {
     "name": "stdout",
     "output_type": "stream",
     "text": [
      "220/220 [==============================] - 0s 644us/step\n"
     ]
    },
    {
     "name": "stderr",
     "output_type": "stream",
     "text": [
      "WARNING:absl:Found untraced functions such as _jit_compiled_convolution_op while saving (showing 1 of 1). These functions will not be directly callable after loading.\n"
     ]
    },
    {
     "name": "stdout",
     "output_type": "stream",
     "text": [
      "INFO:tensorflow:Assets written to: ram://e996c2eb-28c7-45db-a9fa-a66ba3a6360b/assets\n"
     ]
    },
    {
     "name": "stderr",
     "output_type": "stream",
     "text": [
      "INFO:tensorflow:Assets written to: ram://e996c2eb-28c7-45db-a9fa-a66ba3a6360b/assets\n"
     ]
    },
    {
     "name": "stdout",
     "output_type": "stream",
     "text": [
      "219/219 [==============================] - 0s 623us/step\n"
     ]
    },
    {
     "name": "stderr",
     "output_type": "stream",
     "text": [
      "WARNING:absl:Found untraced functions such as _jit_compiled_convolution_op while saving (showing 1 of 1). These functions will not be directly callable after loading.\n"
     ]
    },
    {
     "name": "stdout",
     "output_type": "stream",
     "text": [
      "INFO:tensorflow:Assets written to: ram://43f34ef6-91fc-4b3a-8c79-dbf9e84a5469/assets\n"
     ]
    },
    {
     "name": "stderr",
     "output_type": "stream",
     "text": [
      "INFO:tensorflow:Assets written to: ram://43f34ef6-91fc-4b3a-8c79-dbf9e84a5469/assets\n"
     ]
    },
    {
     "name": "stdout",
     "output_type": "stream",
     "text": [
      "219/219 [==============================] - 0s 629us/step\n"
     ]
    },
    {
     "name": "stderr",
     "output_type": "stream",
     "text": [
      "WARNING:absl:Found untraced functions such as _jit_compiled_convolution_op while saving (showing 1 of 1). These functions will not be directly callable after loading.\n"
     ]
    },
    {
     "name": "stdout",
     "output_type": "stream",
     "text": [
      "INFO:tensorflow:Assets written to: ram://6ddf1ce6-78be-441e-b1f9-1d7b5fdb4a36/assets\n"
     ]
    },
    {
     "name": "stderr",
     "output_type": "stream",
     "text": [
      "INFO:tensorflow:Assets written to: ram://6ddf1ce6-78be-441e-b1f9-1d7b5fdb4a36/assets\n"
     ]
    },
    {
     "name": "stdout",
     "output_type": "stream",
     "text": [
      "219/219 [==============================] - 0s 615us/step\n"
     ]
    },
    {
     "name": "stderr",
     "output_type": "stream",
     "text": [
      "WARNING:absl:Found untraced functions such as _jit_compiled_convolution_op while saving (showing 1 of 1). These functions will not be directly callable after loading.\n"
     ]
    },
    {
     "name": "stdout",
     "output_type": "stream",
     "text": [
      "INFO:tensorflow:Assets written to: ram://d127e993-b503-47b3-9e3e-ff41649fe1a0/assets\n"
     ]
    },
    {
     "name": "stderr",
     "output_type": "stream",
     "text": [
      "INFO:tensorflow:Assets written to: ram://d127e993-b503-47b3-9e3e-ff41649fe1a0/assets\n"
     ]
    },
    {
     "name": "stdout",
     "output_type": "stream",
     "text": [
      "219/219 [==============================] - 0s 612us/step\n"
     ]
    },
    {
     "name": "stderr",
     "output_type": "stream",
     "text": [
      "WARNING:absl:Found untraced functions such as _jit_compiled_convolution_op while saving (showing 1 of 1). These functions will not be directly callable after loading.\n"
     ]
    },
    {
     "name": "stdout",
     "output_type": "stream",
     "text": [
      "INFO:tensorflow:Assets written to: ram://76038ade-1b75-45e3-8701-fb246906b880/assets\n"
     ]
    },
    {
     "name": "stderr",
     "output_type": "stream",
     "text": [
      "INFO:tensorflow:Assets written to: ram://76038ade-1b75-45e3-8701-fb246906b880/assets\n"
     ]
    },
    {
     "name": "stdout",
     "output_type": "stream",
     "text": [
      "219/219 [==============================] - 0s 667us/step\n"
     ]
    },
    {
     "name": "stderr",
     "output_type": "stream",
     "text": [
      "WARNING:absl:Found untraced functions such as _jit_compiled_convolution_op while saving (showing 1 of 1). These functions will not be directly callable after loading.\n"
     ]
    },
    {
     "name": "stdout",
     "output_type": "stream",
     "text": [
      "INFO:tensorflow:Assets written to: ram://08bf2a89-8708-4bb4-98f4-e48eaf11ba50/assets\n"
     ]
    },
    {
     "name": "stderr",
     "output_type": "stream",
     "text": [
      "INFO:tensorflow:Assets written to: ram://08bf2a89-8708-4bb4-98f4-e48eaf11ba50/assets\n"
     ]
    },
    {
     "name": "stdout",
     "output_type": "stream",
     "text": [
      "219/219 [==============================] - 0s 644us/step\n"
     ]
    },
    {
     "name": "stderr",
     "output_type": "stream",
     "text": [
      "WARNING:absl:Found untraced functions such as _jit_compiled_convolution_op while saving (showing 1 of 1). These functions will not be directly callable after loading.\n"
     ]
    },
    {
     "name": "stdout",
     "output_type": "stream",
     "text": [
      "INFO:tensorflow:Assets written to: ram://f3d0d954-cf09-4760-a497-39c86ea629c2/assets\n"
     ]
    },
    {
     "name": "stderr",
     "output_type": "stream",
     "text": [
      "INFO:tensorflow:Assets written to: ram://f3d0d954-cf09-4760-a497-39c86ea629c2/assets\n"
     ]
    },
    {
     "name": "stdout",
     "output_type": "stream",
     "text": [
      "220/220 [==============================] - 0s 609us/step\n"
     ]
    },
    {
     "name": "stderr",
     "output_type": "stream",
     "text": [
      "WARNING:absl:Found untraced functions such as _jit_compiled_convolution_op while saving (showing 1 of 1). These functions will not be directly callable after loading.\n"
     ]
    },
    {
     "name": "stdout",
     "output_type": "stream",
     "text": [
      "INFO:tensorflow:Assets written to: ram://cfda8e78-f4b5-475e-b803-0194abc339e8/assets\n"
     ]
    },
    {
     "name": "stderr",
     "output_type": "stream",
     "text": [
      "INFO:tensorflow:Assets written to: ram://cfda8e78-f4b5-475e-b803-0194abc339e8/assets\n"
     ]
    },
    {
     "name": "stdout",
     "output_type": "stream",
     "text": [
      "220/220 [==============================] - 0s 601us/step\n"
     ]
    },
    {
     "name": "stderr",
     "output_type": "stream",
     "text": [
      "WARNING:absl:Found untraced functions such as _jit_compiled_convolution_op while saving (showing 1 of 1). These functions will not be directly callable after loading.\n"
     ]
    },
    {
     "name": "stdout",
     "output_type": "stream",
     "text": [
      "INFO:tensorflow:Assets written to: ram://bf63de25-5658-41b5-90bd-fb93bfc94c88/assets\n"
     ]
    },
    {
     "name": "stderr",
     "output_type": "stream",
     "text": [
      "INFO:tensorflow:Assets written to: ram://bf63de25-5658-41b5-90bd-fb93bfc94c88/assets\n"
     ]
    },
    {
     "name": "stdout",
     "output_type": "stream",
     "text": [
      "220/220 [==============================] - 0s 604us/step\n"
     ]
    },
    {
     "name": "stderr",
     "output_type": "stream",
     "text": [
      "WARNING:absl:Found untraced functions such as _jit_compiled_convolution_op while saving (showing 1 of 1). These functions will not be directly callable after loading.\n"
     ]
    },
    {
     "name": "stdout",
     "output_type": "stream",
     "text": [
      "INFO:tensorflow:Assets written to: ram://cc5e6c2a-ba0b-4175-a0b4-d20943f6b00e/assets\n"
     ]
    },
    {
     "name": "stderr",
     "output_type": "stream",
     "text": [
      "INFO:tensorflow:Assets written to: ram://cc5e6c2a-ba0b-4175-a0b4-d20943f6b00e/assets\n"
     ]
    },
    {
     "name": "stdout",
     "output_type": "stream",
     "text": [
      "220/220 [==============================] - 0s 574us/step\n"
     ]
    },
    {
     "name": "stderr",
     "output_type": "stream",
     "text": [
      "WARNING:absl:Found untraced functions such as _jit_compiled_convolution_op while saving (showing 1 of 1). These functions will not be directly callable after loading.\n"
     ]
    },
    {
     "name": "stdout",
     "output_type": "stream",
     "text": [
      "INFO:tensorflow:Assets written to: ram://e7726424-738f-4fbc-ae35-28223cf128ea/assets\n"
     ]
    },
    {
     "name": "stderr",
     "output_type": "stream",
     "text": [
      "INFO:tensorflow:Assets written to: ram://e7726424-738f-4fbc-ae35-28223cf128ea/assets\n"
     ]
    },
    {
     "name": "stdout",
     "output_type": "stream",
     "text": [
      "220/220 [==============================] - 0s 581us/step\n"
     ]
    },
    {
     "name": "stderr",
     "output_type": "stream",
     "text": [
      "WARNING:absl:Found untraced functions such as _jit_compiled_convolution_op while saving (showing 1 of 1). These functions will not be directly callable after loading.\n"
     ]
    },
    {
     "name": "stdout",
     "output_type": "stream",
     "text": [
      "INFO:tensorflow:Assets written to: ram://85d2910c-8a3e-416b-bb12-8ca6ff8b971f/assets\n"
     ]
    },
    {
     "name": "stderr",
     "output_type": "stream",
     "text": [
      "INFO:tensorflow:Assets written to: ram://85d2910c-8a3e-416b-bb12-8ca6ff8b971f/assets\n"
     ]
    },
    {
     "name": "stdout",
     "output_type": "stream",
     "text": [
      "219/219 [==============================] - 0s 639us/step\n"
     ]
    },
    {
     "name": "stderr",
     "output_type": "stream",
     "text": [
      "WARNING:absl:Found untraced functions such as _jit_compiled_convolution_op while saving (showing 1 of 1). These functions will not be directly callable after loading.\n"
     ]
    },
    {
     "name": "stdout",
     "output_type": "stream",
     "text": [
      "INFO:tensorflow:Assets written to: ram://f738a7ae-7d24-4577-85eb-e2a7fab03336/assets\n"
     ]
    },
    {
     "name": "stderr",
     "output_type": "stream",
     "text": [
      "INFO:tensorflow:Assets written to: ram://f738a7ae-7d24-4577-85eb-e2a7fab03336/assets\n"
     ]
    },
    {
     "name": "stdout",
     "output_type": "stream",
     "text": [
      "219/219 [==============================] - 0s 643us/step\n"
     ]
    },
    {
     "name": "stderr",
     "output_type": "stream",
     "text": [
      "WARNING:absl:Found untraced functions such as _jit_compiled_convolution_op while saving (showing 1 of 1). These functions will not be directly callable after loading.\n"
     ]
    },
    {
     "name": "stdout",
     "output_type": "stream",
     "text": [
      "INFO:tensorflow:Assets written to: ram://d28429f0-bd71-4a0d-b6d5-90a0d0b2ab40/assets\n"
     ]
    },
    {
     "name": "stderr",
     "output_type": "stream",
     "text": [
      "INFO:tensorflow:Assets written to: ram://d28429f0-bd71-4a0d-b6d5-90a0d0b2ab40/assets\n"
     ]
    },
    {
     "name": "stdout",
     "output_type": "stream",
     "text": [
      "219/219 [==============================] - 0s 575us/step\n"
     ]
    },
    {
     "name": "stderr",
     "output_type": "stream",
     "text": [
      "WARNING:absl:Found untraced functions such as _jit_compiled_convolution_op while saving (showing 1 of 1). These functions will not be directly callable after loading.\n"
     ]
    },
    {
     "name": "stdout",
     "output_type": "stream",
     "text": [
      "INFO:tensorflow:Assets written to: ram://8400b8ba-35c6-4d1c-bbfa-d993f6259f8f/assets\n"
     ]
    },
    {
     "name": "stderr",
     "output_type": "stream",
     "text": [
      "INFO:tensorflow:Assets written to: ram://8400b8ba-35c6-4d1c-bbfa-d993f6259f8f/assets\n"
     ]
    },
    {
     "name": "stdout",
     "output_type": "stream",
     "text": [
      "219/219 [==============================] - 0s 600us/step\n"
     ]
    },
    {
     "name": "stderr",
     "output_type": "stream",
     "text": [
      "WARNING:absl:Found untraced functions such as _jit_compiled_convolution_op while saving (showing 1 of 1). These functions will not be directly callable after loading.\n"
     ]
    },
    {
     "name": "stdout",
     "output_type": "stream",
     "text": [
      "INFO:tensorflow:Assets written to: ram://4d2e6a6d-9519-45f5-8562-5618bd76f763/assets\n"
     ]
    },
    {
     "name": "stderr",
     "output_type": "stream",
     "text": [
      "INFO:tensorflow:Assets written to: ram://4d2e6a6d-9519-45f5-8562-5618bd76f763/assets\n"
     ]
    },
    {
     "name": "stdout",
     "output_type": "stream",
     "text": [
      "219/219 [==============================] - 0s 607us/step\n"
     ]
    },
    {
     "name": "stderr",
     "output_type": "stream",
     "text": [
      "WARNING:absl:Found untraced functions such as _jit_compiled_convolution_op while saving (showing 1 of 1). These functions will not be directly callable after loading.\n"
     ]
    },
    {
     "name": "stdout",
     "output_type": "stream",
     "text": [
      "INFO:tensorflow:Assets written to: ram://60012ba6-ffde-4f9e-92a8-be71fbbcc23b/assets\n"
     ]
    },
    {
     "name": "stderr",
     "output_type": "stream",
     "text": [
      "INFO:tensorflow:Assets written to: ram://60012ba6-ffde-4f9e-92a8-be71fbbcc23b/assets\n"
     ]
    },
    {
     "name": "stdout",
     "output_type": "stream",
     "text": [
      "219/219 [==============================] - 0s 698us/step\n"
     ]
    },
    {
     "name": "stderr",
     "output_type": "stream",
     "text": [
      "WARNING:absl:Found untraced functions such as _jit_compiled_convolution_op while saving (showing 1 of 1). These functions will not be directly callable after loading.\n"
     ]
    },
    {
     "name": "stdout",
     "output_type": "stream",
     "text": [
      "INFO:tensorflow:Assets written to: ram://c653f34e-feca-4dc4-b93f-f8a23d022ec7/assets\n"
     ]
    },
    {
     "name": "stderr",
     "output_type": "stream",
     "text": [
      "INFO:tensorflow:Assets written to: ram://c653f34e-feca-4dc4-b93f-f8a23d022ec7/assets\n"
     ]
    },
    {
     "name": "stdout",
     "output_type": "stream",
     "text": [
      "220/220 [==============================] - 0s 642us/step\n"
     ]
    },
    {
     "name": "stderr",
     "output_type": "stream",
     "text": [
      "WARNING:absl:Found untraced functions such as _jit_compiled_convolution_op while saving (showing 1 of 1). These functions will not be directly callable after loading.\n"
     ]
    },
    {
     "name": "stdout",
     "output_type": "stream",
     "text": [
      "INFO:tensorflow:Assets written to: ram://e19d6167-935d-4246-bd5b-8b6d32907455/assets\n"
     ]
    },
    {
     "name": "stderr",
     "output_type": "stream",
     "text": [
      "INFO:tensorflow:Assets written to: ram://e19d6167-935d-4246-bd5b-8b6d32907455/assets\n"
     ]
    },
    {
     "name": "stdout",
     "output_type": "stream",
     "text": [
      "220/220 [==============================] - 0s 625us/step\n"
     ]
    },
    {
     "name": "stderr",
     "output_type": "stream",
     "text": [
      "WARNING:absl:Found untraced functions such as _jit_compiled_convolution_op while saving (showing 1 of 1). These functions will not be directly callable after loading.\n"
     ]
    },
    {
     "name": "stdout",
     "output_type": "stream",
     "text": [
      "INFO:tensorflow:Assets written to: ram://0d2c7229-d3dd-42f2-a3a7-0c640ff80516/assets\n"
     ]
    },
    {
     "name": "stderr",
     "output_type": "stream",
     "text": [
      "INFO:tensorflow:Assets written to: ram://0d2c7229-d3dd-42f2-a3a7-0c640ff80516/assets\n"
     ]
    },
    {
     "name": "stdout",
     "output_type": "stream",
     "text": [
      "220/220 [==============================] - 0s 534us/step\n"
     ]
    },
    {
     "name": "stderr",
     "output_type": "stream",
     "text": [
      "WARNING:absl:Found untraced functions such as _jit_compiled_convolution_op while saving (showing 1 of 1). These functions will not be directly callable after loading.\n"
     ]
    },
    {
     "name": "stdout",
     "output_type": "stream",
     "text": [
      "INFO:tensorflow:Assets written to: ram://6d140f75-f590-4afb-b773-35af2c13105d/assets\n"
     ]
    },
    {
     "name": "stderr",
     "output_type": "stream",
     "text": [
      "INFO:tensorflow:Assets written to: ram://6d140f75-f590-4afb-b773-35af2c13105d/assets\n"
     ]
    },
    {
     "name": "stdout",
     "output_type": "stream",
     "text": [
      "220/220 [==============================] - 0s 565us/step\n"
     ]
    },
    {
     "name": "stderr",
     "output_type": "stream",
     "text": [
      "WARNING:absl:Found untraced functions such as _jit_compiled_convolution_op while saving (showing 1 of 1). These functions will not be directly callable after loading.\n"
     ]
    },
    {
     "name": "stdout",
     "output_type": "stream",
     "text": [
      "INFO:tensorflow:Assets written to: ram://f6a85738-a2c2-4237-9767-0536e7f9fa21/assets\n"
     ]
    },
    {
     "name": "stderr",
     "output_type": "stream",
     "text": [
      "INFO:tensorflow:Assets written to: ram://f6a85738-a2c2-4237-9767-0536e7f9fa21/assets\n"
     ]
    },
    {
     "name": "stdout",
     "output_type": "stream",
     "text": [
      "220/220 [==============================] - 0s 589us/step\n"
     ]
    },
    {
     "name": "stderr",
     "output_type": "stream",
     "text": [
      "WARNING:absl:Found untraced functions such as _jit_compiled_convolution_op while saving (showing 1 of 1). These functions will not be directly callable after loading.\n"
     ]
    },
    {
     "name": "stdout",
     "output_type": "stream",
     "text": [
      "INFO:tensorflow:Assets written to: ram://6808a9e3-3cd5-40d3-b735-16d5905edd8d/assets\n"
     ]
    },
    {
     "name": "stderr",
     "output_type": "stream",
     "text": [
      "INFO:tensorflow:Assets written to: ram://6808a9e3-3cd5-40d3-b735-16d5905edd8d/assets\n"
     ]
    },
    {
     "name": "stdout",
     "output_type": "stream",
     "text": [
      "219/219 [==============================] - 0s 650us/step\n"
     ]
    },
    {
     "name": "stderr",
     "output_type": "stream",
     "text": [
      "WARNING:absl:Found untraced functions such as _jit_compiled_convolution_op while saving (showing 1 of 1). These functions will not be directly callable after loading.\n"
     ]
    },
    {
     "name": "stdout",
     "output_type": "stream",
     "text": [
      "INFO:tensorflow:Assets written to: ram://d3d4d4e1-f33b-4e76-9b49-a2164658c158/assets\n"
     ]
    },
    {
     "name": "stderr",
     "output_type": "stream",
     "text": [
      "INFO:tensorflow:Assets written to: ram://d3d4d4e1-f33b-4e76-9b49-a2164658c158/assets\n"
     ]
    },
    {
     "name": "stdout",
     "output_type": "stream",
     "text": [
      "219/219 [==============================] - 0s 641us/step\n"
     ]
    },
    {
     "name": "stderr",
     "output_type": "stream",
     "text": [
      "WARNING:absl:Found untraced functions such as _jit_compiled_convolution_op while saving (showing 1 of 1). These functions will not be directly callable after loading.\n"
     ]
    },
    {
     "name": "stdout",
     "output_type": "stream",
     "text": [
      "INFO:tensorflow:Assets written to: ram://b8c8929f-94e4-4b91-bc49-1bae2050ef17/assets\n"
     ]
    },
    {
     "name": "stderr",
     "output_type": "stream",
     "text": [
      "INFO:tensorflow:Assets written to: ram://b8c8929f-94e4-4b91-bc49-1bae2050ef17/assets\n"
     ]
    },
    {
     "name": "stdout",
     "output_type": "stream",
     "text": [
      "219/219 [==============================] - 0s 686us/step\n"
     ]
    },
    {
     "name": "stderr",
     "output_type": "stream",
     "text": [
      "WARNING:absl:Found untraced functions such as _jit_compiled_convolution_op while saving (showing 1 of 1). These functions will not be directly callable after loading.\n"
     ]
    },
    {
     "name": "stdout",
     "output_type": "stream",
     "text": [
      "INFO:tensorflow:Assets written to: ram://f85d494c-f30d-4fe7-b39e-900139ac2ea1/assets\n"
     ]
    },
    {
     "name": "stderr",
     "output_type": "stream",
     "text": [
      "INFO:tensorflow:Assets written to: ram://f85d494c-f30d-4fe7-b39e-900139ac2ea1/assets\n"
     ]
    },
    {
     "name": "stdout",
     "output_type": "stream",
     "text": [
      "219/219 [==============================] - 0s 645us/step\n"
     ]
    },
    {
     "name": "stderr",
     "output_type": "stream",
     "text": [
      "WARNING:absl:Found untraced functions such as _jit_compiled_convolution_op while saving (showing 1 of 1). These functions will not be directly callable after loading.\n"
     ]
    },
    {
     "name": "stdout",
     "output_type": "stream",
     "text": [
      "INFO:tensorflow:Assets written to: ram://54223646-2c7d-4c6c-8473-47997d2df8db/assets\n"
     ]
    },
    {
     "name": "stderr",
     "output_type": "stream",
     "text": [
      "INFO:tensorflow:Assets written to: ram://54223646-2c7d-4c6c-8473-47997d2df8db/assets\n"
     ]
    },
    {
     "name": "stdout",
     "output_type": "stream",
     "text": [
      "219/219 [==============================] - 0s 654us/step\n"
     ]
    },
    {
     "name": "stderr",
     "output_type": "stream",
     "text": [
      "WARNING:absl:Found untraced functions such as _jit_compiled_convolution_op while saving (showing 1 of 1). These functions will not be directly callable after loading.\n"
     ]
    },
    {
     "name": "stdout",
     "output_type": "stream",
     "text": [
      "INFO:tensorflow:Assets written to: ram://d64b962d-2d6f-4294-9402-5cfa87f878f3/assets\n"
     ]
    },
    {
     "name": "stderr",
     "output_type": "stream",
     "text": [
      "INFO:tensorflow:Assets written to: ram://d64b962d-2d6f-4294-9402-5cfa87f878f3/assets\n"
     ]
    },
    {
     "name": "stdout",
     "output_type": "stream",
     "text": [
      "219/219 [==============================] - 0s 677us/step\n"
     ]
    },
    {
     "name": "stderr",
     "output_type": "stream",
     "text": [
      "WARNING:absl:Found untraced functions such as _jit_compiled_convolution_op while saving (showing 1 of 1). These functions will not be directly callable after loading.\n"
     ]
    },
    {
     "name": "stdout",
     "output_type": "stream",
     "text": [
      "INFO:tensorflow:Assets written to: ram://c45d78b2-4b9f-4feb-964a-f0539ce01cf8/assets\n"
     ]
    },
    {
     "name": "stderr",
     "output_type": "stream",
     "text": [
      "INFO:tensorflow:Assets written to: ram://c45d78b2-4b9f-4feb-964a-f0539ce01cf8/assets\n"
     ]
    },
    {
     "name": "stdout",
     "output_type": "stream",
     "text": [
      "220/220 [==============================] - 0s 628us/step\n"
     ]
    },
    {
     "name": "stderr",
     "output_type": "stream",
     "text": [
      "WARNING:absl:Found untraced functions such as _jit_compiled_convolution_op while saving (showing 1 of 1). These functions will not be directly callable after loading.\n"
     ]
    },
    {
     "name": "stdout",
     "output_type": "stream",
     "text": [
      "INFO:tensorflow:Assets written to: ram://1532d607-4ea7-4518-8841-4e5e33fe4e1f/assets\n"
     ]
    },
    {
     "name": "stderr",
     "output_type": "stream",
     "text": [
      "INFO:tensorflow:Assets written to: ram://1532d607-4ea7-4518-8841-4e5e33fe4e1f/assets\n"
     ]
    },
    {
     "name": "stdout",
     "output_type": "stream",
     "text": [
      "220/220 [==============================] - 0s 640us/step\n"
     ]
    },
    {
     "name": "stderr",
     "output_type": "stream",
     "text": [
      "WARNING:absl:Found untraced functions such as _jit_compiled_convolution_op while saving (showing 1 of 1). These functions will not be directly callable after loading.\n"
     ]
    },
    {
     "name": "stdout",
     "output_type": "stream",
     "text": [
      "INFO:tensorflow:Assets written to: ram://df0c6dc0-7369-4217-ac2b-060c5649b605/assets\n"
     ]
    },
    {
     "name": "stderr",
     "output_type": "stream",
     "text": [
      "INFO:tensorflow:Assets written to: ram://df0c6dc0-7369-4217-ac2b-060c5649b605/assets\n"
     ]
    },
    {
     "name": "stdout",
     "output_type": "stream",
     "text": [
      "220/220 [==============================] - 0s 652us/step\n"
     ]
    },
    {
     "name": "stderr",
     "output_type": "stream",
     "text": [
      "WARNING:absl:Found untraced functions such as _jit_compiled_convolution_op while saving (showing 1 of 1). These functions will not be directly callable after loading.\n"
     ]
    },
    {
     "name": "stdout",
     "output_type": "stream",
     "text": [
      "INFO:tensorflow:Assets written to: ram://d56f1638-bdee-4e87-886c-c1f43db83cd0/assets\n"
     ]
    },
    {
     "name": "stderr",
     "output_type": "stream",
     "text": [
      "INFO:tensorflow:Assets written to: ram://d56f1638-bdee-4e87-886c-c1f43db83cd0/assets\n"
     ]
    },
    {
     "name": "stdout",
     "output_type": "stream",
     "text": [
      "220/220 [==============================] - 0s 561us/step\n"
     ]
    },
    {
     "name": "stderr",
     "output_type": "stream",
     "text": [
      "WARNING:absl:Found untraced functions such as _jit_compiled_convolution_op while saving (showing 1 of 1). These functions will not be directly callable after loading.\n"
     ]
    },
    {
     "name": "stdout",
     "output_type": "stream",
     "text": [
      "INFO:tensorflow:Assets written to: ram://30f6e22d-772d-4b43-b0c5-637b67421b46/assets\n"
     ]
    },
    {
     "name": "stderr",
     "output_type": "stream",
     "text": [
      "INFO:tensorflow:Assets written to: ram://30f6e22d-772d-4b43-b0c5-637b67421b46/assets\n"
     ]
    },
    {
     "name": "stdout",
     "output_type": "stream",
     "text": [
      "220/220 [==============================] - 0s 582us/step\n"
     ]
    },
    {
     "name": "stderr",
     "output_type": "stream",
     "text": [
      "WARNING:absl:Found untraced functions such as _jit_compiled_convolution_op while saving (showing 1 of 1). These functions will not be directly callable after loading.\n"
     ]
    },
    {
     "name": "stdout",
     "output_type": "stream",
     "text": [
      "INFO:tensorflow:Assets written to: ram://4ba45344-efee-41bc-9dbc-f63f80d76082/assets\n"
     ]
    },
    {
     "name": "stderr",
     "output_type": "stream",
     "text": [
      "INFO:tensorflow:Assets written to: ram://4ba45344-efee-41bc-9dbc-f63f80d76082/assets\n"
     ]
    },
    {
     "name": "stdout",
     "output_type": "stream",
     "text": [
      "219/219 [==============================] - 0s 650us/step\n"
     ]
    },
    {
     "name": "stderr",
     "output_type": "stream",
     "text": [
      "WARNING:absl:Found untraced functions such as _jit_compiled_convolution_op while saving (showing 1 of 1). These functions will not be directly callable after loading.\n"
     ]
    },
    {
     "name": "stdout",
     "output_type": "stream",
     "text": [
      "INFO:tensorflow:Assets written to: ram://68ab29af-e8b3-47c8-a195-cb57d27689c0/assets\n"
     ]
    },
    {
     "name": "stderr",
     "output_type": "stream",
     "text": [
      "INFO:tensorflow:Assets written to: ram://68ab29af-e8b3-47c8-a195-cb57d27689c0/assets\n"
     ]
    },
    {
     "name": "stdout",
     "output_type": "stream",
     "text": [
      "219/219 [==============================] - 0s 643us/step\n"
     ]
    },
    {
     "name": "stderr",
     "output_type": "stream",
     "text": [
      "WARNING:absl:Found untraced functions such as _jit_compiled_convolution_op while saving (showing 1 of 1). These functions will not be directly callable after loading.\n"
     ]
    },
    {
     "name": "stdout",
     "output_type": "stream",
     "text": [
      "INFO:tensorflow:Assets written to: ram://e1a49ea3-10ac-4e08-b56f-9646c2433c44/assets\n"
     ]
    },
    {
     "name": "stderr",
     "output_type": "stream",
     "text": [
      "INFO:tensorflow:Assets written to: ram://e1a49ea3-10ac-4e08-b56f-9646c2433c44/assets\n"
     ]
    },
    {
     "name": "stdout",
     "output_type": "stream",
     "text": [
      "219/219 [==============================] - 0s 617us/step\n"
     ]
    },
    {
     "name": "stderr",
     "output_type": "stream",
     "text": [
      "WARNING:absl:Found untraced functions such as _jit_compiled_convolution_op while saving (showing 1 of 1). These functions will not be directly callable after loading.\n"
     ]
    },
    {
     "name": "stdout",
     "output_type": "stream",
     "text": [
      "INFO:tensorflow:Assets written to: ram://0eba02ac-3a1c-4783-aafe-ee3eb729d44e/assets\n"
     ]
    },
    {
     "name": "stderr",
     "output_type": "stream",
     "text": [
      "INFO:tensorflow:Assets written to: ram://0eba02ac-3a1c-4783-aafe-ee3eb729d44e/assets\n"
     ]
    },
    {
     "name": "stdout",
     "output_type": "stream",
     "text": [
      "219/219 [==============================] - 0s 615us/step\n"
     ]
    },
    {
     "name": "stderr",
     "output_type": "stream",
     "text": [
      "WARNING:absl:Found untraced functions such as _jit_compiled_convolution_op while saving (showing 1 of 1). These functions will not be directly callable after loading.\n"
     ]
    },
    {
     "name": "stdout",
     "output_type": "stream",
     "text": [
      "INFO:tensorflow:Assets written to: ram://374831ea-9f9d-4ba4-b446-ce08e9ac67cb/assets\n"
     ]
    },
    {
     "name": "stderr",
     "output_type": "stream",
     "text": [
      "INFO:tensorflow:Assets written to: ram://374831ea-9f9d-4ba4-b446-ce08e9ac67cb/assets\n"
     ]
    },
    {
     "name": "stdout",
     "output_type": "stream",
     "text": [
      "219/219 [==============================] - 0s 679us/step\n"
     ]
    },
    {
     "name": "stderr",
     "output_type": "stream",
     "text": [
      "WARNING:absl:Found untraced functions such as _jit_compiled_convolution_op while saving (showing 1 of 1). These functions will not be directly callable after loading.\n"
     ]
    },
    {
     "name": "stdout",
     "output_type": "stream",
     "text": [
      "INFO:tensorflow:Assets written to: ram://2cb8df86-48d1-499d-a0e6-5ac0cfb2408e/assets\n"
     ]
    },
    {
     "name": "stderr",
     "output_type": "stream",
     "text": [
      "INFO:tensorflow:Assets written to: ram://2cb8df86-48d1-499d-a0e6-5ac0cfb2408e/assets\n"
     ]
    },
    {
     "name": "stdout",
     "output_type": "stream",
     "text": [
      "219/219 [==============================] - 0s 660us/step\n"
     ]
    },
    {
     "name": "stderr",
     "output_type": "stream",
     "text": [
      "WARNING:absl:Found untraced functions such as _jit_compiled_convolution_op while saving (showing 1 of 1). These functions will not be directly callable after loading.\n"
     ]
    },
    {
     "name": "stdout",
     "output_type": "stream",
     "text": [
      "INFO:tensorflow:Assets written to: ram://50a750d0-dd2c-4350-957f-c6fc155da797/assets\n"
     ]
    },
    {
     "name": "stderr",
     "output_type": "stream",
     "text": [
      "INFO:tensorflow:Assets written to: ram://50a750d0-dd2c-4350-957f-c6fc155da797/assets\n"
     ]
    },
    {
     "name": "stdout",
     "output_type": "stream",
     "text": [
      "220/220 [==============================] - 0s 680us/step\n"
     ]
    },
    {
     "name": "stderr",
     "output_type": "stream",
     "text": [
      "WARNING:absl:Found untraced functions such as _jit_compiled_convolution_op while saving (showing 1 of 1). These functions will not be directly callable after loading.\n"
     ]
    },
    {
     "name": "stdout",
     "output_type": "stream",
     "text": [
      "INFO:tensorflow:Assets written to: ram://b0360273-d36d-4d88-b901-e30f2aa461a1/assets\n"
     ]
    },
    {
     "name": "stderr",
     "output_type": "stream",
     "text": [
      "INFO:tensorflow:Assets written to: ram://b0360273-d36d-4d88-b901-e30f2aa461a1/assets\n"
     ]
    },
    {
     "name": "stdout",
     "output_type": "stream",
     "text": [
      "220/220 [==============================] - 0s 641us/step\n"
     ]
    },
    {
     "name": "stderr",
     "output_type": "stream",
     "text": [
      "WARNING:absl:Found untraced functions such as _jit_compiled_convolution_op while saving (showing 1 of 1). These functions will not be directly callable after loading.\n"
     ]
    },
    {
     "name": "stdout",
     "output_type": "stream",
     "text": [
      "INFO:tensorflow:Assets written to: ram://a5d123b9-3ca2-4166-999f-7a8107424ca1/assets\n"
     ]
    },
    {
     "name": "stderr",
     "output_type": "stream",
     "text": [
      "INFO:tensorflow:Assets written to: ram://a5d123b9-3ca2-4166-999f-7a8107424ca1/assets\n"
     ]
    },
    {
     "name": "stdout",
     "output_type": "stream",
     "text": [
      "220/220 [==============================] - 0s 620us/step\n"
     ]
    },
    {
     "name": "stderr",
     "output_type": "stream",
     "text": [
      "WARNING:absl:Found untraced functions such as _jit_compiled_convolution_op while saving (showing 1 of 1). These functions will not be directly callable after loading.\n"
     ]
    },
    {
     "name": "stdout",
     "output_type": "stream",
     "text": [
      "INFO:tensorflow:Assets written to: ram://933ab8b6-6b93-4199-a849-c59c2e2c9089/assets\n"
     ]
    },
    {
     "name": "stderr",
     "output_type": "stream",
     "text": [
      "INFO:tensorflow:Assets written to: ram://933ab8b6-6b93-4199-a849-c59c2e2c9089/assets\n"
     ]
    },
    {
     "name": "stdout",
     "output_type": "stream",
     "text": [
      "220/220 [==============================] - 0s 625us/step\n"
     ]
    },
    {
     "name": "stderr",
     "output_type": "stream",
     "text": [
      "WARNING:absl:Found untraced functions such as _jit_compiled_convolution_op while saving (showing 1 of 1). These functions will not be directly callable after loading.\n"
     ]
    },
    {
     "name": "stdout",
     "output_type": "stream",
     "text": [
      "INFO:tensorflow:Assets written to: ram://6a822d36-2c2b-4d5d-a81f-639c1911173e/assets\n"
     ]
    },
    {
     "name": "stderr",
     "output_type": "stream",
     "text": [
      "INFO:tensorflow:Assets written to: ram://6a822d36-2c2b-4d5d-a81f-639c1911173e/assets\n"
     ]
    },
    {
     "name": "stdout",
     "output_type": "stream",
     "text": [
      "220/220 [==============================] - 0s 591us/step\n"
     ]
    },
    {
     "name": "stderr",
     "output_type": "stream",
     "text": [
      "WARNING:absl:Found untraced functions such as _jit_compiled_convolution_op while saving (showing 1 of 1). These functions will not be directly callable after loading.\n"
     ]
    },
    {
     "name": "stdout",
     "output_type": "stream",
     "text": [
      "INFO:tensorflow:Assets written to: ram://8b2d1552-33bb-4b03-8a3e-065d53df97c8/assets\n"
     ]
    },
    {
     "name": "stderr",
     "output_type": "stream",
     "text": [
      "INFO:tensorflow:Assets written to: ram://8b2d1552-33bb-4b03-8a3e-065d53df97c8/assets\n"
     ]
    },
    {
     "name": "stdout",
     "output_type": "stream",
     "text": [
      "219/219 [==============================] - 0s 614us/step\n"
     ]
    },
    {
     "name": "stderr",
     "output_type": "stream",
     "text": [
      "WARNING:absl:Found untraced functions such as _jit_compiled_convolution_op while saving (showing 1 of 1). These functions will not be directly callable after loading.\n"
     ]
    },
    {
     "name": "stdout",
     "output_type": "stream",
     "text": [
      "INFO:tensorflow:Assets written to: ram://ebe9037d-6cf0-41ba-a4f8-78ee91365681/assets\n"
     ]
    },
    {
     "name": "stderr",
     "output_type": "stream",
     "text": [
      "INFO:tensorflow:Assets written to: ram://ebe9037d-6cf0-41ba-a4f8-78ee91365681/assets\n"
     ]
    },
    {
     "name": "stdout",
     "output_type": "stream",
     "text": [
      "219/219 [==============================] - 0s 634us/step\n"
     ]
    },
    {
     "name": "stderr",
     "output_type": "stream",
     "text": [
      "WARNING:absl:Found untraced functions such as _jit_compiled_convolution_op while saving (showing 1 of 1). These functions will not be directly callable after loading.\n"
     ]
    },
    {
     "name": "stdout",
     "output_type": "stream",
     "text": [
      "INFO:tensorflow:Assets written to: ram://0ffad44c-4392-4f94-b030-29d88cf292a2/assets\n"
     ]
    },
    {
     "name": "stderr",
     "output_type": "stream",
     "text": [
      "INFO:tensorflow:Assets written to: ram://0ffad44c-4392-4f94-b030-29d88cf292a2/assets\n"
     ]
    },
    {
     "name": "stdout",
     "output_type": "stream",
     "text": [
      "219/219 [==============================] - 0s 682us/step\n"
     ]
    },
    {
     "name": "stderr",
     "output_type": "stream",
     "text": [
      "WARNING:absl:Found untraced functions such as _jit_compiled_convolution_op while saving (showing 1 of 1). These functions will not be directly callable after loading.\n"
     ]
    },
    {
     "name": "stdout",
     "output_type": "stream",
     "text": [
      "INFO:tensorflow:Assets written to: ram://526f8d47-2ea5-4db8-a678-82c8c3c35cf0/assets\n"
     ]
    },
    {
     "name": "stderr",
     "output_type": "stream",
     "text": [
      "INFO:tensorflow:Assets written to: ram://526f8d47-2ea5-4db8-a678-82c8c3c35cf0/assets\n"
     ]
    },
    {
     "name": "stdout",
     "output_type": "stream",
     "text": [
      "219/219 [==============================] - 0s 654us/step\n"
     ]
    },
    {
     "name": "stderr",
     "output_type": "stream",
     "text": [
      "WARNING:absl:Found untraced functions such as _jit_compiled_convolution_op while saving (showing 1 of 1). These functions will not be directly callable after loading.\n"
     ]
    },
    {
     "name": "stdout",
     "output_type": "stream",
     "text": [
      "INFO:tensorflow:Assets written to: ram://c5db38e0-ceae-43ef-aef4-2ca1a5bf843d/assets\n"
     ]
    },
    {
     "name": "stderr",
     "output_type": "stream",
     "text": [
      "INFO:tensorflow:Assets written to: ram://c5db38e0-ceae-43ef-aef4-2ca1a5bf843d/assets\n"
     ]
    },
    {
     "name": "stdout",
     "output_type": "stream",
     "text": [
      "219/219 [==============================] - 0s 705us/step\n"
     ]
    },
    {
     "name": "stderr",
     "output_type": "stream",
     "text": [
      "WARNING:absl:Found untraced functions such as _jit_compiled_convolution_op while saving (showing 1 of 1). These functions will not be directly callable after loading.\n"
     ]
    },
    {
     "name": "stdout",
     "output_type": "stream",
     "text": [
      "INFO:tensorflow:Assets written to: ram://d27f796c-0167-484d-9f9f-cde317c1b145/assets\n"
     ]
    },
    {
     "name": "stderr",
     "output_type": "stream",
     "text": [
      "INFO:tensorflow:Assets written to: ram://d27f796c-0167-484d-9f9f-cde317c1b145/assets\n"
     ]
    },
    {
     "name": "stdout",
     "output_type": "stream",
     "text": [
      "219/219 [==============================] - 0s 701us/step\n"
     ]
    },
    {
     "name": "stderr",
     "output_type": "stream",
     "text": [
      "WARNING:absl:Found untraced functions such as _jit_compiled_convolution_op while saving (showing 1 of 1). These functions will not be directly callable after loading.\n"
     ]
    },
    {
     "name": "stdout",
     "output_type": "stream",
     "text": [
      "INFO:tensorflow:Assets written to: ram://92a944fd-40d9-477c-896d-8d071e35a912/assets\n"
     ]
    },
    {
     "name": "stderr",
     "output_type": "stream",
     "text": [
      "INFO:tensorflow:Assets written to: ram://92a944fd-40d9-477c-896d-8d071e35a912/assets\n"
     ]
    },
    {
     "name": "stdout",
     "output_type": "stream",
     "text": [
      "220/220 [==============================] - 0s 601us/step\n"
     ]
    },
    {
     "name": "stderr",
     "output_type": "stream",
     "text": [
      "WARNING:absl:Found untraced functions such as _jit_compiled_convolution_op while saving (showing 1 of 1). These functions will not be directly callable after loading.\n"
     ]
    },
    {
     "name": "stdout",
     "output_type": "stream",
     "text": [
      "INFO:tensorflow:Assets written to: ram://115fdd97-fa8a-42f5-b183-833db6daa5b6/assets\n"
     ]
    },
    {
     "name": "stderr",
     "output_type": "stream",
     "text": [
      "INFO:tensorflow:Assets written to: ram://115fdd97-fa8a-42f5-b183-833db6daa5b6/assets\n"
     ]
    },
    {
     "name": "stdout",
     "output_type": "stream",
     "text": [
      "220/220 [==============================] - 0s 601us/step\n"
     ]
    },
    {
     "name": "stderr",
     "output_type": "stream",
     "text": [
      "WARNING:absl:Found untraced functions such as _jit_compiled_convolution_op while saving (showing 1 of 1). These functions will not be directly callable after loading.\n"
     ]
    },
    {
     "name": "stdout",
     "output_type": "stream",
     "text": [
      "INFO:tensorflow:Assets written to: ram://77fff0dc-0ccc-4a49-a8f6-65047aff6aad/assets\n"
     ]
    },
    {
     "name": "stderr",
     "output_type": "stream",
     "text": [
      "INFO:tensorflow:Assets written to: ram://77fff0dc-0ccc-4a49-a8f6-65047aff6aad/assets\n"
     ]
    },
    {
     "name": "stdout",
     "output_type": "stream",
     "text": [
      "220/220 [==============================] - 0s 585us/step\n"
     ]
    },
    {
     "name": "stderr",
     "output_type": "stream",
     "text": [
      "WARNING:absl:Found untraced functions such as _jit_compiled_convolution_op while saving (showing 1 of 1). These functions will not be directly callable after loading.\n"
     ]
    },
    {
     "name": "stdout",
     "output_type": "stream",
     "text": [
      "INFO:tensorflow:Assets written to: ram://4a6aec34-f84f-406f-abfd-ed6975705635/assets\n"
     ]
    },
    {
     "name": "stderr",
     "output_type": "stream",
     "text": [
      "INFO:tensorflow:Assets written to: ram://4a6aec34-f84f-406f-abfd-ed6975705635/assets\n"
     ]
    },
    {
     "name": "stdout",
     "output_type": "stream",
     "text": [
      "220/220 [==============================] - 0s 580us/step\n"
     ]
    },
    {
     "name": "stderr",
     "output_type": "stream",
     "text": [
      "WARNING:absl:Found untraced functions such as _jit_compiled_convolution_op while saving (showing 1 of 1). These functions will not be directly callable after loading.\n"
     ]
    },
    {
     "name": "stdout",
     "output_type": "stream",
     "text": [
      "INFO:tensorflow:Assets written to: ram://c9f88e75-f684-4599-a169-aab230510fd6/assets\n"
     ]
    },
    {
     "name": "stderr",
     "output_type": "stream",
     "text": [
      "INFO:tensorflow:Assets written to: ram://c9f88e75-f684-4599-a169-aab230510fd6/assets\n"
     ]
    },
    {
     "name": "stdout",
     "output_type": "stream",
     "text": [
      "220/220 [==============================] - 0s 595us/step\n"
     ]
    },
    {
     "name": "stderr",
     "output_type": "stream",
     "text": [
      "WARNING:absl:Found untraced functions such as _jit_compiled_convolution_op while saving (showing 1 of 1). These functions will not be directly callable after loading.\n"
     ]
    },
    {
     "name": "stdout",
     "output_type": "stream",
     "text": [
      "INFO:tensorflow:Assets written to: ram://041e8350-c969-462e-9638-339c515257bb/assets\n"
     ]
    },
    {
     "name": "stderr",
     "output_type": "stream",
     "text": [
      "INFO:tensorflow:Assets written to: ram://041e8350-c969-462e-9638-339c515257bb/assets\n"
     ]
    },
    {
     "name": "stdout",
     "output_type": "stream",
     "text": [
      "219/219 [==============================] - 0s 686us/step\n"
     ]
    },
    {
     "name": "stderr",
     "output_type": "stream",
     "text": [
      "WARNING:absl:Found untraced functions such as _jit_compiled_convolution_op while saving (showing 1 of 1). These functions will not be directly callable after loading.\n"
     ]
    },
    {
     "name": "stdout",
     "output_type": "stream",
     "text": [
      "INFO:tensorflow:Assets written to: ram://4324c2cc-4292-4797-9d36-95ba9b7159ba/assets\n"
     ]
    },
    {
     "name": "stderr",
     "output_type": "stream",
     "text": [
      "INFO:tensorflow:Assets written to: ram://4324c2cc-4292-4797-9d36-95ba9b7159ba/assets\n"
     ]
    },
    {
     "name": "stdout",
     "output_type": "stream",
     "text": [
      "219/219 [==============================] - 0s 642us/step\n"
     ]
    },
    {
     "name": "stderr",
     "output_type": "stream",
     "text": [
      "WARNING:absl:Found untraced functions such as _jit_compiled_convolution_op while saving (showing 1 of 1). These functions will not be directly callable after loading.\n"
     ]
    },
    {
     "name": "stdout",
     "output_type": "stream",
     "text": [
      "INFO:tensorflow:Assets written to: ram://2bc081e9-28eb-4cfc-abe7-bb578100d7c2/assets\n"
     ]
    },
    {
     "name": "stderr",
     "output_type": "stream",
     "text": [
      "INFO:tensorflow:Assets written to: ram://2bc081e9-28eb-4cfc-abe7-bb578100d7c2/assets\n"
     ]
    },
    {
     "name": "stdout",
     "output_type": "stream",
     "text": [
      "219/219 [==============================] - 0s 655us/step\n"
     ]
    },
    {
     "name": "stderr",
     "output_type": "stream",
     "text": [
      "WARNING:absl:Found untraced functions such as _jit_compiled_convolution_op while saving (showing 1 of 1). These functions will not be directly callable after loading.\n"
     ]
    },
    {
     "name": "stdout",
     "output_type": "stream",
     "text": [
      "INFO:tensorflow:Assets written to: ram://80c03abc-e992-483a-903b-1e58ce02d0e9/assets\n"
     ]
    },
    {
     "name": "stderr",
     "output_type": "stream",
     "text": [
      "INFO:tensorflow:Assets written to: ram://80c03abc-e992-483a-903b-1e58ce02d0e9/assets\n"
     ]
    },
    {
     "name": "stdout",
     "output_type": "stream",
     "text": [
      "219/219 [==============================] - 0s 604us/step\n"
     ]
    },
    {
     "name": "stderr",
     "output_type": "stream",
     "text": [
      "WARNING:absl:Found untraced functions such as _jit_compiled_convolution_op while saving (showing 1 of 1). These functions will not be directly callable after loading.\n"
     ]
    },
    {
     "name": "stdout",
     "output_type": "stream",
     "text": [
      "INFO:tensorflow:Assets written to: ram://06f7f205-6965-4fc4-9e69-defc79f9e105/assets\n"
     ]
    },
    {
     "name": "stderr",
     "output_type": "stream",
     "text": [
      "INFO:tensorflow:Assets written to: ram://06f7f205-6965-4fc4-9e69-defc79f9e105/assets\n"
     ]
    },
    {
     "name": "stdout",
     "output_type": "stream",
     "text": [
      "219/219 [==============================] - 0s 626us/step\n"
     ]
    },
    {
     "name": "stderr",
     "output_type": "stream",
     "text": [
      "WARNING:absl:Found untraced functions such as _jit_compiled_convolution_op while saving (showing 1 of 1). These functions will not be directly callable after loading.\n"
     ]
    },
    {
     "name": "stdout",
     "output_type": "stream",
     "text": [
      "INFO:tensorflow:Assets written to: ram://32e9045c-c69e-4bde-84e8-b98b6ebae8e0/assets\n"
     ]
    },
    {
     "name": "stderr",
     "output_type": "stream",
     "text": [
      "INFO:tensorflow:Assets written to: ram://32e9045c-c69e-4bde-84e8-b98b6ebae8e0/assets\n"
     ]
    },
    {
     "name": "stdout",
     "output_type": "stream",
     "text": [
      "219/219 [==============================] - 0s 700us/step\n"
     ]
    },
    {
     "name": "stderr",
     "output_type": "stream",
     "text": [
      "WARNING:absl:Found untraced functions such as _jit_compiled_convolution_op while saving (showing 1 of 1). These functions will not be directly callable after loading.\n"
     ]
    },
    {
     "name": "stdout",
     "output_type": "stream",
     "text": [
      "INFO:tensorflow:Assets written to: ram://22cb2764-77dc-453f-ab4c-479dc209d625/assets\n"
     ]
    },
    {
     "name": "stderr",
     "output_type": "stream",
     "text": [
      "INFO:tensorflow:Assets written to: ram://22cb2764-77dc-453f-ab4c-479dc209d625/assets\n"
     ]
    },
    {
     "name": "stdout",
     "output_type": "stream",
     "text": [
      "220/220 [==============================] - 0s 614us/step\n"
     ]
    },
    {
     "name": "stderr",
     "output_type": "stream",
     "text": [
      "WARNING:absl:Found untraced functions such as _jit_compiled_convolution_op while saving (showing 1 of 1). These functions will not be directly callable after loading.\n"
     ]
    },
    {
     "name": "stdout",
     "output_type": "stream",
     "text": [
      "INFO:tensorflow:Assets written to: ram://dac3cb60-8dd6-48e1-b37c-c0a46a3bc78e/assets\n"
     ]
    },
    {
     "name": "stderr",
     "output_type": "stream",
     "text": [
      "INFO:tensorflow:Assets written to: ram://dac3cb60-8dd6-48e1-b37c-c0a46a3bc78e/assets\n"
     ]
    },
    {
     "name": "stdout",
     "output_type": "stream",
     "text": [
      "220/220 [==============================] - 0s 597us/step\n"
     ]
    },
    {
     "name": "stderr",
     "output_type": "stream",
     "text": [
      "WARNING:absl:Found untraced functions such as _jit_compiled_convolution_op while saving (showing 1 of 1). These functions will not be directly callable after loading.\n"
     ]
    },
    {
     "name": "stdout",
     "output_type": "stream",
     "text": [
      "INFO:tensorflow:Assets written to: ram://8b0dc9d1-66a0-4adc-bae3-a05a61e679f0/assets\n"
     ]
    },
    {
     "name": "stderr",
     "output_type": "stream",
     "text": [
      "INFO:tensorflow:Assets written to: ram://8b0dc9d1-66a0-4adc-bae3-a05a61e679f0/assets\n"
     ]
    },
    {
     "name": "stdout",
     "output_type": "stream",
     "text": [
      "220/220 [==============================] - 0s 552us/step\n"
     ]
    },
    {
     "name": "stderr",
     "output_type": "stream",
     "text": [
      "WARNING:absl:Found untraced functions such as _jit_compiled_convolution_op while saving (showing 1 of 1). These functions will not be directly callable after loading.\n"
     ]
    },
    {
     "name": "stdout",
     "output_type": "stream",
     "text": [
      "INFO:tensorflow:Assets written to: ram://653a9536-5335-401f-8f81-5a7eca37424d/assets\n"
     ]
    },
    {
     "name": "stderr",
     "output_type": "stream",
     "text": [
      "INFO:tensorflow:Assets written to: ram://653a9536-5335-401f-8f81-5a7eca37424d/assets\n"
     ]
    },
    {
     "name": "stdout",
     "output_type": "stream",
     "text": [
      "220/220 [==============================] - 0s 611us/step\n"
     ]
    },
    {
     "name": "stderr",
     "output_type": "stream",
     "text": [
      "WARNING:absl:Found untraced functions such as _jit_compiled_convolution_op while saving (showing 1 of 1). These functions will not be directly callable after loading.\n"
     ]
    },
    {
     "name": "stdout",
     "output_type": "stream",
     "text": [
      "INFO:tensorflow:Assets written to: ram://2d8098ee-c6b1-4f18-94d6-707513c35127/assets\n"
     ]
    },
    {
     "name": "stderr",
     "output_type": "stream",
     "text": [
      "INFO:tensorflow:Assets written to: ram://2d8098ee-c6b1-4f18-94d6-707513c35127/assets\n"
     ]
    },
    {
     "name": "stdout",
     "output_type": "stream",
     "text": [
      "220/220 [==============================] - 0s 587us/step\n"
     ]
    },
    {
     "name": "stderr",
     "output_type": "stream",
     "text": [
      "WARNING:absl:Found untraced functions such as _jit_compiled_convolution_op while saving (showing 1 of 1). These functions will not be directly callable after loading.\n"
     ]
    },
    {
     "name": "stdout",
     "output_type": "stream",
     "text": [
      "INFO:tensorflow:Assets written to: ram://edc975f6-6bbf-4429-aa1d-08e0071906e7/assets\n"
     ]
    },
    {
     "name": "stderr",
     "output_type": "stream",
     "text": [
      "INFO:tensorflow:Assets written to: ram://edc975f6-6bbf-4429-aa1d-08e0071906e7/assets\n"
     ]
    },
    {
     "name": "stdout",
     "output_type": "stream",
     "text": [
      "219/219 [==============================] - 0s 602us/step\n"
     ]
    },
    {
     "name": "stderr",
     "output_type": "stream",
     "text": [
      "WARNING:absl:Found untraced functions such as _jit_compiled_convolution_op while saving (showing 1 of 1). These functions will not be directly callable after loading.\n"
     ]
    },
    {
     "name": "stdout",
     "output_type": "stream",
     "text": [
      "INFO:tensorflow:Assets written to: ram://9fff307f-98f1-4810-b962-bdb194bc6cbc/assets\n"
     ]
    },
    {
     "name": "stderr",
     "output_type": "stream",
     "text": [
      "INFO:tensorflow:Assets written to: ram://9fff307f-98f1-4810-b962-bdb194bc6cbc/assets\n"
     ]
    },
    {
     "name": "stdout",
     "output_type": "stream",
     "text": [
      "219/219 [==============================] - 0s 629us/step\n"
     ]
    },
    {
     "name": "stderr",
     "output_type": "stream",
     "text": [
      "WARNING:absl:Found untraced functions such as _jit_compiled_convolution_op while saving (showing 1 of 1). These functions will not be directly callable after loading.\n"
     ]
    },
    {
     "name": "stdout",
     "output_type": "stream",
     "text": [
      "INFO:tensorflow:Assets written to: ram://8e0d1711-3585-4043-b441-567f400968d4/assets\n"
     ]
    },
    {
     "name": "stderr",
     "output_type": "stream",
     "text": [
      "INFO:tensorflow:Assets written to: ram://8e0d1711-3585-4043-b441-567f400968d4/assets\n"
     ]
    },
    {
     "name": "stdout",
     "output_type": "stream",
     "text": [
      "219/219 [==============================] - 0s 734us/step\n"
     ]
    },
    {
     "name": "stderr",
     "output_type": "stream",
     "text": [
      "WARNING:absl:Found untraced functions such as _jit_compiled_convolution_op while saving (showing 1 of 1). These functions will not be directly callable after loading.\n"
     ]
    },
    {
     "name": "stdout",
     "output_type": "stream",
     "text": [
      "INFO:tensorflow:Assets written to: ram://98fd6463-dde6-4e83-b3d4-e492b8ac078b/assets\n"
     ]
    },
    {
     "name": "stderr",
     "output_type": "stream",
     "text": [
      "INFO:tensorflow:Assets written to: ram://98fd6463-dde6-4e83-b3d4-e492b8ac078b/assets\n"
     ]
    },
    {
     "name": "stdout",
     "output_type": "stream",
     "text": [
      "219/219 [==============================] - 0s 576us/step\n"
     ]
    },
    {
     "name": "stderr",
     "output_type": "stream",
     "text": [
      "WARNING:absl:Found untraced functions such as _jit_compiled_convolution_op while saving (showing 1 of 1). These functions will not be directly callable after loading.\n"
     ]
    },
    {
     "name": "stdout",
     "output_type": "stream",
     "text": [
      "INFO:tensorflow:Assets written to: ram://b1e1b7d3-26ef-4b82-bbcc-9eb47ae8941a/assets\n"
     ]
    },
    {
     "name": "stderr",
     "output_type": "stream",
     "text": [
      "INFO:tensorflow:Assets written to: ram://b1e1b7d3-26ef-4b82-bbcc-9eb47ae8941a/assets\n"
     ]
    },
    {
     "name": "stdout",
     "output_type": "stream",
     "text": [
      "219/219 [==============================] - 0s 624us/step\n"
     ]
    },
    {
     "name": "stderr",
     "output_type": "stream",
     "text": [
      "WARNING:absl:Found untraced functions such as _jit_compiled_convolution_op while saving (showing 1 of 1). These functions will not be directly callable after loading.\n"
     ]
    },
    {
     "name": "stdout",
     "output_type": "stream",
     "text": [
      "INFO:tensorflow:Assets written to: ram://aae9a77a-d559-43d1-bbf0-e5a0703d366e/assets\n"
     ]
    },
    {
     "name": "stderr",
     "output_type": "stream",
     "text": [
      "INFO:tensorflow:Assets written to: ram://aae9a77a-d559-43d1-bbf0-e5a0703d366e/assets\n"
     ]
    },
    {
     "name": "stdout",
     "output_type": "stream",
     "text": [
      "219/219 [==============================] - 0s 646us/step\n"
     ]
    },
    {
     "name": "stderr",
     "output_type": "stream",
     "text": [
      "WARNING:absl:Found untraced functions such as _jit_compiled_convolution_op while saving (showing 1 of 1). These functions will not be directly callable after loading.\n"
     ]
    },
    {
     "name": "stdout",
     "output_type": "stream",
     "text": [
      "INFO:tensorflow:Assets written to: ram://ecdf0eb6-897c-4219-bfd4-ab53c06a0078/assets\n"
     ]
    },
    {
     "name": "stderr",
     "output_type": "stream",
     "text": [
      "INFO:tensorflow:Assets written to: ram://ecdf0eb6-897c-4219-bfd4-ab53c06a0078/assets\n"
     ]
    },
    {
     "name": "stdout",
     "output_type": "stream",
     "text": [
      "220/220 [==============================] - 0s 619us/step\n"
     ]
    },
    {
     "name": "stderr",
     "output_type": "stream",
     "text": [
      "WARNING:absl:Found untraced functions such as _jit_compiled_convolution_op while saving (showing 1 of 1). These functions will not be directly callable after loading.\n"
     ]
    },
    {
     "name": "stdout",
     "output_type": "stream",
     "text": [
      "INFO:tensorflow:Assets written to: ram://f22082a7-7c76-4348-9ea8-897e9d038286/assets\n"
     ]
    },
    {
     "name": "stderr",
     "output_type": "stream",
     "text": [
      "INFO:tensorflow:Assets written to: ram://f22082a7-7c76-4348-9ea8-897e9d038286/assets\n"
     ]
    },
    {
     "name": "stdout",
     "output_type": "stream",
     "text": [
      "220/220 [==============================] - 0s 643us/step\n"
     ]
    },
    {
     "name": "stderr",
     "output_type": "stream",
     "text": [
      "WARNING:absl:Found untraced functions such as _jit_compiled_convolution_op while saving (showing 1 of 1). These functions will not be directly callable after loading.\n"
     ]
    },
    {
     "name": "stdout",
     "output_type": "stream",
     "text": [
      "INFO:tensorflow:Assets written to: ram://33333505-fde2-4271-acbc-27efdfddad80/assets\n"
     ]
    },
    {
     "name": "stderr",
     "output_type": "stream",
     "text": [
      "INFO:tensorflow:Assets written to: ram://33333505-fde2-4271-acbc-27efdfddad80/assets\n"
     ]
    },
    {
     "name": "stdout",
     "output_type": "stream",
     "text": [
      "220/220 [==============================] - 0s 579us/step\n"
     ]
    },
    {
     "name": "stderr",
     "output_type": "stream",
     "text": [
      "WARNING:absl:Found untraced functions such as _jit_compiled_convolution_op while saving (showing 1 of 1). These functions will not be directly callable after loading.\n"
     ]
    },
    {
     "name": "stdout",
     "output_type": "stream",
     "text": [
      "INFO:tensorflow:Assets written to: ram://854c1196-ee6b-4556-8b64-60409e087d8b/assets\n"
     ]
    },
    {
     "name": "stderr",
     "output_type": "stream",
     "text": [
      "INFO:tensorflow:Assets written to: ram://854c1196-ee6b-4556-8b64-60409e087d8b/assets\n"
     ]
    },
    {
     "name": "stdout",
     "output_type": "stream",
     "text": [
      "220/220 [==============================] - 0s 585us/step\n"
     ]
    },
    {
     "name": "stderr",
     "output_type": "stream",
     "text": [
      "WARNING:absl:Found untraced functions such as _jit_compiled_convolution_op while saving (showing 1 of 1). These functions will not be directly callable after loading.\n"
     ]
    },
    {
     "name": "stdout",
     "output_type": "stream",
     "text": [
      "INFO:tensorflow:Assets written to: ram://29f41593-b0bc-4555-a51e-9dda43d3f77d/assets\n"
     ]
    },
    {
     "name": "stderr",
     "output_type": "stream",
     "text": [
      "INFO:tensorflow:Assets written to: ram://29f41593-b0bc-4555-a51e-9dda43d3f77d/assets\n"
     ]
    },
    {
     "name": "stdout",
     "output_type": "stream",
     "text": [
      "220/220 [==============================] - 0s 619us/step\n"
     ]
    },
    {
     "name": "stderr",
     "output_type": "stream",
     "text": [
      "WARNING:absl:Found untraced functions such as _jit_compiled_convolution_op while saving (showing 1 of 1). These functions will not be directly callable after loading.\n"
     ]
    },
    {
     "name": "stdout",
     "output_type": "stream",
     "text": [
      "INFO:tensorflow:Assets written to: ram://be7753af-3565-40ce-8638-ee913d370240/assets\n"
     ]
    },
    {
     "name": "stderr",
     "output_type": "stream",
     "text": [
      "INFO:tensorflow:Assets written to: ram://be7753af-3565-40ce-8638-ee913d370240/assets\n"
     ]
    },
    {
     "name": "stdout",
     "output_type": "stream",
     "text": [
      "219/219 [==============================] - 0s 657us/step\n"
     ]
    },
    {
     "name": "stderr",
     "output_type": "stream",
     "text": [
      "WARNING:absl:Found untraced functions such as _jit_compiled_convolution_op while saving (showing 1 of 1). These functions will not be directly callable after loading.\n"
     ]
    },
    {
     "name": "stdout",
     "output_type": "stream",
     "text": [
      "INFO:tensorflow:Assets written to: ram://7cfa700f-6fce-44e8-aa5d-da3c5512c5bb/assets\n"
     ]
    },
    {
     "name": "stderr",
     "output_type": "stream",
     "text": [
      "INFO:tensorflow:Assets written to: ram://7cfa700f-6fce-44e8-aa5d-da3c5512c5bb/assets\n"
     ]
    },
    {
     "name": "stdout",
     "output_type": "stream",
     "text": [
      "219/219 [==============================] - 0s 632us/step\n"
     ]
    },
    {
     "name": "stderr",
     "output_type": "stream",
     "text": [
      "WARNING:absl:Found untraced functions such as _jit_compiled_convolution_op while saving (showing 1 of 1). These functions will not be directly callable after loading.\n"
     ]
    },
    {
     "name": "stdout",
     "output_type": "stream",
     "text": [
      "INFO:tensorflow:Assets written to: ram://66fec5b1-dc47-45cc-a672-2b8b6bb625ea/assets\n"
     ]
    },
    {
     "name": "stderr",
     "output_type": "stream",
     "text": [
      "INFO:tensorflow:Assets written to: ram://66fec5b1-dc47-45cc-a672-2b8b6bb625ea/assets\n"
     ]
    },
    {
     "name": "stdout",
     "output_type": "stream",
     "text": [
      "219/219 [==============================] - 0s 606us/step\n"
     ]
    },
    {
     "name": "stderr",
     "output_type": "stream",
     "text": [
      "WARNING:absl:Found untraced functions such as _jit_compiled_convolution_op while saving (showing 1 of 1). These functions will not be directly callable after loading.\n"
     ]
    },
    {
     "name": "stdout",
     "output_type": "stream",
     "text": [
      "INFO:tensorflow:Assets written to: ram://58130257-13ae-4de8-b1ee-becad0ac5870/assets\n"
     ]
    },
    {
     "name": "stderr",
     "output_type": "stream",
     "text": [
      "INFO:tensorflow:Assets written to: ram://58130257-13ae-4de8-b1ee-becad0ac5870/assets\n"
     ]
    },
    {
     "name": "stdout",
     "output_type": "stream",
     "text": [
      "219/219 [==============================] - 0s 680us/step\n"
     ]
    },
    {
     "name": "stderr",
     "output_type": "stream",
     "text": [
      "WARNING:absl:Found untraced functions such as _jit_compiled_convolution_op while saving (showing 1 of 1). These functions will not be directly callable after loading.\n"
     ]
    },
    {
     "name": "stdout",
     "output_type": "stream",
     "text": [
      "INFO:tensorflow:Assets written to: ram://b709ad50-e74a-4972-960d-e3e272c15aa5/assets\n"
     ]
    },
    {
     "name": "stderr",
     "output_type": "stream",
     "text": [
      "INFO:tensorflow:Assets written to: ram://b709ad50-e74a-4972-960d-e3e272c15aa5/assets\n"
     ]
    },
    {
     "name": "stdout",
     "output_type": "stream",
     "text": [
      "219/219 [==============================] - 0s 611us/step\n"
     ]
    },
    {
     "name": "stderr",
     "output_type": "stream",
     "text": [
      "WARNING:absl:Found untraced functions such as _jit_compiled_convolution_op while saving (showing 1 of 1). These functions will not be directly callable after loading.\n"
     ]
    },
    {
     "name": "stdout",
     "output_type": "stream",
     "text": [
      "INFO:tensorflow:Assets written to: ram://da255682-a0b5-46b6-b09e-82789f62d82b/assets\n"
     ]
    },
    {
     "name": "stderr",
     "output_type": "stream",
     "text": [
      "INFO:tensorflow:Assets written to: ram://da255682-a0b5-46b6-b09e-82789f62d82b/assets\n"
     ]
    },
    {
     "name": "stdout",
     "output_type": "stream",
     "text": [
      "219/219 [==============================] - 0s 649us/step\n"
     ]
    },
    {
     "name": "stderr",
     "output_type": "stream",
     "text": [
      "WARNING:absl:Found untraced functions such as _jit_compiled_convolution_op while saving (showing 1 of 1). These functions will not be directly callable after loading.\n"
     ]
    },
    {
     "name": "stdout",
     "output_type": "stream",
     "text": [
      "INFO:tensorflow:Assets written to: ram://ddd52c51-3f5c-4416-8dd4-97f61ab90785/assets\n"
     ]
    },
    {
     "name": "stderr",
     "output_type": "stream",
     "text": [
      "INFO:tensorflow:Assets written to: ram://ddd52c51-3f5c-4416-8dd4-97f61ab90785/assets\n"
     ]
    },
    {
     "name": "stdout",
     "output_type": "stream",
     "text": [
      "220/220 [==============================] - 0s 593us/step\n"
     ]
    },
    {
     "name": "stderr",
     "output_type": "stream",
     "text": [
      "WARNING:absl:Found untraced functions such as _jit_compiled_convolution_op while saving (showing 1 of 1). These functions will not be directly callable after loading.\n"
     ]
    },
    {
     "name": "stdout",
     "output_type": "stream",
     "text": [
      "INFO:tensorflow:Assets written to: ram://43100f8e-5c0f-4a77-a5bf-9f95ee3d6839/assets\n"
     ]
    },
    {
     "name": "stderr",
     "output_type": "stream",
     "text": [
      "INFO:tensorflow:Assets written to: ram://43100f8e-5c0f-4a77-a5bf-9f95ee3d6839/assets\n"
     ]
    },
    {
     "name": "stdout",
     "output_type": "stream",
     "text": [
      "220/220 [==============================] - 0s 583us/step\n"
     ]
    },
    {
     "name": "stderr",
     "output_type": "stream",
     "text": [
      "WARNING:absl:Found untraced functions such as _jit_compiled_convolution_op while saving (showing 1 of 1). These functions will not be directly callable after loading.\n"
     ]
    },
    {
     "name": "stdout",
     "output_type": "stream",
     "text": [
      "INFO:tensorflow:Assets written to: ram://101aee04-c403-4a02-8e23-b920bc71257f/assets\n"
     ]
    },
    {
     "name": "stderr",
     "output_type": "stream",
     "text": [
      "INFO:tensorflow:Assets written to: ram://101aee04-c403-4a02-8e23-b920bc71257f/assets\n"
     ]
    },
    {
     "name": "stdout",
     "output_type": "stream",
     "text": [
      "220/220 [==============================] - 0s 638us/step\n"
     ]
    },
    {
     "name": "stderr",
     "output_type": "stream",
     "text": [
      "WARNING:absl:Found untraced functions such as _jit_compiled_convolution_op while saving (showing 1 of 1). These functions will not be directly callable after loading.\n"
     ]
    },
    {
     "name": "stdout",
     "output_type": "stream",
     "text": [
      "INFO:tensorflow:Assets written to: ram://b5ab4c49-440e-4715-a082-63a93e2768d7/assets\n"
     ]
    },
    {
     "name": "stderr",
     "output_type": "stream",
     "text": [
      "INFO:tensorflow:Assets written to: ram://b5ab4c49-440e-4715-a082-63a93e2768d7/assets\n"
     ]
    },
    {
     "name": "stdout",
     "output_type": "stream",
     "text": [
      "220/220 [==============================] - 0s 613us/step\n"
     ]
    },
    {
     "name": "stderr",
     "output_type": "stream",
     "text": [
      "WARNING:absl:Found untraced functions such as _jit_compiled_convolution_op while saving (showing 1 of 1). These functions will not be directly callable after loading.\n"
     ]
    },
    {
     "name": "stdout",
     "output_type": "stream",
     "text": [
      "INFO:tensorflow:Assets written to: ram://5829b31c-5d9c-4ac0-8141-d291cbfc2115/assets\n"
     ]
    },
    {
     "name": "stderr",
     "output_type": "stream",
     "text": [
      "INFO:tensorflow:Assets written to: ram://5829b31c-5d9c-4ac0-8141-d291cbfc2115/assets\n"
     ]
    },
    {
     "name": "stdout",
     "output_type": "stream",
     "text": [
      "220/220 [==============================] - 0s 598us/step\n"
     ]
    },
    {
     "name": "stderr",
     "output_type": "stream",
     "text": [
      "WARNING:absl:Found untraced functions such as _jit_compiled_convolution_op while saving (showing 1 of 1). These functions will not be directly callable after loading.\n"
     ]
    },
    {
     "name": "stdout",
     "output_type": "stream",
     "text": [
      "INFO:tensorflow:Assets written to: ram://69f27d58-21f9-4811-be4b-1a810cae8730/assets\n"
     ]
    },
    {
     "name": "stderr",
     "output_type": "stream",
     "text": [
      "INFO:tensorflow:Assets written to: ram://69f27d58-21f9-4811-be4b-1a810cae8730/assets\n"
     ]
    },
    {
     "name": "stdout",
     "output_type": "stream",
     "text": [
      "219/219 [==============================] - 0s 632us/step\n"
     ]
    },
    {
     "name": "stderr",
     "output_type": "stream",
     "text": [
      "WARNING:absl:Found untraced functions such as _jit_compiled_convolution_op while saving (showing 1 of 1). These functions will not be directly callable after loading.\n"
     ]
    },
    {
     "name": "stdout",
     "output_type": "stream",
     "text": [
      "INFO:tensorflow:Assets written to: ram://de3116ea-8eca-4c4b-8424-f948072470b7/assets\n"
     ]
    },
    {
     "name": "stderr",
     "output_type": "stream",
     "text": [
      "INFO:tensorflow:Assets written to: ram://de3116ea-8eca-4c4b-8424-f948072470b7/assets\n"
     ]
    },
    {
     "name": "stdout",
     "output_type": "stream",
     "text": [
      "219/219 [==============================] - 0s 614us/step\n"
     ]
    },
    {
     "name": "stderr",
     "output_type": "stream",
     "text": [
      "WARNING:absl:Found untraced functions such as _jit_compiled_convolution_op while saving (showing 1 of 1). These functions will not be directly callable after loading.\n"
     ]
    },
    {
     "name": "stdout",
     "output_type": "stream",
     "text": [
      "INFO:tensorflow:Assets written to: ram://4d256e56-bc57-4bee-b5d7-faf65646caf7/assets\n"
     ]
    },
    {
     "name": "stderr",
     "output_type": "stream",
     "text": [
      "INFO:tensorflow:Assets written to: ram://4d256e56-bc57-4bee-b5d7-faf65646caf7/assets\n"
     ]
    },
    {
     "name": "stdout",
     "output_type": "stream",
     "text": [
      "219/219 [==============================] - 0s 594us/step\n"
     ]
    },
    {
     "name": "stderr",
     "output_type": "stream",
     "text": [
      "WARNING:absl:Found untraced functions such as _jit_compiled_convolution_op while saving (showing 1 of 1). These functions will not be directly callable after loading.\n"
     ]
    },
    {
     "name": "stdout",
     "output_type": "stream",
     "text": [
      "INFO:tensorflow:Assets written to: ram://fe52e6d3-0466-4e62-9106-041f5a7373e3/assets\n"
     ]
    },
    {
     "name": "stderr",
     "output_type": "stream",
     "text": [
      "INFO:tensorflow:Assets written to: ram://fe52e6d3-0466-4e62-9106-041f5a7373e3/assets\n"
     ]
    },
    {
     "name": "stdout",
     "output_type": "stream",
     "text": [
      "219/219 [==============================] - 0s 614us/step\n"
     ]
    },
    {
     "name": "stderr",
     "output_type": "stream",
     "text": [
      "WARNING:absl:Found untraced functions such as _jit_compiled_convolution_op while saving (showing 1 of 1). These functions will not be directly callable after loading.\n"
     ]
    },
    {
     "name": "stdout",
     "output_type": "stream",
     "text": [
      "INFO:tensorflow:Assets written to: ram://0765c0e5-f69a-4105-a96d-46d34c16cced/assets\n"
     ]
    },
    {
     "name": "stderr",
     "output_type": "stream",
     "text": [
      "INFO:tensorflow:Assets written to: ram://0765c0e5-f69a-4105-a96d-46d34c16cced/assets\n"
     ]
    },
    {
     "name": "stdout",
     "output_type": "stream",
     "text": [
      "219/219 [==============================] - 0s 676us/step\n"
     ]
    },
    {
     "name": "stderr",
     "output_type": "stream",
     "text": [
      "WARNING:absl:Found untraced functions such as _jit_compiled_convolution_op while saving (showing 1 of 1). These functions will not be directly callable after loading.\n"
     ]
    },
    {
     "name": "stdout",
     "output_type": "stream",
     "text": [
      "INFO:tensorflow:Assets written to: ram://4a0cfe48-a25e-4f20-ae54-e9ade5a99e1a/assets\n"
     ]
    },
    {
     "name": "stderr",
     "output_type": "stream",
     "text": [
      "INFO:tensorflow:Assets written to: ram://4a0cfe48-a25e-4f20-ae54-e9ade5a99e1a/assets\n"
     ]
    },
    {
     "name": "stdout",
     "output_type": "stream",
     "text": [
      "219/219 [==============================] - 0s 649us/step\n"
     ]
    },
    {
     "name": "stderr",
     "output_type": "stream",
     "text": [
      "WARNING:absl:Found untraced functions such as _jit_compiled_convolution_op while saving (showing 1 of 1). These functions will not be directly callable after loading.\n"
     ]
    },
    {
     "name": "stdout",
     "output_type": "stream",
     "text": [
      "INFO:tensorflow:Assets written to: ram://4635b01e-639d-474f-ae37-20b4b318f442/assets\n"
     ]
    },
    {
     "name": "stderr",
     "output_type": "stream",
     "text": [
      "INFO:tensorflow:Assets written to: ram://4635b01e-639d-474f-ae37-20b4b318f442/assets\n"
     ]
    },
    {
     "name": "stdout",
     "output_type": "stream",
     "text": [
      "220/220 [==============================] - 0s 575us/step\n"
     ]
    },
    {
     "name": "stderr",
     "output_type": "stream",
     "text": [
      "WARNING:absl:Found untraced functions such as _jit_compiled_convolution_op while saving (showing 1 of 1). These functions will not be directly callable after loading.\n"
     ]
    },
    {
     "name": "stdout",
     "output_type": "stream",
     "text": [
      "INFO:tensorflow:Assets written to: ram://f34df512-f33c-4589-a8fc-df1d31d8731e/assets\n"
     ]
    },
    {
     "name": "stderr",
     "output_type": "stream",
     "text": [
      "INFO:tensorflow:Assets written to: ram://f34df512-f33c-4589-a8fc-df1d31d8731e/assets\n"
     ]
    },
    {
     "name": "stdout",
     "output_type": "stream",
     "text": [
      "220/220 [==============================] - 0s 592us/step\n"
     ]
    },
    {
     "name": "stderr",
     "output_type": "stream",
     "text": [
      "WARNING:absl:Found untraced functions such as _jit_compiled_convolution_op while saving (showing 1 of 1). These functions will not be directly callable after loading.\n"
     ]
    },
    {
     "name": "stdout",
     "output_type": "stream",
     "text": [
      "INFO:tensorflow:Assets written to: ram://c0b1797e-bfbd-482e-bd4a-bf07913875b2/assets\n"
     ]
    },
    {
     "name": "stderr",
     "output_type": "stream",
     "text": [
      "INFO:tensorflow:Assets written to: ram://c0b1797e-bfbd-482e-bd4a-bf07913875b2/assets\n"
     ]
    },
    {
     "name": "stdout",
     "output_type": "stream",
     "text": [
      "220/220 [==============================] - 0s 571us/step\n"
     ]
    },
    {
     "name": "stderr",
     "output_type": "stream",
     "text": [
      "WARNING:absl:Found untraced functions such as _jit_compiled_convolution_op while saving (showing 1 of 1). These functions will not be directly callable after loading.\n"
     ]
    },
    {
     "name": "stdout",
     "output_type": "stream",
     "text": [
      "INFO:tensorflow:Assets written to: ram://e9898b20-bfc5-467f-ba6c-98136dfa1b99/assets\n"
     ]
    },
    {
     "name": "stderr",
     "output_type": "stream",
     "text": [
      "INFO:tensorflow:Assets written to: ram://e9898b20-bfc5-467f-ba6c-98136dfa1b99/assets\n"
     ]
    },
    {
     "name": "stdout",
     "output_type": "stream",
     "text": [
      "220/220 [==============================] - 0s 602us/step\n"
     ]
    },
    {
     "name": "stderr",
     "output_type": "stream",
     "text": [
      "WARNING:absl:Found untraced functions such as _jit_compiled_convolution_op while saving (showing 1 of 1). These functions will not be directly callable after loading.\n"
     ]
    },
    {
     "name": "stdout",
     "output_type": "stream",
     "text": [
      "INFO:tensorflow:Assets written to: ram://63fa4d72-177e-451b-9f5a-34aab1f3d088/assets\n"
     ]
    },
    {
     "name": "stderr",
     "output_type": "stream",
     "text": [
      "INFO:tensorflow:Assets written to: ram://63fa4d72-177e-451b-9f5a-34aab1f3d088/assets\n"
     ]
    },
    {
     "name": "stdout",
     "output_type": "stream",
     "text": [
      "220/220 [==============================] - 0s 595us/step\n"
     ]
    },
    {
     "name": "stderr",
     "output_type": "stream",
     "text": [
      "WARNING:absl:Found untraced functions such as _jit_compiled_convolution_op while saving (showing 1 of 1). These functions will not be directly callable after loading.\n"
     ]
    },
    {
     "name": "stdout",
     "output_type": "stream",
     "text": [
      "INFO:tensorflow:Assets written to: ram://7e661371-bc9e-4666-b95e-eb49d308a2a3/assets\n"
     ]
    },
    {
     "name": "stderr",
     "output_type": "stream",
     "text": [
      "INFO:tensorflow:Assets written to: ram://7e661371-bc9e-4666-b95e-eb49d308a2a3/assets\n"
     ]
    },
    {
     "name": "stdout",
     "output_type": "stream",
     "text": [
      "219/219 [==============================] - 0s 641us/step\n"
     ]
    },
    {
     "name": "stderr",
     "output_type": "stream",
     "text": [
      "WARNING:absl:Found untraced functions such as _jit_compiled_convolution_op while saving (showing 1 of 1). These functions will not be directly callable after loading.\n"
     ]
    },
    {
     "name": "stdout",
     "output_type": "stream",
     "text": [
      "INFO:tensorflow:Assets written to: ram://b394151f-65f4-4216-a66e-f3098dbeaf8b/assets\n"
     ]
    },
    {
     "name": "stderr",
     "output_type": "stream",
     "text": [
      "INFO:tensorflow:Assets written to: ram://b394151f-65f4-4216-a66e-f3098dbeaf8b/assets\n"
     ]
    },
    {
     "name": "stdout",
     "output_type": "stream",
     "text": [
      "219/219 [==============================] - 0s 620us/step\n"
     ]
    },
    {
     "name": "stderr",
     "output_type": "stream",
     "text": [
      "WARNING:absl:Found untraced functions such as _jit_compiled_convolution_op while saving (showing 1 of 1). These functions will not be directly callable after loading.\n"
     ]
    },
    {
     "name": "stdout",
     "output_type": "stream",
     "text": [
      "INFO:tensorflow:Assets written to: ram://5fbccbb9-0f17-48c3-b246-10ca75a42f3e/assets\n"
     ]
    },
    {
     "name": "stderr",
     "output_type": "stream",
     "text": [
      "INFO:tensorflow:Assets written to: ram://5fbccbb9-0f17-48c3-b246-10ca75a42f3e/assets\n"
     ]
    },
    {
     "name": "stdout",
     "output_type": "stream",
     "text": [
      "219/219 [==============================] - 0s 649us/step\n"
     ]
    },
    {
     "name": "stderr",
     "output_type": "stream",
     "text": [
      "WARNING:absl:Found untraced functions such as _jit_compiled_convolution_op while saving (showing 1 of 1). These functions will not be directly callable after loading.\n"
     ]
    },
    {
     "name": "stdout",
     "output_type": "stream",
     "text": [
      "INFO:tensorflow:Assets written to: ram://50cdd6cc-30df-421a-b48b-f9a7499ef788/assets\n"
     ]
    },
    {
     "name": "stderr",
     "output_type": "stream",
     "text": [
      "INFO:tensorflow:Assets written to: ram://50cdd6cc-30df-421a-b48b-f9a7499ef788/assets\n"
     ]
    },
    {
     "name": "stdout",
     "output_type": "stream",
     "text": [
      "219/219 [==============================] - 0s 642us/step\n"
     ]
    },
    {
     "name": "stderr",
     "output_type": "stream",
     "text": [
      "WARNING:absl:Found untraced functions such as _jit_compiled_convolution_op while saving (showing 1 of 1). These functions will not be directly callable after loading.\n"
     ]
    },
    {
     "name": "stdout",
     "output_type": "stream",
     "text": [
      "INFO:tensorflow:Assets written to: ram://8a5d08a6-7b6f-49fb-b933-7164b54251f4/assets\n"
     ]
    },
    {
     "name": "stderr",
     "output_type": "stream",
     "text": [
      "INFO:tensorflow:Assets written to: ram://8a5d08a6-7b6f-49fb-b933-7164b54251f4/assets\n"
     ]
    },
    {
     "name": "stdout",
     "output_type": "stream",
     "text": [
      "219/219 [==============================] - 0s 669us/step\n"
     ]
    },
    {
     "name": "stderr",
     "output_type": "stream",
     "text": [
      "WARNING:absl:Found untraced functions such as _jit_compiled_convolution_op while saving (showing 1 of 1). These functions will not be directly callable after loading.\n"
     ]
    },
    {
     "name": "stdout",
     "output_type": "stream",
     "text": [
      "INFO:tensorflow:Assets written to: ram://a9d16bc1-ffc0-4a95-8d3f-0687307b50d8/assets\n"
     ]
    },
    {
     "name": "stderr",
     "output_type": "stream",
     "text": [
      "INFO:tensorflow:Assets written to: ram://a9d16bc1-ffc0-4a95-8d3f-0687307b50d8/assets\n"
     ]
    },
    {
     "name": "stdout",
     "output_type": "stream",
     "text": [
      "219/219 [==============================] - 0s 676us/step\n"
     ]
    },
    {
     "name": "stderr",
     "output_type": "stream",
     "text": [
      "WARNING:absl:Found untraced functions such as _jit_compiled_convolution_op while saving (showing 1 of 1). These functions will not be directly callable after loading.\n"
     ]
    },
    {
     "name": "stdout",
     "output_type": "stream",
     "text": [
      "INFO:tensorflow:Assets written to: ram://a69b349d-ccf0-4258-9812-990a10e1eeb7/assets\n"
     ]
    },
    {
     "name": "stderr",
     "output_type": "stream",
     "text": [
      "INFO:tensorflow:Assets written to: ram://a69b349d-ccf0-4258-9812-990a10e1eeb7/assets\n"
     ]
    },
    {
     "name": "stdout",
     "output_type": "stream",
     "text": [
      "220/220 [==============================] - 0s 641us/step\n"
     ]
    },
    {
     "name": "stderr",
     "output_type": "stream",
     "text": [
      "WARNING:absl:Found untraced functions such as _jit_compiled_convolution_op while saving (showing 1 of 1). These functions will not be directly callable after loading.\n"
     ]
    },
    {
     "name": "stdout",
     "output_type": "stream",
     "text": [
      "INFO:tensorflow:Assets written to: ram://4a86aede-486c-4b3a-928d-087ad5d99b0e/assets\n"
     ]
    },
    {
     "name": "stderr",
     "output_type": "stream",
     "text": [
      "INFO:tensorflow:Assets written to: ram://4a86aede-486c-4b3a-928d-087ad5d99b0e/assets\n"
     ]
    },
    {
     "name": "stdout",
     "output_type": "stream",
     "text": [
      "220/220 [==============================] - 0s 607us/step\n"
     ]
    },
    {
     "name": "stderr",
     "output_type": "stream",
     "text": [
      "WARNING:absl:Found untraced functions such as _jit_compiled_convolution_op while saving (showing 1 of 1). These functions will not be directly callable after loading.\n"
     ]
    },
    {
     "name": "stdout",
     "output_type": "stream",
     "text": [
      "INFO:tensorflow:Assets written to: ram://80e46cf5-925d-4503-a64f-6f39aa558ffb/assets\n"
     ]
    },
    {
     "name": "stderr",
     "output_type": "stream",
     "text": [
      "INFO:tensorflow:Assets written to: ram://80e46cf5-925d-4503-a64f-6f39aa558ffb/assets\n"
     ]
    },
    {
     "name": "stdout",
     "output_type": "stream",
     "text": [
      "220/220 [==============================] - 0s 567us/step\n"
     ]
    },
    {
     "name": "stderr",
     "output_type": "stream",
     "text": [
      "WARNING:absl:Found untraced functions such as _jit_compiled_convolution_op while saving (showing 1 of 1). These functions will not be directly callable after loading.\n"
     ]
    },
    {
     "name": "stdout",
     "output_type": "stream",
     "text": [
      "INFO:tensorflow:Assets written to: ram://daa71db9-6c8a-42a8-9d95-a9650a4893fd/assets\n"
     ]
    },
    {
     "name": "stderr",
     "output_type": "stream",
     "text": [
      "INFO:tensorflow:Assets written to: ram://daa71db9-6c8a-42a8-9d95-a9650a4893fd/assets\n"
     ]
    },
    {
     "name": "stdout",
     "output_type": "stream",
     "text": [
      "220/220 [==============================] - 0s 569us/step\n"
     ]
    },
    {
     "name": "stderr",
     "output_type": "stream",
     "text": [
      "WARNING:absl:Found untraced functions such as _jit_compiled_convolution_op while saving (showing 1 of 1). These functions will not be directly callable after loading.\n"
     ]
    },
    {
     "name": "stdout",
     "output_type": "stream",
     "text": [
      "INFO:tensorflow:Assets written to: ram://c44781b0-c1e6-4812-b535-10ad906d3ec3/assets\n"
     ]
    },
    {
     "name": "stderr",
     "output_type": "stream",
     "text": [
      "INFO:tensorflow:Assets written to: ram://c44781b0-c1e6-4812-b535-10ad906d3ec3/assets\n"
     ]
    },
    {
     "name": "stdout",
     "output_type": "stream",
     "text": [
      "220/220 [==============================] - 0s 594us/step\n"
     ]
    },
    {
     "name": "stderr",
     "output_type": "stream",
     "text": [
      "WARNING:absl:Found untraced functions such as _jit_compiled_convolution_op while saving (showing 1 of 1). These functions will not be directly callable after loading.\n"
     ]
    },
    {
     "name": "stdout",
     "output_type": "stream",
     "text": [
      "INFO:tensorflow:Assets written to: ram://c1e98ee6-d771-4c8e-a0b3-35f5a56a9f67/assets\n"
     ]
    },
    {
     "name": "stderr",
     "output_type": "stream",
     "text": [
      "INFO:tensorflow:Assets written to: ram://c1e98ee6-d771-4c8e-a0b3-35f5a56a9f67/assets\n"
     ]
    },
    {
     "name": "stdout",
     "output_type": "stream",
     "text": [
      "219/219 [==============================] - 0s 666us/step\n"
     ]
    },
    {
     "name": "stderr",
     "output_type": "stream",
     "text": [
      "WARNING:absl:Found untraced functions such as _jit_compiled_convolution_op while saving (showing 1 of 1). These functions will not be directly callable after loading.\n"
     ]
    },
    {
     "name": "stdout",
     "output_type": "stream",
     "text": [
      "INFO:tensorflow:Assets written to: ram://7b9bd3f1-ee29-4212-9910-7076e74828dc/assets\n"
     ]
    },
    {
     "name": "stderr",
     "output_type": "stream",
     "text": [
      "INFO:tensorflow:Assets written to: ram://7b9bd3f1-ee29-4212-9910-7076e74828dc/assets\n"
     ]
    },
    {
     "name": "stdout",
     "output_type": "stream",
     "text": [
      "219/219 [==============================] - 0s 637us/step\n"
     ]
    },
    {
     "name": "stderr",
     "output_type": "stream",
     "text": [
      "WARNING:absl:Found untraced functions such as _jit_compiled_convolution_op while saving (showing 1 of 1). These functions will not be directly callable after loading.\n"
     ]
    },
    {
     "name": "stdout",
     "output_type": "stream",
     "text": [
      "INFO:tensorflow:Assets written to: ram://b05a441b-9511-4bab-90ac-0bb6803af090/assets\n"
     ]
    },
    {
     "name": "stderr",
     "output_type": "stream",
     "text": [
      "INFO:tensorflow:Assets written to: ram://b05a441b-9511-4bab-90ac-0bb6803af090/assets\n"
     ]
    },
    {
     "name": "stdout",
     "output_type": "stream",
     "text": [
      "219/219 [==============================] - 0s 624us/step\n"
     ]
    },
    {
     "name": "stderr",
     "output_type": "stream",
     "text": [
      "WARNING:absl:Found untraced functions such as _jit_compiled_convolution_op while saving (showing 1 of 1). These functions will not be directly callable after loading.\n"
     ]
    },
    {
     "name": "stdout",
     "output_type": "stream",
     "text": [
      "INFO:tensorflow:Assets written to: ram://bb01786f-da61-4b30-b00c-8b762134a78f/assets\n"
     ]
    },
    {
     "name": "stderr",
     "output_type": "stream",
     "text": [
      "INFO:tensorflow:Assets written to: ram://bb01786f-da61-4b30-b00c-8b762134a78f/assets\n"
     ]
    },
    {
     "name": "stdout",
     "output_type": "stream",
     "text": [
      "219/219 [==============================] - 0s 647us/step\n"
     ]
    },
    {
     "name": "stderr",
     "output_type": "stream",
     "text": [
      "WARNING:absl:Found untraced functions such as _jit_compiled_convolution_op while saving (showing 1 of 1). These functions will not be directly callable after loading.\n"
     ]
    },
    {
     "name": "stdout",
     "output_type": "stream",
     "text": [
      "INFO:tensorflow:Assets written to: ram://26eda467-464d-4acb-ace6-4ef0cf3e464b/assets\n"
     ]
    },
    {
     "name": "stderr",
     "output_type": "stream",
     "text": [
      "INFO:tensorflow:Assets written to: ram://26eda467-464d-4acb-ace6-4ef0cf3e464b/assets\n"
     ]
    },
    {
     "name": "stdout",
     "output_type": "stream",
     "text": [
      "219/219 [==============================] - 0s 687us/step\n"
     ]
    },
    {
     "name": "stderr",
     "output_type": "stream",
     "text": [
      "WARNING:absl:Found untraced functions such as _jit_compiled_convolution_op while saving (showing 1 of 1). These functions will not be directly callable after loading.\n"
     ]
    },
    {
     "name": "stdout",
     "output_type": "stream",
     "text": [
      "INFO:tensorflow:Assets written to: ram://6d280956-0170-4e4a-92d0-b9bacc6f5038/assets\n"
     ]
    },
    {
     "name": "stderr",
     "output_type": "stream",
     "text": [
      "INFO:tensorflow:Assets written to: ram://6d280956-0170-4e4a-92d0-b9bacc6f5038/assets\n"
     ]
    },
    {
     "name": "stdout",
     "output_type": "stream",
     "text": [
      "219/219 [==============================] - 0s 684us/step\n"
     ]
    },
    {
     "name": "stderr",
     "output_type": "stream",
     "text": [
      "WARNING:absl:Found untraced functions such as _jit_compiled_convolution_op while saving (showing 1 of 1). These functions will not be directly callable after loading.\n"
     ]
    },
    {
     "name": "stdout",
     "output_type": "stream",
     "text": [
      "INFO:tensorflow:Assets written to: ram://ee97755a-2ae6-40e3-8bc8-a2111ae4461a/assets\n"
     ]
    },
    {
     "name": "stderr",
     "output_type": "stream",
     "text": [
      "INFO:tensorflow:Assets written to: ram://ee97755a-2ae6-40e3-8bc8-a2111ae4461a/assets\n"
     ]
    },
    {
     "name": "stdout",
     "output_type": "stream",
     "text": [
      "220/220 [==============================] - 0s 705us/step\n"
     ]
    },
    {
     "name": "stderr",
     "output_type": "stream",
     "text": [
      "WARNING:absl:Found untraced functions such as _jit_compiled_convolution_op while saving (showing 1 of 1). These functions will not be directly callable after loading.\n"
     ]
    },
    {
     "name": "stdout",
     "output_type": "stream",
     "text": [
      "INFO:tensorflow:Assets written to: ram://096d6a7a-d5e3-4ace-a367-f71de7f73d83/assets\n"
     ]
    },
    {
     "name": "stderr",
     "output_type": "stream",
     "text": [
      "INFO:tensorflow:Assets written to: ram://096d6a7a-d5e3-4ace-a367-f71de7f73d83/assets\n"
     ]
    },
    {
     "name": "stdout",
     "output_type": "stream",
     "text": [
      "220/220 [==============================] - 0s 651us/step\n"
     ]
    },
    {
     "name": "stderr",
     "output_type": "stream",
     "text": [
      "WARNING:absl:Found untraced functions such as _jit_compiled_convolution_op while saving (showing 1 of 1). These functions will not be directly callable after loading.\n"
     ]
    },
    {
     "name": "stdout",
     "output_type": "stream",
     "text": [
      "INFO:tensorflow:Assets written to: ram://df8bd440-62dc-4c15-9a74-0edadbe1bbf9/assets\n"
     ]
    },
    {
     "name": "stderr",
     "output_type": "stream",
     "text": [
      "INFO:tensorflow:Assets written to: ram://df8bd440-62dc-4c15-9a74-0edadbe1bbf9/assets\n"
     ]
    },
    {
     "name": "stdout",
     "output_type": "stream",
     "text": [
      "220/220 [==============================] - 0s 611us/step\n"
     ]
    },
    {
     "name": "stderr",
     "output_type": "stream",
     "text": [
      "WARNING:absl:Found untraced functions such as _jit_compiled_convolution_op while saving (showing 1 of 1). These functions will not be directly callable after loading.\n"
     ]
    },
    {
     "name": "stdout",
     "output_type": "stream",
     "text": [
      "INFO:tensorflow:Assets written to: ram://a7b52626-ad3e-4dc7-a825-4295410b8ff9/assets\n"
     ]
    },
    {
     "name": "stderr",
     "output_type": "stream",
     "text": [
      "INFO:tensorflow:Assets written to: ram://a7b52626-ad3e-4dc7-a825-4295410b8ff9/assets\n"
     ]
    },
    {
     "name": "stdout",
     "output_type": "stream",
     "text": [
      "220/220 [==============================] - 0s 574us/step\n"
     ]
    },
    {
     "name": "stderr",
     "output_type": "stream",
     "text": [
      "WARNING:absl:Found untraced functions such as _jit_compiled_convolution_op while saving (showing 1 of 1). These functions will not be directly callable after loading.\n"
     ]
    },
    {
     "name": "stdout",
     "output_type": "stream",
     "text": [
      "INFO:tensorflow:Assets written to: ram://55c87095-3ff4-4525-83e6-baab22d87fb2/assets\n"
     ]
    },
    {
     "name": "stderr",
     "output_type": "stream",
     "text": [
      "INFO:tensorflow:Assets written to: ram://55c87095-3ff4-4525-83e6-baab22d87fb2/assets\n"
     ]
    },
    {
     "name": "stdout",
     "output_type": "stream",
     "text": [
      "220/220 [==============================] - 0s 622us/step\n"
     ]
    },
    {
     "name": "stderr",
     "output_type": "stream",
     "text": [
      "WARNING:absl:Found untraced functions such as _jit_compiled_convolution_op while saving (showing 1 of 1). These functions will not be directly callable after loading.\n"
     ]
    },
    {
     "name": "stdout",
     "output_type": "stream",
     "text": [
      "INFO:tensorflow:Assets written to: ram://91e3c814-b007-4679-aae2-bb4f7286cbdf/assets\n"
     ]
    },
    {
     "name": "stderr",
     "output_type": "stream",
     "text": [
      "INFO:tensorflow:Assets written to: ram://91e3c814-b007-4679-aae2-bb4f7286cbdf/assets\n"
     ]
    },
    {
     "name": "stdout",
     "output_type": "stream",
     "text": [
      "219/219 [==============================] - 0s 687us/step\n"
     ]
    },
    {
     "name": "stderr",
     "output_type": "stream",
     "text": [
      "WARNING:absl:Found untraced functions such as _jit_compiled_convolution_op while saving (showing 1 of 1). These functions will not be directly callable after loading.\n"
     ]
    },
    {
     "name": "stdout",
     "output_type": "stream",
     "text": [
      "INFO:tensorflow:Assets written to: ram://352f2d18-fc54-4d39-8fde-ddc6b0ffe2cb/assets\n"
     ]
    },
    {
     "name": "stderr",
     "output_type": "stream",
     "text": [
      "INFO:tensorflow:Assets written to: ram://352f2d18-fc54-4d39-8fde-ddc6b0ffe2cb/assets\n"
     ]
    },
    {
     "name": "stdout",
     "output_type": "stream",
     "text": [
      "219/219 [==============================] - 0s 672us/step\n"
     ]
    },
    {
     "name": "stderr",
     "output_type": "stream",
     "text": [
      "WARNING:absl:Found untraced functions such as _jit_compiled_convolution_op while saving (showing 1 of 1). These functions will not be directly callable after loading.\n"
     ]
    },
    {
     "name": "stdout",
     "output_type": "stream",
     "text": [
      "INFO:tensorflow:Assets written to: ram://98f699fb-3e02-4922-a376-5681549c6f75/assets\n"
     ]
    },
    {
     "name": "stderr",
     "output_type": "stream",
     "text": [
      "INFO:tensorflow:Assets written to: ram://98f699fb-3e02-4922-a376-5681549c6f75/assets\n"
     ]
    },
    {
     "name": "stdout",
     "output_type": "stream",
     "text": [
      "219/219 [==============================] - 0s 672us/step\n"
     ]
    },
    {
     "name": "stderr",
     "output_type": "stream",
     "text": [
      "WARNING:absl:Found untraced functions such as _jit_compiled_convolution_op while saving (showing 1 of 1). These functions will not be directly callable after loading.\n"
     ]
    },
    {
     "name": "stdout",
     "output_type": "stream",
     "text": [
      "INFO:tensorflow:Assets written to: ram://9b75dacf-42be-459e-8bd4-870878c9a38a/assets\n"
     ]
    },
    {
     "name": "stderr",
     "output_type": "stream",
     "text": [
      "INFO:tensorflow:Assets written to: ram://9b75dacf-42be-459e-8bd4-870878c9a38a/assets\n"
     ]
    },
    {
     "name": "stdout",
     "output_type": "stream",
     "text": [
      "219/219 [==============================] - 0s 655us/step\n"
     ]
    },
    {
     "name": "stderr",
     "output_type": "stream",
     "text": [
      "WARNING:absl:Found untraced functions such as _jit_compiled_convolution_op while saving (showing 1 of 1). These functions will not be directly callable after loading.\n"
     ]
    },
    {
     "name": "stdout",
     "output_type": "stream",
     "text": [
      "INFO:tensorflow:Assets written to: ram://7b27bb35-ca2f-4f83-b469-f9df2b7899f5/assets\n"
     ]
    },
    {
     "name": "stderr",
     "output_type": "stream",
     "text": [
      "INFO:tensorflow:Assets written to: ram://7b27bb35-ca2f-4f83-b469-f9df2b7899f5/assets\n"
     ]
    },
    {
     "name": "stdout",
     "output_type": "stream",
     "text": [
      "219/219 [==============================] - 0s 711us/step\n"
     ]
    },
    {
     "name": "stderr",
     "output_type": "stream",
     "text": [
      "WARNING:absl:Found untraced functions such as _jit_compiled_convolution_op while saving (showing 1 of 1). These functions will not be directly callable after loading.\n"
     ]
    },
    {
     "name": "stdout",
     "output_type": "stream",
     "text": [
      "INFO:tensorflow:Assets written to: ram://ad552dd6-b1e0-4f33-9033-66bb4748772a/assets\n"
     ]
    },
    {
     "name": "stderr",
     "output_type": "stream",
     "text": [
      "INFO:tensorflow:Assets written to: ram://ad552dd6-b1e0-4f33-9033-66bb4748772a/assets\n"
     ]
    },
    {
     "name": "stdout",
     "output_type": "stream",
     "text": [
      "219/219 [==============================] - 0s 720us/step\n"
     ]
    },
    {
     "name": "stderr",
     "output_type": "stream",
     "text": [
      "WARNING:absl:Found untraced functions such as _jit_compiled_convolution_op while saving (showing 1 of 1). These functions will not be directly callable after loading.\n"
     ]
    },
    {
     "name": "stdout",
     "output_type": "stream",
     "text": [
      "INFO:tensorflow:Assets written to: ram://db1aa38c-6ada-4300-9cc7-3f4bd5f3b30a/assets\n"
     ]
    },
    {
     "name": "stderr",
     "output_type": "stream",
     "text": [
      "INFO:tensorflow:Assets written to: ram://db1aa38c-6ada-4300-9cc7-3f4bd5f3b30a/assets\n"
     ]
    },
    {
     "name": "stdout",
     "output_type": "stream",
     "text": [
      "220/220 [==============================] - 0s 636us/step\n"
     ]
    },
    {
     "name": "stderr",
     "output_type": "stream",
     "text": [
      "WARNING:absl:Found untraced functions such as _jit_compiled_convolution_op while saving (showing 1 of 1). These functions will not be directly callable after loading.\n"
     ]
    },
    {
     "name": "stdout",
     "output_type": "stream",
     "text": [
      "INFO:tensorflow:Assets written to: ram://18353d46-dd98-468a-a85c-3a6d889ca4e9/assets\n"
     ]
    },
    {
     "name": "stderr",
     "output_type": "stream",
     "text": [
      "INFO:tensorflow:Assets written to: ram://18353d46-dd98-468a-a85c-3a6d889ca4e9/assets\n"
     ]
    },
    {
     "name": "stdout",
     "output_type": "stream",
     "text": [
      "220/220 [==============================] - 0s 669us/step\n"
     ]
    },
    {
     "name": "stderr",
     "output_type": "stream",
     "text": [
      "WARNING:absl:Found untraced functions such as _jit_compiled_convolution_op while saving (showing 1 of 1). These functions will not be directly callable after loading.\n"
     ]
    },
    {
     "name": "stdout",
     "output_type": "stream",
     "text": [
      "INFO:tensorflow:Assets written to: ram://eb6e290a-a628-4c7f-b134-bbda817369da/assets\n"
     ]
    },
    {
     "name": "stderr",
     "output_type": "stream",
     "text": [
      "INFO:tensorflow:Assets written to: ram://eb6e290a-a628-4c7f-b134-bbda817369da/assets\n"
     ]
    },
    {
     "name": "stdout",
     "output_type": "stream",
     "text": [
      "220/220 [==============================] - 0s 589us/step\n"
     ]
    },
    {
     "name": "stderr",
     "output_type": "stream",
     "text": [
      "WARNING:absl:Found untraced functions such as _jit_compiled_convolution_op while saving (showing 1 of 1). These functions will not be directly callable after loading.\n"
     ]
    },
    {
     "name": "stdout",
     "output_type": "stream",
     "text": [
      "INFO:tensorflow:Assets written to: ram://e33a22aa-aaf8-42e1-9459-a58f501b8331/assets\n"
     ]
    },
    {
     "name": "stderr",
     "output_type": "stream",
     "text": [
      "INFO:tensorflow:Assets written to: ram://e33a22aa-aaf8-42e1-9459-a58f501b8331/assets\n"
     ]
    },
    {
     "name": "stdout",
     "output_type": "stream",
     "text": [
      "220/220 [==============================] - 0s 568us/step\n"
     ]
    },
    {
     "name": "stderr",
     "output_type": "stream",
     "text": [
      "WARNING:absl:Found untraced functions such as _jit_compiled_convolution_op while saving (showing 1 of 1). These functions will not be directly callable after loading.\n"
     ]
    },
    {
     "name": "stdout",
     "output_type": "stream",
     "text": [
      "INFO:tensorflow:Assets written to: ram://0f4398c1-dffe-4fb9-8452-4389f5828955/assets\n"
     ]
    },
    {
     "name": "stderr",
     "output_type": "stream",
     "text": [
      "INFO:tensorflow:Assets written to: ram://0f4398c1-dffe-4fb9-8452-4389f5828955/assets\n"
     ]
    },
    {
     "name": "stdout",
     "output_type": "stream",
     "text": [
      "220/220 [==============================] - 0s 602us/step\n"
     ]
    },
    {
     "name": "stderr",
     "output_type": "stream",
     "text": [
      "WARNING:absl:Found untraced functions such as _jit_compiled_convolution_op while saving (showing 1 of 1). These functions will not be directly callable after loading.\n"
     ]
    },
    {
     "name": "stdout",
     "output_type": "stream",
     "text": [
      "INFO:tensorflow:Assets written to: ram://74c863b3-2979-46f6-a201-da13a59e1195/assets\n"
     ]
    },
    {
     "name": "stderr",
     "output_type": "stream",
     "text": [
      "INFO:tensorflow:Assets written to: ram://74c863b3-2979-46f6-a201-da13a59e1195/assets\n"
     ]
    },
    {
     "name": "stdout",
     "output_type": "stream",
     "text": [
      "219/219 [==============================] - 0s 660us/step\n"
     ]
    },
    {
     "name": "stderr",
     "output_type": "stream",
     "text": [
      "WARNING:absl:Found untraced functions such as _jit_compiled_convolution_op while saving (showing 1 of 1). These functions will not be directly callable after loading.\n"
     ]
    },
    {
     "name": "stdout",
     "output_type": "stream",
     "text": [
      "INFO:tensorflow:Assets written to: ram://6f29b423-6729-4d12-9eb6-81a7657af433/assets\n"
     ]
    },
    {
     "name": "stderr",
     "output_type": "stream",
     "text": [
      "INFO:tensorflow:Assets written to: ram://6f29b423-6729-4d12-9eb6-81a7657af433/assets\n"
     ]
    },
    {
     "name": "stdout",
     "output_type": "stream",
     "text": [
      "219/219 [==============================] - 0s 609us/step\n"
     ]
    },
    {
     "name": "stderr",
     "output_type": "stream",
     "text": [
      "WARNING:absl:Found untraced functions such as _jit_compiled_convolution_op while saving (showing 1 of 1). These functions will not be directly callable after loading.\n"
     ]
    },
    {
     "name": "stdout",
     "output_type": "stream",
     "text": [
      "INFO:tensorflow:Assets written to: ram://8d504121-1a87-4728-aa92-324ad2e714f2/assets\n"
     ]
    },
    {
     "name": "stderr",
     "output_type": "stream",
     "text": [
      "INFO:tensorflow:Assets written to: ram://8d504121-1a87-4728-aa92-324ad2e714f2/assets\n"
     ]
    },
    {
     "name": "stdout",
     "output_type": "stream",
     "text": [
      "219/219 [==============================] - 0s 659us/step\n"
     ]
    },
    {
     "name": "stderr",
     "output_type": "stream",
     "text": [
      "WARNING:absl:Found untraced functions such as _jit_compiled_convolution_op while saving (showing 1 of 1). These functions will not be directly callable after loading.\n"
     ]
    },
    {
     "name": "stdout",
     "output_type": "stream",
     "text": [
      "INFO:tensorflow:Assets written to: ram://fb1b25cb-122b-4fd1-b178-eec597caad86/assets\n"
     ]
    },
    {
     "name": "stderr",
     "output_type": "stream",
     "text": [
      "INFO:tensorflow:Assets written to: ram://fb1b25cb-122b-4fd1-b178-eec597caad86/assets\n"
     ]
    },
    {
     "name": "stdout",
     "output_type": "stream",
     "text": [
      "219/219 [==============================] - 0s 637us/step\n"
     ]
    },
    {
     "name": "stderr",
     "output_type": "stream",
     "text": [
      "WARNING:absl:Found untraced functions such as _jit_compiled_convolution_op while saving (showing 1 of 1). These functions will not be directly callable after loading.\n"
     ]
    },
    {
     "name": "stdout",
     "output_type": "stream",
     "text": [
      "INFO:tensorflow:Assets written to: ram://d5b27dc6-3dad-4f5b-87e2-36bf5e9ba389/assets\n"
     ]
    },
    {
     "name": "stderr",
     "output_type": "stream",
     "text": [
      "INFO:tensorflow:Assets written to: ram://d5b27dc6-3dad-4f5b-87e2-36bf5e9ba389/assets\n"
     ]
    },
    {
     "name": "stdout",
     "output_type": "stream",
     "text": [
      "219/219 [==============================] - 0s 616us/step\n"
     ]
    },
    {
     "name": "stderr",
     "output_type": "stream",
     "text": [
      "WARNING:absl:Found untraced functions such as _jit_compiled_convolution_op while saving (showing 1 of 1). These functions will not be directly callable after loading.\n"
     ]
    },
    {
     "name": "stdout",
     "output_type": "stream",
     "text": [
      "INFO:tensorflow:Assets written to: ram://e2a16080-fb08-4f57-bf96-2a6123f3bcc8/assets\n"
     ]
    },
    {
     "name": "stderr",
     "output_type": "stream",
     "text": [
      "INFO:tensorflow:Assets written to: ram://e2a16080-fb08-4f57-bf96-2a6123f3bcc8/assets\n"
     ]
    },
    {
     "name": "stdout",
     "output_type": "stream",
     "text": [
      "219/219 [==============================] - 0s 633us/step\n"
     ]
    },
    {
     "name": "stderr",
     "output_type": "stream",
     "text": [
      "WARNING:absl:Found untraced functions such as _jit_compiled_convolution_op while saving (showing 1 of 1). These functions will not be directly callable after loading.\n"
     ]
    },
    {
     "name": "stdout",
     "output_type": "stream",
     "text": [
      "INFO:tensorflow:Assets written to: ram://d22d7359-2386-47cc-80cd-6695a9fd69bb/assets\n"
     ]
    },
    {
     "name": "stderr",
     "output_type": "stream",
     "text": [
      "INFO:tensorflow:Assets written to: ram://d22d7359-2386-47cc-80cd-6695a9fd69bb/assets\n"
     ]
    },
    {
     "name": "stdout",
     "output_type": "stream",
     "text": [
      "220/220 [==============================] - 0s 661us/step\n"
     ]
    },
    {
     "name": "stderr",
     "output_type": "stream",
     "text": [
      "WARNING:absl:Found untraced functions such as _jit_compiled_convolution_op while saving (showing 1 of 1). These functions will not be directly callable after loading.\n"
     ]
    },
    {
     "name": "stdout",
     "output_type": "stream",
     "text": [
      "INFO:tensorflow:Assets written to: ram://8c607597-189f-4eb7-81c7-d2ea8f15d61d/assets\n"
     ]
    },
    {
     "name": "stderr",
     "output_type": "stream",
     "text": [
      "INFO:tensorflow:Assets written to: ram://8c607597-189f-4eb7-81c7-d2ea8f15d61d/assets\n"
     ]
    },
    {
     "name": "stdout",
     "output_type": "stream",
     "text": [
      "220/220 [==============================] - 0s 646us/step\n"
     ]
    },
    {
     "name": "stderr",
     "output_type": "stream",
     "text": [
      "WARNING:absl:Found untraced functions such as _jit_compiled_convolution_op while saving (showing 1 of 1). These functions will not be directly callable after loading.\n"
     ]
    },
    {
     "name": "stdout",
     "output_type": "stream",
     "text": [
      "INFO:tensorflow:Assets written to: ram://de645a9c-34d5-4953-8392-abfc429f9cb3/assets\n"
     ]
    },
    {
     "name": "stderr",
     "output_type": "stream",
     "text": [
      "INFO:tensorflow:Assets written to: ram://de645a9c-34d5-4953-8392-abfc429f9cb3/assets\n"
     ]
    },
    {
     "name": "stdout",
     "output_type": "stream",
     "text": [
      "220/220 [==============================] - 0s 564us/step\n"
     ]
    },
    {
     "name": "stderr",
     "output_type": "stream",
     "text": [
      "WARNING:absl:Found untraced functions such as _jit_compiled_convolution_op while saving (showing 1 of 1). These functions will not be directly callable after loading.\n"
     ]
    },
    {
     "name": "stdout",
     "output_type": "stream",
     "text": [
      "INFO:tensorflow:Assets written to: ram://f3a0b260-01c8-4423-b6c1-2b25b167cccd/assets\n"
     ]
    },
    {
     "name": "stderr",
     "output_type": "stream",
     "text": [
      "INFO:tensorflow:Assets written to: ram://f3a0b260-01c8-4423-b6c1-2b25b167cccd/assets\n"
     ]
    },
    {
     "name": "stdout",
     "output_type": "stream",
     "text": [
      "220/220 [==============================] - 0s 592us/step\n"
     ]
    },
    {
     "name": "stderr",
     "output_type": "stream",
     "text": [
      "WARNING:absl:Found untraced functions such as _jit_compiled_convolution_op while saving (showing 1 of 1). These functions will not be directly callable after loading.\n"
     ]
    },
    {
     "name": "stdout",
     "output_type": "stream",
     "text": [
      "INFO:tensorflow:Assets written to: ram://fbf49c63-ca83-4cc4-bc43-8f9c2aa89fa9/assets\n"
     ]
    },
    {
     "name": "stderr",
     "output_type": "stream",
     "text": [
      "INFO:tensorflow:Assets written to: ram://fbf49c63-ca83-4cc4-bc43-8f9c2aa89fa9/assets\n"
     ]
    },
    {
     "name": "stdout",
     "output_type": "stream",
     "text": [
      "220/220 [==============================] - 0s 650us/step\n"
     ]
    },
    {
     "name": "stderr",
     "output_type": "stream",
     "text": [
      "WARNING:absl:Found untraced functions such as _jit_compiled_convolution_op while saving (showing 1 of 1). These functions will not be directly callable after loading.\n"
     ]
    },
    {
     "name": "stdout",
     "output_type": "stream",
     "text": [
      "INFO:tensorflow:Assets written to: ram://f31e46da-4416-4c26-a5a4-78398721d6d1/assets\n"
     ]
    },
    {
     "name": "stderr",
     "output_type": "stream",
     "text": [
      "INFO:tensorflow:Assets written to: ram://f31e46da-4416-4c26-a5a4-78398721d6d1/assets\n"
     ]
    },
    {
     "name": "stdout",
     "output_type": "stream",
     "text": [
      "219/219 [==============================] - 0s 604us/step\n"
     ]
    },
    {
     "name": "stderr",
     "output_type": "stream",
     "text": [
      "WARNING:absl:Found untraced functions such as _jit_compiled_convolution_op while saving (showing 1 of 1). These functions will not be directly callable after loading.\n"
     ]
    },
    {
     "name": "stdout",
     "output_type": "stream",
     "text": [
      "INFO:tensorflow:Assets written to: ram://5082cf46-f1ca-43c5-a28d-7c792b1c574f/assets\n"
     ]
    },
    {
     "name": "stderr",
     "output_type": "stream",
     "text": [
      "INFO:tensorflow:Assets written to: ram://5082cf46-f1ca-43c5-a28d-7c792b1c574f/assets\n"
     ]
    },
    {
     "name": "stdout",
     "output_type": "stream",
     "text": [
      "219/219 [==============================] - 0s 644us/step\n"
     ]
    },
    {
     "name": "stderr",
     "output_type": "stream",
     "text": [
      "WARNING:absl:Found untraced functions such as _jit_compiled_convolution_op while saving (showing 1 of 1). These functions will not be directly callable after loading.\n"
     ]
    },
    {
     "name": "stdout",
     "output_type": "stream",
     "text": [
      "INFO:tensorflow:Assets written to: ram://c0292c16-933e-4a25-a6f4-d283d0a5ecd0/assets\n"
     ]
    },
    {
     "name": "stderr",
     "output_type": "stream",
     "text": [
      "INFO:tensorflow:Assets written to: ram://c0292c16-933e-4a25-a6f4-d283d0a5ecd0/assets\n"
     ]
    },
    {
     "name": "stdout",
     "output_type": "stream",
     "text": [
      "219/219 [==============================] - 0s 629us/step\n"
     ]
    },
    {
     "name": "stderr",
     "output_type": "stream",
     "text": [
      "WARNING:absl:Found untraced functions such as _jit_compiled_convolution_op while saving (showing 1 of 1). These functions will not be directly callable after loading.\n"
     ]
    },
    {
     "name": "stdout",
     "output_type": "stream",
     "text": [
      "INFO:tensorflow:Assets written to: ram://f9493de0-0b5c-440c-9486-9e971df4ce5a/assets\n"
     ]
    },
    {
     "name": "stderr",
     "output_type": "stream",
     "text": [
      "INFO:tensorflow:Assets written to: ram://f9493de0-0b5c-440c-9486-9e971df4ce5a/assets\n"
     ]
    },
    {
     "name": "stdout",
     "output_type": "stream",
     "text": [
      "219/219 [==============================] - 0s 639us/step\n"
     ]
    },
    {
     "name": "stderr",
     "output_type": "stream",
     "text": [
      "WARNING:absl:Found untraced functions such as _jit_compiled_convolution_op while saving (showing 1 of 1). These functions will not be directly callable after loading.\n"
     ]
    },
    {
     "name": "stdout",
     "output_type": "stream",
     "text": [
      "INFO:tensorflow:Assets written to: ram://e0ead00f-2573-41ad-9c94-b7517aa8cc50/assets\n"
     ]
    },
    {
     "name": "stderr",
     "output_type": "stream",
     "text": [
      "INFO:tensorflow:Assets written to: ram://e0ead00f-2573-41ad-9c94-b7517aa8cc50/assets\n"
     ]
    },
    {
     "name": "stdout",
     "output_type": "stream",
     "text": [
      "219/219 [==============================] - 0s 719us/step\n"
     ]
    },
    {
     "name": "stderr",
     "output_type": "stream",
     "text": [
      "WARNING:absl:Found untraced functions such as _jit_compiled_convolution_op while saving (showing 1 of 1). These functions will not be directly callable after loading.\n"
     ]
    },
    {
     "name": "stdout",
     "output_type": "stream",
     "text": [
      "INFO:tensorflow:Assets written to: ram://ac17fbef-a506-46b0-9ef4-8c0792b55f5c/assets\n"
     ]
    },
    {
     "name": "stderr",
     "output_type": "stream",
     "text": [
      "INFO:tensorflow:Assets written to: ram://ac17fbef-a506-46b0-9ef4-8c0792b55f5c/assets\n"
     ]
    },
    {
     "name": "stdout",
     "output_type": "stream",
     "text": [
      "219/219 [==============================] - 0s 650us/step\n"
     ]
    },
    {
     "name": "stderr",
     "output_type": "stream",
     "text": [
      "WARNING:absl:Found untraced functions such as _jit_compiled_convolution_op while saving (showing 1 of 1). These functions will not be directly callable after loading.\n"
     ]
    },
    {
     "name": "stdout",
     "output_type": "stream",
     "text": [
      "INFO:tensorflow:Assets written to: ram://d1eff481-bf31-4dd5-ad48-19b1f4efde66/assets\n"
     ]
    },
    {
     "name": "stderr",
     "output_type": "stream",
     "text": [
      "INFO:tensorflow:Assets written to: ram://d1eff481-bf31-4dd5-ad48-19b1f4efde66/assets\n"
     ]
    },
    {
     "name": "stdout",
     "output_type": "stream",
     "text": [
      "220/220 [==============================] - 0s 632us/step\n"
     ]
    },
    {
     "name": "stderr",
     "output_type": "stream",
     "text": [
      "WARNING:absl:Found untraced functions such as _jit_compiled_convolution_op while saving (showing 1 of 1). These functions will not be directly callable after loading.\n"
     ]
    },
    {
     "name": "stdout",
     "output_type": "stream",
     "text": [
      "INFO:tensorflow:Assets written to: ram://7e4c45cd-827b-4d99-b930-5f0045388bd4/assets\n"
     ]
    },
    {
     "name": "stderr",
     "output_type": "stream",
     "text": [
      "INFO:tensorflow:Assets written to: ram://7e4c45cd-827b-4d99-b930-5f0045388bd4/assets\n"
     ]
    },
    {
     "name": "stdout",
     "output_type": "stream",
     "text": [
      "220/220 [==============================] - 0s 592us/step\n"
     ]
    },
    {
     "name": "stderr",
     "output_type": "stream",
     "text": [
      "WARNING:absl:Found untraced functions such as _jit_compiled_convolution_op while saving (showing 1 of 1). These functions will not be directly callable after loading.\n"
     ]
    },
    {
     "name": "stdout",
     "output_type": "stream",
     "text": [
      "INFO:tensorflow:Assets written to: ram://0beac19d-89fe-49d2-91fb-0da53e02733d/assets\n"
     ]
    },
    {
     "name": "stderr",
     "output_type": "stream",
     "text": [
      "INFO:tensorflow:Assets written to: ram://0beac19d-89fe-49d2-91fb-0da53e02733d/assets\n"
     ]
    },
    {
     "name": "stdout",
     "output_type": "stream",
     "text": [
      "220/220 [==============================] - 0s 630us/step\n"
     ]
    },
    {
     "name": "stderr",
     "output_type": "stream",
     "text": [
      "WARNING:absl:Found untraced functions such as _jit_compiled_convolution_op while saving (showing 1 of 1). These functions will not be directly callable after loading.\n"
     ]
    },
    {
     "name": "stdout",
     "output_type": "stream",
     "text": [
      "INFO:tensorflow:Assets written to: ram://b30f09c6-9725-4e70-b54d-617e734e908f/assets\n"
     ]
    },
    {
     "name": "stderr",
     "output_type": "stream",
     "text": [
      "INFO:tensorflow:Assets written to: ram://b30f09c6-9725-4e70-b54d-617e734e908f/assets\n"
     ]
    },
    {
     "name": "stdout",
     "output_type": "stream",
     "text": [
      "220/220 [==============================] - 0s 663us/step\n"
     ]
    },
    {
     "name": "stderr",
     "output_type": "stream",
     "text": [
      "WARNING:absl:Found untraced functions such as _jit_compiled_convolution_op while saving (showing 1 of 1). These functions will not be directly callable after loading.\n"
     ]
    },
    {
     "name": "stdout",
     "output_type": "stream",
     "text": [
      "INFO:tensorflow:Assets written to: ram://674b9f0f-691e-450c-8507-e0ef50281b46/assets\n"
     ]
    },
    {
     "name": "stderr",
     "output_type": "stream",
     "text": [
      "INFO:tensorflow:Assets written to: ram://674b9f0f-691e-450c-8507-e0ef50281b46/assets\n"
     ]
    },
    {
     "name": "stdout",
     "output_type": "stream",
     "text": [
      "220/220 [==============================] - 0s 588us/step\n"
     ]
    },
    {
     "name": "stderr",
     "output_type": "stream",
     "text": [
      "WARNING:absl:Found untraced functions such as _jit_compiled_convolution_op while saving (showing 1 of 1). These functions will not be directly callable after loading.\n"
     ]
    },
    {
     "name": "stdout",
     "output_type": "stream",
     "text": [
      "INFO:tensorflow:Assets written to: ram://087892ff-6a8f-4b2f-a437-13cfe9788796/assets\n"
     ]
    },
    {
     "name": "stderr",
     "output_type": "stream",
     "text": [
      "INFO:tensorflow:Assets written to: ram://087892ff-6a8f-4b2f-a437-13cfe9788796/assets\n"
     ]
    },
    {
     "name": "stdout",
     "output_type": "stream",
     "text": [
      "219/219 [==============================] - 0s 667us/step\n"
     ]
    },
    {
     "name": "stderr",
     "output_type": "stream",
     "text": [
      "WARNING:absl:Found untraced functions such as _jit_compiled_convolution_op while saving (showing 1 of 1). These functions will not be directly callable after loading.\n"
     ]
    },
    {
     "name": "stdout",
     "output_type": "stream",
     "text": [
      "INFO:tensorflow:Assets written to: ram://3230221d-4262-452c-b989-a58f0d48af52/assets\n"
     ]
    },
    {
     "name": "stderr",
     "output_type": "stream",
     "text": [
      "INFO:tensorflow:Assets written to: ram://3230221d-4262-452c-b989-a58f0d48af52/assets\n"
     ]
    },
    {
     "name": "stdout",
     "output_type": "stream",
     "text": [
      "219/219 [==============================] - 0s 625us/step\n"
     ]
    },
    {
     "name": "stderr",
     "output_type": "stream",
     "text": [
      "WARNING:absl:Found untraced functions such as _jit_compiled_convolution_op while saving (showing 1 of 1). These functions will not be directly callable after loading.\n"
     ]
    },
    {
     "name": "stdout",
     "output_type": "stream",
     "text": [
      "INFO:tensorflow:Assets written to: ram://8aac6d48-9cfc-4dc8-a0f2-2d003c1d6fb0/assets\n"
     ]
    },
    {
     "name": "stderr",
     "output_type": "stream",
     "text": [
      "INFO:tensorflow:Assets written to: ram://8aac6d48-9cfc-4dc8-a0f2-2d003c1d6fb0/assets\n"
     ]
    },
    {
     "name": "stdout",
     "output_type": "stream",
     "text": [
      "219/219 [==============================] - 0s 611us/step\n"
     ]
    },
    {
     "name": "stderr",
     "output_type": "stream",
     "text": [
      "WARNING:absl:Found untraced functions such as _jit_compiled_convolution_op while saving (showing 1 of 1). These functions will not be directly callable after loading.\n"
     ]
    },
    {
     "name": "stdout",
     "output_type": "stream",
     "text": [
      "INFO:tensorflow:Assets written to: ram://3a28b48b-5634-4698-ba70-573be89ef495/assets\n"
     ]
    },
    {
     "name": "stderr",
     "output_type": "stream",
     "text": [
      "INFO:tensorflow:Assets written to: ram://3a28b48b-5634-4698-ba70-573be89ef495/assets\n"
     ]
    },
    {
     "name": "stdout",
     "output_type": "stream",
     "text": [
      "219/219 [==============================] - 0s 621us/step\n"
     ]
    },
    {
     "name": "stderr",
     "output_type": "stream",
     "text": [
      "WARNING:absl:Found untraced functions such as _jit_compiled_convolution_op while saving (showing 1 of 1). These functions will not be directly callable after loading.\n"
     ]
    },
    {
     "name": "stdout",
     "output_type": "stream",
     "text": [
      "INFO:tensorflow:Assets written to: ram://b4b45f12-02d9-4f2f-ba6a-e5a8f3f6ba85/assets\n"
     ]
    },
    {
     "name": "stderr",
     "output_type": "stream",
     "text": [
      "INFO:tensorflow:Assets written to: ram://b4b45f12-02d9-4f2f-ba6a-e5a8f3f6ba85/assets\n"
     ]
    },
    {
     "name": "stdout",
     "output_type": "stream",
     "text": [
      "219/219 [==============================] - 0s 674us/step\n"
     ]
    },
    {
     "name": "stderr",
     "output_type": "stream",
     "text": [
      "WARNING:absl:Found untraced functions such as _jit_compiled_convolution_op while saving (showing 1 of 1). These functions will not be directly callable after loading.\n"
     ]
    },
    {
     "name": "stdout",
     "output_type": "stream",
     "text": [
      "INFO:tensorflow:Assets written to: ram://58939023-3d43-4e6b-9f46-1c57ec1f3395/assets\n"
     ]
    },
    {
     "name": "stderr",
     "output_type": "stream",
     "text": [
      "INFO:tensorflow:Assets written to: ram://58939023-3d43-4e6b-9f46-1c57ec1f3395/assets\n"
     ]
    },
    {
     "name": "stdout",
     "output_type": "stream",
     "text": [
      "219/219 [==============================] - 0s 745us/step\n"
     ]
    },
    {
     "name": "stderr",
     "output_type": "stream",
     "text": [
      "WARNING:absl:Found untraced functions such as _jit_compiled_convolution_op while saving (showing 1 of 1). These functions will not be directly callable after loading.\n"
     ]
    },
    {
     "name": "stdout",
     "output_type": "stream",
     "text": [
      "INFO:tensorflow:Assets written to: ram://29374c65-0380-466a-9cf4-4529095cacec/assets\n"
     ]
    },
    {
     "name": "stderr",
     "output_type": "stream",
     "text": [
      "INFO:tensorflow:Assets written to: ram://29374c65-0380-466a-9cf4-4529095cacec/assets\n"
     ]
    },
    {
     "name": "stdout",
     "output_type": "stream",
     "text": [
      "220/220 [==============================] - 0s 612us/step\n"
     ]
    },
    {
     "name": "stderr",
     "output_type": "stream",
     "text": [
      "WARNING:absl:Found untraced functions such as _jit_compiled_convolution_op while saving (showing 1 of 1). These functions will not be directly callable after loading.\n"
     ]
    },
    {
     "name": "stdout",
     "output_type": "stream",
     "text": [
      "INFO:tensorflow:Assets written to: ram://91dac19a-d6ac-40e3-81df-77a25dacdd38/assets\n"
     ]
    },
    {
     "name": "stderr",
     "output_type": "stream",
     "text": [
      "INFO:tensorflow:Assets written to: ram://91dac19a-d6ac-40e3-81df-77a25dacdd38/assets\n"
     ]
    },
    {
     "name": "stdout",
     "output_type": "stream",
     "text": [
      "220/220 [==============================] - 0s 611us/step\n"
     ]
    },
    {
     "name": "stderr",
     "output_type": "stream",
     "text": [
      "WARNING:absl:Found untraced functions such as _jit_compiled_convolution_op while saving (showing 1 of 1). These functions will not be directly callable after loading.\n"
     ]
    },
    {
     "name": "stdout",
     "output_type": "stream",
     "text": [
      "INFO:tensorflow:Assets written to: ram://3457efb5-d5d2-4f3f-87d4-1094d7d64d3e/assets\n"
     ]
    },
    {
     "name": "stderr",
     "output_type": "stream",
     "text": [
      "INFO:tensorflow:Assets written to: ram://3457efb5-d5d2-4f3f-87d4-1094d7d64d3e/assets\n"
     ]
    },
    {
     "name": "stdout",
     "output_type": "stream",
     "text": [
      "220/220 [==============================] - 0s 592us/step\n"
     ]
    },
    {
     "name": "stderr",
     "output_type": "stream",
     "text": [
      "WARNING:absl:Found untraced functions such as _jit_compiled_convolution_op while saving (showing 1 of 1). These functions will not be directly callable after loading.\n"
     ]
    },
    {
     "name": "stdout",
     "output_type": "stream",
     "text": [
      "INFO:tensorflow:Assets written to: ram://aa2410f9-b381-45f5-8915-32004ebc50ed/assets\n"
     ]
    },
    {
     "name": "stderr",
     "output_type": "stream",
     "text": [
      "INFO:tensorflow:Assets written to: ram://aa2410f9-b381-45f5-8915-32004ebc50ed/assets\n"
     ]
    },
    {
     "name": "stdout",
     "output_type": "stream",
     "text": [
      "220/220 [==============================] - 0s 596us/step\n"
     ]
    },
    {
     "name": "stderr",
     "output_type": "stream",
     "text": [
      "WARNING:absl:Found untraced functions such as _jit_compiled_convolution_op while saving (showing 1 of 1). These functions will not be directly callable after loading.\n"
     ]
    },
    {
     "name": "stdout",
     "output_type": "stream",
     "text": [
      "INFO:tensorflow:Assets written to: ram://f57b3826-bfe3-4400-ba2a-979089131204/assets\n"
     ]
    },
    {
     "name": "stderr",
     "output_type": "stream",
     "text": [
      "INFO:tensorflow:Assets written to: ram://f57b3826-bfe3-4400-ba2a-979089131204/assets\n"
     ]
    },
    {
     "name": "stdout",
     "output_type": "stream",
     "text": [
      "220/220 [==============================] - 0s 610us/step\n"
     ]
    },
    {
     "name": "stderr",
     "output_type": "stream",
     "text": [
      "WARNING:absl:Found untraced functions such as _jit_compiled_convolution_op while saving (showing 1 of 1). These functions will not be directly callable after loading.\n"
     ]
    },
    {
     "name": "stdout",
     "output_type": "stream",
     "text": [
      "INFO:tensorflow:Assets written to: ram://d8292476-7f66-4162-884c-33799fbbcf2d/assets\n"
     ]
    },
    {
     "name": "stderr",
     "output_type": "stream",
     "text": [
      "INFO:tensorflow:Assets written to: ram://d8292476-7f66-4162-884c-33799fbbcf2d/assets\n"
     ]
    },
    {
     "name": "stdout",
     "output_type": "stream",
     "text": [
      "219/219 [==============================] - 0s 612us/step\n"
     ]
    },
    {
     "name": "stderr",
     "output_type": "stream",
     "text": [
      "WARNING:absl:Found untraced functions such as _jit_compiled_convolution_op while saving (showing 1 of 1). These functions will not be directly callable after loading.\n"
     ]
    },
    {
     "name": "stdout",
     "output_type": "stream",
     "text": [
      "INFO:tensorflow:Assets written to: ram://1ed2182e-bd84-43f3-b26e-ff3aa29449a9/assets\n"
     ]
    },
    {
     "name": "stderr",
     "output_type": "stream",
     "text": [
      "INFO:tensorflow:Assets written to: ram://1ed2182e-bd84-43f3-b26e-ff3aa29449a9/assets\n"
     ]
    },
    {
     "name": "stdout",
     "output_type": "stream",
     "text": [
      "219/219 [==============================] - 0s 699us/step\n"
     ]
    },
    {
     "name": "stderr",
     "output_type": "stream",
     "text": [
      "WARNING:absl:Found untraced functions such as _jit_compiled_convolution_op while saving (showing 1 of 1). These functions will not be directly callable after loading.\n"
     ]
    },
    {
     "name": "stdout",
     "output_type": "stream",
     "text": [
      "INFO:tensorflow:Assets written to: ram://c9714179-2ac4-4d25-ae00-3ccb5d20e7f3/assets\n"
     ]
    },
    {
     "name": "stderr",
     "output_type": "stream",
     "text": [
      "INFO:tensorflow:Assets written to: ram://c9714179-2ac4-4d25-ae00-3ccb5d20e7f3/assets\n"
     ]
    },
    {
     "name": "stdout",
     "output_type": "stream",
     "text": [
      "219/219 [==============================] - 0s 623us/step\n"
     ]
    },
    {
     "name": "stderr",
     "output_type": "stream",
     "text": [
      "WARNING:absl:Found untraced functions such as _jit_compiled_convolution_op while saving (showing 1 of 1). These functions will not be directly callable after loading.\n"
     ]
    },
    {
     "name": "stdout",
     "output_type": "stream",
     "text": [
      "INFO:tensorflow:Assets written to: ram://f068409c-8499-4140-afe8-dbbbac251e41/assets\n"
     ]
    },
    {
     "name": "stderr",
     "output_type": "stream",
     "text": [
      "INFO:tensorflow:Assets written to: ram://f068409c-8499-4140-afe8-dbbbac251e41/assets\n"
     ]
    },
    {
     "name": "stdout",
     "output_type": "stream",
     "text": [
      "219/219 [==============================] - 0s 604us/step\n"
     ]
    },
    {
     "name": "stderr",
     "output_type": "stream",
     "text": [
      "WARNING:absl:Found untraced functions such as _jit_compiled_convolution_op while saving (showing 1 of 1). These functions will not be directly callable after loading.\n"
     ]
    },
    {
     "name": "stdout",
     "output_type": "stream",
     "text": [
      "INFO:tensorflow:Assets written to: ram://c0422136-d34f-4ccc-b278-817c1a4dc5ac/assets\n"
     ]
    },
    {
     "name": "stderr",
     "output_type": "stream",
     "text": [
      "INFO:tensorflow:Assets written to: ram://c0422136-d34f-4ccc-b278-817c1a4dc5ac/assets\n"
     ]
    },
    {
     "name": "stdout",
     "output_type": "stream",
     "text": [
      "219/219 [==============================] - 0s 649us/step\n"
     ]
    },
    {
     "name": "stderr",
     "output_type": "stream",
     "text": [
      "WARNING:absl:Found untraced functions such as _jit_compiled_convolution_op while saving (showing 1 of 1). These functions will not be directly callable after loading.\n"
     ]
    },
    {
     "name": "stdout",
     "output_type": "stream",
     "text": [
      "INFO:tensorflow:Assets written to: ram://d29210b3-1041-44f3-a7e3-47dbb44c77d9/assets\n"
     ]
    },
    {
     "name": "stderr",
     "output_type": "stream",
     "text": [
      "INFO:tensorflow:Assets written to: ram://d29210b3-1041-44f3-a7e3-47dbb44c77d9/assets\n"
     ]
    },
    {
     "name": "stdout",
     "output_type": "stream",
     "text": [
      "219/219 [==============================] - 0s 665us/step\n"
     ]
    },
    {
     "name": "stderr",
     "output_type": "stream",
     "text": [
      "WARNING:absl:Found untraced functions such as _jit_compiled_convolution_op while saving (showing 1 of 1). These functions will not be directly callable after loading.\n"
     ]
    },
    {
     "name": "stdout",
     "output_type": "stream",
     "text": [
      "INFO:tensorflow:Assets written to: ram://5d0b2633-b33b-4024-800f-740f910215b8/assets\n"
     ]
    },
    {
     "name": "stderr",
     "output_type": "stream",
     "text": [
      "INFO:tensorflow:Assets written to: ram://5d0b2633-b33b-4024-800f-740f910215b8/assets\n"
     ]
    },
    {
     "name": "stdout",
     "output_type": "stream",
     "text": [
      "220/220 [==============================] - 0s 665us/step\n"
     ]
    },
    {
     "name": "stderr",
     "output_type": "stream",
     "text": [
      "WARNING:absl:Found untraced functions such as _jit_compiled_convolution_op while saving (showing 1 of 1). These functions will not be directly callable after loading.\n"
     ]
    },
    {
     "name": "stdout",
     "output_type": "stream",
     "text": [
      "INFO:tensorflow:Assets written to: ram://4f915c9b-5192-4d7a-aa62-843a30c88c67/assets\n"
     ]
    },
    {
     "name": "stderr",
     "output_type": "stream",
     "text": [
      "INFO:tensorflow:Assets written to: ram://4f915c9b-5192-4d7a-aa62-843a30c88c67/assets\n"
     ]
    },
    {
     "name": "stdout",
     "output_type": "stream",
     "text": [
      "220/220 [==============================] - 0s 619us/step\n"
     ]
    },
    {
     "name": "stderr",
     "output_type": "stream",
     "text": [
      "WARNING:absl:Found untraced functions such as _jit_compiled_convolution_op while saving (showing 1 of 1). These functions will not be directly callable after loading.\n"
     ]
    },
    {
     "name": "stdout",
     "output_type": "stream",
     "text": [
      "INFO:tensorflow:Assets written to: ram://63c42608-f17f-417d-9451-e8dc309e0388/assets\n"
     ]
    },
    {
     "name": "stderr",
     "output_type": "stream",
     "text": [
      "INFO:tensorflow:Assets written to: ram://63c42608-f17f-417d-9451-e8dc309e0388/assets\n"
     ]
    },
    {
     "name": "stdout",
     "output_type": "stream",
     "text": [
      "220/220 [==============================] - 0s 557us/step\n"
     ]
    },
    {
     "name": "stderr",
     "output_type": "stream",
     "text": [
      "WARNING:absl:Found untraced functions such as _jit_compiled_convolution_op while saving (showing 1 of 1). These functions will not be directly callable after loading.\n"
     ]
    },
    {
     "name": "stdout",
     "output_type": "stream",
     "text": [
      "INFO:tensorflow:Assets written to: ram://16c33280-ff81-44d7-9486-ff170d1bc832/assets\n"
     ]
    },
    {
     "name": "stderr",
     "output_type": "stream",
     "text": [
      "INFO:tensorflow:Assets written to: ram://16c33280-ff81-44d7-9486-ff170d1bc832/assets\n"
     ]
    },
    {
     "name": "stdout",
     "output_type": "stream",
     "text": [
      "220/220 [==============================] - 0s 608us/step\n"
     ]
    },
    {
     "name": "stderr",
     "output_type": "stream",
     "text": [
      "WARNING:absl:Found untraced functions such as _jit_compiled_convolution_op while saving (showing 1 of 1). These functions will not be directly callable after loading.\n"
     ]
    },
    {
     "name": "stdout",
     "output_type": "stream",
     "text": [
      "INFO:tensorflow:Assets written to: ram://4afd9d17-ef57-4fa9-b31c-0a0b07e80353/assets\n"
     ]
    },
    {
     "name": "stderr",
     "output_type": "stream",
     "text": [
      "INFO:tensorflow:Assets written to: ram://4afd9d17-ef57-4fa9-b31c-0a0b07e80353/assets\n"
     ]
    },
    {
     "name": "stdout",
     "output_type": "stream",
     "text": [
      "220/220 [==============================] - 0s 641us/step\n"
     ]
    },
    {
     "name": "stderr",
     "output_type": "stream",
     "text": [
      "WARNING:absl:Found untraced functions such as _jit_compiled_convolution_op while saving (showing 1 of 1). These functions will not be directly callable after loading.\n"
     ]
    },
    {
     "name": "stdout",
     "output_type": "stream",
     "text": [
      "INFO:tensorflow:Assets written to: ram://5f873eb8-b2e6-4144-bd42-6ea62bae6de8/assets\n"
     ]
    },
    {
     "name": "stderr",
     "output_type": "stream",
     "text": [
      "INFO:tensorflow:Assets written to: ram://5f873eb8-b2e6-4144-bd42-6ea62bae6de8/assets\n"
     ]
    },
    {
     "name": "stdout",
     "output_type": "stream",
     "text": [
      "219/219 [==============================] - 0s 651us/step\n"
     ]
    },
    {
     "name": "stderr",
     "output_type": "stream",
     "text": [
      "WARNING:absl:Found untraced functions such as _jit_compiled_convolution_op while saving (showing 1 of 1). These functions will not be directly callable after loading.\n"
     ]
    },
    {
     "name": "stdout",
     "output_type": "stream",
     "text": [
      "INFO:tensorflow:Assets written to: ram://79c955c4-ae7c-4248-9904-24fac1a5b74f/assets\n"
     ]
    },
    {
     "name": "stderr",
     "output_type": "stream",
     "text": [
      "INFO:tensorflow:Assets written to: ram://79c955c4-ae7c-4248-9904-24fac1a5b74f/assets\n"
     ]
    },
    {
     "name": "stdout",
     "output_type": "stream",
     "text": [
      "219/219 [==============================] - 0s 648us/step\n"
     ]
    },
    {
     "name": "stderr",
     "output_type": "stream",
     "text": [
      "WARNING:absl:Found untraced functions such as _jit_compiled_convolution_op while saving (showing 1 of 1). These functions will not be directly callable after loading.\n"
     ]
    },
    {
     "name": "stdout",
     "output_type": "stream",
     "text": [
      "INFO:tensorflow:Assets written to: ram://2117b24f-6d07-42e9-9714-b34e0cfe0a70/assets\n"
     ]
    },
    {
     "name": "stderr",
     "output_type": "stream",
     "text": [
      "INFO:tensorflow:Assets written to: ram://2117b24f-6d07-42e9-9714-b34e0cfe0a70/assets\n"
     ]
    },
    {
     "name": "stdout",
     "output_type": "stream",
     "text": [
      "219/219 [==============================] - 0s 701us/step\n"
     ]
    },
    {
     "name": "stderr",
     "output_type": "stream",
     "text": [
      "WARNING:absl:Found untraced functions such as _jit_compiled_convolution_op while saving (showing 1 of 1). These functions will not be directly callable after loading.\n"
     ]
    },
    {
     "name": "stdout",
     "output_type": "stream",
     "text": [
      "INFO:tensorflow:Assets written to: ram://84cccc0c-4835-46f9-b3bb-f3e7c76c4776/assets\n"
     ]
    },
    {
     "name": "stderr",
     "output_type": "stream",
     "text": [
      "INFO:tensorflow:Assets written to: ram://84cccc0c-4835-46f9-b3bb-f3e7c76c4776/assets\n"
     ]
    },
    {
     "name": "stdout",
     "output_type": "stream",
     "text": [
      "219/219 [==============================] - 0s 681us/step\n"
     ]
    },
    {
     "name": "stderr",
     "output_type": "stream",
     "text": [
      "WARNING:absl:Found untraced functions such as _jit_compiled_convolution_op while saving (showing 1 of 1). These functions will not be directly callable after loading.\n"
     ]
    },
    {
     "name": "stdout",
     "output_type": "stream",
     "text": [
      "INFO:tensorflow:Assets written to: ram://d7b2eb22-2962-4b6e-9742-af05e418bedf/assets\n"
     ]
    },
    {
     "name": "stderr",
     "output_type": "stream",
     "text": [
      "INFO:tensorflow:Assets written to: ram://d7b2eb22-2962-4b6e-9742-af05e418bedf/assets\n"
     ]
    },
    {
     "name": "stdout",
     "output_type": "stream",
     "text": [
      "219/219 [==============================] - 0s 668us/step\n"
     ]
    },
    {
     "name": "stderr",
     "output_type": "stream",
     "text": [
      "WARNING:absl:Found untraced functions such as _jit_compiled_convolution_op while saving (showing 1 of 1). These functions will not be directly callable after loading.\n"
     ]
    },
    {
     "name": "stdout",
     "output_type": "stream",
     "text": [
      "INFO:tensorflow:Assets written to: ram://b0c88635-a8f1-433b-8044-e68aec2fcfad/assets\n"
     ]
    },
    {
     "name": "stderr",
     "output_type": "stream",
     "text": [
      "INFO:tensorflow:Assets written to: ram://b0c88635-a8f1-433b-8044-e68aec2fcfad/assets\n"
     ]
    },
    {
     "name": "stdout",
     "output_type": "stream",
     "text": [
      "219/219 [==============================] - 0s 640us/step\n"
     ]
    },
    {
     "name": "stderr",
     "output_type": "stream",
     "text": [
      "WARNING:absl:Found untraced functions such as _jit_compiled_convolution_op while saving (showing 1 of 1). These functions will not be directly callable after loading.\n"
     ]
    },
    {
     "name": "stdout",
     "output_type": "stream",
     "text": [
      "INFO:tensorflow:Assets written to: ram://d72fe5cb-f66b-4b61-9d3a-675a32667902/assets\n"
     ]
    },
    {
     "name": "stderr",
     "output_type": "stream",
     "text": [
      "INFO:tensorflow:Assets written to: ram://d72fe5cb-f66b-4b61-9d3a-675a32667902/assets\n"
     ]
    },
    {
     "name": "stdout",
     "output_type": "stream",
     "text": [
      "220/220 [==============================] - 0s 617us/step\n"
     ]
    },
    {
     "name": "stderr",
     "output_type": "stream",
     "text": [
      "WARNING:absl:Found untraced functions such as _jit_compiled_convolution_op while saving (showing 1 of 1). These functions will not be directly callable after loading.\n"
     ]
    },
    {
     "name": "stdout",
     "output_type": "stream",
     "text": [
      "INFO:tensorflow:Assets written to: ram://2f4a60c6-d874-4129-aad3-960b9e3a3aa3/assets\n"
     ]
    },
    {
     "name": "stderr",
     "output_type": "stream",
     "text": [
      "INFO:tensorflow:Assets written to: ram://2f4a60c6-d874-4129-aad3-960b9e3a3aa3/assets\n"
     ]
    },
    {
     "name": "stdout",
     "output_type": "stream",
     "text": [
      "220/220 [==============================] - 0s 610us/step\n"
     ]
    },
    {
     "name": "stderr",
     "output_type": "stream",
     "text": [
      "WARNING:absl:Found untraced functions such as _jit_compiled_convolution_op while saving (showing 1 of 1). These functions will not be directly callable after loading.\n"
     ]
    },
    {
     "name": "stdout",
     "output_type": "stream",
     "text": [
      "INFO:tensorflow:Assets written to: ram://6a759684-641a-412c-816f-59cdc3d0e859/assets\n"
     ]
    },
    {
     "name": "stderr",
     "output_type": "stream",
     "text": [
      "INFO:tensorflow:Assets written to: ram://6a759684-641a-412c-816f-59cdc3d0e859/assets\n"
     ]
    },
    {
     "name": "stdout",
     "output_type": "stream",
     "text": [
      "220/220 [==============================] - 0s 601us/step\n"
     ]
    },
    {
     "name": "stderr",
     "output_type": "stream",
     "text": [
      "WARNING:absl:Found untraced functions such as _jit_compiled_convolution_op while saving (showing 1 of 1). These functions will not be directly callable after loading.\n"
     ]
    },
    {
     "name": "stdout",
     "output_type": "stream",
     "text": [
      "INFO:tensorflow:Assets written to: ram://3043485b-d9ec-45de-b9d3-23105c7e8567/assets\n"
     ]
    },
    {
     "name": "stderr",
     "output_type": "stream",
     "text": [
      "INFO:tensorflow:Assets written to: ram://3043485b-d9ec-45de-b9d3-23105c7e8567/assets\n"
     ]
    },
    {
     "name": "stdout",
     "output_type": "stream",
     "text": [
      "220/220 [==============================] - 0s 590us/step\n"
     ]
    },
    {
     "name": "stderr",
     "output_type": "stream",
     "text": [
      "WARNING:absl:Found untraced functions such as _jit_compiled_convolution_op while saving (showing 1 of 1). These functions will not be directly callable after loading.\n"
     ]
    },
    {
     "name": "stdout",
     "output_type": "stream",
     "text": [
      "INFO:tensorflow:Assets written to: ram://f534af8c-191d-4751-ba0c-7d96ca763021/assets\n"
     ]
    },
    {
     "name": "stderr",
     "output_type": "stream",
     "text": [
      "INFO:tensorflow:Assets written to: ram://f534af8c-191d-4751-ba0c-7d96ca763021/assets\n"
     ]
    },
    {
     "name": "stdout",
     "output_type": "stream",
     "text": [
      "220/220 [==============================] - 0s 618us/step\n"
     ]
    },
    {
     "name": "stderr",
     "output_type": "stream",
     "text": [
      "WARNING:absl:Found untraced functions such as _jit_compiled_convolution_op while saving (showing 1 of 1). These functions will not be directly callable after loading.\n"
     ]
    },
    {
     "name": "stdout",
     "output_type": "stream",
     "text": [
      "INFO:tensorflow:Assets written to: ram://50794569-1ed1-4e3c-a7a6-66f044e40e5e/assets\n"
     ]
    },
    {
     "name": "stderr",
     "output_type": "stream",
     "text": [
      "INFO:tensorflow:Assets written to: ram://50794569-1ed1-4e3c-a7a6-66f044e40e5e/assets\n"
     ]
    },
    {
     "name": "stdout",
     "output_type": "stream",
     "text": [
      "219/219 [==============================] - 0s 614us/step\n"
     ]
    },
    {
     "name": "stderr",
     "output_type": "stream",
     "text": [
      "WARNING:absl:Found untraced functions such as _jit_compiled_convolution_op while saving (showing 1 of 1). These functions will not be directly callable after loading.\n"
     ]
    },
    {
     "name": "stdout",
     "output_type": "stream",
     "text": [
      "INFO:tensorflow:Assets written to: ram://6d9587c9-1d99-47aa-8acd-76620383c845/assets\n"
     ]
    },
    {
     "name": "stderr",
     "output_type": "stream",
     "text": [
      "INFO:tensorflow:Assets written to: ram://6d9587c9-1d99-47aa-8acd-76620383c845/assets\n"
     ]
    },
    {
     "name": "stdout",
     "output_type": "stream",
     "text": [
      "219/219 [==============================] - 0s 613us/step\n"
     ]
    },
    {
     "name": "stderr",
     "output_type": "stream",
     "text": [
      "WARNING:absl:Found untraced functions such as _jit_compiled_convolution_op while saving (showing 1 of 1). These functions will not be directly callable after loading.\n"
     ]
    },
    {
     "name": "stdout",
     "output_type": "stream",
     "text": [
      "INFO:tensorflow:Assets written to: ram://7d246abc-93e7-491b-820c-a781f3aa9587/assets\n"
     ]
    },
    {
     "name": "stderr",
     "output_type": "stream",
     "text": [
      "INFO:tensorflow:Assets written to: ram://7d246abc-93e7-491b-820c-a781f3aa9587/assets\n"
     ]
    },
    {
     "name": "stdout",
     "output_type": "stream",
     "text": [
      "219/219 [==============================] - 0s 669us/step\n"
     ]
    },
    {
     "name": "stderr",
     "output_type": "stream",
     "text": [
      "WARNING:absl:Found untraced functions such as _jit_compiled_convolution_op while saving (showing 1 of 1). These functions will not be directly callable after loading.\n"
     ]
    },
    {
     "name": "stdout",
     "output_type": "stream",
     "text": [
      "INFO:tensorflow:Assets written to: ram://bc2cb852-3031-4f26-b448-830c76c4b795/assets\n"
     ]
    },
    {
     "name": "stderr",
     "output_type": "stream",
     "text": [
      "INFO:tensorflow:Assets written to: ram://bc2cb852-3031-4f26-b448-830c76c4b795/assets\n"
     ]
    },
    {
     "name": "stdout",
     "output_type": "stream",
     "text": [
      "219/219 [==============================] - 0s 649us/step\n"
     ]
    },
    {
     "name": "stderr",
     "output_type": "stream",
     "text": [
      "WARNING:absl:Found untraced functions such as _jit_compiled_convolution_op while saving (showing 1 of 1). These functions will not be directly callable after loading.\n"
     ]
    },
    {
     "name": "stdout",
     "output_type": "stream",
     "text": [
      "INFO:tensorflow:Assets written to: ram://0ab8cef5-aeb2-4321-9142-a8526d918fd3/assets\n"
     ]
    },
    {
     "name": "stderr",
     "output_type": "stream",
     "text": [
      "INFO:tensorflow:Assets written to: ram://0ab8cef5-aeb2-4321-9142-a8526d918fd3/assets\n"
     ]
    },
    {
     "name": "stdout",
     "output_type": "stream",
     "text": [
      "219/219 [==============================] - 0s 664us/step\n"
     ]
    },
    {
     "name": "stderr",
     "output_type": "stream",
     "text": [
      "WARNING:absl:Found untraced functions such as _jit_compiled_convolution_op while saving (showing 1 of 1). These functions will not be directly callable after loading.\n"
     ]
    },
    {
     "name": "stdout",
     "output_type": "stream",
     "text": [
      "INFO:tensorflow:Assets written to: ram://a4abf85f-9cd7-459a-aeb1-0574a34b3228/assets\n"
     ]
    },
    {
     "name": "stderr",
     "output_type": "stream",
     "text": [
      "INFO:tensorflow:Assets written to: ram://a4abf85f-9cd7-459a-aeb1-0574a34b3228/assets\n"
     ]
    },
    {
     "name": "stdout",
     "output_type": "stream",
     "text": [
      "219/219 [==============================] - 0s 688us/step\n"
     ]
    },
    {
     "name": "stderr",
     "output_type": "stream",
     "text": [
      "WARNING:absl:Found untraced functions such as _jit_compiled_convolution_op while saving (showing 1 of 1). These functions will not be directly callable after loading.\n"
     ]
    },
    {
     "name": "stdout",
     "output_type": "stream",
     "text": [
      "INFO:tensorflow:Assets written to: ram://11629aab-01a3-451d-aa90-e8536344e40c/assets\n"
     ]
    },
    {
     "name": "stderr",
     "output_type": "stream",
     "text": [
      "INFO:tensorflow:Assets written to: ram://11629aab-01a3-451d-aa90-e8536344e40c/assets\n"
     ]
    }
   ],
   "source": [
    "for seed in seeds:\n",
    "    for columns in features:\n",
    "        for params_idx, params in enumerate(params_cnn):\n",
    "            \n",
    "            set_determinism(seed)\n",
    "            \n",
    "            traning_set_cnn, validation_set_cnn = build_dataset_for_ml_model(df, training_columns=features[columns], as_list=True)\n",
    "            tr_sw, tr_sw_r = sliding_window_by_fault(traning_set_cnn, features[columns], params[\"w_len\"])\n",
    "            val_sw, val_sw_r = sliding_window_by_fault(validation_set_cnn, features[columns], params[\"w_len\"])\n",
    "            counts_cnn = pd.Series(tr_sw_r).value_counts(normalize=True)\n",
    "            class_weight_cnn = {0: 1/counts_cnn[0], 1: 1/counts_cnn[1]}\n",
    "\n",
    "            input_size_cnn = tr_sw[0].shape[1]\n",
    "            cnn = build_cnn_regressor(input_size=input_size_cnn, filters=params[\"filters\"],\n",
    "                                      kernel_size=params[\"kernel_size\"], hidden=params[\"hidden\"], w_len=params[\"w_len\"])\n",
    "            cnn.compile(optimizer=keras.optimizers.Adam(learning_rate=learning_rate), \n",
    "                        loss='binary_crossentropy')\n",
    "            cb_cnn = [callbacks.EarlyStopping(patience=patience, restore_best_weights=True)]\n",
    "            history_cnn = cnn.fit(tr_sw, tr_sw_r, validation_split=validation_split,\n",
    "                                  callbacks=cb_cnn,\n",
    "                                  class_weight=class_weight_cnn,\n",
    "                                  batch_size=batch_size, epochs=epochs, verbose=0)\n",
    "            \n",
    "            preds_cnn = cnn.predict(val_sw).ravel()\n",
    "            \n",
    "            signal_cnn = pd.Series(data=(1 - preds_cnn))\n",
    "            rul_cnn = val_sw_r\n",
    "\n",
    "            best_cost_cnn, best_thr_cnn, all_cost_cnn, all_thr_cnn = threshold_optimization(signal_cnn, rul_cnn, start=0, end=signal_cnn.max(), n_steps=200)\n",
    "            \n",
    "            perf_cnn = performance_evaluation(signal_cnn, best_thr_cnn, rul_cnn)\n",
    "            all_perf.append([\"conv_nn\", seed, columns, params] + perf_cnn)\n",
    "            \n",
    "            serialize_perf(\"conv_nn\", seed=seed, columns_name=columns, training_columns=features[columns], \n",
    "                           params=params, params_idx=params_idx, history=history_cnn, best_cost=best_cost_cnn, best_thr=best_thr_cnn, \n",
    "                           all_cost=all_cost_cnn, all_thr=all_thr_cnn, perf=perf_cnn)"
   ]
  },
  {
   "cell_type": "markdown",
   "id": "94a9cffd",
   "metadata": {},
   "source": [
    "## RUL estimation with Recurrent Neural Networks (LSTM and GRU)"
   ]
  },
  {
   "cell_type": "code",
   "execution_count": 51,
   "id": "346264c9",
   "metadata": {},
   "outputs": [],
   "source": [
    "def create_dataset_3D(X, y, time_steps):\n",
    "    Xs, ys = [], []\n",
    "    for i in range(len(X)-time_steps):\n",
    "        v = X[i:i+time_steps, :]\n",
    "        Xs.append(v)\n",
    "        ys.append(y[i+time_steps])\n",
    "    return np.array(Xs), np.array(ys).reshape(-1, 1)"
   ]
  },
  {
   "cell_type": "code",
   "execution_count": 52,
   "id": "c76c2161",
   "metadata": {},
   "outputs": [],
   "source": [
    "def create_model_cl(units, m, X_train, lr):\n",
    "    model = keras.Sequential()\n",
    "    model.add(m(units=units, return_sequences=True,\n",
    "                input_shape=[X_train.shape[1], X_train.shape[2]]))\n",
    "    model.add(m(units=units))\n",
    "    model.add(keras.layers.Dense(units=1, activation=\"sigmoid\"))\n",
    "    model.compile(loss='binary_crossentropy', \n",
    "                  optimizer=keras.optimizers.Adam(learning_rate=lr))\n",
    "    return model"
   ]
  },
  {
   "cell_type": "code",
   "execution_count": 53,
   "id": "74bbcf5a",
   "metadata": {},
   "outputs": [],
   "source": [
    "params_rnn = [{\"time_steps\": 5, \"units\": 64},\n",
    "              {\"time_steps\": 5, \"units\": 128},\n",
    "              {\"time_steps\": 10, \"units\": 64},\n",
    "              {\"time_steps\": 10, \"units\": 128}]"
   ]
  },
  {
   "cell_type": "code",
   "execution_count": null,
   "id": "040e5782",
   "metadata": {},
   "outputs": [
    {
     "name": "stdout",
     "output_type": "stream",
     "text": [
      "Epoch 1/3\n",
      "657/657 [==============================] - 4s 3ms/step - loss: 0.9000 - val_loss: 0.7056\n",
      "Epoch 2/3\n",
      "657/657 [==============================] - 2s 3ms/step - loss: 0.6320 - val_loss: 0.5254\n",
      "Epoch 3/3\n",
      "657/657 [==============================] - 2s 3ms/step - loss: 0.4608 - val_loss: 0.3561\n",
      "221/221 [==============================] - 1s 1ms/step\n",
      "221/221 [==============================] - 1s 1ms/step\n"
     ]
    },
    {
     "name": "stderr",
     "output_type": "stream",
     "text": [
      "WARNING:absl:Found untraced functions such as lstm_cell_layer_call_fn, lstm_cell_layer_call_and_return_conditional_losses, lstm_cell_1_layer_call_fn, lstm_cell_1_layer_call_and_return_conditional_losses while saving (showing 4 of 4). These functions will not be directly callable after loading.\n"
     ]
    },
    {
     "name": "stdout",
     "output_type": "stream",
     "text": [
      "INFO:tensorflow:Assets written to: ram://4461ba06-5679-4ce5-baf6-2fd09cd536e0/assets\n"
     ]
    },
    {
     "name": "stderr",
     "output_type": "stream",
     "text": [
      "INFO:tensorflow:Assets written to: ram://4461ba06-5679-4ce5-baf6-2fd09cd536e0/assets\n",
      "WARNING:absl:Found untraced functions such as gru_cell_2_layer_call_fn, gru_cell_2_layer_call_and_return_conditional_losses, gru_cell_3_layer_call_fn, gru_cell_3_layer_call_and_return_conditional_losses while saving (showing 4 of 4). These functions will not be directly callable after loading.\n"
     ]
    },
    {
     "name": "stdout",
     "output_type": "stream",
     "text": [
      "INFO:tensorflow:Assets written to: ram://e9155f37-59b9-48dc-85c0-faa045e9370a/assets\n"
     ]
    },
    {
     "name": "stderr",
     "output_type": "stream",
     "text": [
      "INFO:tensorflow:Assets written to: ram://e9155f37-59b9-48dc-85c0-faa045e9370a/assets\n"
     ]
    },
    {
     "name": "stdout",
     "output_type": "stream",
     "text": [
      "Epoch 1/3\n",
      "657/657 [==============================] - 4s 3ms/step - loss: 0.8509 - val_loss: 0.6316\n",
      "Epoch 2/3\n",
      "657/657 [==============================] - 2s 3ms/step - loss: 0.5135 - val_loss: 0.3940\n",
      "Epoch 3/3\n",
      "657/657 [==============================] - 2s 3ms/step - loss: 0.3243 - val_loss: 0.2366\n",
      "221/221 [==============================] - 1s 1ms/step\n",
      "221/221 [==============================] - 1s 1ms/step\n"
     ]
    },
    {
     "name": "stderr",
     "output_type": "stream",
     "text": [
      "WARNING:absl:Found untraced functions such as lstm_cell_2_layer_call_fn, lstm_cell_2_layer_call_and_return_conditional_losses, lstm_cell_3_layer_call_fn, lstm_cell_3_layer_call_and_return_conditional_losses while saving (showing 4 of 4). These functions will not be directly callable after loading.\n"
     ]
    },
    {
     "name": "stdout",
     "output_type": "stream",
     "text": [
      "INFO:tensorflow:Assets written to: ram://2c09f26f-ba65-44d6-b66e-3b4e40647419/assets\n"
     ]
    },
    {
     "name": "stderr",
     "output_type": "stream",
     "text": [
      "INFO:tensorflow:Assets written to: ram://2c09f26f-ba65-44d6-b66e-3b4e40647419/assets\n",
      "WARNING:absl:Found untraced functions such as gru_cell_4_layer_call_fn, gru_cell_4_layer_call_and_return_conditional_losses, gru_cell_5_layer_call_fn, gru_cell_5_layer_call_and_return_conditional_losses while saving (showing 4 of 4). These functions will not be directly callable after loading.\n"
     ]
    },
    {
     "name": "stdout",
     "output_type": "stream",
     "text": [
      "INFO:tensorflow:Assets written to: ram://7b616724-0589-49fa-b401-14f00c7567ec/assets\n"
     ]
    },
    {
     "name": "stderr",
     "output_type": "stream",
     "text": [
      "INFO:tensorflow:Assets written to: ram://7b616724-0589-49fa-b401-14f00c7567ec/assets\n"
     ]
    },
    {
     "name": "stdout",
     "output_type": "stream",
     "text": [
      "Epoch 1/3\n",
      "657/657 [==============================] - 4s 3ms/step - loss: 0.9074 - val_loss: 0.7303\n",
      "Epoch 2/3\n",
      "657/657 [==============================] - 2s 3ms/step - loss: 0.6214 - val_loss: 0.5244\n",
      "Epoch 3/3\n",
      "657/657 [==============================] - 2s 3ms/step - loss: 0.4207 - val_loss: 0.3221\n",
      "221/221 [==============================] - 1s 1ms/step\n",
      "221/221 [==============================] - 1s 1ms/step\n"
     ]
    },
    {
     "name": "stderr",
     "output_type": "stream",
     "text": [
      "WARNING:absl:Found untraced functions such as lstm_cell_4_layer_call_fn, lstm_cell_4_layer_call_and_return_conditional_losses, lstm_cell_5_layer_call_fn, lstm_cell_5_layer_call_and_return_conditional_losses while saving (showing 4 of 4). These functions will not be directly callable after loading.\n"
     ]
    },
    {
     "name": "stdout",
     "output_type": "stream",
     "text": [
      "INFO:tensorflow:Assets written to: ram://0df6d42e-7abe-431c-8096-8a148c420a5e/assets\n"
     ]
    },
    {
     "name": "stderr",
     "output_type": "stream",
     "text": [
      "INFO:tensorflow:Assets written to: ram://0df6d42e-7abe-431c-8096-8a148c420a5e/assets\n",
      "WARNING:absl:Found untraced functions such as gru_cell_6_layer_call_fn, gru_cell_6_layer_call_and_return_conditional_losses, gru_cell_7_layer_call_fn, gru_cell_7_layer_call_and_return_conditional_losses while saving (showing 4 of 4). These functions will not be directly callable after loading.\n"
     ]
    },
    {
     "name": "stdout",
     "output_type": "stream",
     "text": [
      "INFO:tensorflow:Assets written to: ram://a659aac9-4773-4ace-a7a7-e4cce482c43d/assets\n"
     ]
    },
    {
     "name": "stderr",
     "output_type": "stream",
     "text": [
      "INFO:tensorflow:Assets written to: ram://a659aac9-4773-4ace-a7a7-e4cce482c43d/assets\n"
     ]
    },
    {
     "name": "stdout",
     "output_type": "stream",
     "text": [
      "Epoch 1/3\n",
      "657/657 [==============================] - 4s 4ms/step - loss: 0.8548 - val_loss: 0.6307\n",
      "Epoch 2/3\n",
      "657/657 [==============================] - 2s 3ms/step - loss: 0.4801 - val_loss: 0.3468\n",
      "Epoch 3/3\n",
      "657/657 [==============================] - 2s 3ms/step - loss: 0.2554 - val_loss: 0.1744\n",
      "221/221 [==============================] - 1s 1ms/step\n",
      "221/221 [==============================] - 1s 1ms/step\n"
     ]
    },
    {
     "name": "stderr",
     "output_type": "stream",
     "text": [
      "WARNING:absl:Found untraced functions such as lstm_cell_6_layer_call_fn, lstm_cell_6_layer_call_and_return_conditional_losses, lstm_cell_7_layer_call_fn, lstm_cell_7_layer_call_and_return_conditional_losses while saving (showing 4 of 4). These functions will not be directly callable after loading.\n"
     ]
    },
    {
     "name": "stdout",
     "output_type": "stream",
     "text": [
      "INFO:tensorflow:Assets written to: ram://593bd040-7487-419e-9ead-92192dae233c/assets\n"
     ]
    },
    {
     "name": "stderr",
     "output_type": "stream",
     "text": [
      "INFO:tensorflow:Assets written to: ram://593bd040-7487-419e-9ead-92192dae233c/assets\n",
      "WARNING:absl:Found untraced functions such as gru_cell_8_layer_call_fn, gru_cell_8_layer_call_and_return_conditional_losses, gru_cell_9_layer_call_fn, gru_cell_9_layer_call_and_return_conditional_losses while saving (showing 4 of 4). These functions will not be directly callable after loading.\n"
     ]
    },
    {
     "name": "stdout",
     "output_type": "stream",
     "text": [
      "INFO:tensorflow:Assets written to: ram://cb044812-58b3-456b-9216-a9f1e9af2692/assets\n"
     ]
    },
    {
     "name": "stderr",
     "output_type": "stream",
     "text": [
      "INFO:tensorflow:Assets written to: ram://cb044812-58b3-456b-9216-a9f1e9af2692/assets\n"
     ]
    },
    {
     "name": "stdout",
     "output_type": "stream",
     "text": [
      "Epoch 1/3\n",
      "657/657 [==============================] - 4s 3ms/step - loss: 1.0504 - val_loss: 0.6828\n",
      "Epoch 2/3\n",
      "657/657 [==============================] - 2s 3ms/step - loss: 0.7589 - val_loss: 0.5731\n",
      "Epoch 3/3\n",
      "657/657 [==============================] - 2s 3ms/step - loss: 0.6021 - val_loss: 0.4256\n",
      "221/221 [==============================] - 1s 974us/step\n",
      "221/221 [==============================] - 1s 976us/step\n"
     ]
    },
    {
     "name": "stderr",
     "output_type": "stream",
     "text": [
      "WARNING:absl:Found untraced functions such as lstm_cell_8_layer_call_fn, lstm_cell_8_layer_call_and_return_conditional_losses, lstm_cell_9_layer_call_fn, lstm_cell_9_layer_call_and_return_conditional_losses while saving (showing 4 of 4). These functions will not be directly callable after loading.\n"
     ]
    },
    {
     "name": "stdout",
     "output_type": "stream",
     "text": [
      "INFO:tensorflow:Assets written to: ram://7dc6a96e-1dd9-4b89-88c3-6867952acc0f/assets\n"
     ]
    },
    {
     "name": "stderr",
     "output_type": "stream",
     "text": [
      "INFO:tensorflow:Assets written to: ram://7dc6a96e-1dd9-4b89-88c3-6867952acc0f/assets\n",
      "WARNING:absl:Found untraced functions such as gru_cell_10_layer_call_fn, gru_cell_10_layer_call_and_return_conditional_losses, gru_cell_11_layer_call_fn, gru_cell_11_layer_call_and_return_conditional_losses while saving (showing 4 of 4). These functions will not be directly callable after loading.\n"
     ]
    },
    {
     "name": "stdout",
     "output_type": "stream",
     "text": [
      "INFO:tensorflow:Assets written to: ram://594ab776-25d9-4fa6-9fad-0affae7604cb/assets\n"
     ]
    },
    {
     "name": "stderr",
     "output_type": "stream",
     "text": [
      "INFO:tensorflow:Assets written to: ram://594ab776-25d9-4fa6-9fad-0affae7604cb/assets\n"
     ]
    },
    {
     "name": "stdout",
     "output_type": "stream",
     "text": [
      "Epoch 1/3\n",
      "657/657 [==============================] - 4s 3ms/step - loss: 0.9856 - val_loss: 0.7016\n",
      "Epoch 2/3\n",
      "657/657 [==============================] - 2s 3ms/step - loss: 0.6547 - val_loss: 0.5012\n",
      "Epoch 3/3\n",
      "657/657 [==============================] - 2s 3ms/step - loss: 0.4721 - val_loss: 0.3201\n",
      "221/221 [==============================] - 1s 1ms/step\n",
      "221/221 [==============================] - 1s 1ms/step\n"
     ]
    },
    {
     "name": "stderr",
     "output_type": "stream",
     "text": [
      "WARNING:absl:Found untraced functions such as lstm_cell_10_layer_call_fn, lstm_cell_10_layer_call_and_return_conditional_losses, lstm_cell_11_layer_call_fn, lstm_cell_11_layer_call_and_return_conditional_losses while saving (showing 4 of 4). These functions will not be directly callable after loading.\n"
     ]
    },
    {
     "name": "stdout",
     "output_type": "stream",
     "text": [
      "INFO:tensorflow:Assets written to: ram://7de02e46-28e6-4bf6-b5c8-49001c586438/assets\n"
     ]
    },
    {
     "name": "stderr",
     "output_type": "stream",
     "text": [
      "INFO:tensorflow:Assets written to: ram://7de02e46-28e6-4bf6-b5c8-49001c586438/assets\n",
      "WARNING:absl:Found untraced functions such as gru_cell_12_layer_call_fn, gru_cell_12_layer_call_and_return_conditional_losses, gru_cell_13_layer_call_fn, gru_cell_13_layer_call_and_return_conditional_losses while saving (showing 4 of 4). These functions will not be directly callable after loading.\n"
     ]
    },
    {
     "name": "stdout",
     "output_type": "stream",
     "text": [
      "INFO:tensorflow:Assets written to: ram://7537bec9-fb40-4024-9eaf-42a8c3b181f1/assets\n"
     ]
    },
    {
     "name": "stderr",
     "output_type": "stream",
     "text": [
      "INFO:tensorflow:Assets written to: ram://7537bec9-fb40-4024-9eaf-42a8c3b181f1/assets\n"
     ]
    },
    {
     "name": "stdout",
     "output_type": "stream",
     "text": [
      "Epoch 1/3\n",
      "657/657 [==============================] - 4s 3ms/step - loss: 1.0571 - val_loss: 0.7073\n",
      "Epoch 2/3\n",
      "657/657 [==============================] - 2s 3ms/step - loss: 0.7415 - val_loss: 0.5628\n",
      "Epoch 3/3\n",
      "657/657 [==============================] - 2s 3ms/step - loss: 0.5487 - val_loss: 0.3660\n",
      "221/221 [==============================] - 1s 1ms/step\n",
      "221/221 [==============================] - 1s 1ms/step\n"
     ]
    },
    {
     "name": "stderr",
     "output_type": "stream",
     "text": [
      "WARNING:absl:Found untraced functions such as lstm_cell_12_layer_call_fn, lstm_cell_12_layer_call_and_return_conditional_losses, lstm_cell_13_layer_call_fn, lstm_cell_13_layer_call_and_return_conditional_losses while saving (showing 4 of 4). These functions will not be directly callable after loading.\n"
     ]
    },
    {
     "name": "stdout",
     "output_type": "stream",
     "text": [
      "INFO:tensorflow:Assets written to: ram://71033a5d-cc56-4082-85c5-707de62bfb22/assets\n"
     ]
    },
    {
     "name": "stderr",
     "output_type": "stream",
     "text": [
      "INFO:tensorflow:Assets written to: ram://71033a5d-cc56-4082-85c5-707de62bfb22/assets\n",
      "WARNING:absl:Found untraced functions such as gru_cell_14_layer_call_fn, gru_cell_14_layer_call_and_return_conditional_losses, gru_cell_15_layer_call_fn, gru_cell_15_layer_call_and_return_conditional_losses while saving (showing 4 of 4). These functions will not be directly callable after loading.\n"
     ]
    },
    {
     "name": "stdout",
     "output_type": "stream",
     "text": [
      "INFO:tensorflow:Assets written to: ram://3f19e899-1a59-4e6f-9a3a-3d02a164903a/assets\n"
     ]
    },
    {
     "name": "stderr",
     "output_type": "stream",
     "text": [
      "INFO:tensorflow:Assets written to: ram://3f19e899-1a59-4e6f-9a3a-3d02a164903a/assets\n"
     ]
    },
    {
     "name": "stdout",
     "output_type": "stream",
     "text": [
      "Epoch 1/3\n",
      "657/657 [==============================] - 4s 4ms/step - loss: 0.9966 - val_loss: 0.7059\n",
      "Epoch 2/3\n",
      "657/657 [==============================] - 2s 3ms/step - loss: 0.6345 - val_loss: 0.4590\n",
      "Epoch 3/3\n",
      "657/657 [==============================] - 2s 3ms/step - loss: 0.4341 - val_loss: 0.2673\n",
      "221/221 [==============================] - 1s 1ms/step\n",
      "221/221 [==============================] - 1s 1ms/step\n"
     ]
    },
    {
     "name": "stderr",
     "output_type": "stream",
     "text": [
      "WARNING:absl:Found untraced functions such as lstm_cell_14_layer_call_fn, lstm_cell_14_layer_call_and_return_conditional_losses, lstm_cell_15_layer_call_fn, lstm_cell_15_layer_call_and_return_conditional_losses while saving (showing 4 of 4). These functions will not be directly callable after loading.\n"
     ]
    },
    {
     "name": "stdout",
     "output_type": "stream",
     "text": [
      "INFO:tensorflow:Assets written to: ram://1f0ffc46-4102-4c1e-9bd1-000898f8017d/assets\n"
     ]
    },
    {
     "name": "stderr",
     "output_type": "stream",
     "text": [
      "INFO:tensorflow:Assets written to: ram://1f0ffc46-4102-4c1e-9bd1-000898f8017d/assets\n",
      "WARNING:absl:Found untraced functions such as gru_cell_16_layer_call_fn, gru_cell_16_layer_call_and_return_conditional_losses, gru_cell_17_layer_call_fn, gru_cell_17_layer_call_and_return_conditional_losses while saving (showing 4 of 4). These functions will not be directly callable after loading.\n"
     ]
    },
    {
     "name": "stdout",
     "output_type": "stream",
     "text": [
      "INFO:tensorflow:Assets written to: ram://5c3ceb74-b6b6-4d55-994f-afc7f9a4275e/assets\n"
     ]
    },
    {
     "name": "stderr",
     "output_type": "stream",
     "text": [
      "INFO:tensorflow:Assets written to: ram://5c3ceb74-b6b6-4d55-994f-afc7f9a4275e/assets\n"
     ]
    },
    {
     "name": "stdout",
     "output_type": "stream",
     "text": [
      "Epoch 1/3\n",
      "657/657 [==============================] - 5s 3ms/step - loss: 1.0832 - val_loss: 0.7218\n",
      "Epoch 2/3\n",
      "657/657 [==============================] - 2s 3ms/step - loss: 0.7862 - val_loss: 0.6179\n",
      "Epoch 3/3\n",
      "657/657 [==============================] - 2s 3ms/step - loss: 0.6202 - val_loss: 0.4560\n",
      "221/221 [==============================] - 1s 1ms/step\n",
      "221/221 [==============================] - 1s 1ms/step\n"
     ]
    },
    {
     "name": "stderr",
     "output_type": "stream",
     "text": [
      "WARNING:absl:Found untraced functions such as lstm_cell_16_layer_call_fn, lstm_cell_16_layer_call_and_return_conditional_losses, lstm_cell_17_layer_call_fn, lstm_cell_17_layer_call_and_return_conditional_losses while saving (showing 4 of 4). These functions will not be directly callable after loading.\n"
     ]
    },
    {
     "name": "stdout",
     "output_type": "stream",
     "text": [
      "INFO:tensorflow:Assets written to: ram://6689c55a-4170-4c2f-a62a-a1a7d7256650/assets\n"
     ]
    },
    {
     "name": "stderr",
     "output_type": "stream",
     "text": [
      "INFO:tensorflow:Assets written to: ram://6689c55a-4170-4c2f-a62a-a1a7d7256650/assets\n",
      "WARNING:absl:Found untraced functions such as gru_cell_18_layer_call_fn, gru_cell_18_layer_call_and_return_conditional_losses, gru_cell_19_layer_call_fn, gru_cell_19_layer_call_and_return_conditional_losses while saving (showing 4 of 4). These functions will not be directly callable after loading.\n"
     ]
    },
    {
     "name": "stdout",
     "output_type": "stream",
     "text": [
      "INFO:tensorflow:Assets written to: ram://f2704f4f-c8fd-41ac-a45b-26a2d03863ac/assets\n"
     ]
    },
    {
     "name": "stderr",
     "output_type": "stream",
     "text": [
      "INFO:tensorflow:Assets written to: ram://f2704f4f-c8fd-41ac-a45b-26a2d03863ac/assets\n"
     ]
    },
    {
     "name": "stdout",
     "output_type": "stream",
     "text": [
      "Epoch 1/3\n",
      "657/657 [==============================] - 4s 3ms/step - loss: 1.0039 - val_loss: 0.7484\n",
      "Epoch 2/3\n",
      "657/657 [==============================] - 2s 3ms/step - loss: 0.6761 - val_loss: 0.5133\n",
      "Epoch 3/3\n",
      "657/657 [==============================] - 2s 3ms/step - loss: 0.4903 - val_loss: 0.3106\n",
      "221/221 [==============================] - 1s 1ms/step\n",
      "221/221 [==============================] - 1s 970us/step\n"
     ]
    },
    {
     "name": "stderr",
     "output_type": "stream",
     "text": [
      "WARNING:absl:Found untraced functions such as lstm_cell_18_layer_call_fn, lstm_cell_18_layer_call_and_return_conditional_losses, lstm_cell_19_layer_call_fn, lstm_cell_19_layer_call_and_return_conditional_losses while saving (showing 4 of 4). These functions will not be directly callable after loading.\n"
     ]
    },
    {
     "name": "stdout",
     "output_type": "stream",
     "text": [
      "INFO:tensorflow:Assets written to: ram://3b055f1c-3b9e-44e0-a086-b3f4e4d12a50/assets\n"
     ]
    },
    {
     "name": "stderr",
     "output_type": "stream",
     "text": [
      "INFO:tensorflow:Assets written to: ram://3b055f1c-3b9e-44e0-a086-b3f4e4d12a50/assets\n",
      "WARNING:absl:Found untraced functions such as gru_cell_20_layer_call_fn, gru_cell_20_layer_call_and_return_conditional_losses, gru_cell_21_layer_call_fn, gru_cell_21_layer_call_and_return_conditional_losses while saving (showing 4 of 4). These functions will not be directly callable after loading.\n"
     ]
    },
    {
     "name": "stdout",
     "output_type": "stream",
     "text": [
      "INFO:tensorflow:Assets written to: ram://0f627304-c785-436e-b98b-f083f7796d8e/assets\n"
     ]
    },
    {
     "name": "stderr",
     "output_type": "stream",
     "text": [
      "INFO:tensorflow:Assets written to: ram://0f627304-c785-436e-b98b-f083f7796d8e/assets\n"
     ]
    },
    {
     "name": "stdout",
     "output_type": "stream",
     "text": [
      "Epoch 1/3\n",
      "657/657 [==============================] - 4s 3ms/step - loss: 1.0721 - val_loss: 0.7525\n",
      "Epoch 2/3\n",
      "657/657 [==============================] - 2s 3ms/step - loss: 0.7526 - val_loss: 0.6066\n",
      "Epoch 3/3\n",
      "657/657 [==============================] - 2s 3ms/step - loss: 0.5507 - val_loss: 0.4039\n",
      "221/221 [==============================] - 1s 1ms/step\n",
      "221/221 [==============================] - 1s 1ms/step\n"
     ]
    },
    {
     "name": "stderr",
     "output_type": "stream",
     "text": [
      "WARNING:absl:Found untraced functions such as lstm_cell_20_layer_call_fn, lstm_cell_20_layer_call_and_return_conditional_losses, lstm_cell_21_layer_call_fn, lstm_cell_21_layer_call_and_return_conditional_losses while saving (showing 4 of 4). These functions will not be directly callable after loading.\n"
     ]
    },
    {
     "name": "stdout",
     "output_type": "stream",
     "text": [
      "INFO:tensorflow:Assets written to: ram://5e67771c-c3de-4537-8b31-be9c942dc6c1/assets\n"
     ]
    },
    {
     "name": "stderr",
     "output_type": "stream",
     "text": [
      "INFO:tensorflow:Assets written to: ram://5e67771c-c3de-4537-8b31-be9c942dc6c1/assets\n",
      "WARNING:absl:Found untraced functions such as gru_cell_22_layer_call_fn, gru_cell_22_layer_call_and_return_conditional_losses, gru_cell_23_layer_call_fn, gru_cell_23_layer_call_and_return_conditional_losses while saving (showing 4 of 4). These functions will not be directly callable after loading.\n"
     ]
    },
    {
     "name": "stdout",
     "output_type": "stream",
     "text": [
      "INFO:tensorflow:Assets written to: ram://23843a2c-ccf6-4349-a5f8-b69c7ecffcee/assets\n"
     ]
    },
    {
     "name": "stderr",
     "output_type": "stream",
     "text": [
      "INFO:tensorflow:Assets written to: ram://23843a2c-ccf6-4349-a5f8-b69c7ecffcee/assets\n"
     ]
    },
    {
     "name": "stdout",
     "output_type": "stream",
     "text": [
      "Epoch 1/3\n",
      "657/657 [==============================] - 5s 4ms/step - loss: 1.0114 - val_loss: 0.7522\n",
      "Epoch 2/3\n",
      "657/657 [==============================] - 2s 3ms/step - loss: 0.6523 - val_loss: 0.4693\n",
      "Epoch 3/3\n",
      "657/657 [==============================] - 2s 3ms/step - loss: 0.4403 - val_loss: 0.2686\n",
      "221/221 [==============================] - 1s 1ms/step\n",
      "221/221 [==============================] - 1s 1ms/step\n"
     ]
    },
    {
     "name": "stderr",
     "output_type": "stream",
     "text": [
      "WARNING:absl:Found untraced functions such as lstm_cell_22_layer_call_fn, lstm_cell_22_layer_call_and_return_conditional_losses, lstm_cell_23_layer_call_fn, lstm_cell_23_layer_call_and_return_conditional_losses while saving (showing 4 of 4). These functions will not be directly callable after loading.\n"
     ]
    },
    {
     "name": "stdout",
     "output_type": "stream",
     "text": [
      "INFO:tensorflow:Assets written to: ram://9bffe623-4a64-410b-b4e2-9a73ce61a46b/assets\n"
     ]
    },
    {
     "name": "stderr",
     "output_type": "stream",
     "text": [
      "INFO:tensorflow:Assets written to: ram://9bffe623-4a64-410b-b4e2-9a73ce61a46b/assets\n",
      "WARNING:absl:Found untraced functions such as gru_cell_24_layer_call_fn, gru_cell_24_layer_call_and_return_conditional_losses, gru_cell_25_layer_call_fn, gru_cell_25_layer_call_and_return_conditional_losses while saving (showing 4 of 4). These functions will not be directly callable after loading.\n"
     ]
    },
    {
     "name": "stdout",
     "output_type": "stream",
     "text": [
      "INFO:tensorflow:Assets written to: ram://652a37d4-ec6d-4aec-a607-66c8f584d5bf/assets\n"
     ]
    },
    {
     "name": "stderr",
     "output_type": "stream",
     "text": [
      "INFO:tensorflow:Assets written to: ram://652a37d4-ec6d-4aec-a607-66c8f584d5bf/assets\n"
     ]
    },
    {
     "name": "stdout",
     "output_type": "stream",
     "text": [
      "Epoch 1/3\n",
      "657/657 [==============================] - 4s 3ms/step - loss: 1.0852 - val_loss: 0.7505\n",
      "Epoch 2/3\n",
      "657/657 [==============================] - 2s 3ms/step - loss: 0.7850 - val_loss: 0.6602\n",
      "Epoch 3/3\n",
      "657/657 [==============================] - 2s 3ms/step - loss: 0.6215 - val_loss: 0.5063\n",
      "221/221 [==============================] - 1s 995us/step\n",
      "221/221 [==============================] - 1s 932us/step\n"
     ]
    },
    {
     "name": "stderr",
     "output_type": "stream",
     "text": [
      "WARNING:absl:Found untraced functions such as lstm_cell_24_layer_call_fn, lstm_cell_24_layer_call_and_return_conditional_losses, lstm_cell_25_layer_call_fn, lstm_cell_25_layer_call_and_return_conditional_losses while saving (showing 4 of 4). These functions will not be directly callable after loading.\n"
     ]
    },
    {
     "name": "stdout",
     "output_type": "stream",
     "text": [
      "INFO:tensorflow:Assets written to: ram://d903759f-6ec4-4b52-a587-55675ad0fcab/assets\n"
     ]
    },
    {
     "name": "stderr",
     "output_type": "stream",
     "text": [
      "INFO:tensorflow:Assets written to: ram://d903759f-6ec4-4b52-a587-55675ad0fcab/assets\n",
      "WARNING:absl:Found untraced functions such as gru_cell_26_layer_call_fn, gru_cell_26_layer_call_and_return_conditional_losses, gru_cell_27_layer_call_fn, gru_cell_27_layer_call_and_return_conditional_losses while saving (showing 4 of 4). These functions will not be directly callable after loading.\n"
     ]
    },
    {
     "name": "stdout",
     "output_type": "stream",
     "text": [
      "INFO:tensorflow:Assets written to: ram://3d77373c-ded2-4f95-ae41-e8d3fb39b62c/assets\n"
     ]
    },
    {
     "name": "stderr",
     "output_type": "stream",
     "text": [
      "INFO:tensorflow:Assets written to: ram://3d77373c-ded2-4f95-ae41-e8d3fb39b62c/assets\n"
     ]
    },
    {
     "name": "stdout",
     "output_type": "stream",
     "text": [
      "Epoch 1/3\n",
      "657/657 [==============================] - 4s 3ms/step - loss: 1.0001 - val_loss: 0.7758\n",
      "Epoch 2/3\n",
      "657/657 [==============================] - 2s 3ms/step - loss: 0.6739 - val_loss: 0.5417\n",
      "Epoch 3/3\n",
      "657/657 [==============================] - 2s 3ms/step - loss: 0.4842 - val_loss: 0.3394\n",
      "221/221 [==============================] - 1s 1ms/step\n",
      "221/221 [==============================] - 1s 1ms/step\n"
     ]
    },
    {
     "name": "stderr",
     "output_type": "stream",
     "text": [
      "WARNING:absl:Found untraced functions such as lstm_cell_26_layer_call_fn, lstm_cell_26_layer_call_and_return_conditional_losses, lstm_cell_27_layer_call_fn, lstm_cell_27_layer_call_and_return_conditional_losses while saving (showing 4 of 4). These functions will not be directly callable after loading.\n"
     ]
    },
    {
     "name": "stdout",
     "output_type": "stream",
     "text": [
      "INFO:tensorflow:Assets written to: ram://8decd55a-688d-4565-aeeb-fe7bb381851a/assets\n"
     ]
    },
    {
     "name": "stderr",
     "output_type": "stream",
     "text": [
      "INFO:tensorflow:Assets written to: ram://8decd55a-688d-4565-aeeb-fe7bb381851a/assets\n",
      "WARNING:absl:Found untraced functions such as gru_cell_28_layer_call_fn, gru_cell_28_layer_call_and_return_conditional_losses, gru_cell_29_layer_call_fn, gru_cell_29_layer_call_and_return_conditional_losses while saving (showing 4 of 4). These functions will not be directly callable after loading.\n"
     ]
    },
    {
     "name": "stdout",
     "output_type": "stream",
     "text": [
      "INFO:tensorflow:Assets written to: ram://e96c47af-3254-45c0-a8cb-e8d79f3f78c1/assets\n"
     ]
    },
    {
     "name": "stderr",
     "output_type": "stream",
     "text": [
      "INFO:tensorflow:Assets written to: ram://e96c47af-3254-45c0-a8cb-e8d79f3f78c1/assets\n"
     ]
    },
    {
     "name": "stdout",
     "output_type": "stream",
     "text": [
      "Epoch 1/3\n",
      "657/657 [==============================] - 4s 4ms/step - loss: 1.0800 - val_loss: 0.7833\n",
      "Epoch 2/3\n",
      "657/657 [==============================] - 2s 3ms/step - loss: 0.7642 - val_loss: 0.6655\n",
      "Epoch 3/3\n",
      "657/657 [==============================] - 2s 3ms/step - loss: 0.5747 - val_loss: 0.4878\n",
      "221/221 [==============================] - 1s 1ms/step\n",
      "221/221 [==============================] - 1s 1ms/step\n"
     ]
    },
    {
     "name": "stderr",
     "output_type": "stream",
     "text": [
      "WARNING:absl:Found untraced functions such as lstm_cell_28_layer_call_fn, lstm_cell_28_layer_call_and_return_conditional_losses, lstm_cell_29_layer_call_fn, lstm_cell_29_layer_call_and_return_conditional_losses while saving (showing 4 of 4). These functions will not be directly callable after loading.\n"
     ]
    },
    {
     "name": "stdout",
     "output_type": "stream",
     "text": [
      "INFO:tensorflow:Assets written to: ram://6cc92cd4-fdae-41ba-8e5e-3d6fea15a0e6/assets\n"
     ]
    },
    {
     "name": "stderr",
     "output_type": "stream",
     "text": [
      "INFO:tensorflow:Assets written to: ram://6cc92cd4-fdae-41ba-8e5e-3d6fea15a0e6/assets\n",
      "WARNING:absl:Found untraced functions such as gru_cell_30_layer_call_fn, gru_cell_30_layer_call_and_return_conditional_losses, gru_cell_31_layer_call_fn, gru_cell_31_layer_call_and_return_conditional_losses while saving (showing 4 of 4). These functions will not be directly callable after loading.\n"
     ]
    },
    {
     "name": "stdout",
     "output_type": "stream",
     "text": [
      "INFO:tensorflow:Assets written to: ram://cb3e28bf-a68c-4bdd-9ddd-2ca156b52185/assets\n"
     ]
    },
    {
     "name": "stderr",
     "output_type": "stream",
     "text": [
      "INFO:tensorflow:Assets written to: ram://cb3e28bf-a68c-4bdd-9ddd-2ca156b52185/assets\n"
     ]
    },
    {
     "name": "stdout",
     "output_type": "stream",
     "text": [
      "Epoch 1/3\n",
      "657/657 [==============================] - 5s 4ms/step - loss: 1.0121 - val_loss: 0.7830\n",
      "Epoch 2/3\n",
      "657/657 [==============================] - 2s 3ms/step - loss: 0.6535 - val_loss: 0.5179\n",
      "Epoch 3/3\n",
      "657/657 [==============================] - 2s 3ms/step - loss: 0.4487 - val_loss: 0.3547\n",
      "221/221 [==============================] - 1s 1ms/step\n",
      "221/221 [==============================] - 1s 1ms/step\n"
     ]
    },
    {
     "name": "stderr",
     "output_type": "stream",
     "text": [
      "WARNING:absl:Found untraced functions such as lstm_cell_30_layer_call_fn, lstm_cell_30_layer_call_and_return_conditional_losses, lstm_cell_31_layer_call_fn, lstm_cell_31_layer_call_and_return_conditional_losses while saving (showing 4 of 4). These functions will not be directly callable after loading.\n"
     ]
    },
    {
     "name": "stdout",
     "output_type": "stream",
     "text": [
      "INFO:tensorflow:Assets written to: ram://c12b812d-9451-4c80-a78a-99b3dd5b4174/assets\n"
     ]
    },
    {
     "name": "stderr",
     "output_type": "stream",
     "text": [
      "INFO:tensorflow:Assets written to: ram://c12b812d-9451-4c80-a78a-99b3dd5b4174/assets\n",
      "WARNING:absl:Found untraced functions such as gru_cell_32_layer_call_fn, gru_cell_32_layer_call_and_return_conditional_losses, gru_cell_33_layer_call_fn, gru_cell_33_layer_call_and_return_conditional_losses while saving (showing 4 of 4). These functions will not be directly callable after loading.\n"
     ]
    },
    {
     "name": "stdout",
     "output_type": "stream",
     "text": [
      "INFO:tensorflow:Assets written to: ram://9618439d-8e4d-41b3-b2a8-01cf06f8ce99/assets\n"
     ]
    },
    {
     "name": "stderr",
     "output_type": "stream",
     "text": [
      "INFO:tensorflow:Assets written to: ram://9618439d-8e4d-41b3-b2a8-01cf06f8ce99/assets\n"
     ]
    },
    {
     "name": "stdout",
     "output_type": "stream",
     "text": [
      "Epoch 1/3\n",
      "657/657 [==============================] - 4s 3ms/step - loss: 1.1262 - val_loss: 0.7555\n",
      "Epoch 2/3\n",
      "657/657 [==============================] - 2s 3ms/step - loss: 0.8172 - val_loss: 0.7001\n",
      "Epoch 3/3\n",
      "657/657 [==============================] - 2s 3ms/step - loss: 0.6533 - val_loss: 0.5755\n",
      "221/221 [==============================] - 1s 1ms/step\n",
      "221/221 [==============================] - 1s 1000us/step\n"
     ]
    },
    {
     "name": "stderr",
     "output_type": "stream",
     "text": [
      "WARNING:absl:Found untraced functions such as lstm_cell_32_layer_call_fn, lstm_cell_32_layer_call_and_return_conditional_losses, lstm_cell_33_layer_call_fn, lstm_cell_33_layer_call_and_return_conditional_losses while saving (showing 4 of 4). These functions will not be directly callable after loading.\n"
     ]
    },
    {
     "name": "stdout",
     "output_type": "stream",
     "text": [
      "INFO:tensorflow:Assets written to: ram://2d7af35c-0d7c-4815-9c48-001a95b3f7d2/assets\n"
     ]
    },
    {
     "name": "stderr",
     "output_type": "stream",
     "text": [
      "INFO:tensorflow:Assets written to: ram://2d7af35c-0d7c-4815-9c48-001a95b3f7d2/assets\n",
      "WARNING:absl:Found untraced functions such as gru_cell_34_layer_call_fn, gru_cell_34_layer_call_and_return_conditional_losses, gru_cell_35_layer_call_fn, gru_cell_35_layer_call_and_return_conditional_losses while saving (showing 4 of 4). These functions will not be directly callable after loading.\n"
     ]
    },
    {
     "name": "stdout",
     "output_type": "stream",
     "text": [
      "INFO:tensorflow:Assets written to: ram://2190cb0c-7745-4451-954a-48f579536e88/assets\n"
     ]
    },
    {
     "name": "stderr",
     "output_type": "stream",
     "text": [
      "INFO:tensorflow:Assets written to: ram://2190cb0c-7745-4451-954a-48f579536e88/assets\n"
     ]
    },
    {
     "name": "stdout",
     "output_type": "stream",
     "text": [
      "Epoch 1/3\n",
      "657/657 [==============================] - 4s 3ms/step - loss: 1.0319 - val_loss: 0.8116\n",
      "Epoch 2/3\n",
      "657/657 [==============================] - 2s 3ms/step - loss: 0.6836 - val_loss: 0.5975\n",
      "Epoch 3/3\n",
      "657/657 [==============================] - 2s 3ms/step - loss: 0.4911 - val_loss: 0.4108\n",
      "221/221 [==============================] - 1s 1ms/step\n",
      "221/221 [==============================] - 1s 1ms/step\n"
     ]
    },
    {
     "name": "stderr",
     "output_type": "stream",
     "text": [
      "WARNING:absl:Found untraced functions such as lstm_cell_34_layer_call_fn, lstm_cell_34_layer_call_and_return_conditional_losses, lstm_cell_35_layer_call_fn, lstm_cell_35_layer_call_and_return_conditional_losses while saving (showing 4 of 4). These functions will not be directly callable after loading.\n"
     ]
    },
    {
     "name": "stdout",
     "output_type": "stream",
     "text": [
      "INFO:tensorflow:Assets written to: ram://a604ff2d-87cb-49dc-bd98-d20127f081b8/assets\n"
     ]
    },
    {
     "name": "stderr",
     "output_type": "stream",
     "text": [
      "INFO:tensorflow:Assets written to: ram://a604ff2d-87cb-49dc-bd98-d20127f081b8/assets\n",
      "WARNING:absl:Found untraced functions such as gru_cell_36_layer_call_fn, gru_cell_36_layer_call_and_return_conditional_losses, gru_cell_37_layer_call_fn, gru_cell_37_layer_call_and_return_conditional_losses while saving (showing 4 of 4). These functions will not be directly callable after loading.\n"
     ]
    },
    {
     "name": "stdout",
     "output_type": "stream",
     "text": [
      "INFO:tensorflow:Assets written to: ram://cfc4b61f-ef9f-473d-b18d-6f08e9c7ec3a/assets\n"
     ]
    },
    {
     "name": "stderr",
     "output_type": "stream",
     "text": [
      "INFO:tensorflow:Assets written to: ram://cfc4b61f-ef9f-473d-b18d-6f08e9c7ec3a/assets\n"
     ]
    },
    {
     "name": "stdout",
     "output_type": "stream",
     "text": [
      "Epoch 1/3\n",
      "657/657 [==============================] - 4s 4ms/step - loss: 1.1200 - val_loss: 0.7957\n",
      "Epoch 2/3\n",
      "657/657 [==============================] - 2s 3ms/step - loss: 0.7985 - val_loss: 0.7187\n",
      "Epoch 3/3\n",
      "657/657 [==============================] - 2s 3ms/step - loss: 0.6162 - val_loss: 0.5663\n",
      "221/221 [==============================] - 1s 1ms/step\n",
      "221/221 [==============================] - 1s 1ms/step\n"
     ]
    },
    {
     "name": "stderr",
     "output_type": "stream",
     "text": [
      "WARNING:absl:Found untraced functions such as lstm_cell_36_layer_call_fn, lstm_cell_36_layer_call_and_return_conditional_losses, lstm_cell_37_layer_call_fn, lstm_cell_37_layer_call_and_return_conditional_losses while saving (showing 4 of 4). These functions will not be directly callable after loading.\n"
     ]
    },
    {
     "name": "stdout",
     "output_type": "stream",
     "text": [
      "INFO:tensorflow:Assets written to: ram://28b6dd4f-6ea6-4d77-b1f0-ee2e53acc2d0/assets\n"
     ]
    },
    {
     "name": "stderr",
     "output_type": "stream",
     "text": [
      "INFO:tensorflow:Assets written to: ram://28b6dd4f-6ea6-4d77-b1f0-ee2e53acc2d0/assets\n",
      "WARNING:absl:Found untraced functions such as gru_cell_38_layer_call_fn, gru_cell_38_layer_call_and_return_conditional_losses, gru_cell_39_layer_call_fn, gru_cell_39_layer_call_and_return_conditional_losses while saving (showing 4 of 4). These functions will not be directly callable after loading.\n"
     ]
    },
    {
     "name": "stdout",
     "output_type": "stream",
     "text": [
      "INFO:tensorflow:Assets written to: ram://f8b97e76-f984-4933-ac3c-d0bbddf830cd/assets\n"
     ]
    },
    {
     "name": "stderr",
     "output_type": "stream",
     "text": [
      "INFO:tensorflow:Assets written to: ram://f8b97e76-f984-4933-ac3c-d0bbddf830cd/assets\n"
     ]
    },
    {
     "name": "stdout",
     "output_type": "stream",
     "text": [
      "Epoch 1/3\n",
      "657/657 [==============================] - 5s 4ms/step - loss: 1.0453 - val_loss: 0.8215\n",
      "Epoch 2/3\n",
      "657/657 [==============================] - 2s 3ms/step - loss: 0.6629 - val_loss: 0.5712\n",
      "Epoch 3/3\n",
      "657/657 [==============================] - 2s 3ms/step - loss: 0.4471 - val_loss: 0.3788\n",
      "221/221 [==============================] - 1s 1ms/step\n",
      "221/221 [==============================] - 1s 1ms/step\n"
     ]
    },
    {
     "name": "stderr",
     "output_type": "stream",
     "text": [
      "WARNING:absl:Found untraced functions such as lstm_cell_38_layer_call_fn, lstm_cell_38_layer_call_and_return_conditional_losses, lstm_cell_39_layer_call_fn, lstm_cell_39_layer_call_and_return_conditional_losses while saving (showing 4 of 4). These functions will not be directly callable after loading.\n"
     ]
    },
    {
     "name": "stdout",
     "output_type": "stream",
     "text": [
      "INFO:tensorflow:Assets written to: ram://ed830efa-6d46-4707-ba74-2e7eb8e9c42b/assets\n"
     ]
    },
    {
     "name": "stderr",
     "output_type": "stream",
     "text": [
      "INFO:tensorflow:Assets written to: ram://ed830efa-6d46-4707-ba74-2e7eb8e9c42b/assets\n",
      "WARNING:absl:Found untraced functions such as gru_cell_40_layer_call_fn, gru_cell_40_layer_call_and_return_conditional_losses, gru_cell_41_layer_call_fn, gru_cell_41_layer_call_and_return_conditional_losses while saving (showing 4 of 4). These functions will not be directly callable after loading.\n"
     ]
    },
    {
     "name": "stdout",
     "output_type": "stream",
     "text": [
      "INFO:tensorflow:Assets written to: ram://c625ff9c-cc41-453c-b664-88330d79bad6/assets\n"
     ]
    },
    {
     "name": "stderr",
     "output_type": "stream",
     "text": [
      "INFO:tensorflow:Assets written to: ram://c625ff9c-cc41-453c-b664-88330d79bad6/assets\n"
     ]
    },
    {
     "name": "stdout",
     "output_type": "stream",
     "text": [
      "Epoch 1/3\n",
      "657/657 [==============================] - 5s 3ms/step - loss: 0.9868 - val_loss: 0.7649\n",
      "Epoch 2/3\n",
      "657/657 [==============================] - 2s 3ms/step - loss: 0.7298 - val_loss: 0.6298\n",
      "Epoch 3/3\n",
      "657/657 [==============================] - 2s 3ms/step - loss: 0.5605 - val_loss: 0.4719\n",
      "221/221 [==============================] - 1s 1ms/step\n",
      "221/221 [==============================] - 1s 1ms/step\n"
     ]
    },
    {
     "name": "stderr",
     "output_type": "stream",
     "text": [
      "WARNING:absl:Found untraced functions such as lstm_cell_40_layer_call_fn, lstm_cell_40_layer_call_and_return_conditional_losses, lstm_cell_41_layer_call_fn, lstm_cell_41_layer_call_and_return_conditional_losses while saving (showing 4 of 4). These functions will not be directly callable after loading.\n"
     ]
    },
    {
     "name": "stdout",
     "output_type": "stream",
     "text": [
      "INFO:tensorflow:Assets written to: ram://16038528-8c07-452f-a75b-01726ae2abbb/assets\n"
     ]
    },
    {
     "name": "stderr",
     "output_type": "stream",
     "text": [
      "INFO:tensorflow:Assets written to: ram://16038528-8c07-452f-a75b-01726ae2abbb/assets\n",
      "WARNING:absl:Found untraced functions such as gru_cell_42_layer_call_fn, gru_cell_42_layer_call_and_return_conditional_losses, gru_cell_43_layer_call_fn, gru_cell_43_layer_call_and_return_conditional_losses while saving (showing 4 of 4). These functions will not be directly callable after loading.\n"
     ]
    },
    {
     "name": "stdout",
     "output_type": "stream",
     "text": [
      "INFO:tensorflow:Assets written to: ram://aaa25c0c-cc13-48b8-9a30-6d5905023cae/assets\n"
     ]
    },
    {
     "name": "stderr",
     "output_type": "stream",
     "text": [
      "INFO:tensorflow:Assets written to: ram://aaa25c0c-cc13-48b8-9a30-6d5905023cae/assets\n"
     ]
    },
    {
     "name": "stdout",
     "output_type": "stream",
     "text": [
      "Epoch 1/3\n",
      "657/657 [==============================] - 4s 4ms/step - loss: 0.9487 - val_loss: 0.7181\n",
      "Epoch 2/3\n",
      "657/657 [==============================] - 2s 3ms/step - loss: 0.6223 - val_loss: 0.4648\n",
      "Epoch 3/3\n",
      "657/657 [==============================] - 2s 3ms/step - loss: 0.4243 - val_loss: 0.3058\n",
      "221/221 [==============================] - 1s 1ms/step\n",
      "221/221 [==============================] - 1s 977us/step\n"
     ]
    },
    {
     "name": "stderr",
     "output_type": "stream",
     "text": [
      "WARNING:absl:Found untraced functions such as lstm_cell_42_layer_call_fn, lstm_cell_42_layer_call_and_return_conditional_losses, lstm_cell_43_layer_call_fn, lstm_cell_43_layer_call_and_return_conditional_losses while saving (showing 4 of 4). These functions will not be directly callable after loading.\n"
     ]
    },
    {
     "name": "stdout",
     "output_type": "stream",
     "text": [
      "INFO:tensorflow:Assets written to: ram://c9e1660d-4dc8-490e-8e14-da70bc41804d/assets\n"
     ]
    },
    {
     "name": "stderr",
     "output_type": "stream",
     "text": [
      "INFO:tensorflow:Assets written to: ram://c9e1660d-4dc8-490e-8e14-da70bc41804d/assets\n",
      "WARNING:absl:Found untraced functions such as gru_cell_44_layer_call_fn, gru_cell_44_layer_call_and_return_conditional_losses, gru_cell_45_layer_call_fn, gru_cell_45_layer_call_and_return_conditional_losses while saving (showing 4 of 4). These functions will not be directly callable after loading.\n"
     ]
    },
    {
     "name": "stdout",
     "output_type": "stream",
     "text": [
      "INFO:tensorflow:Assets written to: ram://9326a88f-b7c0-4083-8d80-4fa1c48ce5ee/assets\n"
     ]
    },
    {
     "name": "stderr",
     "output_type": "stream",
     "text": [
      "INFO:tensorflow:Assets written to: ram://9326a88f-b7c0-4083-8d80-4fa1c48ce5ee/assets\n"
     ]
    },
    {
     "name": "stdout",
     "output_type": "stream",
     "text": [
      "Epoch 1/3\n",
      "657/657 [==============================] - 4s 4ms/step - loss: 0.9860 - val_loss: 0.7889\n",
      "Epoch 2/3\n",
      "657/657 [==============================] - 2s 3ms/step - loss: 0.7110 - val_loss: 0.6155\n",
      "Epoch 3/3\n",
      "657/657 [==============================] - 2s 3ms/step - loss: 0.5061 - val_loss: 0.4249\n",
      "221/221 [==============================] - 1s 1ms/step\n",
      "221/221 [==============================] - 1s 1ms/step\n"
     ]
    },
    {
     "name": "stderr",
     "output_type": "stream",
     "text": [
      "WARNING:absl:Found untraced functions such as lstm_cell_44_layer_call_fn, lstm_cell_44_layer_call_and_return_conditional_losses, lstm_cell_45_layer_call_fn, lstm_cell_45_layer_call_and_return_conditional_losses while saving (showing 4 of 4). These functions will not be directly callable after loading.\n"
     ]
    },
    {
     "name": "stdout",
     "output_type": "stream",
     "text": [
      "INFO:tensorflow:Assets written to: ram://ebbcd18f-18af-469d-bb88-f2b72f8c4c9b/assets\n"
     ]
    },
    {
     "name": "stderr",
     "output_type": "stream",
     "text": [
      "INFO:tensorflow:Assets written to: ram://ebbcd18f-18af-469d-bb88-f2b72f8c4c9b/assets\n",
      "WARNING:absl:Found untraced functions such as gru_cell_46_layer_call_fn, gru_cell_46_layer_call_and_return_conditional_losses, gru_cell_47_layer_call_fn, gru_cell_47_layer_call_and_return_conditional_losses while saving (showing 4 of 4). These functions will not be directly callable after loading.\n"
     ]
    },
    {
     "name": "stdout",
     "output_type": "stream",
     "text": [
      "INFO:tensorflow:Assets written to: ram://a15cc830-7e21-4c91-ab54-6bda0b54ef54/assets\n"
     ]
    },
    {
     "name": "stderr",
     "output_type": "stream",
     "text": [
      "INFO:tensorflow:Assets written to: ram://a15cc830-7e21-4c91-ab54-6bda0b54ef54/assets\n"
     ]
    },
    {
     "name": "stdout",
     "output_type": "stream",
     "text": [
      "Epoch 1/3\n",
      "657/657 [==============================] - 5s 4ms/step - loss: 0.9461 - val_loss: 0.7041\n",
      "Epoch 2/3\n",
      "657/657 [==============================] - 2s 3ms/step - loss: 0.5838 - val_loss: 0.4082\n",
      "Epoch 3/3\n",
      "657/657 [==============================] - 2s 3ms/step - loss: 0.3559 - val_loss: 0.2413\n",
      "221/221 [==============================] - 1s 1ms/step\n",
      "221/221 [==============================] - 1s 1ms/step\n"
     ]
    },
    {
     "name": "stderr",
     "output_type": "stream",
     "text": [
      "WARNING:absl:Found untraced functions such as lstm_cell_46_layer_call_fn, lstm_cell_46_layer_call_and_return_conditional_losses, lstm_cell_47_layer_call_fn, lstm_cell_47_layer_call_and_return_conditional_losses while saving (showing 4 of 4). These functions will not be directly callable after loading.\n"
     ]
    },
    {
     "name": "stdout",
     "output_type": "stream",
     "text": [
      "INFO:tensorflow:Assets written to: ram://871f0f9d-ca22-435c-9c12-8dcd2f38af45/assets\n"
     ]
    },
    {
     "name": "stderr",
     "output_type": "stream",
     "text": [
      "INFO:tensorflow:Assets written to: ram://871f0f9d-ca22-435c-9c12-8dcd2f38af45/assets\n",
      "WARNING:absl:Found untraced functions such as gru_cell_48_layer_call_fn, gru_cell_48_layer_call_and_return_conditional_losses, gru_cell_49_layer_call_fn, gru_cell_49_layer_call_and_return_conditional_losses while saving (showing 4 of 4). These functions will not be directly callable after loading.\n"
     ]
    },
    {
     "name": "stdout",
     "output_type": "stream",
     "text": [
      "INFO:tensorflow:Assets written to: ram://268d6319-a3cc-48ae-a303-d46db0cfd08a/assets\n"
     ]
    },
    {
     "name": "stderr",
     "output_type": "stream",
     "text": [
      "INFO:tensorflow:Assets written to: ram://268d6319-a3cc-48ae-a303-d46db0cfd08a/assets\n"
     ]
    },
    {
     "name": "stdout",
     "output_type": "stream",
     "text": [
      "Epoch 1/3\n",
      "657/657 [==============================] - 4s 3ms/step - loss: 1.0768 - val_loss: 0.7155\n",
      "Epoch 2/3\n",
      "657/657 [==============================] - 2s 3ms/step - loss: 0.7924 - val_loss: 0.6107\n",
      "Epoch 3/3\n",
      "657/657 [==============================] - 2s 3ms/step - loss: 0.6511 - val_loss: 0.4915\n",
      "221/221 [==============================] - 1s 1ms/step\n",
      "221/221 [==============================] - 1s 983us/step\n"
     ]
    },
    {
     "name": "stderr",
     "output_type": "stream",
     "text": [
      "WARNING:absl:Found untraced functions such as lstm_cell_48_layer_call_fn, lstm_cell_48_layer_call_and_return_conditional_losses, lstm_cell_49_layer_call_fn, lstm_cell_49_layer_call_and_return_conditional_losses while saving (showing 4 of 4). These functions will not be directly callable after loading.\n"
     ]
    },
    {
     "name": "stdout",
     "output_type": "stream",
     "text": [
      "INFO:tensorflow:Assets written to: ram://ea2144eb-4955-419d-8922-192c9de69586/assets\n"
     ]
    },
    {
     "name": "stderr",
     "output_type": "stream",
     "text": [
      "INFO:tensorflow:Assets written to: ram://ea2144eb-4955-419d-8922-192c9de69586/assets\n",
      "WARNING:absl:Found untraced functions such as gru_cell_50_layer_call_fn, gru_cell_50_layer_call_and_return_conditional_losses, gru_cell_51_layer_call_fn, gru_cell_51_layer_call_and_return_conditional_losses while saving (showing 4 of 4). These functions will not be directly callable after loading.\n"
     ]
    },
    {
     "name": "stdout",
     "output_type": "stream",
     "text": [
      "INFO:tensorflow:Assets written to: ram://b30896cd-e5d2-4817-9d00-22a787e79e05/assets\n"
     ]
    },
    {
     "name": "stderr",
     "output_type": "stream",
     "text": [
      "INFO:tensorflow:Assets written to: ram://b30896cd-e5d2-4817-9d00-22a787e79e05/assets\n"
     ]
    },
    {
     "name": "stdout",
     "output_type": "stream",
     "text": [
      "Epoch 1/3\n",
      "657/657 [==============================] - 4s 4ms/step - loss: 1.0570 - val_loss: 0.7248\n",
      "Epoch 2/3\n",
      "657/657 [==============================] - 2s 3ms/step - loss: 0.6952 - val_loss: 0.5455\n",
      "Epoch 3/3\n",
      "657/657 [==============================] - 2s 3ms/step - loss: 0.5415 - val_loss: 0.3924\n",
      "221/221 [==============================] - 1s 1ms/step\n",
      "221/221 [==============================] - 1s 980us/step\n"
     ]
    },
    {
     "name": "stderr",
     "output_type": "stream",
     "text": [
      "WARNING:absl:Found untraced functions such as lstm_cell_50_layer_call_fn, lstm_cell_50_layer_call_and_return_conditional_losses, lstm_cell_51_layer_call_fn, lstm_cell_51_layer_call_and_return_conditional_losses while saving (showing 4 of 4). These functions will not be directly callable after loading.\n"
     ]
    },
    {
     "name": "stdout",
     "output_type": "stream",
     "text": [
      "INFO:tensorflow:Assets written to: ram://499e6322-97a8-4735-8771-491295c8af89/assets\n"
     ]
    },
    {
     "name": "stderr",
     "output_type": "stream",
     "text": [
      "INFO:tensorflow:Assets written to: ram://499e6322-97a8-4735-8771-491295c8af89/assets\n",
      "WARNING:absl:Found untraced functions such as gru_cell_52_layer_call_fn, gru_cell_52_layer_call_and_return_conditional_losses, gru_cell_53_layer_call_fn, gru_cell_53_layer_call_and_return_conditional_losses while saving (showing 4 of 4). These functions will not be directly callable after loading.\n"
     ]
    },
    {
     "name": "stdout",
     "output_type": "stream",
     "text": [
      "INFO:tensorflow:Assets written to: ram://542c7c4c-f3fa-4159-9e50-b73ccf5502f9/assets\n"
     ]
    },
    {
     "name": "stderr",
     "output_type": "stream",
     "text": [
      "INFO:tensorflow:Assets written to: ram://542c7c4c-f3fa-4159-9e50-b73ccf5502f9/assets\n"
     ]
    },
    {
     "name": "stdout",
     "output_type": "stream",
     "text": [
      "Epoch 1/3\n",
      "657/657 [==============================] - 4s 3ms/step - loss: 1.1079 - val_loss: 0.7533\n",
      "Epoch 2/3\n",
      "657/657 [==============================] - 2s 3ms/step - loss: 0.8044 - val_loss: 0.6539\n",
      "Epoch 3/3\n",
      "657/657 [==============================] - 2s 3ms/step - loss: 0.6511 - val_loss: 0.5268\n",
      "221/221 [==============================] - 1s 1ms/step\n",
      "221/221 [==============================] - 1s 1ms/step\n"
     ]
    },
    {
     "name": "stderr",
     "output_type": "stream",
     "text": [
      "WARNING:absl:Found untraced functions such as lstm_cell_52_layer_call_fn, lstm_cell_52_layer_call_and_return_conditional_losses, lstm_cell_53_layer_call_fn, lstm_cell_53_layer_call_and_return_conditional_losses while saving (showing 4 of 4). These functions will not be directly callable after loading.\n"
     ]
    },
    {
     "name": "stdout",
     "output_type": "stream",
     "text": [
      "INFO:tensorflow:Assets written to: ram://03e329ec-134d-48d2-b1ae-d3abe9adfc08/assets\n"
     ]
    },
    {
     "name": "stderr",
     "output_type": "stream",
     "text": [
      "INFO:tensorflow:Assets written to: ram://03e329ec-134d-48d2-b1ae-d3abe9adfc08/assets\n",
      "WARNING:absl:Found untraced functions such as gru_cell_54_layer_call_fn, gru_cell_54_layer_call_and_return_conditional_losses, gru_cell_55_layer_call_fn, gru_cell_55_layer_call_and_return_conditional_losses while saving (showing 4 of 4). These functions will not be directly callable after loading.\n"
     ]
    },
    {
     "name": "stdout",
     "output_type": "stream",
     "text": [
      "INFO:tensorflow:Assets written to: ram://d2272b85-c837-48e9-a9a5-ca020257ebed/assets\n"
     ]
    },
    {
     "name": "stderr",
     "output_type": "stream",
     "text": [
      "INFO:tensorflow:Assets written to: ram://d2272b85-c837-48e9-a9a5-ca020257ebed/assets\n"
     ]
    },
    {
     "name": "stdout",
     "output_type": "stream",
     "text": [
      "Epoch 1/3\n",
      "657/657 [==============================] - 5s 4ms/step - loss: 1.0893 - val_loss: 0.7467\n",
      "Epoch 2/3\n",
      "657/657 [==============================] - 2s 3ms/step - loss: 0.6882 - val_loss: 0.5479\n",
      "Epoch 3/3\n",
      "657/657 [==============================] - 2s 3ms/step - loss: 0.5151 - val_loss: 0.3796\n",
      "221/221 [==============================] - 1s 1ms/step\n",
      "221/221 [==============================] - 1s 1ms/step\n"
     ]
    },
    {
     "name": "stderr",
     "output_type": "stream",
     "text": [
      "WARNING:absl:Found untraced functions such as lstm_cell_54_layer_call_fn, lstm_cell_54_layer_call_and_return_conditional_losses, lstm_cell_55_layer_call_fn, lstm_cell_55_layer_call_and_return_conditional_losses while saving (showing 4 of 4). These functions will not be directly callable after loading.\n"
     ]
    },
    {
     "name": "stdout",
     "output_type": "stream",
     "text": [
      "INFO:tensorflow:Assets written to: ram://a31783b2-13af-455f-9732-352aa0321096/assets\n"
     ]
    },
    {
     "name": "stderr",
     "output_type": "stream",
     "text": [
      "INFO:tensorflow:Assets written to: ram://a31783b2-13af-455f-9732-352aa0321096/assets\n",
      "WARNING:absl:Found untraced functions such as gru_cell_56_layer_call_fn, gru_cell_56_layer_call_and_return_conditional_losses, gru_cell_57_layer_call_fn, gru_cell_57_layer_call_and_return_conditional_losses while saving (showing 4 of 4). These functions will not be directly callable after loading.\n"
     ]
    },
    {
     "name": "stdout",
     "output_type": "stream",
     "text": [
      "INFO:tensorflow:Assets written to: ram://d4164f35-d274-4ec2-a419-e4e999987208/assets\n"
     ]
    },
    {
     "name": "stderr",
     "output_type": "stream",
     "text": [
      "INFO:tensorflow:Assets written to: ram://d4164f35-d274-4ec2-a419-e4e999987208/assets\n"
     ]
    },
    {
     "name": "stdout",
     "output_type": "stream",
     "text": [
      "Epoch 1/3\n",
      "657/657 [==============================] - 5s 4ms/step - loss: 0.9743 - val_loss: 0.8079\n",
      "Epoch 2/3\n",
      "657/657 [==============================] - 2s 3ms/step - loss: 0.6631 - val_loss: 0.5999\n",
      "Epoch 3/3\n",
      "657/657 [==============================] - 2s 3ms/step - loss: 0.4887 - val_loss: 0.4189\n",
      "221/221 [==============================] - 1s 1ms/step\n",
      "221/221 [==============================] - 1s 1ms/step\n"
     ]
    },
    {
     "name": "stderr",
     "output_type": "stream",
     "text": [
      "WARNING:absl:Found untraced functions such as lstm_cell_56_layer_call_fn, lstm_cell_56_layer_call_and_return_conditional_losses, lstm_cell_57_layer_call_fn, lstm_cell_57_layer_call_and_return_conditional_losses while saving (showing 4 of 4). These functions will not be directly callable after loading.\n"
     ]
    },
    {
     "name": "stdout",
     "output_type": "stream",
     "text": [
      "INFO:tensorflow:Assets written to: ram://7b97d3d7-e1aa-4b40-8bfe-1d9ae0992fd8/assets\n"
     ]
    },
    {
     "name": "stderr",
     "output_type": "stream",
     "text": [
      "INFO:tensorflow:Assets written to: ram://7b97d3d7-e1aa-4b40-8bfe-1d9ae0992fd8/assets\n",
      "WARNING:absl:Found untraced functions such as gru_cell_58_layer_call_fn, gru_cell_58_layer_call_and_return_conditional_losses, gru_cell_59_layer_call_fn, gru_cell_59_layer_call_and_return_conditional_losses while saving (showing 4 of 4). These functions will not be directly callable after loading.\n"
     ]
    },
    {
     "name": "stdout",
     "output_type": "stream",
     "text": [
      "INFO:tensorflow:Assets written to: ram://90ff70d8-5fb4-4c3b-82d7-71c93d5c1d1d/assets\n"
     ]
    },
    {
     "name": "stderr",
     "output_type": "stream",
     "text": [
      "INFO:tensorflow:Assets written to: ram://90ff70d8-5fb4-4c3b-82d7-71c93d5c1d1d/assets\n"
     ]
    },
    {
     "name": "stdout",
     "output_type": "stream",
     "text": [
      "Epoch 1/3\n",
      "657/657 [==============================] - 4s 3ms/step - loss: 0.8560 - val_loss: 0.6510\n",
      "Epoch 2/3\n",
      "657/657 [==============================] - 2s 3ms/step - loss: 0.5110 - val_loss: 0.3992\n",
      "Epoch 3/3\n",
      "657/657 [==============================] - 2s 3ms/step - loss: 0.3155 - val_loss: 0.2260\n",
      "221/221 [==============================] - 1s 1ms/step\n",
      "221/221 [==============================] - 1s 1ms/step\n"
     ]
    },
    {
     "name": "stderr",
     "output_type": "stream",
     "text": [
      "WARNING:absl:Found untraced functions such as lstm_cell_58_layer_call_fn, lstm_cell_58_layer_call_and_return_conditional_losses, lstm_cell_59_layer_call_fn, lstm_cell_59_layer_call_and_return_conditional_losses while saving (showing 4 of 4). These functions will not be directly callable after loading.\n"
     ]
    },
    {
     "name": "stdout",
     "output_type": "stream",
     "text": [
      "INFO:tensorflow:Assets written to: ram://6d5adddf-3e51-481b-bb05-c2bda45a07ed/assets\n"
     ]
    },
    {
     "name": "stderr",
     "output_type": "stream",
     "text": [
      "INFO:tensorflow:Assets written to: ram://6d5adddf-3e51-481b-bb05-c2bda45a07ed/assets\n",
      "WARNING:absl:Found untraced functions such as gru_cell_60_layer_call_fn, gru_cell_60_layer_call_and_return_conditional_losses, gru_cell_61_layer_call_fn, gru_cell_61_layer_call_and_return_conditional_losses while saving (showing 4 of 4). These functions will not be directly callable after loading.\n"
     ]
    },
    {
     "name": "stdout",
     "output_type": "stream",
     "text": [
      "INFO:tensorflow:Assets written to: ram://3317853e-5be4-4936-8f8e-362af41a5889/assets\n"
     ]
    },
    {
     "name": "stderr",
     "output_type": "stream",
     "text": [
      "INFO:tensorflow:Assets written to: ram://3317853e-5be4-4936-8f8e-362af41a5889/assets\n"
     ]
    },
    {
     "name": "stdout",
     "output_type": "stream",
     "text": [
      "Epoch 1/3\n",
      "657/657 [==============================] - 4s 4ms/step - loss: 0.9698 - val_loss: 0.8245\n",
      "Epoch 2/3\n",
      "657/657 [==============================] - 2s 3ms/step - loss: 0.6530 - val_loss: 0.5950\n",
      "Epoch 3/3\n",
      "657/657 [==============================] - 2s 3ms/step - loss: 0.4582 - val_loss: 0.3943\n",
      "221/221 [==============================] - 1s 1ms/step\n",
      "221/221 [==============================] - 1s 1ms/step\n"
     ]
    },
    {
     "name": "stderr",
     "output_type": "stream",
     "text": [
      "WARNING:absl:Found untraced functions such as lstm_cell_60_layer_call_fn, lstm_cell_60_layer_call_and_return_conditional_losses, lstm_cell_61_layer_call_fn, lstm_cell_61_layer_call_and_return_conditional_losses while saving (showing 4 of 4). These functions will not be directly callable after loading.\n"
     ]
    },
    {
     "name": "stdout",
     "output_type": "stream",
     "text": [
      "INFO:tensorflow:Assets written to: ram://8395c39c-c388-439b-b6b8-410653203b89/assets\n"
     ]
    },
    {
     "name": "stderr",
     "output_type": "stream",
     "text": [
      "INFO:tensorflow:Assets written to: ram://8395c39c-c388-439b-b6b8-410653203b89/assets\n",
      "WARNING:absl:Found untraced functions such as gru_cell_62_layer_call_fn, gru_cell_62_layer_call_and_return_conditional_losses, gru_cell_63_layer_call_fn, gru_cell_63_layer_call_and_return_conditional_losses while saving (showing 4 of 4). These functions will not be directly callable after loading.\n"
     ]
    },
    {
     "name": "stdout",
     "output_type": "stream",
     "text": [
      "INFO:tensorflow:Assets written to: ram://f8ee6270-7957-42f9-b260-0e3bbde0b4a0/assets\n"
     ]
    },
    {
     "name": "stderr",
     "output_type": "stream",
     "text": [
      "INFO:tensorflow:Assets written to: ram://f8ee6270-7957-42f9-b260-0e3bbde0b4a0/assets\n"
     ]
    },
    {
     "name": "stdout",
     "output_type": "stream",
     "text": [
      "Epoch 1/3\n",
      "657/657 [==============================] - 5s 4ms/step - loss: 0.8628 - val_loss: 0.6561\n",
      "Epoch 2/3\n",
      "657/657 [==============================] - 2s 3ms/step - loss: 0.4773 - val_loss: 0.3585\n",
      "Epoch 3/3\n",
      "657/657 [==============================] - 2s 3ms/step - loss: 0.2543 - val_loss: 0.1792\n",
      "221/221 [==============================] - 1s 1ms/step\n",
      "221/221 [==============================] - 1s 1ms/step\n"
     ]
    },
    {
     "name": "stderr",
     "output_type": "stream",
     "text": [
      "WARNING:absl:Found untraced functions such as lstm_cell_62_layer_call_fn, lstm_cell_62_layer_call_and_return_conditional_losses, lstm_cell_63_layer_call_fn, lstm_cell_63_layer_call_and_return_conditional_losses while saving (showing 4 of 4). These functions will not be directly callable after loading.\n"
     ]
    },
    {
     "name": "stdout",
     "output_type": "stream",
     "text": [
      "INFO:tensorflow:Assets written to: ram://80d7d2bb-eeda-4d16-adc6-2db9c97e6185/assets\n"
     ]
    },
    {
     "name": "stderr",
     "output_type": "stream",
     "text": [
      "INFO:tensorflow:Assets written to: ram://80d7d2bb-eeda-4d16-adc6-2db9c97e6185/assets\n",
      "WARNING:absl:Found untraced functions such as gru_cell_64_layer_call_fn, gru_cell_64_layer_call_and_return_conditional_losses, gru_cell_65_layer_call_fn, gru_cell_65_layer_call_and_return_conditional_losses while saving (showing 4 of 4). These functions will not be directly callable after loading.\n"
     ]
    },
    {
     "name": "stdout",
     "output_type": "stream",
     "text": [
      "INFO:tensorflow:Assets written to: ram://642e6e45-9ec1-4837-b24b-c57c73602bdf/assets\n"
     ]
    },
    {
     "name": "stderr",
     "output_type": "stream",
     "text": [
      "INFO:tensorflow:Assets written to: ram://642e6e45-9ec1-4837-b24b-c57c73602bdf/assets\n"
     ]
    },
    {
     "name": "stdout",
     "output_type": "stream",
     "text": [
      "Epoch 1/3\n",
      "657/657 [==============================] - 4s 3ms/step - loss: 1.1072 - val_loss: 0.7355\n",
      "Epoch 2/3\n",
      "657/657 [==============================] - 2s 3ms/step - loss: 0.7775 - val_loss: 0.6260\n",
      "Epoch 3/3\n",
      "657/657 [==============================] - 2s 3ms/step - loss: 0.6242 - val_loss: 0.4706\n",
      "221/221 [==============================] - 1s 1ms/step\n",
      "221/221 [==============================] - 1s 994us/step\n"
     ]
    },
    {
     "name": "stderr",
     "output_type": "stream",
     "text": [
      "WARNING:absl:Found untraced functions such as lstm_cell_64_layer_call_fn, lstm_cell_64_layer_call_and_return_conditional_losses, lstm_cell_65_layer_call_fn, lstm_cell_65_layer_call_and_return_conditional_losses while saving (showing 4 of 4). These functions will not be directly callable after loading.\n"
     ]
    },
    {
     "name": "stdout",
     "output_type": "stream",
     "text": [
      "INFO:tensorflow:Assets written to: ram://85311952-7d82-478d-a97b-f4794472626b/assets\n"
     ]
    },
    {
     "name": "stderr",
     "output_type": "stream",
     "text": [
      "INFO:tensorflow:Assets written to: ram://85311952-7d82-478d-a97b-f4794472626b/assets\n",
      "WARNING:absl:Found untraced functions such as gru_cell_66_layer_call_fn, gru_cell_66_layer_call_and_return_conditional_losses, gru_cell_67_layer_call_fn, gru_cell_67_layer_call_and_return_conditional_losses while saving (showing 4 of 4). These functions will not be directly callable after loading.\n"
     ]
    },
    {
     "name": "stdout",
     "output_type": "stream",
     "text": [
      "INFO:tensorflow:Assets written to: ram://08583a5d-19eb-4621-83ea-b7d598d789b9/assets\n"
     ]
    },
    {
     "name": "stderr",
     "output_type": "stream",
     "text": [
      "INFO:tensorflow:Assets written to: ram://08583a5d-19eb-4621-83ea-b7d598d789b9/assets\n"
     ]
    },
    {
     "name": "stdout",
     "output_type": "stream",
     "text": [
      "Epoch 1/3\n",
      "657/657 [==============================] - 4s 3ms/step - loss: 0.9050 - val_loss: 0.6854\n",
      "Epoch 2/3\n",
      "657/657 [==============================] - 2s 3ms/step - loss: 0.6193 - val_loss: 0.4563\n",
      "Epoch 3/3\n",
      "657/657 [==============================] - 2s 3ms/step - loss: 0.4404 - val_loss: 0.2827\n",
      "221/221 [==============================] - 1s 1ms/step\n",
      "221/221 [==============================] - 1s 998us/step\n"
     ]
    },
    {
     "name": "stderr",
     "output_type": "stream",
     "text": [
      "WARNING:absl:Found untraced functions such as lstm_cell_66_layer_call_fn, lstm_cell_66_layer_call_and_return_conditional_losses, lstm_cell_67_layer_call_fn, lstm_cell_67_layer_call_and_return_conditional_losses while saving (showing 4 of 4). These functions will not be directly callable after loading.\n"
     ]
    },
    {
     "name": "stdout",
     "output_type": "stream",
     "text": [
      "INFO:tensorflow:Assets written to: ram://8e5ce57c-f99f-4a86-a68f-f76936faf047/assets\n"
     ]
    },
    {
     "name": "stderr",
     "output_type": "stream",
     "text": [
      "INFO:tensorflow:Assets written to: ram://8e5ce57c-f99f-4a86-a68f-f76936faf047/assets\n",
      "WARNING:absl:Found untraced functions such as gru_cell_68_layer_call_fn, gru_cell_68_layer_call_and_return_conditional_losses, gru_cell_69_layer_call_fn, gru_cell_69_layer_call_and_return_conditional_losses while saving (showing 4 of 4). These functions will not be directly callable after loading.\n"
     ]
    },
    {
     "name": "stdout",
     "output_type": "stream",
     "text": [
      "INFO:tensorflow:Assets written to: ram://6fb0f08b-b4fc-475c-99a3-2948636b2f52/assets\n"
     ]
    },
    {
     "name": "stderr",
     "output_type": "stream",
     "text": [
      "INFO:tensorflow:Assets written to: ram://6fb0f08b-b4fc-475c-99a3-2948636b2f52/assets\n"
     ]
    },
    {
     "name": "stdout",
     "output_type": "stream",
     "text": [
      "Epoch 1/3\n",
      "657/657 [==============================] - 4s 4ms/step - loss: 1.1041 - val_loss: 0.7519\n",
      "Epoch 2/3\n",
      "657/657 [==============================] - 2s 3ms/step - loss: 0.7604 - val_loss: 0.6139\n",
      "Epoch 3/3\n",
      "657/657 [==============================] - 2s 3ms/step - loss: 0.5864 - val_loss: 0.4259\n",
      "221/221 [==============================] - 1s 1ms/step\n",
      "221/221 [==============================] - 1s 1ms/step\n"
     ]
    },
    {
     "name": "stderr",
     "output_type": "stream",
     "text": [
      "WARNING:absl:Found untraced functions such as lstm_cell_68_layer_call_fn, lstm_cell_68_layer_call_and_return_conditional_losses, lstm_cell_69_layer_call_fn, lstm_cell_69_layer_call_and_return_conditional_losses while saving (showing 4 of 4). These functions will not be directly callable after loading.\n"
     ]
    },
    {
     "name": "stdout",
     "output_type": "stream",
     "text": [
      "INFO:tensorflow:Assets written to: ram://faff571b-c94d-4403-9c8f-96cdfaed0200/assets\n"
     ]
    },
    {
     "name": "stderr",
     "output_type": "stream",
     "text": [
      "INFO:tensorflow:Assets written to: ram://faff571b-c94d-4403-9c8f-96cdfaed0200/assets\n",
      "WARNING:absl:Found untraced functions such as gru_cell_70_layer_call_fn, gru_cell_70_layer_call_and_return_conditional_losses, gru_cell_71_layer_call_fn, gru_cell_71_layer_call_and_return_conditional_losses while saving (showing 4 of 4). These functions will not be directly callable after loading.\n"
     ]
    },
    {
     "name": "stdout",
     "output_type": "stream",
     "text": [
      "INFO:tensorflow:Assets written to: ram://1d4bcb45-2fd0-4e9b-9733-afe9d9ef57f6/assets\n"
     ]
    },
    {
     "name": "stderr",
     "output_type": "stream",
     "text": [
      "INFO:tensorflow:Assets written to: ram://1d4bcb45-2fd0-4e9b-9733-afe9d9ef57f6/assets\n"
     ]
    },
    {
     "name": "stdout",
     "output_type": "stream",
     "text": [
      "Epoch 1/3\n",
      "657/657 [==============================] - 4s 4ms/step - loss: 0.9200 - val_loss: 0.6788\n",
      "Epoch 2/3\n",
      "657/657 [==============================] - 2s 3ms/step - loss: 0.5857 - val_loss: 0.3883\n",
      "Epoch 3/3\n",
      "657/657 [==============================] - 2s 3ms/step - loss: 0.3937 - val_loss: 0.2262\n",
      "221/221 [==============================] - 1s 1ms/step\n",
      "221/221 [==============================] - 1s 1ms/step\n"
     ]
    },
    {
     "name": "stderr",
     "output_type": "stream",
     "text": [
      "WARNING:absl:Found untraced functions such as lstm_cell_70_layer_call_fn, lstm_cell_70_layer_call_and_return_conditional_losses, lstm_cell_71_layer_call_fn, lstm_cell_71_layer_call_and_return_conditional_losses while saving (showing 4 of 4). These functions will not be directly callable after loading.\n"
     ]
    },
    {
     "name": "stdout",
     "output_type": "stream",
     "text": [
      "INFO:tensorflow:Assets written to: ram://f74c0708-2b6e-4535-ba0c-1667fcef7035/assets\n"
     ]
    },
    {
     "name": "stderr",
     "output_type": "stream",
     "text": [
      "INFO:tensorflow:Assets written to: ram://f74c0708-2b6e-4535-ba0c-1667fcef7035/assets\n",
      "WARNING:absl:Found untraced functions such as gru_cell_72_layer_call_fn, gru_cell_72_layer_call_and_return_conditional_losses, gru_cell_73_layer_call_fn, gru_cell_73_layer_call_and_return_conditional_losses while saving (showing 4 of 4). These functions will not be directly callable after loading.\n"
     ]
    },
    {
     "name": "stdout",
     "output_type": "stream",
     "text": [
      "INFO:tensorflow:Assets written to: ram://e97fbc2b-6b70-4376-9ea5-50137c8162c6/assets\n"
     ]
    },
    {
     "name": "stderr",
     "output_type": "stream",
     "text": [
      "INFO:tensorflow:Assets written to: ram://e97fbc2b-6b70-4376-9ea5-50137c8162c6/assets\n"
     ]
    },
    {
     "name": "stdout",
     "output_type": "stream",
     "text": [
      "Epoch 1/3\n",
      "657/657 [==============================] - 5s 4ms/step - loss: 1.1661 - val_loss: 0.7742\n",
      "Epoch 2/3\n",
      "657/657 [==============================] - 2s 3ms/step - loss: 0.8276 - val_loss: 0.6923\n",
      "Epoch 3/3\n",
      "657/657 [==============================] - 2s 3ms/step - loss: 0.6675 - val_loss: 0.5391\n",
      "221/221 [==============================] - 1s 1ms/step\n",
      "221/221 [==============================] - 1s 1ms/step\n"
     ]
    },
    {
     "name": "stderr",
     "output_type": "stream",
     "text": [
      "WARNING:absl:Found untraced functions such as lstm_cell_72_layer_call_fn, lstm_cell_72_layer_call_and_return_conditional_losses, lstm_cell_73_layer_call_fn, lstm_cell_73_layer_call_and_return_conditional_losses while saving (showing 4 of 4). These functions will not be directly callable after loading.\n"
     ]
    },
    {
     "name": "stdout",
     "output_type": "stream",
     "text": [
      "INFO:tensorflow:Assets written to: ram://67f7d4f8-2e43-428b-ab5f-d00c1c231c97/assets\n"
     ]
    },
    {
     "name": "stderr",
     "output_type": "stream",
     "text": [
      "INFO:tensorflow:Assets written to: ram://67f7d4f8-2e43-428b-ab5f-d00c1c231c97/assets\n",
      "WARNING:absl:Found untraced functions such as gru_cell_74_layer_call_fn, gru_cell_74_layer_call_and_return_conditional_losses, gru_cell_75_layer_call_fn, gru_cell_75_layer_call_and_return_conditional_losses while saving (showing 4 of 4). These functions will not be directly callable after loading.\n"
     ]
    },
    {
     "name": "stdout",
     "output_type": "stream",
     "text": [
      "INFO:tensorflow:Assets written to: ram://7e0a5773-04bd-42d5-92d8-68844b1cd926/assets\n"
     ]
    },
    {
     "name": "stderr",
     "output_type": "stream",
     "text": [
      "INFO:tensorflow:Assets written to: ram://7e0a5773-04bd-42d5-92d8-68844b1cd926/assets\n"
     ]
    },
    {
     "name": "stdout",
     "output_type": "stream",
     "text": [
      "Epoch 1/3\n",
      "657/657 [==============================] - 4s 4ms/step - loss: 0.9480 - val_loss: 0.7441\n",
      "Epoch 2/3\n",
      "657/657 [==============================] - 2s 3ms/step - loss: 0.6528 - val_loss: 0.4783\n",
      "Epoch 3/3\n",
      "657/657 [==============================] - 2s 3ms/step - loss: 0.4665 - val_loss: 0.2827\n",
      "221/221 [==============================] - 1s 1ms/step\n",
      "221/221 [==============================] - 1s 1ms/step\n"
     ]
    },
    {
     "name": "stderr",
     "output_type": "stream",
     "text": [
      "WARNING:absl:Found untraced functions such as lstm_cell_74_layer_call_fn, lstm_cell_74_layer_call_and_return_conditional_losses, lstm_cell_75_layer_call_fn, lstm_cell_75_layer_call_and_return_conditional_losses while saving (showing 4 of 4). These functions will not be directly callable after loading.\n"
     ]
    },
    {
     "name": "stdout",
     "output_type": "stream",
     "text": [
      "INFO:tensorflow:Assets written to: ram://c4ab3b47-38ad-45cc-9dfb-c1150d2d5e91/assets\n"
     ]
    },
    {
     "name": "stderr",
     "output_type": "stream",
     "text": [
      "INFO:tensorflow:Assets written to: ram://c4ab3b47-38ad-45cc-9dfb-c1150d2d5e91/assets\n",
      "WARNING:absl:Found untraced functions such as gru_cell_76_layer_call_fn, gru_cell_76_layer_call_and_return_conditional_losses, gru_cell_77_layer_call_fn, gru_cell_77_layer_call_and_return_conditional_losses while saving (showing 4 of 4). These functions will not be directly callable after loading.\n"
     ]
    },
    {
     "name": "stdout",
     "output_type": "stream",
     "text": [
      "INFO:tensorflow:Assets written to: ram://54fdb7ad-26f7-4cac-8ecc-c1e35807e012/assets\n"
     ]
    },
    {
     "name": "stderr",
     "output_type": "stream",
     "text": [
      "INFO:tensorflow:Assets written to: ram://54fdb7ad-26f7-4cac-8ecc-c1e35807e012/assets\n"
     ]
    },
    {
     "name": "stdout",
     "output_type": "stream",
     "text": [
      "Epoch 1/3\n",
      "657/657 [==============================] - 4s 4ms/step - loss: 1.1581 - val_loss: 0.8018\n",
      "Epoch 2/3\n",
      "657/657 [==============================] - 2s 3ms/step - loss: 0.8084 - val_loss: 0.6974\n",
      "Epoch 3/3\n",
      "657/657 [==============================] - 2s 3ms/step - loss: 0.6296 - val_loss: 0.5093\n",
      "221/221 [==============================] - 1s 1ms/step\n",
      "221/221 [==============================] - 1s 1ms/step\n"
     ]
    },
    {
     "name": "stderr",
     "output_type": "stream",
     "text": [
      "WARNING:absl:Found untraced functions such as lstm_cell_76_layer_call_fn, lstm_cell_76_layer_call_and_return_conditional_losses, lstm_cell_77_layer_call_fn, lstm_cell_77_layer_call_and_return_conditional_losses while saving (showing 4 of 4). These functions will not be directly callable after loading.\n"
     ]
    },
    {
     "name": "stdout",
     "output_type": "stream",
     "text": [
      "INFO:tensorflow:Assets written to: ram://e0adcdbb-453f-4ec1-a6da-e35da9a43069/assets\n"
     ]
    },
    {
     "name": "stderr",
     "output_type": "stream",
     "text": [
      "INFO:tensorflow:Assets written to: ram://e0adcdbb-453f-4ec1-a6da-e35da9a43069/assets\n",
      "WARNING:absl:Found untraced functions such as gru_cell_78_layer_call_fn, gru_cell_78_layer_call_and_return_conditional_losses, gru_cell_79_layer_call_fn, gru_cell_79_layer_call_and_return_conditional_losses while saving (showing 4 of 4). These functions will not be directly callable after loading.\n"
     ]
    },
    {
     "name": "stdout",
     "output_type": "stream",
     "text": [
      "INFO:tensorflow:Assets written to: ram://94247018-d6ab-477e-b07d-b60f0b7df540/assets\n"
     ]
    },
    {
     "name": "stderr",
     "output_type": "stream",
     "text": [
      "INFO:tensorflow:Assets written to: ram://94247018-d6ab-477e-b07d-b60f0b7df540/assets\n"
     ]
    },
    {
     "name": "stdout",
     "output_type": "stream",
     "text": [
      "Epoch 1/3\n",
      "657/657 [==============================] - 4s 4ms/step - loss: 0.9475 - val_loss: 0.7352\n",
      "Epoch 2/3\n",
      "657/657 [==============================] - 2s 3ms/step - loss: 0.6189 - val_loss: 0.4173\n",
      "Epoch 3/3\n",
      "657/657 [==============================] - 2s 3ms/step - loss: 0.4069 - val_loss: 0.2283\n",
      "221/221 [==============================] - 1s 1ms/step\n",
      "221/221 [==============================] - 1s 1ms/step\n"
     ]
    },
    {
     "name": "stderr",
     "output_type": "stream",
     "text": [
      "WARNING:absl:Found untraced functions such as lstm_cell_78_layer_call_fn, lstm_cell_78_layer_call_and_return_conditional_losses, lstm_cell_79_layer_call_fn, lstm_cell_79_layer_call_and_return_conditional_losses while saving (showing 4 of 4). These functions will not be directly callable after loading.\n"
     ]
    },
    {
     "name": "stdout",
     "output_type": "stream",
     "text": [
      "INFO:tensorflow:Assets written to: ram://78021c79-485b-40e1-bab0-7cbe75ea4a17/assets\n"
     ]
    },
    {
     "name": "stderr",
     "output_type": "stream",
     "text": [
      "INFO:tensorflow:Assets written to: ram://78021c79-485b-40e1-bab0-7cbe75ea4a17/assets\n",
      "WARNING:absl:Found untraced functions such as gru_cell_80_layer_call_fn, gru_cell_80_layer_call_and_return_conditional_losses, gru_cell_81_layer_call_fn, gru_cell_81_layer_call_and_return_conditional_losses while saving (showing 4 of 4). These functions will not be directly callable after loading.\n"
     ]
    },
    {
     "name": "stdout",
     "output_type": "stream",
     "text": [
      "INFO:tensorflow:Assets written to: ram://2c9ef465-9fb4-4999-b271-255649d7d956/assets\n"
     ]
    },
    {
     "name": "stderr",
     "output_type": "stream",
     "text": [
      "INFO:tensorflow:Assets written to: ram://2c9ef465-9fb4-4999-b271-255649d7d956/assets\n"
     ]
    },
    {
     "name": "stdout",
     "output_type": "stream",
     "text": [
      "Epoch 1/3\n",
      "657/657 [==============================] - 5s 4ms/step - loss: 1.1906 - val_loss: 0.8032\n",
      "Epoch 2/3\n",
      "657/657 [==============================] - 2s 3ms/step - loss: 0.8402 - val_loss: 0.7403\n",
      "Epoch 3/3\n",
      "657/657 [==============================] - 2s 3ms/step - loss: 0.6763 - val_loss: 0.5914\n",
      "221/221 [==============================] - 1s 1ms/step\n",
      "221/221 [==============================] - 1s 977us/step\n"
     ]
    },
    {
     "name": "stderr",
     "output_type": "stream",
     "text": [
      "WARNING:absl:Found untraced functions such as lstm_cell_80_layer_call_fn, lstm_cell_80_layer_call_and_return_conditional_losses, lstm_cell_81_layer_call_fn, lstm_cell_81_layer_call_and_return_conditional_losses while saving (showing 4 of 4). These functions will not be directly callable after loading.\n"
     ]
    },
    {
     "name": "stdout",
     "output_type": "stream",
     "text": [
      "INFO:tensorflow:Assets written to: ram://4176cbcb-ba87-4e9d-8518-15efd5600279/assets\n"
     ]
    },
    {
     "name": "stderr",
     "output_type": "stream",
     "text": [
      "INFO:tensorflow:Assets written to: ram://4176cbcb-ba87-4e9d-8518-15efd5600279/assets\n",
      "WARNING:absl:Found untraced functions such as gru_cell_82_layer_call_fn, gru_cell_82_layer_call_and_return_conditional_losses, gru_cell_83_layer_call_fn, gru_cell_83_layer_call_and_return_conditional_losses while saving (showing 4 of 4). These functions will not be directly callable after loading.\n"
     ]
    },
    {
     "name": "stdout",
     "output_type": "stream",
     "text": [
      "INFO:tensorflow:Assets written to: ram://d41ab440-b2ae-4c9c-a974-078bda2eae4c/assets\n"
     ]
    },
    {
     "name": "stderr",
     "output_type": "stream",
     "text": [
      "INFO:tensorflow:Assets written to: ram://d41ab440-b2ae-4c9c-a974-078bda2eae4c/assets\n"
     ]
    },
    {
     "name": "stdout",
     "output_type": "stream",
     "text": [
      "Epoch 1/3\n",
      "657/657 [==============================] - 4s 4ms/step - loss: 0.9488 - val_loss: 0.7779\n",
      "Epoch 2/3\n",
      "657/657 [==============================] - 2s 3ms/step - loss: 0.6523 - val_loss: 0.5136\n",
      "Epoch 3/3\n",
      "657/657 [==============================] - 2s 3ms/step - loss: 0.4609 - val_loss: 0.3080\n",
      "221/221 [==============================] - 1s 1ms/step\n",
      "221/221 [==============================] - 1s 1ms/step\n"
     ]
    },
    {
     "name": "stderr",
     "output_type": "stream",
     "text": [
      "WARNING:absl:Found untraced functions such as lstm_cell_82_layer_call_fn, lstm_cell_82_layer_call_and_return_conditional_losses, lstm_cell_83_layer_call_fn, lstm_cell_83_layer_call_and_return_conditional_losses while saving (showing 4 of 4). These functions will not be directly callable after loading.\n"
     ]
    },
    {
     "name": "stdout",
     "output_type": "stream",
     "text": [
      "INFO:tensorflow:Assets written to: ram://aa7327e8-280d-4785-8dcc-e545b5390ab6/assets\n"
     ]
    },
    {
     "name": "stderr",
     "output_type": "stream",
     "text": [
      "INFO:tensorflow:Assets written to: ram://aa7327e8-280d-4785-8dcc-e545b5390ab6/assets\n",
      "WARNING:absl:Found untraced functions such as gru_cell_84_layer_call_fn, gru_cell_84_layer_call_and_return_conditional_losses, gru_cell_85_layer_call_fn, gru_cell_85_layer_call_and_return_conditional_losses while saving (showing 4 of 4). These functions will not be directly callable after loading.\n"
     ]
    },
    {
     "name": "stdout",
     "output_type": "stream",
     "text": [
      "INFO:tensorflow:Assets written to: ram://6a0d231f-648e-4710-9783-4765c6f70945/assets\n"
     ]
    },
    {
     "name": "stderr",
     "output_type": "stream",
     "text": [
      "INFO:tensorflow:Assets written to: ram://6a0d231f-648e-4710-9783-4765c6f70945/assets\n"
     ]
    },
    {
     "name": "stdout",
     "output_type": "stream",
     "text": [
      "Epoch 1/3\n",
      "657/657 [==============================] - 4s 3ms/step - loss: 1.1841 - val_loss: 0.8388\n",
      "Epoch 2/3\n",
      "657/657 [==============================] - 2s 3ms/step - loss: 0.8252 - val_loss: 0.7594\n",
      "Epoch 3/3\n",
      "657/657 [==============================] - 2s 3ms/step - loss: 0.6468 - val_loss: 0.5836\n",
      "221/221 [==============================] - 1s 1ms/step\n",
      "221/221 [==============================] - 1s 1ms/step\n"
     ]
    },
    {
     "name": "stderr",
     "output_type": "stream",
     "text": [
      "WARNING:absl:Found untraced functions such as lstm_cell_84_layer_call_fn, lstm_cell_84_layer_call_and_return_conditional_losses, lstm_cell_85_layer_call_fn, lstm_cell_85_layer_call_and_return_conditional_losses while saving (showing 4 of 4). These functions will not be directly callable after loading.\n"
     ]
    },
    {
     "name": "stdout",
     "output_type": "stream",
     "text": [
      "INFO:tensorflow:Assets written to: ram://2980e34e-1eb8-4fbd-9a38-5745fa5beb76/assets\n"
     ]
    },
    {
     "name": "stderr",
     "output_type": "stream",
     "text": [
      "INFO:tensorflow:Assets written to: ram://2980e34e-1eb8-4fbd-9a38-5745fa5beb76/assets\n",
      "WARNING:absl:Found untraced functions such as gru_cell_86_layer_call_fn, gru_cell_86_layer_call_and_return_conditional_losses, gru_cell_87_layer_call_fn, gru_cell_87_layer_call_and_return_conditional_losses while saving (showing 4 of 4). These functions will not be directly callable after loading.\n"
     ]
    },
    {
     "name": "stdout",
     "output_type": "stream",
     "text": [
      "INFO:tensorflow:Assets written to: ram://7a3fa311-12b0-40c7-bc69-2fcdfd587806/assets\n"
     ]
    },
    {
     "name": "stderr",
     "output_type": "stream",
     "text": [
      "INFO:tensorflow:Assets written to: ram://7a3fa311-12b0-40c7-bc69-2fcdfd587806/assets\n"
     ]
    },
    {
     "name": "stdout",
     "output_type": "stream",
     "text": [
      "Epoch 1/3\n",
      "657/657 [==============================] - 5s 5ms/step - loss: 0.9648 - val_loss: 0.7788\n",
      "Epoch 2/3\n",
      "657/657 [==============================] - 2s 3ms/step - loss: 0.6323 - val_loss: 0.4789\n",
      "Epoch 3/3\n",
      "657/657 [==============================] - 2s 3ms/step - loss: 0.4166 - val_loss: 0.3240\n",
      "221/221 [==============================] - 1s 1ms/step\n",
      "221/221 [==============================] - 1s 1ms/step\n"
     ]
    },
    {
     "name": "stderr",
     "output_type": "stream",
     "text": [
      "WARNING:absl:Found untraced functions such as lstm_cell_86_layer_call_fn, lstm_cell_86_layer_call_and_return_conditional_losses, lstm_cell_87_layer_call_fn, lstm_cell_87_layer_call_and_return_conditional_losses while saving (showing 4 of 4). These functions will not be directly callable after loading.\n"
     ]
    },
    {
     "name": "stdout",
     "output_type": "stream",
     "text": [
      "INFO:tensorflow:Assets written to: ram://9a93bd37-f3f2-478d-bf63-5ed487dd1d7b/assets\n"
     ]
    },
    {
     "name": "stderr",
     "output_type": "stream",
     "text": [
      "INFO:tensorflow:Assets written to: ram://9a93bd37-f3f2-478d-bf63-5ed487dd1d7b/assets\n",
      "WARNING:absl:Found untraced functions such as gru_cell_88_layer_call_fn, gru_cell_88_layer_call_and_return_conditional_losses, gru_cell_89_layer_call_fn, gru_cell_89_layer_call_and_return_conditional_losses while saving (showing 4 of 4). These functions will not be directly callable after loading.\n"
     ]
    },
    {
     "name": "stdout",
     "output_type": "stream",
     "text": [
      "INFO:tensorflow:Assets written to: ram://cbcc7c09-8cdb-44f4-b033-9a28384965bd/assets\n"
     ]
    },
    {
     "name": "stderr",
     "output_type": "stream",
     "text": [
      "INFO:tensorflow:Assets written to: ram://cbcc7c09-8cdb-44f4-b033-9a28384965bd/assets\n"
     ]
    },
    {
     "name": "stdout",
     "output_type": "stream",
     "text": [
      "Epoch 1/3\n",
      "657/657 [==============================] - 5s 3ms/step - loss: 1.2272 - val_loss: 0.8186\n",
      "Epoch 2/3\n",
      "657/657 [==============================] - 2s 3ms/step - loss: 0.8634 - val_loss: 0.7798\n",
      "Epoch 3/3\n",
      "657/657 [==============================] - 2s 3ms/step - loss: 0.6952 - val_loss: 0.6523\n",
      "221/221 [==============================] - 1s 1ms/step\n",
      "221/221 [==============================] - 1s 1ms/step\n"
     ]
    },
    {
     "name": "stderr",
     "output_type": "stream",
     "text": [
      "WARNING:absl:Found untraced functions such as lstm_cell_88_layer_call_fn, lstm_cell_88_layer_call_and_return_conditional_losses, lstm_cell_89_layer_call_fn, lstm_cell_89_layer_call_and_return_conditional_losses while saving (showing 4 of 4). These functions will not be directly callable after loading.\n"
     ]
    },
    {
     "name": "stdout",
     "output_type": "stream",
     "text": [
      "INFO:tensorflow:Assets written to: ram://e7eeca4a-76ff-4f4b-ba31-3716f4f8715c/assets\n"
     ]
    },
    {
     "name": "stderr",
     "output_type": "stream",
     "text": [
      "INFO:tensorflow:Assets written to: ram://e7eeca4a-76ff-4f4b-ba31-3716f4f8715c/assets\n",
      "WARNING:absl:Found untraced functions such as gru_cell_90_layer_call_fn, gru_cell_90_layer_call_and_return_conditional_losses, gru_cell_91_layer_call_fn, gru_cell_91_layer_call_and_return_conditional_losses while saving (showing 4 of 4). These functions will not be directly callable after loading.\n"
     ]
    },
    {
     "name": "stdout",
     "output_type": "stream",
     "text": [
      "INFO:tensorflow:Assets written to: ram://d9373f78-a863-4829-ac58-523052a46669/assets\n"
     ]
    },
    {
     "name": "stderr",
     "output_type": "stream",
     "text": [
      "INFO:tensorflow:Assets written to: ram://d9373f78-a863-4829-ac58-523052a46669/assets\n"
     ]
    },
    {
     "name": "stdout",
     "output_type": "stream",
     "text": [
      "Epoch 1/3\n",
      "657/657 [==============================] - 4s 4ms/step - loss: 0.9938 - val_loss: 0.8186\n",
      "Epoch 2/3\n",
      "657/657 [==============================] - 2s 3ms/step - loss: 0.6681 - val_loss: 0.5769\n",
      "Epoch 3/3\n",
      "657/657 [==============================] - 2s 3ms/step - loss: 0.4742 - val_loss: 0.3836\n",
      "221/221 [==============================] - 1s 1ms/step\n",
      "221/221 [==============================] - 1s 978us/step\n"
     ]
    },
    {
     "name": "stderr",
     "output_type": "stream",
     "text": [
      "WARNING:absl:Found untraced functions such as lstm_cell_90_layer_call_fn, lstm_cell_90_layer_call_and_return_conditional_losses, lstm_cell_91_layer_call_fn, lstm_cell_91_layer_call_and_return_conditional_losses while saving (showing 4 of 4). These functions will not be directly callable after loading.\n"
     ]
    },
    {
     "name": "stdout",
     "output_type": "stream",
     "text": [
      "INFO:tensorflow:Assets written to: ram://a1aadeaa-df2d-4e1b-8f00-24a93d2329d9/assets\n"
     ]
    },
    {
     "name": "stderr",
     "output_type": "stream",
     "text": [
      "INFO:tensorflow:Assets written to: ram://a1aadeaa-df2d-4e1b-8f00-24a93d2329d9/assets\n",
      "WARNING:absl:Found untraced functions such as gru_cell_92_layer_call_fn, gru_cell_92_layer_call_and_return_conditional_losses, gru_cell_93_layer_call_fn, gru_cell_93_layer_call_and_return_conditional_losses while saving (showing 4 of 4). These functions will not be directly callable after loading.\n"
     ]
    },
    {
     "name": "stdout",
     "output_type": "stream",
     "text": [
      "INFO:tensorflow:Assets written to: ram://90500ec9-ee14-47b9-9165-5e261bccf4bc/assets\n"
     ]
    },
    {
     "name": "stderr",
     "output_type": "stream",
     "text": [
      "INFO:tensorflow:Assets written to: ram://90500ec9-ee14-47b9-9165-5e261bccf4bc/assets\n"
     ]
    },
    {
     "name": "stdout",
     "output_type": "stream",
     "text": [
      "Epoch 1/3\n",
      "657/657 [==============================] - 4s 4ms/step - loss: 1.2210 - val_loss: 0.8586\n",
      "Epoch 2/3\n",
      "657/657 [==============================] - 2s 3ms/step - loss: 0.8474 - val_loss: 0.8078\n",
      "Epoch 3/3\n",
      "657/657 [==============================] - 2s 3ms/step - loss: 0.6703 - val_loss: 0.6569\n",
      "221/221 [==============================] - 1s 1ms/step\n",
      "221/221 [==============================] - 1s 1ms/step\n"
     ]
    },
    {
     "name": "stderr",
     "output_type": "stream",
     "text": [
      "WARNING:absl:Found untraced functions such as lstm_cell_92_layer_call_fn, lstm_cell_92_layer_call_and_return_conditional_losses, lstm_cell_93_layer_call_fn, lstm_cell_93_layer_call_and_return_conditional_losses while saving (showing 4 of 4). These functions will not be directly callable after loading.\n"
     ]
    },
    {
     "name": "stdout",
     "output_type": "stream",
     "text": [
      "INFO:tensorflow:Assets written to: ram://573ad88b-a38a-4887-8f27-1f90059a725e/assets\n"
     ]
    },
    {
     "name": "stderr",
     "output_type": "stream",
     "text": [
      "INFO:tensorflow:Assets written to: ram://573ad88b-a38a-4887-8f27-1f90059a725e/assets\n",
      "WARNING:absl:Found untraced functions such as gru_cell_94_layer_call_fn, gru_cell_94_layer_call_and_return_conditional_losses, gru_cell_95_layer_call_fn, gru_cell_95_layer_call_and_return_conditional_losses while saving (showing 4 of 4). These functions will not be directly callable after loading.\n"
     ]
    },
    {
     "name": "stdout",
     "output_type": "stream",
     "text": [
      "INFO:tensorflow:Assets written to: ram://48a55c35-6438-4ce5-bc2c-9b6349bf10df/assets\n"
     ]
    },
    {
     "name": "stderr",
     "output_type": "stream",
     "text": [
      "INFO:tensorflow:Assets written to: ram://48a55c35-6438-4ce5-bc2c-9b6349bf10df/assets\n"
     ]
    },
    {
     "name": "stdout",
     "output_type": "stream",
     "text": [
      "Epoch 1/3\n",
      "657/657 [==============================] - 4s 4ms/step - loss: 1.0209 - val_loss: 0.8278\n",
      "Epoch 2/3\n",
      "657/657 [==============================] - 2s 3ms/step - loss: 0.6567 - val_loss: 0.5494\n",
      "Epoch 3/3\n",
      "657/657 [==============================] - 2s 3ms/step - loss: 0.4322 - val_loss: 0.3515\n",
      "221/221 [==============================] - 1s 1ms/step\n",
      "221/221 [==============================] - 1s 1ms/step\n"
     ]
    },
    {
     "name": "stderr",
     "output_type": "stream",
     "text": [
      "WARNING:absl:Found untraced functions such as lstm_cell_94_layer_call_fn, lstm_cell_94_layer_call_and_return_conditional_losses, lstm_cell_95_layer_call_fn, lstm_cell_95_layer_call_and_return_conditional_losses while saving (showing 4 of 4). These functions will not be directly callable after loading.\n"
     ]
    },
    {
     "name": "stdout",
     "output_type": "stream",
     "text": [
      "INFO:tensorflow:Assets written to: ram://51e4a72c-9c94-450f-a792-77de8e777415/assets\n"
     ]
    },
    {
     "name": "stderr",
     "output_type": "stream",
     "text": [
      "INFO:tensorflow:Assets written to: ram://51e4a72c-9c94-450f-a792-77de8e777415/assets\n",
      "WARNING:absl:Found untraced functions such as gru_cell_96_layer_call_fn, gru_cell_96_layer_call_and_return_conditional_losses, gru_cell_97_layer_call_fn, gru_cell_97_layer_call_and_return_conditional_losses while saving (showing 4 of 4). These functions will not be directly callable after loading.\n"
     ]
    },
    {
     "name": "stdout",
     "output_type": "stream",
     "text": [
      "INFO:tensorflow:Assets written to: ram://3b2fd6cd-38d3-494f-80a9-da78fd76027e/assets\n"
     ]
    },
    {
     "name": "stderr",
     "output_type": "stream",
     "text": [
      "INFO:tensorflow:Assets written to: ram://3b2fd6cd-38d3-494f-80a9-da78fd76027e/assets\n"
     ]
    },
    {
     "name": "stdout",
     "output_type": "stream",
     "text": [
      "Epoch 1/3\n",
      "657/657 [==============================] - 5s 4ms/step - loss: 0.9797 - val_loss: 0.8359\n",
      "Epoch 2/3\n",
      "657/657 [==============================] - 2s 3ms/step - loss: 0.7313 - val_loss: 0.6702\n",
      "Epoch 3/3\n",
      "657/657 [==============================] - 2s 3ms/step - loss: 0.5681 - val_loss: 0.4915\n",
      "221/221 [==============================] - 1s 1ms/step\n",
      "221/221 [==============================] - 1s 1ms/step\n"
     ]
    },
    {
     "name": "stderr",
     "output_type": "stream",
     "text": [
      "WARNING:absl:Found untraced functions such as lstm_cell_96_layer_call_fn, lstm_cell_96_layer_call_and_return_conditional_losses, lstm_cell_97_layer_call_fn, lstm_cell_97_layer_call_and_return_conditional_losses while saving (showing 4 of 4). These functions will not be directly callable after loading.\n"
     ]
    },
    {
     "name": "stdout",
     "output_type": "stream",
     "text": [
      "INFO:tensorflow:Assets written to: ram://9a8cb1a1-8cf6-44a1-b9b4-9d561a8a2b54/assets\n"
     ]
    },
    {
     "name": "stderr",
     "output_type": "stream",
     "text": [
      "INFO:tensorflow:Assets written to: ram://9a8cb1a1-8cf6-44a1-b9b4-9d561a8a2b54/assets\n",
      "WARNING:absl:Found untraced functions such as gru_cell_98_layer_call_fn, gru_cell_98_layer_call_and_return_conditional_losses, gru_cell_99_layer_call_fn, gru_cell_99_layer_call_and_return_conditional_losses while saving (showing 4 of 4). These functions will not be directly callable after loading.\n"
     ]
    },
    {
     "name": "stdout",
     "output_type": "stream",
     "text": [
      "INFO:tensorflow:Assets written to: ram://8b39c2c3-3b1e-4e94-b0a7-da7a1b7e0f83/assets\n"
     ]
    },
    {
     "name": "stderr",
     "output_type": "stream",
     "text": [
      "INFO:tensorflow:Assets written to: ram://8b39c2c3-3b1e-4e94-b0a7-da7a1b7e0f83/assets\n"
     ]
    },
    {
     "name": "stdout",
     "output_type": "stream",
     "text": [
      "Epoch 1/3\n",
      "657/657 [==============================] - 4s 4ms/step - loss: 0.9055 - val_loss: 0.7100\n",
      "Epoch 2/3\n",
      "657/657 [==============================] - 2s 3ms/step - loss: 0.5907 - val_loss: 0.4449\n",
      "Epoch 3/3\n",
      "657/657 [==============================] - 2s 3ms/step - loss: 0.3859 - val_loss: 0.2904\n",
      "221/221 [==============================] - 1s 1ms/step\n",
      "221/221 [==============================] - 1s 1ms/step\n"
     ]
    },
    {
     "name": "stderr",
     "output_type": "stream",
     "text": [
      "WARNING:absl:Found untraced functions such as lstm_cell_98_layer_call_fn, lstm_cell_98_layer_call_and_return_conditional_losses, lstm_cell_99_layer_call_fn, lstm_cell_99_layer_call_and_return_conditional_losses while saving (showing 4 of 4). These functions will not be directly callable after loading.\n"
     ]
    },
    {
     "name": "stdout",
     "output_type": "stream",
     "text": [
      "INFO:tensorflow:Assets written to: ram://eab0f98f-09f5-47f1-9bb4-a0b27e5cd4cc/assets\n"
     ]
    },
    {
     "name": "stderr",
     "output_type": "stream",
     "text": [
      "INFO:tensorflow:Assets written to: ram://eab0f98f-09f5-47f1-9bb4-a0b27e5cd4cc/assets\n",
      "WARNING:absl:Found untraced functions such as gru_cell_100_layer_call_fn, gru_cell_100_layer_call_and_return_conditional_losses, gru_cell_101_layer_call_fn, gru_cell_101_layer_call_and_return_conditional_losses while saving (showing 4 of 4). These functions will not be directly callable after loading.\n"
     ]
    },
    {
     "name": "stdout",
     "output_type": "stream",
     "text": [
      "INFO:tensorflow:Assets written to: ram://9d3b5c30-5748-422f-acb3-0b36aec7e994/assets\n"
     ]
    },
    {
     "name": "stderr",
     "output_type": "stream",
     "text": [
      "INFO:tensorflow:Assets written to: ram://9d3b5c30-5748-422f-acb3-0b36aec7e994/assets\n"
     ]
    },
    {
     "name": "stdout",
     "output_type": "stream",
     "text": [
      "Epoch 1/3\n",
      "657/657 [==============================] - 4s 4ms/step - loss: 0.9795 - val_loss: 0.8497\n",
      "Epoch 2/3\n",
      "657/657 [==============================] - 2s 3ms/step - loss: 0.7149 - val_loss: 0.6427\n",
      "Epoch 3/3\n",
      "657/657 [==============================] - 2s 3ms/step - loss: 0.5172 - val_loss: 0.4236\n",
      "221/221 [==============================] - 2s 1ms/step\n",
      "221/221 [==============================] - 1s 1ms/step\n"
     ]
    },
    {
     "name": "stderr",
     "output_type": "stream",
     "text": [
      "WARNING:absl:Found untraced functions such as lstm_cell_100_layer_call_fn, lstm_cell_100_layer_call_and_return_conditional_losses, lstm_cell_101_layer_call_fn, lstm_cell_101_layer_call_and_return_conditional_losses while saving (showing 4 of 4). These functions will not be directly callable after loading.\n"
     ]
    },
    {
     "name": "stdout",
     "output_type": "stream",
     "text": [
      "INFO:tensorflow:Assets written to: ram://72060989-7fd3-4c8d-b76e-474381b5d7ac/assets\n"
     ]
    },
    {
     "name": "stderr",
     "output_type": "stream",
     "text": [
      "INFO:tensorflow:Assets written to: ram://72060989-7fd3-4c8d-b76e-474381b5d7ac/assets\n",
      "WARNING:absl:Found untraced functions such as gru_cell_102_layer_call_fn, gru_cell_102_layer_call_and_return_conditional_losses, gru_cell_103_layer_call_fn, gru_cell_103_layer_call_and_return_conditional_losses while saving (showing 4 of 4). These functions will not be directly callable after loading.\n"
     ]
    },
    {
     "name": "stdout",
     "output_type": "stream",
     "text": [
      "INFO:tensorflow:Assets written to: ram://2f8d8acf-a768-4fab-960b-0233f18d6ab3/assets\n"
     ]
    },
    {
     "name": "stderr",
     "output_type": "stream",
     "text": [
      "INFO:tensorflow:Assets written to: ram://2f8d8acf-a768-4fab-960b-0233f18d6ab3/assets\n"
     ]
    },
    {
     "name": "stdout",
     "output_type": "stream",
     "text": [
      "Epoch 1/3\n",
      "657/657 [==============================] - 4s 4ms/step - loss: 0.8958 - val_loss: 0.6730\n",
      "Epoch 2/3\n",
      "657/657 [==============================] - 2s 3ms/step - loss: 0.5237 - val_loss: 0.3613\n",
      "Epoch 3/3\n",
      "657/657 [==============================] - 2s 3ms/step - loss: 0.3049 - val_loss: 0.2376\n",
      "221/221 [==============================] - 1s 1ms/step\n",
      "221/221 [==============================] - 1s 1ms/step\n"
     ]
    },
    {
     "name": "stderr",
     "output_type": "stream",
     "text": [
      "WARNING:absl:Found untraced functions such as lstm_cell_102_layer_call_fn, lstm_cell_102_layer_call_and_return_conditional_losses, lstm_cell_103_layer_call_fn, lstm_cell_103_layer_call_and_return_conditional_losses while saving (showing 4 of 4). These functions will not be directly callable after loading.\n"
     ]
    },
    {
     "name": "stdout",
     "output_type": "stream",
     "text": [
      "INFO:tensorflow:Assets written to: ram://366bd727-3484-477f-8921-9a979ec9dffd/assets\n"
     ]
    },
    {
     "name": "stderr",
     "output_type": "stream",
     "text": [
      "INFO:tensorflow:Assets written to: ram://366bd727-3484-477f-8921-9a979ec9dffd/assets\n",
      "WARNING:absl:Found untraced functions such as gru_cell_104_layer_call_fn, gru_cell_104_layer_call_and_return_conditional_losses, gru_cell_105_layer_call_fn, gru_cell_105_layer_call_and_return_conditional_losses while saving (showing 4 of 4). These functions will not be directly callable after loading.\n"
     ]
    },
    {
     "name": "stdout",
     "output_type": "stream",
     "text": [
      "INFO:tensorflow:Assets written to: ram://dbd66b46-2b54-4d09-ad61-b2581b88cff1/assets\n"
     ]
    },
    {
     "name": "stderr",
     "output_type": "stream",
     "text": [
      "INFO:tensorflow:Assets written to: ram://dbd66b46-2b54-4d09-ad61-b2581b88cff1/assets\n"
     ]
    },
    {
     "name": "stdout",
     "output_type": "stream",
     "text": [
      "Epoch 1/3\n",
      "657/657 [==============================] - 5s 4ms/step - loss: 1.1000 - val_loss: 0.8174\n",
      "Epoch 2/3\n",
      "657/657 [==============================] - 2s 3ms/step - loss: 0.7904 - val_loss: 0.6862\n",
      "Epoch 3/3\n",
      "657/657 [==============================] - 2s 3ms/step - loss: 0.6475 - val_loss: 0.5429\n"
     ]
    }
   ],
   "source": [
    "for seed in seeds:\n",
    "    for columns in features:\n",
    "        for params_idx, params in enumerate(params_rnn):\n",
    "            \n",
    "            set_determinism(seed)\n",
    "\n",
    "            traning_set_rnn, validation_set_rnn = build_dataset_for_ml_model(df, training_columns=features[columns])\n",
    "            X_train_rnn, y_train_rnn = create_dataset_3D(traning_set_rnn[:, :-1], \n",
    "                                                         traning_set_rnn[:, -1], \n",
    "                                                         params[\"time_steps\"])\n",
    "            X_val_rnn, y_val_rnn = create_dataset_3D(validation_set_rnn[:, :-1], \n",
    "                                                     validation_set_rnn[:, -1],   \n",
    "                                                     params[\"time_steps\"])\n",
    "            counts_rnn = pd.Series(tr_sw_r).value_counts(normalize=True)\n",
    "            class_weight_rnn = {0: 1/counts_rnn[0], 1: 1/counts_rnn[1]}\n",
    "            \n",
    "            model_gru = create_model_cl(params[\"units\"], keras.layers.GRU, X_train_rnn, learning_rate)\n",
    "            early_stop = keras.callbacks.EarlyStopping(monitor='val_loss',\n",
    "                                                       patience=patience)\n",
    "            history_gru = model_gru.fit(X_train_rnn, y_train_rnn, epochs=epochs,\n",
    "                                        class_weight=class_weight_rnn,\n",
    "                                        validation_split=validation_split, batch_size=batch_size,\n",
    "                                        shuffle=False, callbacks=[early_stop])\n",
    "            \n",
    "            model_lstm = create_model_cl(params[\"units\"], keras.layers.LSTM, X_train_rnn, learning_rate)\n",
    "            early_stop = keras.callbacks.EarlyStopping(monitor='val_loss',\n",
    "                                                       patience=patience)\n",
    "            history_lstm = model_lstm.fit(X_train_rnn, y_train_rnn, epochs=epochs,\n",
    "                                          class_weight=class_weight_rnn,\n",
    "                                          validation_split=validation_split, batch_size=batch_size,\n",
    "                                          shuffle=False, callbacks=[early_stop], verbose=0)\n",
    "            \n",
    "            preds_lstm = model_lstm.predict(X_val_rnn).ravel()\n",
    "            preds_gru = model_gru.predict(X_val_rnn).ravel()\n",
    "            \n",
    "            signal_lstm = pd.Series(data=(1 - preds_lstm))\n",
    "            rul_lstm = y_val_rnn\n",
    "            signal_gru = pd.Series(data=(1 - preds_gru))\n",
    "            rul_gru = y_val_rnn\n",
    "            \n",
    "            best_cost_lstm, best_thr_lstm, all_cost_lstm, all_thr_lstm = threshold_optimization(signal_lstm, rul_lstm, start=0, end=signal_lstm.max(), n_steps=200)\n",
    "            best_cost_gru, best_thr_gru, all_cost_gru, all_thr_gru = threshold_optimization(signal_gru, rul_gru, start=0, end=signal_gru.max(), n_steps=200)\n",
    "            \n",
    "            perf_lstm = performance_evaluation(signal_lstm, best_thr_lstm, rul_lstm)\n",
    "            perf_gru = performance_evaluation(signal_gru, best_thr_gru, rul_gru)\n",
    "            all_perf.append([\"lstm\", seed, columns, params] + perf_lstm)  \n",
    "            all_perf.append([\"gru\", seed, columns, params] + perf_gru)\n",
    "            \n",
    "            serialize_perf(\"lstm\", seed=seed, columns_name=columns, training_columns=features[columns], \n",
    "                           params=params, params_idx=params_idx, history=history_lstm, best_cost=best_cost_lstm, best_thr=best_thr_lstm, \n",
    "                           all_cost=all_cost_lstm, all_thr=all_thr_lstm, perf=perf_lstm)\n",
    "            \n",
    "            serialize_perf(\"gru\", seed=seed, columns_name=columns, training_columns=features[columns], \n",
    "                           params=params, params_idx=params_idx, history=history_gru, best_cost=best_cost_gru, best_thr=best_thr_gru, \n",
    "                           all_cost=all_cost_gru, all_thr=all_thr_gru, perf=perf_gru)"
   ]
  },
  {
   "cell_type": "markdown",
   "id": "b435c370",
   "metadata": {},
   "source": [
    "## RUL estimation with Recurrent Neural Networks (BiLSTM)"
   ]
  },
  {
   "cell_type": "code",
   "execution_count": null,
   "id": "8b128c9e",
   "metadata": {},
   "outputs": [],
   "source": [
    "def create_model_bilstm_cl(units, X_train, lr):\n",
    "    model = keras.Sequential()\n",
    "    model.add(keras.layers.Bidirectional(keras.layers.LSTM(units=units,                             \n",
    "              return_sequences=True),\n",
    "              input_shape=(X_train.shape[1], X_train.shape[2])))\n",
    "    model.add(keras.layers.Bidirectional(keras.layers.LSTM(units=units)))\n",
    "    model.add(keras.layers.Dense(1, activation=\"sigmoid\"))\n",
    "    model.compile(loss='binary_crossentropy', \n",
    "                  optimizer=keras.optimizers.Adam(learning_rate=lr))\n",
    "    return model"
   ]
  },
  {
   "cell_type": "code",
   "execution_count": null,
   "id": "47b1f9a3",
   "metadata": {},
   "outputs": [],
   "source": [
    "params_params_bilstm = [{\"time_steps\": 5, \"units\": 64},\n",
    "                        {\"time_steps\": 5, \"units\": 128},\n",
    "                        {\"time_steps\": 10, \"units\": 64},\n",
    "                        {\"time_steps\": 10, \"units\": 128}]"
   ]
  },
  {
   "cell_type": "code",
   "execution_count": null,
   "id": "dc3bf177",
   "metadata": {},
   "outputs": [],
   "source": [
    "for seed in seeds:\n",
    "    for columns in features:\n",
    "        for params_idx, params in enumerate(params_bilstm):\n",
    "            \n",
    "            set_determinism(seed)\n",
    "\n",
    "            traning_set_bilstm, validation_set_bilstm = build_dataset_for_ml_model(df, training_columns=features[columns])\n",
    "            X_train_bilstm, y_train_bilstm = create_dataset_3D(traning_set_bilstm[:, :-1], \n",
    "                                                               traning_set_bilstm[:, -1], \n",
    "                                                               params[\"time_steps\"])\n",
    "            X_val_bilstm, y_val_bilstm = create_dataset_3D(validation_set_bilstm[:, :-1], \n",
    "                                                           validation_set_bilstm[:, -1],   \n",
    "                                                           params[\"time_steps\"])\n",
    "            counts_bilstm = pd.Series(tr_sw_r).value_counts(normalize=True)\n",
    "            class_weight_bilstm = {0: 1/counts_bilstm[0], 1: 1/counts_bilstm[1]}\n",
    "            model_bilstm = create_model_bilstm_cl(params_bilstm[\"units\"], X_train_bilstm, learning_rate)\n",
    "            early_stop = keras.callbacks.EarlyStopping(monitor='val_loss',\n",
    "                                                       patience=patience)\n",
    "            history_bilstm = model_bilstm.fit(X_train_bilstm, y_train_bilstm, epochs=epochs,\n",
    "                                              class_weight=class_weight_bilstm,\n",
    "                                              validation_split=validation_split, batch_size=batch_size,\n",
    "                                              shuffle=False, callbacks=[early_stop], verbose=0)\n",
    "            \n",
    "            preds_bilstm = model_bilstm.predict(X_val_bilstm).ravel()\n",
    "            \n",
    "            signal_bilstm = pd.Series(data=(1 - preds_bilstm))\n",
    "            rul_bilstm = y_val_bilstm\n",
    "\n",
    "            best_cost_bilstm, best_thr_bilstm, all_cost_bilstm, all_thr_bilstm = threshold_optimization(signal_bilstm, rul_bilstm, start=0, end=signal_bilstm.max(), n_steps=200)\n",
    "            \n",
    "            perf_bilstm = performance_evaluation(signal_bilstm, best_thr_bilstm, rul_bilstm)\n",
    "            all_perf.append([\"bilstm\", seed, columns, params] + perf_bilstm)\n",
    "            \n",
    "            serialize_perf(\"bilstm\", seed=seed, columns_name=columns, training_columns=features[columns], \n",
    "                           params=params, params_idx=params_idx, history=history_bilstm, best_cost=best_cost_bilstm, best_thr=best_thr_bilstm, \n",
    "                           all_cost=all_cost_bilstm, all_thr=all_thr_bilstm, perf=perf_bilstm)"
   ]
  },
  {
   "cell_type": "markdown",
   "id": "58c74558",
   "metadata": {},
   "source": [
    "## Analysis over the validation set"
   ]
  },
  {
   "cell_type": "code",
   "execution_count": null,
   "id": "1a33c3a2",
   "metadata": {},
   "outputs": [],
   "source": [
    "df_res = pd.DataFrame(all_perf, columns=[\"model\", \"sees\", \"columns\", \"params\", \"cost\", \"anticipation\", \"detected_faults\", \"missed_faults\", \"false_alarms\"])\n",
    "df_res.to_csv(\"training_summary.csv\")\n",
    "df_res"
   ]
  }
 ],
 "metadata": {
  "kernelspec": {
   "display_name": "Python 3",
   "language": "python",
   "name": "python3"
  },
  "language_info": {
   "codemirror_mode": {
    "name": "ipython",
    "version": 3
   },
   "file_extension": ".py",
   "mimetype": "text/x-python",
   "name": "python",
   "nbconvert_exporter": "python",
   "pygments_lexer": "ipython3",
   "version": "3.8.10"
  }
 },
 "nbformat": 4,
 "nbformat_minor": 5
}
